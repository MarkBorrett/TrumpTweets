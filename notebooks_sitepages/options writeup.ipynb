{
 "cells": [
  {
   "cell_type": "markdown",
   "metadata": {},
   "source": [
    "Let's assume asset **returns** follow a normal distribution.\n",
    "\n",
    "More specifically, let's assume prices follow a log-normal distribution, which means that **log-prices follow a normal distribution**. We can describe this evolution of prices as a Geometric Brownian Motion.\n",
    "\n",
    "$$\\frac{dS_t}{S_t} = \\mu dt + \\sigma dW_t$$ \n",
    "\n",
    "Where $S_t$ is the underlying, $\\sigma$ is the **volatility**, and $W_t$ is a Brownian Motion. A Brownian Motion is a continuous stochastic process that has independent, normally distributed increments.\n",
    "\n",
    "You can prove that the solution to this equation is [1]:\n",
    "\n",
    "$$S_t=S_0\\exp \\left(\\left(\\mu -{\\frac {\\sigma ^{2}}{2}}\\right)t+\\sigma W_{t}\\right) \\Rightarrow \\ln {\\frac {S_{t}}{S_{0}}}=\\left(\\mu -{\\frac {\\sigma ^{2}}{2}}\\,\\right)t+\\sigma W_{t}, \\;\\;\\; W_t \\sim N(0,t)$$\n",
    "\n",
    "So log-returns from time 0 to time t are normally distributed with variance $\\sigma^2 t$. This is called the **Black-Scholes** model.\n",
    "\n",
    "If you assume that asset prices follow the process above, you can prove that there's a closed form solution for a call option fair price:\n",
    "\n",
    "$$c(S_t) = E[(S_t - 0)^+]=f(S_t, \\sigma, t, K, r)$$\n",
    "\n",
    "Where $S_t$ is the underlying, $\\sigma$ is the volatility K is the option's strike, t is the time to expiration, and r is the risk-free interest rate.\n",
    "\n",
    "Importantly for us, given everything else fixed, **we have a one-to-one relationship between an option's price and its volatility** $\\sigma$.\n",
    "\n",
    "So, what does a \"fair\" option price mean? Consider $\\Delta = \\frac{d C}{d S_t}$, the derivative of the call price with respect to the underlying price, or the **delta**. You can build a hedged portfolio: $C(S_t) - \\Delta S_t$\n",
    "\n",
    "Options prices are a convex function of $S_t$. This means that, all else equal, our hedged porfolio will always make money, whether the underlying goes up or down! You can see that in the below above, to the left.\n",
    "\n",
    "In reality, time moves as the underlying's price moves, and time pushes the option price towards its terminal value. Again look at the picture below, on the left.\n",
    "\n",
    "You can prove that, if the underlying follows a geometric brownian motion as above, with a fixed volatility $\\sigma$, and if you hedge at every instant, updating your delta, you will obtain the option price above with probability one! In other words, the price of the call is fair, as you can replicate it by dynamically trading the underlying. You are capturing the convexity of the call price, or $\\Gamma = \\frac{d^2 C}{d S_t^2}$, the **gamma**. This is what the image on the right represents.\n",
    "\n",
    "This result can generalize to much more complicated stochastic processes, and is part of a result know as the Fundamental Theorem of Asset Pricing. For an in-depth discussion, see [2]\n"
   ]
  }
 ],
 "metadata": {
  "kernelspec": {
   "display_name": "Python 3",
   "language": "python",
   "name": "python3"
  },
  "language_info": {
   "codemirror_mode": {
    "name": "ipython",
    "version": 3
   },
   "file_extension": ".py",
   "mimetype": "text/x-python",
   "name": "python",
   "nbconvert_exporter": "python",
   "pygments_lexer": "ipython3",
   "version": "3.7.4"
  }
 },
 "nbformat": 4,
 "nbformat_minor": 2
}
