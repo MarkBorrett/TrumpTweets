{
 "cells": [
  {
   "cell_type": "markdown",
   "metadata": {},
   "source": [
    "https://github.com/QuantCS109/TrumpTweets/blob/master/notebooks_features/text_features.ipynb\n"
   ]
  },
  {
   "cell_type": "markdown",
   "metadata": {},
   "source": [
    "# Overview"
   ]
  },
  {
   "cell_type": "markdown",
   "metadata": {},
   "source": [
    "\n",
    "This notebook uses the 'TextFeaturesGenerator' class (from text_features) to convert textual data into quantitaive data. \n",
    "\n",
    "It creates a bag-of-words representation and a tf-idf representation. It also creates SVD/PCA components of these matrices."
   ]
  },
  {
   "cell_type": "code",
   "execution_count": 47,
   "metadata": {
    "pycharm": {
     "is_executing": true,
     "name": "#%%\n"
    }
   },
   "outputs": [],
   "source": [
    "import sys\n",
    "sys.path.append('..') #to add top-level to path\n",
    "\n",
    "from modules.text_features import TextFeaturesGenerator\n",
    "from modules.project_helper import TweetData\n",
    "import pandas as pd\n",
    "import numpy as np\n",
    "from datetime import timedelta  \n",
    "import datetime\n",
    "import matplotlib.pyplot as plt"
   ]
  },
  {
   "cell_type": "markdown",
   "metadata": {},
   "source": [
    "Reusing the TweetData class to get cleaned tweets."
   ]
  },
  {
   "cell_type": "code",
   "execution_count": 2,
   "metadata": {
    "pycharm": {
     "is_executing": false
    }
   },
   "outputs": [
    {
     "data": {
      "text/html": [
       "<div>\n",
       "<style scoped>\n",
       "    .dataframe tbody tr th:only-of-type {\n",
       "        vertical-align: middle;\n",
       "    }\n",
       "\n",
       "    .dataframe tbody tr th {\n",
       "        vertical-align: top;\n",
       "    }\n",
       "\n",
       "    .dataframe thead th {\n",
       "        text-align: right;\n",
       "    }\n",
       "</style>\n",
       "<table border=\"1\" class=\"dataframe\">\n",
       "  <thead>\n",
       "    <tr style=\"text-align: right;\">\n",
       "      <th></th>\n",
       "      <th>tweets</th>\n",
       "      <th>timestamp</th>\n",
       "      <th>after4_date</th>\n",
       "    </tr>\n",
       "    <tr>\n",
       "      <th>timestamp</th>\n",
       "      <th></th>\n",
       "      <th></th>\n",
       "      <th></th>\n",
       "    </tr>\n",
       "  </thead>\n",
       "  <tbody>\n",
       "    <tr>\n",
       "      <th>2019-11-17 19:57:12-06:00</th>\n",
       "      <td>tell jennifer williams whoever that is to read...</td>\n",
       "      <td>2019-11-17 19:57:12-06:00</td>\n",
       "      <td>2019-11-18</td>\n",
       "    </tr>\n",
       "    <tr>\n",
       "      <th>2019-11-17 19:56:02-06:00</th>\n",
       "      <td></td>\n",
       "      <td>2019-11-17 19:56:02-06:00</td>\n",
       "      <td>2019-11-18</td>\n",
       "    </tr>\n",
       "    <tr>\n",
       "      <th>2019-11-17 19:49:47-06:00</th>\n",
       "      <td>paul krugman of has been wrong about me from t...</td>\n",
       "      <td>2019-11-17 19:49:47-06:00</td>\n",
       "      <td>2019-11-18</td>\n",
       "    </tr>\n",
       "    <tr>\n",
       "      <th>2019-11-17 19:47:32-06:00</th>\n",
       "      <td>schiff is a corrupt politician</td>\n",
       "      <td>2019-11-17 19:47:32-06:00</td>\n",
       "      <td>2019-11-18</td>\n",
       "    </tr>\n",
       "    <tr>\n",
       "      <th>2019-11-17 19:30:09-06:00</th>\n",
       "      <td>blew the nasty amp obnoxious chris wallace wil...</td>\n",
       "      <td>2019-11-17 19:30:09-06:00</td>\n",
       "      <td>2019-11-18</td>\n",
       "    </tr>\n",
       "  </tbody>\n",
       "</table>\n",
       "</div>"
      ],
      "text/plain": [
       "                                                                      tweets  \\\n",
       "timestamp                                                                      \n",
       "2019-11-17 19:57:12-06:00  tell jennifer williams whoever that is to read...   \n",
       "2019-11-17 19:56:02-06:00                                                      \n",
       "2019-11-17 19:49:47-06:00  paul krugman of has been wrong about me from t...   \n",
       "2019-11-17 19:47:32-06:00                    schiff is a corrupt politician    \n",
       "2019-11-17 19:30:09-06:00  blew the nasty amp obnoxious chris wallace wil...   \n",
       "\n",
       "                                          timestamp after4_date  \n",
       "timestamp                                                        \n",
       "2019-11-17 19:57:12-06:00 2019-11-17 19:57:12-06:00  2019-11-18  \n",
       "2019-11-17 19:56:02-06:00 2019-11-17 19:56:02-06:00  2019-11-18  \n",
       "2019-11-17 19:49:47-06:00 2019-11-17 19:49:47-06:00  2019-11-18  \n",
       "2019-11-17 19:47:32-06:00 2019-11-17 19:47:32-06:00  2019-11-18  \n",
       "2019-11-17 19:30:09-06:00 2019-11-17 19:30:09-06:00  2019-11-18  "
      ]
     },
     "execution_count": 2,
     "metadata": {},
     "output_type": "execute_result"
    }
   ],
   "source": [
    "tweet_data = TweetData()\n",
    "tweet_data.clean_tweets.head()"
   ]
  },
  {
   "cell_type": "markdown",
   "metadata": {},
   "source": [
    "# Daily Tweets"
   ]
  },
  {
   "cell_type": "markdown",
   "metadata": {},
   "source": [
    "This does the following two things:\n",
    "\n",
    "1) Change the date of the tweets after 3 PM Chicago time to the following day (as trading closes then)\n",
    "\n",
    "2) Concatenate all tweets in a given day to one large document"
   ]
  },
  {
   "cell_type": "code",
   "execution_count": 3,
   "metadata": {
    "scrolled": true
   },
   "outputs": [
    {
     "data": {
      "text/html": [
       "<div>\n",
       "<style scoped>\n",
       "    .dataframe tbody tr th:only-of-type {\n",
       "        vertical-align: middle;\n",
       "    }\n",
       "\n",
       "    .dataframe tbody tr th {\n",
       "        vertical-align: top;\n",
       "    }\n",
       "\n",
       "    .dataframe thead th {\n",
       "        text-align: right;\n",
       "    }\n",
       "</style>\n",
       "<table border=\"1\" class=\"dataframe\">\n",
       "  <thead>\n",
       "    <tr style=\"text-align: right;\">\n",
       "      <th></th>\n",
       "      <th>tweets</th>\n",
       "    </tr>\n",
       "    <tr>\n",
       "      <th>date</th>\n",
       "      <th></th>\n",
       "    </tr>\n",
       "  </thead>\n",
       "  <tbody>\n",
       "    <tr>\n",
       "      <th>2009-05-05</th>\n",
       "      <td>donald trump will be appearing on the view tom...</td>\n",
       "    </tr>\n",
       "    <tr>\n",
       "      <th>2009-05-08</th>\n",
       "      <td>donald trump reads top ten financial tips on l...</td>\n",
       "    </tr>\n",
       "    <tr>\n",
       "      <th>2009-05-09</th>\n",
       "      <td>new blog post celebrity apprentice finale and ...</td>\n",
       "    </tr>\n",
       "    <tr>\n",
       "      <th>2009-05-12</th>\n",
       "      <td>my persona will never be that of a wallflower ...</td>\n",
       "    </tr>\n",
       "    <tr>\n",
       "      <th>2009-05-13</th>\n",
       "      <td>miss usa tara conner will not be fired ive alw...</td>\n",
       "    </tr>\n",
       "  </tbody>\n",
       "</table>\n",
       "</div>"
      ],
      "text/plain": [
       "                                                       tweets\n",
       "date                                                         \n",
       "2009-05-05  donald trump will be appearing on the view tom...\n",
       "2009-05-08  donald trump reads top ten financial tips on l...\n",
       "2009-05-09  new blog post celebrity apprentice finale and ...\n",
       "2009-05-12  my persona will never be that of a wallflower ...\n",
       "2009-05-13  miss usa tara conner will not be fired ive alw..."
      ]
     },
     "execution_count": 3,
     "metadata": {},
     "output_type": "execute_result"
    }
   ],
   "source": [
    "tweet_data.daily_tweets.head()"
   ]
  },
  {
   "cell_type": "markdown",
   "metadata": {},
   "source": [
    "# Feature Generator"
   ]
  },
  {
   "cell_type": "markdown",
   "metadata": {},
   "source": [
    "Creating a 'TextFeaturesGenerator' instance which takes the tweets as an argument"
   ]
  },
  {
   "cell_type": "code",
   "execution_count": 4,
   "metadata": {},
   "outputs": [],
   "source": [
    "feature_generator = TextFeaturesGenerator(tweet_data.clean_tweets.tweets)"
   ]
  },
  {
   "cell_type": "markdown",
   "metadata": {},
   "source": [
    "'get_bow_matrix' creates the bag-of-words matrix"
   ]
  },
  {
   "cell_type": "code",
   "execution_count": 5,
   "metadata": {},
   "outputs": [],
   "source": [
    "bow_mat = feature_generator.get_bow_matrix()"
   ]
  },
  {
   "cell_type": "code",
   "execution_count": 6,
   "metadata": {
    "scrolled": true
   },
   "outputs": [
    {
     "data": {
      "text/plain": [
       "(28813, 17035)"
      ]
     },
     "execution_count": 6,
     "metadata": {},
     "output_type": "execute_result"
    }
   ],
   "source": [
    "bow_mat.shape"
   ]
  },
  {
   "cell_type": "markdown",
   "metadata": {},
   "source": [
    "The shape of this matrix is 27.96K rows (same number as the tweets) and the columns are 16,781, which is equal to the unique number of words in the vocabulary."
   ]
  },
  {
   "cell_type": "code",
   "execution_count": 7,
   "metadata": {},
   "outputs": [
    {
     "data": {
      "text/plain": [
       "matrix([[0, 0, 0, 0, 0, 0, 0, 0, 0, 0],\n",
       "        [0, 0, 0, 0, 0, 0, 0, 0, 0, 0],\n",
       "        [0, 0, 0, 0, 0, 0, 0, 0, 0, 0],\n",
       "        [0, 0, 0, 0, 0, 0, 0, 0, 0, 0],\n",
       "        [0, 0, 0, 0, 0, 0, 0, 0, 0, 0],\n",
       "        [0, 0, 0, 0, 0, 0, 0, 0, 0, 0],\n",
       "        [0, 0, 0, 0, 0, 0, 0, 0, 0, 0],\n",
       "        [0, 0, 0, 0, 0, 0, 0, 0, 0, 0],\n",
       "        [0, 0, 0, 0, 0, 0, 0, 0, 0, 0],\n",
       "        [0, 0, 0, 0, 0, 0, 0, 0, 0, 0]], dtype=int64)"
      ]
     },
     "execution_count": 7,
     "metadata": {},
     "output_type": "execute_result"
    }
   ],
   "source": [
    "bow_mat[:10,:10].todense()"
   ]
  },
  {
   "cell_type": "markdown",
   "metadata": {},
   "source": [
    "As you can see, most of the values are zero which is why it is stored as a 'sparse-matrix'"
   ]
  },
  {
   "cell_type": "markdown",
   "metadata": {},
   "source": [
    "Bag-of-words is simply a count of words in the tweet. A better representation is 'tf-idf'. The 'get_tfidf_matrix' creates"
   ]
  },
  {
   "cell_type": "code",
   "execution_count": 8,
   "metadata": {},
   "outputs": [
    {
     "data": {
      "text/plain": [
       "(28813, 17035)"
      ]
     },
     "execution_count": 8,
     "metadata": {},
     "output_type": "execute_result"
    }
   ],
   "source": [
    "tfidf_mat = feature_generator.get_tfidf_matrix()\n",
    "tfidf_mat.shape"
   ]
  },
  {
   "cell_type": "markdown",
   "metadata": {},
   "source": [
    "The matrices can be saved using the matrices function. You can either specify a 'folder' which will be created and both matrices stored in it, else will store in the working directory."
   ]
  },
  {
   "cell_type": "code",
   "execution_count": 9,
   "metadata": {},
   "outputs": [],
   "source": [
    "feature_generator.save_matrices()"
   ]
  },
  {
   "cell_type": "markdown",
   "metadata": {},
   "source": [
    "The two matrices will be saved with the names \"bow_mat.npz\" and \"tfidf_mat.npz\""
   ]
  },
  {
   "cell_type": "markdown",
   "metadata": {},
   "source": [
    "You can also specify a folder and a suffix to the file names."
   ]
  },
  {
   "cell_type": "code",
   "execution_count": 10,
   "metadata": {},
   "outputs": [],
   "source": [
    "#feature_generator.save_matrices(folder=\"../data/intermediate_data/matrices/\",suffix=\"_v2\")"
   ]
  },
  {
   "cell_type": "markdown",
   "metadata": {},
   "source": [
    "The files can be loaded using the following commands:"
   ]
  },
  {
   "cell_type": "code",
   "execution_count": 10,
   "metadata": {},
   "outputs": [
    {
     "name": "stdout",
     "output_type": "stream",
     "text": [
      "(28813, 17035)\n",
      "(28813, 17035)\n"
     ]
    }
   ],
   "source": [
    "from scipy import sparse\n",
    "bow_loaded = sparse.load_npz(\"../data/intermediate_data/bow_mat.npz\")\n",
    "tfidf_loaded = sparse.load_npz(\"../data/intermediate_data/tfidf_mat.npz\")\n",
    "print(bow_loaded.shape)\n",
    "print(tfidf_loaded.shape)"
   ]
  },
  {
   "cell_type": "markdown",
   "metadata": {},
   "source": [
    "## PCA (through SVD) of the matrices"
   ]
  },
  {
   "cell_type": "markdown",
   "metadata": {},
   "source": [
    "You can get the SVD of the bow and tfidf matrices as well."
   ]
  },
  {
   "cell_type": "code",
   "execution_count": 11,
   "metadata": {},
   "outputs": [],
   "source": [
    "svd_bow_mat = feature_generator.get_svd_bow_mat()"
   ]
  },
  {
   "cell_type": "code",
   "execution_count": 12,
   "metadata": {},
   "outputs": [
    {
     "data": {
      "text/plain": [
       "(28813, 2)"
      ]
     },
     "execution_count": 12,
     "metadata": {},
     "output_type": "execute_result"
    }
   ],
   "source": [
    "svd_bow_mat.shape"
   ]
  },
  {
   "cell_type": "markdown",
   "metadata": {},
   "source": [
    "By default, it gives back two components. You can changet that using the n_components argument."
   ]
  },
  {
   "cell_type": "code",
   "execution_count": 13,
   "metadata": {},
   "outputs": [],
   "source": [
    "svd_bow_mat = feature_generator.get_svd_bow_mat(n_components=100)"
   ]
  },
  {
   "cell_type": "code",
   "execution_count": 14,
   "metadata": {},
   "outputs": [
    {
     "data": {
      "text/plain": [
       "(28813, 100)"
      ]
     },
     "execution_count": 14,
     "metadata": {},
     "output_type": "execute_result"
    }
   ],
   "source": [
    "svd_bow_mat.shape"
   ]
  },
  {
   "cell_type": "markdown",
   "metadata": {},
   "source": [
    "You can get the SVD of the tf-idf as well."
   ]
  },
  {
   "cell_type": "code",
   "execution_count": 15,
   "metadata": {},
   "outputs": [],
   "source": [
    "svd_tfidf_mat = feature_generator.get_svd_bow_mat(n_components=100)"
   ]
  },
  {
   "cell_type": "code",
   "execution_count": 16,
   "metadata": {},
   "outputs": [
    {
     "data": {
      "text/plain": [
       "(28813, 100)"
      ]
     },
     "execution_count": 16,
     "metadata": {},
     "output_type": "execute_result"
    }
   ],
   "source": [
    "svd_tfidf_mat.shape"
   ]
  },
  {
   "cell_type": "markdown",
   "metadata": {},
   "source": [
    "These matrices can be saved as well."
   ]
  },
  {
   "cell_type": "code",
   "execution_count": 17,
   "metadata": {},
   "outputs": [],
   "source": [
    "feature_generator.save_matrices()"
   ]
  },
  {
   "cell_type": "markdown",
   "metadata": {},
   "source": [
    "You can load them back using np.load"
   ]
  },
  {
   "cell_type": "code",
   "execution_count": 18,
   "metadata": {},
   "outputs": [],
   "source": [
    "svd_loaded_mat = np.load('../data/intermediate_data/svd_tfidf_mat.npy')"
   ]
  },
  {
   "cell_type": "code",
   "execution_count": 19,
   "metadata": {
    "scrolled": true
   },
   "outputs": [
    {
     "data": {
      "text/plain": [
       "(28813, 100)"
      ]
     },
     "execution_count": 19,
     "metadata": {},
     "output_type": "execute_result"
    }
   ],
   "source": [
    "svd_loaded_mat.shape"
   ]
  },
  {
   "cell_type": "markdown",
   "metadata": {},
   "source": [
    "# Aggregagte SVD per day "
   ]
  },
  {
   "cell_type": "code",
   "execution_count": 20,
   "metadata": {},
   "outputs": [],
   "source": [
    "svd_df = pd.DataFrame(svd_loaded_mat)"
   ]
  },
  {
   "cell_type": "code",
   "execution_count": 21,
   "metadata": {},
   "outputs": [],
   "source": [
    "svd_df['timestamp'] = tweet_data.clean_tweets.index\n",
    "svd_df['date'] = svd_df.timestamp.dt.date"
   ]
  },
  {
   "cell_type": "code",
   "execution_count": 22,
   "metadata": {
    "scrolled": true
   },
   "outputs": [
    {
     "data": {
      "text/html": [
       "<div>\n",
       "<style scoped>\n",
       "    .dataframe tbody tr th:only-of-type {\n",
       "        vertical-align: middle;\n",
       "    }\n",
       "\n",
       "    .dataframe tbody tr th {\n",
       "        vertical-align: top;\n",
       "    }\n",
       "\n",
       "    .dataframe thead th {\n",
       "        text-align: right;\n",
       "    }\n",
       "</style>\n",
       "<table border=\"1\" class=\"dataframe\">\n",
       "  <thead>\n",
       "    <tr style=\"text-align: right;\">\n",
       "      <th></th>\n",
       "      <th>0</th>\n",
       "      <th>1</th>\n",
       "      <th>2</th>\n",
       "      <th>3</th>\n",
       "      <th>4</th>\n",
       "      <th>5</th>\n",
       "      <th>6</th>\n",
       "      <th>7</th>\n",
       "      <th>8</th>\n",
       "      <th>9</th>\n",
       "      <th>...</th>\n",
       "      <th>92</th>\n",
       "      <th>93</th>\n",
       "      <th>94</th>\n",
       "      <th>95</th>\n",
       "      <th>96</th>\n",
       "      <th>97</th>\n",
       "      <th>98</th>\n",
       "      <th>99</th>\n",
       "      <th>timestamp</th>\n",
       "      <th>date</th>\n",
       "    </tr>\n",
       "  </thead>\n",
       "  <tbody>\n",
       "    <tr>\n",
       "      <th>0</th>\n",
       "      <td>3.827242</td>\n",
       "      <td>1.058184</td>\n",
       "      <td>-0.753201</td>\n",
       "      <td>0.539504</td>\n",
       "      <td>0.672026</td>\n",
       "      <td>1.173379</td>\n",
       "      <td>-0.282925</td>\n",
       "      <td>0.095729</td>\n",
       "      <td>0.447752</td>\n",
       "      <td>-0.022804</td>\n",
       "      <td>...</td>\n",
       "      <td>-0.155376</td>\n",
       "      <td>0.021729</td>\n",
       "      <td>0.156688</td>\n",
       "      <td>0.113619</td>\n",
       "      <td>0.277421</td>\n",
       "      <td>-0.008233</td>\n",
       "      <td>-0.655812</td>\n",
       "      <td>-0.421291</td>\n",
       "      <td>2019-11-17 19:57:12-06:00</td>\n",
       "      <td>2019-11-17</td>\n",
       "    </tr>\n",
       "    <tr>\n",
       "      <th>1</th>\n",
       "      <td>0.000000</td>\n",
       "      <td>0.000000</td>\n",
       "      <td>0.000000</td>\n",
       "      <td>0.000000</td>\n",
       "      <td>0.000000</td>\n",
       "      <td>0.000000</td>\n",
       "      <td>0.000000</td>\n",
       "      <td>0.000000</td>\n",
       "      <td>0.000000</td>\n",
       "      <td>0.000000</td>\n",
       "      <td>...</td>\n",
       "      <td>0.000000</td>\n",
       "      <td>0.000000</td>\n",
       "      <td>0.000000</td>\n",
       "      <td>0.000000</td>\n",
       "      <td>0.000000</td>\n",
       "      <td>0.000000</td>\n",
       "      <td>0.000000</td>\n",
       "      <td>0.000000</td>\n",
       "      <td>2019-11-17 19:56:02-06:00</td>\n",
       "      <td>2019-11-17</td>\n",
       "    </tr>\n",
       "    <tr>\n",
       "      <th>2</th>\n",
       "      <td>3.060190</td>\n",
       "      <td>0.759136</td>\n",
       "      <td>0.960683</td>\n",
       "      <td>-0.707494</td>\n",
       "      <td>1.130351</td>\n",
       "      <td>1.936883</td>\n",
       "      <td>-0.004514</td>\n",
       "      <td>-0.147008</td>\n",
       "      <td>-0.626272</td>\n",
       "      <td>-0.132273</td>\n",
       "      <td>...</td>\n",
       "      <td>0.192523</td>\n",
       "      <td>-0.159143</td>\n",
       "      <td>0.302086</td>\n",
       "      <td>-0.142012</td>\n",
       "      <td>0.392160</td>\n",
       "      <td>-0.119812</td>\n",
       "      <td>0.029349</td>\n",
       "      <td>0.113289</td>\n",
       "      <td>2019-11-17 19:49:47-06:00</td>\n",
       "      <td>2019-11-17</td>\n",
       "    </tr>\n",
       "    <tr>\n",
       "      <th>3</th>\n",
       "      <td>0.200777</td>\n",
       "      <td>-0.107046</td>\n",
       "      <td>0.113282</td>\n",
       "      <td>0.877040</td>\n",
       "      <td>-0.034224</td>\n",
       "      <td>0.142449</td>\n",
       "      <td>-0.058900</td>\n",
       "      <td>0.020884</td>\n",
       "      <td>-0.023058</td>\n",
       "      <td>-0.125923</td>\n",
       "      <td>...</td>\n",
       "      <td>-0.017129</td>\n",
       "      <td>0.015688</td>\n",
       "      <td>0.020679</td>\n",
       "      <td>-0.006425</td>\n",
       "      <td>0.002942</td>\n",
       "      <td>-0.011792</td>\n",
       "      <td>-0.023175</td>\n",
       "      <td>-0.000544</td>\n",
       "      <td>2019-11-17 19:47:32-06:00</td>\n",
       "      <td>2019-11-17</td>\n",
       "    </tr>\n",
       "    <tr>\n",
       "      <th>4</th>\n",
       "      <td>2.915336</td>\n",
       "      <td>0.145921</td>\n",
       "      <td>0.789791</td>\n",
       "      <td>-0.586309</td>\n",
       "      <td>1.237927</td>\n",
       "      <td>-0.773927</td>\n",
       "      <td>-0.802348</td>\n",
       "      <td>-0.924382</td>\n",
       "      <td>-0.588656</td>\n",
       "      <td>-0.114364</td>\n",
       "      <td>...</td>\n",
       "      <td>0.264748</td>\n",
       "      <td>-0.347075</td>\n",
       "      <td>-0.256552</td>\n",
       "      <td>0.116289</td>\n",
       "      <td>0.170073</td>\n",
       "      <td>0.082550</td>\n",
       "      <td>-0.148944</td>\n",
       "      <td>-0.027615</td>\n",
       "      <td>2019-11-17 19:30:09-06:00</td>\n",
       "      <td>2019-11-17</td>\n",
       "    </tr>\n",
       "  </tbody>\n",
       "</table>\n",
       "<p>5 rows × 102 columns</p>\n",
       "</div>"
      ],
      "text/plain": [
       "          0         1         2         3         4         5         6  \\\n",
       "0  3.827242  1.058184 -0.753201  0.539504  0.672026  1.173379 -0.282925   \n",
       "1  0.000000  0.000000  0.000000  0.000000  0.000000  0.000000  0.000000   \n",
       "2  3.060190  0.759136  0.960683 -0.707494  1.130351  1.936883 -0.004514   \n",
       "3  0.200777 -0.107046  0.113282  0.877040 -0.034224  0.142449 -0.058900   \n",
       "4  2.915336  0.145921  0.789791 -0.586309  1.237927 -0.773927 -0.802348   \n",
       "\n",
       "          7         8         9  ...        92        93        94        95  \\\n",
       "0  0.095729  0.447752 -0.022804  ... -0.155376  0.021729  0.156688  0.113619   \n",
       "1  0.000000  0.000000  0.000000  ...  0.000000  0.000000  0.000000  0.000000   \n",
       "2 -0.147008 -0.626272 -0.132273  ...  0.192523 -0.159143  0.302086 -0.142012   \n",
       "3  0.020884 -0.023058 -0.125923  ... -0.017129  0.015688  0.020679 -0.006425   \n",
       "4 -0.924382 -0.588656 -0.114364  ...  0.264748 -0.347075 -0.256552  0.116289   \n",
       "\n",
       "         96        97        98        99                 timestamp  \\\n",
       "0  0.277421 -0.008233 -0.655812 -0.421291 2019-11-17 19:57:12-06:00   \n",
       "1  0.000000  0.000000  0.000000  0.000000 2019-11-17 19:56:02-06:00   \n",
       "2  0.392160 -0.119812  0.029349  0.113289 2019-11-17 19:49:47-06:00   \n",
       "3  0.002942 -0.011792 -0.023175 -0.000544 2019-11-17 19:47:32-06:00   \n",
       "4  0.170073  0.082550 -0.148944 -0.027615 2019-11-17 19:30:09-06:00   \n",
       "\n",
       "         date  \n",
       "0  2019-11-17  \n",
       "1  2019-11-17  \n",
       "2  2019-11-17  \n",
       "3  2019-11-17  \n",
       "4  2019-11-17  \n",
       "\n",
       "[5 rows x 102 columns]"
      ]
     },
     "execution_count": 22,
     "metadata": {},
     "output_type": "execute_result"
    }
   ],
   "source": [
    "svd_df.head()"
   ]
  },
  {
   "cell_type": "code",
   "execution_count": 23,
   "metadata": {
    "scrolled": true
   },
   "outputs": [],
   "source": [
    "svd_df_daily = svd_df.groupby('date').agg(np.mean)"
   ]
  },
  {
   "cell_type": "code",
   "execution_count": 25,
   "metadata": {},
   "outputs": [
    {
     "data": {
      "text/html": [
       "<div>\n",
       "<style scoped>\n",
       "    .dataframe tbody tr th:only-of-type {\n",
       "        vertical-align: middle;\n",
       "    }\n",
       "\n",
       "    .dataframe tbody tr th {\n",
       "        vertical-align: top;\n",
       "    }\n",
       "\n",
       "    .dataframe thead th {\n",
       "        text-align: right;\n",
       "    }\n",
       "</style>\n",
       "<table border=\"1\" class=\"dataframe\">\n",
       "  <thead>\n",
       "    <tr style=\"text-align: right;\">\n",
       "      <th></th>\n",
       "      <th>0</th>\n",
       "      <th>1</th>\n",
       "      <th>2</th>\n",
       "      <th>3</th>\n",
       "      <th>4</th>\n",
       "      <th>5</th>\n",
       "      <th>6</th>\n",
       "      <th>7</th>\n",
       "      <th>8</th>\n",
       "      <th>9</th>\n",
       "      <th>...</th>\n",
       "      <th>90</th>\n",
       "      <th>91</th>\n",
       "      <th>92</th>\n",
       "      <th>93</th>\n",
       "      <th>94</th>\n",
       "      <th>95</th>\n",
       "      <th>96</th>\n",
       "      <th>97</th>\n",
       "      <th>98</th>\n",
       "      <th>99</th>\n",
       "    </tr>\n",
       "    <tr>\n",
       "      <th>date</th>\n",
       "      <th></th>\n",
       "      <th></th>\n",
       "      <th></th>\n",
       "      <th></th>\n",
       "      <th></th>\n",
       "      <th></th>\n",
       "      <th></th>\n",
       "      <th></th>\n",
       "      <th></th>\n",
       "      <th></th>\n",
       "      <th></th>\n",
       "      <th></th>\n",
       "      <th></th>\n",
       "      <th></th>\n",
       "      <th></th>\n",
       "      <th></th>\n",
       "      <th></th>\n",
       "      <th></th>\n",
       "      <th></th>\n",
       "      <th></th>\n",
       "      <th></th>\n",
       "    </tr>\n",
       "  </thead>\n",
       "  <tbody>\n",
       "    <tr>\n",
       "      <th>2009-05-04</th>\n",
       "      <td>1.914085</td>\n",
       "      <td>-0.744047</td>\n",
       "      <td>-0.003781</td>\n",
       "      <td>-0.297262</td>\n",
       "      <td>0.104558</td>\n",
       "      <td>-0.762712</td>\n",
       "      <td>0.079807</td>\n",
       "      <td>-0.860134</td>\n",
       "      <td>-0.830335</td>\n",
       "      <td>-0.303307</td>\n",
       "      <td>...</td>\n",
       "      <td>-0.165399</td>\n",
       "      <td>-0.067746</td>\n",
       "      <td>0.004524</td>\n",
       "      <td>-0.051457</td>\n",
       "      <td>-0.022368</td>\n",
       "      <td>-0.035046</td>\n",
       "      <td>-0.117022</td>\n",
       "      <td>-0.018562</td>\n",
       "      <td>-0.053331</td>\n",
       "      <td>-0.008457</td>\n",
       "    </tr>\n",
       "    <tr>\n",
       "      <th>2009-05-05</th>\n",
       "      <td>1.728747</td>\n",
       "      <td>-0.735490</td>\n",
       "      <td>-0.032372</td>\n",
       "      <td>-0.510345</td>\n",
       "      <td>-0.136988</td>\n",
       "      <td>-0.583485</td>\n",
       "      <td>-0.960771</td>\n",
       "      <td>-0.846735</td>\n",
       "      <td>-0.502048</td>\n",
       "      <td>-0.394207</td>\n",
       "      <td>...</td>\n",
       "      <td>-0.089814</td>\n",
       "      <td>0.167276</td>\n",
       "      <td>-0.051590</td>\n",
       "      <td>-0.018636</td>\n",
       "      <td>0.033445</td>\n",
       "      <td>-0.031762</td>\n",
       "      <td>-0.109483</td>\n",
       "      <td>-0.002220</td>\n",
       "      <td>-0.002091</td>\n",
       "      <td>0.053873</td>\n",
       "    </tr>\n",
       "    <tr>\n",
       "      <th>2009-05-08</th>\n",
       "      <td>0.656670</td>\n",
       "      <td>0.017658</td>\n",
       "      <td>0.343568</td>\n",
       "      <td>-0.132163</td>\n",
       "      <td>-0.182062</td>\n",
       "      <td>-0.136581</td>\n",
       "      <td>-0.153954</td>\n",
       "      <td>-0.149953</td>\n",
       "      <td>-0.287268</td>\n",
       "      <td>-0.003448</td>\n",
       "      <td>...</td>\n",
       "      <td>-0.033192</td>\n",
       "      <td>-0.007058</td>\n",
       "      <td>-0.009867</td>\n",
       "      <td>-0.046665</td>\n",
       "      <td>-0.035062</td>\n",
       "      <td>0.011595</td>\n",
       "      <td>0.068346</td>\n",
       "      <td>0.056166</td>\n",
       "      <td>0.000621</td>\n",
       "      <td>-0.068242</td>\n",
       "    </tr>\n",
       "    <tr>\n",
       "      <th>2009-05-12</th>\n",
       "      <td>0.759489</td>\n",
       "      <td>-0.616653</td>\n",
       "      <td>-0.256694</td>\n",
       "      <td>-0.132355</td>\n",
       "      <td>0.892657</td>\n",
       "      <td>-0.322315</td>\n",
       "      <td>-0.301618</td>\n",
       "      <td>-0.619333</td>\n",
       "      <td>0.309500</td>\n",
       "      <td>-0.410879</td>\n",
       "      <td>...</td>\n",
       "      <td>-0.000917</td>\n",
       "      <td>0.080225</td>\n",
       "      <td>0.135558</td>\n",
       "      <td>-0.084527</td>\n",
       "      <td>-0.098101</td>\n",
       "      <td>0.224687</td>\n",
       "      <td>-0.164727</td>\n",
       "      <td>-0.113767</td>\n",
       "      <td>0.053716</td>\n",
       "      <td>-0.041663</td>\n",
       "    </tr>\n",
       "    <tr>\n",
       "      <th>2009-05-13</th>\n",
       "      <td>0.549987</td>\n",
       "      <td>-0.714711</td>\n",
       "      <td>-0.650531</td>\n",
       "      <td>-0.033119</td>\n",
       "      <td>-0.053220</td>\n",
       "      <td>0.134759</td>\n",
       "      <td>0.064928</td>\n",
       "      <td>-0.091967</td>\n",
       "      <td>-0.262836</td>\n",
       "      <td>-0.087195</td>\n",
       "      <td>...</td>\n",
       "      <td>-0.056626</td>\n",
       "      <td>0.169364</td>\n",
       "      <td>-0.056050</td>\n",
       "      <td>-0.119903</td>\n",
       "      <td>0.075697</td>\n",
       "      <td>-0.110502</td>\n",
       "      <td>-0.074038</td>\n",
       "      <td>0.056684</td>\n",
       "      <td>0.024885</td>\n",
       "      <td>0.068076</td>\n",
       "    </tr>\n",
       "  </tbody>\n",
       "</table>\n",
       "<p>5 rows × 100 columns</p>\n",
       "</div>"
      ],
      "text/plain": [
       "                  0         1         2         3         4         5   \\\n",
       "date                                                                     \n",
       "2009-05-04  1.914085 -0.744047 -0.003781 -0.297262  0.104558 -0.762712   \n",
       "2009-05-05  1.728747 -0.735490 -0.032372 -0.510345 -0.136988 -0.583485   \n",
       "2009-05-08  0.656670  0.017658  0.343568 -0.132163 -0.182062 -0.136581   \n",
       "2009-05-12  0.759489 -0.616653 -0.256694 -0.132355  0.892657 -0.322315   \n",
       "2009-05-13  0.549987 -0.714711 -0.650531 -0.033119 -0.053220  0.134759   \n",
       "\n",
       "                  6         7         8         9   ...        90        91  \\\n",
       "date                                                ...                       \n",
       "2009-05-04  0.079807 -0.860134 -0.830335 -0.303307  ... -0.165399 -0.067746   \n",
       "2009-05-05 -0.960771 -0.846735 -0.502048 -0.394207  ... -0.089814  0.167276   \n",
       "2009-05-08 -0.153954 -0.149953 -0.287268 -0.003448  ... -0.033192 -0.007058   \n",
       "2009-05-12 -0.301618 -0.619333  0.309500 -0.410879  ... -0.000917  0.080225   \n",
       "2009-05-13  0.064928 -0.091967 -0.262836 -0.087195  ... -0.056626  0.169364   \n",
       "\n",
       "                  92        93        94        95        96        97  \\\n",
       "date                                                                     \n",
       "2009-05-04  0.004524 -0.051457 -0.022368 -0.035046 -0.117022 -0.018562   \n",
       "2009-05-05 -0.051590 -0.018636  0.033445 -0.031762 -0.109483 -0.002220   \n",
       "2009-05-08 -0.009867 -0.046665 -0.035062  0.011595  0.068346  0.056166   \n",
       "2009-05-12  0.135558 -0.084527 -0.098101  0.224687 -0.164727 -0.113767   \n",
       "2009-05-13 -0.056050 -0.119903  0.075697 -0.110502 -0.074038  0.056684   \n",
       "\n",
       "                  98        99  \n",
       "date                            \n",
       "2009-05-04 -0.053331 -0.008457  \n",
       "2009-05-05 -0.002091  0.053873  \n",
       "2009-05-08  0.000621 -0.068242  \n",
       "2009-05-12  0.053716 -0.041663  \n",
       "2009-05-13  0.024885  0.068076  \n",
       "\n",
       "[5 rows x 100 columns]"
      ]
     },
     "execution_count": 25,
     "metadata": {},
     "output_type": "execute_result"
    }
   ],
   "source": [
    "svd_df_daily.head()"
   ]
  },
  {
   "cell_type": "code",
   "execution_count": 26,
   "metadata": {},
   "outputs": [],
   "source": [
    "svd_df_daily.to_csv('../data/intermediate_data/svd_df_daily.csv')"
   ]
  },
  {
   "cell_type": "markdown",
   "metadata": {},
   "source": [
    "## 4 PM goes next-day"
   ]
  },
  {
   "cell_type": "markdown",
   "metadata": {},
   "source": [
    "This is to make sure that we use only data available as of close of market (4 PM). Any tweet after close of market goes into the next day's analysis."
   ]
  },
  {
   "cell_type": "code",
   "execution_count": 27,
   "metadata": {},
   "outputs": [],
   "source": [
    "tweet_data.clean_tweets['timestamp'] = tweet_data.clean_tweets.index\n",
    "after_4_tweets = tweet_data.clean_tweets.timestamp.dt.hour >= 15\n",
    "tweet_data.clean_tweets['after4_date'] = tweet_data.clean_tweets.timestamp.dt.date\n",
    "tweet_data.clean_tweets.loc[after_4_tweets,'after4_date'] = tweet_data.clean_tweets.timestamp[after_4_tweets].dt.date + timedelta(days=1)"
   ]
  },
  {
   "cell_type": "code",
   "execution_count": 28,
   "metadata": {
    "scrolled": false
   },
   "outputs": [
    {
     "data": {
      "text/html": [
       "<div>\n",
       "<style scoped>\n",
       "    .dataframe tbody tr th:only-of-type {\n",
       "        vertical-align: middle;\n",
       "    }\n",
       "\n",
       "    .dataframe tbody tr th {\n",
       "        vertical-align: top;\n",
       "    }\n",
       "\n",
       "    .dataframe thead th {\n",
       "        text-align: right;\n",
       "    }\n",
       "</style>\n",
       "<table border=\"1\" class=\"dataframe\">\n",
       "  <thead>\n",
       "    <tr style=\"text-align: right;\">\n",
       "      <th></th>\n",
       "      <th>tweets</th>\n",
       "      <th>timestamp</th>\n",
       "      <th>after4_date</th>\n",
       "    </tr>\n",
       "    <tr>\n",
       "      <th>timestamp</th>\n",
       "      <th></th>\n",
       "      <th></th>\n",
       "      <th></th>\n",
       "    </tr>\n",
       "  </thead>\n",
       "  <tbody>\n",
       "    <tr>\n",
       "      <th>2019-11-17 19:57:12-06:00</th>\n",
       "      <td>tell jennifer williams whoever that is to read...</td>\n",
       "      <td>2019-11-17 19:57:12-06:00</td>\n",
       "      <td>2019-11-18</td>\n",
       "    </tr>\n",
       "    <tr>\n",
       "      <th>2019-11-17 19:56:02-06:00</th>\n",
       "      <td></td>\n",
       "      <td>2019-11-17 19:56:02-06:00</td>\n",
       "      <td>2019-11-18</td>\n",
       "    </tr>\n",
       "    <tr>\n",
       "      <th>2019-11-17 19:49:47-06:00</th>\n",
       "      <td>paul krugman of has been wrong about me from t...</td>\n",
       "      <td>2019-11-17 19:49:47-06:00</td>\n",
       "      <td>2019-11-18</td>\n",
       "    </tr>\n",
       "    <tr>\n",
       "      <th>2019-11-17 19:47:32-06:00</th>\n",
       "      <td>schiff is a corrupt politician</td>\n",
       "      <td>2019-11-17 19:47:32-06:00</td>\n",
       "      <td>2019-11-18</td>\n",
       "    </tr>\n",
       "    <tr>\n",
       "      <th>2019-11-17 19:30:09-06:00</th>\n",
       "      <td>blew the nasty amp obnoxious chris wallace wil...</td>\n",
       "      <td>2019-11-17 19:30:09-06:00</td>\n",
       "      <td>2019-11-18</td>\n",
       "    </tr>\n",
       "    <tr>\n",
       "      <th>...</th>\n",
       "      <td>...</td>\n",
       "      <td>...</td>\n",
       "      <td>...</td>\n",
       "    </tr>\n",
       "    <tr>\n",
       "      <th>2019-11-12 11:25:11-06:00</th>\n",
       "      <td>why is such a focus put on nd and rd hand witn...</td>\n",
       "      <td>2019-11-12 11:25:11-06:00</td>\n",
       "      <td>2019-11-12</td>\n",
       "    </tr>\n",
       "    <tr>\n",
       "      <th>2019-11-12 03:07:37-06:00</th>\n",
       "      <td>a great try by we are all proud of you</td>\n",
       "      <td>2019-11-12 03:07:37-06:00</td>\n",
       "      <td>2019-11-12</td>\n",
       "    </tr>\n",
       "    <tr>\n",
       "      <th>2019-11-12 01:33:57-06:00</th>\n",
       "      <td>vote for sean spicer on dancing with the stars...</td>\n",
       "      <td>2019-11-12 01:33:57-06:00</td>\n",
       "      <td>2019-11-12</td>\n",
       "    </tr>\n",
       "    <tr>\n",
       "      <th>2019-11-12 00:57:13-06:00</th>\n",
       "      <td>this isn t about ukraine this isn t about impe...</td>\n",
       "      <td>2019-11-12 00:57:13-06:00</td>\n",
       "      <td>2019-11-12</td>\n",
       "    </tr>\n",
       "    <tr>\n",
       "      <th>2019-11-11 23:58:15-06:00</th>\n",
       "      <td>want that to be an impeachable offense good lu...</td>\n",
       "      <td>2019-11-11 23:58:15-06:00</td>\n",
       "      <td>2019-11-12</td>\n",
       "    </tr>\n",
       "  </tbody>\n",
       "</table>\n",
       "<p>100 rows × 3 columns</p>\n",
       "</div>"
      ],
      "text/plain": [
       "                                                                      tweets  \\\n",
       "timestamp                                                                      \n",
       "2019-11-17 19:57:12-06:00  tell jennifer williams whoever that is to read...   \n",
       "2019-11-17 19:56:02-06:00                                                      \n",
       "2019-11-17 19:49:47-06:00  paul krugman of has been wrong about me from t...   \n",
       "2019-11-17 19:47:32-06:00                    schiff is a corrupt politician    \n",
       "2019-11-17 19:30:09-06:00  blew the nasty amp obnoxious chris wallace wil...   \n",
       "...                                                                      ...   \n",
       "2019-11-12 11:25:11-06:00  why is such a focus put on nd and rd hand witn...   \n",
       "2019-11-12 03:07:37-06:00            a great try by we are all proud of you    \n",
       "2019-11-12 01:33:57-06:00  vote for sean spicer on dancing with the stars...   \n",
       "2019-11-12 00:57:13-06:00  this isn t about ukraine this isn t about impe...   \n",
       "2019-11-11 23:58:15-06:00  want that to be an impeachable offense good lu...   \n",
       "\n",
       "                                          timestamp after4_date  \n",
       "timestamp                                                        \n",
       "2019-11-17 19:57:12-06:00 2019-11-17 19:57:12-06:00  2019-11-18  \n",
       "2019-11-17 19:56:02-06:00 2019-11-17 19:56:02-06:00  2019-11-18  \n",
       "2019-11-17 19:49:47-06:00 2019-11-17 19:49:47-06:00  2019-11-18  \n",
       "2019-11-17 19:47:32-06:00 2019-11-17 19:47:32-06:00  2019-11-18  \n",
       "2019-11-17 19:30:09-06:00 2019-11-17 19:30:09-06:00  2019-11-18  \n",
       "...                                             ...         ...  \n",
       "2019-11-12 11:25:11-06:00 2019-11-12 11:25:11-06:00  2019-11-12  \n",
       "2019-11-12 03:07:37-06:00 2019-11-12 03:07:37-06:00  2019-11-12  \n",
       "2019-11-12 01:33:57-06:00 2019-11-12 01:33:57-06:00  2019-11-12  \n",
       "2019-11-12 00:57:13-06:00 2019-11-12 00:57:13-06:00  2019-11-12  \n",
       "2019-11-11 23:58:15-06:00 2019-11-11 23:58:15-06:00  2019-11-12  \n",
       "\n",
       "[100 rows x 3 columns]"
      ]
     },
     "execution_count": 28,
     "metadata": {},
     "output_type": "execute_result"
    }
   ],
   "source": [
    "tweet_data.clean_tweets.head(100)"
   ]
  },
  {
   "cell_type": "code",
   "execution_count": 29,
   "metadata": {
    "scrolled": true
   },
   "outputs": [
    {
     "data": {
      "text/plain": [
       "after4_date\n",
       "2009-05-05    donald trump will be appearing on the view tom...\n",
       "2009-05-08    donald trump reads top ten financial tips on l...\n",
       "2009-05-09    new blog post celebrity apprentice finale and ...\n",
       "2009-05-12    my persona will never be that of a wallflower ...\n",
       "2009-05-13    miss usa tara conner will not be fired ive alw...\n",
       "Name: tweets, dtype: object"
      ]
     },
     "execution_count": 29,
     "metadata": {},
     "output_type": "execute_result"
    }
   ],
   "source": [
    "combined_daily_tweets = tweet_data.clean_tweets.groupby('after4_date')['tweets'].apply(lambda x: ' '.join(x))\n",
    "combined_daily_tweets.head()"
   ]
  },
  {
   "cell_type": "code",
   "execution_count": 30,
   "metadata": {
    "scrolled": false
   },
   "outputs": [
    {
     "name": "stderr",
     "output_type": "stream",
     "text": [
      "c:\\users\\gufra\\.virtualenvs\\trump_tweets-t_tuxmg9\\lib\\site-packages\\ipykernel_launcher.py:1: FutureWarning: The signature of `Series.to_csv` was aligned to that of `DataFrame.to_csv`, and argument 'header' will change its default value from False to True: please pass an explicit value to suppress this warning.\n",
      "  \"\"\"Entry point for launching an IPython kernel.\n"
     ]
    }
   ],
   "source": [
    "combined_daily_tweets.to_csv('../data/intermediate_data/combined_daily_tweets.csv')"
   ]
  },
  {
   "cell_type": "markdown",
   "metadata": {},
   "source": [
    "# Check if the concatenation is correct"
   ]
  },
  {
   "cell_type": "code",
   "execution_count": 31,
   "metadata": {
    "scrolled": true
   },
   "outputs": [
    {
     "data": {
      "text/plain": [
       "timestamp\n",
       "2019-10-03 13:40:19-05:00    fake news just like the snakes and gators in t...\n",
       "2019-10-03 12:09:33-05:00      schiff is a lowlife who should resign at least \n",
       "2019-10-03 11:36:23-05:00    schiff is a lying disaster for our country he ...\n",
       "2019-10-03 11:33:00-05:00     the republican party has never had such support \n",
       "2019-10-03 11:31:53-05:00    book is doing really well a study in unfairnes...\n",
       "2019-10-03 11:29:53-05:00                                      thank you hugh \n",
       "2019-10-03 11:28:49-05:00       a great book by a brilliant author buy it now \n",
       "2019-10-03 11:22:55-05:00                                   great job richard \n",
       "2019-10-03 10:52:11-05:00                       keep up the great work kellie \n",
       "2019-10-03 10:37:33-05:00    the ukraine controversy continues this morning...\n",
       "2019-10-03 10:00:00-05:00    the u s won a billion award from the world tra...\n",
       "2019-10-02 23:41:51-05:00                democrats want to steal the election \n",
       "2019-10-02 23:27:52-05:00    mississippi there is a very important election...\n",
       "2019-10-02 23:27:52-05:00    he loves our military and supports our vets de...\n",
       "2019-10-02 21:06:36-05:00                             look at this photograph \n",
       "2019-10-02 19:51:56-05:00    schiff house intel chairman got early account ...\n",
       "2019-10-02 15:48:47-05:00    the do nothing democrats should be focused on ...\n",
       "2019-10-02 15:39:07-05:00    adam schiff should only be so lucky to have th...\n",
       "2019-10-02 15:31:53-05:00    democrats are trying to undo the election rega...\n",
       "2019-10-02 15:31:03-05:00    nancy pelosi just said that she is interested ...\n",
       "2019-10-02 15:19:09-05:00    all of this impeachment nonsense which is goin...\n",
       "2019-10-02 15:02:11-05:00    now the press is trying to sell the fact that ...\n",
       "Name: tweets, dtype: object"
      ]
     },
     "execution_count": 31,
     "metadata": {},
     "output_type": "execute_result"
    }
   ],
   "source": [
    "tweet_data.clean_tweets.tweets[tweet_data.clean_tweets.after4_date==pd.to_datetime(\"2019-10-03\")]"
   ]
  },
  {
   "cell_type": "code",
   "execution_count": 32,
   "metadata": {},
   "outputs": [
    {
     "data": {
      "text/plain": [
       "after4_date\n",
       "2019-10-03    fake news just like the snakes and gators in t...\n",
       "Name: tweets, dtype: object"
      ]
     },
     "execution_count": 32,
     "metadata": {},
     "output_type": "execute_result"
    }
   ],
   "source": [
    "combined_daily_tweets[combined_daily_tweets.index.values==pd.to_datetime(\"2019-10-03\")]"
   ]
  },
  {
   "cell_type": "markdown",
   "metadata": {},
   "source": [
    "# Create SVD matrix of the combiened 4 PM tweets"
   ]
  },
  {
   "cell_type": "code",
   "execution_count": 33,
   "metadata": {},
   "outputs": [],
   "source": [
    "combined_generator = TextFeaturesGenerator(combined_daily_tweets)"
   ]
  },
  {
   "cell_type": "code",
   "execution_count": 34,
   "metadata": {
    "scrolled": true
   },
   "outputs": [],
   "source": [
    "n_components = 2\n",
    "combined_svd_df = pd.DataFrame(combined_generator.get_svd_tfidf_mat(n_components=n_components))"
   ]
  },
  {
   "cell_type": "code",
   "execution_count": 35,
   "metadata": {},
   "outputs": [],
   "source": [
    "combined_svd_df['after4_date'] = combined_daily_tweets.index.values"
   ]
  },
  {
   "cell_type": "code",
   "execution_count": 49,
   "metadata": {
    "scrolled": true
   },
   "outputs": [
    {
     "data": {
      "text/html": [
       "<div>\n",
       "<style scoped>\n",
       "    .dataframe tbody tr th:only-of-type {\n",
       "        vertical-align: middle;\n",
       "    }\n",
       "\n",
       "    .dataframe tbody tr th {\n",
       "        vertical-align: top;\n",
       "    }\n",
       "\n",
       "    .dataframe thead th {\n",
       "        text-align: right;\n",
       "    }\n",
       "</style>\n",
       "<table border=\"1\" class=\"dataframe\">\n",
       "  <thead>\n",
       "    <tr style=\"text-align: right;\">\n",
       "      <th></th>\n",
       "      <th>0</th>\n",
       "      <th>1</th>\n",
       "      <th>after4_date</th>\n",
       "    </tr>\n",
       "  </thead>\n",
       "  <tbody>\n",
       "    <tr>\n",
       "      <th>0</th>\n",
       "      <td>0.229959</td>\n",
       "      <td>0.195915</td>\n",
       "      <td>2009-05-05</td>\n",
       "    </tr>\n",
       "    <tr>\n",
       "      <th>1</th>\n",
       "      <td>0.052085</td>\n",
       "      <td>0.062540</td>\n",
       "      <td>2009-05-08</td>\n",
       "    </tr>\n",
       "    <tr>\n",
       "      <th>2</th>\n",
       "      <td>0.079564</td>\n",
       "      <td>0.035554</td>\n",
       "      <td>2009-05-09</td>\n",
       "    </tr>\n",
       "    <tr>\n",
       "      <th>3</th>\n",
       "      <td>0.101352</td>\n",
       "      <td>0.043649</td>\n",
       "      <td>2009-05-12</td>\n",
       "    </tr>\n",
       "    <tr>\n",
       "      <th>4</th>\n",
       "      <td>0.068212</td>\n",
       "      <td>0.062037</td>\n",
       "      <td>2009-05-13</td>\n",
       "    </tr>\n",
       "  </tbody>\n",
       "</table>\n",
       "</div>"
      ],
      "text/plain": [
       "          0         1 after4_date\n",
       "0  0.229959  0.195915  2009-05-05\n",
       "1  0.052085  0.062540  2009-05-08\n",
       "2  0.079564  0.035554  2009-05-09\n",
       "3  0.101352  0.043649  2009-05-12\n",
       "4  0.068212  0.062037  2009-05-13"
      ]
     },
     "execution_count": 49,
     "metadata": {},
     "output_type": "execute_result"
    }
   ],
   "source": [
    "combined_svd_df.head()"
   ]
  },
  {
   "cell_type": "code",
   "execution_count": 52,
   "metadata": {},
   "outputs": [],
   "source": [
    "combined_svd_df.to_csv('../data/features/combined_svd_df.csv')"
   ]
  },
  {
   "cell_type": "markdown",
   "metadata": {},
   "source": [
    "# Scoring Tweets"
   ]
  },
  {
   "cell_type": "markdown",
   "metadata": {},
   "source": [
    "Use the below parts if you want to train on one set and score on another set (not used currently)."
   ]
  },
  {
   "cell_type": "code",
   "execution_count": 38,
   "metadata": {},
   "outputs": [
    {
     "data": {
      "text/html": [
       "<div>\n",
       "<style scoped>\n",
       "    .dataframe tbody tr th:only-of-type {\n",
       "        vertical-align: middle;\n",
       "    }\n",
       "\n",
       "    .dataframe tbody tr th {\n",
       "        vertical-align: top;\n",
       "    }\n",
       "\n",
       "    .dataframe thead th {\n",
       "        text-align: right;\n",
       "    }\n",
       "</style>\n",
       "<table border=\"1\" class=\"dataframe\">\n",
       "  <thead>\n",
       "    <tr style=\"text-align: right;\">\n",
       "      <th></th>\n",
       "      <th>tweets</th>\n",
       "      <th>timestamp</th>\n",
       "      <th>after4_date</th>\n",
       "    </tr>\n",
       "    <tr>\n",
       "      <th>timestamp</th>\n",
       "      <th></th>\n",
       "      <th></th>\n",
       "      <th></th>\n",
       "    </tr>\n",
       "  </thead>\n",
       "  <tbody>\n",
       "    <tr>\n",
       "      <th>2019-11-17 19:57:12-06:00</th>\n",
       "      <td>tell jennifer williams whoever that is to read...</td>\n",
       "      <td>2019-11-17 19:57:12-06:00</td>\n",
       "      <td>2019-11-18</td>\n",
       "    </tr>\n",
       "    <tr>\n",
       "      <th>2019-11-17 19:56:02-06:00</th>\n",
       "      <td></td>\n",
       "      <td>2019-11-17 19:56:02-06:00</td>\n",
       "      <td>2019-11-18</td>\n",
       "    </tr>\n",
       "    <tr>\n",
       "      <th>2019-11-17 19:49:47-06:00</th>\n",
       "      <td>paul krugman of has been wrong about me from t...</td>\n",
       "      <td>2019-11-17 19:49:47-06:00</td>\n",
       "      <td>2019-11-18</td>\n",
       "    </tr>\n",
       "    <tr>\n",
       "      <th>2019-11-17 19:47:32-06:00</th>\n",
       "      <td>schiff is a corrupt politician</td>\n",
       "      <td>2019-11-17 19:47:32-06:00</td>\n",
       "      <td>2019-11-18</td>\n",
       "    </tr>\n",
       "    <tr>\n",
       "      <th>2019-11-17 19:30:09-06:00</th>\n",
       "      <td>blew the nasty amp obnoxious chris wallace wil...</td>\n",
       "      <td>2019-11-17 19:30:09-06:00</td>\n",
       "      <td>2019-11-18</td>\n",
       "    </tr>\n",
       "  </tbody>\n",
       "</table>\n",
       "</div>"
      ],
      "text/plain": [
       "                                                                      tweets  \\\n",
       "timestamp                                                                      \n",
       "2019-11-17 19:57:12-06:00  tell jennifer williams whoever that is to read...   \n",
       "2019-11-17 19:56:02-06:00                                                      \n",
       "2019-11-17 19:49:47-06:00  paul krugman of has been wrong about me from t...   \n",
       "2019-11-17 19:47:32-06:00                    schiff is a corrupt politician    \n",
       "2019-11-17 19:30:09-06:00  blew the nasty amp obnoxious chris wallace wil...   \n",
       "\n",
       "                                          timestamp after4_date  \n",
       "timestamp                                                        \n",
       "2019-11-17 19:57:12-06:00 2019-11-17 19:57:12-06:00  2019-11-18  \n",
       "2019-11-17 19:56:02-06:00 2019-11-17 19:56:02-06:00  2019-11-18  \n",
       "2019-11-17 19:49:47-06:00 2019-11-17 19:49:47-06:00  2019-11-18  \n",
       "2019-11-17 19:47:32-06:00 2019-11-17 19:47:32-06:00  2019-11-18  \n",
       "2019-11-17 19:30:09-06:00 2019-11-17 19:30:09-06:00  2019-11-18  "
      ]
     },
     "execution_count": 38,
     "metadata": {},
     "output_type": "execute_result"
    }
   ],
   "source": [
    "tweet_data = TweetData()\n",
    "tweet_data.clean_tweets.head()"
   ]
  },
  {
   "cell_type": "code",
   "execution_count": 39,
   "metadata": {},
   "outputs": [
    {
     "data": {
      "text/html": [
       "<div>\n",
       "<style scoped>\n",
       "    .dataframe tbody tr th:only-of-type {\n",
       "        vertical-align: middle;\n",
       "    }\n",
       "\n",
       "    .dataframe tbody tr th {\n",
       "        vertical-align: top;\n",
       "    }\n",
       "\n",
       "    .dataframe thead th {\n",
       "        text-align: right;\n",
       "    }\n",
       "</style>\n",
       "<table border=\"1\" class=\"dataframe\">\n",
       "  <thead>\n",
       "    <tr style=\"text-align: right;\">\n",
       "      <th></th>\n",
       "      <th>tweets</th>\n",
       "    </tr>\n",
       "    <tr>\n",
       "      <th>date</th>\n",
       "      <th></th>\n",
       "    </tr>\n",
       "  </thead>\n",
       "  <tbody>\n",
       "    <tr>\n",
       "      <th>2009-05-05</th>\n",
       "      <td>donald trump will be appearing on the view tom...</td>\n",
       "    </tr>\n",
       "    <tr>\n",
       "      <th>2009-05-08</th>\n",
       "      <td>donald trump reads top ten financial tips on l...</td>\n",
       "    </tr>\n",
       "    <tr>\n",
       "      <th>2009-05-09</th>\n",
       "      <td>new blog post celebrity apprentice finale and ...</td>\n",
       "    </tr>\n",
       "    <tr>\n",
       "      <th>2009-05-12</th>\n",
       "      <td>my persona will never be that of a wallflower ...</td>\n",
       "    </tr>\n",
       "    <tr>\n",
       "      <th>2009-05-13</th>\n",
       "      <td>miss usa tara conner will not be fired ive alw...</td>\n",
       "    </tr>\n",
       "  </tbody>\n",
       "</table>\n",
       "</div>"
      ],
      "text/plain": [
       "                                                       tweets\n",
       "date                                                         \n",
       "2009-05-05  donald trump will be appearing on the view tom...\n",
       "2009-05-08  donald trump reads top ten financial tips on l...\n",
       "2009-05-09  new blog post celebrity apprentice finale and ...\n",
       "2009-05-12  my persona will never be that of a wallflower ...\n",
       "2009-05-13  miss usa tara conner will not be fired ive alw..."
      ]
     },
     "execution_count": 39,
     "metadata": {},
     "output_type": "execute_result"
    }
   ],
   "source": [
    "tweet_data.daily_tweets.head()"
   ]
  },
  {
   "cell_type": "markdown",
   "metadata": {},
   "source": [
    "Split into train at test a certain date (in the example, 2018-01-01)"
   ]
  },
  {
   "cell_type": "code",
   "execution_count": 40,
   "metadata": {},
   "outputs": [],
   "source": [
    "train_tweets = tweet_data.daily_tweets[tweet_data.daily_tweets.index<=pd.to_datetime(\"2018-01-01\")]\n",
    "score_tweets = tweet_data.daily_tweets[tweet_data.daily_tweets.index>pd.to_datetime(\"2018-01-01\")]"
   ]
  },
  {
   "cell_type": "markdown",
   "metadata": {},
   "source": [
    "Create the feature generator class"
   ]
  },
  {
   "cell_type": "code",
   "execution_count": 41,
   "metadata": {},
   "outputs": [],
   "source": [
    "feature_generator_with_scores = TextFeaturesGenerator(train_tweets.tweets,score_tweets.tweets)"
   ]
  },
  {
   "cell_type": "code",
   "execution_count": 42,
   "metadata": {},
   "outputs": [],
   "source": [
    "train_svd, test_svd = feature_generator_with_scores.get_svd_tfidf_mat(n_components=10)"
   ]
  },
  {
   "cell_type": "code",
   "execution_count": 43,
   "metadata": {},
   "outputs": [
    {
     "name": "stdout",
     "output_type": "stream",
     "text": [
      "(2395, 10)\n",
      "(682, 10)\n"
     ]
    }
   ],
   "source": [
    "print(train_svd.shape)\n",
    "print(test_svd.shape)"
   ]
  },
  {
   "cell_type": "markdown",
   "metadata": {},
   "source": [
    "Convert to dataframe and add date"
   ]
  },
  {
   "cell_type": "code",
   "execution_count": 44,
   "metadata": {},
   "outputs": [
    {
     "data": {
      "text/html": [
       "<div>\n",
       "<style scoped>\n",
       "    .dataframe tbody tr th:only-of-type {\n",
       "        vertical-align: middle;\n",
       "    }\n",
       "\n",
       "    .dataframe tbody tr th {\n",
       "        vertical-align: top;\n",
       "    }\n",
       "\n",
       "    .dataframe thead th {\n",
       "        text-align: right;\n",
       "    }\n",
       "</style>\n",
       "<table border=\"1\" class=\"dataframe\">\n",
       "  <thead>\n",
       "    <tr style=\"text-align: right;\">\n",
       "      <th></th>\n",
       "      <th>0</th>\n",
       "      <th>1</th>\n",
       "      <th>2</th>\n",
       "      <th>3</th>\n",
       "      <th>4</th>\n",
       "      <th>5</th>\n",
       "      <th>6</th>\n",
       "      <th>7</th>\n",
       "      <th>8</th>\n",
       "      <th>9</th>\n",
       "      <th>date</th>\n",
       "    </tr>\n",
       "  </thead>\n",
       "  <tbody>\n",
       "    <tr>\n",
       "      <th>0</th>\n",
       "      <td>0.255383</td>\n",
       "      <td>0.094552</td>\n",
       "      <td>0.166693</td>\n",
       "      <td>0.268462</td>\n",
       "      <td>0.084693</td>\n",
       "      <td>0.037153</td>\n",
       "      <td>0.004419</td>\n",
       "      <td>-0.012995</td>\n",
       "      <td>0.019448</td>\n",
       "      <td>-0.057069</td>\n",
       "      <td>2009-05-05</td>\n",
       "    </tr>\n",
       "    <tr>\n",
       "      <th>1</th>\n",
       "      <td>0.060717</td>\n",
       "      <td>0.020085</td>\n",
       "      <td>0.073662</td>\n",
       "      <td>0.057923</td>\n",
       "      <td>0.091849</td>\n",
       "      <td>0.026812</td>\n",
       "      <td>0.024343</td>\n",
       "      <td>0.005461</td>\n",
       "      <td>0.046865</td>\n",
       "      <td>-0.023403</td>\n",
       "      <td>2009-05-08</td>\n",
       "    </tr>\n",
       "    <tr>\n",
       "      <th>2</th>\n",
       "      <td>0.081151</td>\n",
       "      <td>0.018288</td>\n",
       "      <td>0.060130</td>\n",
       "      <td>0.137244</td>\n",
       "      <td>-0.040755</td>\n",
       "      <td>0.028226</td>\n",
       "      <td>-0.140432</td>\n",
       "      <td>-0.038887</td>\n",
       "      <td>0.006821</td>\n",
       "      <td>0.016878</td>\n",
       "      <td>2009-05-09</td>\n",
       "    </tr>\n",
       "    <tr>\n",
       "      <th>3</th>\n",
       "      <td>0.108293</td>\n",
       "      <td>0.008944</td>\n",
       "      <td>0.051318</td>\n",
       "      <td>0.012111</td>\n",
       "      <td>0.093586</td>\n",
       "      <td>0.004212</td>\n",
       "      <td>0.044807</td>\n",
       "      <td>0.036510</td>\n",
       "      <td>0.011957</td>\n",
       "      <td>-0.038894</td>\n",
       "      <td>2009-05-12</td>\n",
       "    </tr>\n",
       "    <tr>\n",
       "      <th>4</th>\n",
       "      <td>0.076052</td>\n",
       "      <td>0.024311</td>\n",
       "      <td>0.064737</td>\n",
       "      <td>0.046367</td>\n",
       "      <td>0.075149</td>\n",
       "      <td>0.016460</td>\n",
       "      <td>0.013030</td>\n",
       "      <td>0.021578</td>\n",
       "      <td>0.009604</td>\n",
       "      <td>-0.023408</td>\n",
       "      <td>2009-05-13</td>\n",
       "    </tr>\n",
       "  </tbody>\n",
       "</table>\n",
       "</div>"
      ],
      "text/plain": [
       "          0         1         2         3         4         5         6  \\\n",
       "0  0.255383  0.094552  0.166693  0.268462  0.084693  0.037153  0.004419   \n",
       "1  0.060717  0.020085  0.073662  0.057923  0.091849  0.026812  0.024343   \n",
       "2  0.081151  0.018288  0.060130  0.137244 -0.040755  0.028226 -0.140432   \n",
       "3  0.108293  0.008944  0.051318  0.012111  0.093586  0.004212  0.044807   \n",
       "4  0.076052  0.024311  0.064737  0.046367  0.075149  0.016460  0.013030   \n",
       "\n",
       "          7         8         9        date  \n",
       "0 -0.012995  0.019448 -0.057069  2009-05-05  \n",
       "1  0.005461  0.046865 -0.023403  2009-05-08  \n",
       "2 -0.038887  0.006821  0.016878  2009-05-09  \n",
       "3  0.036510  0.011957 -0.038894  2009-05-12  \n",
       "4  0.021578  0.009604 -0.023408  2009-05-13  "
      ]
     },
     "execution_count": 44,
     "metadata": {},
     "output_type": "execute_result"
    }
   ],
   "source": [
    "train_svd_df = pd.DataFrame(train_svd)\n",
    "train_svd_df['date'] = train_tweets.index\n",
    "\n",
    "train_svd_df = pd.DataFrame(train_svd)\n",
    "train_svd_df['date'] = train_tweets.index\n",
    "train_svd_df.head()"
   ]
  },
  {
   "cell_type": "code",
   "execution_count": 45,
   "metadata": {},
   "outputs": [
    {
     "data": {
      "text/html": [
       "<div>\n",
       "<style scoped>\n",
       "    .dataframe tbody tr th:only-of-type {\n",
       "        vertical-align: middle;\n",
       "    }\n",
       "\n",
       "    .dataframe tbody tr th {\n",
       "        vertical-align: top;\n",
       "    }\n",
       "\n",
       "    .dataframe thead th {\n",
       "        text-align: right;\n",
       "    }\n",
       "</style>\n",
       "<table border=\"1\" class=\"dataframe\">\n",
       "  <thead>\n",
       "    <tr style=\"text-align: right;\">\n",
       "      <th></th>\n",
       "      <th>0</th>\n",
       "      <th>1</th>\n",
       "      <th>2</th>\n",
       "      <th>3</th>\n",
       "      <th>4</th>\n",
       "      <th>5</th>\n",
       "      <th>6</th>\n",
       "      <th>7</th>\n",
       "      <th>8</th>\n",
       "      <th>9</th>\n",
       "      <th>date</th>\n",
       "    </tr>\n",
       "  </thead>\n",
       "  <tbody>\n",
       "    <tr>\n",
       "      <th>0</th>\n",
       "      <td>0.477176</td>\n",
       "      <td>-0.055520</td>\n",
       "      <td>-0.089123</td>\n",
       "      <td>-0.017706</td>\n",
       "      <td>-0.019953</td>\n",
       "      <td>-0.021424</td>\n",
       "      <td>-0.113065</td>\n",
       "      <td>0.080983</td>\n",
       "      <td>-0.000404</td>\n",
       "      <td>0.034550</td>\n",
       "      <td>2018-01-02</td>\n",
       "    </tr>\n",
       "    <tr>\n",
       "      <th>1</th>\n",
       "      <td>0.481053</td>\n",
       "      <td>-0.085727</td>\n",
       "      <td>-0.085393</td>\n",
       "      <td>-0.002136</td>\n",
       "      <td>-0.024705</td>\n",
       "      <td>-0.017996</td>\n",
       "      <td>0.014202</td>\n",
       "      <td>0.071317</td>\n",
       "      <td>-0.013739</td>\n",
       "      <td>0.016359</td>\n",
       "      <td>2018-01-03</td>\n",
       "    </tr>\n",
       "    <tr>\n",
       "      <th>2</th>\n",
       "      <td>0.397138</td>\n",
       "      <td>-0.071503</td>\n",
       "      <td>-0.070591</td>\n",
       "      <td>-0.022799</td>\n",
       "      <td>-0.015327</td>\n",
       "      <td>-0.044193</td>\n",
       "      <td>-0.042444</td>\n",
       "      <td>0.040499</td>\n",
       "      <td>0.005976</td>\n",
       "      <td>0.005290</td>\n",
       "      <td>2018-01-04</td>\n",
       "    </tr>\n",
       "    <tr>\n",
       "      <th>3</th>\n",
       "      <td>0.442618</td>\n",
       "      <td>-0.027874</td>\n",
       "      <td>-0.130795</td>\n",
       "      <td>-0.002797</td>\n",
       "      <td>0.000490</td>\n",
       "      <td>-0.038139</td>\n",
       "      <td>-0.065656</td>\n",
       "      <td>0.050083</td>\n",
       "      <td>0.072613</td>\n",
       "      <td>0.050317</td>\n",
       "      <td>2018-01-05</td>\n",
       "    </tr>\n",
       "    <tr>\n",
       "      <th>4</th>\n",
       "      <td>0.365602</td>\n",
       "      <td>-0.071861</td>\n",
       "      <td>-0.074386</td>\n",
       "      <td>0.006737</td>\n",
       "      <td>-0.016290</td>\n",
       "      <td>0.081641</td>\n",
       "      <td>-0.026068</td>\n",
       "      <td>0.053572</td>\n",
       "      <td>0.048362</td>\n",
       "      <td>0.031814</td>\n",
       "      <td>2018-01-06</td>\n",
       "    </tr>\n",
       "  </tbody>\n",
       "</table>\n",
       "</div>"
      ],
      "text/plain": [
       "          0         1         2         3         4         5         6  \\\n",
       "0  0.477176 -0.055520 -0.089123 -0.017706 -0.019953 -0.021424 -0.113065   \n",
       "1  0.481053 -0.085727 -0.085393 -0.002136 -0.024705 -0.017996  0.014202   \n",
       "2  0.397138 -0.071503 -0.070591 -0.022799 -0.015327 -0.044193 -0.042444   \n",
       "3  0.442618 -0.027874 -0.130795 -0.002797  0.000490 -0.038139 -0.065656   \n",
       "4  0.365602 -0.071861 -0.074386  0.006737 -0.016290  0.081641 -0.026068   \n",
       "\n",
       "          7         8         9        date  \n",
       "0  0.080983 -0.000404  0.034550  2018-01-02  \n",
       "1  0.071317 -0.013739  0.016359  2018-01-03  \n",
       "2  0.040499  0.005976  0.005290  2018-01-04  \n",
       "3  0.050083  0.072613  0.050317  2018-01-05  \n",
       "4  0.053572  0.048362  0.031814  2018-01-06  "
      ]
     },
     "execution_count": 45,
     "metadata": {},
     "output_type": "execute_result"
    }
   ],
   "source": [
    "test_svd_df = pd.DataFrame(test_svd)\n",
    "test_svd_df['date'] = score_tweets.index\n",
    "test_svd_df.head()"
   ]
  }
 ],
 "metadata": {
  "kernelspec": {
   "display_name": "Python 3",
   "language": "python",
   "name": "python3"
  },
  "language_info": {
   "codemirror_mode": {
    "name": "ipython",
    "version": 3
   },
   "file_extension": ".py",
   "mimetype": "text/x-python",
   "name": "python",
   "nbconvert_exporter": "python",
   "pygments_lexer": "ipython3",
   "version": "3.6.7"
  },
  "pycharm": {
   "stem_cell": {
    "cell_type": "raw",
    "metadata": {
     "collapsed": false
    },
    "source": []
   }
  }
 },
 "nbformat": 4,
 "nbformat_minor": 2
}
