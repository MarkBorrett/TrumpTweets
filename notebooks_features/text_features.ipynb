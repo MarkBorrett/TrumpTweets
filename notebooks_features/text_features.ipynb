{
 "cells": [
  {
   "cell_type": "markdown",
   "metadata": {},
   "source": [
    "# Overview"
   ]
  },
  {
   "cell_type": "markdown",
   "metadata": {},
   "source": [
    "This notebook uses the 'TextFeaturesGenerator' class (from text_features) to convert textual data into qunatitaive data. \n",
    "\n",
    "For now, it creates a bag-of-words representation and a tf-idf representation. We will also add SVD/PCA of these matrices and a Word2Vec representation in the next few days.\n",
    "\n",
    "Will update the TextFeaturesGenerator class on an ongoing basis and update the usage here."
   ]
  },
  {
   "cell_type": "code",
   "execution_count": 1,
   "metadata": {
    "pycharm": {
     "is_executing": true,
     "name": "#%%\n"
    }
   },
   "outputs": [],
   "source": [
    "import sys\n",
    "sys.path.append('..') #to add top-level to path\n",
    "\n",
    "from modules.text_features import TextFeaturesGenerator\n",
    "from modules.project_helper import TweetData\n",
    "import pandas as pd\n",
    "import numpy as np\n",
    "from datetime import timedelta  \n",
    "import datetime"
   ]
  },
  {
   "cell_type": "markdown",
   "metadata": {},
   "source": [
    "Reusing the TweetData class to get cleaned tweets."
   ]
  },
  {
   "cell_type": "code",
   "execution_count": 2,
   "metadata": {
    "pycharm": {
     "is_executing": false
    }
   },
   "outputs": [
    {
     "data": {
      "text/html": [
       "<div>\n",
       "<style scoped>\n",
       "    .dataframe tbody tr th:only-of-type {\n",
       "        vertical-align: middle;\n",
       "    }\n",
       "\n",
       "    .dataframe tbody tr th {\n",
       "        vertical-align: top;\n",
       "    }\n",
       "\n",
       "    .dataframe thead th {\n",
       "        text-align: right;\n",
       "    }\n",
       "</style>\n",
       "<table border=\"1\" class=\"dataframe\">\n",
       "  <thead>\n",
       "    <tr style=\"text-align: right;\">\n",
       "      <th></th>\n",
       "      <th>tweets</th>\n",
       "      <th>timestamp</th>\n",
       "      <th>after4_date</th>\n",
       "    </tr>\n",
       "    <tr>\n",
       "      <th>timestamp</th>\n",
       "      <th></th>\n",
       "      <th></th>\n",
       "      <th></th>\n",
       "    </tr>\n",
       "  </thead>\n",
       "  <tbody>\n",
       "    <tr>\n",
       "      <th>2019-11-17 19:57:12-06:00</th>\n",
       "      <td>tell jennifer williams whoever that is to read...</td>\n",
       "      <td>2019-11-17 19:57:12-06:00</td>\n",
       "      <td>2019-11-18</td>\n",
       "    </tr>\n",
       "    <tr>\n",
       "      <th>2019-11-17 19:56:02-06:00</th>\n",
       "      <td></td>\n",
       "      <td>2019-11-17 19:56:02-06:00</td>\n",
       "      <td>2019-11-18</td>\n",
       "    </tr>\n",
       "    <tr>\n",
       "      <th>2019-11-17 19:49:47-06:00</th>\n",
       "      <td>paul krugman of has been wrong about me from t...</td>\n",
       "      <td>2019-11-17 19:49:47-06:00</td>\n",
       "      <td>2019-11-18</td>\n",
       "    </tr>\n",
       "    <tr>\n",
       "      <th>2019-11-17 19:47:32-06:00</th>\n",
       "      <td>schiff is a corrupt politician</td>\n",
       "      <td>2019-11-17 19:47:32-06:00</td>\n",
       "      <td>2019-11-18</td>\n",
       "    </tr>\n",
       "    <tr>\n",
       "      <th>2019-11-17 19:30:09-06:00</th>\n",
       "      <td>blew the nasty amp obnoxious chris wallace wil...</td>\n",
       "      <td>2019-11-17 19:30:09-06:00</td>\n",
       "      <td>2019-11-18</td>\n",
       "    </tr>\n",
       "  </tbody>\n",
       "</table>\n",
       "</div>"
      ],
      "text/plain": [
       "                                                                      tweets  \\\n",
       "timestamp                                                                      \n",
       "2019-11-17 19:57:12-06:00  tell jennifer williams whoever that is to read...   \n",
       "2019-11-17 19:56:02-06:00                                                      \n",
       "2019-11-17 19:49:47-06:00  paul krugman of has been wrong about me from t...   \n",
       "2019-11-17 19:47:32-06:00                    schiff is a corrupt politician    \n",
       "2019-11-17 19:30:09-06:00  blew the nasty amp obnoxious chris wallace wil...   \n",
       "\n",
       "                                          timestamp after4_date  \n",
       "timestamp                                                        \n",
       "2019-11-17 19:57:12-06:00 2019-11-17 19:57:12-06:00  2019-11-18  \n",
       "2019-11-17 19:56:02-06:00 2019-11-17 19:56:02-06:00  2019-11-18  \n",
       "2019-11-17 19:49:47-06:00 2019-11-17 19:49:47-06:00  2019-11-18  \n",
       "2019-11-17 19:47:32-06:00 2019-11-17 19:47:32-06:00  2019-11-18  \n",
       "2019-11-17 19:30:09-06:00 2019-11-17 19:30:09-06:00  2019-11-18  "
      ]
     },
     "execution_count": 2,
     "metadata": {},
     "output_type": "execute_result"
    }
   ],
   "source": [
    "tweet_data = TweetData()\n",
    "tweet_data.clean_tweets.head()"
   ]
  },
  {
   "cell_type": "markdown",
   "metadata": {},
   "source": [
    "# Daily Tweets"
   ]
  },
  {
   "cell_type": "markdown",
   "metadata": {},
   "source": [
    "This does the following two things:\n",
    "\n",
    "1) Change the date of the tweets after 3 PM Chicago time to the following day (as trading closes then)\n",
    "2) Concatenate all tweets in a given day to one large document"
   ]
  },
  {
   "cell_type": "code",
   "execution_count": 3,
   "metadata": {
    "scrolled": true
   },
   "outputs": [
    {
     "data": {
      "text/html": [
       "<div>\n",
       "<style scoped>\n",
       "    .dataframe tbody tr th:only-of-type {\n",
       "        vertical-align: middle;\n",
       "    }\n",
       "\n",
       "    .dataframe tbody tr th {\n",
       "        vertical-align: top;\n",
       "    }\n",
       "\n",
       "    .dataframe thead th {\n",
       "        text-align: right;\n",
       "    }\n",
       "</style>\n",
       "<table border=\"1\" class=\"dataframe\">\n",
       "  <thead>\n",
       "    <tr style=\"text-align: right;\">\n",
       "      <th></th>\n",
       "      <th>tweets</th>\n",
       "    </tr>\n",
       "    <tr>\n",
       "      <th>date</th>\n",
       "      <th></th>\n",
       "    </tr>\n",
       "  </thead>\n",
       "  <tbody>\n",
       "    <tr>\n",
       "      <th>2009-05-05</th>\n",
       "      <td>donald trump will be appearing on the view tom...</td>\n",
       "    </tr>\n",
       "    <tr>\n",
       "      <th>2009-05-08</th>\n",
       "      <td>donald trump reads top ten financial tips on l...</td>\n",
       "    </tr>\n",
       "    <tr>\n",
       "      <th>2009-05-09</th>\n",
       "      <td>new blog post celebrity apprentice finale and ...</td>\n",
       "    </tr>\n",
       "    <tr>\n",
       "      <th>2009-05-12</th>\n",
       "      <td>my persona will never be that of a wallflower ...</td>\n",
       "    </tr>\n",
       "    <tr>\n",
       "      <th>2009-05-13</th>\n",
       "      <td>miss usa tara conner will not be fired ive alw...</td>\n",
       "    </tr>\n",
       "  </tbody>\n",
       "</table>\n",
       "</div>"
      ],
      "text/plain": [
       "                                                       tweets\n",
       "date                                                         \n",
       "2009-05-05  donald trump will be appearing on the view tom...\n",
       "2009-05-08  donald trump reads top ten financial tips on l...\n",
       "2009-05-09  new blog post celebrity apprentice finale and ...\n",
       "2009-05-12  my persona will never be that of a wallflower ...\n",
       "2009-05-13  miss usa tara conner will not be fired ive alw..."
      ]
     },
     "execution_count": 3,
     "metadata": {},
     "output_type": "execute_result"
    }
   ],
   "source": [
    "tweet_data.daily_tweets.head()"
   ]
  },
  {
   "cell_type": "markdown",
   "metadata": {},
   "source": [
    "# Feature Generator"
   ]
  },
  {
   "cell_type": "markdown",
   "metadata": {},
   "source": [
    "Creating a 'TextFeaturesGenerator' instance which takes the tweets as an argument"
   ]
  },
  {
   "cell_type": "code",
   "execution_count": 4,
   "metadata": {},
   "outputs": [],
   "source": [
    "feature_generator = TextFeaturesGenerator(tweet_data.clean_tweets.tweets)"
   ]
  },
  {
   "cell_type": "markdown",
   "metadata": {},
   "source": [
    "'get_bow_matrix' creates the bag-of-words matrix"
   ]
  },
  {
   "cell_type": "code",
   "execution_count": 5,
   "metadata": {},
   "outputs": [],
   "source": [
    "bow_mat = feature_generator.get_bow_matrix()"
   ]
  },
  {
   "cell_type": "code",
   "execution_count": 6,
   "metadata": {
    "scrolled": true
   },
   "outputs": [
    {
     "data": {
      "text/plain": [
       "(28813, 17035)"
      ]
     },
     "execution_count": 6,
     "metadata": {},
     "output_type": "execute_result"
    }
   ],
   "source": [
    "bow_mat.shape"
   ]
  },
  {
   "cell_type": "markdown",
   "metadata": {},
   "source": [
    "The shape of this matrix is 27.96K rows (same number as the tweets) and the columns are 16,781, which is equal to the unique number of words in the vocabulary."
   ]
  },
  {
   "cell_type": "code",
   "execution_count": 7,
   "metadata": {},
   "outputs": [
    {
     "data": {
      "text/plain": [
       "matrix([[0, 0, 0, 0, 0, 0, 0, 0, 0, 0],\n",
       "        [0, 0, 0, 0, 0, 0, 0, 0, 0, 0],\n",
       "        [0, 0, 0, 0, 0, 0, 0, 0, 0, 0],\n",
       "        [0, 0, 0, 0, 0, 0, 0, 0, 0, 0],\n",
       "        [0, 0, 0, 0, 0, 0, 0, 0, 0, 0],\n",
       "        [0, 0, 0, 0, 0, 0, 0, 0, 0, 0],\n",
       "        [0, 0, 0, 0, 0, 0, 0, 0, 0, 0],\n",
       "        [0, 0, 0, 0, 0, 0, 0, 0, 0, 0],\n",
       "        [0, 0, 0, 0, 0, 0, 0, 0, 0, 0],\n",
       "        [0, 0, 0, 0, 0, 0, 0, 0, 0, 0]], dtype=int64)"
      ]
     },
     "execution_count": 7,
     "metadata": {},
     "output_type": "execute_result"
    }
   ],
   "source": [
    "bow_mat[:10,:10].todense()"
   ]
  },
  {
   "cell_type": "markdown",
   "metadata": {},
   "source": [
    "As you can see, most of the values are zero which is why it is stored as a 'sparse-matrix'"
   ]
  },
  {
   "cell_type": "markdown",
   "metadata": {},
   "source": [
    "Bag-of-words is simply a count of words in the tweet. A better representation is 'tf-idf'. The 'get_tfidf_matrix' creates"
   ]
  },
  {
   "cell_type": "code",
   "execution_count": 8,
   "metadata": {},
   "outputs": [
    {
     "data": {
      "text/plain": [
       "(28813, 17035)"
      ]
     },
     "execution_count": 8,
     "metadata": {},
     "output_type": "execute_result"
    }
   ],
   "source": [
    "tfidf_mat = feature_generator.get_tfidf_matrix()\n",
    "tfidf_mat.shape"
   ]
  },
  {
   "cell_type": "markdown",
   "metadata": {},
   "source": [
    "The matrices can be saved using the matrices function. You can either specify a 'folder' which will be created and both matrices stored in it, else will store in the working directory."
   ]
  },
  {
   "cell_type": "code",
   "execution_count": 9,
   "metadata": {},
   "outputs": [],
   "source": [
    "feature_generator.save_matrices()"
   ]
  },
  {
   "cell_type": "markdown",
   "metadata": {},
   "source": [
    "The two matrices will be saved with the names \"bow_mat.npz\" and \"tfidf_mat.npz\""
   ]
  },
  {
   "cell_type": "markdown",
   "metadata": {},
   "source": [
    "You can also specify a folder and a suffix to the file names."
   ]
  },
  {
   "cell_type": "code",
   "execution_count": 10,
   "metadata": {},
   "outputs": [],
   "source": [
    "#feature_generator.save_matrices(folder=\"../data/intermediate_data/matrices/\",suffix=\"_v2\")"
   ]
  },
  {
   "cell_type": "markdown",
   "metadata": {},
   "source": [
    "The files can be loaded using the following commands:"
   ]
  },
  {
   "cell_type": "code",
   "execution_count": 11,
   "metadata": {},
   "outputs": [
    {
     "name": "stdout",
     "output_type": "stream",
     "text": [
      "(28813, 17622)\n",
      "(28813, 17622)\n"
     ]
    }
   ],
   "source": [
    "from scipy import sparse\n",
    "bow_loaded = sparse.load_npz(\"bow_mat.npz\")\n",
    "tfidf_loaded = sparse.load_npz(\"tfidf_mat.npz\")\n",
    "print(bow_loaded.shape)\n",
    "print(tfidf_loaded.shape)"
   ]
  },
  {
   "cell_type": "markdown",
   "metadata": {},
   "source": [
    "## PCA (through SVD) of the matrices"
   ]
  },
  {
   "cell_type": "markdown",
   "metadata": {},
   "source": [
    "You can get the SVD of the bow and tfidf matrices as well."
   ]
  },
  {
   "cell_type": "code",
   "execution_count": 12,
   "metadata": {},
   "outputs": [],
   "source": [
    "svd_bow_mat = feature_generator.get_svd_bow_mat()"
   ]
  },
  {
   "cell_type": "code",
   "execution_count": 13,
   "metadata": {},
   "outputs": [
    {
     "data": {
      "text/plain": [
       "(28813, 2)"
      ]
     },
     "execution_count": 13,
     "metadata": {},
     "output_type": "execute_result"
    }
   ],
   "source": [
    "svd_bow_mat.shape"
   ]
  },
  {
   "cell_type": "markdown",
   "metadata": {},
   "source": [
    "By default, it gives back two components. You can changet that using the n_components argument."
   ]
  },
  {
   "cell_type": "code",
   "execution_count": 14,
   "metadata": {},
   "outputs": [],
   "source": [
    "svd_bow_mat = feature_generator.get_svd_bow_mat(n_components=100)"
   ]
  },
  {
   "cell_type": "code",
   "execution_count": 15,
   "metadata": {},
   "outputs": [
    {
     "data": {
      "text/plain": [
       "(28813, 100)"
      ]
     },
     "execution_count": 15,
     "metadata": {},
     "output_type": "execute_result"
    }
   ],
   "source": [
    "svd_bow_mat.shape"
   ]
  },
  {
   "cell_type": "markdown",
   "metadata": {},
   "source": [
    "You can get the SVD of the tf-idf as well."
   ]
  },
  {
   "cell_type": "code",
   "execution_count": 16,
   "metadata": {},
   "outputs": [],
   "source": [
    "svd_tfidf_mat = feature_generator.get_svd_bow_mat(n_components=100)"
   ]
  },
  {
   "cell_type": "code",
   "execution_count": 17,
   "metadata": {},
   "outputs": [
    {
     "data": {
      "text/plain": [
       "(28813, 100)"
      ]
     },
     "execution_count": 17,
     "metadata": {},
     "output_type": "execute_result"
    }
   ],
   "source": [
    "svd_tfidf_mat.shape"
   ]
  },
  {
   "cell_type": "markdown",
   "metadata": {},
   "source": [
    "These matrices can be saved as well."
   ]
  },
  {
   "cell_type": "code",
   "execution_count": 18,
   "metadata": {},
   "outputs": [],
   "source": [
    "feature_generator.save_matrices()"
   ]
  },
  {
   "cell_type": "markdown",
   "metadata": {},
   "source": [
    "You can load them back using np.load"
   ]
  },
  {
   "cell_type": "code",
   "execution_count": 19,
   "metadata": {},
   "outputs": [],
   "source": [
    "svd_loaded_mat = np.load('svd_tfidf_mat.npy')"
   ]
  },
  {
   "cell_type": "code",
   "execution_count": 20,
   "metadata": {
    "scrolled": true
   },
   "outputs": [
    {
     "data": {
      "text/plain": [
       "(28813, 100)"
      ]
     },
     "execution_count": 20,
     "metadata": {},
     "output_type": "execute_result"
    }
   ],
   "source": [
    "svd_loaded_mat.shape"
   ]
  },
  {
   "cell_type": "markdown",
   "metadata": {},
   "source": [
    "# Aggregagte SVD per day "
   ]
  },
  {
   "cell_type": "code",
   "execution_count": 21,
   "metadata": {},
   "outputs": [],
   "source": [
    "svd_df = pd.DataFrame(svd_loaded_mat)"
   ]
  },
  {
   "cell_type": "code",
   "execution_count": 22,
   "metadata": {},
   "outputs": [],
   "source": [
    "svd_df['timestamp'] = tweet_data.clean_tweets.index\n",
    "svd_df['date'] = svd_df.timestamp.dt.date"
   ]
  },
  {
   "cell_type": "code",
   "execution_count": 23,
   "metadata": {
    "scrolled": true
   },
   "outputs": [
    {
     "data": {
      "text/html": [
       "<div>\n",
       "<style scoped>\n",
       "    .dataframe tbody tr th:only-of-type {\n",
       "        vertical-align: middle;\n",
       "    }\n",
       "\n",
       "    .dataframe tbody tr th {\n",
       "        vertical-align: top;\n",
       "    }\n",
       "\n",
       "    .dataframe thead th {\n",
       "        text-align: right;\n",
       "    }\n",
       "</style>\n",
       "<table border=\"1\" class=\"dataframe\">\n",
       "  <thead>\n",
       "    <tr style=\"text-align: right;\">\n",
       "      <th></th>\n",
       "      <th>0</th>\n",
       "      <th>1</th>\n",
       "      <th>2</th>\n",
       "      <th>3</th>\n",
       "      <th>4</th>\n",
       "      <th>5</th>\n",
       "      <th>6</th>\n",
       "      <th>7</th>\n",
       "      <th>8</th>\n",
       "      <th>9</th>\n",
       "      <th>...</th>\n",
       "      <th>92</th>\n",
       "      <th>93</th>\n",
       "      <th>94</th>\n",
       "      <th>95</th>\n",
       "      <th>96</th>\n",
       "      <th>97</th>\n",
       "      <th>98</th>\n",
       "      <th>99</th>\n",
       "      <th>timestamp</th>\n",
       "      <th>date</th>\n",
       "    </tr>\n",
       "  </thead>\n",
       "  <tbody>\n",
       "    <tr>\n",
       "      <td>0</td>\n",
       "      <td>3.834487</td>\n",
       "      <td>1.049659</td>\n",
       "      <td>-0.752303</td>\n",
       "      <td>0.540785</td>\n",
       "      <td>0.697841</td>\n",
       "      <td>1.161297</td>\n",
       "      <td>-0.285807</td>\n",
       "      <td>0.096066</td>\n",
       "      <td>0.443987</td>\n",
       "      <td>0.020685</td>\n",
       "      <td>...</td>\n",
       "      <td>0.001997</td>\n",
       "      <td>0.283183</td>\n",
       "      <td>-0.000505</td>\n",
       "      <td>-0.116874</td>\n",
       "      <td>-0.648558</td>\n",
       "      <td>0.039167</td>\n",
       "      <td>0.324678</td>\n",
       "      <td>-0.332617</td>\n",
       "      <td>2019-11-17 19:57:12-06:00</td>\n",
       "      <td>2019-11-17</td>\n",
       "    </tr>\n",
       "    <tr>\n",
       "      <td>1</td>\n",
       "      <td>0.000000</td>\n",
       "      <td>0.000000</td>\n",
       "      <td>0.000000</td>\n",
       "      <td>0.000000</td>\n",
       "      <td>0.000000</td>\n",
       "      <td>0.000000</td>\n",
       "      <td>0.000000</td>\n",
       "      <td>0.000000</td>\n",
       "      <td>0.000000</td>\n",
       "      <td>0.000000</td>\n",
       "      <td>...</td>\n",
       "      <td>0.000000</td>\n",
       "      <td>0.000000</td>\n",
       "      <td>0.000000</td>\n",
       "      <td>0.000000</td>\n",
       "      <td>0.000000</td>\n",
       "      <td>0.000000</td>\n",
       "      <td>0.000000</td>\n",
       "      <td>0.000000</td>\n",
       "      <td>2019-11-17 19:56:02-06:00</td>\n",
       "      <td>2019-11-17</td>\n",
       "    </tr>\n",
       "    <tr>\n",
       "      <td>2</td>\n",
       "      <td>3.066449</td>\n",
       "      <td>0.750298</td>\n",
       "      <td>0.961831</td>\n",
       "      <td>-0.716980</td>\n",
       "      <td>1.161889</td>\n",
       "      <td>1.909849</td>\n",
       "      <td>0.004423</td>\n",
       "      <td>-0.184612</td>\n",
       "      <td>-0.648819</td>\n",
       "      <td>-0.123790</td>\n",
       "      <td>...</td>\n",
       "      <td>0.061167</td>\n",
       "      <td>0.216344</td>\n",
       "      <td>0.307724</td>\n",
       "      <td>-0.243496</td>\n",
       "      <td>-0.058589</td>\n",
       "      <td>0.098019</td>\n",
       "      <td>0.024762</td>\n",
       "      <td>-0.102572</td>\n",
       "      <td>2019-11-17 19:49:47-06:00</td>\n",
       "      <td>2019-11-17</td>\n",
       "    </tr>\n",
       "    <tr>\n",
       "      <td>3</td>\n",
       "      <td>0.200860</td>\n",
       "      <td>-0.106529</td>\n",
       "      <td>0.113348</td>\n",
       "      <td>0.882736</td>\n",
       "      <td>-0.032079</td>\n",
       "      <td>0.144637</td>\n",
       "      <td>-0.060565</td>\n",
       "      <td>0.017510</td>\n",
       "      <td>-0.003573</td>\n",
       "      <td>-0.142311</td>\n",
       "      <td>...</td>\n",
       "      <td>0.008687</td>\n",
       "      <td>0.018517</td>\n",
       "      <td>0.013596</td>\n",
       "      <td>0.003546</td>\n",
       "      <td>-0.025227</td>\n",
       "      <td>-0.008678</td>\n",
       "      <td>-0.004813</td>\n",
       "      <td>-0.034114</td>\n",
       "      <td>2019-11-17 19:47:32-06:00</td>\n",
       "      <td>2019-11-17</td>\n",
       "    </tr>\n",
       "    <tr>\n",
       "      <td>4</td>\n",
       "      <td>2.924057</td>\n",
       "      <td>0.136825</td>\n",
       "      <td>0.787196</td>\n",
       "      <td>-0.582478</td>\n",
       "      <td>1.228916</td>\n",
       "      <td>-0.823097</td>\n",
       "      <td>-0.837244</td>\n",
       "      <td>-0.844682</td>\n",
       "      <td>-0.611131</td>\n",
       "      <td>-0.136084</td>\n",
       "      <td>...</td>\n",
       "      <td>-0.030496</td>\n",
       "      <td>-0.322623</td>\n",
       "      <td>-0.153485</td>\n",
       "      <td>-0.305056</td>\n",
       "      <td>0.102308</td>\n",
       "      <td>0.079475</td>\n",
       "      <td>0.083862</td>\n",
       "      <td>0.094577</td>\n",
       "      <td>2019-11-17 19:30:09-06:00</td>\n",
       "      <td>2019-11-17</td>\n",
       "    </tr>\n",
       "  </tbody>\n",
       "</table>\n",
       "<p>5 rows × 102 columns</p>\n",
       "</div>"
      ],
      "text/plain": [
       "          0         1         2         3         4         5         6  \\\n",
       "0  3.834487  1.049659 -0.752303  0.540785  0.697841  1.161297 -0.285807   \n",
       "1  0.000000  0.000000  0.000000  0.000000  0.000000  0.000000  0.000000   \n",
       "2  3.066449  0.750298  0.961831 -0.716980  1.161889  1.909849  0.004423   \n",
       "3  0.200860 -0.106529  0.113348  0.882736 -0.032079  0.144637 -0.060565   \n",
       "4  2.924057  0.136825  0.787196 -0.582478  1.228916 -0.823097 -0.837244   \n",
       "\n",
       "          7         8         9  ...        92        93        94        95  \\\n",
       "0  0.096066  0.443987  0.020685  ...  0.001997  0.283183 -0.000505 -0.116874   \n",
       "1  0.000000  0.000000  0.000000  ...  0.000000  0.000000  0.000000  0.000000   \n",
       "2 -0.184612 -0.648819 -0.123790  ...  0.061167  0.216344  0.307724 -0.243496   \n",
       "3  0.017510 -0.003573 -0.142311  ...  0.008687  0.018517  0.013596  0.003546   \n",
       "4 -0.844682 -0.611131 -0.136084  ... -0.030496 -0.322623 -0.153485 -0.305056   \n",
       "\n",
       "         96        97        98        99                 timestamp  \\\n",
       "0 -0.648558  0.039167  0.324678 -0.332617 2019-11-17 19:57:12-06:00   \n",
       "1  0.000000  0.000000  0.000000  0.000000 2019-11-17 19:56:02-06:00   \n",
       "2 -0.058589  0.098019  0.024762 -0.102572 2019-11-17 19:49:47-06:00   \n",
       "3 -0.025227 -0.008678 -0.004813 -0.034114 2019-11-17 19:47:32-06:00   \n",
       "4  0.102308  0.079475  0.083862  0.094577 2019-11-17 19:30:09-06:00   \n",
       "\n",
       "         date  \n",
       "0  2019-11-17  \n",
       "1  2019-11-17  \n",
       "2  2019-11-17  \n",
       "3  2019-11-17  \n",
       "4  2019-11-17  \n",
       "\n",
       "[5 rows x 102 columns]"
      ]
     },
     "execution_count": 23,
     "metadata": {},
     "output_type": "execute_result"
    }
   ],
   "source": [
    "svd_df.head()"
   ]
  },
  {
   "cell_type": "code",
   "execution_count": 24,
   "metadata": {
    "scrolled": true
   },
   "outputs": [],
   "source": [
    "svd_df_daily = svd_df.groupby('date').agg(np.mean)"
   ]
  },
  {
   "cell_type": "code",
   "execution_count": 25,
   "metadata": {},
   "outputs": [
    {
     "data": {
      "text/html": [
       "<div>\n",
       "<style scoped>\n",
       "    .dataframe tbody tr th:only-of-type {\n",
       "        vertical-align: middle;\n",
       "    }\n",
       "\n",
       "    .dataframe tbody tr th {\n",
       "        vertical-align: top;\n",
       "    }\n",
       "\n",
       "    .dataframe thead th {\n",
       "        text-align: right;\n",
       "    }\n",
       "</style>\n",
       "<table border=\"1\" class=\"dataframe\">\n",
       "  <thead>\n",
       "    <tr style=\"text-align: right;\">\n",
       "      <th></th>\n",
       "      <th>0</th>\n",
       "      <th>1</th>\n",
       "      <th>2</th>\n",
       "      <th>3</th>\n",
       "      <th>4</th>\n",
       "      <th>5</th>\n",
       "      <th>6</th>\n",
       "      <th>7</th>\n",
       "      <th>8</th>\n",
       "      <th>9</th>\n",
       "      <th>...</th>\n",
       "      <th>90</th>\n",
       "      <th>91</th>\n",
       "      <th>92</th>\n",
       "      <th>93</th>\n",
       "      <th>94</th>\n",
       "      <th>95</th>\n",
       "      <th>96</th>\n",
       "      <th>97</th>\n",
       "      <th>98</th>\n",
       "      <th>99</th>\n",
       "    </tr>\n",
       "    <tr>\n",
       "      <th>date</th>\n",
       "      <th></th>\n",
       "      <th></th>\n",
       "      <th></th>\n",
       "      <th></th>\n",
       "      <th></th>\n",
       "      <th></th>\n",
       "      <th></th>\n",
       "      <th></th>\n",
       "      <th></th>\n",
       "      <th></th>\n",
       "      <th></th>\n",
       "      <th></th>\n",
       "      <th></th>\n",
       "      <th></th>\n",
       "      <th></th>\n",
       "      <th></th>\n",
       "      <th></th>\n",
       "      <th></th>\n",
       "      <th></th>\n",
       "      <th></th>\n",
       "      <th></th>\n",
       "    </tr>\n",
       "  </thead>\n",
       "  <tbody>\n",
       "    <tr>\n",
       "      <td>2009-05-04</td>\n",
       "      <td>1.913749</td>\n",
       "      <td>-0.747906</td>\n",
       "      <td>-0.003787</td>\n",
       "      <td>-0.296547</td>\n",
       "      <td>0.094471</td>\n",
       "      <td>-0.787979</td>\n",
       "      <td>0.052940</td>\n",
       "      <td>-0.854261</td>\n",
       "      <td>-0.816232</td>\n",
       "      <td>-0.307401</td>\n",
       "      <td>...</td>\n",
       "      <td>-0.253444</td>\n",
       "      <td>0.008926</td>\n",
       "      <td>-0.099195</td>\n",
       "      <td>0.135415</td>\n",
       "      <td>-0.066571</td>\n",
       "      <td>-0.026697</td>\n",
       "      <td>0.103465</td>\n",
       "      <td>0.191053</td>\n",
       "      <td>-0.092000</td>\n",
       "      <td>-0.234838</td>\n",
       "    </tr>\n",
       "    <tr>\n",
       "      <td>2009-05-05</td>\n",
       "      <td>1.730476</td>\n",
       "      <td>-0.740193</td>\n",
       "      <td>-0.031689</td>\n",
       "      <td>-0.506165</td>\n",
       "      <td>-0.143328</td>\n",
       "      <td>-0.601006</td>\n",
       "      <td>-0.989515</td>\n",
       "      <td>-0.805250</td>\n",
       "      <td>-0.493852</td>\n",
       "      <td>-0.394849</td>\n",
       "      <td>...</td>\n",
       "      <td>-0.044059</td>\n",
       "      <td>-0.160107</td>\n",
       "      <td>-0.092636</td>\n",
       "      <td>-0.035800</td>\n",
       "      <td>0.054119</td>\n",
       "      <td>-0.006889</td>\n",
       "      <td>0.145136</td>\n",
       "      <td>-0.021547</td>\n",
       "      <td>-0.120819</td>\n",
       "      <td>-0.220128</td>\n",
       "    </tr>\n",
       "    <tr>\n",
       "      <td>2009-05-08</td>\n",
       "      <td>0.657294</td>\n",
       "      <td>0.015502</td>\n",
       "      <td>0.343751</td>\n",
       "      <td>-0.131198</td>\n",
       "      <td>-0.185005</td>\n",
       "      <td>-0.137012</td>\n",
       "      <td>-0.157285</td>\n",
       "      <td>-0.142959</td>\n",
       "      <td>-0.297246</td>\n",
       "      <td>-0.015065</td>\n",
       "      <td>...</td>\n",
       "      <td>-0.052403</td>\n",
       "      <td>-0.080637</td>\n",
       "      <td>-0.073000</td>\n",
       "      <td>0.040072</td>\n",
       "      <td>-0.009655</td>\n",
       "      <td>-0.071746</td>\n",
       "      <td>0.058368</td>\n",
       "      <td>-0.007542</td>\n",
       "      <td>0.054075</td>\n",
       "      <td>-0.034596</td>\n",
       "    </tr>\n",
       "    <tr>\n",
       "      <td>2009-05-12</td>\n",
       "      <td>0.758495</td>\n",
       "      <td>-0.617789</td>\n",
       "      <td>-0.254773</td>\n",
       "      <td>-0.132794</td>\n",
       "      <td>0.894611</td>\n",
       "      <td>-0.351745</td>\n",
       "      <td>-0.331128</td>\n",
       "      <td>-0.610386</td>\n",
       "      <td>0.315728</td>\n",
       "      <td>-0.345302</td>\n",
       "      <td>...</td>\n",
       "      <td>0.037456</td>\n",
       "      <td>-0.192383</td>\n",
       "      <td>0.184599</td>\n",
       "      <td>0.088568</td>\n",
       "      <td>-0.098376</td>\n",
       "      <td>-0.118087</td>\n",
       "      <td>0.051968</td>\n",
       "      <td>0.065329</td>\n",
       "      <td>-0.017629</td>\n",
       "      <td>0.089943</td>\n",
       "    </tr>\n",
       "    <tr>\n",
       "      <td>2009-05-13</td>\n",
       "      <td>0.549742</td>\n",
       "      <td>-0.715264</td>\n",
       "      <td>-0.649868</td>\n",
       "      <td>-0.032409</td>\n",
       "      <td>-0.050086</td>\n",
       "      <td>0.132020</td>\n",
       "      <td>0.063894</td>\n",
       "      <td>-0.103547</td>\n",
       "      <td>-0.264288</td>\n",
       "      <td>-0.087137</td>\n",
       "      <td>...</td>\n",
       "      <td>-0.038108</td>\n",
       "      <td>-0.189308</td>\n",
       "      <td>-0.114422</td>\n",
       "      <td>-0.101642</td>\n",
       "      <td>0.047657</td>\n",
       "      <td>-0.089017</td>\n",
       "      <td>0.117612</td>\n",
       "      <td>-0.059856</td>\n",
       "      <td>-0.057277</td>\n",
       "      <td>-0.218494</td>\n",
       "    </tr>\n",
       "    <tr>\n",
       "      <td>...</td>\n",
       "      <td>...</td>\n",
       "      <td>...</td>\n",
       "      <td>...</td>\n",
       "      <td>...</td>\n",
       "      <td>...</td>\n",
       "      <td>...</td>\n",
       "      <td>...</td>\n",
       "      <td>...</td>\n",
       "      <td>...</td>\n",
       "      <td>...</td>\n",
       "      <td>...</td>\n",
       "      <td>...</td>\n",
       "      <td>...</td>\n",
       "      <td>...</td>\n",
       "      <td>...</td>\n",
       "      <td>...</td>\n",
       "      <td>...</td>\n",
       "      <td>...</td>\n",
       "      <td>...</td>\n",
       "      <td>...</td>\n",
       "      <td>...</td>\n",
       "    </tr>\n",
       "    <tr>\n",
       "      <td>2019-11-13</td>\n",
       "      <td>2.519770</td>\n",
       "      <td>0.247129</td>\n",
       "      <td>-0.212118</td>\n",
       "      <td>0.924762</td>\n",
       "      <td>-0.322130</td>\n",
       "      <td>-0.118895</td>\n",
       "      <td>-0.063160</td>\n",
       "      <td>0.127476</td>\n",
       "      <td>0.160089</td>\n",
       "      <td>-0.188983</td>\n",
       "      <td>...</td>\n",
       "      <td>0.093924</td>\n",
       "      <td>0.040859</td>\n",
       "      <td>-0.043925</td>\n",
       "      <td>-0.018499</td>\n",
       "      <td>0.066512</td>\n",
       "      <td>-0.071368</td>\n",
       "      <td>0.140639</td>\n",
       "      <td>-0.066795</td>\n",
       "      <td>-0.138603</td>\n",
       "      <td>0.023189</td>\n",
       "    </tr>\n",
       "    <tr>\n",
       "      <td>2019-11-14</td>\n",
       "      <td>2.669994</td>\n",
       "      <td>0.579700</td>\n",
       "      <td>-0.108959</td>\n",
       "      <td>0.189455</td>\n",
       "      <td>-0.083211</td>\n",
       "      <td>0.040116</td>\n",
       "      <td>-0.114184</td>\n",
       "      <td>0.223222</td>\n",
       "      <td>0.147902</td>\n",
       "      <td>0.217054</td>\n",
       "      <td>...</td>\n",
       "      <td>0.137473</td>\n",
       "      <td>0.000656</td>\n",
       "      <td>-0.029687</td>\n",
       "      <td>-0.077313</td>\n",
       "      <td>-0.067358</td>\n",
       "      <td>-0.007301</td>\n",
       "      <td>0.066117</td>\n",
       "      <td>-0.059155</td>\n",
       "      <td>-0.035581</td>\n",
       "      <td>-0.026165</td>\n",
       "    </tr>\n",
       "    <tr>\n",
       "      <td>2019-11-15</td>\n",
       "      <td>1.964659</td>\n",
       "      <td>-0.180836</td>\n",
       "      <td>-0.009068</td>\n",
       "      <td>0.079289</td>\n",
       "      <td>0.116708</td>\n",
       "      <td>-0.011782</td>\n",
       "      <td>0.171617</td>\n",
       "      <td>0.010124</td>\n",
       "      <td>0.046587</td>\n",
       "      <td>0.054752</td>\n",
       "      <td>...</td>\n",
       "      <td>0.056781</td>\n",
       "      <td>0.045793</td>\n",
       "      <td>-0.080318</td>\n",
       "      <td>0.015343</td>\n",
       "      <td>-0.076486</td>\n",
       "      <td>-0.041644</td>\n",
       "      <td>0.083092</td>\n",
       "      <td>-0.036122</td>\n",
       "      <td>-0.090159</td>\n",
       "      <td>0.023869</td>\n",
       "    </tr>\n",
       "    <tr>\n",
       "      <td>2019-11-16</td>\n",
       "      <td>1.432082</td>\n",
       "      <td>-0.775436</td>\n",
       "      <td>-0.070928</td>\n",
       "      <td>0.100455</td>\n",
       "      <td>-0.107497</td>\n",
       "      <td>-0.163684</td>\n",
       "      <td>-0.112768</td>\n",
       "      <td>0.211696</td>\n",
       "      <td>-0.175474</td>\n",
       "      <td>0.055909</td>\n",
       "      <td>...</td>\n",
       "      <td>0.029761</td>\n",
       "      <td>-0.001628</td>\n",
       "      <td>0.015719</td>\n",
       "      <td>-0.048448</td>\n",
       "      <td>0.006957</td>\n",
       "      <td>0.054639</td>\n",
       "      <td>0.098843</td>\n",
       "      <td>-0.014070</td>\n",
       "      <td>-0.048554</td>\n",
       "      <td>-0.049943</td>\n",
       "    </tr>\n",
       "    <tr>\n",
       "      <td>2019-11-17</td>\n",
       "      <td>1.238603</td>\n",
       "      <td>0.084607</td>\n",
       "      <td>0.082574</td>\n",
       "      <td>-0.000352</td>\n",
       "      <td>0.299544</td>\n",
       "      <td>0.043588</td>\n",
       "      <td>-0.234130</td>\n",
       "      <td>0.117870</td>\n",
       "      <td>-0.055197</td>\n",
       "      <td>-0.129407</td>\n",
       "      <td>...</td>\n",
       "      <td>0.035591</td>\n",
       "      <td>0.006670</td>\n",
       "      <td>-0.001102</td>\n",
       "      <td>-0.030149</td>\n",
       "      <td>0.008353</td>\n",
       "      <td>-0.018564</td>\n",
       "      <td>0.008124</td>\n",
       "      <td>-0.040004</td>\n",
       "      <td>0.044032</td>\n",
       "      <td>0.010602</td>\n",
       "    </tr>\n",
       "  </tbody>\n",
       "</table>\n",
       "<p>3037 rows × 100 columns</p>\n",
       "</div>"
      ],
      "text/plain": [
       "                  0         1         2         3         4         5   \\\n",
       "date                                                                     \n",
       "2009-05-04  1.913749 -0.747906 -0.003787 -0.296547  0.094471 -0.787979   \n",
       "2009-05-05  1.730476 -0.740193 -0.031689 -0.506165 -0.143328 -0.601006   \n",
       "2009-05-08  0.657294  0.015502  0.343751 -0.131198 -0.185005 -0.137012   \n",
       "2009-05-12  0.758495 -0.617789 -0.254773 -0.132794  0.894611 -0.351745   \n",
       "2009-05-13  0.549742 -0.715264 -0.649868 -0.032409 -0.050086  0.132020   \n",
       "...              ...       ...       ...       ...       ...       ...   \n",
       "2019-11-13  2.519770  0.247129 -0.212118  0.924762 -0.322130 -0.118895   \n",
       "2019-11-14  2.669994  0.579700 -0.108959  0.189455 -0.083211  0.040116   \n",
       "2019-11-15  1.964659 -0.180836 -0.009068  0.079289  0.116708 -0.011782   \n",
       "2019-11-16  1.432082 -0.775436 -0.070928  0.100455 -0.107497 -0.163684   \n",
       "2019-11-17  1.238603  0.084607  0.082574 -0.000352  0.299544  0.043588   \n",
       "\n",
       "                  6         7         8         9   ...        90        91  \\\n",
       "date                                                ...                       \n",
       "2009-05-04  0.052940 -0.854261 -0.816232 -0.307401  ... -0.253444  0.008926   \n",
       "2009-05-05 -0.989515 -0.805250 -0.493852 -0.394849  ... -0.044059 -0.160107   \n",
       "2009-05-08 -0.157285 -0.142959 -0.297246 -0.015065  ... -0.052403 -0.080637   \n",
       "2009-05-12 -0.331128 -0.610386  0.315728 -0.345302  ...  0.037456 -0.192383   \n",
       "2009-05-13  0.063894 -0.103547 -0.264288 -0.087137  ... -0.038108 -0.189308   \n",
       "...              ...       ...       ...       ...  ...       ...       ...   \n",
       "2019-11-13 -0.063160  0.127476  0.160089 -0.188983  ...  0.093924  0.040859   \n",
       "2019-11-14 -0.114184  0.223222  0.147902  0.217054  ...  0.137473  0.000656   \n",
       "2019-11-15  0.171617  0.010124  0.046587  0.054752  ...  0.056781  0.045793   \n",
       "2019-11-16 -0.112768  0.211696 -0.175474  0.055909  ...  0.029761 -0.001628   \n",
       "2019-11-17 -0.234130  0.117870 -0.055197 -0.129407  ...  0.035591  0.006670   \n",
       "\n",
       "                  92        93        94        95        96        97  \\\n",
       "date                                                                     \n",
       "2009-05-04 -0.099195  0.135415 -0.066571 -0.026697  0.103465  0.191053   \n",
       "2009-05-05 -0.092636 -0.035800  0.054119 -0.006889  0.145136 -0.021547   \n",
       "2009-05-08 -0.073000  0.040072 -0.009655 -0.071746  0.058368 -0.007542   \n",
       "2009-05-12  0.184599  0.088568 -0.098376 -0.118087  0.051968  0.065329   \n",
       "2009-05-13 -0.114422 -0.101642  0.047657 -0.089017  0.117612 -0.059856   \n",
       "...              ...       ...       ...       ...       ...       ...   \n",
       "2019-11-13 -0.043925 -0.018499  0.066512 -0.071368  0.140639 -0.066795   \n",
       "2019-11-14 -0.029687 -0.077313 -0.067358 -0.007301  0.066117 -0.059155   \n",
       "2019-11-15 -0.080318  0.015343 -0.076486 -0.041644  0.083092 -0.036122   \n",
       "2019-11-16  0.015719 -0.048448  0.006957  0.054639  0.098843 -0.014070   \n",
       "2019-11-17 -0.001102 -0.030149  0.008353 -0.018564  0.008124 -0.040004   \n",
       "\n",
       "                  98        99  \n",
       "date                            \n",
       "2009-05-04 -0.092000 -0.234838  \n",
       "2009-05-05 -0.120819 -0.220128  \n",
       "2009-05-08  0.054075 -0.034596  \n",
       "2009-05-12 -0.017629  0.089943  \n",
       "2009-05-13 -0.057277 -0.218494  \n",
       "...              ...       ...  \n",
       "2019-11-13 -0.138603  0.023189  \n",
       "2019-11-14 -0.035581 -0.026165  \n",
       "2019-11-15 -0.090159  0.023869  \n",
       "2019-11-16 -0.048554 -0.049943  \n",
       "2019-11-17  0.044032  0.010602  \n",
       "\n",
       "[3037 rows x 100 columns]"
      ]
     },
     "execution_count": 25,
     "metadata": {},
     "output_type": "execute_result"
    }
   ],
   "source": [
    "svd_df_daily"
   ]
  },
  {
   "cell_type": "code",
   "execution_count": 26,
   "metadata": {},
   "outputs": [],
   "source": [
    "svd_df_daily.to_csv('svd_df_daily.csv')"
   ]
  },
  {
   "cell_type": "markdown",
   "metadata": {},
   "source": [
    "# 4 PM"
   ]
  },
  {
   "cell_type": "code",
   "execution_count": 27,
   "metadata": {},
   "outputs": [],
   "source": [
    "tweet_data.clean_tweets['timestamp'] = tweet_data.clean_tweets.index\n",
    "after_4_tweets = tweet_data.clean_tweets.timestamp.dt.hour >= 15\n",
    "tweet_data.clean_tweets['after4_date'] = tweet_data.clean_tweets.timestamp.dt.date\n",
    "tweet_data.clean_tweets.loc[after_4_tweets,'after4_date'] = tweet_data.clean_tweets.timestamp[after_4_tweets].dt.date + timedelta(days=1)"
   ]
  },
  {
   "cell_type": "code",
   "execution_count": 28,
   "metadata": {
    "scrolled": false
   },
   "outputs": [
    {
     "data": {
      "text/html": [
       "<div>\n",
       "<style scoped>\n",
       "    .dataframe tbody tr th:only-of-type {\n",
       "        vertical-align: middle;\n",
       "    }\n",
       "\n",
       "    .dataframe tbody tr th {\n",
       "        vertical-align: top;\n",
       "    }\n",
       "\n",
       "    .dataframe thead th {\n",
       "        text-align: right;\n",
       "    }\n",
       "</style>\n",
       "<table border=\"1\" class=\"dataframe\">\n",
       "  <thead>\n",
       "    <tr style=\"text-align: right;\">\n",
       "      <th></th>\n",
       "      <th>tweets</th>\n",
       "      <th>timestamp</th>\n",
       "      <th>after4_date</th>\n",
       "    </tr>\n",
       "    <tr>\n",
       "      <th>timestamp</th>\n",
       "      <th></th>\n",
       "      <th></th>\n",
       "      <th></th>\n",
       "    </tr>\n",
       "  </thead>\n",
       "  <tbody>\n",
       "    <tr>\n",
       "      <td>2019-11-17 19:57:12-06:00</td>\n",
       "      <td>tell jennifer williams whoever that is to read...</td>\n",
       "      <td>2019-11-17 19:57:12-06:00</td>\n",
       "      <td>2019-11-18</td>\n",
       "    </tr>\n",
       "    <tr>\n",
       "      <td>2019-11-17 19:56:02-06:00</td>\n",
       "      <td></td>\n",
       "      <td>2019-11-17 19:56:02-06:00</td>\n",
       "      <td>2019-11-18</td>\n",
       "    </tr>\n",
       "    <tr>\n",
       "      <td>2019-11-17 19:49:47-06:00</td>\n",
       "      <td>paul krugman of has been wrong about me from t...</td>\n",
       "      <td>2019-11-17 19:49:47-06:00</td>\n",
       "      <td>2019-11-18</td>\n",
       "    </tr>\n",
       "    <tr>\n",
       "      <td>2019-11-17 19:47:32-06:00</td>\n",
       "      <td>schiff is a corrupt politician</td>\n",
       "      <td>2019-11-17 19:47:32-06:00</td>\n",
       "      <td>2019-11-18</td>\n",
       "    </tr>\n",
       "    <tr>\n",
       "      <td>2019-11-17 19:30:09-06:00</td>\n",
       "      <td>blew the nasty amp obnoxious chris wallace wil...</td>\n",
       "      <td>2019-11-17 19:30:09-06:00</td>\n",
       "      <td>2019-11-18</td>\n",
       "    </tr>\n",
       "    <tr>\n",
       "      <td>...</td>\n",
       "      <td>...</td>\n",
       "      <td>...</td>\n",
       "      <td>...</td>\n",
       "    </tr>\n",
       "    <tr>\n",
       "      <td>2019-11-12 11:25:11-06:00</td>\n",
       "      <td>why is such a focus put on nd and rd hand witn...</td>\n",
       "      <td>2019-11-12 11:25:11-06:00</td>\n",
       "      <td>2019-11-12</td>\n",
       "    </tr>\n",
       "    <tr>\n",
       "      <td>2019-11-12 03:07:37-06:00</td>\n",
       "      <td>a great try by we are all proud of you</td>\n",
       "      <td>2019-11-12 03:07:37-06:00</td>\n",
       "      <td>2019-11-12</td>\n",
       "    </tr>\n",
       "    <tr>\n",
       "      <td>2019-11-12 01:33:57-06:00</td>\n",
       "      <td>vote for sean spicer on dancing with the stars...</td>\n",
       "      <td>2019-11-12 01:33:57-06:00</td>\n",
       "      <td>2019-11-12</td>\n",
       "    </tr>\n",
       "    <tr>\n",
       "      <td>2019-11-12 00:57:13-06:00</td>\n",
       "      <td>this isnt about ukraine this isnt about impeac...</td>\n",
       "      <td>2019-11-12 00:57:13-06:00</td>\n",
       "      <td>2019-11-12</td>\n",
       "    </tr>\n",
       "    <tr>\n",
       "      <td>2019-11-11 23:58:15-06:00</td>\n",
       "      <td>want that to be an impeachable offense good lu...</td>\n",
       "      <td>2019-11-11 23:58:15-06:00</td>\n",
       "      <td>2019-11-12</td>\n",
       "    </tr>\n",
       "  </tbody>\n",
       "</table>\n",
       "<p>100 rows × 3 columns</p>\n",
       "</div>"
      ],
      "text/plain": [
       "                                                                      tweets  \\\n",
       "timestamp                                                                      \n",
       "2019-11-17 19:57:12-06:00  tell jennifer williams whoever that is to read...   \n",
       "2019-11-17 19:56:02-06:00                                                      \n",
       "2019-11-17 19:49:47-06:00  paul krugman of has been wrong about me from t...   \n",
       "2019-11-17 19:47:32-06:00                    schiff is a corrupt politician    \n",
       "2019-11-17 19:30:09-06:00  blew the nasty amp obnoxious chris wallace wil...   \n",
       "...                                                                      ...   \n",
       "2019-11-12 11:25:11-06:00  why is such a focus put on nd and rd hand witn...   \n",
       "2019-11-12 03:07:37-06:00            a great try by we are all proud of you    \n",
       "2019-11-12 01:33:57-06:00  vote for sean spicer on dancing with the stars...   \n",
       "2019-11-12 00:57:13-06:00  this isnt about ukraine this isnt about impeac...   \n",
       "2019-11-11 23:58:15-06:00  want that to be an impeachable offense good lu...   \n",
       "\n",
       "                                          timestamp after4_date  \n",
       "timestamp                                                        \n",
       "2019-11-17 19:57:12-06:00 2019-11-17 19:57:12-06:00  2019-11-18  \n",
       "2019-11-17 19:56:02-06:00 2019-11-17 19:56:02-06:00  2019-11-18  \n",
       "2019-11-17 19:49:47-06:00 2019-11-17 19:49:47-06:00  2019-11-18  \n",
       "2019-11-17 19:47:32-06:00 2019-11-17 19:47:32-06:00  2019-11-18  \n",
       "2019-11-17 19:30:09-06:00 2019-11-17 19:30:09-06:00  2019-11-18  \n",
       "...                                             ...         ...  \n",
       "2019-11-12 11:25:11-06:00 2019-11-12 11:25:11-06:00  2019-11-12  \n",
       "2019-11-12 03:07:37-06:00 2019-11-12 03:07:37-06:00  2019-11-12  \n",
       "2019-11-12 01:33:57-06:00 2019-11-12 01:33:57-06:00  2019-11-12  \n",
       "2019-11-12 00:57:13-06:00 2019-11-12 00:57:13-06:00  2019-11-12  \n",
       "2019-11-11 23:58:15-06:00 2019-11-11 23:58:15-06:00  2019-11-12  \n",
       "\n",
       "[100 rows x 3 columns]"
      ]
     },
     "execution_count": 28,
     "metadata": {},
     "output_type": "execute_result"
    }
   ],
   "source": [
    "tweet_data.clean_tweets.head(100)"
   ]
  },
  {
   "cell_type": "code",
   "execution_count": 29,
   "metadata": {
    "scrolled": true
   },
   "outputs": [
    {
     "data": {
      "text/plain": [
       "after4_date\n",
       "2009-05-05    donald trump will be appearing on the view tom...\n",
       "2009-05-08    donald trump reads top ten financial tips on l...\n",
       "2009-05-09    new blog post celebrity apprentice finale and ...\n",
       "2009-05-12    my persona will never be that of a wallflower ...\n",
       "2009-05-13    miss usa tara conner will not be fired ive alw...\n",
       "Name: tweets, dtype: object"
      ]
     },
     "execution_count": 29,
     "metadata": {},
     "output_type": "execute_result"
    }
   ],
   "source": [
    "combined_daily_tweets = tweet_data.clean_tweets.groupby('after4_date')['tweets'].apply(lambda x: ' '.join(x))\n",
    "combined_daily_tweets.head()"
   ]
  },
  {
   "cell_type": "code",
   "execution_count": 30,
   "metadata": {
    "scrolled": false
   },
   "outputs": [
    {
     "name": "stderr",
     "output_type": "stream",
     "text": [
      "/Users/lalopey/opt/anaconda3/lib/python3.7/site-packages/ipykernel_launcher.py:1: FutureWarning: The signature of `Series.to_csv` was aligned to that of `DataFrame.to_csv`, and argument 'header' will change its default value from False to True: please pass an explicit value to suppress this warning.\n",
      "  \"\"\"Entry point for launching an IPython kernel.\n"
     ]
    }
   ],
   "source": [
    "combined_daily_tweets.to_csv('../data/intermediate_data/combined_daily_tweets.csv')"
   ]
  },
  {
   "cell_type": "markdown",
   "metadata": {},
   "source": [
    "# Check if the concatenation is correct"
   ]
  },
  {
   "cell_type": "code",
   "execution_count": 31,
   "metadata": {
    "scrolled": true
   },
   "outputs": [
    {
     "data": {
      "text/plain": [
       "timestamp\n",
       "2019-10-03 13:40:19-05:00    fake news just like the snakes and gators in t...\n",
       "2019-10-03 12:09:33-05:00      schiff is a lowlife who should resign at least \n",
       "2019-10-03 11:36:23-05:00    schiff is a lying disaster for our country he ...\n",
       "2019-10-03 11:33:00-05:00     the republican party has never had such support \n",
       "2019-10-03 11:31:53-05:00    book is doing really well a study in unfairnes...\n",
       "2019-10-03 11:29:53-05:00                                      thank you hugh \n",
       "2019-10-03 11:28:49-05:00       a great book by a brilliant author buy it now \n",
       "2019-10-03 11:22:55-05:00                                   great job richard \n",
       "2019-10-03 10:52:11-05:00                       keep up the great work kellie \n",
       "2019-10-03 10:37:33-05:00    the ukraine controversy continues this morning...\n",
       "2019-10-03 10:00:00-05:00    the u s won a billion award from the world tra...\n",
       "2019-10-02 23:41:51-05:00                democrats want to steal the election \n",
       "2019-10-02 23:27:52-05:00    mississippi there is a very important election...\n",
       "2019-10-02 23:27:52-05:00    he loves our military and supports our vets de...\n",
       "2019-10-02 21:06:36-05:00                             look at this photograph \n",
       "2019-10-02 19:51:56-05:00    schiff house intel chairman got early account ...\n",
       "2019-10-02 15:48:47-05:00    the do nothing democrats should be focused on ...\n",
       "2019-10-02 15:39:07-05:00    adam schiff should only be so lucky to have th...\n",
       "2019-10-02 15:31:53-05:00    democrats are trying to undo the election rega...\n",
       "2019-10-02 15:31:03-05:00    nancy pelosi just said that she is interested ...\n",
       "2019-10-02 15:19:09-05:00    all of this impeachment nonsense which is goin...\n",
       "2019-10-02 15:02:11-05:00    now the press is trying to sell the fact that ...\n",
       "Name: tweets, dtype: object"
      ]
     },
     "execution_count": 31,
     "metadata": {},
     "output_type": "execute_result"
    }
   ],
   "source": [
    "tweet_data.clean_tweets.tweets[tweet_data.clean_tweets.after4_date==pd.to_datetime(\"2019-10-03\")]"
   ]
  },
  {
   "cell_type": "code",
   "execution_count": 32,
   "metadata": {},
   "outputs": [
    {
     "data": {
      "text/plain": [
       "after4_date\n",
       "2019-10-03    fake news just like the snakes and gators in t...\n",
       "Name: tweets, dtype: object"
      ]
     },
     "execution_count": 32,
     "metadata": {},
     "output_type": "execute_result"
    }
   ],
   "source": [
    "combined_daily_tweets[combined_daily_tweets.index.values==pd.to_datetime(\"2019-10-03\")]"
   ]
  },
  {
   "cell_type": "markdown",
   "metadata": {},
   "source": [
    "# Create SVD matrix of the combiened 4 PM tweets"
   ]
  },
  {
   "cell_type": "code",
   "execution_count": 33,
   "metadata": {},
   "outputs": [],
   "source": [
    "combined_generator = TextFeaturesGenerator(combined_daily_tweets)"
   ]
  },
  {
   "cell_type": "code",
   "execution_count": 34,
   "metadata": {
    "scrolled": true
   },
   "outputs": [],
   "source": [
    "n_components = 2\n",
    "combined_svd_df = pd.DataFrame(combined_generator.get_svd_tfidf_mat(n_components=n_components))"
   ]
  },
  {
   "cell_type": "code",
   "execution_count": 35,
   "metadata": {},
   "outputs": [],
   "source": [
    "combined_svd_df['after4_date'] = combined_daily_tweets.index.values"
   ]
  },
  {
   "cell_type": "code",
   "execution_count": 36,
   "metadata": {},
   "outputs": [
    {
     "data": {
      "text/html": [
       "<div>\n",
       "<style scoped>\n",
       "    .dataframe tbody tr th:only-of-type {\n",
       "        vertical-align: middle;\n",
       "    }\n",
       "\n",
       "    .dataframe tbody tr th {\n",
       "        vertical-align: top;\n",
       "    }\n",
       "\n",
       "    .dataframe thead th {\n",
       "        text-align: right;\n",
       "    }\n",
       "</style>\n",
       "<table border=\"1\" class=\"dataframe\">\n",
       "  <thead>\n",
       "    <tr style=\"text-align: right;\">\n",
       "      <th></th>\n",
       "      <th>0</th>\n",
       "      <th>1</th>\n",
       "      <th>after4_date</th>\n",
       "    </tr>\n",
       "  </thead>\n",
       "  <tbody>\n",
       "    <tr>\n",
       "      <td>0</td>\n",
       "      <td>0.229813</td>\n",
       "      <td>0.195852</td>\n",
       "      <td>2009-05-05</td>\n",
       "    </tr>\n",
       "    <tr>\n",
       "      <td>1</td>\n",
       "      <td>0.052079</td>\n",
       "      <td>0.062505</td>\n",
       "      <td>2009-05-08</td>\n",
       "    </tr>\n",
       "    <tr>\n",
       "      <td>2</td>\n",
       "      <td>0.079677</td>\n",
       "      <td>0.035545</td>\n",
       "      <td>2009-05-09</td>\n",
       "    </tr>\n",
       "    <tr>\n",
       "      <td>3</td>\n",
       "      <td>0.097449</td>\n",
       "      <td>0.042823</td>\n",
       "      <td>2009-05-12</td>\n",
       "    </tr>\n",
       "    <tr>\n",
       "      <td>4</td>\n",
       "      <td>0.069333</td>\n",
       "      <td>0.061978</td>\n",
       "      <td>2009-05-13</td>\n",
       "    </tr>\n",
       "  </tbody>\n",
       "</table>\n",
       "</div>"
      ],
      "text/plain": [
       "          0         1 after4_date\n",
       "0  0.229813  0.195852  2009-05-05\n",
       "1  0.052079  0.062505  2009-05-08\n",
       "2  0.079677  0.035545  2009-05-09\n",
       "3  0.097449  0.042823  2009-05-12\n",
       "4  0.069333  0.061978  2009-05-13"
      ]
     },
     "execution_count": 36,
     "metadata": {},
     "output_type": "execute_result"
    }
   ],
   "source": [
    "combined_svd_df.head()"
   ]
  },
  {
   "cell_type": "code",
   "execution_count": 37,
   "metadata": {},
   "outputs": [],
   "source": [
    "combined_svd_df.to_csv('combined_svd_df.csv')"
   ]
  },
  {
   "cell_type": "markdown",
   "metadata": {},
   "source": [
    "# Scoring Tweets"
   ]
  },
  {
   "cell_type": "code",
   "execution_count": 38,
   "metadata": {},
   "outputs": [
    {
     "data": {
      "text/html": [
       "<div>\n",
       "<style scoped>\n",
       "    .dataframe tbody tr th:only-of-type {\n",
       "        vertical-align: middle;\n",
       "    }\n",
       "\n",
       "    .dataframe tbody tr th {\n",
       "        vertical-align: top;\n",
       "    }\n",
       "\n",
       "    .dataframe thead th {\n",
       "        text-align: right;\n",
       "    }\n",
       "</style>\n",
       "<table border=\"1\" class=\"dataframe\">\n",
       "  <thead>\n",
       "    <tr style=\"text-align: right;\">\n",
       "      <th></th>\n",
       "      <th>tweets</th>\n",
       "      <th>timestamp</th>\n",
       "      <th>after4_date</th>\n",
       "    </tr>\n",
       "    <tr>\n",
       "      <th>timestamp</th>\n",
       "      <th></th>\n",
       "      <th></th>\n",
       "      <th></th>\n",
       "    </tr>\n",
       "  </thead>\n",
       "  <tbody>\n",
       "    <tr>\n",
       "      <td>2019-11-17 19:57:12-06:00</td>\n",
       "      <td>tell jennifer williams whoever that is to read...</td>\n",
       "      <td>2019-11-17 19:57:12-06:00</td>\n",
       "      <td>2019-11-18</td>\n",
       "    </tr>\n",
       "    <tr>\n",
       "      <td>2019-11-17 19:56:02-06:00</td>\n",
       "      <td></td>\n",
       "      <td>2019-11-17 19:56:02-06:00</td>\n",
       "      <td>2019-11-18</td>\n",
       "    </tr>\n",
       "    <tr>\n",
       "      <td>2019-11-17 19:49:47-06:00</td>\n",
       "      <td>paul krugman of has been wrong about me from t...</td>\n",
       "      <td>2019-11-17 19:49:47-06:00</td>\n",
       "      <td>2019-11-18</td>\n",
       "    </tr>\n",
       "    <tr>\n",
       "      <td>2019-11-17 19:47:32-06:00</td>\n",
       "      <td>schiff is a corrupt politician</td>\n",
       "      <td>2019-11-17 19:47:32-06:00</td>\n",
       "      <td>2019-11-18</td>\n",
       "    </tr>\n",
       "    <tr>\n",
       "      <td>2019-11-17 19:30:09-06:00</td>\n",
       "      <td>blew the nasty amp obnoxious chris wallace wil...</td>\n",
       "      <td>2019-11-17 19:30:09-06:00</td>\n",
       "      <td>2019-11-18</td>\n",
       "    </tr>\n",
       "  </tbody>\n",
       "</table>\n",
       "</div>"
      ],
      "text/plain": [
       "                                                                      tweets  \\\n",
       "timestamp                                                                      \n",
       "2019-11-17 19:57:12-06:00  tell jennifer williams whoever that is to read...   \n",
       "2019-11-17 19:56:02-06:00                                                      \n",
       "2019-11-17 19:49:47-06:00  paul krugman of has been wrong about me from t...   \n",
       "2019-11-17 19:47:32-06:00                    schiff is a corrupt politician    \n",
       "2019-11-17 19:30:09-06:00  blew the nasty amp obnoxious chris wallace wil...   \n",
       "\n",
       "                                          timestamp after4_date  \n",
       "timestamp                                                        \n",
       "2019-11-17 19:57:12-06:00 2019-11-17 19:57:12-06:00  2019-11-18  \n",
       "2019-11-17 19:56:02-06:00 2019-11-17 19:56:02-06:00  2019-11-18  \n",
       "2019-11-17 19:49:47-06:00 2019-11-17 19:49:47-06:00  2019-11-18  \n",
       "2019-11-17 19:47:32-06:00 2019-11-17 19:47:32-06:00  2019-11-18  \n",
       "2019-11-17 19:30:09-06:00 2019-11-17 19:30:09-06:00  2019-11-18  "
      ]
     },
     "execution_count": 38,
     "metadata": {},
     "output_type": "execute_result"
    }
   ],
   "source": [
    "tweet_data = TweetData()\n",
    "tweet_data.clean_tweets.head()"
   ]
  },
  {
   "cell_type": "code",
   "execution_count": 39,
   "metadata": {},
   "outputs": [
    {
     "data": {
      "text/html": [
       "<div>\n",
       "<style scoped>\n",
       "    .dataframe tbody tr th:only-of-type {\n",
       "        vertical-align: middle;\n",
       "    }\n",
       "\n",
       "    .dataframe tbody tr th {\n",
       "        vertical-align: top;\n",
       "    }\n",
       "\n",
       "    .dataframe thead th {\n",
       "        text-align: right;\n",
       "    }\n",
       "</style>\n",
       "<table border=\"1\" class=\"dataframe\">\n",
       "  <thead>\n",
       "    <tr style=\"text-align: right;\">\n",
       "      <th></th>\n",
       "      <th>tweets</th>\n",
       "    </tr>\n",
       "    <tr>\n",
       "      <th>date</th>\n",
       "      <th></th>\n",
       "    </tr>\n",
       "  </thead>\n",
       "  <tbody>\n",
       "    <tr>\n",
       "      <td>2009-05-05</td>\n",
       "      <td>donald trump will be appearing on the view tom...</td>\n",
       "    </tr>\n",
       "    <tr>\n",
       "      <td>2009-05-08</td>\n",
       "      <td>donald trump reads top ten financial tips on l...</td>\n",
       "    </tr>\n",
       "    <tr>\n",
       "      <td>2009-05-09</td>\n",
       "      <td>new blog post celebrity apprentice finale and ...</td>\n",
       "    </tr>\n",
       "    <tr>\n",
       "      <td>2009-05-12</td>\n",
       "      <td>my persona will never be that of a wallflower ...</td>\n",
       "    </tr>\n",
       "    <tr>\n",
       "      <td>2009-05-13</td>\n",
       "      <td>miss usa tara conner will not be fired ive alw...</td>\n",
       "    </tr>\n",
       "  </tbody>\n",
       "</table>\n",
       "</div>"
      ],
      "text/plain": [
       "                                                       tweets\n",
       "date                                                         \n",
       "2009-05-05  donald trump will be appearing on the view tom...\n",
       "2009-05-08  donald trump reads top ten financial tips on l...\n",
       "2009-05-09  new blog post celebrity apprentice finale and ...\n",
       "2009-05-12  my persona will never be that of a wallflower ...\n",
       "2009-05-13  miss usa tara conner will not be fired ive alw..."
      ]
     },
     "execution_count": 39,
     "metadata": {},
     "output_type": "execute_result"
    }
   ],
   "source": [
    "tweet_data.daily_tweets.head()"
   ]
  },
  {
   "cell_type": "markdown",
   "metadata": {},
   "source": [
    "Split into train at test a certain date (in the example, 2018-01-01)"
   ]
  },
  {
   "cell_type": "code",
   "execution_count": 40,
   "metadata": {},
   "outputs": [],
   "source": [
    "train_tweets = tweet_data.daily_tweets[tweet_data.daily_tweets.index<=pd.to_datetime(\"2018-01-01\")]\n",
    "score_tweets = tweet_data.daily_tweets[tweet_data.daily_tweets.index>pd.to_datetime(\"2018-01-01\")]"
   ]
  },
  {
   "cell_type": "markdown",
   "metadata": {},
   "source": [
    "Create the feature generator class"
   ]
  },
  {
   "cell_type": "code",
   "execution_count": 41,
   "metadata": {},
   "outputs": [],
   "source": [
    "feature_generator_with_scores = TextFeaturesGenerator(train_tweets.tweets,score_tweets.tweets)"
   ]
  },
  {
   "cell_type": "code",
   "execution_count": 42,
   "metadata": {},
   "outputs": [],
   "source": [
    "train_svd, test_svd = feature_generator_with_scores.get_svd_tfidf_mat(n_components=10)"
   ]
  },
  {
   "cell_type": "code",
   "execution_count": 43,
   "metadata": {},
   "outputs": [
    {
     "name": "stdout",
     "output_type": "stream",
     "text": [
      "(2395, 10)\n",
      "(682, 10)\n"
     ]
    }
   ],
   "source": [
    "print(train_svd.shape)\n",
    "print(test_svd.shape)"
   ]
  },
  {
   "cell_type": "markdown",
   "metadata": {},
   "source": [
    "Convert to dataframe and add date"
   ]
  },
  {
   "cell_type": "code",
   "execution_count": 44,
   "metadata": {},
   "outputs": [
    {
     "data": {
      "text/html": [
       "<div>\n",
       "<style scoped>\n",
       "    .dataframe tbody tr th:only-of-type {\n",
       "        vertical-align: middle;\n",
       "    }\n",
       "\n",
       "    .dataframe tbody tr th {\n",
       "        vertical-align: top;\n",
       "    }\n",
       "\n",
       "    .dataframe thead th {\n",
       "        text-align: right;\n",
       "    }\n",
       "</style>\n",
       "<table border=\"1\" class=\"dataframe\">\n",
       "  <thead>\n",
       "    <tr style=\"text-align: right;\">\n",
       "      <th></th>\n",
       "      <th>0</th>\n",
       "      <th>1</th>\n",
       "      <th>2</th>\n",
       "      <th>3</th>\n",
       "      <th>4</th>\n",
       "      <th>5</th>\n",
       "      <th>6</th>\n",
       "      <th>7</th>\n",
       "      <th>8</th>\n",
       "      <th>9</th>\n",
       "      <th>date</th>\n",
       "    </tr>\n",
       "  </thead>\n",
       "  <tbody>\n",
       "    <tr>\n",
       "      <td>0</td>\n",
       "      <td>0.255172</td>\n",
       "      <td>0.092125</td>\n",
       "      <td>0.183204</td>\n",
       "      <td>0.255826</td>\n",
       "      <td>0.088298</td>\n",
       "      <td>0.041543</td>\n",
       "      <td>-0.003421</td>\n",
       "      <td>-0.017150</td>\n",
       "      <td>0.035320</td>\n",
       "      <td>0.055567</td>\n",
       "      <td>2009-05-05</td>\n",
       "    </tr>\n",
       "    <tr>\n",
       "      <td>1</td>\n",
       "      <td>0.060732</td>\n",
       "      <td>0.019309</td>\n",
       "      <td>0.076875</td>\n",
       "      <td>0.052297</td>\n",
       "      <td>0.092406</td>\n",
       "      <td>0.027281</td>\n",
       "      <td>-0.026346</td>\n",
       "      <td>0.003407</td>\n",
       "      <td>0.051978</td>\n",
       "      <td>0.010131</td>\n",
       "      <td>2009-05-08</td>\n",
       "    </tr>\n",
       "    <tr>\n",
       "      <td>2</td>\n",
       "      <td>0.081247</td>\n",
       "      <td>0.017581</td>\n",
       "      <td>0.069671</td>\n",
       "      <td>0.133248</td>\n",
       "      <td>-0.036836</td>\n",
       "      <td>0.034915</td>\n",
       "      <td>0.136022</td>\n",
       "      <td>-0.045027</td>\n",
       "      <td>0.013207</td>\n",
       "      <td>-0.018155</td>\n",
       "      <td>2009-05-09</td>\n",
       "    </tr>\n",
       "    <tr>\n",
       "      <td>3</td>\n",
       "      <td>0.104220</td>\n",
       "      <td>0.007641</td>\n",
       "      <td>0.050820</td>\n",
       "      <td>0.006971</td>\n",
       "      <td>0.090410</td>\n",
       "      <td>0.004721</td>\n",
       "      <td>-0.042391</td>\n",
       "      <td>0.035917</td>\n",
       "      <td>0.017452</td>\n",
       "      <td>0.032376</td>\n",
       "      <td>2009-05-12</td>\n",
       "    </tr>\n",
       "    <tr>\n",
       "      <td>4</td>\n",
       "      <td>0.076733</td>\n",
       "      <td>0.024047</td>\n",
       "      <td>0.069054</td>\n",
       "      <td>0.042180</td>\n",
       "      <td>0.072445</td>\n",
       "      <td>0.012045</td>\n",
       "      <td>-0.011133</td>\n",
       "      <td>0.025644</td>\n",
       "      <td>-0.001294</td>\n",
       "      <td>0.033007</td>\n",
       "      <td>2009-05-13</td>\n",
       "    </tr>\n",
       "  </tbody>\n",
       "</table>\n",
       "</div>"
      ],
      "text/plain": [
       "          0         1         2         3         4         5         6  \\\n",
       "0  0.255172  0.092125  0.183204  0.255826  0.088298  0.041543 -0.003421   \n",
       "1  0.060732  0.019309  0.076875  0.052297  0.092406  0.027281 -0.026346   \n",
       "2  0.081247  0.017581  0.069671  0.133248 -0.036836  0.034915  0.136022   \n",
       "3  0.104220  0.007641  0.050820  0.006971  0.090410  0.004721 -0.042391   \n",
       "4  0.076733  0.024047  0.069054  0.042180  0.072445  0.012045 -0.011133   \n",
       "\n",
       "          7         8         9        date  \n",
       "0 -0.017150  0.035320  0.055567  2009-05-05  \n",
       "1  0.003407  0.051978  0.010131  2009-05-08  \n",
       "2 -0.045027  0.013207 -0.018155  2009-05-09  \n",
       "3  0.035917  0.017452  0.032376  2009-05-12  \n",
       "4  0.025644 -0.001294  0.033007  2009-05-13  "
      ]
     },
     "execution_count": 44,
     "metadata": {},
     "output_type": "execute_result"
    }
   ],
   "source": [
    "train_svd_df = pd.DataFrame(train_svd)\n",
    "train_svd_df['date'] = train_tweets.index\n",
    "\n",
    "train_svd_df = pd.DataFrame(train_svd)\n",
    "train_svd_df['date'] = train_tweets.index\n",
    "train_svd_df.head()"
   ]
  },
  {
   "cell_type": "code",
   "execution_count": 45,
   "metadata": {},
   "outputs": [
    {
     "data": {
      "text/html": [
       "<div>\n",
       "<style scoped>\n",
       "    .dataframe tbody tr th:only-of-type {\n",
       "        vertical-align: middle;\n",
       "    }\n",
       "\n",
       "    .dataframe tbody tr th {\n",
       "        vertical-align: top;\n",
       "    }\n",
       "\n",
       "    .dataframe thead th {\n",
       "        text-align: right;\n",
       "    }\n",
       "</style>\n",
       "<table border=\"1\" class=\"dataframe\">\n",
       "  <thead>\n",
       "    <tr style=\"text-align: right;\">\n",
       "      <th></th>\n",
       "      <th>0</th>\n",
       "      <th>1</th>\n",
       "      <th>2</th>\n",
       "      <th>3</th>\n",
       "      <th>4</th>\n",
       "      <th>5</th>\n",
       "      <th>6</th>\n",
       "      <th>7</th>\n",
       "      <th>8</th>\n",
       "      <th>9</th>\n",
       "      <th>date</th>\n",
       "    </tr>\n",
       "  </thead>\n",
       "  <tbody>\n",
       "    <tr>\n",
       "      <td>0</td>\n",
       "      <td>0.475856</td>\n",
       "      <td>-0.057664</td>\n",
       "      <td>-0.083165</td>\n",
       "      <td>-0.011788</td>\n",
       "      <td>-0.023193</td>\n",
       "      <td>-0.024715</td>\n",
       "      <td>0.113311</td>\n",
       "      <td>0.070669</td>\n",
       "      <td>-0.003210</td>\n",
       "      <td>-0.047515</td>\n",
       "      <td>2018-01-02</td>\n",
       "    </tr>\n",
       "    <tr>\n",
       "      <td>1</td>\n",
       "      <td>0.480844</td>\n",
       "      <td>-0.088982</td>\n",
       "      <td>-0.084319</td>\n",
       "      <td>0.005735</td>\n",
       "      <td>-0.024957</td>\n",
       "      <td>-0.011321</td>\n",
       "      <td>-0.008410</td>\n",
       "      <td>0.069149</td>\n",
       "      <td>-0.024373</td>\n",
       "      <td>-0.034131</td>\n",
       "      <td>2018-01-03</td>\n",
       "    </tr>\n",
       "    <tr>\n",
       "      <td>2</td>\n",
       "      <td>0.395566</td>\n",
       "      <td>-0.069907</td>\n",
       "      <td>-0.077053</td>\n",
       "      <td>-0.018488</td>\n",
       "      <td>-0.022293</td>\n",
       "      <td>-0.041572</td>\n",
       "      <td>0.045141</td>\n",
       "      <td>0.032323</td>\n",
       "      <td>0.001137</td>\n",
       "      <td>-0.013918</td>\n",
       "      <td>2018-01-04</td>\n",
       "    </tr>\n",
       "    <tr>\n",
       "      <td>3</td>\n",
       "      <td>0.442383</td>\n",
       "      <td>-0.027245</td>\n",
       "      <td>-0.129938</td>\n",
       "      <td>0.006728</td>\n",
       "      <td>0.001319</td>\n",
       "      <td>-0.036676</td>\n",
       "      <td>0.073748</td>\n",
       "      <td>0.046921</td>\n",
       "      <td>0.063788</td>\n",
       "      <td>-0.054366</td>\n",
       "      <td>2018-01-05</td>\n",
       "    </tr>\n",
       "    <tr>\n",
       "      <td>4</td>\n",
       "      <td>0.365892</td>\n",
       "      <td>-0.071711</td>\n",
       "      <td>-0.074081</td>\n",
       "      <td>0.010866</td>\n",
       "      <td>-0.013835</td>\n",
       "      <td>0.084723</td>\n",
       "      <td>0.026269</td>\n",
       "      <td>0.051004</td>\n",
       "      <td>0.048330</td>\n",
       "      <td>-0.044919</td>\n",
       "      <td>2018-01-06</td>\n",
       "    </tr>\n",
       "  </tbody>\n",
       "</table>\n",
       "</div>"
      ],
      "text/plain": [
       "          0         1         2         3         4         5         6  \\\n",
       "0  0.475856 -0.057664 -0.083165 -0.011788 -0.023193 -0.024715  0.113311   \n",
       "1  0.480844 -0.088982 -0.084319  0.005735 -0.024957 -0.011321 -0.008410   \n",
       "2  0.395566 -0.069907 -0.077053 -0.018488 -0.022293 -0.041572  0.045141   \n",
       "3  0.442383 -0.027245 -0.129938  0.006728  0.001319 -0.036676  0.073748   \n",
       "4  0.365892 -0.071711 -0.074081  0.010866 -0.013835  0.084723  0.026269   \n",
       "\n",
       "          7         8         9        date  \n",
       "0  0.070669 -0.003210 -0.047515  2018-01-02  \n",
       "1  0.069149 -0.024373 -0.034131  2018-01-03  \n",
       "2  0.032323  0.001137 -0.013918  2018-01-04  \n",
       "3  0.046921  0.063788 -0.054366  2018-01-05  \n",
       "4  0.051004  0.048330 -0.044919  2018-01-06  "
      ]
     },
     "execution_count": 45,
     "metadata": {},
     "output_type": "execute_result"
    }
   ],
   "source": [
    "test_svd_df = pd.DataFrame(test_svd)\n",
    "test_svd_df['date'] = score_tweets.index\n",
    "test_svd_df.head()"
   ]
  },
  {
   "cell_type": "code",
   "execution_count": 46,
   "metadata": {},
   "outputs": [
    {
     "ename": "NameError",
     "evalue": "name 'plt' is not defined",
     "output_type": "error",
     "traceback": [
      "\u001b[0;31m---------------------------------------------------------------------------\u001b[0m",
      "\u001b[0;31mNameError\u001b[0m                                 Traceback (most recent call last)",
      "\u001b[0;32m<ipython-input-46-320f7f1f3626>\u001b[0m in \u001b[0;36m<module>\u001b[0;34m\u001b[0m\n\u001b[0;32m----> 1\u001b[0;31m \u001b[0mplt\u001b[0m\u001b[0;34m.\u001b[0m\u001b[0mplot\u001b[0m\u001b[0;34m(\u001b[0m\u001b[0mfinal_daily_tweets\u001b[0m\u001b[0;34m.\u001b[0m\u001b[0mgroupby\u001b[0m\u001b[0;34m(\u001b[0m\u001b[0;34m'after4_date'\u001b[0m\u001b[0;34m)\u001b[0m\u001b[0;34m.\u001b[0m\u001b[0mmax\u001b[0m\u001b[0;34m(\u001b[0m\u001b[0;34m)\u001b[0m\u001b[0;34m.\u001b[0m\u001b[0msingle_ret\u001b[0m\u001b[0;34m)\u001b[0m\u001b[0;34m\u001b[0m\u001b[0;34m\u001b[0m\u001b[0m\n\u001b[0m",
      "\u001b[0;31mNameError\u001b[0m: name 'plt' is not defined"
     ]
    }
   ],
   "source": [
    "plt.plot(final_daily_tweets.groupby('after4_date').max().single_ret)"
   ]
  }
 ],
 "metadata": {
  "kernelspec": {
   "display_name": "Python 3",
   "language": "python",
   "name": "python3"
  },
  "language_info": {
   "codemirror_mode": {
    "name": "ipython",
    "version": 3
   },
   "file_extension": ".py",
   "mimetype": "text/x-python",
   "name": "python",
   "nbconvert_exporter": "python",
   "pygments_lexer": "ipython3",
   "version": "3.6.8"
  },
  "pycharm": {
   "stem_cell": {
    "cell_type": "raw",
    "metadata": {
     "collapsed": false
    },
    "source": []
   }
  }
 },
 "nbformat": 4,
 "nbformat_minor": 2
}
