{
 "cells": [
  {
   "cell_type": "code",
   "execution_count": 1,
   "metadata": {},
   "outputs": [],
   "source": [
    "import sys\n",
    "sys.path.append('..') #to add top-level to path\n",
    "\n",
    "from modules.project_helper import TweetData, IntradayData, FuturesCloseData\n",
    "import pandas as pd\n",
    "import numpy as np\n",
    "from pytz import timezone\n",
    "import datetime\n",
    "from datetime import timedelta  \n",
    "from tqdm import tqdm\n",
    "import copy\n",
    "import matplotlib.pyplot as plt\n",
    "\n",
    "import warnings\n",
    "warnings.simplefilter(action='ignore', category=FutureWarning)"
   ]
  },
  {
   "cell_type": "markdown",
   "metadata": {},
   "source": [
    "# Intraday S&P500 futures features"
   ]
  },
  {
   "cell_type": "markdown",
   "metadata": {},
   "source": [
    "This notebook creates features derived from Trump's tweets, where we observe short term returns in S&P500 futures after each tweet. We look at 1 minute, 5 minute, and 15 minute returns after every tweet\n",
    "\n",
    "A project from this class, two years ago, found that 5 minute returns was the most predictive out of short term returns: https://pdfs.semanticscholar.org/af67/ae4c3ac357679c10ddc394df52d392432f63.pdf. \n",
    "\n",
    "It's normal to see an overreaction to a tweet the market thinks relevant, and then see a portion of the move fade. Instead of focusing on the most predictive return, we will look at the difference between 15 minute returns and 5 minute returns, as well as an average of 1, 5, and 15 mnute returns. \n",
    "\n",
    "From here we have three features: \n",
    "\n",
    "- **intra_ret_1**: The 1 minute return for the tweet with the largest absolute 1 minute return for the day\n",
    "- **intra_ret_5**: The 5 minute return for the tweet with the largest absolute 5 minute return for the day\n",
    "- **intra_ret_15**: The 15 minute return for the tweet with the largest absolute 15 minute return for the day\n",
    "- **intra_blend**: Average of the last 3 features\n",
    "- **intra_diff_15_5**: Difference between 15 minute and 5 minute return, same tweet used for intra_ret_5. If it's positive, the move kept going in the same direction of the 5 minute return, if negative, the move faded."
   ]
  },
  {
   "cell_type": "code",
   "execution_count": 2,
   "metadata": {},
   "outputs": [
    {
     "data": {
      "text/html": [
       "<div>\n",
       "<style scoped>\n",
       "    .dataframe tbody tr th:only-of-type {\n",
       "        vertical-align: middle;\n",
       "    }\n",
       "\n",
       "    .dataframe tbody tr th {\n",
       "        vertical-align: top;\n",
       "    }\n",
       "\n",
       "    .dataframe thead th {\n",
       "        text-align: right;\n",
       "    }\n",
       "</style>\n",
       "<table border=\"1\" class=\"dataframe\">\n",
       "  <thead>\n",
       "    <tr style=\"text-align: right;\">\n",
       "      <th></th>\n",
       "      <th>tweets</th>\n",
       "    </tr>\n",
       "    <tr>\n",
       "      <th>timestamp</th>\n",
       "      <th></th>\n",
       "    </tr>\n",
       "  </thead>\n",
       "  <tbody>\n",
       "    <tr>\n",
       "      <td>2019-11-17 19:57:12-06:00</td>\n",
       "      <td>\"Tell Jennifer Williams whoever that is to rea...</td>\n",
       "    </tr>\n",
       "    <tr>\n",
       "      <td>2019-11-17 19:56:02-06:00</td>\n",
       "      <td>\"https://t.co/I3lO117SVh</td>\n",
       "    </tr>\n",
       "    <tr>\n",
       "      <td>2019-11-17 19:49:47-06:00</td>\n",
       "      <td>\"Paul Krugman of @nytimes has been wrong about...</td>\n",
       "    </tr>\n",
       "    <tr>\n",
       "      <td>2019-11-17 19:47:32-06:00</td>\n",
       "      <td>\"Schiff is a Corrupt Politician! https://t.co/...</td>\n",
       "    </tr>\n",
       "    <tr>\n",
       "      <td>2019-11-17 19:30:09-06:00</td>\n",
       "      <td>\".@SteveScalise blew the nasty &amp;amp; obnoxious...</td>\n",
       "    </tr>\n",
       "  </tbody>\n",
       "</table>\n",
       "</div>"
      ],
      "text/plain": [
       "                                                                      tweets\n",
       "timestamp                                                                   \n",
       "2019-11-17 19:57:12-06:00  \"Tell Jennifer Williams whoever that is to rea...\n",
       "2019-11-17 19:56:02-06:00                           \"https://t.co/I3lO117SVh\n",
       "2019-11-17 19:49:47-06:00  \"Paul Krugman of @nytimes has been wrong about...\n",
       "2019-11-17 19:47:32-06:00  \"Schiff is a Corrupt Politician! https://t.co/...\n",
       "2019-11-17 19:30:09-06:00  \".@SteveScalise blew the nasty &amp; obnoxious..."
      ]
     },
     "execution_count": 2,
     "metadata": {},
     "output_type": "execute_result"
    }
   ],
   "source": [
    "tweet_data = TweetData()\n",
    "tweet_data.raw_tweets.head()"
   ]
  },
  {
   "cell_type": "code",
   "execution_count": 3,
   "metadata": {},
   "outputs": [],
   "source": [
    "md = IntradayData()\n",
    "fin_data = md.get_data()"
   ]
  },
  {
   "cell_type": "code",
   "execution_count": 4,
   "metadata": {},
   "outputs": [
    {
     "data": {
      "text/plain": [
       "321"
      ]
     },
     "execution_count": 4,
     "metadata": {},
     "output_type": "execute_result"
    }
   ],
   "source": [
    "# Number of tweets with exactly the same timestamp\n",
    "len(tweet_data.raw_tweets.index) - len(set(tweet_data.raw_tweets.index))"
   ]
  },
  {
   "cell_type": "code",
   "execution_count": 5,
   "metadata": {},
   "outputs": [
    {
     "name": "stdout",
     "output_type": "stream",
     "text": [
      "(1040156, 2)\n"
     ]
    },
    {
     "data": {
      "text/html": [
       "<div>\n",
       "<style scoped>\n",
       "    .dataframe tbody tr th:only-of-type {\n",
       "        vertical-align: middle;\n",
       "    }\n",
       "\n",
       "    .dataframe tbody tr th {\n",
       "        vertical-align: top;\n",
       "    }\n",
       "\n",
       "    .dataframe thead th {\n",
       "        text-align: right;\n",
       "    }\n",
       "</style>\n",
       "<table border=\"1\" class=\"dataframe\">\n",
       "  <thead>\n",
       "    <tr style=\"text-align: right;\">\n",
       "      <th></th>\n",
       "      <th>Open</th>\n",
       "      <th>Close</th>\n",
       "    </tr>\n",
       "    <tr>\n",
       "      <th>timestamp</th>\n",
       "      <th></th>\n",
       "      <th></th>\n",
       "    </tr>\n",
       "  </thead>\n",
       "  <tbody>\n",
       "    <tr>\n",
       "      <td>2016-11-13 17:01:00-06:00</td>\n",
       "      <td>2183.00</td>\n",
       "      <td>2183.25</td>\n",
       "    </tr>\n",
       "    <tr>\n",
       "      <td>2016-11-13 17:02:00-06:00</td>\n",
       "      <td>2183.25</td>\n",
       "      <td>2182.00</td>\n",
       "    </tr>\n",
       "    <tr>\n",
       "      <td>2016-11-13 17:03:00-06:00</td>\n",
       "      <td>2182.00</td>\n",
       "      <td>2182.75</td>\n",
       "    </tr>\n",
       "    <tr>\n",
       "      <td>2016-11-13 17:04:00-06:00</td>\n",
       "      <td>2182.50</td>\n",
       "      <td>2182.50</td>\n",
       "    </tr>\n",
       "    <tr>\n",
       "      <td>2016-11-13 17:05:00-06:00</td>\n",
       "      <td>2182.75</td>\n",
       "      <td>2183.00</td>\n",
       "    </tr>\n",
       "  </tbody>\n",
       "</table>\n",
       "</div>"
      ],
      "text/plain": [
       "                              Open    Close\n",
       "timestamp                                  \n",
       "2016-11-13 17:01:00-06:00  2183.00  2183.25\n",
       "2016-11-13 17:02:00-06:00  2183.25  2182.00\n",
       "2016-11-13 17:03:00-06:00  2182.00  2182.75\n",
       "2016-11-13 17:04:00-06:00  2182.50  2182.50\n",
       "2016-11-13 17:05:00-06:00  2182.75  2183.00"
      ]
     },
     "execution_count": 5,
     "metadata": {},
     "output_type": "execute_result"
    }
   ],
   "source": [
    "print(fin_data.shape)\n",
    "fin_data.head()"
   ]
  },
  {
   "cell_type": "code",
   "execution_count": 6,
   "metadata": {},
   "outputs": [],
   "source": [
    "subset = (tweet_data.raw_tweets.index > fin_data.index[0]) & (tweet_data.raw_tweets.index < fin_data.index[-1])\n",
    "sub_data = tweet_data.raw_tweets[subset]"
   ]
  },
  {
   "cell_type": "code",
   "execution_count": 7,
   "metadata": {},
   "outputs": [
    {
     "data": {
      "text/html": [
       "<div>\n",
       "<style scoped>\n",
       "    .dataframe tbody tr th:only-of-type {\n",
       "        vertical-align: middle;\n",
       "    }\n",
       "\n",
       "    .dataframe tbody tr th {\n",
       "        vertical-align: top;\n",
       "    }\n",
       "\n",
       "    .dataframe thead th {\n",
       "        text-align: right;\n",
       "    }\n",
       "</style>\n",
       "<table border=\"1\" class=\"dataframe\">\n",
       "  <thead>\n",
       "    <tr style=\"text-align: right;\">\n",
       "      <th></th>\n",
       "      <th>tweets</th>\n",
       "    </tr>\n",
       "    <tr>\n",
       "      <th>timestamp</th>\n",
       "      <th></th>\n",
       "    </tr>\n",
       "  </thead>\n",
       "  <tbody>\n",
       "    <tr>\n",
       "      <td>2019-11-08 03:08:53-06:00</td>\n",
       "      <td>\"https://t.co/z0I7wBsgTP</td>\n",
       "    </tr>\n",
       "    <tr>\n",
       "      <td>2019-11-08 00:08:15-06:00</td>\n",
       "      <td>\"STATEMENT FROM PRESIDENT DONALD J. TRUMP http...</td>\n",
       "    </tr>\n",
       "    <tr>\n",
       "      <td>2019-11-07 15:43:29-06:00</td>\n",
       "      <td>\"Stock Market up big today. A New Record. Enjoy!</td>\n",
       "    </tr>\n",
       "    <tr>\n",
       "      <td>2019-11-07 15:41:53-06:00</td>\n",
       "      <td>\"The Radical Left Dems and LameStream Media ar...</td>\n",
       "    </tr>\n",
       "    <tr>\n",
       "      <td>2019-11-07 15:27:57-06:00</td>\n",
       "      <td>\"The Amazon Washington Post and three lowlife ...</td>\n",
       "    </tr>\n",
       "  </tbody>\n",
       "</table>\n",
       "</div>"
      ],
      "text/plain": [
       "                                                                      tweets\n",
       "timestamp                                                                   \n",
       "2019-11-08 03:08:53-06:00                           \"https://t.co/z0I7wBsgTP\n",
       "2019-11-08 00:08:15-06:00  \"STATEMENT FROM PRESIDENT DONALD J. TRUMP http...\n",
       "2019-11-07 15:43:29-06:00   \"Stock Market up big today. A New Record. Enjoy!\n",
       "2019-11-07 15:41:53-06:00  \"The Radical Left Dems and LameStream Media ar...\n",
       "2019-11-07 15:27:57-06:00  \"The Amazon Washington Post and three lowlife ..."
      ]
     },
     "execution_count": 7,
     "metadata": {},
     "output_type": "execute_result"
    }
   ],
   "source": [
    "sub_data.head()"
   ]
  },
  {
   "cell_type": "markdown",
   "metadata": {},
   "source": [
    "Getting indices for the tweets found in the different timeframes we're looking at"
   ]
  },
  {
   "cell_type": "code",
   "execution_count": 8,
   "metadata": {},
   "outputs": [],
   "source": [
    "ts_pre = [ time + datetime.timedelta(seconds = - time.second) for i, time in enumerate(sub_data.index)]\n",
    "ts_post = [ time + datetime.timedelta(seconds = 60*1 - time.second) for i, time in enumerate(sub_data.index)]\n",
    "ts_1min = [ time + datetime.timedelta(seconds = 60*2 - time.second) for i, time in enumerate(sub_data.index)]\n",
    "ts_5min = [ time + datetime.timedelta(seconds = 60*6 - time.second) for i, time in enumerate(sub_data.index)]\n",
    "ts_15min = [ time + datetime.timedelta(seconds = 60*16 - time.second) for i, time in enumerate(sub_data.index)]"
   ]
  },
  {
   "cell_type": "code",
   "execution_count": 9,
   "metadata": {},
   "outputs": [
    {
     "data": {
      "text/html": [
       "<div>\n",
       "<style scoped>\n",
       "    .dataframe tbody tr th:only-of-type {\n",
       "        vertical-align: middle;\n",
       "    }\n",
       "\n",
       "    .dataframe tbody tr th {\n",
       "        vertical-align: top;\n",
       "    }\n",
       "\n",
       "    .dataframe thead th {\n",
       "        text-align: right;\n",
       "    }\n",
       "</style>\n",
       "<table border=\"1\" class=\"dataframe\">\n",
       "  <thead>\n",
       "    <tr style=\"text-align: right;\">\n",
       "      <th></th>\n",
       "      <th>tweets</th>\n",
       "    </tr>\n",
       "    <tr>\n",
       "      <th>timestamp</th>\n",
       "      <th></th>\n",
       "    </tr>\n",
       "  </thead>\n",
       "  <tbody>\n",
       "    <tr>\n",
       "      <td>2019-11-08 03:09:00-06:00</td>\n",
       "      <td>\"https://t.co/z0I7wBsgTP</td>\n",
       "    </tr>\n",
       "    <tr>\n",
       "      <td>2019-11-08 00:09:00-06:00</td>\n",
       "      <td>\"STATEMENT FROM PRESIDENT DONALD J. TRUMP http...</td>\n",
       "    </tr>\n",
       "    <tr>\n",
       "      <td>2019-11-07 15:44:00-06:00</td>\n",
       "      <td>\"Stock Market up big today. A New Record. Enjoy!</td>\n",
       "    </tr>\n",
       "    <tr>\n",
       "      <td>2019-11-07 15:42:00-06:00</td>\n",
       "      <td>\"The Radical Left Dems and LameStream Media ar...</td>\n",
       "    </tr>\n",
       "    <tr>\n",
       "      <td>2019-11-07 15:28:00-06:00</td>\n",
       "      <td>\"The Amazon Washington Post and three lowlife ...</td>\n",
       "    </tr>\n",
       "  </tbody>\n",
       "</table>\n",
       "</div>"
      ],
      "text/plain": [
       "                                                                      tweets\n",
       "timestamp                                                                   \n",
       "2019-11-08 03:09:00-06:00                           \"https://t.co/z0I7wBsgTP\n",
       "2019-11-08 00:09:00-06:00  \"STATEMENT FROM PRESIDENT DONALD J. TRUMP http...\n",
       "2019-11-07 15:44:00-06:00   \"Stock Market up big today. A New Record. Enjoy!\n",
       "2019-11-07 15:42:00-06:00  \"The Radical Left Dems and LameStream Media ar...\n",
       "2019-11-07 15:28:00-06:00  \"The Amazon Washington Post and three lowlife ..."
      ]
     },
     "execution_count": 9,
     "metadata": {},
     "output_type": "execute_result"
    }
   ],
   "source": [
    "min_dict = {}\n",
    "for i, ts in enumerate(ts_post):\n",
    "    try:\n",
    "        min_dict[ts] = min_dict[ts] + sub_data.tweets.iloc[i]\n",
    "    except KeyError:\n",
    "        min_dict[ts] = sub_data.tweets.iloc[i]\n",
    "        \n",
    "data_min = pd.DataFrame(data = min_dict.values(), index = min_dict.keys())\n",
    "data_min.columns = ['tweets']\n",
    "data_min.index.name = 'timestamp'\n",
    "data_min.head()"
   ]
  },
  {
   "cell_type": "code",
   "execution_count": 10,
   "metadata": {},
   "outputs": [],
   "source": [
    "ts_dict = {a:b for a, b in zip(ts_post, sub_data.index)}"
   ]
  },
  {
   "cell_type": "code",
   "execution_count": 11,
   "metadata": {},
   "outputs": [],
   "source": [
    "for ret, ts in zip(['ret_1', 'ret_5', 'ret_15'],[ts_1min,ts_5min,ts_15min] ):\n",
    "    imp_open = fin_data.loc[ts_post]['Open']\n",
    "    imp_close = fin_data.loc[ts]['Close']\n",
    "    hl = (imp_open - imp_close.values)/imp_open\n",
    "    hl = hl.loc[~hl.index.duplicated(keep='first')]\n",
    "    data_min[ret] = hl.values\n",
    "    \n",
    "data_min = data_min.dropna()"
   ]
  },
  {
   "cell_type": "code",
   "execution_count": 12,
   "metadata": {},
   "outputs": [
    {
     "data": {
      "text/html": [
       "<div>\n",
       "<style scoped>\n",
       "    .dataframe tbody tr th:only-of-type {\n",
       "        vertical-align: middle;\n",
       "    }\n",
       "\n",
       "    .dataframe tbody tr th {\n",
       "        vertical-align: top;\n",
       "    }\n",
       "\n",
       "    .dataframe thead th {\n",
       "        text-align: right;\n",
       "    }\n",
       "</style>\n",
       "<table border=\"1\" class=\"dataframe\">\n",
       "  <thead>\n",
       "    <tr style=\"text-align: right;\">\n",
       "      <th></th>\n",
       "      <th>tweets</th>\n",
       "      <th>ret_1</th>\n",
       "      <th>ret_5</th>\n",
       "      <th>ret_15</th>\n",
       "    </tr>\n",
       "    <tr>\n",
       "      <th>timestamp</th>\n",
       "      <th></th>\n",
       "      <th></th>\n",
       "      <th></th>\n",
       "      <th></th>\n",
       "    </tr>\n",
       "  </thead>\n",
       "  <tbody>\n",
       "    <tr>\n",
       "      <td>2019-11-08 03:09:00-06:00</td>\n",
       "      <td>\"https://t.co/z0I7wBsgTP</td>\n",
       "      <td>0.000162</td>\n",
       "      <td>0.000406</td>\n",
       "      <td>0.000406</td>\n",
       "    </tr>\n",
       "    <tr>\n",
       "      <td>2019-11-08 00:09:00-06:00</td>\n",
       "      <td>\"STATEMENT FROM PRESIDENT DONALD J. TRUMP http...</td>\n",
       "      <td>0.000162</td>\n",
       "      <td>0.000244</td>\n",
       "      <td>0.000244</td>\n",
       "    </tr>\n",
       "    <tr>\n",
       "      <td>2019-11-07 15:44:00-06:00</td>\n",
       "      <td>\"Stock Market up big today. A New Record. Enjoy!</td>\n",
       "      <td>-0.000081</td>\n",
       "      <td>0.000000</td>\n",
       "      <td>0.000000</td>\n",
       "    </tr>\n",
       "    <tr>\n",
       "      <td>2019-11-07 15:42:00-06:00</td>\n",
       "      <td>\"The Radical Left Dems and LameStream Media ar...</td>\n",
       "      <td>0.000000</td>\n",
       "      <td>0.000000</td>\n",
       "      <td>0.000000</td>\n",
       "    </tr>\n",
       "    <tr>\n",
       "      <td>2019-11-07 14:52:00-06:00</td>\n",
       "      <td>\"What did Hunter Biden do for the money? @SenJ...</td>\n",
       "      <td>0.000730</td>\n",
       "      <td>0.000730</td>\n",
       "      <td>-0.000081</td>\n",
       "    </tr>\n",
       "  </tbody>\n",
       "</table>\n",
       "</div>"
      ],
      "text/plain": [
       "                                                                      tweets  \\\n",
       "timestamp                                                                      \n",
       "2019-11-08 03:09:00-06:00                           \"https://t.co/z0I7wBsgTP   \n",
       "2019-11-08 00:09:00-06:00  \"STATEMENT FROM PRESIDENT DONALD J. TRUMP http...   \n",
       "2019-11-07 15:44:00-06:00   \"Stock Market up big today. A New Record. Enjoy!   \n",
       "2019-11-07 15:42:00-06:00  \"The Radical Left Dems and LameStream Media ar...   \n",
       "2019-11-07 14:52:00-06:00  \"What did Hunter Biden do for the money? @SenJ...   \n",
       "\n",
       "                              ret_1     ret_5    ret_15  \n",
       "timestamp                                                \n",
       "2019-11-08 03:09:00-06:00  0.000162  0.000406  0.000406  \n",
       "2019-11-08 00:09:00-06:00  0.000162  0.000244  0.000244  \n",
       "2019-11-07 15:44:00-06:00 -0.000081  0.000000  0.000000  \n",
       "2019-11-07 15:42:00-06:00  0.000000  0.000000  0.000000  \n",
       "2019-11-07 14:52:00-06:00  0.000730  0.000730 -0.000081  "
      ]
     },
     "execution_count": 12,
     "metadata": {},
     "output_type": "execute_result"
    }
   ],
   "source": [
    "data_min.head()"
   ]
  },
  {
   "cell_type": "code",
   "execution_count": 13,
   "metadata": {},
   "outputs": [
    {
     "name": "stderr",
     "output_type": "stream",
     "text": [
      "/Users/lalopey/opt/anaconda3/lib/python3.7/site-packages/ipykernel_launcher.py:3: SettingWithCopyWarning: \n",
      "A value is trying to be set on a copy of a slice from a DataFrame\n",
      "\n",
      "See the caveats in the documentation: http://pandas.pydata.org/pandas-docs/stable/user_guide/indexing.html#returning-a-view-versus-a-copy\n",
      "  This is separate from the ipykernel package so we can avoid doing imports until\n"
     ]
    }
   ],
   "source": [
    "after_4_tweets = data_min.index.hour >= 15\n",
    "data_min['after4_date'] = data_min.index\n",
    "data_min.after4_date[after_4_tweets] +=  timedelta(days=1)\n",
    "data_min.after4_date =data_min.after4_date.dt.date"
   ]
  },
  {
   "cell_type": "markdown",
   "metadata": {},
   "source": [
    "Difference between 15 minute and 5 minute return, same tweet used for intra_ret_5. If it's positive, the move kept going in the same direction of the 5 minute return, if negative, the move faded."
   ]
  },
  {
   "cell_type": "code",
   "execution_count": 14,
   "metadata": {},
   "outputs": [],
   "source": [
    "mini = data_min.groupby('after4_date').min()\n",
    "mini_15 = data_min.loc[data_min.groupby('after4_date').idxmin().ret_5][['ret_15','after4_date']]\n",
    "mini_15 = mini_15.set_index('after4_date')\n",
    "mini['diff_15_5'] = mini_15 \n",
    "# notice different sides for the diff_15_5 in mini and maxi calculations\n",
    "mini['diff_15_5'] = mini['ret_5'] - mini['diff_15_5']  \n",
    "maxi = data_min.groupby('after4_date').max()\n",
    "maxi_15 = data_min.loc[data_min.groupby('after4_date').idxmax().ret_5][['ret_15','after4_date']]\n",
    "maxi_15 = maxi_15.set_index('after4_date')\n",
    "maxi['diff_15_5'] = maxi_15 \n",
    "maxi['diff_15_5'] = maxi['diff_15_5'] - maxi['ret_5']\n",
    "features = pd.DataFrame(index = mini.index, columns=['intra_ret_1', 'intra_ret_5', 'intra_ret_15', 'intra_diff_15_5'] )"
   ]
  },
  {
   "cell_type": "code",
   "execution_count": 15,
   "metadata": {},
   "outputs": [
    {
     "data": {
      "text/html": [
       "<div>\n",
       "<style scoped>\n",
       "    .dataframe tbody tr th:only-of-type {\n",
       "        vertical-align: middle;\n",
       "    }\n",
       "\n",
       "    .dataframe tbody tr th {\n",
       "        vertical-align: top;\n",
       "    }\n",
       "\n",
       "    .dataframe thead th {\n",
       "        text-align: right;\n",
       "    }\n",
       "</style>\n",
       "<table border=\"1\" class=\"dataframe\">\n",
       "  <thead>\n",
       "    <tr style=\"text-align: right;\">\n",
       "      <th></th>\n",
       "      <th>tweets</th>\n",
       "      <th>ret_1</th>\n",
       "      <th>ret_5</th>\n",
       "      <th>ret_15</th>\n",
       "      <th>diff_15_5</th>\n",
       "    </tr>\n",
       "    <tr>\n",
       "      <th>after4_date</th>\n",
       "      <th></th>\n",
       "      <th></th>\n",
       "      <th></th>\n",
       "      <th></th>\n",
       "      <th></th>\n",
       "    </tr>\n",
       "  </thead>\n",
       "  <tbody>\n",
       "    <tr>\n",
       "      <td>2016-11-14</td>\n",
       "      <td>\"The debates especially the second and third p...</td>\n",
       "      <td>-0.000114</td>\n",
       "      <td>-0.000343</td>\n",
       "      <td>-0.000685</td>\n",
       "      <td>-0.000343</td>\n",
       "    </tr>\n",
       "    <tr>\n",
       "      <td>2016-11-15</td>\n",
       "      <td>\"The Electoral College is actually genius in t...</td>\n",
       "      <td>0.000000</td>\n",
       "      <td>-0.000456</td>\n",
       "      <td>-0.000685</td>\n",
       "      <td>-0.000684</td>\n",
       "    </tr>\n",
       "    <tr>\n",
       "      <td>2016-11-16</td>\n",
       "      <td>\"Very organized process taking place as I deci...</td>\n",
       "      <td>0.000228</td>\n",
       "      <td>0.000683</td>\n",
       "      <td>0.000455</td>\n",
       "      <td>-0.000228</td>\n",
       "    </tr>\n",
       "    <tr>\n",
       "      <td>2016-11-17</td>\n",
       "      <td>\"My transition team which is working long hour...</td>\n",
       "      <td>-0.000114</td>\n",
       "      <td>-0.000114</td>\n",
       "      <td>0.000795</td>\n",
       "      <td>0.000908</td>\n",
       "    </tr>\n",
       "    <tr>\n",
       "      <td>2016-11-18</td>\n",
       "      <td>\"Just got a call from my friend Bill Ford Chai...</td>\n",
       "      <td>0.000454</td>\n",
       "      <td>0.001022</td>\n",
       "      <td>0.000908</td>\n",
       "      <td>-0.000114</td>\n",
       "    </tr>\n",
       "  </tbody>\n",
       "</table>\n",
       "</div>"
      ],
      "text/plain": [
       "                                                        tweets     ret_1  \\\n",
       "after4_date                                                                \n",
       "2016-11-14   \"The debates especially the second and third p... -0.000114   \n",
       "2016-11-15   \"The Electoral College is actually genius in t...  0.000000   \n",
       "2016-11-16   \"Very organized process taking place as I deci...  0.000228   \n",
       "2016-11-17   \"My transition team which is working long hour... -0.000114   \n",
       "2016-11-18   \"Just got a call from my friend Bill Ford Chai...  0.000454   \n",
       "\n",
       "                ret_5    ret_15  diff_15_5  \n",
       "after4_date                                 \n",
       "2016-11-14  -0.000343 -0.000685  -0.000343  \n",
       "2016-11-15  -0.000456 -0.000685  -0.000684  \n",
       "2016-11-16   0.000683  0.000455  -0.000228  \n",
       "2016-11-17  -0.000114  0.000795   0.000908  \n",
       "2016-11-18   0.001022  0.000908  -0.000114  "
      ]
     },
     "execution_count": 15,
     "metadata": {},
     "output_type": "execute_result"
    }
   ],
   "source": [
    "maxi.head()"
   ]
  },
  {
   "cell_type": "code",
   "execution_count": 16,
   "metadata": {},
   "outputs": [],
   "source": [
    "for ind in mini.index: \n",
    "    for ret in ['ret_1', 'ret_5', 'ret_15']:\n",
    "        if abs(mini[ret].loc[ind]) > abs(maxi[ret].loc[ind]):\n",
    "            features['intra_' + ret].loc[ind] = mini[ret].loc[ind]\n",
    "            if ret == 'ret_5':\n",
    "                features['intra_diff_15_5'].loc[ind] = mini['diff_15_5'].loc[ind]\n",
    "        else:\n",
    "            features['intra_' + ret].loc[ind] = maxi['diff_15_5'].loc[ind]\n",
    "            if ret == 'ret_5':\n",
    "                features['intra_diff_15_5'].loc[ind] = maxi['diff_15_5'].loc[ind]\n",
    "            "
   ]
  },
  {
   "cell_type": "code",
   "execution_count": 17,
   "metadata": {},
   "outputs": [
    {
     "data": {
      "text/html": [
       "<div>\n",
       "<style scoped>\n",
       "    .dataframe tbody tr th:only-of-type {\n",
       "        vertical-align: middle;\n",
       "    }\n",
       "\n",
       "    .dataframe tbody tr th {\n",
       "        vertical-align: top;\n",
       "    }\n",
       "\n",
       "    .dataframe thead th {\n",
       "        text-align: right;\n",
       "    }\n",
       "</style>\n",
       "<table border=\"1\" class=\"dataframe\">\n",
       "  <thead>\n",
       "    <tr style=\"text-align: right;\">\n",
       "      <th></th>\n",
       "      <th>intra_ret_1</th>\n",
       "      <th>intra_ret_5</th>\n",
       "      <th>intra_ret_15</th>\n",
       "      <th>intra_diff_15_5</th>\n",
       "    </tr>\n",
       "    <tr>\n",
       "      <th>after4_date</th>\n",
       "      <th></th>\n",
       "      <th></th>\n",
       "      <th></th>\n",
       "      <th></th>\n",
       "    </tr>\n",
       "  </thead>\n",
       "  <tbody>\n",
       "    <tr>\n",
       "      <td>2016-11-14</td>\n",
       "      <td>-0.00034274</td>\n",
       "      <td>-0.00034274</td>\n",
       "      <td>-0.00034274</td>\n",
       "      <td>-0.00034274</td>\n",
       "    </tr>\n",
       "    <tr>\n",
       "      <td>2016-11-15</td>\n",
       "      <td>-0.000114129</td>\n",
       "      <td>-0.000570646</td>\n",
       "      <td>-0.00114064</td>\n",
       "      <td>0.000114129</td>\n",
       "    </tr>\n",
       "    <tr>\n",
       "      <td>2016-11-16</td>\n",
       "      <td>-0.000456934</td>\n",
       "      <td>-0.000227635</td>\n",
       "      <td>-0.000799543</td>\n",
       "      <td>-0.000227635</td>\n",
       "    </tr>\n",
       "    <tr>\n",
       "      <td>2016-11-17</td>\n",
       "      <td>0.000908265</td>\n",
       "      <td>0.000908265</td>\n",
       "      <td>0.000908265</td>\n",
       "      <td>0.000908265</td>\n",
       "    </tr>\n",
       "    <tr>\n",
       "      <td>2016-11-18</td>\n",
       "      <td>-0.00011352</td>\n",
       "      <td>-0.00011352</td>\n",
       "      <td>-0.00011352</td>\n",
       "      <td>-0.00011352</td>\n",
       "    </tr>\n",
       "  </tbody>\n",
       "</table>\n",
       "</div>"
      ],
      "text/plain": [
       "             intra_ret_1  intra_ret_5 intra_ret_15 intra_diff_15_5\n",
       "after4_date                                                       \n",
       "2016-11-14   -0.00034274  -0.00034274  -0.00034274     -0.00034274\n",
       "2016-11-15  -0.000114129 -0.000570646  -0.00114064     0.000114129\n",
       "2016-11-16  -0.000456934 -0.000227635 -0.000799543    -0.000227635\n",
       "2016-11-17   0.000908265  0.000908265  0.000908265     0.000908265\n",
       "2016-11-18   -0.00011352  -0.00011352  -0.00011352     -0.00011352"
      ]
     },
     "execution_count": 17,
     "metadata": {},
     "output_type": "execute_result"
    }
   ],
   "source": [
    "features.head()"
   ]
  },
  {
   "cell_type": "code",
   "execution_count": 18,
   "metadata": {},
   "outputs": [],
   "source": [
    "features.index.name = 'date'\n",
    "features['intra_blend'] = features[['intra_ret_1','intra_ret_5','intra_ret_15' ]].mean(axis=1)\n",
    "features.to_csv('../data/features/intra_sp_features.csv')"
   ]
  },
  {
   "cell_type": "code",
   "execution_count": 19,
   "metadata": {},
   "outputs": [
    {
     "data": {
      "text/html": [
       "<div>\n",
       "<style scoped>\n",
       "    .dataframe tbody tr th:only-of-type {\n",
       "        vertical-align: middle;\n",
       "    }\n",
       "\n",
       "    .dataframe tbody tr th {\n",
       "        vertical-align: top;\n",
       "    }\n",
       "\n",
       "    .dataframe thead th {\n",
       "        text-align: right;\n",
       "    }\n",
       "</style>\n",
       "<table border=\"1\" class=\"dataframe\">\n",
       "  <thead>\n",
       "    <tr style=\"text-align: right;\">\n",
       "      <th></th>\n",
       "      <th>intra_ret_1</th>\n",
       "      <th>intra_ret_5</th>\n",
       "      <th>intra_ret_15</th>\n",
       "      <th>intra_diff_15_5</th>\n",
       "      <th>intra_blend</th>\n",
       "    </tr>\n",
       "    <tr>\n",
       "      <th>date</th>\n",
       "      <th></th>\n",
       "      <th></th>\n",
       "      <th></th>\n",
       "      <th></th>\n",
       "      <th></th>\n",
       "    </tr>\n",
       "  </thead>\n",
       "  <tbody>\n",
       "    <tr>\n",
       "      <td>2016-11-14</td>\n",
       "      <td>-0.00034274</td>\n",
       "      <td>-0.00034274</td>\n",
       "      <td>-0.00034274</td>\n",
       "      <td>-0.00034274</td>\n",
       "      <td>-0.000343</td>\n",
       "    </tr>\n",
       "    <tr>\n",
       "      <td>2016-11-15</td>\n",
       "      <td>-0.000114129</td>\n",
       "      <td>-0.000570646</td>\n",
       "      <td>-0.00114064</td>\n",
       "      <td>0.000114129</td>\n",
       "      <td>-0.000608</td>\n",
       "    </tr>\n",
       "    <tr>\n",
       "      <td>2016-11-16</td>\n",
       "      <td>-0.000456934</td>\n",
       "      <td>-0.000227635</td>\n",
       "      <td>-0.000799543</td>\n",
       "      <td>-0.000227635</td>\n",
       "      <td>-0.000495</td>\n",
       "    </tr>\n",
       "    <tr>\n",
       "      <td>2016-11-17</td>\n",
       "      <td>0.000908265</td>\n",
       "      <td>0.000908265</td>\n",
       "      <td>0.000908265</td>\n",
       "      <td>0.000908265</td>\n",
       "      <td>0.000908</td>\n",
       "    </tr>\n",
       "    <tr>\n",
       "      <td>2016-11-18</td>\n",
       "      <td>-0.00011352</td>\n",
       "      <td>-0.00011352</td>\n",
       "      <td>-0.00011352</td>\n",
       "      <td>-0.00011352</td>\n",
       "      <td>-0.000114</td>\n",
       "    </tr>\n",
       "    <tr>\n",
       "      <td>...</td>\n",
       "      <td>...</td>\n",
       "      <td>...</td>\n",
       "      <td>...</td>\n",
       "      <td>...</td>\n",
       "      <td>...</td>\n",
       "    </tr>\n",
       "    <tr>\n",
       "      <td>2019-11-04</td>\n",
       "      <td>-0.000568921</td>\n",
       "      <td>-0.000406108</td>\n",
       "      <td>-8.14266e-05</td>\n",
       "      <td>-0.000162443</td>\n",
       "      <td>-0.000352</td>\n",
       "    </tr>\n",
       "    <tr>\n",
       "      <td>2019-11-05</td>\n",
       "      <td>-0.000405383</td>\n",
       "      <td>-0.000569152</td>\n",
       "      <td>-0.000405383</td>\n",
       "      <td>-0.000162615</td>\n",
       "      <td>-0.000460</td>\n",
       "    </tr>\n",
       "    <tr>\n",
       "      <td>2019-11-06</td>\n",
       "      <td>8.13736e-05</td>\n",
       "      <td>8.13736e-05</td>\n",
       "      <td>8.13736e-05</td>\n",
       "      <td>8.13736e-05</td>\n",
       "      <td>0.000081</td>\n",
       "    </tr>\n",
       "    <tr>\n",
       "      <td>2019-11-07</td>\n",
       "      <td>-0.00081057</td>\n",
       "      <td>-0.00081057</td>\n",
       "      <td>-0.00081057</td>\n",
       "      <td>-0.00081057</td>\n",
       "      <td>-0.000811</td>\n",
       "    </tr>\n",
       "    <tr>\n",
       "      <td>2019-11-08</td>\n",
       "      <td>0</td>\n",
       "      <td>0</td>\n",
       "      <td>0</td>\n",
       "      <td>0</td>\n",
       "      <td>0.000000</td>\n",
       "    </tr>\n",
       "  </tbody>\n",
       "</table>\n",
       "<p>768 rows × 5 columns</p>\n",
       "</div>"
      ],
      "text/plain": [
       "            intra_ret_1  intra_ret_5 intra_ret_15 intra_diff_15_5  intra_blend\n",
       "date                                                                          \n",
       "2016-11-14  -0.00034274  -0.00034274  -0.00034274     -0.00034274    -0.000343\n",
       "2016-11-15 -0.000114129 -0.000570646  -0.00114064     0.000114129    -0.000608\n",
       "2016-11-16 -0.000456934 -0.000227635 -0.000799543    -0.000227635    -0.000495\n",
       "2016-11-17  0.000908265  0.000908265  0.000908265     0.000908265     0.000908\n",
       "2016-11-18  -0.00011352  -0.00011352  -0.00011352     -0.00011352    -0.000114\n",
       "...                 ...          ...          ...             ...          ...\n",
       "2019-11-04 -0.000568921 -0.000406108 -8.14266e-05    -0.000162443    -0.000352\n",
       "2019-11-05 -0.000405383 -0.000569152 -0.000405383    -0.000162615    -0.000460\n",
       "2019-11-06  8.13736e-05  8.13736e-05  8.13736e-05     8.13736e-05     0.000081\n",
       "2019-11-07  -0.00081057  -0.00081057  -0.00081057     -0.00081057    -0.000811\n",
       "2019-11-08            0            0            0               0     0.000000\n",
       "\n",
       "[768 rows x 5 columns]"
      ]
     },
     "execution_count": 19,
     "metadata": {},
     "output_type": "execute_result"
    }
   ],
   "source": [
    "features"
   ]
  },
  {
   "cell_type": "code",
   "execution_count": 20,
   "metadata": {},
   "outputs": [
    {
     "data": {
      "text/plain": [
       "<matplotlib.axes._subplots.AxesSubplot at 0x7fe85a62b210>"
      ]
     },
     "execution_count": 20,
     "metadata": {},
     "output_type": "execute_result"
    },
    {
     "data": {
      "image/png": "[encoded data removed]",
      "text/plain": [
       "<Figure size 432x288 with 1 Axes>"
      ]
     },
     "metadata": {
      "needs_background": "light"
     },
     "output_type": "display_data"
    }
   ],
   "source": [
    "features['intra_diff_15_5'].plot()\n",
    "features['intra_ret_15'].plot()"
   ]
  },
  {
   "cell_type": "code",
   "execution_count": 21,
   "metadata": {},
   "outputs": [
    {
     "data": {
      "text/plain": [
       "<matplotlib.axes._subplots.AxesSubplot at 0x7fe85a410210>"
      ]
     },
     "execution_count": 21,
     "metadata": {},
     "output_type": "execute_result"
    },
    {
     "data": {
      "image/png": "[encoded data removed]",
      "text/plain": [
       "<Figure size 432x288 with 1 Axes>"
      ]
     },
     "metadata": {
      "needs_background": "light"
     },
     "output_type": "display_data"
    }
   ],
   "source": [
    "features['intra_ret_15'].plot()"
   ]
  },
  {
   "cell_type": "code",
   "execution_count": 23,
   "metadata": {},
   "outputs": [
    {
     "data": {
      "text/plain": [
       "<matplotlib.axes._subplots.AxesSubplot at 0x7fe85a6456d0>"
      ]
     },
     "execution_count": 23,
     "metadata": {},
     "output_type": "execute_result"
    },
    {
     "data": {
      "image/png": "[encoded data removed]",
      "text/plain": [
       "<Figure size 432x288 with 1 Axes>"
      ]
     },
     "metadata": {
      "needs_background": "light"
     },
     "output_type": "display_data"
    }
   ],
   "source": [
    "features['intra_ret_1'].plot()"
   ]
  },
  {
   "cell_type": "code",
   "execution_count": null,
   "metadata": {},
   "outputs": [],
   "source": [
    "data_min"
   ]
  },
  {
   "cell_type": "code",
   "execution_count": null,
   "metadata": {},
   "outputs": [],
   "source": [
    "data_min_sort = data_min.dropna().sort_values(by = 'ret_5')\n",
    "print(data_min_sort.shape)\n",
    "data_min_sort.head()"
   ]
  },
  {
   "cell_type": "code",
   "execution_count": null,
   "metadata": {},
   "outputs": [],
   "source": [
    "data_min_sort.to_csv('../data/result_analysis/sorted_trump.csv')"
   ]
  },
  {
   "cell_type": "code",
   "execution_count": null,
   "metadata": {},
   "outputs": [],
   "source": [
    "tweet_data.clean_tweets"
   ]
  }
 ],
 "metadata": {
  "kernelspec": {
   "display_name": "Python 3",
   "language": "python",
   "name": "python3"
  },
  "language_info": {
   "codemirror_mode": {
    "name": "ipython",
    "version": 3
   },
   "file_extension": ".py",
   "mimetype": "text/x-python",
   "name": "python",
   "nbconvert_exporter": "python",
   "pygments_lexer": "ipython3",
   "version": "3.7.4"
  }
 },
 "nbformat": 4,
 "nbformat_minor": 2
}
