{
 "cells": [
  {
   "cell_type": "code",
   "execution_count": 1,
   "metadata": {},
   "outputs": [],
   "source": [
    "import sys\n",
    "sys.path.append('..') #to add top-level to path\n",
    "\n",
    "from modules.project_helper import TweetData, FuturesCloseData\n",
    "import pandas as pd\n",
    "import numpy as np \n",
    "from tqdm import tqdm\n",
    "import matplotlib.pyplot as plt\n",
    "\n",
    "import warnings\n",
    "warnings.filterwarnings(\"ignore\")"
   ]
  },
  {
   "cell_type": "markdown",
   "metadata": {},
   "source": [
    "# Tweet Returns Features"
   ]
  },
  {
   "cell_type": "markdown",
   "metadata": {},
   "source": [
    "This notebook creates features derived from Trump's tweets, where we try to model the 'return' of every tweet. We look at all tweets in a day, from market close to market close, and see the one day return for every instrument. We attribute every word in the tweeted these returns, and calculate the cumulative mean returns, or the **score**, for every word for every day for every asset. \n",
    "\n",
    "From here we have three features: \n",
    "\n",
    "- **daily_tweet_score**: The average of the scores for every word tweeted in a day.\n",
    "- **max_tweet_score**: The score of the tweet with the highest score in a day.\n",
    "- **min_tweet_score**: The score of the tweet with the highest score in a day."
   ]
  },
  {
   "cell_type": "markdown",
   "metadata": {},
   "source": [
    "Obtaining tweet data and futures closing data to calculate returns."
   ]
  },
  {
   "cell_type": "code",
   "execution_count": 2,
   "metadata": {},
   "outputs": [],
   "source": [
    "instrument_list = ['ES', 'NQ', 'CD', 'EC', 'JY', 'MP', 'TY', 'US', 'C', 'S', 'W', 'CL', 'GC']\n",
    "tweet_data = TweetData()\n",
    "fc = FuturesCloseData()"
   ]
  },
  {
   "cell_type": "markdown",
   "metadata": {},
   "source": [
    "Creating a pandas dataframe with daily log returns for all assets, and a text column which contains all tweets in that day (market close to market close). We look at log-returns since they can be easily aggregated by adding them."
   ]
  },
  {
   "cell_type": "code",
   "execution_count": 3,
   "metadata": {},
   "outputs": [],
   "source": [
    "daily_df = pd.read_csv('../data/intermediate_data/combined_daily_tweets.csv', header=None)\n",
    "daily_df.columns =['date','text']\n",
    "daily_df.date = pd.to_datetime(daily_df.date)\n",
    "daily_df = daily_df.set_index('date')\n",
    "# Start of training period\n",
    "daily_df = daily_df[daily_df.index >= pd.to_datetime('2016-10-03')]\n",
    "# Dropping NAs, ie days with no returns, like weekends and holidays\n",
    "daily_df = daily_df.join(fc.log_returns()).dropna()"
   ]
  },
  {
   "cell_type": "code",
   "execution_count": 4,
   "metadata": {},
   "outputs": [
    {
     "data": {
      "text/html": [
       "<div>\n",
       "<style scoped>\n",
       "    .dataframe tbody tr th:only-of-type {\n",
       "        vertical-align: middle;\n",
       "    }\n",
       "\n",
       "    .dataframe tbody tr th {\n",
       "        vertical-align: top;\n",
       "    }\n",
       "\n",
       "    .dataframe thead th {\n",
       "        text-align: right;\n",
       "    }\n",
       "</style>\n",
       "<table border=\"1\" class=\"dataframe\">\n",
       "  <thead>\n",
       "    <tr style=\"text-align: right;\">\n",
       "      <th></th>\n",
       "      <th>text</th>\n",
       "      <th>ES</th>\n",
       "      <th>NQ</th>\n",
       "      <th>CD</th>\n",
       "      <th>EC</th>\n",
       "      <th>JY</th>\n",
       "      <th>MP</th>\n",
       "      <th>TY</th>\n",
       "      <th>US</th>\n",
       "      <th>C</th>\n",
       "      <th>S</th>\n",
       "      <th>W</th>\n",
       "      <th>CL</th>\n",
       "      <th>GC</th>\n",
       "    </tr>\n",
       "    <tr>\n",
       "      <th>date</th>\n",
       "      <th></th>\n",
       "      <th></th>\n",
       "      <th></th>\n",
       "      <th></th>\n",
       "      <th></th>\n",
       "      <th></th>\n",
       "      <th></th>\n",
       "      <th></th>\n",
       "      <th></th>\n",
       "      <th></th>\n",
       "      <th></th>\n",
       "      <th></th>\n",
       "      <th></th>\n",
       "      <th></th>\n",
       "    </tr>\n",
       "  </thead>\n",
       "  <tbody>\n",
       "    <tr>\n",
       "      <th>2016-10-03</th>\n",
       "      <td>join me in henderson nevada on wednesday at am...</td>\n",
       "      <td>-0.003920</td>\n",
       "      <td>-0.001624</td>\n",
       "      <td>-0.006520</td>\n",
       "      <td>-0.001899</td>\n",
       "      <td>-0.011445</td>\n",
       "      <td>0.000233</td>\n",
       "      <td>-0.003515</td>\n",
       "      <td>-0.010427</td>\n",
       "      <td>0.005206</td>\n",
       "      <td>-0.007537</td>\n",
       "      <td>-0.000405</td>\n",
       "      <td>-0.002218</td>\n",
       "      <td>-0.031237</td>\n",
       "    </tr>\n",
       "    <tr>\n",
       "      <th>2016-10-04</th>\n",
       "      <td>join me in reno nevada on wednesday at pm at t...</td>\n",
       "      <td>0.003920</td>\n",
       "      <td>0.003147</td>\n",
       "      <td>0.002264</td>\n",
       "      <td>0.001239</td>\n",
       "      <td>-0.007687</td>\n",
       "      <td>0.005585</td>\n",
       "      <td>-0.002188</td>\n",
       "      <td>-0.004647</td>\n",
       "      <td>-0.001559</td>\n",
       "      <td>-0.004984</td>\n",
       "      <td>0.014093</td>\n",
       "      <td>0.020876</td>\n",
       "      <td>-0.000812</td>\n",
       "    </tr>\n",
       "    <tr>\n",
       "      <th>2016-10-05</th>\n",
       "      <td>the constant interruptions last night by tim k...</td>\n",
       "      <td>0.001495</td>\n",
       "      <td>-0.000295</td>\n",
       "      <td>-0.004598</td>\n",
       "      <td>-0.006168</td>\n",
       "      <td>-0.004767</td>\n",
       "      <td>-0.001626</td>\n",
       "      <td>-0.002071</td>\n",
       "      <td>-0.004262</td>\n",
       "      <td>-0.015195</td>\n",
       "      <td>0.001086</td>\n",
       "      <td>-0.014093</td>\n",
       "      <td>0.010994</td>\n",
       "      <td>-0.011587</td>\n",
       "    </tr>\n",
       "  </tbody>\n",
       "</table>\n",
       "</div>"
      ],
      "text/plain": [
       "                                                         text        ES  \\\n",
       "date                                                                      \n",
       "2016-10-03  join me in henderson nevada on wednesday at am... -0.003920   \n",
       "2016-10-04  join me in reno nevada on wednesday at pm at t...  0.003920   \n",
       "2016-10-05  the constant interruptions last night by tim k...  0.001495   \n",
       "\n",
       "                  NQ        CD        EC        JY        MP        TY  \\\n",
       "date                                                                     \n",
       "2016-10-03 -0.001624 -0.006520 -0.001899 -0.011445  0.000233 -0.003515   \n",
       "2016-10-04  0.003147  0.002264  0.001239 -0.007687  0.005585 -0.002188   \n",
       "2016-10-05 -0.000295 -0.004598 -0.006168 -0.004767 -0.001626 -0.002071   \n",
       "\n",
       "                  US         C         S         W        CL        GC  \n",
       "date                                                                    \n",
       "2016-10-03 -0.010427  0.005206 -0.007537 -0.000405 -0.002218 -0.031237  \n",
       "2016-10-04 -0.004647 -0.001559 -0.004984  0.014093  0.020876 -0.000812  \n",
       "2016-10-05 -0.004262 -0.015195  0.001086 -0.014093  0.010994 -0.011587  "
      ]
     },
     "execution_count": 4,
     "metadata": {},
     "output_type": "execute_result"
    }
   ],
   "source": [
    "daily_df.head(3)"
   ]
  },
  {
   "cell_type": "markdown",
   "metadata": {},
   "source": [
    "- Creating dataframe with indices all the words in Trump's vocabulary, and rows the 1 day returns for each word for each day\n",
    "- I clipped the return at 0.5% to avoid days with very large returns dominating the singal"
   ]
  },
  {
   "cell_type": "code",
   "execution_count": null,
   "metadata": {},
   "outputs": [
    {
     "name": "stderr",
     "output_type": "stream",
     "text": [
      "100%|██████████████████████████████████████████████████████████████████████████████████████████| 770/770 [01:32<00:00,  8.35it/s]\n",
      "100%|██████████████████████████████████████████████████████████████████████████████████████████| 770/770 [01:30<00:00,  8.49it/s]\n",
      "100%|██████████████████████████████████████████████████████████████████████████████████████████| 770/770 [01:28<00:00,  8.72it/s]\n",
      " 45%|████████████████████████████████████████▌                                                 | 347/770 [00:32<00:59,  7.12it/s]"
     ]
    }
   ],
   "source": [
    "word_ret_dict = {}\n",
    "for inst in instrument_list:\n",
    "\n",
    "    word_ret_df = pd.DataFrame(index = list(set(tweet_data.clean_tweets.tweets.str.cat(sep=' ').split())), \n",
    "                               columns = range(len(daily_df.index)))\n",
    "    word_ret_df = word_ret_df.fillna(0)\n",
    "    for i in tqdm(range(word_ret_df.shape[1])):\n",
    "        num = daily_df[inst][i].clip(-0.05,0.05)\n",
    "        word_ret_df[i].loc[daily_df.text[i].split()] = num\n",
    "    word_ret_dict[inst] = word_ret_df"
   ]
  },
  {
   "cell_type": "markdown",
   "metadata": {},
   "source": [
    "Creating a dataframe with mean cumulative returns from the dataframes created above. "
   ]
  },
  {
   "cell_type": "code",
   "execution_count": null,
   "metadata": {},
   "outputs": [],
   "source": [
    "word_ret_cum_mean_dict = {}\n",
    "for inst in tqdm(instrument_list):\n",
    "    word_ret_cum_mean_dict[inst] = word_ret_dict[inst].cumsum(axis=1)/np.arange(1,word_ret_dict[inst].shape[1]+1)"
   ]
  },
  {
   "cell_type": "markdown",
   "metadata": {},
   "source": [
    "Mean cumulative returns for daily tweets in the last day of the dataset, for S&P500 futures, sorted. "
   ]
  },
  {
   "cell_type": "code",
   "execution_count": 7,
   "metadata": {},
   "outputs": [
    {
     "data": {
      "text/plain": [
       "getting    -0.000252\n",
       "happy      -0.000238\n",
       "paying     -0.000202\n",
       "against    -0.000177\n",
       "support    -0.000175\n",
       "farmers    -0.000172\n",
       "pelosi     -0.000171\n",
       "spending   -0.000166\n",
       "just       -0.000165\n",
       "billion    -0.000163\n",
       "Name: 769, dtype: float64"
      ]
     },
     "execution_count": 7,
     "metadata": {},
     "output_type": "execute_result"
    }
   ],
   "source": [
    "word_ret_cum_mean_dict['ES'][769].sort_values().head(10)"
   ]
  },
  {
   "cell_type": "markdown",
   "metadata": {},
   "source": [
    "- Creating feature **daily_tweet_score**: Average cumulative word returns as of yesterday, for every word in all tweets that day. This is a return for all the words Trump tweeted in a day. \n",
    "- Considering only days where he tweeted more than 10 words to avoid noise of single word returns."
   ]
  },
  {
   "cell_type": "code",
   "execution_count": 8,
   "metadata": {},
   "outputs": [
    {
     "name": "stderr",
     "output_type": "stream",
     "text": [
      "100%|██████████| 13/13 [00:08<00:00,  1.61it/s]\n"
     ]
    }
   ],
   "source": [
    "for inst in tqdm(instrument_list):\n",
    "    vc = np.zeros(daily_df.shape[0])\n",
    "    for i in range(1, daily_df.shape[0]):\n",
    "        sp = daily_df.text[i].split()\n",
    "        if len(sp) <=10:\n",
    "            vc[i] = 0\n",
    "        else:\n",
    "            vc[i]= sum(word_ret_cum_mean_dict[inst][i-1].loc[sp]/len(sp))\n",
    "    daily_df['{}_daily_tweet_score'.format(inst)] = vc"
   ]
  },
  {
   "cell_type": "code",
   "execution_count": 9,
   "metadata": {},
   "outputs": [
    {
     "data": {
      "text/plain": [
       "Index(['text', 'ES', 'NQ', 'CD', 'EC', 'JY', 'MP', 'TY', 'US', 'C', 'S', 'W',\n",
       "       'CL', 'GC', 'ES_daily_tweet_score', 'NQ_daily_tweet_score',\n",
       "       'CD_daily_tweet_score', 'EC_daily_tweet_score', 'JY_daily_tweet_score',\n",
       "       'MP_daily_tweet_score', 'TY_daily_tweet_score', 'US_daily_tweet_score',\n",
       "       'C_daily_tweet_score', 'S_daily_tweet_score', 'W_daily_tweet_score',\n",
       "       'CL_daily_tweet_score', 'GC_daily_tweet_score'],\n",
       "      dtype='object')"
      ]
     },
     "execution_count": 9,
     "metadata": {},
     "output_type": "execute_result"
    }
   ],
   "source": [
    "daily_df.columns"
   ]
  },
  {
   "cell_type": "markdown",
   "metadata": {},
   "source": [
    "Now, we are going to get word returns for every tweet. Getting single tweet data, with timestamp."
   ]
  },
  {
   "cell_type": "code",
   "execution_count": 74,
   "metadata": {},
   "outputs": [],
   "source": [
    "daily_tweets = tweet_data.clean_tweets[pd.to_datetime(tweet_data.clean_tweets.after4_date)\n",
    "                                       <= pd.to_datetime(daily_df.index[-1])]\n",
    "daily_tweets.after4_date = pd.to_datetime(daily_tweets.after4_date)"
   ]
  },
  {
   "cell_type": "code",
   "execution_count": 75,
   "metadata": {},
   "outputs": [
    {
     "data": {
      "text/html": [
       "<div>\n",
       "<style scoped>\n",
       "    .dataframe tbody tr th:only-of-type {\n",
       "        vertical-align: middle;\n",
       "    }\n",
       "\n",
       "    .dataframe tbody tr th {\n",
       "        vertical-align: top;\n",
       "    }\n",
       "\n",
       "    .dataframe thead th {\n",
       "        text-align: right;\n",
       "    }\n",
       "</style>\n",
       "<table border=\"1\" class=\"dataframe\">\n",
       "  <thead>\n",
       "    <tr style=\"text-align: right;\">\n",
       "      <th></th>\n",
       "      <th>tweets</th>\n",
       "      <th>timestamp</th>\n",
       "      <th>after4_date</th>\n",
       "    </tr>\n",
       "    <tr>\n",
       "      <th>timestamp</th>\n",
       "      <th></th>\n",
       "      <th></th>\n",
       "      <th></th>\n",
       "    </tr>\n",
       "  </thead>\n",
       "  <tbody>\n",
       "    <tr>\n",
       "      <th>2019-11-07 14:51:38-06:00</th>\n",
       "      <td>what did hunter biden do for the money a very ...</td>\n",
       "      <td>2019-11-07 14:51:38-06:00</td>\n",
       "      <td>2019-11-07</td>\n",
       "    </tr>\n",
       "    <tr>\n",
       "      <th>2019-11-07 14:00:34-06:00</th>\n",
       "      <td>based on the information released last night a...</td>\n",
       "      <td>2019-11-07 14:00:34-06:00</td>\n",
       "      <td>2019-11-07</td>\n",
       "    </tr>\n",
       "    <tr>\n",
       "      <th>2019-11-07 13:47:57-06:00</th>\n",
       "      <td>read the transcript</td>\n",
       "      <td>2019-11-07 13:47:57-06:00</td>\n",
       "      <td>2019-11-07</td>\n",
       "    </tr>\n",
       "    <tr>\n",
       "      <th>2019-11-07 13:46:30-06:00</th>\n",
       "      <td>the degenerate washington post made up the sto...</td>\n",
       "      <td>2019-11-07 13:46:30-06:00</td>\n",
       "      <td>2019-11-07</td>\n",
       "    </tr>\n",
       "    <tr>\n",
       "      <th>2019-11-07 12:28:41-06:00</th>\n",
       "      <td>bill barr did not decline my request to talk a...</td>\n",
       "      <td>2019-11-07 12:28:41-06:00</td>\n",
       "      <td>2019-11-07</td>\n",
       "    </tr>\n",
       "  </tbody>\n",
       "</table>\n",
       "</div>"
      ],
      "text/plain": [
       "                                                                      tweets  \\\n",
       "timestamp                                                                      \n",
       "2019-11-07 14:51:38-06:00  what did hunter biden do for the money a very ...   \n",
       "2019-11-07 14:00:34-06:00  based on the information released last night a...   \n",
       "2019-11-07 13:47:57-06:00                               read the transcript    \n",
       "2019-11-07 13:46:30-06:00  the degenerate washington post made up the sto...   \n",
       "2019-11-07 12:28:41-06:00  bill barr did not decline my request to talk a...   \n",
       "\n",
       "                                          timestamp after4_date  \n",
       "timestamp                                                        \n",
       "2019-11-07 14:51:38-06:00 2019-11-07 14:51:38-06:00  2019-11-07  \n",
       "2019-11-07 14:00:34-06:00 2019-11-07 14:00:34-06:00  2019-11-07  \n",
       "2019-11-07 13:47:57-06:00 2019-11-07 13:47:57-06:00  2019-11-07  \n",
       "2019-11-07 13:46:30-06:00 2019-11-07 13:46:30-06:00  2019-11-07  \n",
       "2019-11-07 12:28:41-06:00 2019-11-07 12:28:41-06:00  2019-11-07  "
      ]
     },
     "execution_count": 75,
     "metadata": {},
     "output_type": "execute_result"
    }
   ],
   "source": [
    "daily_tweets.head()"
   ]
  },
  {
   "cell_type": "markdown",
   "metadata": {},
   "source": [
    "Creating a dictionary of dates as keys and indices as values, to match the format of the return matrices above. Adding an indicator row to daily_tweets dataframe with the day, and then removing all days with no returns (like on weekends and holidays)"
   ]
  },
  {
   "cell_type": "code",
   "execution_count": 76,
   "metadata": {},
   "outputs": [],
   "source": [
    "date_dict = {date : i for i,date in enumerate(daily_df.index)}\n",
    "daily_tweets['ind']=[date_dict[date] if date in date_dict.keys() else 0 for date in daily_tweets.after4_date]\n",
    "daily_tweets = daily_tweets[daily_tweets.ind!=0]"
   ]
  },
  {
   "cell_type": "markdown",
   "metadata": {},
   "source": [
    "Calculating returns for every tweet:"
   ]
  },
  {
   "cell_type": "code",
   "execution_count": 77,
   "metadata": {},
   "outputs": [
    {
     "name": "stderr",
     "output_type": "stream",
     "text": [
      "100%|██████████| 13/13 [00:29<00:00,  2.28s/it]\n"
     ]
    }
   ],
   "source": [
    "for inst in tqdm(instrument_list):\n",
    "    tc = np.zeros(daily_tweets.shape[0])\n",
    "    i = 0\n",
    "    for tweet, ind  in zip(daily_tweets.tweets,daily_tweets.ind):\n",
    "        tw = tweet.split()\n",
    "        if ind > 0:\n",
    "            if len(tw) <=10:\n",
    "                tc[i] = 0\n",
    "            else:\n",
    "                tc[i]= sum(word_ret_cum_mean_dict[inst][ind-1].loc[tw])\n",
    "        i = i+1\n",
    "    daily_tweets['{}_single_ret'.format(inst)] = tc\n",
    "    "
   ]
  },
  {
   "cell_type": "code",
   "execution_count": 56,
   "metadata": {},
   "outputs": [
    {
     "data": {
      "text/plain": [
       "Index(['tweets', 'timestamp', 'after4_date', 'ind', 'ES_single_ret',\n",
       "       'NQ_single_ret', 'CD_single_ret', 'EC_single_ret', 'JY_single_ret',\n",
       "       'MP_single_ret', 'TY_single_ret', 'US_single_ret', 'C_single_ret',\n",
       "       'S_single_ret', 'W_single_ret', 'CL_single_ret', 'GC_single_ret'],\n",
       "      dtype='object')"
      ]
     },
     "execution_count": 56,
     "metadata": {},
     "output_type": "execute_result"
    }
   ],
   "source": [
    "daily_tweets.columns"
   ]
  },
  {
   "cell_type": "markdown",
   "metadata": {},
   "source": [
    "- The signal takes some time to train as you need to build vocabulary returns. We can't train the model on words much before the election since there wasn't a causal relation between Trump's tweets and the market before that time. Looking at the signal, it seems to stabilize by February 2017.\n",
    "- We also need to remove tweets with exactly zero return, which are most likely tweets with less than 10 words."
   ]
  },
  {
   "cell_type": "code",
   "execution_count": 78,
   "metadata": {},
   "outputs": [
    {
     "data": {
      "image/png": "[encoded data removed]",
      "text/plain": [
       "<Figure size 1080x1440 with 15 Axes>"
      ]
     },
     "metadata": {
      "needs_background": "light"
     },
     "output_type": "display_data"
    }
   ],
   "source": [
    "fig, ax = plt.subplots(5,3, figsize=(15,20))\n",
    "ax = ax.ravel()\n",
    "for i, inst in enumerate(instrument_list):\n",
    "    ax[i].plot(daily_tweets['{}_single_ret'.format(inst)])\n",
    "    ax[i].plot(daily_tweets[daily_tweets.after4_date >= \n",
    "                            pd.to_datetime('2017-02-01')]['{}_single_ret'.format(inst)], alpha =0.3)\n",
    "    ax[i].set_title(inst)"
   ]
  },
  {
   "cell_type": "code",
   "execution_count": 79,
   "metadata": {},
   "outputs": [],
   "source": [
    "final_daily_tweets = daily_tweets[daily_tweets.after4_date >= pd.to_datetime('2017-02-01')]"
   ]
  },
  {
   "cell_type": "markdown",
   "metadata": {},
   "source": [
    "Calculating the 3 features:\n",
    "\n",
    "- **daily_tweet_score**: The average of the scores for every word tweeted in a day.\n",
    "- **max_tweet_score**: The score of the tweet with the highest score in a day.\n",
    "- **min_tweet_score**: The score of the tweet with the highest score in a day."
   ]
  },
  {
   "cell_type": "code",
   "execution_count": 90,
   "metadata": {},
   "outputs": [],
   "source": [
    "tweet_returns_features = pd.DataFrame()\n",
    "for inst in instrument_list:\n",
    "    final_nozero = final_daily_tweets[final_daily_tweets[inst+'_single_ret']!=0]\n",
    "    tweet_returns_features[inst + '_min_tweet'] = final_nozero.groupby('after4_date').min()[inst+'_single_ret']\n",
    "    tweet_returns_features[inst + '_max_tweet'] = final_nozero.groupby('after4_date').max()[inst+'_single_ret']\n",
    "    tweet_returns_features[inst + '_daily_tweet'] = daily_df[inst + '_daily_tweet_score']"
   ]
  },
  {
   "cell_type": "code",
   "execution_count": 86,
   "metadata": {},
   "outputs": [
    {
     "data": {
      "text/html": [
       "<div>\n",
       "<style scoped>\n",
       "    .dataframe tbody tr th:only-of-type {\n",
       "        vertical-align: middle;\n",
       "    }\n",
       "\n",
       "    .dataframe tbody tr th {\n",
       "        vertical-align: top;\n",
       "    }\n",
       "\n",
       "    .dataframe thead th {\n",
       "        text-align: right;\n",
       "    }\n",
       "</style>\n",
       "<table border=\"1\" class=\"dataframe\">\n",
       "  <thead>\n",
       "    <tr style=\"text-align: right;\">\n",
       "      <th></th>\n",
       "      <th>ES_min_tweet</th>\n",
       "      <th>ES_max_tweet</th>\n",
       "      <th>ES_daily_tweet</th>\n",
       "      <th>NQ_min_tweet</th>\n",
       "      <th>NQ_max_tweet</th>\n",
       "      <th>NQ_daily_tweet</th>\n",
       "      <th>CD_min_tweet</th>\n",
       "      <th>CD_max_tweet</th>\n",
       "      <th>CD_daily_tweet</th>\n",
       "      <th>EC_min_tweet</th>\n",
       "      <th>...</th>\n",
       "      <th>S_daily_tweet</th>\n",
       "      <th>W_min_tweet</th>\n",
       "      <th>W_max_tweet</th>\n",
       "      <th>W_daily_tweet</th>\n",
       "      <th>CL_min_tweet</th>\n",
       "      <th>CL_max_tweet</th>\n",
       "      <th>CL_daily_tweet</th>\n",
       "      <th>GC_min_tweet</th>\n",
       "      <th>GC_max_tweet</th>\n",
       "      <th>GC_daily_tweet</th>\n",
       "    </tr>\n",
       "    <tr>\n",
       "      <th>after4_date</th>\n",
       "      <th></th>\n",
       "      <th></th>\n",
       "      <th></th>\n",
       "      <th></th>\n",
       "      <th></th>\n",
       "      <th></th>\n",
       "      <th></th>\n",
       "      <th></th>\n",
       "      <th></th>\n",
       "      <th></th>\n",
       "      <th></th>\n",
       "      <th></th>\n",
       "      <th></th>\n",
       "      <th></th>\n",
       "      <th></th>\n",
       "      <th></th>\n",
       "      <th></th>\n",
       "      <th></th>\n",
       "      <th></th>\n",
       "      <th></th>\n",
       "      <th></th>\n",
       "    </tr>\n",
       "  </thead>\n",
       "  <tbody>\n",
       "    <tr>\n",
       "      <th>2017-02-01</th>\n",
       "      <td>0.001327</td>\n",
       "      <td>0.003084</td>\n",
       "      <td>0.000107</td>\n",
       "      <td>0.000571</td>\n",
       "      <td>0.002905</td>\n",
       "      <td>0.000073</td>\n",
       "      <td>-0.002969</td>\n",
       "      <td>-0.002929</td>\n",
       "      <td>-0.000100</td>\n",
       "      <td>-0.003917</td>\n",
       "      <td>...</td>\n",
       "      <td>0.000398</td>\n",
       "      <td>0.003273</td>\n",
       "      <td>0.006890</td>\n",
       "      <td>0.000194</td>\n",
       "      <td>-0.013598</td>\n",
       "      <td>-0.001480</td>\n",
       "      <td>-0.000214</td>\n",
       "      <td>-0.002968</td>\n",
       "      <td>-0.001088</td>\n",
       "      <td>-0.000081</td>\n",
       "    </tr>\n",
       "    <tr>\n",
       "      <th>2017-02-02</th>\n",
       "      <td>0.000208</td>\n",
       "      <td>0.004080</td>\n",
       "      <td>0.000087</td>\n",
       "      <td>-0.000857</td>\n",
       "      <td>0.004524</td>\n",
       "      <td>0.000059</td>\n",
       "      <td>-0.002516</td>\n",
       "      <td>-0.000271</td>\n",
       "      <td>-0.000067</td>\n",
       "      <td>-0.004292</td>\n",
       "      <td>...</td>\n",
       "      <td>0.000351</td>\n",
       "      <td>0.000942</td>\n",
       "      <td>0.005961</td>\n",
       "      <td>0.000150</td>\n",
       "      <td>-0.004577</td>\n",
       "      <td>0.004341</td>\n",
       "      <td>-0.000049</td>\n",
       "      <td>-0.003318</td>\n",
       "      <td>0.001901</td>\n",
       "      <td>-0.000045</td>\n",
       "    </tr>\n",
       "    <tr>\n",
       "      <th>2017-02-03</th>\n",
       "      <td>0.001417</td>\n",
       "      <td>0.005195</td>\n",
       "      <td>0.000137</td>\n",
       "      <td>0.001009</td>\n",
       "      <td>0.002715</td>\n",
       "      <td>0.000091</td>\n",
       "      <td>-0.002650</td>\n",
       "      <td>-0.001324</td>\n",
       "      <td>-0.000089</td>\n",
       "      <td>-0.003618</td>\n",
       "      <td>...</td>\n",
       "      <td>0.000260</td>\n",
       "      <td>-0.000125</td>\n",
       "      <td>0.003374</td>\n",
       "      <td>0.000053</td>\n",
       "      <td>-0.006212</td>\n",
       "      <td>0.003012</td>\n",
       "      <td>-0.000063</td>\n",
       "      <td>-0.002248</td>\n",
       "      <td>-0.000739</td>\n",
       "      <td>-0.000065</td>\n",
       "    </tr>\n",
       "    <tr>\n",
       "      <th>2017-02-06</th>\n",
       "      <td>0.001328</td>\n",
       "      <td>0.003935</td>\n",
       "      <td>0.000134</td>\n",
       "      <td>-0.000043</td>\n",
       "      <td>0.003033</td>\n",
       "      <td>0.000078</td>\n",
       "      <td>-0.002640</td>\n",
       "      <td>-0.001264</td>\n",
       "      <td>-0.000091</td>\n",
       "      <td>-0.003573</td>\n",
       "      <td>...</td>\n",
       "      <td>0.000300</td>\n",
       "      <td>-0.000476</td>\n",
       "      <td>0.001749</td>\n",
       "      <td>0.000019</td>\n",
       "      <td>-0.004039</td>\n",
       "      <td>0.004057</td>\n",
       "      <td>-0.000061</td>\n",
       "      <td>-0.002235</td>\n",
       "      <td>0.000442</td>\n",
       "      <td>-0.000043</td>\n",
       "    </tr>\n",
       "    <tr>\n",
       "      <th>2017-02-07</th>\n",
       "      <td>0.001821</td>\n",
       "      <td>0.004572</td>\n",
       "      <td>0.000142</td>\n",
       "      <td>0.001859</td>\n",
       "      <td>0.004924</td>\n",
       "      <td>0.000130</td>\n",
       "      <td>-0.004049</td>\n",
       "      <td>-0.001284</td>\n",
       "      <td>-0.000126</td>\n",
       "      <td>-0.004124</td>\n",
       "      <td>...</td>\n",
       "      <td>0.000427</td>\n",
       "      <td>0.001428</td>\n",
       "      <td>0.004803</td>\n",
       "      <td>0.000128</td>\n",
       "      <td>-0.008617</td>\n",
       "      <td>-0.002396</td>\n",
       "      <td>-0.000212</td>\n",
       "      <td>-0.000658</td>\n",
       "      <td>0.001226</td>\n",
       "      <td>-0.000011</td>\n",
       "    </tr>\n",
       "  </tbody>\n",
       "</table>\n",
       "<p>5 rows × 39 columns</p>\n",
       "</div>"
      ],
      "text/plain": [
       "             ES_min_tweet  ES_max_tweet  ES_daily_tweet  NQ_min_tweet  \\\n",
       "after4_date                                                             \n",
       "2017-02-01       0.001327      0.003084        0.000107      0.000571   \n",
       "2017-02-02       0.000208      0.004080        0.000087     -0.000857   \n",
       "2017-02-03       0.001417      0.005195        0.000137      0.001009   \n",
       "2017-02-06       0.001328      0.003935        0.000134     -0.000043   \n",
       "2017-02-07       0.001821      0.004572        0.000142      0.001859   \n",
       "\n",
       "             NQ_max_tweet  NQ_daily_tweet  CD_min_tweet  CD_max_tweet  \\\n",
       "after4_date                                                             \n",
       "2017-02-01       0.002905        0.000073     -0.002969     -0.002929   \n",
       "2017-02-02       0.004524        0.000059     -0.002516     -0.000271   \n",
       "2017-02-03       0.002715        0.000091     -0.002650     -0.001324   \n",
       "2017-02-06       0.003033        0.000078     -0.002640     -0.001264   \n",
       "2017-02-07       0.004924        0.000130     -0.004049     -0.001284   \n",
       "\n",
       "             CD_daily_tweet  EC_min_tweet  ...  S_daily_tweet  W_min_tweet  \\\n",
       "after4_date                                ...                               \n",
       "2017-02-01        -0.000100     -0.003917  ...       0.000398     0.003273   \n",
       "2017-02-02        -0.000067     -0.004292  ...       0.000351     0.000942   \n",
       "2017-02-03        -0.000089     -0.003618  ...       0.000260    -0.000125   \n",
       "2017-02-06        -0.000091     -0.003573  ...       0.000300    -0.000476   \n",
       "2017-02-07        -0.000126     -0.004124  ...       0.000427     0.001428   \n",
       "\n",
       "             W_max_tweet  W_daily_tweet  CL_min_tweet  CL_max_tweet  \\\n",
       "after4_date                                                           \n",
       "2017-02-01      0.006890       0.000194     -0.013598     -0.001480   \n",
       "2017-02-02      0.005961       0.000150     -0.004577      0.004341   \n",
       "2017-02-03      0.003374       0.000053     -0.006212      0.003012   \n",
       "2017-02-06      0.001749       0.000019     -0.004039      0.004057   \n",
       "2017-02-07      0.004803       0.000128     -0.008617     -0.002396   \n",
       "\n",
       "             CL_daily_tweet  GC_min_tweet  GC_max_tweet  GC_daily_tweet  \n",
       "after4_date                                                              \n",
       "2017-02-01        -0.000214     -0.002968     -0.001088       -0.000081  \n",
       "2017-02-02        -0.000049     -0.003318      0.001901       -0.000045  \n",
       "2017-02-03        -0.000063     -0.002248     -0.000739       -0.000065  \n",
       "2017-02-06        -0.000061     -0.002235      0.000442       -0.000043  \n",
       "2017-02-07        -0.000212     -0.000658      0.001226       -0.000011  \n",
       "\n",
       "[5 rows x 39 columns]"
      ]
     },
     "execution_count": 86,
     "metadata": {},
     "output_type": "execute_result"
    }
   ],
   "source": [
    "tweet_returns_features.head()"
   ]
  },
  {
   "cell_type": "code",
   "execution_count": null,
   "metadata": {},
   "outputs": [],
   "source": [
    "tweet_returns_features.index.name = 'date'\n",
    "tweet_returns_features.to_csv('../data/features/tweet_returns.csv')"
   ]
  },
  {
   "cell_type": "code",
   "execution_count": null,
   "metadata": {
    "scrolled": true
   },
   "outputs": [],
   "source": [
    "fig, ax = plt.subplots(5,3, figsize=(15,20))\n",
    "ax = ax.ravel()\n",
    "for i, inst in enumerate(instrument_list):\n",
    "    ax[i].plot(tweet_returns_features['{}_daily_tweet'.format(inst)])\n",
    "    ax[i].set_title(inst)"
   ]
  },
  {
   "cell_type": "code",
   "execution_count": null,
   "metadata": {},
   "outputs": [],
   "source": [
    "fig, ax = plt.subplots(5,3, figsize=(15,20))\n",
    "ax = ax.ravel()\n",
    "for i, inst in enumerate(instrument_list):\n",
    "    ax[i].plot(tweet_returns_features['{}_min_tweet'.format(inst)])\n",
    "    ax[i].set_title(inst)"
   ]
  },
  {
   "cell_type": "code",
   "execution_count": null,
   "metadata": {},
   "outputs": [],
   "source": [
    "fig, ax = plt.subplots(5,3, figsize=(15,20))\n",
    "ax = ax.ravel()\n",
    "for i, inst in enumerate(instrument_list):\n",
    "    ax[i].plot(tweet_returns_features['{}_max_tweet'.format(inst)])\n",
    "    ax[i].set_title(inst)"
   ]
  }
 ],
 "metadata": {
  "kernelspec": {
   "display_name": "Python 3",
   "language": "python",
   "name": "python3"
  },
  "language_info": {
   "codemirror_mode": {
    "name": "ipython",
    "version": 3
   },
   "file_extension": ".py",
   "mimetype": "text/x-python",
   "name": "python",
   "nbconvert_exporter": "python",
   "pygments_lexer": "ipython3",
   "version": "3.6.8"
  },
  "pycharm": {
   "stem_cell": {
    "cell_type": "raw",
    "metadata": {
     "collapsed": false
    },
    "source": []
   }
  }
 },
 "nbformat": 4,
 "nbformat_minor": 2
}
