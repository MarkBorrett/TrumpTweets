{
 "cells": [
  {
   "cell_type": "markdown",
   "metadata": {},
   "source": [
    "# Sentiment Features"
   ]
  },
  {
   "cell_type": "markdown",
   "metadata": {},
   "source": [
    "This notebook creates sentiment featues"
   ]
  },
  {
   "cell_type": "code",
   "execution_count": 14,
   "metadata": {},
   "outputs": [],
   "source": [
    "import sys\n",
    "sys.path.append('..') #to add top-level to path\n",
    "\n",
    "import numpy as np\n",
    "from modules.project_helper import TweetData\n",
    "import pandas as pd\n",
    "import matplotlib.pyplot as plt\n",
    "from modules.text_features import SentimentFeaturesGenerator\n"
   ]
  },
  {
   "cell_type": "markdown",
   "metadata": {},
   "source": [
    "## Load the tweets"
   ]
  },
  {
   "cell_type": "code",
   "execution_count": 15,
   "metadata": {},
   "outputs": [],
   "source": [
    "tweet_data = TweetData()"
   ]
  },
  {
   "cell_type": "markdown",
   "metadata": {},
   "source": [
    "## Create the sentiment features"
   ]
  },
  {
   "cell_type": "markdown",
   "metadata": {},
   "source": [
    "**Four features are created:**\n",
    "\n",
    "1) Proportion of words with negative sentiment in the tweet\n",
    "\n",
    "\n",
    "2) Proportion of words with positive sentiment in the tweet\n",
    "\n",
    "3) Proportion of words with neutral sentiment in the tweet\n",
    "\n",
    "4) Combined Score of the tweet"
   ]
  },
  {
   "cell_type": "code",
   "execution_count": 16,
   "metadata": {},
   "outputs": [],
   "source": [
    "sentiment_features = SentimentFeaturesGenerator(tweet_df=tweet_data.clean_tweets,\n",
    "                                               aggregate=True)\n",
    "sentiment_features.run()"
   ]
  },
  {
   "cell_type": "markdown",
   "metadata": {},
   "source": [
    "## Analyze the results"
   ]
  },
  {
   "cell_type": "markdown",
   "metadata": {},
   "source": [
    "The SentimentFeaturesGenerator generates two dataframes - one at the 'tweet level' and an aggregated dataframe for each day."
   ]
  },
  {
   "cell_type": "code",
   "execution_count": 17,
   "metadata": {},
   "outputs": [],
   "source": [
    "sentiment_df = sentiment_features.sentiment_df\n",
    "sentiment_df_aggregate = sentiment_features.sentiment_df_aggregate"
   ]
  },
  {
   "cell_type": "code",
   "execution_count": 18,
   "metadata": {},
   "outputs": [
    {
     "data": {
      "text/html": [
       "<div>\n",
       "<style scoped>\n",
       "    .dataframe tbody tr th:only-of-type {\n",
       "        vertical-align: middle;\n",
       "    }\n",
       "\n",
       "    .dataframe tbody tr th {\n",
       "        vertical-align: top;\n",
       "    }\n",
       "\n",
       "    .dataframe thead th {\n",
       "        text-align: right;\n",
       "    }\n",
       "</style>\n",
       "<table border=\"1\" class=\"dataframe\">\n",
       "  <thead>\n",
       "    <tr style=\"text-align: right;\">\n",
       "      <th></th>\n",
       "      <th>negative_proportion</th>\n",
       "      <th>positive_proportion</th>\n",
       "      <th>neutral_proportion</th>\n",
       "      <th>combined_score</th>\n",
       "      <th>date</th>\n",
       "    </tr>\n",
       "    <tr>\n",
       "      <th>timestamp</th>\n",
       "      <th></th>\n",
       "      <th></th>\n",
       "      <th></th>\n",
       "      <th></th>\n",
       "      <th></th>\n",
       "    </tr>\n",
       "  </thead>\n",
       "  <tbody>\n",
       "    <tr>\n",
       "      <th>2019-11-17 19:57:12-06:00</th>\n",
       "      <td>0.062</td>\n",
       "      <td>0.058</td>\n",
       "      <td>0.880</td>\n",
       "      <td>-0.0516</td>\n",
       "      <td>2019-11-18</td>\n",
       "    </tr>\n",
       "    <tr>\n",
       "      <th>2019-11-17 19:56:02-06:00</th>\n",
       "      <td>0.000</td>\n",
       "      <td>0.000</td>\n",
       "      <td>0.000</td>\n",
       "      <td>0.0000</td>\n",
       "      <td>2019-11-18</td>\n",
       "    </tr>\n",
       "    <tr>\n",
       "      <th>2019-11-17 19:49:47-06:00</th>\n",
       "      <td>0.110</td>\n",
       "      <td>0.153</td>\n",
       "      <td>0.736</td>\n",
       "      <td>0.4767</td>\n",
       "      <td>2019-11-18</td>\n",
       "    </tr>\n",
       "    <tr>\n",
       "      <th>2019-11-17 19:47:32-06:00</th>\n",
       "      <td>0.000</td>\n",
       "      <td>0.000</td>\n",
       "      <td>1.000</td>\n",
       "      <td>0.0000</td>\n",
       "      <td>2019-11-18</td>\n",
       "    </tr>\n",
       "    <tr>\n",
       "      <th>2019-11-17 19:30:09-06:00</th>\n",
       "      <td>0.300</td>\n",
       "      <td>0.077</td>\n",
       "      <td>0.623</td>\n",
       "      <td>-0.8955</td>\n",
       "      <td>2019-11-18</td>\n",
       "    </tr>\n",
       "  </tbody>\n",
       "</table>\n",
       "</div>"
      ],
      "text/plain": [
       "                           negative_proportion  positive_proportion  \\\n",
       "timestamp                                                             \n",
       "2019-11-17 19:57:12-06:00                0.062                0.058   \n",
       "2019-11-17 19:56:02-06:00                0.000                0.000   \n",
       "2019-11-17 19:49:47-06:00                0.110                0.153   \n",
       "2019-11-17 19:47:32-06:00                0.000                0.000   \n",
       "2019-11-17 19:30:09-06:00                0.300                0.077   \n",
       "\n",
       "                           neutral_proportion  combined_score        date  \n",
       "timestamp                                                                  \n",
       "2019-11-17 19:57:12-06:00               0.880         -0.0516  2019-11-18  \n",
       "2019-11-17 19:56:02-06:00               0.000          0.0000  2019-11-18  \n",
       "2019-11-17 19:49:47-06:00               0.736          0.4767  2019-11-18  \n",
       "2019-11-17 19:47:32-06:00               1.000          0.0000  2019-11-18  \n",
       "2019-11-17 19:30:09-06:00               0.623         -0.8955  2019-11-18  "
      ]
     },
     "execution_count": 18,
     "metadata": {},
     "output_type": "execute_result"
    }
   ],
   "source": [
    "sentiment_df.head()"
   ]
  },
  {
   "cell_type": "code",
   "execution_count": 19,
   "metadata": {},
   "outputs": [
    {
     "data": {
      "text/html": [
       "<div>\n",
       "<style scoped>\n",
       "    .dataframe tbody tr th:only-of-type {\n",
       "        vertical-align: middle;\n",
       "    }\n",
       "\n",
       "    .dataframe tbody tr th {\n",
       "        vertical-align: top;\n",
       "    }\n",
       "\n",
       "    .dataframe thead th {\n",
       "        text-align: right;\n",
       "    }\n",
       "</style>\n",
       "<table border=\"1\" class=\"dataframe\">\n",
       "  <thead>\n",
       "    <tr style=\"text-align: right;\">\n",
       "      <th></th>\n",
       "      <th>negative_proportion_min</th>\n",
       "      <th>negative_proportion_max</th>\n",
       "      <th>negative_proportion_mean</th>\n",
       "      <th>positive_proportion_min</th>\n",
       "      <th>positive_proportion_max</th>\n",
       "      <th>positive_proportion_mean</th>\n",
       "      <th>neutral_proportion_min</th>\n",
       "      <th>neutral_proportion_max</th>\n",
       "      <th>neutral_proportion_mean</th>\n",
       "      <th>combined_score_min</th>\n",
       "      <th>combined_score_max</th>\n",
       "      <th>combined_score_mean</th>\n",
       "    </tr>\n",
       "    <tr>\n",
       "      <th>date</th>\n",
       "      <th></th>\n",
       "      <th></th>\n",
       "      <th></th>\n",
       "      <th></th>\n",
       "      <th></th>\n",
       "      <th></th>\n",
       "      <th></th>\n",
       "      <th></th>\n",
       "      <th></th>\n",
       "      <th></th>\n",
       "      <th></th>\n",
       "      <th></th>\n",
       "    </tr>\n",
       "  </thead>\n",
       "  <tbody>\n",
       "    <tr>\n",
       "      <th>2009-05-05</th>\n",
       "      <td>0.000</td>\n",
       "      <td>0.000</td>\n",
       "      <td>0.000</td>\n",
       "      <td>0.163</td>\n",
       "      <td>0.252</td>\n",
       "      <td>0.2075</td>\n",
       "      <td>0.748</td>\n",
       "      <td>0.837</td>\n",
       "      <td>0.7925</td>\n",
       "      <td>0.4767</td>\n",
       "      <td>0.7506</td>\n",
       "      <td>0.61365</td>\n",
       "    </tr>\n",
       "    <tr>\n",
       "      <th>2009-05-08</th>\n",
       "      <td>0.000</td>\n",
       "      <td>0.000</td>\n",
       "      <td>0.000</td>\n",
       "      <td>0.277</td>\n",
       "      <td>0.277</td>\n",
       "      <td>0.2770</td>\n",
       "      <td>0.723</td>\n",
       "      <td>0.723</td>\n",
       "      <td>0.7230</td>\n",
       "      <td>0.6115</td>\n",
       "      <td>0.6115</td>\n",
       "      <td>0.61150</td>\n",
       "    </tr>\n",
       "    <tr>\n",
       "      <th>2009-05-09</th>\n",
       "      <td>0.000</td>\n",
       "      <td>0.000</td>\n",
       "      <td>0.000</td>\n",
       "      <td>0.000</td>\n",
       "      <td>0.000</td>\n",
       "      <td>0.0000</td>\n",
       "      <td>1.000</td>\n",
       "      <td>1.000</td>\n",
       "      <td>1.0000</td>\n",
       "      <td>0.0000</td>\n",
       "      <td>0.0000</td>\n",
       "      <td>0.00000</td>\n",
       "    </tr>\n",
       "    <tr>\n",
       "      <th>2009-05-12</th>\n",
       "      <td>0.000</td>\n",
       "      <td>0.000</td>\n",
       "      <td>0.000</td>\n",
       "      <td>0.000</td>\n",
       "      <td>0.000</td>\n",
       "      <td>0.0000</td>\n",
       "      <td>1.000</td>\n",
       "      <td>1.000</td>\n",
       "      <td>1.0000</td>\n",
       "      <td>0.0000</td>\n",
       "      <td>0.0000</td>\n",
       "      <td>0.00000</td>\n",
       "    </tr>\n",
       "    <tr>\n",
       "      <th>2009-05-13</th>\n",
       "      <td>0.075</td>\n",
       "      <td>0.075</td>\n",
       "      <td>0.075</td>\n",
       "      <td>0.222</td>\n",
       "      <td>0.222</td>\n",
       "      <td>0.2220</td>\n",
       "      <td>0.703</td>\n",
       "      <td>0.703</td>\n",
       "      <td>0.7030</td>\n",
       "      <td>0.4809</td>\n",
       "      <td>0.4809</td>\n",
       "      <td>0.48090</td>\n",
       "    </tr>\n",
       "  </tbody>\n",
       "</table>\n",
       "</div>"
      ],
      "text/plain": [
       "            negative_proportion_min  negative_proportion_max  \\\n",
       "date                                                           \n",
       "2009-05-05                    0.000                    0.000   \n",
       "2009-05-08                    0.000                    0.000   \n",
       "2009-05-09                    0.000                    0.000   \n",
       "2009-05-12                    0.000                    0.000   \n",
       "2009-05-13                    0.075                    0.075   \n",
       "\n",
       "            negative_proportion_mean  positive_proportion_min  \\\n",
       "date                                                            \n",
       "2009-05-05                     0.000                    0.163   \n",
       "2009-05-08                     0.000                    0.277   \n",
       "2009-05-09                     0.000                    0.000   \n",
       "2009-05-12                     0.000                    0.000   \n",
       "2009-05-13                     0.075                    0.222   \n",
       "\n",
       "            positive_proportion_max  positive_proportion_mean  \\\n",
       "date                                                            \n",
       "2009-05-05                    0.252                    0.2075   \n",
       "2009-05-08                    0.277                    0.2770   \n",
       "2009-05-09                    0.000                    0.0000   \n",
       "2009-05-12                    0.000                    0.0000   \n",
       "2009-05-13                    0.222                    0.2220   \n",
       "\n",
       "            neutral_proportion_min  neutral_proportion_max  \\\n",
       "date                                                         \n",
       "2009-05-05                   0.748                   0.837   \n",
       "2009-05-08                   0.723                   0.723   \n",
       "2009-05-09                   1.000                   1.000   \n",
       "2009-05-12                   1.000                   1.000   \n",
       "2009-05-13                   0.703                   0.703   \n",
       "\n",
       "            neutral_proportion_mean  combined_score_min  combined_score_max  \\\n",
       "date                                                                          \n",
       "2009-05-05                   0.7925              0.4767              0.7506   \n",
       "2009-05-08                   0.7230              0.6115              0.6115   \n",
       "2009-05-09                   1.0000              0.0000              0.0000   \n",
       "2009-05-12                   1.0000              0.0000              0.0000   \n",
       "2009-05-13                   0.7030              0.4809              0.4809   \n",
       "\n",
       "            combined_score_mean  \n",
       "date                             \n",
       "2009-05-05              0.61365  \n",
       "2009-05-08              0.61150  \n",
       "2009-05-09              0.00000  \n",
       "2009-05-12              0.00000  \n",
       "2009-05-13              0.48090  "
      ]
     },
     "execution_count": 19,
     "metadata": {},
     "output_type": "execute_result"
    }
   ],
   "source": [
    "sentiment_df_aggregate.head()"
   ]
  },
  {
   "cell_type": "code",
   "execution_count": 20,
   "metadata": {},
   "outputs": [],
   "source": [
    "sentiment_df_aggregate.to_csv('../data/features/daily_sentiment.csv')"
   ]
  },
  {
   "cell_type": "markdown",
   "metadata": {},
   "source": [
    "\n",
    "# Analyze the sentiment plots"
   ]
  },
  {
   "cell_type": "code",
   "execution_count": 21,
   "metadata": {},
   "outputs": [],
   "source": [
    "sentiment_df_aggregate['month'] = sentiment_df_aggregate.index.month\n",
    "sentiment_df_aggregate['year'] = sentiment_df_aggregate.index.year\n",
    "sentiment_df_aggregate['YearMon'] = sentiment_df_aggregate.index.to_period('m')\n",
    "sentiment_df_aggregate_month = sentiment_df_aggregate.groupby(['month','year'])['negative_proportion_max'].mean()\n",
    "sentiment_df_aggregate_month = sentiment_df_aggregate\\\n",
    "                                .groupby(['month','year'])\\\n",
    "                                .agg(mean_negative_prop = pd.NamedAgg(column='negative_proportion_mean',\n",
    "                                                                      aggfunc='mean'))\\\n",
    "                                .reset_index()\n",
    "sentiment_df_aggregate_month = sentiment_df_aggregate\\\n",
    "                                    .groupby('YearMon')\\\n",
    "                                    .agg(mean_negative_prop = pd.NamedAgg(column='negative_proportion_mean',\n",
    "                                                                      aggfunc='mean'),\n",
    "                                         mean_combined_prop = pd.NamedAgg(column='combined_score_mean',\n",
    "                                                                      aggfunc='mean')\n",
    "                                        )\\\n",
    "                                    .reset_index()\n",
    "                                                    \n",
    "sentiment_df_aggregate_month['date']=pd.to_datetime({'day':1,\n",
    "                'month':sentiment_df_aggregate_month.YearMon.dt.month,\n",
    "                'year':sentiment_df_aggregate_month.YearMon.dt.year})"
   ]
  },
  {
   "cell_type": "markdown",
   "metadata": {},
   "source": [
    "## Proportion of negative words in tweet (by month)"
   ]
  },
  {
   "cell_type": "code",
   "execution_count": 22,
   "metadata": {
    "scrolled": false
   },
   "outputs": [
    {
     "data": {
      "image/png": "[encoded data removed]",
      "text/plain": [
       "<Figure size 432x288 with 1 Axes>"
      ]
     },
     "metadata": {
      "needs_background": "light"
     },
     "output_type": "display_data"
    }
   ],
   "source": [
    "plt.plot(sentiment_df_aggregate_month.date,sentiment_df_aggregate_month.mean_negative_prop);"
   ]
  },
  {
   "cell_type": "markdown",
   "metadata": {},
   "source": [
    "## Sentiment in tweet (by month)"
   ]
  },
  {
   "cell_type": "code",
   "execution_count": 23,
   "metadata": {
    "scrolled": true
   },
   "outputs": [
    {
     "data": {
      "image/png": "[encoded data removed]",
      "text/plain": [
       "<Figure size 432x288 with 1 Axes>"
      ]
     },
     "metadata": {
      "needs_background": "light"
     },
     "output_type": "display_data"
    }
   ],
   "source": [
    "plt.plot(sentiment_df_aggregate_month.date,sentiment_df_aggregate_month.mean_combined_prop);\n",
    "plt.ylabel('Sentiment Score');"
   ]
  },
  {
   "cell_type": "markdown",
   "metadata": {},
   "source": [
    "Trump gets very negative around July, 2017. That's also when he gets political"
   ]
  },
  {
   "cell_type": "markdown",
   "metadata": {},
   "source": [
    "Trump's tweet between Jan-2011 and June-2011. Most of them are apolitical."
   ]
  },
  {
   "cell_type": "code",
   "execution_count": 24,
   "metadata": {},
   "outputs": [
    {
     "data": {
      "text/plain": [
       "timestamp\n",
       "2011-06-27 15:14:33-05:00    did my weekly phoner on fox friends this morni...\n",
       "2011-06-27 14:15:30-05:00    i was in san jose ca on saturday for a sit dow...\n",
       "2011-06-24 20:50:54-05:00                is having an online competition vote \n",
       "2011-06-23 18:57:02-05:00    our new miss usa alyssa campanella came up to ...\n",
       "2011-06-21 18:13:52-05:00    ive been visiting trump intl golf links scotla...\n",
       "                                                   ...                        \n",
       "2011-01-21 18:25:39-06:00    dont miss my fabulous world of golf now in its...\n",
       "2011-01-21 17:20:04-06:00    busy doing phoners this week with neil cavuto ...\n",
       "2011-01-13 16:14:17-06:00    dont forget to watch me tonight on late night ...\n",
       "2011-01-12 19:35:05-06:00    this afternoon ill be speaking with neil cavut...\n",
       "2011-01-12 15:28:31-06:00    watch me on late night with jimmy fallon tomor...\n",
       "Name: tweets, Length: 95, dtype: object"
      ]
     },
     "execution_count": 24,
     "metadata": {},
     "output_type": "execute_result"
    }
   ],
   "source": [
    "tweet_data.clean_tweets[np.logical_and(tweet_data.clean_tweets.timestamp>pd.to_datetime('2011-01-01').tz_localize('US/Central'),\n",
    "tweet_data.clean_tweets.timestamp<pd.to_datetime('2011-07-01').tz_localize('US/Central'))]['tweets']"
   ]
  },
  {
   "cell_type": "markdown",
   "metadata": {},
   "source": [
    "Trump's tweet between July-2011. Most of them are political."
   ]
  },
  {
   "cell_type": "code",
   "execution_count": 25,
   "metadata": {},
   "outputs": [
    {
     "data": {
      "text/plain": [
       "timestamp\n",
       "2011-07-30 15:43:38-05:00    ex presidential pollster pat cadell says most ...\n",
       "2011-07-30 15:16:16-05:00    we need economic growth and jobs not blue ribb...\n",
       "2011-07-29 20:13:23-05:00    no taxes in boehner or reid plan important vic...\n",
       "2011-07-29 19:23:41-05:00         watched sean hannity last night a great guy \n",
       "2011-07-29 19:03:19-05:00    if obama has to re fight this fight next year ...\n",
       "                                                   ...                        \n",
       "2011-07-06 14:38:16-05:00    congress is back time to cut cap and balance t...\n",
       "2011-07-05 19:51:31-05:00    perhaps this is the kind of thinking we need i...\n",
       "2011-07-05 18:12:13-05:00    tomorrow well be going to panama for the openi...\n",
       "2011-07-01 16:54:25-05:00    wishing everyone a wonderful independence day ...\n",
       "2011-07-01 16:44:24-05:00    please read and watch a recent trip made to tr...\n",
       "Name: tweets, Length: 73, dtype: object"
      ]
     },
     "execution_count": 25,
     "metadata": {},
     "output_type": "execute_result"
    }
   ],
   "source": [
    "tweet_data.clean_tweets[np.logical_and(tweet_data.clean_tweets.timestamp>pd.to_datetime('2011-07-01').tz_localize('US/Central'),\n",
    "tweet_data.clean_tweets.timestamp<pd.to_datetime('2011-08-01').tz_localize('US/Central'))]['tweets']"
   ]
  },
  {
   "cell_type": "markdown",
   "metadata": {},
   "source": [
    "This shift in Trump's Twitter activity is discussed at https://theoutline.com/post/2445/trump-s-first-real-tweet-was-on-july-6-2011?zd=1&zi=blsl6n2o"
   ]
  }
 ],
 "metadata": {
  "kernelspec": {
   "display_name": "Python 3",
   "language": "python",
   "name": "python3"
  },
  "language_info": {
   "codemirror_mode": {
    "name": "ipython",
    "version": 3
   },
   "file_extension": ".py",
   "mimetype": "text/x-python",
   "name": "python",
   "nbconvert_exporter": "python",
   "pygments_lexer": "ipython3",
   "version": "3.6.8"
  },
  "pycharm": {
   "stem_cell": {
    "cell_type": "raw",
    "metadata": {
     "collapsed": false
    },
    "source": []
   }
  }
 },
 "nbformat": 4,
 "nbformat_minor": 2
}
