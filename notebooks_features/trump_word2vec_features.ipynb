{
 "cells": [
  {
   "cell_type": "markdown",
   "metadata": {},
   "source": [
    "https://github.com/QuantCS109/TrumpTweets/blob/master/notebooks_features/trump_word2vec_features.ipynb"
   ]
  },
  {
   "cell_type": "code",
   "execution_count": 1,
   "metadata": {},
   "outputs": [],
   "source": [
    "import torch\n",
    "\n",
    "import sys\n",
    "sys.path.append('..') #to add top-level to path\n",
    "sys.path.append('../modules') #to add top-level to path\n",
    "\n",
    "from modules.project_helper import TweetData\n",
    "\n",
    "import numpy as np\n",
    "import pandas as pd\n",
    "import os"
   ]
  },
  {
   "cell_type": "code",
   "execution_count": 2,
   "metadata": {},
   "outputs": [],
   "source": [
    "tweet_data = TweetData()"
   ]
  },
  {
   "cell_type": "code",
   "execution_count": 3,
   "metadata": {},
   "outputs": [],
   "source": [
    "daily_tweets = tweet_data.clean_tweets #[pd.to_datetime(tweet_data.clean_tweets.after4_date)\n",
    "                                       #<= pd.to_datetime(daily_df.index[-1])]\n",
    "daily_tweets.after4_date = pd.to_datetime(daily_tweets.after4_date)"
   ]
  },
  {
   "cell_type": "code",
   "execution_count": 4,
   "metadata": {},
   "outputs": [
    {
     "data": {
      "text/html": [
       "<div>\n",
       "<style scoped>\n",
       "    .dataframe tbody tr th:only-of-type {\n",
       "        vertical-align: middle;\n",
       "    }\n",
       "\n",
       "    .dataframe tbody tr th {\n",
       "        vertical-align: top;\n",
       "    }\n",
       "\n",
       "    .dataframe thead th {\n",
       "        text-align: right;\n",
       "    }\n",
       "</style>\n",
       "<table border=\"1\" class=\"dataframe\">\n",
       "  <thead>\n",
       "    <tr style=\"text-align: right;\">\n",
       "      <th></th>\n",
       "      <th>tweets</th>\n",
       "      <th>timestamp</th>\n",
       "      <th>after4_date</th>\n",
       "    </tr>\n",
       "    <tr>\n",
       "      <th>timestamp</th>\n",
       "      <th></th>\n",
       "      <th></th>\n",
       "      <th></th>\n",
       "    </tr>\n",
       "  </thead>\n",
       "  <tbody>\n",
       "    <tr>\n",
       "      <th>2019-11-17 19:57:12-06:00</th>\n",
       "      <td>tell jennifer williams whoever that is to read...</td>\n",
       "      <td>2019-11-17 19:57:12-06:00</td>\n",
       "      <td>2019-11-18</td>\n",
       "    </tr>\n",
       "    <tr>\n",
       "      <th>2019-11-17 19:56:02-06:00</th>\n",
       "      <td></td>\n",
       "      <td>2019-11-17 19:56:02-06:00</td>\n",
       "      <td>2019-11-18</td>\n",
       "    </tr>\n",
       "    <tr>\n",
       "      <th>2019-11-17 19:49:47-06:00</th>\n",
       "      <td>paul krugman of has been wrong about me from t...</td>\n",
       "      <td>2019-11-17 19:49:47-06:00</td>\n",
       "      <td>2019-11-18</td>\n",
       "    </tr>\n",
       "    <tr>\n",
       "      <th>2019-11-17 19:47:32-06:00</th>\n",
       "      <td>schiff is a corrupt politician</td>\n",
       "      <td>2019-11-17 19:47:32-06:00</td>\n",
       "      <td>2019-11-18</td>\n",
       "    </tr>\n",
       "    <tr>\n",
       "      <th>2019-11-17 19:30:09-06:00</th>\n",
       "      <td>blew the nasty amp obnoxious chris wallace wil...</td>\n",
       "      <td>2019-11-17 19:30:09-06:00</td>\n",
       "      <td>2019-11-18</td>\n",
       "    </tr>\n",
       "  </tbody>\n",
       "</table>\n",
       "</div>"
      ],
      "text/plain": [
       "                                                                      tweets  \\\n",
       "timestamp                                                                      \n",
       "2019-11-17 19:57:12-06:00  tell jennifer williams whoever that is to read...   \n",
       "2019-11-17 19:56:02-06:00                                                      \n",
       "2019-11-17 19:49:47-06:00  paul krugman of has been wrong about me from t...   \n",
       "2019-11-17 19:47:32-06:00                    schiff is a corrupt politician    \n",
       "2019-11-17 19:30:09-06:00  blew the nasty amp obnoxious chris wallace wil...   \n",
       "\n",
       "                                          timestamp after4_date  \n",
       "timestamp                                                        \n",
       "2019-11-17 19:57:12-06:00 2019-11-17 19:57:12-06:00  2019-11-18  \n",
       "2019-11-17 19:56:02-06:00 2019-11-17 19:56:02-06:00  2019-11-18  \n",
       "2019-11-17 19:49:47-06:00 2019-11-17 19:49:47-06:00  2019-11-18  \n",
       "2019-11-17 19:47:32-06:00 2019-11-17 19:47:32-06:00  2019-11-18  \n",
       "2019-11-17 19:30:09-06:00 2019-11-17 19:30:09-06:00  2019-11-18  "
      ]
     },
     "execution_count": 4,
     "metadata": {},
     "output_type": "execute_result"
    }
   ],
   "source": [
    "daily_tweets.head()"
   ]
  },
  {
   "cell_type": "code",
   "execution_count": 5,
   "metadata": {},
   "outputs": [],
   "source": [
    "model = torch.load('../models/tweet_embeddings/trump_rnn_1911.net')"
   ]
  },
  {
   "cell_type": "code",
   "execution_count": 6,
   "metadata": {},
   "outputs": [],
   "source": [
    "embeddings = model.in_embed.weight.to('cpu').data.numpy()"
   ]
  },
  {
   "cell_type": "code",
   "execution_count": 7,
   "metadata": {},
   "outputs": [
    {
     "data": {
      "text/plain": [
       "(4574, 100)"
      ]
     },
     "execution_count": 7,
     "metadata": {},
     "output_type": "execute_result"
    }
   ],
   "source": [
    "embeddings.shape"
   ]
  },
  {
   "cell_type": "code",
   "execution_count": 8,
   "metadata": {},
   "outputs": [
    {
     "data": {
      "text/plain": [
       "['trump_rnn_1702.net',\n",
       " 'trump_rnn_1703.net',\n",
       " 'trump_rnn_1908.net',\n",
       " 'trump_rnn_1707.net',\n",
       " 'trump_rnn_1712.net']"
      ]
     },
     "execution_count": 8,
     "metadata": {},
     "output_type": "execute_result"
    }
   ],
   "source": [
    "arches = os.listdir('../models/tweet_embeddings')\n",
    "arches[0:5]"
   ]
  },
  {
   "cell_type": "code",
   "execution_count": 9,
   "metadata": {},
   "outputs": [],
   "source": [
    "embedding_list = []\n",
    "for arch in arches:\n",
    "    model = torch.load('../models/tweet_embeddings/{}'.format(arch))\n",
    "    embedding_list.append(model.in_embed.weight.to('cpu').data.numpy())\n",
    "    "
   ]
  },
  {
   "cell_type": "code",
   "execution_count": 10,
   "metadata": {},
   "outputs": [
    {
     "data": {
      "text/plain": [
       "(2576, 100)"
      ]
     },
     "execution_count": 10,
     "metadata": {},
     "output_type": "execute_result"
    }
   ],
   "source": [
    "embedding_list[0].shape"
   ]
  },
  {
   "cell_type": "code",
   "execution_count": 11,
   "metadata": {},
   "outputs": [],
   "source": [
    "data = TweetData('../data/intermediate_data/trump_archive_ts/trump_archive_db_1911.csv')\n",
    "words = data.words\n",
    "vocab_to_int, int_to_vocab = data.vocab_to_int, data.int_to_vocab\n",
    "int_words = data.int_words"
   ]
  },
  {
   "cell_type": "code",
   "execution_count": 12,
   "metadata": {},
   "outputs": [
    {
     "data": {
      "text/plain": [
       "array([[-0.07983071,  0.13481925, -0.3339518 , ...,  0.07891949,\n",
       "        -0.03683575, -0.06613905],\n",
       "       [-0.4210904 ,  0.02706584, -0.1898706 , ..., -0.17446454,\n",
       "        -0.08358873, -0.03138035],\n",
       "       [-0.22094908, -0.20108747, -0.04167196, ...,  0.11216594,\n",
       "         0.00401473,  0.15296404],\n",
       "       ...,\n",
       "       [-0.38425526, -0.3069386 ,  0.7174769 , ..., -0.4966805 ,\n",
       "        -0.22396143, -0.90884376],\n",
       "       [-1.4828042 ,  0.38311642,  0.23013367, ...,  0.69838697,\n",
       "         0.10621499,  0.49422497],\n",
       "       [-0.72725123,  0.19940047, -0.78007627, ...,  0.00616149,\n",
       "         0.37083137, -0.43986282]], dtype=float32)"
      ]
     },
     "execution_count": 12,
     "metadata": {},
     "output_type": "execute_result"
    }
   ],
   "source": [
    "embedding_list[-1]"
   ]
  },
  {
   "cell_type": "code",
   "execution_count": 13,
   "metadata": {},
   "outputs": [
    {
     "data": {
      "text/plain": [
       "timestamp\n",
       "2019-11-17 19:57:12-06:00   2019-11-18\n",
       "2019-11-17 19:56:02-06:00   2019-11-18\n",
       "2019-11-17 19:49:47-06:00   2019-11-18\n",
       "2019-11-17 19:47:32-06:00   2019-11-18\n",
       "2019-11-17 19:30:09-06:00   2019-11-18\n",
       "                               ...    \n",
       "2009-05-12 14:07:28-05:00   2009-05-12\n",
       "2009-05-08 20:40:15-05:00   2009-05-09\n",
       "2009-05-08 13:38:08-05:00   2009-05-08\n",
       "2009-05-05 01:00:10-05:00   2009-05-05\n",
       "2009-05-04 18:54:02-05:00   2009-05-05\n",
       "Name: after4_date, Length: 28813, dtype: datetime64[ns]"
      ]
     },
     "execution_count": 13,
     "metadata": {},
     "output_type": "execute_result"
    }
   ],
   "source": [
    "daily_tweets.after4_date"
   ]
  },
  {
   "cell_type": "code",
   "execution_count": 14,
   "metadata": {},
   "outputs": [],
   "source": [
    "tweet_embeddings = {}\n",
    "dtws = daily_tweets.tweets[daily_tweets.after4_date >= pd.to_datetime('1-1-2017')]\n",
    "tweet_embeddings_np = np.zeros([dtws.shape[0],100])\n",
    "\n",
    "for i, tweet in enumerate(dtws):\n",
    "    embed_sum = np.zeros(100) \n",
    "    tw = tweet.split()\n",
    "    wd_count = 0\n",
    "    for word in tw:\n",
    "        try:\n",
    "            if vocab_to_int[word] >= 25:\n",
    "                embed_sum += embedding_list[-1][vocab_to_int[word]]\n",
    "                wd_count += 1\n",
    "\n",
    "        except:\n",
    "            pass\n",
    "    if wd_count > 0:    \n",
    "        tweet_embeddings[i] = embed_sum/wd_count\n",
    "        tweet_embeddings_np[i,:] = embed_sum/wd_count\n",
    "    else:\n",
    "        tweet_embeddings[i] = embed_sum\n",
    "        tweet_embeddings_np[i,:] = embed_sum\n",
    "        \n",
    "            \n",
    "        "
   ]
  },
  {
   "cell_type": "code",
   "execution_count": 15,
   "metadata": {},
   "outputs": [
    {
     "data": {
      "text/plain": [
       "(9582, 100)"
      ]
     },
     "execution_count": 15,
     "metadata": {},
     "output_type": "execute_result"
    }
   ],
   "source": [
    "tweet_embeddings_np.shape"
   ]
  },
  {
   "cell_type": "code",
   "execution_count": 16,
   "metadata": {},
   "outputs": [],
   "source": [
    "#pd.DataFrame(tweet_embeddings_np).to_csv('../data/intermediate_data/tweet_embeddings.csv')"
   ]
  },
  {
   "cell_type": "code",
   "execution_count": 17,
   "metadata": {},
   "outputs": [
    {
     "name": "stdout",
     "output_type": "stream",
     "text": [
      "collusion\n",
      "democrats\n",
      "friday\n",
      "president\n",
      "up\n",
      "do\n",
      "has\n"
     ]
    },
    {
     "data": {
      "text/plain": [
       "'democrats wrote to the ukrainian government in may urging it to continue investigations into president donald trumps alleged collusion with russia in the presidential campaign collusion later found not to exist '"
      ]
     },
     "execution_count": 17,
     "metadata": {},
     "output_type": "execute_result"
    }
   ],
   "source": [
    "tw = 1000\n",
    "\n",
    "embedding = model.in_embed\n",
    "embed_vectors = embedding.weight\n",
    "magnitudes = embed_vectors.pow(2).sum(dim=1).sqrt().unsqueeze(0)\n",
    "tweet_after = daily_tweets.tweets[daily_tweets.after4_date >= pd.to_datetime('1-1-2017')]\n",
    "valid_vector = torch.FloatTensor(tweet_embeddings[tw])\n",
    "wds = (torch.matmul(valid_vector, embed_vectors.t()) / torch.FloatTensor(magnitudes)).topk(10)\n",
    "for wd in list(wds[1][0].numpy()):\n",
    "    if wd> 25 :\n",
    "        print(int_to_vocab[wd])\n",
    "tweet_after[tw]"
   ]
  },
  {
   "cell_type": "code",
   "execution_count": 18,
   "metadata": {},
   "outputs": [
    {
     "data": {
      "text/plain": [
       "torch.return_types.topk(\n",
       "values=tensor([[0.6764, 0.6728, 0.6672, 0.6502, 0.6453, 0.6393, 0.6383, 0.6304, 0.6291,\n",
       "         0.6283]], grad_fn=<TopkBackward>),\n",
       "indices=tensor([[   8,  203,   75, 1083,    6,   44,    0,   73,   47,   30]]))"
      ]
     },
     "execution_count": 18,
     "metadata": {},
     "output_type": "execute_result"
    }
   ],
   "source": [
    "wds"
   ]
  },
  {
   "cell_type": "code",
   "execution_count": 64,
   "metadata": {},
   "outputs": [
    {
     "name": "stdout",
     "output_type": "stream",
     "text": [
      "2019-10-06 22:03:03-05:00 || democrat lawyer is same for both whistleblowers all support obama and crooked hillary witch hunt \n",
      "\n",
      "2018-07-29 19:35:14-05:00 || there is no collusion the robert mueller rigged witch hunt headed now by increased from including an obama white house lawyer angry democrats was started by a fraudulent dossier paid for by crooked hillary and the dnc therefore the witch hunt is an illegal scam \n",
      "\n",
      "2018-09-13 12:49:12-05:00 || this was done by the democrats in order to make me look as bad as possible when i was successfully raising billions of dollars to help rebuild puerto rico if a person died for any reason like old age just add them onto the list bad politics i love puerto rico \n",
      "\n",
      "2019-06-19 14:18:11-05:00 || the dems are very unhappy with the mueller report so after almost years they want a redo or do over this is extreme presidential harassment they gave crooked hillarys people complete immunity yet now they bring back hope hicks why arent the dems looking at the \n",
      "\n",
      "2019-07-24 02:29:14-05:00 || so robert mueller has now asked for his long time never trumper lawyer to sit beside him and help with answers whats this all about his lawyer represented the basement server guy who got off free in the crooked hillary case this should not be allowed rigged witch hunt \n",
      "\n",
      "2019-02-07 11:26:48-06:00 || the dems and their committees are going nuts the republicans never did this to president obama there would be no time left to run government i hear other committee heads will do the same thing even stealing people who work at white house a continuation of witch hunt \n",
      "\n",
      "2018-12-24 15:23:22-06:00 || for all of the sympathizers out there of brett mcgurk remember he was the obama appointee who was responsible for loading up airplanes with billion dollars in cash amp sending it to iran as part of the horrific iran nuclear deal now terminated approved by little bob corker \n",
      "\n",
      "2019-05-20 11:20:54-05:00 || was very good and highly professional to deal with and if for any reason i didnt like them i would have gone elsewhere there was always plenty of money around and banks to choose from they would be very happy to take my money fake news \n",
      "\n",
      "2018-12-13 13:34:14-06:00 || guilty even on a civil bases those charges were just agreed to by him in order to embarrass the president and get a much reduced prison sentence which he did including the fact that his family was temporarily let off the hook as a lawyer michael has great liability to me \n",
      "\n",
      "2018-11-26 01:59:13-06:00 || did a phony story about child separation when they know we had the exact same policy as the obama administration in fact a picture of children in jails was used by other fake media to show how bad cruel we are but it was in during o years obama separated \n",
      "\n"
     ]
    }
   ],
   "source": [
    "tw = 750\n",
    "\n",
    "embedding = model.in_embed\n",
    "embed_vectors = torch.FloatTensor(tweet_embeddings_np)\n",
    "magnitudes = embed_vectors.pow(2).sum(dim=1).sqrt().unsqueeze(0)\n",
    "tweet_after = daily_tweets.tweets[daily_tweets.after4_date >= pd.to_datetime('1-1-2017')]\n",
    "tweet_after_date = daily_tweets.timestamp[daily_tweets.after4_date >= pd.to_datetime('1-1-2017')]\n",
    "valid_vector = torch.FloatTensor(tweet_embeddings[tw])\n",
    "wds = (torch.matmul(valid_vector, embed_vectors.t()) / torch.FloatTensor(magnitudes))\n",
    "wds[wds != wds] = 0\n",
    "for i in wds.topk(10).indices.numpy():\n",
    "    for tweet_range in i:\n",
    "        print(tweet_after_date[tweet_range], '||', tweet_after[tweet_range])\n",
    "        print('')"
   ]
  },
  {
   "cell_type": "code",
   "execution_count": 20,
   "metadata": {},
   "outputs": [
    {
     "data": {
      "text/plain": [
       "'my daughter ivanka will be on tonight on at p m following the great at enjoy '"
      ]
     },
     "execution_count": 20,
     "metadata": {},
     "output_type": "execute_result"
    }
   ],
   "source": [
    "\n",
    "tweet_after[800]"
   ]
  },
  {
   "cell_type": "code",
   "execution_count": 21,
   "metadata": {},
   "outputs": [
    {
     "data": {
      "text/plain": [
       "'my daughter ivanka has been treated so unfairly by she is a great person always pushing me to do the right thing terrible '"
      ]
     },
     "execution_count": 21,
     "metadata": {},
     "output_type": "execute_result"
    }
   ],
   "source": [
    "tweet_after[9335]"
   ]
  },
  {
   "cell_type": "code",
   "execution_count": 22,
   "metadata": {},
   "outputs": [
    {
     "data": {
      "text/plain": [
       "'will be interviewed tonight by on at p m eastern enjoy '"
      ]
     },
     "execution_count": 22,
     "metadata": {},
     "output_type": "execute_result"
    }
   ],
   "source": [
    "tweet_after[4955]"
   ]
  },
  {
   "cell_type": "code",
   "execution_count": 23,
   "metadata": {},
   "outputs": [
    {
     "data": {
      "text/plain": [
       "'i will be interviewed live tonight by on p m enjoy '"
      ]
     },
     "execution_count": 23,
     "metadata": {},
     "output_type": "execute_result"
    }
   ],
   "source": [
    "tweet_after[2434]"
   ]
  }
 ],
 "metadata": {
  "kernelspec": {
   "display_name": "Python [conda env:cs109]",
   "language": "python",
   "name": "conda-env-cs109-py"
  },
  "language_info": {
   "codemirror_mode": {
    "name": "ipython",
    "version": 3
   },
   "file_extension": ".py",
   "mimetype": "text/x-python",
   "name": "python",
   "nbconvert_exporter": "python",
   "pygments_lexer": "ipython3",
   "version": "3.6.9"
  }
 },
 "nbformat": 4,
 "nbformat_minor": 2
}
