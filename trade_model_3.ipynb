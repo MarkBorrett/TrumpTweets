{
 "cells": [
  {
   "cell_type": "code",
   "execution_count": 1,
   "metadata": {},
   "outputs": [],
   "source": [
    "import pickle\n",
    "import pandas as pd\n",
    "import numpy as np\n",
    "import re\n",
    "#import graphviz\n",
    "from sklearn.tree import DecisionTreeClassifier, export_graphviz\n",
    "from sklearn.ensemble import RandomForestClassifier, AdaBoostClassifier\n",
    "from  sklearn.linear_model import LogisticRegression\n",
    "from sklearn.model_selection import train_test_split\n",
    "import matplotlib.pyplot as plt\n",
    "from datetime import timedelta"
   ]
  },
  {
   "cell_type": "code",
   "execution_count": 2,
   "metadata": {},
   "outputs": [
    {
     "data": {
      "text/html": [
       "<div>\n",
       "<style scoped>\n",
       "    .dataframe tbody tr th:only-of-type {\n",
       "        vertical-align: middle;\n",
       "    }\n",
       "\n",
       "    .dataframe tbody tr th {\n",
       "        vertical-align: top;\n",
       "    }\n",
       "\n",
       "    .dataframe thead th {\n",
       "        text-align: right;\n",
       "    }\n",
       "</style>\n",
       "<table border=\"1\" class=\"dataframe\">\n",
       "  <thead>\n",
       "    <tr style=\"text-align: right;\">\n",
       "      <th></th>\n",
       "      <th>svd_1</th>\n",
       "      <th>svd_2</th>\n",
       "    </tr>\n",
       "    <tr>\n",
       "      <th>date</th>\n",
       "      <th></th>\n",
       "      <th></th>\n",
       "    </tr>\n",
       "  </thead>\n",
       "  <tbody>\n",
       "    <tr>\n",
       "      <td>2009-05-04</td>\n",
       "      <td>0.231291</td>\n",
       "      <td>0.194568</td>\n",
       "    </tr>\n",
       "    <tr>\n",
       "      <td>2009-05-07</td>\n",
       "      <td>0.052782</td>\n",
       "      <td>0.062221</td>\n",
       "    </tr>\n",
       "    <tr>\n",
       "      <td>2009-05-08</td>\n",
       "      <td>0.079785</td>\n",
       "      <td>0.035236</td>\n",
       "    </tr>\n",
       "    <tr>\n",
       "      <td>2009-05-11</td>\n",
       "      <td>0.098248</td>\n",
       "      <td>0.041978</td>\n",
       "    </tr>\n",
       "    <tr>\n",
       "      <td>2009-05-12</td>\n",
       "      <td>0.069910</td>\n",
       "      <td>0.062147</td>\n",
       "    </tr>\n",
       "  </tbody>\n",
       "</table>\n",
       "</div>"
      ],
      "text/plain": [
       "               svd_1     svd_2\n",
       "date                          \n",
       "2009-05-04  0.231291  0.194568\n",
       "2009-05-07  0.052782  0.062221\n",
       "2009-05-08  0.079785  0.035236\n",
       "2009-05-11  0.098248  0.041978\n",
       "2009-05-12  0.069910  0.062147"
      ]
     },
     "execution_count": 2,
     "metadata": {},
     "output_type": "execute_result"
    }
   ],
   "source": [
    "svd_df_daily = pd.read_csv('combined_svd_df.csv',names=['index','svd_1','svd_2','date'], index_col = 0, skiprows = 1)\n",
    "svd_df_daily.set_index('date', inplace = True)\n",
    "svd_df_daily.index = pd.to_datetime(svd_df_daily.index) + timedelta(days=-1)\n",
    "svd_df_daily.head()"
   ]
  },
  {
   "cell_type": "code",
   "execution_count": 4,
   "metadata": {},
   "outputs": [],
   "source": [
    "class FuturesClose():\n",
    "    def __init__(self, path='futures_close.csv'):\n",
    "        self.instrument_list = ['ES', 'NQ', 'CD', 'EC', 'JY', 'MP', 'TY', 'US', 'C', 'S', 'W', 'CL', 'GC']\n",
    "        self.df = self.load(path)\n",
    "        \n",
    "    def load(self, path):\n",
    "        df = pd.read_csv(path)\n",
    "        df.set_index('date', inplace = True)\n",
    "        df.index = pd.to_datetime(df.index)\n",
    "        return df\n",
    "    \n",
    "    def features(self, inst):\n",
    "        return self.momentum(inst)\n",
    "    \n",
    "    def price(self, inst):\n",
    "        return self.df[inst]\n",
    "    \n",
    "    def returns(self, inst, start=1, end=2):\n",
    "        returns = (self.df[inst].shift(-end) - self.df[inst].shift(-start) ) / self.df[inst].shift(-start)\n",
    "        return returns\n",
    "    \n",
    "    def momentum(self, inst, lag=60):\n",
    "        momo = pd.DataFrame(( self.df[inst] - self.df[inst].shift(lag) ) / self.df[inst])\n",
    "        momo = momo.dropna()\n",
    "        momo.columns += '_{}D'.format(lag)\n",
    "        return momo\n",
    "    "
   ]
  },
  {
   "cell_type": "code",
   "execution_count": 5,
   "metadata": {},
   "outputs": [],
   "source": [
    "class VolFeatures():\n",
    "    def __init__(self, path='vol.pkl'):\n",
    "        self.instrument_list = ['ES', 'NQ', 'CD', 'EC', 'JY', 'MP', 'TY', 'US', 'C', 'S', 'W', 'CL', 'GC']\n",
    "        self.df = self.load(path)\n",
    "        self.col_dict = {inst:[key for key in self.df.columns if re.match(r\"{}_+\".format(inst),key) ] \n",
    "                        for inst in self.instrument_list}\n",
    "        \n",
    "    def features(self, inst):\n",
    "        return self.df[self.col_dict[inst]]\n",
    "    \n",
    "    def load(self, path):\n",
    "        pickle_in = open(path,\"rb\")\n",
    "        vol_pd = pickle.load(pickle_in)\n",
    "        pickle_in.close()\n",
    "        return vol_pd.fillna(vol_pd.mean())\n",
    "   "
   ]
  },
  {
   "cell_type": "code",
   "execution_count": 6,
   "metadata": {},
   "outputs": [
    {
     "data": {
      "text/plain": [
       "date\n",
       "2014-01-02   -0.002707\n",
       "2014-01-03    0.005713\n",
       "2014-01-06    0.000994\n",
       "2014-01-07    0.000284\n",
       "2014-01-08    0.002695\n",
       "Name: ES, dtype: float64"
      ]
     },
     "execution_count": 6,
     "metadata": {},
     "output_type": "execute_result"
    }
   ],
   "source": [
    "fc = FuturesClose()\n",
    "fc.returns('ES').head()"
   ]
  },
  {
   "cell_type": "code",
   "execution_count": 7,
   "metadata": {},
   "outputs": [
    {
     "data": {
      "text/html": [
       "<div>\n",
       "<style scoped>\n",
       "    .dataframe tbody tr th:only-of-type {\n",
       "        vertical-align: middle;\n",
       "    }\n",
       "\n",
       "    .dataframe tbody tr th {\n",
       "        vertical-align: top;\n",
       "    }\n",
       "\n",
       "    .dataframe thead th {\n",
       "        text-align: right;\n",
       "    }\n",
       "</style>\n",
       "<table border=\"1\" class=\"dataframe\">\n",
       "  <thead>\n",
       "    <tr style=\"text-align: right;\">\n",
       "      <th></th>\n",
       "      <th>ES_1M_atm_vol</th>\n",
       "      <th>ES_1M_RR25</th>\n",
       "      <th>ES_1M_RR10</th>\n",
       "      <th>ES_1M_Fly25</th>\n",
       "      <th>ES_1M_Fly10</th>\n",
       "      <th>ES_2M_atm_vol</th>\n",
       "      <th>ES_2M_RR25</th>\n",
       "      <th>ES_2M_RR10</th>\n",
       "      <th>ES_2M_Fly25</th>\n",
       "      <th>ES_2M_Fly10</th>\n",
       "      <th>ES_2M_1M_atm_vol</th>\n",
       "    </tr>\n",
       "    <tr>\n",
       "      <th>Date</th>\n",
       "      <th></th>\n",
       "      <th></th>\n",
       "      <th></th>\n",
       "      <th></th>\n",
       "      <th></th>\n",
       "      <th></th>\n",
       "      <th></th>\n",
       "      <th></th>\n",
       "      <th></th>\n",
       "      <th></th>\n",
       "      <th></th>\n",
       "    </tr>\n",
       "  </thead>\n",
       "  <tbody>\n",
       "    <tr>\n",
       "      <td>2016-11-14</td>\n",
       "      <td>0.119889</td>\n",
       "      <td>-0.037174</td>\n",
       "      <td>-0.073479</td>\n",
       "      <td>0.003789</td>\n",
       "      <td>0.015547</td>\n",
       "      <td>0.125210</td>\n",
       "      <td>-0.046645</td>\n",
       "      <td>-0.088709</td>\n",
       "      <td>0.004540</td>\n",
       "      <td>0.017257</td>\n",
       "      <td>0.005205</td>\n",
       "    </tr>\n",
       "    <tr>\n",
       "      <td>2016-11-15</td>\n",
       "      <td>0.097407</td>\n",
       "      <td>-0.019810</td>\n",
       "      <td>-0.038827</td>\n",
       "      <td>0.004464</td>\n",
       "      <td>0.018210</td>\n",
       "      <td>0.116007</td>\n",
       "      <td>-0.037339</td>\n",
       "      <td>-0.070383</td>\n",
       "      <td>0.004491</td>\n",
       "      <td>0.016703</td>\n",
       "      <td>0.018506</td>\n",
       "    </tr>\n",
       "    <tr>\n",
       "      <td>2016-11-16</td>\n",
       "      <td>0.086325</td>\n",
       "      <td>-0.015557</td>\n",
       "      <td>-0.032338</td>\n",
       "      <td>0.003478</td>\n",
       "      <td>0.014565</td>\n",
       "      <td>0.118026</td>\n",
       "      <td>-0.039720</td>\n",
       "      <td>-0.075981</td>\n",
       "      <td>0.004275</td>\n",
       "      <td>0.016356</td>\n",
       "      <td>0.031726</td>\n",
       "    </tr>\n",
       "    <tr>\n",
       "      <td>2016-11-17</td>\n",
       "      <td>0.078008</td>\n",
       "      <td>-0.013282</td>\n",
       "      <td>-0.026062</td>\n",
       "      <td>0.003378</td>\n",
       "      <td>0.013855</td>\n",
       "      <td>0.114574</td>\n",
       "      <td>-0.037722</td>\n",
       "      <td>-0.072023</td>\n",
       "      <td>0.003713</td>\n",
       "      <td>0.014712</td>\n",
       "      <td>0.036573</td>\n",
       "    </tr>\n",
       "    <tr>\n",
       "      <td>2016-11-18</td>\n",
       "      <td>0.062015</td>\n",
       "      <td>-0.009879</td>\n",
       "      <td>-0.019785</td>\n",
       "      <td>0.002611</td>\n",
       "      <td>0.011093</td>\n",
       "      <td>0.110443</td>\n",
       "      <td>-0.037831</td>\n",
       "      <td>-0.073675</td>\n",
       "      <td>0.002989</td>\n",
       "      <td>0.013092</td>\n",
       "      <td>0.048422</td>\n",
       "    </tr>\n",
       "  </tbody>\n",
       "</table>\n",
       "</div>"
      ],
      "text/plain": [
       "            ES_1M_atm_vol  ES_1M_RR25  ES_1M_RR10  ES_1M_Fly25  ES_1M_Fly10  \\\n",
       "Date                                                                          \n",
       "2016-11-14       0.119889   -0.037174   -0.073479     0.003789     0.015547   \n",
       "2016-11-15       0.097407   -0.019810   -0.038827     0.004464     0.018210   \n",
       "2016-11-16       0.086325   -0.015557   -0.032338     0.003478     0.014565   \n",
       "2016-11-17       0.078008   -0.013282   -0.026062     0.003378     0.013855   \n",
       "2016-11-18       0.062015   -0.009879   -0.019785     0.002611     0.011093   \n",
       "\n",
       "            ES_2M_atm_vol  ES_2M_RR25  ES_2M_RR10  ES_2M_Fly25  ES_2M_Fly10  \\\n",
       "Date                                                                          \n",
       "2016-11-14       0.125210   -0.046645   -0.088709     0.004540     0.017257   \n",
       "2016-11-15       0.116007   -0.037339   -0.070383     0.004491     0.016703   \n",
       "2016-11-16       0.118026   -0.039720   -0.075981     0.004275     0.016356   \n",
       "2016-11-17       0.114574   -0.037722   -0.072023     0.003713     0.014712   \n",
       "2016-11-18       0.110443   -0.037831   -0.073675     0.002989     0.013092   \n",
       "\n",
       "            ES_2M_1M_atm_vol  \n",
       "Date                          \n",
       "2016-11-14          0.005205  \n",
       "2016-11-15          0.018506  \n",
       "2016-11-16          0.031726  \n",
       "2016-11-17          0.036573  \n",
       "2016-11-18          0.048422  "
      ]
     },
     "execution_count": 7,
     "metadata": {},
     "output_type": "execute_result"
    }
   ],
   "source": [
    "vol = VolFeatures()\n",
    "vol.features('ES').head()"
   ]
  },
  {
   "cell_type": "code",
   "execution_count": 39,
   "metadata": {},
   "outputs": [],
   "source": [
    "instrument_list = ['ES', 'NQ', 'CD', 'EC', 'JY', 'MP', 'TY', 'US', 'C', 'S', 'W', 'CL', 'GC']\n",
    "X_dict = {}\n",
    "y_dict = {}\n",
    "date_min = pd.to_datetime('2016-11-14')\n",
    "date_max = pd.to_datetime('2019-09-25')\n",
    "for inst in instrument_list:\n",
    "    X = svd_df_daily.join(fc.features(inst)).join(vol.features(inst)).dropna()\n",
    "    X = X[(X.index >= date_min) & (X.index <= date_max)]\n",
    "    X_dict[inst] = X\n",
    "    y_dict[inst] = fc.returns(inst)[X.index]\n"
   ]
  },
  {
   "cell_type": "markdown",
   "metadata": {},
   "source": [
    "traintest"
   ]
  },
  {
   "cell_type": "code",
   "execution_count": 40,
   "metadata": {},
   "outputs": [],
   "source": [
    "class TradeModel(): \n",
    "    \n",
    "    def __init__(self, model=RandomForestClassifier, *args, **kwargs):\n",
    "        self.model = model(*args, **kwargs)\n",
    "        \n",
    "    def fit(self, X,y):\n",
    "        self.model.fit(X,y)\n",
    "        \n",
    "    def position(self, X, cutoff=0.55):\n",
    "        #converting predictions from {0,1} to {-1,1}, short/long\n",
    "        position = 2*self.model.predict(X)-1\n",
    "        position[self.model.predict_proba(X).max(axis=1)<=cutoff] = 0\n",
    "        return position\n",
    "        \n",
    "    def _strategy_returns(self, x, y):\n",
    "        strat_rets = x[:-2]*y[:-2]\n",
    "        strat_rets_cum = (1 + strat_rets).cumprod()\n",
    "        return strat_rets, strat_rets_cum\n",
    "    \n",
    "    def strategy_returns(self, X, returns, cutoff=0.55):\n",
    "        return self._strategy_returns(returns, self.position(X, cutoff))\n",
    "    \n",
    "    def sharpe(self, X, returns, cutoff=0.55):\n",
    "        rets = self.strategy_returns(X, returns, cutoff)[0]\n",
    "        return np.mean(rets)/np.std(rets)\n",
    "\n",
    "           "
   ]
  },
  {
   "cell_type": "code",
   "execution_count": 47,
   "metadata": {},
   "outputs": [],
   "source": [
    "strat_sharpes = {}\n",
    "strat_rets = {}\n",
    "strat_cum_rets = {}\n",
    "for inst in instrument_list:\n",
    "    y = 2 * ((y_dict[inst] - 0.5 * np.mean(y_dict[inst]))>= 0) - 1\n",
    "    X_train, X_test, y_train, y_test = train_test_split(X_dict[inst], y, test_size=0.50, shuffle=False )\n",
    "    tm = TradeModel(n_estimators=5000, max_features=10, max_depth=15)\n",
    "    tm.fit(X_train, y_train)\n",
    "    strat_rets[inst], strat_cum_rets[inst] = tm.strategy_returns(X_test, y_dict[inst][-len(X_test):])\n",
    "    strat_sharpes[inst] = tm.sharpe(X_test, y_dict[inst][-len(X_test):])\n",
    "    print('{} sharpe :'.format(inst, strat_sharpes[inst]))\n",
    "    "
   ]
  },
  {
   "cell_type": "code",
   "execution_count": 54,
   "metadata": {},
   "outputs": [
    {
     "name": "stdout",
     "output_type": "stream",
     "text": [
      "0.021203841961240893\n"
     ]
    },
    {
     "data": {
      "image/png": "[encoded data removed]",
      "text/plain": [
       "<Figure size 432x288 with 1 Axes>"
      ]
     },
     "metadata": {
      "needs_background": "light"
     },
     "output_type": "display_data"
    }
   ],
   "source": [
    "port_rets = pd.DataFrame(strat_rets).mean(axis=1)\n",
    "plt.plot((1 + pd.DataFrame(strat_rets).mean(axis=1)).cumprod())\n",
    "print(port_rets.mean()/port_rets.std())"
   ]
  },
  {
   "cell_type": "code",
   "execution_count": 48,
   "metadata": {},
   "outputs": [
    {
     "data": {
      "text/plain": [
       "{'ES': 0.04152094369364383,\n",
       " 'NQ': -0.06439456552412756,\n",
       " 'CD': 0.032522644853181036,\n",
       " 'EC': 0.0729847730515763,\n",
       " 'JY': 0.07704785990399747,\n",
       " 'MP': 0.025859363666693704,\n",
       " 'TY': -0.09558750244448763,\n",
       " 'US': -0.03783586578920602,\n",
       " 'C': 0.0505251463996479,\n",
       " 'S': 0.03688894737573889,\n",
       " 'W': -0.027393247768043326,\n",
       " 'CL': 0.04086149092123091,\n",
       " 'GC': -0.0401908806326712}"
      ]
     },
     "execution_count": 48,
     "metadata": {},
     "output_type": "execute_result"
    }
   ],
   "source": [
    "strat_sharpes"
   ]
  },
  {
   "cell_type": "code",
   "execution_count": 44,
   "metadata": {},
   "outputs": [
    {
     "data": {
      "text/plain": [
       "date\n",
       "2018-04-26    1.000000\n",
       "2018-04-27    1.000000\n",
       "2018-04-30    1.027747\n",
       "2018-05-01    1.027747\n",
       "2018-05-02    1.027747\n",
       "                ...   \n",
       "2019-09-17    1.149651\n",
       "2019-09-18    1.170863\n",
       "2019-09-19    1.170863\n",
       "2019-09-20    1.160413\n",
       "2019-09-23    1.166664\n",
       "Name: ES, Length: 355, dtype: float64"
      ]
     },
     "execution_count": 44,
     "metadata": {},
     "output_type": "execute_result"
    }
   ],
   "source": [
    "tm.strategy_returns(X_test, y_dict['ES'][-len(X_test):])[1]"
   ]
  },
  {
   "cell_type": "code",
   "execution_count": 45,
   "metadata": {},
   "outputs": [
    {
     "data": {
      "text/plain": [
       "0.04252378742988993"
      ]
     },
     "execution_count": 45,
     "metadata": {},
     "output_type": "execute_result"
    }
   ],
   "source": [
    "tm.sharpe(X_test, y_dict['ES'][-len(X_test):])"
   ]
  },
  {
   "cell_type": "code",
   "execution_count": 46,
   "metadata": {},
   "outputs": [
    {
     "data": {
      "text/plain": [
       "array([0.09580741, 0.11283748, 0.0951219 , 0.07751538, 0.05740201,\n",
       "       0.05044748, 0.05587859, 0.06217403, 0.07755241, 0.05777897,\n",
       "       0.0477254 , 0.06483487, 0.07189334, 0.07303073])"
      ]
     },
     "execution_count": 46,
     "metadata": {},
     "output_type": "execute_result"
    }
   ],
   "source": [
    "tm.model.feature_importances_"
   ]
  },
  {
   "cell_type": "code",
   "execution_count": null,
   "metadata": {},
   "outputs": [],
   "source": [
    "'''\n",
    "dot_data = export_graphviz(tree, out_file=None, \n",
    "                      feature_names=X_train.columns,  \n",
    "                     class_names=[str(1),str(-1)],  \n",
    "                     filled=True, rounded=True,  \n",
    "                    special_characters=True)  \n",
    "graph = graphviz.Source(dot_data)  \n",
    "graph \n",
    "'''"
   ]
  }
 ],
 "metadata": {
  "kernelspec": {
   "display_name": "Python 3",
   "language": "python",
   "name": "python3"
  },
  "language_info": {
   "codemirror_mode": {
    "name": "ipython",
    "version": 3
   },
   "file_extension": ".py",
   "mimetype": "text/x-python",
   "name": "python",
   "nbconvert_exporter": "python",
   "pygments_lexer": "ipython3",
   "version": "3.7.4"
  }
 },
 "nbformat": 4,
 "nbformat_minor": 2
}
