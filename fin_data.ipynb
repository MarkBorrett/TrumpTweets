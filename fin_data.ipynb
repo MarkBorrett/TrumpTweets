{
 "cells": [
  {
   "cell_type": "code",
   "execution_count": 1,
   "metadata": {},
   "outputs": [],
   "source": [
    "from project_helper import TweetData, APIData, MarketData\n",
    "import pandas as pd\n",
    "from pytz import timezone\n",
    "import datetime"
   ]
  },
  {
   "cell_type": "code",
   "execution_count": 2,
   "metadata": {},
   "outputs": [],
   "source": [
    "#data = TweetData('trump_sept.csv')\n",
    "tweet_data = APIData()"
   ]
  },
  {
   "cell_type": "code",
   "execution_count": 3,
   "metadata": {},
   "outputs": [
    {
     "data": {
      "text/html": [
       "<div>\n",
       "<style scoped>\n",
       "    .dataframe tbody tr th:only-of-type {\n",
       "        vertical-align: middle;\n",
       "    }\n",
       "\n",
       "    .dataframe tbody tr th {\n",
       "        vertical-align: top;\n",
       "    }\n",
       "\n",
       "    .dataframe thead th {\n",
       "        text-align: right;\n",
       "    }\n",
       "</style>\n",
       "<table border=\"1\" class=\"dataframe\">\n",
       "  <thead>\n",
       "    <tr style=\"text-align: right;\">\n",
       "      <th></th>\n",
       "      <th>tweets</th>\n",
       "      <th>timestamp</th>\n",
       "      <th>after4_date</th>\n",
       "    </tr>\n",
       "    <tr>\n",
       "      <th>timestamp</th>\n",
       "      <th></th>\n",
       "      <th></th>\n",
       "      <th></th>\n",
       "    </tr>\n",
       "  </thead>\n",
       "  <tbody>\n",
       "    <tr>\n",
       "      <td>2010-01-12 12:05:08-06:00</td>\n",
       "      <td>celebrity apprentice returns to nbc sunday pm ...</td>\n",
       "      <td>2010-01-12 12:05:08-06:00</td>\n",
       "      <td>2010-01-12</td>\n",
       "    </tr>\n",
       "    <tr>\n",
       "      <td>2010-01-15 10:28:02-06:00</td>\n",
       "      <td>trump tycoon app for iphone ipod touch its but...</td>\n",
       "      <td>2010-01-15 10:28:02-06:00</td>\n",
       "      <td>2010-01-15</td>\n",
       "    </tr>\n",
       "    <tr>\n",
       "      <td>2010-01-21 10:58:43-06:00</td>\n",
       "      <td>from donald trump i saw lady gaga last night a...</td>\n",
       "      <td>2010-01-21 10:58:43-06:00</td>\n",
       "      <td>2010-01-21</td>\n",
       "    </tr>\n",
       "    <tr>\n",
       "      <td>2010-01-22 14:51:00-06:00</td>\n",
       "      <td>golf channel donald trumps world of golf host ...</td>\n",
       "      <td>2010-01-22 14:51:00-06:00</td>\n",
       "      <td>2010-01-22</td>\n",
       "    </tr>\n",
       "    <tr>\n",
       "      <td>2010-02-07 10:54:42-06:00</td>\n",
       "      <td>superbowl sunday is a great american tradition...</td>\n",
       "      <td>2010-02-07 10:54:42-06:00</td>\n",
       "      <td>2010-02-07</td>\n",
       "    </tr>\n",
       "  </tbody>\n",
       "</table>\n",
       "</div>"
      ],
      "text/plain": [
       "                                                                      tweets  \\\n",
       "timestamp                                                                      \n",
       "2010-01-12 12:05:08-06:00  celebrity apprentice returns to nbc sunday pm ...   \n",
       "2010-01-15 10:28:02-06:00  trump tycoon app for iphone ipod touch its but...   \n",
       "2010-01-21 10:58:43-06:00  from donald trump i saw lady gaga last night a...   \n",
       "2010-01-22 14:51:00-06:00  golf channel donald trumps world of golf host ...   \n",
       "2010-02-07 10:54:42-06:00  superbowl sunday is a great american tradition...   \n",
       "\n",
       "                                          timestamp after4_date  \n",
       "timestamp                                                        \n",
       "2010-01-12 12:05:08-06:00 2010-01-12 12:05:08-06:00  2010-01-12  \n",
       "2010-01-15 10:28:02-06:00 2010-01-15 10:28:02-06:00  2010-01-15  \n",
       "2010-01-21 10:58:43-06:00 2010-01-21 10:58:43-06:00  2010-01-21  \n",
       "2010-01-22 14:51:00-06:00 2010-01-22 14:51:00-06:00  2010-01-22  \n",
       "2010-02-07 10:54:42-06:00 2010-02-07 10:54:42-06:00  2010-02-07  "
      ]
     },
     "execution_count": 3,
     "metadata": {},
     "output_type": "execute_result"
    }
   ],
   "source": [
    "tweet_data.clean_tweets.head()"
   ]
  },
  {
   "cell_type": "code",
   "execution_count": 4,
   "metadata": {},
   "outputs": [],
   "source": [
    "md = MarketData()\n",
    "fin_data = md.data"
   ]
  },
  {
   "cell_type": "code",
   "execution_count": 5,
   "metadata": {},
   "outputs": [
    {
     "name": "stdout",
     "output_type": "stream",
     "text": [
      "39624\n"
     ]
    },
    {
     "data": {
      "text/plain": [
       "39387"
      ]
     },
     "execution_count": 5,
     "metadata": {},
     "output_type": "execute_result"
    }
   ],
   "source": [
    "print(len(tweet_data.clean_tweets.index))\n",
    "len(set(tweet_data.clean_tweets.index))"
   ]
  },
  {
   "cell_type": "code",
   "execution_count": 10,
   "metadata": {},
   "outputs": [
    {
     "data": {
      "text/html": [
       "<div>\n",
       "<style scoped>\n",
       "    .dataframe tbody tr th:only-of-type {\n",
       "        vertical-align: middle;\n",
       "    }\n",
       "\n",
       "    .dataframe tbody tr th {\n",
       "        vertical-align: top;\n",
       "    }\n",
       "\n",
       "    .dataframe thead th {\n",
       "        text-align: right;\n",
       "    }\n",
       "</style>\n",
       "<table border=\"1\" class=\"dataframe\">\n",
       "  <thead>\n",
       "    <tr style=\"text-align: right;\">\n",
       "      <th></th>\n",
       "      <th>Date</th>\n",
       "      <th>Time</th>\n",
       "      <th>Open</th>\n",
       "      <th>High</th>\n",
       "      <th>Low</th>\n",
       "      <th>Close</th>\n",
       "      <th>Volume</th>\n",
       "      <th>Tick Count</th>\n",
       "      <th>Up Ticks</th>\n",
       "      <th>Down Ticks</th>\n",
       "      <th>Same Ticks</th>\n",
       "      <th>VWAP</th>\n",
       "    </tr>\n",
       "    <tr>\n",
       "      <th>timestamp</th>\n",
       "      <th></th>\n",
       "      <th></th>\n",
       "      <th></th>\n",
       "      <th></th>\n",
       "      <th></th>\n",
       "      <th></th>\n",
       "      <th></th>\n",
       "      <th></th>\n",
       "      <th></th>\n",
       "      <th></th>\n",
       "      <th></th>\n",
       "      <th></th>\n",
       "    </tr>\n",
       "  </thead>\n",
       "  <tbody>\n",
       "    <tr>\n",
       "      <td>2019-09-30 15:56:00-05:00</td>\n",
       "      <td>9/30/2019</td>\n",
       "      <td>15:56</td>\n",
       "      <td>2985.75</td>\n",
       "      <td>2986.00</td>\n",
       "      <td>2985.50</td>\n",
       "      <td>2985.75</td>\n",
       "      <td>368</td>\n",
       "      <td>72</td>\n",
       "      <td>13</td>\n",
       "      <td>14</td>\n",
       "      <td>45</td>\n",
       "      <td>2985.82</td>\n",
       "    </tr>\n",
       "    <tr>\n",
       "      <td>2019-09-30 15:57:00-05:00</td>\n",
       "      <td>9/30/2019</td>\n",
       "      <td>15:57</td>\n",
       "      <td>2985.75</td>\n",
       "      <td>2986.00</td>\n",
       "      <td>2984.50</td>\n",
       "      <td>2984.75</td>\n",
       "      <td>600</td>\n",
       "      <td>84</td>\n",
       "      <td>11</td>\n",
       "      <td>15</td>\n",
       "      <td>58</td>\n",
       "      <td>2985.11</td>\n",
       "    </tr>\n",
       "    <tr>\n",
       "      <td>2019-09-30 15:58:00-05:00</td>\n",
       "      <td>9/30/2019</td>\n",
       "      <td>15:58</td>\n",
       "      <td>2984.75</td>\n",
       "      <td>2985.75</td>\n",
       "      <td>2984.75</td>\n",
       "      <td>2985.25</td>\n",
       "      <td>226</td>\n",
       "      <td>27</td>\n",
       "      <td>5</td>\n",
       "      <td>3</td>\n",
       "      <td>19</td>\n",
       "      <td>2985.49</td>\n",
       "    </tr>\n",
       "    <tr>\n",
       "      <td>2019-09-30 15:59:00-05:00</td>\n",
       "      <td>9/30/2019</td>\n",
       "      <td>15:59</td>\n",
       "      <td>2985.50</td>\n",
       "      <td>2985.50</td>\n",
       "      <td>2985.25</td>\n",
       "      <td>2985.25</td>\n",
       "      <td>133</td>\n",
       "      <td>20</td>\n",
       "      <td>5</td>\n",
       "      <td>5</td>\n",
       "      <td>10</td>\n",
       "      <td>2985.36</td>\n",
       "    </tr>\n",
       "    <tr>\n",
       "      <td>2019-09-30 16:00:00-05:00</td>\n",
       "      <td>9/30/2019</td>\n",
       "      <td>16:00</td>\n",
       "      <td>2985.25</td>\n",
       "      <td>2985.25</td>\n",
       "      <td>2984.50</td>\n",
       "      <td>2984.50</td>\n",
       "      <td>361</td>\n",
       "      <td>74</td>\n",
       "      <td>14</td>\n",
       "      <td>17</td>\n",
       "      <td>43</td>\n",
       "      <td>2984.84</td>\n",
       "    </tr>\n",
       "  </tbody>\n",
       "</table>\n",
       "</div>"
      ],
      "text/plain": [
       "                                Date   Time     Open     High      Low  \\\n",
       "timestamp                                                                \n",
       "2019-09-30 15:56:00-05:00  9/30/2019  15:56  2985.75  2986.00  2985.50   \n",
       "2019-09-30 15:57:00-05:00  9/30/2019  15:57  2985.75  2986.00  2984.50   \n",
       "2019-09-30 15:58:00-05:00  9/30/2019  15:58  2984.75  2985.75  2984.75   \n",
       "2019-09-30 15:59:00-05:00  9/30/2019  15:59  2985.50  2985.50  2985.25   \n",
       "2019-09-30 16:00:00-05:00  9/30/2019  16:00  2985.25  2985.25  2984.50   \n",
       "\n",
       "                             Close  Volume  Tick Count  Up Ticks  Down Ticks  \\\n",
       "timestamp                                                                      \n",
       "2019-09-30 15:56:00-05:00  2985.75     368          72        13          14   \n",
       "2019-09-30 15:57:00-05:00  2984.75     600          84        11          15   \n",
       "2019-09-30 15:58:00-05:00  2985.25     226          27         5           3   \n",
       "2019-09-30 15:59:00-05:00  2985.25     133          20         5           5   \n",
       "2019-09-30 16:00:00-05:00  2984.50     361          74        14          17   \n",
       "\n",
       "                           Same Ticks     VWAP  \n",
       "timestamp                                       \n",
       "2019-09-30 15:56:00-05:00          45  2985.82  \n",
       "2019-09-30 15:57:00-05:00          58  2985.11  \n",
       "2019-09-30 15:58:00-05:00          19  2985.49  \n",
       "2019-09-30 15:59:00-05:00          10  2985.36  \n",
       "2019-09-30 16:00:00-05:00          43  2984.84  "
      ]
     },
     "execution_count": 10,
     "metadata": {},
     "output_type": "execute_result"
    }
   ],
   "source": [
    "fin_data.tail()"
   ]
  },
  {
   "cell_type": "code",
   "execution_count": 7,
   "metadata": {},
   "outputs": [],
   "source": [
    "subset = (tweet_data.clean_tweets.index > fin_data.index[0]) & (tweet_data.clean_tweets.index < fin_data.index[-1])\n",
    "sub_data = tweet_data.clean_tweets[subset]"
   ]
  },
  {
   "cell_type": "code",
   "execution_count": 8,
   "metadata": {},
   "outputs": [
    {
     "data": {
      "text/html": [
       "<div>\n",
       "<style scoped>\n",
       "    .dataframe tbody tr th:only-of-type {\n",
       "        vertical-align: middle;\n",
       "    }\n",
       "\n",
       "    .dataframe tbody tr th {\n",
       "        vertical-align: top;\n",
       "    }\n",
       "\n",
       "    .dataframe thead th {\n",
       "        text-align: right;\n",
       "    }\n",
       "</style>\n",
       "<table border=\"1\" class=\"dataframe\">\n",
       "  <thead>\n",
       "    <tr style=\"text-align: right;\">\n",
       "      <th></th>\n",
       "      <th>tweets</th>\n",
       "      <th>timestamp</th>\n",
       "      <th>after4_date</th>\n",
       "    </tr>\n",
       "    <tr>\n",
       "      <th>timestamp</th>\n",
       "      <th></th>\n",
       "      <th></th>\n",
       "      <th></th>\n",
       "    </tr>\n",
       "  </thead>\n",
       "  <tbody>\n",
       "    <tr>\n",
       "      <td>2019-09-01 19:53:33-05:00</td>\n",
       "      <td>u cwe hold that legislative prayer is governme...</td>\n",
       "      <td>2019-09-01 19:53:33-05:00</td>\n",
       "      <td>2019-09-02</td>\n",
       "    </tr>\n",
       "    <tr>\n",
       "      <td>2019-09-01 19:53:34-05:00</td>\n",
       "      <td>this judge thomas ambro majotity opinion and t...</td>\n",
       "      <td>2019-09-01 19:53:34-05:00</td>\n",
       "      <td>2019-09-02</td>\n",
       "    </tr>\n",
       "    <tr>\n",
       "      <td>2019-09-02 06:36:41-05:00</td>\n",
       "      <td>adds up to the most ambitious pro worker polic...</td>\n",
       "      <td>2019-09-02 06:36:41-05:00</td>\n",
       "      <td>2019-09-02</td>\n",
       "    </tr>\n",
       "    <tr>\n",
       "      <td>2019-09-02 06:36:41-05:00</td>\n",
       "      <td>u cwhen you put everything together the pro gr...</td>\n",
       "      <td>2019-09-02 06:36:41-05:00</td>\n",
       "      <td>2019-09-02</td>\n",
       "    </tr>\n",
       "    <tr>\n",
       "      <td>2019-09-02 06:38:59-05:00</td>\n",
       "      <td>since my election many trillions of dollars of...</td>\n",
       "      <td>2019-09-02 06:38:59-05:00</td>\n",
       "      <td>2019-09-02</td>\n",
       "    </tr>\n",
       "  </tbody>\n",
       "</table>\n",
       "</div>"
      ],
      "text/plain": [
       "                                                                      tweets  \\\n",
       "timestamp                                                                      \n",
       "2019-09-01 19:53:33-05:00  u cwe hold that legislative prayer is governme...   \n",
       "2019-09-01 19:53:34-05:00  this judge thomas ambro majotity opinion and t...   \n",
       "2019-09-02 06:36:41-05:00  adds up to the most ambitious pro worker polic...   \n",
       "2019-09-02 06:36:41-05:00  u cwhen you put everything together the pro gr...   \n",
       "2019-09-02 06:38:59-05:00  since my election many trillions of dollars of...   \n",
       "\n",
       "                                          timestamp after4_date  \n",
       "timestamp                                                        \n",
       "2019-09-01 19:53:33-05:00 2019-09-01 19:53:33-05:00  2019-09-02  \n",
       "2019-09-01 19:53:34-05:00 2019-09-01 19:53:34-05:00  2019-09-02  \n",
       "2019-09-02 06:36:41-05:00 2019-09-02 06:36:41-05:00  2019-09-02  \n",
       "2019-09-02 06:36:41-05:00 2019-09-02 06:36:41-05:00  2019-09-02  \n",
       "2019-09-02 06:38:59-05:00 2019-09-02 06:38:59-05:00  2019-09-02  "
      ]
     },
     "execution_count": 8,
     "metadata": {},
     "output_type": "execute_result"
    }
   ],
   "source": [
    "sub_data.head()"
   ]
  },
  {
   "cell_type": "code",
   "execution_count": 20,
   "metadata": {},
   "outputs": [],
   "source": [
    "adj_ts = [ time + datetime.timedelta(seconds = 60 - time.second) for i, time in enumerate(sub_data.index)]\n",
    "adj_ts2 = [ time + datetime.timedelta(seconds = 360 - time.second) for i, time in enumerate(sub_data.index)]"
   ]
  },
  {
   "cell_type": "code",
   "execution_count": 21,
   "metadata": {},
   "outputs": [],
   "source": [
    "adj_dict = {a:b for a, b in zip(adj_ts, sub_data.index)}"
   ]
  },
  {
   "cell_type": "code",
   "execution_count": 25,
   "metadata": {},
   "outputs": [
    {
     "name": "stderr",
     "output_type": "stream",
     "text": [
      "C:\\Users\\PC\\Anaconda3\\lib\\site-packages\\ipykernel_launcher.py:1: FutureWarning: \n",
      "Passing list-likes to .loc or [] with any missing label will raise\n",
      "KeyError in the future, you can use .reindex() as an alternative.\n",
      "\n",
      "See the documentation here:\n",
      "https://pandas.pydata.org/pandas-docs/stable/indexing.html#deprecate-loc-reindex-listlike\n",
      "  \"\"\"Entry point for launching an IPython kernel.\n",
      "C:\\Users\\PC\\Anaconda3\\lib\\site-packages\\ipykernel_launcher.py:2: FutureWarning: \n",
      "Passing list-likes to .loc or [] with any missing label will raise\n",
      "KeyError in the future, you can use .reindex() as an alternative.\n",
      "\n",
      "See the documentation here:\n",
      "https://pandas.pydata.org/pandas-docs/stable/indexing.html#deprecate-loc-reindex-listlike\n",
      "  \n"
     ]
    }
   ],
   "source": [
    "imp_open = fin_data.loc[adj_ts]['Open']\n",
    "imp_close = fin_data.loc[adj_ts2]['Close']"
   ]
  },
  {
   "cell_type": "code",
   "execution_count": 26,
   "metadata": {},
   "outputs": [],
   "source": [
    "hl = imp_open - imp_close.values"
   ]
  },
  {
   "cell_type": "code",
   "execution_count": 27,
   "metadata": {},
   "outputs": [
    {
     "data": {
      "text/plain": [
       "timestamp\n",
       "2019-09-01 19:54:00-05:00    0.50\n",
       "2019-09-01 19:54:00-05:00    0.50\n",
       "2019-09-02 06:37:00-05:00    0.25\n",
       "2019-09-02 06:37:00-05:00    0.25\n",
       "2019-09-02 06:39:00-05:00    0.25\n",
       "Name: Open, dtype: float64"
      ]
     },
     "execution_count": 27,
     "metadata": {},
     "output_type": "execute_result"
    }
   ],
   "source": [
    "hl.head()"
   ]
  },
  {
   "cell_type": "code",
   "execution_count": 29,
   "metadata": {},
   "outputs": [],
   "source": [
    "sub_sort = hl.dropna().sort_values()"
   ]
  },
  {
   "cell_type": "code",
   "execution_count": 31,
   "metadata": {},
   "outputs": [
    {
     "data": {
      "text/plain": [
       "timestamp\n",
       "2019-09-24 13:13:00-05:00   -17.75\n",
       "2019-09-24 13:13:00-05:00   -17.75\n",
       "2019-09-11 18:18:00-05:00   -10.50\n",
       "2019-09-11 18:18:00-05:00   -10.50\n",
       "2019-09-12 09:08:00-05:00    -8.25\n",
       "2019-09-12 09:16:00-05:00    -5.75\n",
       "2019-09-03 09:49:00-05:00    -5.25\n",
       "2019-09-03 09:49:00-05:00    -5.25\n",
       "2019-09-03 08:34:00-05:00    -4.00\n",
       "2019-09-03 20:05:00-05:00    -3.50\n",
       "2019-09-06 07:40:00-05:00    -3.25\n",
       "2019-09-05 08:41:00-05:00    -2.75\n",
       "2019-09-10 22:12:00-05:00    -2.75\n",
       "2019-09-10 09:24:00-05:00    -2.25\n",
       "2019-09-25 09:59:00-05:00    -2.25\n",
       "2019-09-05 08:16:00-05:00    -2.00\n",
       "2019-09-06 07:09:00-05:00    -2.00\n",
       "2019-09-06 07:09:00-05:00    -2.00\n",
       "2019-09-06 07:09:00-05:00    -2.00\n",
       "2019-09-05 08:16:00-05:00    -2.00\n",
       "2019-09-05 18:28:00-05:00    -1.75\n",
       "2019-09-04 17:24:00-05:00    -1.75\n",
       "2019-09-16 08:36:00-05:00    -1.75\n",
       "2019-09-18 06:46:00-05:00    -1.75\n",
       "2019-09-16 09:02:00-05:00    -1.50\n",
       "2019-09-16 09:02:00-05:00    -1.50\n",
       "2019-09-18 06:48:00-05:00    -1.50\n",
       "2019-09-18 19:36:00-05:00    -1.50\n",
       "2019-09-16 06:22:00-05:00    -1.50\n",
       "2019-09-20 07:03:00-05:00    -1.50\n",
       "                             ...  \n",
       "2019-09-20 07:28:00-05:00     1.50\n",
       "2019-09-30 08:59:00-05:00     1.50\n",
       "2019-09-20 15:36:00-05:00     1.50\n",
       "2019-09-20 07:28:00-05:00     1.50\n",
       "2019-09-09 08:53:00-05:00     1.50\n",
       "2019-09-27 14:42:00-05:00     1.75\n",
       "2019-09-27 06:21:00-05:00     1.75\n",
       "2019-09-09 21:52:00-05:00     1.75\n",
       "2019-09-27 06:21:00-05:00     1.75\n",
       "2019-09-09 08:44:00-05:00     1.75\n",
       "2019-09-25 10:26:00-05:00     1.75\n",
       "2019-09-27 08:26:00-05:00     1.75\n",
       "2019-09-18 08:24:00-05:00     1.75\n",
       "2019-09-06 07:53:00-05:00     2.00\n",
       "2019-09-15 17:51:00-05:00     2.00\n",
       "2019-09-13 07:59:00-05:00     2.00\n",
       "2019-09-15 17:55:00-05:00     2.00\n",
       "2019-09-13 07:59:00-05:00     2.00\n",
       "2019-09-27 08:33:00-05:00     2.00\n",
       "2019-09-15 17:51:00-05:00     2.00\n",
       "2019-09-13 07:59:00-05:00     2.00\n",
       "2019-09-18 20:43:00-05:00     2.25\n",
       "2019-09-18 13:26:00-05:00     2.75\n",
       "2019-09-26 11:49:00-05:00     2.75\n",
       "2019-09-30 07:13:00-05:00     3.00\n",
       "2019-09-16 14:17:00-05:00     3.25\n",
       "2019-09-06 08:35:00-05:00     4.25\n",
       "2019-09-10 10:59:00-05:00     4.50\n",
       "2019-09-10 10:59:00-05:00     4.50\n",
       "2019-09-27 08:30:00-05:00     4.50\n",
       "Name: Open, Length: 325, dtype: float64"
      ]
     },
     "execution_count": 31,
     "metadata": {},
     "output_type": "execute_result"
    }
   ],
   "source": [
    "sub_sort"
   ]
  },
  {
   "cell_type": "code",
   "execution_count": 32,
   "metadata": {},
   "outputs": [
    {
     "data": {
      "text/plain": [
       "'on october st we have agreed as a gesture of good will to move the increased tariffs on billion dollars u '"
      ]
     },
     "execution_count": 32,
     "metadata": {},
     "output_type": "execute_result"
    }
   ],
   "source": [
    "sub_data.loc[adj_dict[sub_sort.index[2]]][0]"
   ]
  },
  {
   "cell_type": "code",
   "execution_count": 36,
   "metadata": {},
   "outputs": [
    {
     "data": {
      "text/plain": [
       "Timestamp('2019-09-11 18:17:19-0500', tz='US/Central')"
      ]
     },
     "execution_count": 36,
     "metadata": {},
     "output_type": "execute_result"
    }
   ],
   "source": [
    "adj_dict[hl.dropna().sort_values().index[2]]"
   ]
  },
  {
   "cell_type": "code",
   "execution_count": 37,
   "metadata": {},
   "outputs": [],
   "source": [
    "sub_ts = [ time - datetime.timedelta(minutes = 1) for time in sub_sort.index ]\n",
    "sub_ts_1 = [ time + datetime.timedelta(minutes = 1) for time in sub_ts ]"
   ]
  },
  {
   "cell_type": "code",
   "execution_count": 38,
   "metadata": {},
   "outputs": [
    {
     "data": {
      "text/html": [
       "<div>\n",
       "<style scoped>\n",
       "    .dataframe tbody tr th:only-of-type {\n",
       "        vertical-align: middle;\n",
       "    }\n",
       "\n",
       "    .dataframe tbody tr th {\n",
       "        vertical-align: top;\n",
       "    }\n",
       "\n",
       "    .dataframe thead th {\n",
       "        text-align: right;\n",
       "    }\n",
       "</style>\n",
       "<table border=\"1\" class=\"dataframe\">\n",
       "  <thead>\n",
       "    <tr style=\"text-align: right;\">\n",
       "      <th></th>\n",
       "      <th>tweets</th>\n",
       "    </tr>\n",
       "    <tr>\n",
       "      <th>timestamp</th>\n",
       "      <th></th>\n",
       "    </tr>\n",
       "  </thead>\n",
       "  <tbody>\n",
       "    <tr>\n",
       "      <th>2019-09-24 13:12:09-05:00</th>\n",
       "      <td>i am currently at the united nations represent...</td>\n",
       "    </tr>\n",
       "    <tr>\n",
       "      <th>2019-09-24 13:12:11-05:00</th>\n",
       "      <td>you will see it was a very friendly and totall...</td>\n",
       "    </tr>\n",
       "  </tbody>\n",
       "</table>\n",
       "</div>"
      ],
      "text/plain": [
       "                                                                      tweets\n",
       "timestamp                                                                   \n",
       "2019-09-24 13:12:09-05:00  i am currently at the united nations represent...\n",
       "2019-09-24 13:12:11-05:00  you will see it was a very friendly and totall..."
      ]
     },
     "execution_count": 38,
     "metadata": {},
     "output_type": "execute_result"
    }
   ],
   "source": [
    "sub_data[(sub_data.index >= sub_ts[0]) & (sub_data.index <= sub_ts_1[0])]"
   ]
  }
 ],
 "metadata": {
  "kernelspec": {
   "display_name": "Python 3",
   "language": "python",
   "name": "python3"
  },
  "language_info": {
   "codemirror_mode": {
    "name": "ipython",
    "version": 3
   },
   "file_extension": ".py",
   "mimetype": "text/x-python",
   "name": "python",
   "nbconvert_exporter": "python",
   "pygments_lexer": "ipython3",
   "version": "3.7.4"
  }
 },
 "nbformat": 4,
 "nbformat_minor": 2
}
