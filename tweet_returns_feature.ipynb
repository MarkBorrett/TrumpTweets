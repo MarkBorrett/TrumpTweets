{
 "cells": [
  {
   "cell_type": "code",
   "execution_count": 1,
   "metadata": {},
   "outputs": [],
   "source": [
    "from project_helper import TweetData, FuturesCloseData\n",
    "import pandas as pd\n",
    "import numpy as np\n",
    "from pytz import timezone\n",
    "import datetime\n",
    "from datetime import timedelta  \n",
    "from tqdm import tqdm\n",
    "import copy\n",
    "import matplotlib.pyplot as plt\n",
    "\n",
    "import warnings\n",
    "warnings.filterwarnings(\"ignore\")"
   ]
  },
  {
   "cell_type": "markdown",
   "metadata": {},
   "source": [
    "# Tweet Returns Feature"
   ]
  },
  {
   "cell_type": "markdown",
   "metadata": {},
   "source": [
    "This notebook creates a feature where we try to model the 'return' of every tweet. We look at all tweets in a day, from market close to market close, and see the one day return for every instrument. We attribute every word in the tweeted these returns, and calculate the cumulative mean returns, or the **score**, for every word for every day for every asset. \n",
    "\n",
    "From here we have three features: \n",
    "\n",
    "- **daily_tweet_score**: The average of the scores for every word tweeted in a day.\n",
    "- **max_tweet_score**: The score of the tweet with the highest score in a day.\n",
    "- **min_tweet_score**: The score of the tweet with the highest score in a day."
   ]
  },
  {
   "cell_type": "markdown",
   "metadata": {},
   "source": [
    "Obtaining tweet data and futures closing data to calculate returns."
   ]
  },
  {
   "cell_type": "code",
   "execution_count": 2,
   "metadata": {},
   "outputs": [],
   "source": [
    "instrument_list = ['ES', 'NQ', 'CD', 'EC', 'JY', 'MP', 'TY', 'US', 'C', 'S', 'W', 'CL', 'GC']\n",
    "tweet_data = TweetData()\n",
    "fc = FuturesCloseData()"
   ]
  },
  {
   "cell_type": "markdown",
   "metadata": {},
   "source": [
    "Creating a pandas dataframe with daily log returns for all assets, and a text column which contains all tweets in that day (market close to market close). We look at log-returns since they can be easily aggregated by adding them."
   ]
  },
  {
   "cell_type": "code",
   "execution_count": 3,
   "metadata": {},
   "outputs": [],
   "source": [
    "daily_df = pd.read_csv('combined_daily_tweets.csv', header=None)\n",
    "daily_df.columns =['date','text']\n",
    "daily_df.date = pd.to_datetime(daily_df.date)\n",
    "daily_df = daily_df.set_index('date')\n",
    "# Start of training period\n",
    "daily_df = daily_df[daily_df.index >= pd.to_datetime('2016-10-03')]\n",
    "# Dropping NAs, ie days with no returns, like weekends and holidays\n",
    "daily_df = daily_df.join(fc.log_returns()).dropna()"
   ]
  },
  {
   "cell_type": "code",
   "execution_count": 4,
   "metadata": {},
   "outputs": [
    {
     "data": {
      "text/html": [
       "<div>\n",
       "<style scoped>\n",
       "    .dataframe tbody tr th:only-of-type {\n",
       "        vertical-align: middle;\n",
       "    }\n",
       "\n",
       "    .dataframe tbody tr th {\n",
       "        vertical-align: top;\n",
       "    }\n",
       "\n",
       "    .dataframe thead th {\n",
       "        text-align: right;\n",
       "    }\n",
       "</style>\n",
       "<table border=\"1\" class=\"dataframe\">\n",
       "  <thead>\n",
       "    <tr style=\"text-align: right;\">\n",
       "      <th></th>\n",
       "      <th>text</th>\n",
       "      <th>ES</th>\n",
       "      <th>NQ</th>\n",
       "      <th>CD</th>\n",
       "      <th>EC</th>\n",
       "      <th>JY</th>\n",
       "      <th>MP</th>\n",
       "      <th>TY</th>\n",
       "      <th>US</th>\n",
       "      <th>C</th>\n",
       "      <th>S</th>\n",
       "      <th>W</th>\n",
       "      <th>CL</th>\n",
       "      <th>GC</th>\n",
       "    </tr>\n",
       "    <tr>\n",
       "      <th>date</th>\n",
       "      <th></th>\n",
       "      <th></th>\n",
       "      <th></th>\n",
       "      <th></th>\n",
       "      <th></th>\n",
       "      <th></th>\n",
       "      <th></th>\n",
       "      <th></th>\n",
       "      <th></th>\n",
       "      <th></th>\n",
       "      <th></th>\n",
       "      <th></th>\n",
       "      <th></th>\n",
       "      <th></th>\n",
       "    </tr>\n",
       "  </thead>\n",
       "  <tbody>\n",
       "    <tr>\n",
       "      <th>2016-10-03</th>\n",
       "      <td>join me in henderson nevada on wednesday at am...</td>\n",
       "      <td>-0.003920</td>\n",
       "      <td>-0.001624</td>\n",
       "      <td>-0.006520</td>\n",
       "      <td>-0.001899</td>\n",
       "      <td>-0.011445</td>\n",
       "      <td>0.000233</td>\n",
       "      <td>-0.003515</td>\n",
       "      <td>-0.010427</td>\n",
       "      <td>0.005206</td>\n",
       "      <td>-0.007537</td>\n",
       "      <td>-0.000405</td>\n",
       "      <td>-0.002218</td>\n",
       "      <td>-0.031237</td>\n",
       "    </tr>\n",
       "    <tr>\n",
       "      <th>2016-10-04</th>\n",
       "      <td>join me in reno nevada on wednesday at pm at t...</td>\n",
       "      <td>0.003920</td>\n",
       "      <td>0.003147</td>\n",
       "      <td>0.002264</td>\n",
       "      <td>0.001239</td>\n",
       "      <td>-0.007687</td>\n",
       "      <td>0.005585</td>\n",
       "      <td>-0.002188</td>\n",
       "      <td>-0.004647</td>\n",
       "      <td>-0.001559</td>\n",
       "      <td>-0.004984</td>\n",
       "      <td>0.014093</td>\n",
       "      <td>0.020876</td>\n",
       "      <td>-0.000812</td>\n",
       "    </tr>\n",
       "    <tr>\n",
       "      <th>2016-10-05</th>\n",
       "      <td>the constant interruptions last night by tim k...</td>\n",
       "      <td>0.001495</td>\n",
       "      <td>-0.000295</td>\n",
       "      <td>-0.004598</td>\n",
       "      <td>-0.006168</td>\n",
       "      <td>-0.004767</td>\n",
       "      <td>-0.001626</td>\n",
       "      <td>-0.002071</td>\n",
       "      <td>-0.004262</td>\n",
       "      <td>-0.015195</td>\n",
       "      <td>0.001086</td>\n",
       "      <td>-0.014093</td>\n",
       "      <td>0.010994</td>\n",
       "      <td>-0.011587</td>\n",
       "    </tr>\n",
       "  </tbody>\n",
       "</table>\n",
       "</div>"
      ],
      "text/plain": [
       "                                                         text        ES  \\\n",
       "date                                                                      \n",
       "2016-10-03  join me in henderson nevada on wednesday at am... -0.003920   \n",
       "2016-10-04  join me in reno nevada on wednesday at pm at t...  0.003920   \n",
       "2016-10-05  the constant interruptions last night by tim k...  0.001495   \n",
       "\n",
       "                  NQ        CD        EC        JY        MP        TY  \\\n",
       "date                                                                     \n",
       "2016-10-03 -0.001624 -0.006520 -0.001899 -0.011445  0.000233 -0.003515   \n",
       "2016-10-04  0.003147  0.002264  0.001239 -0.007687  0.005585 -0.002188   \n",
       "2016-10-05 -0.000295 -0.004598 -0.006168 -0.004767 -0.001626 -0.002071   \n",
       "\n",
       "                  US         C         S         W        CL        GC  \n",
       "date                                                                    \n",
       "2016-10-03 -0.010427  0.005206 -0.007537 -0.000405 -0.002218 -0.031237  \n",
       "2016-10-04 -0.004647 -0.001559 -0.004984  0.014093  0.020876 -0.000812  \n",
       "2016-10-05 -0.004262 -0.015195  0.001086 -0.014093  0.010994 -0.011587  "
      ]
     },
     "execution_count": 4,
     "metadata": {},
     "output_type": "execute_result"
    }
   ],
   "source": [
    "daily_df.head(3)"
   ]
  },
  {
   "cell_type": "markdown",
   "metadata": {},
   "source": [
    "- Creating dataframe with indices all the words in Trump's vocabulary, and rows the 1 day returns for each word for each day\n",
    "- I clipped the return at 0.5% to avoid days with very large returns dominating the singal"
   ]
  },
  {
   "cell_type": "code",
   "execution_count": 5,
   "metadata": {},
   "outputs": [
    {
     "name": "stderr",
     "output_type": "stream",
     "text": [
      "100%|██████████| 770/770 [00:35<00:00, 21.44it/s]\n",
      "100%|██████████| 770/770 [00:37<00:00, 20.39it/s]\n",
      "100%|██████████| 770/770 [00:36<00:00, 21.18it/s]\n",
      "100%|██████████| 770/770 [00:37<00:00, 20.54it/s]\n",
      "100%|██████████| 770/770 [00:35<00:00, 21.57it/s]\n",
      "100%|██████████| 770/770 [00:36<00:00, 21.15it/s]\n",
      "100%|██████████| 770/770 [00:35<00:00, 21.41it/s]\n",
      "100%|██████████| 770/770 [00:36<00:00, 21.19it/s]\n",
      "100%|██████████| 770/770 [00:36<00:00, 21.19it/s]\n",
      "100%|██████████| 770/770 [00:36<00:00, 21.12it/s]\n",
      "100%|██████████| 770/770 [00:36<00:00, 21.23it/s]\n",
      "100%|██████████| 770/770 [00:36<00:00, 21.15it/s]\n",
      "100%|██████████| 770/770 [00:36<00:00, 21.17it/s]\n"
     ]
    }
   ],
   "source": [
    "word_ret_dict = {}\n",
    "for inst in instrument_list:\n",
    "\n",
    "    word_ret_df = pd.DataFrame(index = list(set(tweet_data.clean_tweets.tweets.str.cat(sep=' ').split())), \n",
    "                               columns = range(len(daily_df.index)))\n",
    "    word_ret_df = word_ret_df.fillna(0)\n",
    "    for i in tqdm(range(word_ret_df.shape[1])):\n",
    "        num = daily_df[inst][i].clip(-0.05,0.05)\n",
    "        word_ret_df[i].loc[daily_df.text[i].split()] = num\n",
    "    word_ret_dict[inst] = word_ret_df"
   ]
  },
  {
   "cell_type": "markdown",
   "metadata": {},
   "source": [
    "Creating a dataframe with mean cumulative returns from the dataframes created above. "
   ]
  },
  {
   "cell_type": "code",
   "execution_count": 6,
   "metadata": {},
   "outputs": [
    {
     "name": "stderr",
     "output_type": "stream",
     "text": [
      "100%|██████████| 13/13 [00:07<00:00,  1.82it/s]\n"
     ]
    }
   ],
   "source": [
    "word_ret_cum_mean_dict = {}\n",
    "for inst in tqdm(instrument_list):\n",
    "    word_ret_cum_mean_dict[inst] = word_ret_dict[inst].cumsum(axis=1)/np.arange(1,word_ret_dict[inst].shape[1]+1)"
   ]
  },
  {
   "cell_type": "markdown",
   "metadata": {},
   "source": [
    "Mean cumulative returns for daily tweets in the last day of the dataset, for S&P500 futures, sorted. "
   ]
  },
  {
   "cell_type": "code",
   "execution_count": 7,
   "metadata": {},
   "outputs": [
    {
     "data": {
      "text/plain": [
       "getting    -0.000252\n",
       "happy      -0.000238\n",
       "paying     -0.000202\n",
       "against    -0.000177\n",
       "support    -0.000175\n",
       "farmers    -0.000172\n",
       "pelosi     -0.000171\n",
       "spending   -0.000166\n",
       "just       -0.000165\n",
       "billion    -0.000163\n",
       "Name: 769, dtype: float64"
      ]
     },
     "execution_count": 7,
     "metadata": {},
     "output_type": "execute_result"
    }
   ],
   "source": [
    "word_ret_cum_mean_dict['ES'][769].sort_values().head(10)"
   ]
  },
  {
   "cell_type": "markdown",
   "metadata": {},
   "source": [
    "- Creating feature **daily_tweet_score**: Average cumulative word returns as of yesterday, for every word in all tweets that day. This is a return for all the words Trump tweeted in a day. \n",
    "- Considering only days where he tweeted more than 10 words to avoid noise of single word returns."
   ]
  },
  {
   "cell_type": "code",
   "execution_count": 8,
   "metadata": {},
   "outputs": [
    {
     "name": "stderr",
     "output_type": "stream",
     "text": [
      "100%|██████████| 13/13 [00:07<00:00,  1.70it/s]\n"
     ]
    }
   ],
   "source": [
    "for inst in tqdm(instrument_list):\n",
    "    vc = np.zeros(daily_df.shape[0])\n",
    "    for i in range(1, daily_df.shape[0]):\n",
    "        sp = daily_df.text[i].split()\n",
    "        if len(sp) <=10:\n",
    "            vc[i] = 0\n",
    "        else:\n",
    "            vc[i]= sum(word_ret_cum_mean_dict[inst][i-1].loc[sp]/len(sp))\n",
    "    daily_df['{}_daily_tweet_score'.format(inst)] = vc"
   ]
  },
  {
   "cell_type": "code",
   "execution_count": 9,
   "metadata": {},
   "outputs": [
    {
     "data": {
      "text/plain": [
       "Index(['text', 'ES', 'NQ', 'CD', 'EC', 'JY', 'MP', 'TY', 'US', 'C', 'S', 'W',\n",
       "       'CL', 'GC', 'ES_daily_tweet_score', 'NQ_daily_tweet_score',\n",
       "       'CD_daily_tweet_score', 'EC_daily_tweet_score', 'JY_daily_tweet_score',\n",
       "       'MP_daily_tweet_score', 'TY_daily_tweet_score', 'US_daily_tweet_score',\n",
       "       'C_daily_tweet_score', 'S_daily_tweet_score', 'W_daily_tweet_score',\n",
       "       'CL_daily_tweet_score', 'GC_daily_tweet_score'],\n",
       "      dtype='object')"
      ]
     },
     "execution_count": 9,
     "metadata": {},
     "output_type": "execute_result"
    }
   ],
   "source": [
    "daily_df.columns"
   ]
  },
  {
   "cell_type": "markdown",
   "metadata": {},
   "source": [
    "Now, we are going to get word returns for every tweet. Getting single tweet data, with timestamp."
   ]
  },
  {
   "cell_type": "code",
   "execution_count": 10,
   "metadata": {},
   "outputs": [],
   "source": [
    "daily_tweets = tweet_data.clean_tweets[pd.to_datetime(tweet_data.clean_tweets.after4_date)\n",
    "                                       <= pd.to_datetime(daily_df.index[-1])]\n",
    "daily_tweets.after4_date = pd.to_datetime(daily_tweets.after4_date)"
   ]
  },
  {
   "cell_type": "code",
   "execution_count": 11,
   "metadata": {},
   "outputs": [
    {
     "data": {
      "text/html": [
       "<div>\n",
       "<style scoped>\n",
       "    .dataframe tbody tr th:only-of-type {\n",
       "        vertical-align: middle;\n",
       "    }\n",
       "\n",
       "    .dataframe tbody tr th {\n",
       "        vertical-align: top;\n",
       "    }\n",
       "\n",
       "    .dataframe thead th {\n",
       "        text-align: right;\n",
       "    }\n",
       "</style>\n",
       "<table border=\"1\" class=\"dataframe\">\n",
       "  <thead>\n",
       "    <tr style=\"text-align: right;\">\n",
       "      <th></th>\n",
       "      <th>tweets</th>\n",
       "      <th>timestamp</th>\n",
       "      <th>after4_date</th>\n",
       "    </tr>\n",
       "    <tr>\n",
       "      <th>timestamp</th>\n",
       "      <th></th>\n",
       "      <th></th>\n",
       "      <th></th>\n",
       "    </tr>\n",
       "  </thead>\n",
       "  <tbody>\n",
       "    <tr>\n",
       "      <th>2019-11-07 14:51:38-06:00</th>\n",
       "      <td>what did hunter biden do for the money a very ...</td>\n",
       "      <td>2019-11-07 14:51:38-06:00</td>\n",
       "      <td>2019-11-07</td>\n",
       "    </tr>\n",
       "    <tr>\n",
       "      <th>2019-11-07 14:00:34-06:00</th>\n",
       "      <td>based on the information released last night a...</td>\n",
       "      <td>2019-11-07 14:00:34-06:00</td>\n",
       "      <td>2019-11-07</td>\n",
       "    </tr>\n",
       "    <tr>\n",
       "      <th>2019-11-07 13:47:57-06:00</th>\n",
       "      <td>read the transcript</td>\n",
       "      <td>2019-11-07 13:47:57-06:00</td>\n",
       "      <td>2019-11-07</td>\n",
       "    </tr>\n",
       "    <tr>\n",
       "      <th>2019-11-07 13:46:30-06:00</th>\n",
       "      <td>the degenerate washington post made up the sto...</td>\n",
       "      <td>2019-11-07 13:46:30-06:00</td>\n",
       "      <td>2019-11-07</td>\n",
       "    </tr>\n",
       "    <tr>\n",
       "      <th>2019-11-07 12:28:41-06:00</th>\n",
       "      <td>bill barr did not decline my request to talk a...</td>\n",
       "      <td>2019-11-07 12:28:41-06:00</td>\n",
       "      <td>2019-11-07</td>\n",
       "    </tr>\n",
       "  </tbody>\n",
       "</table>\n",
       "</div>"
      ],
      "text/plain": [
       "                                                                      tweets  \\\n",
       "timestamp                                                                      \n",
       "2019-11-07 14:51:38-06:00  what did hunter biden do for the money a very ...   \n",
       "2019-11-07 14:00:34-06:00  based on the information released last night a...   \n",
       "2019-11-07 13:47:57-06:00                               read the transcript    \n",
       "2019-11-07 13:46:30-06:00  the degenerate washington post made up the sto...   \n",
       "2019-11-07 12:28:41-06:00  bill barr did not decline my request to talk a...   \n",
       "\n",
       "                                          timestamp after4_date  \n",
       "timestamp                                                        \n",
       "2019-11-07 14:51:38-06:00 2019-11-07 14:51:38-06:00  2019-11-07  \n",
       "2019-11-07 14:00:34-06:00 2019-11-07 14:00:34-06:00  2019-11-07  \n",
       "2019-11-07 13:47:57-06:00 2019-11-07 13:47:57-06:00  2019-11-07  \n",
       "2019-11-07 13:46:30-06:00 2019-11-07 13:46:30-06:00  2019-11-07  \n",
       "2019-11-07 12:28:41-06:00 2019-11-07 12:28:41-06:00  2019-11-07  "
      ]
     },
     "execution_count": 11,
     "metadata": {},
     "output_type": "execute_result"
    }
   ],
   "source": [
    "daily_tweets.head()"
   ]
  },
  {
   "cell_type": "markdown",
   "metadata": {},
   "source": [
    "Creating a dictionary of dates as keys and indices as values, to match the format of the return matrices above. Adding an indicator row to daily_tweets dataframe with the day, and then removing all days with no returns (like on weekends and holidays)"
   ]
  },
  {
   "cell_type": "code",
   "execution_count": 12,
   "metadata": {},
   "outputs": [],
   "source": [
    "date_dict = {date : i for i,date in enumerate(daily_df.index)}\n",
    "daily_tweets['ind']=[date_dict[date] if date in date_dict.keys() else 0 for date in daily_tweets.after4_date]\n",
    "daily_tweets = daily_tweets[daily_tweets.ind!=0]"
   ]
  },
  {
   "cell_type": "markdown",
   "metadata": {},
   "source": [
    "Calculating returns for every tweet:"
   ]
  },
  {
   "cell_type": "code",
   "execution_count": 13,
   "metadata": {},
   "outputs": [
    {
     "name": "stderr",
     "output_type": "stream",
     "text": [
      "100%|██████████| 13/13 [00:30<00:00,  2.36s/it]\n"
     ]
    }
   ],
   "source": [
    "for inst in tqdm(instrument_list):\n",
    "    tc = np.zeros(daily_tweets.shape[0])\n",
    "    i = 0\n",
    "    for tweet, ind  in zip(daily_tweets.tweets,daily_tweets.ind):\n",
    "        tw = tweet.split()\n",
    "        if ind > 0:\n",
    "            if len(tw) <=10:\n",
    "                tc[i] = 0\n",
    "            else:\n",
    "                tc[i]= sum(word_ret_cum_mean_dict[inst][ind-1].loc[tw])\n",
    "        i = i+1\n",
    "    daily_tweets['{}_single_ret'.format(inst)] = tc\n",
    "    "
   ]
  },
  {
   "cell_type": "code",
   "execution_count": 14,
   "metadata": {},
   "outputs": [
    {
     "data": {
      "text/plain": [
       "Index(['tweets', 'timestamp', 'after4_date', 'ind', 'ES_single_ret',\n",
       "       'NQ_single_ret', 'CD_single_ret', 'EC_single_ret', 'JY_single_ret',\n",
       "       'MP_single_ret', 'TY_single_ret', 'US_single_ret', 'C_single_ret',\n",
       "       'S_single_ret', 'W_single_ret', 'CL_single_ret', 'GC_single_ret'],\n",
       "      dtype='object')"
      ]
     },
     "execution_count": 14,
     "metadata": {},
     "output_type": "execute_result"
    }
   ],
   "source": [
    "daily_tweets.columns"
   ]
  },
  {
   "cell_type": "markdown",
   "metadata": {},
   "source": [
    "Removing tweets with exactly zero return, which are most likely tweets with less than 10 words."
   ]
  },
  {
   "cell_type": "code",
   "execution_count": 15,
   "metadata": {},
   "outputs": [
    {
     "data": {
      "image/png": "[encoded data removed]",
      "text/plain": [
       "<Figure size 432x288 with 1 Axes>"
      ]
     },
     "metadata": {
      "needs_background": "light"
     },
     "output_type": "display_data"
    }
   ],
   "source": [
    "daily_tweets = daily_tweets[daily_tweets.ES_single_ret!=0]\n",
    "plt.plot(daily_tweets[daily_tweets.after4_date >= pd.to_datetime('2017-02-01')].ES_single_ret)\n",
    "final_daily_tweets = daily_tweets[daily_tweets.after4_date >= pd.to_datetime('2017-02-01')]"
   ]
  },
  {
   "cell_type": "markdown",
   "metadata": {},
   "source": [
    "The features: Return of the single tweet with the highest return yesterday and lowest return yesterday"
   ]
  },
  {
   "cell_type": "code",
   "execution_count": 16,
   "metadata": {},
   "outputs": [
    {
     "data": {
      "text/plain": [
       "[<matplotlib.lines.Line2D at 0x7fcb039956d8>]"
      ]
     },
     "execution_count": 16,
     "metadata": {},
     "output_type": "execute_result"
    },
    {
     "data": {
      "image/png": "[encoded data removed]",
      "text/plain": [
       "<Figure size 432x288 with 1 Axes>"
      ]
     },
     "metadata": {
      "needs_background": "light"
     },
     "output_type": "display_data"
    }
   ],
   "source": [
    "plt.plot(final_daily_tweets.groupby('after4_date').min().ES_single_ret)"
   ]
  },
  {
   "cell_type": "code",
   "execution_count": 17,
   "metadata": {},
   "outputs": [
    {
     "data": {
      "text/plain": [
       "[<matplotlib.lines.Line2D at 0x7fcb039afef0>]"
      ]
     },
     "execution_count": 17,
     "metadata": {},
     "output_type": "execute_result"
    },
    {
     "data": {
      "image/png": "[encoded data removed]",
      "text/plain": [
       "<Figure size 432x288 with 1 Axes>"
      ]
     },
     "metadata": {
      "needs_background": "light"
     },
     "output_type": "display_data"
    }
   ],
   "source": [
    "plt.plot(final_daily_tweets.groupby('after4_date').max().ES_single_ret)"
   ]
  }
 ],
 "metadata": {
  "kernelspec": {
   "display_name": "Python [conda env:cs109]",
   "language": "python",
   "name": "conda-env-cs109-py"
  },
  "language_info": {
   "codemirror_mode": {
    "name": "ipython",
    "version": 3
   },
   "file_extension": ".py",
   "mimetype": "text/x-python",
   "name": "python",
   "nbconvert_exporter": "python",
   "pygments_lexer": "ipython3",
   "version": "3.6.9"
  }
 },
 "nbformat": 4,
 "nbformat_minor": 2
}
