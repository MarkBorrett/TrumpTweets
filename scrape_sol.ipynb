{
 "cells": [
  {
   "cell_type": "code",
   "execution_count": 3,
   "metadata": {},
   "outputs": [],
   "source": [
    "import pandas as pd\n",
    "import numpy as np\n",
    "from datetime import datetime\n",
    "from tqdm import tqdm\n",
    "from pandas.tseries.offsets import BDay\n",
    "import re\n",
    "import csv\n",
    "import os\n",
    "\n",
    "import warnings\n",
    "warnings.filterwarnings(\"ignore\")\n"
   ]
  },
  {
   "cell_type": "markdown",
   "metadata": {},
   "source": [
    "List of all Settlements archives"
   ]
  },
  {
   "cell_type": "code",
   "execution_count": 4,
   "metadata": {},
   "outputs": [
    {
     "data": {
      "text/plain": [
       "['Corn_19_1_2018_ags_settlements.txt',\n",
       " 'Wheat_2_6_2017_ags_settlements.txt',\n",
       " '13_11_2017_ags_settlements.txt',\n",
       " 'Soybean Oil_26_9_2017_ags_settlements.txt',\n",
       " '21_8_2018_eonly_settlements.txt',\n",
       " 'Soybean Oil_24_6_2019_ags_settlements.txt',\n",
       " 'Wheat_17_4_2019_ags_settlements.txt',\n",
       " '7_11_2016_ags_settlements.txt',\n",
       " '16_7_2018_ags_settlements.txt',\n",
       " 'Soybeans_13_12_2016_ags_settlements.txt']"
      ]
     },
     "execution_count": 4,
     "metadata": {},
     "output_type": "execute_result"
    }
   ],
   "source": [
    "lst =os.listdir('data/Settlements')\n",
    "lst[0:10]"
   ]
  },
  {
   "cell_type": "markdown",
   "metadata": {},
   "source": [
    "Getting first entry in file name to identify agricultural contacts"
   ]
  },
  {
   "cell_type": "code",
   "execution_count": 5,
   "metadata": {},
   "outputs": [
    {
     "data": {
      "text/plain": [
       "['30-Year T-Note',\n",
       " '9',\n",
       " 'Corn',\n",
       " '19',\n",
       " '13',\n",
       " '21',\n",
       " 'S&P',\n",
       " '2',\n",
       " 'SnP',\n",
       " 'Soybean Oil']"
      ]
     },
     "execution_count": 5,
     "metadata": {},
     "output_type": "execute_result"
    }
   ],
   "source": [
    "archs = pd.DataFrame([l.split('_') for l in lst])\n",
    "list(set(archs[0]))[0:10]"
   ]
  },
  {
   "cell_type": "markdown",
   "metadata": {},
   "source": [
    "Identifying agg contracts and separating by asset, sorting by date"
   ]
  },
  {
   "cell_type": "code",
   "execution_count": 6,
   "metadata": {},
   "outputs": [
    {
     "name": "stdout",
     "output_type": "stream",
     "text": [
      "# of contracts corn:  457\n",
      "# of contracts wheat:  424\n",
      "# of contracts soybeans:  440\n"
     ]
    },
    {
     "data": {
      "text/plain": [
       "'corn_11_10_2016_settlements.txt'"
      ]
     },
     "execution_count": 6,
     "metadata": {},
     "output_type": "execute_result"
    }
   ],
   "source": [
    "archs_corn = archs[ (archs[0]=='Corn') | (archs[0]=='corn') ]\n",
    "archs_wheat = archs[ (archs[0]=='Wheat') | (archs[0]=='wheat') ]\n",
    "archs_soybeans = archs[ (archs[0]=='Soybeans') | (archs[0]=='soybeans') ]\n",
    "\n",
    "arches_corn = archs_corn.sort_values(by=[3,2,1])\n",
    "arches_wheat = archs_wheat.sort_values(by=[3,2,1])\n",
    "arches_soybeans = archs_soybeans.sort_values(by=[3,2,1])\n",
    "\n",
    "print(\"# of contracts corn: \",arches_corn.shape[0])\n",
    "print(\"# of contracts wheat: \",arches_wheat.shape[0])\n",
    "print(\"# of contracts soybeans: \",arches_soybeans.shape[0])\n",
    "\n",
    "#first Corn contract\n",
    "lst[arches_corn.index[0]]"
   ]
  },
  {
   "cell_type": "markdown",
   "metadata": {},
   "source": [
    "Creating a dict with keys the months in the Settlements file format, and values as contract expirations in datetime format. Agricultural products expire on the 14th of every month, or the previous business day if a weekend/holiday"
   ]
  },
  {
   "cell_type": "code",
   "execution_count": 7,
   "metadata": {},
   "outputs": [
    {
     "data": {
      "text/plain": [
       "Timestamp('2016-01-14 00:00:00')"
      ]
     },
     "execution_count": 7,
     "metadata": {},
     "output_type": "execute_result"
    }
   ],
   "source": [
    "\n",
    "mon = ['JAN','FEB',\"MAR\",'APR','MAY','JUN','JLY','AUG','SEP','OCT','NOV','DEC']\n",
    "dummy_dict = {i : mon[i-1] for i in range(1,13)}\n",
    "exp_dict = {}\n",
    "for year in [16,17,18,19,20]:\n",
    "    for month in range(1,13):\n",
    "        exp_dict[mon[month - 1]+str(year)] = datetime(2000 + year, month, 15) - BDay(1)\n",
    "\n",
    "exp_dict['JAN16']"
   ]
  },
  {
   "cell_type": "code",
   "execution_count": 8,
   "metadata": {},
   "outputs": [],
   "source": [
    "def scrape_settlements(asset):\n",
    "\n",
    "    asset_full_dict = {}\n",
    "    if asset == 'Corn':\n",
    "        arches = arches_corn\n",
    "    elif asset == 'Wheat':\n",
    "        arches = arches_wheat\n",
    "    else:\n",
    "        arches = arches_soybeans\n",
    "        \n",
    "    #List with dates from each settlement file name in datetime\n",
    "    dates_list = []\n",
    "    for ind in arches.index:\n",
    "        dates_list.append(datetime(int(arches[3].loc[ind]), \n",
    "                               int(arches[2].loc[ind]), int(arches[1].loc[ind])))    \n",
    "        \n",
    "    for arch_ind, arch in enumerate(tqdm(arches.index)):\n",
    "        \n",
    "        try:\n",
    "            date_dict = {}\n",
    "            doc_date = dates_list[arch_ind]\n",
    "            doc = []\n",
    "            with open('data/Settlements/' + lst[arch]) as f:\n",
    "                for row in f:\n",
    "                    doc.append(row) \n",
    "\n",
    "            #Identifying lead options contracts \n",
    "\n",
    "            if asset == 'Corn':\n",
    "                cont_name = 'PY'\n",
    "            elif asset == 'Wheat':\n",
    "                cont_name = 'WZ'\n",
    "            else:\n",
    "                cont_name = 'CZO'\n",
    "            \n",
    "            # Finding indices inside the document for each option expiration for lead contracts\n",
    "            py = [d.startswith(cont_name) for d in doc] \n",
    "            py_index = pd.DataFrame(doc)[py].index\n",
    "\n",
    "            # Putting document in a DataFrame\n",
    "            text = [re.sub(\"\\s+\", \",\", d.strip()).split(',') for d in doc]\n",
    "            df = pd.DataFrame(text)\n",
    "            df = df[[0,1,2,3,4,8,10]]\n",
    "            df['expiration'] = np.zeros(df.shape[0])\n",
    "            df['future'] = np.zeros(df.shape[0])\n",
    "            df['date'] = dates_list[arch_ind]\n",
    "\n",
    "            # Converting column 8 (yesterday's settlement prices) into a float with same format as strike column, \n",
    "            # or empty string if non numerical data\n",
    "            for ind in df.index:\n",
    "                num = str(df[[8]].iloc[ind]).split()[1].split('\\'')\n",
    "                try:\n",
    "                    if num[0] == '':\n",
    "                        num[0] = 0\n",
    "                    num = 10*float(num[0]) + float(num[1])\n",
    "                    df[8].loc[ind] = num\n",
    "                except:\n",
    "                    pass\n",
    "\n",
    "            # Identifying futures prices for the day\n",
    "            futs = df[[0,8]][1:6]\n",
    "            futs = futs.set_index(0)\n",
    "\n",
    "            # Identifying if call or put\n",
    "            py_index_call = py_index[df.iloc[py_index][4] == 'CALL']\n",
    "            py_index_put = py_index[df.iloc[py_index][4] == 'PUT']\n",
    "\n",
    "            # Looking at the 5 most recent options contracts if I don't have the futures price for the date, discard\n",
    "            for py_i, py_ind in enumerate([py_index_call, py_index_put]):\n",
    "                vol_dict = {}\n",
    "                for i in range(5):\n",
    "                    last_ind = py_ind[i]\n",
    "                    exp = str(df.iloc[py_ind[i]][1])\n",
    "                    if exp in futs.index:\n",
    "                        while df[0][last_ind + 1].isnumeric():\n",
    "                            last_ind += 1 \n",
    "                        df.expiration[py_index[i]:last_ind] = exp_dict[exp]\n",
    "                        df.future = float(futs.loc[exp])\n",
    "                        vol_dict[i] = df[py_ind[i]:last_ind][1:].dropna()\n",
    "                        vol_dict[i] = vol_dict[i][[0,8,10,'expiration','future','date']]\n",
    "                        vol_dict[i] = vol_dict[i].rename(columns={0:'strike',8:'settle',10:'oi'})\n",
    "                        vol_dict[i].strike = vol_dict[i].strike.astype('float')\n",
    "                        vol_dict[i].settle = vol_dict[i].settle.astype('float')\n",
    "                        vol_dict[i].oi = vol_dict[i].oi.astype('int')\n",
    "                    else:\n",
    "                        vol_dict[i] = ''\n",
    "                if py_i == 0:\n",
    "                    date_dict['Call'] = vol_dict\n",
    "                else:\n",
    "                    date_dict['Put'] = vol_dict\n",
    "            asset_full_dict[doc_date] = date_dict\n",
    "        except:\n",
    "            print(arch)\n",
    "    return asset_full_dict\n",
    "\n"
   ]
  },
  {
   "cell_type": "code",
   "execution_count": 9,
   "metadata": {
    "scrolled": true
   },
   "outputs": [
    {
     "name": "stderr",
     "output_type": "stream",
     "text": [
      "100%|██████████| 457/457 [19:21<00:00,  2.54s/it]\n"
     ]
    }
   ],
   "source": [
    "corn_dict = scrape_settlements('Corn')"
   ]
  },
  {
   "cell_type": "code",
   "execution_count": 10,
   "metadata": {},
   "outputs": [
    {
     "name": "stderr",
     "output_type": "stream",
     "text": [
      " 86%|████████▋ | 366/424 [18:38<01:40,  1.73s/it]"
     ]
    },
    {
     "name": "stdout",
     "output_type": "stream",
     "text": [
      "727\n"
     ]
    },
    {
     "name": "stderr",
     "output_type": "stream",
     "text": [
      " 89%|████████▉ | 377/424 [18:55<01:16,  1.62s/it]"
     ]
    },
    {
     "name": "stdout",
     "output_type": "stream",
     "text": [
      "1504\n"
     ]
    },
    {
     "name": "stderr",
     "output_type": "stream",
     "text": [
      "100%|██████████| 424/424 [20:05<00:00,  2.84s/it]\n"
     ]
    }
   ],
   "source": [
    "wheat_dict = scrape_settlements('Wheat')"
   ]
  },
  {
   "cell_type": "code",
   "execution_count": 11,
   "metadata": {},
   "outputs": [
    {
     "name": "stderr",
     "output_type": "stream",
     "text": [
      " 86%|████████▋ | 380/440 [18:56<02:29,  2.49s/it]"
     ]
    },
    {
     "name": "stdout",
     "output_type": "stream",
     "text": [
      "1698\n"
     ]
    },
    {
     "name": "stderr",
     "output_type": "stream",
     "text": [
      " 89%|████████▊ | 390/440 [19:18<01:57,  2.36s/it]"
     ]
    },
    {
     "name": "stdout",
     "output_type": "stream",
     "text": [
      "951\n"
     ]
    },
    {
     "name": "stderr",
     "output_type": "stream",
     "text": [
      "100%|██████████| 440/440 [21:02<00:00,  2.87s/it]\n"
     ]
    }
   ],
   "source": [
    "soybeans_dict = scrape_settlements('Soybeans')"
   ]
  },
  {
   "cell_type": "code",
   "execution_count": 13,
   "metadata": {},
   "outputs": [],
   "source": [
    "import pickle\n",
    "\n",
    "with open('data/corn_dict.pickle', 'wb') as handle:\n",
    "    pickle.dump(corn_dict, handle)\n",
    "with open('data/wheat_dict.pickle', 'wb') as handle:\n",
    "    pickle.dump(wheat_dict, handle)\n",
    "with open('data/soybeans_dict.pickle', 'wb') as handle:\n",
    "    pickle.dump(soybeans_dict, handle)"
   ]
  }
 ],
 "metadata": {
  "kernelspec": {
   "display_name": "Python [conda env:cs109]",
   "language": "python",
   "name": "conda-env-cs109-py"
  },
  "language_info": {
   "codemirror_mode": {
    "name": "ipython",
    "version": 3
   },
   "file_extension": ".py",
   "mimetype": "text/x-python",
   "name": "python",
   "nbconvert_exporter": "python",
   "pygments_lexer": "ipython3",
   "version": "3.6.9"
  }
 },
 "nbformat": 4,
 "nbformat_minor": 2
}
