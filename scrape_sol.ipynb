{
 "cells": [
  {
   "cell_type": "code",
   "execution_count": 1,
   "metadata": {},
   "outputs": [],
   "source": [
    "import pandas as pd\n",
    "import numpy as np\n",
    "from datetime import datetime\n",
    "from tqdm import tqdm\n",
    "from pandas.tseries.offsets import BDay\n",
    "import re\n",
    "import os\n",
    "from dateutil.relativedelta import relativedelta\n",
    "from opts import FuturesCurve\n",
    "\n",
    "import warnings\n",
    "warnings.filterwarnings(\"ignore\")\n"
   ]
  },
  {
   "cell_type": "markdown",
   "metadata": {},
   "source": [
    "List of all Settlements archives"
   ]
  },
  {
   "cell_type": "code",
   "execution_count": 2,
   "metadata": {},
   "outputs": [
    {
     "data": {
      "text/plain": [
       "['Corn_19_1_2018_ags_settlements.txt',\n",
       " 'Wheat_2_6_2017_ags_settlements.txt',\n",
       " '13_11_2017_ags_settlements.txt',\n",
       " 'Soybean Oil_26_9_2017_ags_settlements.txt',\n",
       " '21_8_2018_eonly_settlements.txt',\n",
       " 'Soybean Oil_24_6_2019_ags_settlements.txt',\n",
       " 'Wheat_17_4_2019_ags_settlements.txt',\n",
       " '7_11_2016_ags_settlements.txt',\n",
       " '16_7_2018_ags_settlements.txt',\n",
       " 'Soybeans_13_12_2016_ags_settlements.txt']"
      ]
     },
     "execution_count": 2,
     "metadata": {},
     "output_type": "execute_result"
    }
   ],
   "source": [
    "lst =os.listdir('data/Settlements')\n",
    "lst[0:10]"
   ]
  },
  {
   "cell_type": "markdown",
   "metadata": {},
   "source": [
    "Getting first entry in file name to identify agricultural contacts"
   ]
  },
  {
   "cell_type": "code",
   "execution_count": 3,
   "metadata": {},
   "outputs": [
    {
     "data": {
      "text/plain": [
       "['7',\n",
       " '16',\n",
       " 'soybean meal',\n",
       " '30',\n",
       " 'Soybeans',\n",
       " '21',\n",
       " '18',\n",
       " 'soybean oil',\n",
       " '13',\n",
       " 'Wheat']"
      ]
     },
     "execution_count": 3,
     "metadata": {},
     "output_type": "execute_result"
    }
   ],
   "source": [
    "archs = pd.DataFrame([l.split('_') for l in lst])\n",
    "list(set(archs[0]))[0:10]"
   ]
  },
  {
   "cell_type": "markdown",
   "metadata": {},
   "source": [
    "Identifying agg contracts and separating by asset, sorting by date"
   ]
  },
  {
   "cell_type": "code",
   "execution_count": 4,
   "metadata": {},
   "outputs": [
    {
     "name": "stdout",
     "output_type": "stream",
     "text": [
      "# of contracts corn:  457\n",
      "# of contracts wheat:  424\n",
      "# of contracts soybeans:  440\n"
     ]
    },
    {
     "data": {
      "text/plain": [
       "'corn_21_9_2016_settlements.txt'"
      ]
     },
     "execution_count": 4,
     "metadata": {},
     "output_type": "execute_result"
    }
   ],
   "source": [
    "archs_corn = archs[ (archs[0]=='Corn') | (archs[0]=='corn') ]\n",
    "archs_wheat = archs[ (archs[0]=='Wheat') | (archs[0]=='wheat') ]\n",
    "archs_soybeans = archs[ (archs[0]=='Soybeans') | (archs[0]=='soybeans') ]\n",
    "\n",
    "archs_corn[[1,2,3]] = archs_corn[[1,2,3]].astype('int')\n",
    "archs_wheat[[1,2,3]] = archs_wheat[[1,2,3]].astype('int')\n",
    "archs_soybeans[[1,2,3]] = archs_soybeans[[1,2,3]].astype('int')\n",
    "\n",
    "arches_corn = archs_corn.sort_values(by=[3,2,1])\n",
    "arches_wheat = archs_wheat.sort_values(by=[3,2,1])\n",
    "arches_soybeans = archs_soybeans.sort_values(by=[3,2,1])\n",
    "\n",
    "print(\"# of contracts corn: \",arches_corn.shape[0])\n",
    "print(\"# of contracts wheat: \",arches_wheat.shape[0])\n",
    "print(\"# of contracts soybeans: \",arches_soybeans.shape[0])\n",
    "\n",
    "#first Corn contract\n",
    "lst[arches_corn.index[0]]"
   ]
  },
  {
   "cell_type": "markdown",
   "metadata": {},
   "source": [
    "Creating a dict with keys the months in the Settlements file format, and values as contract expirations in datetime format. Agricultural products expire on the 14th of every month, or the previous business day if a weekend/holiday"
   ]
  },
  {
   "cell_type": "code",
   "execution_count": 5,
   "metadata": {},
   "outputs": [
    {
     "data": {
      "text/plain": [
       "Timestamp('2016-01-14 00:00:00')"
      ]
     },
     "execution_count": 5,
     "metadata": {},
     "output_type": "execute_result"
    }
   ],
   "source": [
    "mon = ['JAN','FEB',\"MAR\",'APR','MAY','JUN','JLY','AUG','SEP','OCT','NOV','DEC']\n",
    "dummy_dict = {i : mon[i-1] for i in range(1,13)}\n",
    "exp_dict = {}\n",
    "for year in [16,17,18,19,20]:\n",
    "    for month in range(1,13):\n",
    "        exp_dict[mon[month - 1]+str(year)] = datetime(2000 + year, month, 15) - BDay(1)\n",
    "\n",
    "exp_dict['JAN16']"
   ]
  },
  {
   "cell_type": "code",
   "execution_count": 6,
   "metadata": {},
   "outputs": [],
   "source": [
    "def scrape_settlements(asset):\n",
    "    \n",
    "    # Futures curve for futures prices under 2 months in case settlement file doesn't \n",
    "    # have futures contract for an options expiry \n",
    "    ft = FuturesCurve()\n",
    "    asset_full_dict = {}\n",
    "    \n",
    "    # Indices for a specific asset's settlement files\n",
    "    if asset == 'Corn':\n",
    "        arches = arches_corn\n",
    "    elif asset == 'Wheat':\n",
    "        arches = arches_wheat\n",
    "    elif asset == 'Soybeans':\n",
    "        arches = arches_soybeans\n",
    "        \n",
    "    # List with dates from each settlement file name in datetime\n",
    "    dates_list = []\n",
    "    for ind in arches.index:\n",
    "        dates_list.append(datetime(int(arches[3].loc[ind]), \n",
    "                               int(arches[2].loc[ind]), int(arches[1].loc[ind])))    \n",
    "    \n",
    "    # Loop through all files\n",
    "    for arch_ind, arch in enumerate(tqdm(arches.index)):\n",
    "        \n",
    "        # If there's any unidentified error, for a particular date (could be corrupt file or other)\n",
    "        # ignore that date\n",
    "        try:\n",
    "        \n",
    "            date_dict = {}\n",
    "            doc_date = dates_list[arch_ind]\n",
    "            doc = []\n",
    "            with open('data/Settlements/' + lst[arch]) as f:\n",
    "                for row in f:\n",
    "                    doc.append(row) \n",
    "\n",
    "            #Identifying options contracts by code\n",
    "            if asset == 'Corn':\n",
    "                cont_name = 'PY'\n",
    "            elif asset == 'Wheat':\n",
    "                cont_name = 'WZ'\n",
    "            elif asset == \"Soybeans\":\n",
    "                cont_name = 'CZO'\n",
    "\n",
    "            # Finding indices inside the document for each option expiration for lead contracts\n",
    "            py = [d.startswith(cont_name) for d in doc] \n",
    "            py_index = pd.DataFrame(doc)[py].index\n",
    "\n",
    "            # Putting document in a DataFrame\n",
    "            text = [re.sub(\"\\s+\", \",\", d.strip()).split(',') for d in doc]\n",
    "            df = pd.DataFrame(text)\n",
    "            df = df[[0,1,2,3,4,8,10]]\n",
    "            df['expiration'] = np.zeros(df.shape[0])\n",
    "            df['future'] = np.zeros(df.shape[0])\n",
    "            df['date'] = dates_list[arch_ind]\n",
    "\n",
    "            # Converting column 8 (yesterday's settlement prices) into a float with same format as strike column, \n",
    "            # or empty string if non numerical data\n",
    "            for ind in df.index:\n",
    "                num = str(df[[8]].iloc[ind]).split()[1].split('\\'')\n",
    "                try:\n",
    "                    if num[0] == '':\n",
    "                        num[0] = 0\n",
    "                    num = 10*float(num[0]) + float(num[1])\n",
    "                    df[8].loc[ind] = num\n",
    "                except:\n",
    "                    pass\n",
    "\n",
    "            # Identifying futures prices for the day\n",
    "            futs = df[[0,8]][1:6]\n",
    "            futs = futs.set_index(0)\n",
    "\n",
    "            # Identifying if call or put\n",
    "            py_index_call = py_index[df.iloc[py_index][4] == 'CALL']\n",
    "            py_index_put = py_index[df.iloc[py_index][4] == 'PUT']\n",
    "\n",
    "            # Looping through both calls and puts for a specific options code\n",
    "            for py_i, py_ind in enumerate([py_index_call, py_index_put]):\n",
    "                vol_dict = {}\n",
    "\n",
    "                # Focus only on the first 5 expirations date for each contract\n",
    "                for i in range(5):\n",
    "                    last_ind = py_ind[i]\n",
    "                    exp = str(df.iloc[py_ind[i]][1])\n",
    "\n",
    "                    # Only look at options with at least 7 business days to expiration to avoid\n",
    "                    # implied volatility calculation issues\n",
    "                    if exp_dict[exp] >= doc_date + BDay(7):\n",
    "\n",
    "                        # Check if we have a futures price for a particular options expiration\n",
    "                        if exp in futs.index:\n",
    "                            while df[0][last_ind + 1].isnumeric():\n",
    "                                last_ind += 1 \n",
    "                            df.expiration[py_index[i]:last_ind] = exp_dict[exp]\n",
    "                            df.future = float(futs.loc[exp])\n",
    "                            vol_dict[i] = df[py_ind[i]:last_ind][1:].dropna()\n",
    "                            vol_dict[i] = vol_dict[i][[0,8,10,'expiration','future','date']]\n",
    "                            vol_dict[i] = vol_dict[i].rename(columns={0:'strike',8:'settle',10:'oi'})\n",
    "                            vol_dict[i].strike = vol_dict[i].strike.astype('float')\n",
    "                            vol_dict[i].settle = vol_dict[i].settle.astype('float')\n",
    "                            vol_dict[i].oi = vol_dict[i].oi.astype('int')\n",
    "\n",
    "                        # If we don't have the futures price for a particular option, get it from\n",
    "                        # FuturesCurve by interpolation if under two months\n",
    "                        elif exp_dict[exp] <= pd.to_datetime(doc_date + relativedelta(months = 2)- BDay(2)):\n",
    "                            if asset == 'Corn':\n",
    "                                fut_code = 'C'\n",
    "                            elif asset == 'Wheat':\n",
    "                                fut_code = 'W'\n",
    "                            else:\n",
    "                                fut_code = 'S'\n",
    "\n",
    "                            # If there's an key error retreiving an interpolated futures price, \n",
    "                            # ignore options contract\n",
    "                            try:\n",
    "                                # Get price from FuturesCurve\n",
    "                                fut_px = ft.get(fut_code, doc_date - BDay(1), exp_dict[exp])\n",
    "                                while df[0][last_ind + 1].isnumeric():\n",
    "                                    last_ind += 1 \n",
    "                                df.expiration[py_index[i]:last_ind] = exp_dict[exp]\n",
    "                                # 10 * adjustment to match strike format\n",
    "                                df.future = 10*fut_px\n",
    "                                vol_dict[i] = df[py_ind[i]:last_ind][1:].dropna()\n",
    "                                vol_dict[i] = vol_dict[i][[0,8,10,'expiration','future','date']]\n",
    "                                vol_dict[i] = vol_dict[i].rename(columns={0:'strike',8:'settle',10:'oi'})\n",
    "                                vol_dict[i].strike = vol_dict[i].strike.astype('float')\n",
    "                                vol_dict[i].settle = vol_dict[i].settle.astype('float')\n",
    "                                vol_dict[i].oi = vol_dict[i].oi.astype('int')\n",
    "                            except KeyError:\n",
    "                                vol_dict[i] = ''\n",
    "                        else:\n",
    "                            vol_dict[i] = ''\n",
    "                    # In any other case, return empty string for an options contract\n",
    "                    else:\n",
    "                        vol_dict[i] = ''\n",
    "\n",
    "                if py_i == 0:\n",
    "                    date_dict['Call'] = vol_dict\n",
    "                else:\n",
    "                    date_dict['Put'] = vol_dict\n",
    "            asset_full_dict[doc_date] = date_dict\n",
    "        except:\n",
    "            print('Error with archive : {} in arches.index', arch)\n",
    "\n",
    "    return asset_full_dict\n",
    "\n"
   ]
  },
  {
   "cell_type": "code",
   "execution_count": 7,
   "metadata": {
    "scrolled": true
   },
   "outputs": [
    {
     "name": "stderr",
     "output_type": "stream",
     "text": [
      "100%|██████████| 457/457 [22:01<00:00,  2.89s/it]\n"
     ]
    }
   ],
   "source": [
    "corn_dict = scrape_settlements('Corn')"
   ]
  },
  {
   "cell_type": "code",
   "execution_count": 16,
   "metadata": {},
   "outputs": [
    {
     "name": "stderr",
     "output_type": "stream",
     "text": [
      " 87%|████████▋ | 368/424 [19:29<01:41,  1.81s/it]"
     ]
    },
    {
     "name": "stdout",
     "output_type": "stream",
     "text": [
      "Error with archive : {} in arches.index 1504\n",
      "Error with archive : {} in arches.index 727\n"
     ]
    },
    {
     "name": "stderr",
     "output_type": "stream",
     "text": [
      "100%|██████████| 424/424 [21:00<00:00,  2.97s/it]\n"
     ]
    }
   ],
   "source": [
    "wheat_dict = scrape_settlements('Wheat')"
   ]
  },
  {
   "cell_type": "code",
   "execution_count": 17,
   "metadata": {},
   "outputs": [
    {
     "name": "stderr",
     "output_type": "stream",
     "text": [
      " 87%|████████▋ | 382/440 [19:38<02:22,  2.45s/it]"
     ]
    },
    {
     "name": "stdout",
     "output_type": "stream",
     "text": [
      "Error with archive : {} in arches.index 951\n",
      "Error with archive : {} in arches.index 1698\n"
     ]
    },
    {
     "name": "stderr",
     "output_type": "stream",
     "text": [
      "100%|██████████| 440/440 [21:42<00:00,  2.96s/it]\n"
     ]
    }
   ],
   "source": [
    "soybeans_dict = scrape_settlements('Soybeans')"
   ]
  },
  {
   "cell_type": "code",
   "execution_count": 18,
   "metadata": {},
   "outputs": [
    {
     "data": {
      "text/html": [
       "<div>\n",
       "<style scoped>\n",
       "    .dataframe tbody tr th:only-of-type {\n",
       "        vertical-align: middle;\n",
       "    }\n",
       "\n",
       "    .dataframe tbody tr th {\n",
       "        vertical-align: top;\n",
       "    }\n",
       "\n",
       "    .dataframe thead th {\n",
       "        text-align: right;\n",
       "    }\n",
       "</style>\n",
       "<table border=\"1\" class=\"dataframe\">\n",
       "  <thead>\n",
       "    <tr style=\"text-align: right;\">\n",
       "      <th></th>\n",
       "      <th>strike</th>\n",
       "      <th>settle</th>\n",
       "      <th>oi</th>\n",
       "      <th>expiration</th>\n",
       "      <th>future</th>\n",
       "      <th>date</th>\n",
       "    </tr>\n",
       "  </thead>\n",
       "  <tbody>\n",
       "    <tr>\n",
       "      <th>1176</th>\n",
       "      <td>3400.0</td>\n",
       "      <td>247.0</td>\n",
       "      <td>7846</td>\n",
       "      <td>2017-03-14 00:00:00</td>\n",
       "      <td>3604.0</td>\n",
       "      <td>2016-12-13</td>\n",
       "    </tr>\n",
       "    <tr>\n",
       "      <th>1177</th>\n",
       "      <td>3450.0</td>\n",
       "      <td>212.0</td>\n",
       "      <td>448</td>\n",
       "      <td>2017-03-14 00:00:00</td>\n",
       "      <td>3604.0</td>\n",
       "      <td>2016-12-13</td>\n",
       "    </tr>\n",
       "    <tr>\n",
       "      <th>1178</th>\n",
       "      <td>3500.0</td>\n",
       "      <td>177.0</td>\n",
       "      <td>26013</td>\n",
       "      <td>2017-03-14 00:00:00</td>\n",
       "      <td>3604.0</td>\n",
       "      <td>2016-12-13</td>\n",
       "    </tr>\n",
       "    <tr>\n",
       "      <th>1179</th>\n",
       "      <td>3550.0</td>\n",
       "      <td>147.0</td>\n",
       "      <td>1005</td>\n",
       "      <td>2017-03-14 00:00:00</td>\n",
       "      <td>3604.0</td>\n",
       "      <td>2016-12-13</td>\n",
       "    </tr>\n",
       "    <tr>\n",
       "      <th>1180</th>\n",
       "      <td>3600.0</td>\n",
       "      <td>122.0</td>\n",
       "      <td>18795</td>\n",
       "      <td>2017-03-14 00:00:00</td>\n",
       "      <td>3604.0</td>\n",
       "      <td>2016-12-13</td>\n",
       "    </tr>\n",
       "    <tr>\n",
       "      <th>1181</th>\n",
       "      <td>3650.0</td>\n",
       "      <td>100.0</td>\n",
       "      <td>683</td>\n",
       "      <td>2017-03-14 00:00:00</td>\n",
       "      <td>3604.0</td>\n",
       "      <td>2016-12-13</td>\n",
       "    </tr>\n",
       "    <tr>\n",
       "      <th>1182</th>\n",
       "      <td>3700.0</td>\n",
       "      <td>80.0</td>\n",
       "      <td>14994</td>\n",
       "      <td>2017-03-14 00:00:00</td>\n",
       "      <td>3604.0</td>\n",
       "      <td>2016-12-13</td>\n",
       "    </tr>\n",
       "    <tr>\n",
       "      <th>1183</th>\n",
       "      <td>3750.0</td>\n",
       "      <td>63.0</td>\n",
       "      <td>2116</td>\n",
       "      <td>2017-03-14 00:00:00</td>\n",
       "      <td>3604.0</td>\n",
       "      <td>2016-12-13</td>\n",
       "    </tr>\n",
       "    <tr>\n",
       "      <th>1184</th>\n",
       "      <td>3800.0</td>\n",
       "      <td>51.0</td>\n",
       "      <td>17392</td>\n",
       "      <td>2017-03-14 00:00:00</td>\n",
       "      <td>3604.0</td>\n",
       "      <td>2016-12-13</td>\n",
       "    </tr>\n",
       "    <tr>\n",
       "      <th>1185</th>\n",
       "      <td>3850.0</td>\n",
       "      <td>41.0</td>\n",
       "      <td>1093</td>\n",
       "      <td>2017-03-14 00:00:00</td>\n",
       "      <td>3604.0</td>\n",
       "      <td>2016-12-13</td>\n",
       "    </tr>\n",
       "    <tr>\n",
       "      <th>1186</th>\n",
       "      <td>3900.0</td>\n",
       "      <td>32.0</td>\n",
       "      <td>11387</td>\n",
       "      <td>2017-03-14 00:00:00</td>\n",
       "      <td>3604.0</td>\n",
       "      <td>2016-12-13</td>\n",
       "    </tr>\n",
       "    <tr>\n",
       "      <th>1188</th>\n",
       "      <td>4000.0</td>\n",
       "      <td>21.0</td>\n",
       "      <td>14387</td>\n",
       "      <td>2017-03-14 00:00:00</td>\n",
       "      <td>3604.0</td>\n",
       "      <td>2016-12-13</td>\n",
       "    </tr>\n",
       "    <tr>\n",
       "      <th>1189</th>\n",
       "      <td>4050.0</td>\n",
       "      <td>16.0</td>\n",
       "      <td>129</td>\n",
       "      <td>2017-03-14 00:00:00</td>\n",
       "      <td>3604.0</td>\n",
       "      <td>2016-12-13</td>\n",
       "    </tr>\n",
       "    <tr>\n",
       "      <th>1194</th>\n",
       "      <td>4300.0</td>\n",
       "      <td>6.0</td>\n",
       "      <td>3649</td>\n",
       "      <td>2017-03-14 00:00:00</td>\n",
       "      <td>3604.0</td>\n",
       "      <td>2016-12-13</td>\n",
       "    </tr>\n",
       "    <tr>\n",
       "      <th>1195</th>\n",
       "      <td>4350.0</td>\n",
       "      <td>5.0</td>\n",
       "      <td>148</td>\n",
       "      <td>2017-03-14 00:00:00</td>\n",
       "      <td>3604.0</td>\n",
       "      <td>2016-12-13</td>\n",
       "    </tr>\n",
       "    <tr>\n",
       "      <th>1197</th>\n",
       "      <td>4450.0</td>\n",
       "      <td>3.0</td>\n",
       "      <td>578</td>\n",
       "      <td>2017-03-14 00:00:00</td>\n",
       "      <td>3604.0</td>\n",
       "      <td>2016-12-13</td>\n",
       "    </tr>\n",
       "    <tr>\n",
       "      <th>1199</th>\n",
       "      <td>4600.0</td>\n",
       "      <td>2.0</td>\n",
       "      <td>2196</td>\n",
       "      <td>2017-03-14 00:00:00</td>\n",
       "      <td>3604.0</td>\n",
       "      <td>2016-12-13</td>\n",
       "    </tr>\n",
       "    <tr>\n",
       "      <th>1201</th>\n",
       "      <td>4800.0</td>\n",
       "      <td>1.0</td>\n",
       "      <td>1419</td>\n",
       "      <td>2017-03-14 00:00:00</td>\n",
       "      <td>3604.0</td>\n",
       "      <td>2016-12-13</td>\n",
       "    </tr>\n",
       "  </tbody>\n",
       "</table>\n",
       "</div>"
      ],
      "text/plain": [
       "      strike  settle     oi           expiration  future       date\n",
       "1176  3400.0   247.0   7846  2017-03-14 00:00:00  3604.0 2016-12-13\n",
       "1177  3450.0   212.0    448  2017-03-14 00:00:00  3604.0 2016-12-13\n",
       "1178  3500.0   177.0  26013  2017-03-14 00:00:00  3604.0 2016-12-13\n",
       "1179  3550.0   147.0   1005  2017-03-14 00:00:00  3604.0 2016-12-13\n",
       "1180  3600.0   122.0  18795  2017-03-14 00:00:00  3604.0 2016-12-13\n",
       "1181  3650.0   100.0    683  2017-03-14 00:00:00  3604.0 2016-12-13\n",
       "1182  3700.0    80.0  14994  2017-03-14 00:00:00  3604.0 2016-12-13\n",
       "1183  3750.0    63.0   2116  2017-03-14 00:00:00  3604.0 2016-12-13\n",
       "1184  3800.0    51.0  17392  2017-03-14 00:00:00  3604.0 2016-12-13\n",
       "1185  3850.0    41.0   1093  2017-03-14 00:00:00  3604.0 2016-12-13\n",
       "1186  3900.0    32.0  11387  2017-03-14 00:00:00  3604.0 2016-12-13\n",
       "1188  4000.0    21.0  14387  2017-03-14 00:00:00  3604.0 2016-12-13\n",
       "1189  4050.0    16.0    129  2017-03-14 00:00:00  3604.0 2016-12-13\n",
       "1194  4300.0     6.0   3649  2017-03-14 00:00:00  3604.0 2016-12-13\n",
       "1195  4350.0     5.0    148  2017-03-14 00:00:00  3604.0 2016-12-13\n",
       "1197  4450.0     3.0    578  2017-03-14 00:00:00  3604.0 2016-12-13\n",
       "1199  4600.0     2.0   2196  2017-03-14 00:00:00  3604.0 2016-12-13\n",
       "1201  4800.0     1.0   1419  2017-03-14 00:00:00  3604.0 2016-12-13"
      ]
     },
     "execution_count": 18,
     "metadata": {},
     "output_type": "execute_result"
    }
   ],
   "source": [
    "corn_dict[list(corn_dict.keys())[50]]['Call'][2]"
   ]
  },
  {
   "cell_type": "code",
   "execution_count": 19,
   "metadata": {},
   "outputs": [],
   "source": [
    "import pickle\n",
    "\n",
    "with open('data/corn_dict.pickle', 'wb') as handle:\n",
    "    pickle.dump(corn_dict, handle)\n",
    "with open('data/wheat_dict.pickle', 'wb') as handle:\n",
    "    pickle.dump(wheat_dict, handle)\n",
    "with open('data/soybeans_dict.pickle', 'wb') as handle:\n",
    "    pickle.dump(soybeans_dict, handle)"
   ]
  }
 ],
 "metadata": {
  "kernelspec": {
   "display_name": "Python [conda env:cs109]",
   "language": "python",
   "name": "conda-env-cs109-py"
  },
  "language_info": {
   "codemirror_mode": {
    "name": "ipython",
    "version": 3
   },
   "file_extension": ".py",
   "mimetype": "text/x-python",
   "name": "python",
   "nbconvert_exporter": "python",
   "pygments_lexer": "ipython3",
   "version": "3.6.9"
  }
 },
 "nbformat": 4,
 "nbformat_minor": 2
}
