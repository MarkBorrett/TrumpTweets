{
 "cells": [
  {
   "cell_type": "code",
   "execution_count": null,
   "metadata": {},
   "outputs": [],
   "source": [
    "import pandas as pd\n",
    "import numpy as np\n",
    "from datetime import datetime\n",
    "from pandas.tseries.offsets import BDay\n",
    "from dateutil.relativedelta import relativedelta\n",
    "from tqdm import tqdm\n",
    "import re\n",
    "import os\n",
    "import pickle\n",
    "\n",
    "from opts import FuturesCurve\n",
    "\n",
    "import warnings\n",
    "warnings.filterwarnings(\"ignore\")\n"
   ]
  },
  {
   "cell_type": "markdown",
   "metadata": {},
   "source": [
    "# Settlement file scraping"
   ]
  },
  {
   "cell_type": "markdown",
   "metadata": {},
   "source": [
    "This notebook scrapes over 1300 CME settlement files related to agricultural products, and creates a dictionary with all relevant information to caculate volatility and gamma related features in the **options.ipynb** notebook. The output files from this notebook are 3 pickle files, **corn_dict.pickle**, **wheat.pickle**, and **wheat_dict.pickle** in **data/**  ."
   ]
  },
  {
   "cell_type": "markdown",
   "metadata": {},
   "source": [
    "List of all Settlements archives"
   ]
  },
  {
   "cell_type": "code",
   "execution_count": 2,
   "metadata": {},
   "outputs": [
    {
     "data": {
      "text/plain": [
       "['Corn_19_1_2018_ags_settlements.txt',\n",
       " 'Wheat_2_6_2017_ags_settlements.txt',\n",
       " '13_11_2017_ags_settlements.txt',\n",
       " 'Soybean Oil_26_9_2017_ags_settlements.txt',\n",
       " '21_8_2018_eonly_settlements.txt',\n",
       " 'Soybean Oil_24_6_2019_ags_settlements.txt',\n",
       " 'Wheat_17_4_2019_ags_settlements.txt',\n",
       " '7_11_2016_ags_settlements.txt',\n",
       " '16_7_2018_ags_settlements.txt',\n",
       " 'Soybeans_13_12_2016_ags_settlements.txt']"
      ]
     },
     "execution_count": 2,
     "metadata": {},
     "output_type": "execute_result"
    }
   ],
   "source": [
    "lst =os.listdir('data/Settlements')\n",
    "lst[0:10]"
   ]
  },
  {
   "cell_type": "markdown",
   "metadata": {},
   "source": [
    "Getting first entry in file name to identify agricultural contacts"
   ]
  },
  {
   "cell_type": "code",
   "execution_count": 3,
   "metadata": {},
   "outputs": [
    {
     "data": {
      "text/plain": [
       "['7',\n",
       " '16',\n",
       " 'soybean meal',\n",
       " '30',\n",
       " 'Soybeans',\n",
       " '21',\n",
       " '18',\n",
       " 'soybean oil',\n",
       " '13',\n",
       " 'Wheat']"
      ]
     },
     "execution_count": 3,
     "metadata": {},
     "output_type": "execute_result"
    }
   ],
   "source": [
    "archs = pd.DataFrame([l.split('_') for l in lst])\n",
    "list(set(archs[0]))[0:10]"
   ]
  },
  {
   "cell_type": "markdown",
   "metadata": {},
   "source": [
    "Identifying agricultural contracts and separating by asset, sorting by date"
   ]
  },
  {
   "cell_type": "code",
   "execution_count": 4,
   "metadata": {},
   "outputs": [
    {
     "name": "stdout",
     "output_type": "stream",
     "text": [
      "# of contracts corn:  457\n",
      "# of contracts wheat:  424\n",
      "# of contracts soybeans:  440\n"
     ]
    },
    {
     "data": {
      "text/plain": [
       "'corn_21_9_2016_settlements.txt'"
      ]
     },
     "execution_count": 4,
     "metadata": {},
     "output_type": "execute_result"
    }
   ],
   "source": [
    "archs_corn = archs[ (archs[0]=='Corn') | (archs[0]=='corn') ]\n",
    "archs_wheat = archs[ (archs[0]=='Wheat') | (archs[0]=='wheat') ]\n",
    "archs_soybeans = archs[ (archs[0]=='Soybeans') | (archs[0]=='soybeans') ]\n",
    "\n",
    "archs_corn[[1,2,3]] = archs_corn[[1,2,3]].astype('int')\n",
    "archs_wheat[[1,2,3]] = archs_wheat[[1,2,3]].astype('int')\n",
    "archs_soybeans[[1,2,3]] = archs_soybeans[[1,2,3]].astype('int')\n",
    "\n",
    "arches_corn = archs_corn.sort_values(by=[3,2,1])\n",
    "arches_wheat = archs_wheat.sort_values(by=[3,2,1])\n",
    "arches_soybeans = archs_soybeans.sort_values(by=[3,2,1])\n",
    "\n",
    "print(\"# of contracts corn: \",arches_corn.shape[0])\n",
    "print(\"# of contracts wheat: \",arches_wheat.shape[0])\n",
    "print(\"# of contracts soybeans: \",arches_soybeans.shape[0])\n",
    "\n",
    "#first Corn contract\n",
    "lst[arches_corn.index[0]]"
   ]
  },
  {
   "cell_type": "markdown",
   "metadata": {},
   "source": [
    "Creating a dict with keys the months in the Settlements file format, and values as contract expirations in datetime format. Agricultural products expire on the 14th of every month, or the previous business day if a weekend/holiday"
   ]
  },
  {
   "cell_type": "code",
   "execution_count": 5,
   "metadata": {},
   "outputs": [
    {
     "data": {
      "text/plain": [
       "Timestamp('2016-01-14 00:00:00')"
      ]
     },
     "execution_count": 5,
     "metadata": {},
     "output_type": "execute_result"
    }
   ],
   "source": [
    "mon = ['JAN','FEB',\"MAR\",'APR','MAY','JUN','JLY','AUG','SEP','OCT','NOV','DEC']\n",
    "dummy_dict = {i : mon[i-1] for i in range(1,13)}\n",
    "exp_dict = {}\n",
    "for year in [16,17,18,19,20]:\n",
    "    for month in range(1,13):\n",
    "        exp_dict[mon[month - 1]+str(year)] = datetime(2000 + year, month, 15) - BDay(1)\n",
    "\n",
    "exp_dict['JAN16']"
   ]
  },
  {
   "cell_type": "code",
   "execution_count": 81,
   "metadata": {},
   "outputs": [],
   "source": [
    "def scrape_settlements(asset):\n",
    "    \"\"\"\n",
    "    This function scrapes all agricultural settlement files and obtains a dictionary\n",
    "    :param asset: Instrument to scrape, can be 'Corn', 'Wheat', or 'Soybeans'\n",
    "    :return asset_full_dict: a dictionary with keys as datetime dates, those of the related\n",
    "        settlement file date. The values of the dictionary are two dictionaries, one with key\n",
    "        'Call' and one with key 'Put'. The values for each of these is 5 dictionaries, with keys\n",
    "        0,1,..,4, with settlement information for a particular options contract with a particular \n",
    "        expiration date\n",
    "    \"\"\"\n",
    "    \n",
    "    # Futures curve for futures prices under 2 months in case settlement file doesn't \n",
    "    # have futures contract for an options expiry \n",
    "    ft = FuturesCurve()\n",
    "    asset_full_dict = {}\n",
    "    \n",
    "    # Indices for a specific asset's settlement files\n",
    "    if asset == 'Corn':\n",
    "        arches = arches_corn\n",
    "    elif asset == 'Wheat':\n",
    "        arches = arches_wheat\n",
    "    elif asset == 'Soybeans':\n",
    "        arches = arches_soybeans\n",
    "        \n",
    "    # List with dates from each settlement file name in datetime\n",
    "    dates_list = []\n",
    "    for ind in arches.index:\n",
    "        dates_list.append(datetime(int(arches[3].loc[ind]), \n",
    "                               int(arches[2].loc[ind]), int(arches[1].loc[ind])))    \n",
    "    \n",
    "    # Loop through all files\n",
    "    for arch_ind, arch in enumerate(tqdm(arches.index)):\n",
    "        \n",
    "        # If there's any unidentified error, for a particular date (could be corrupt file or other)\n",
    "        # ignore that date\n",
    "        try:\n",
    "        \n",
    "            date_dict = {}\n",
    "            doc_date = dates_list[arch_ind]\n",
    "            doc = []\n",
    "            with open('data/Settlements/' + lst[arch]) as f:\n",
    "                for row in f:\n",
    "                    doc.append(row) \n",
    "\n",
    "            #Identifying options contracts by code\n",
    "            if asset == 'Corn':\n",
    "                cont_name = 'PY'\n",
    "            elif asset == 'Wheat':\n",
    "                cont_name = 'WZ'\n",
    "            elif asset == \"Soybeans\":\n",
    "                cont_name = 'CZO'\n",
    "\n",
    "            # Finding indices inside the document for each option expiration for lead contracts\n",
    "            py = [d.startswith(cont_name) for d in doc] \n",
    "            py_index = pd.DataFrame(doc)[py].index\n",
    "\n",
    "            # Putting document in a DataFrame\n",
    "            text = [re.sub(\"\\s+\", \",\", d.strip()).split(',') for d in doc]\n",
    "            df = pd.DataFrame(text)\n",
    "            df = df[[0,1,2,3,4,8,9,10]]\n",
    "            df['expiration'] = np.zeros(df.shape[0])\n",
    "            df['future'] = np.zeros(df.shape[0])\n",
    "            df['date'] = dates_list[arch_ind]\n",
    "\n",
    "            # Converting column 8 (yesterday's settlement prices) into a float with same format as strike column, \n",
    "            # or empty string if non numerical data\n",
    "            for ind in df.index:\n",
    "                num = str(df[[8]].iloc[ind]).split()[1].split('\\'')\n",
    "                try:\n",
    "                    if num[0] == '':\n",
    "                        num[0] = 0\n",
    "                    num = 10*float(num[0]) + float(num[1])\n",
    "                    df[8].loc[ind] = num\n",
    "                except:\n",
    "                    pass\n",
    "\n",
    "            # Identifying futures prices for the day\n",
    "            futs = df[[0,8]][1:6]\n",
    "            futs = futs.set_index(0)\n",
    "\n",
    "            # Identifying if call or put\n",
    "            py_index_call = py_index[df.iloc[py_index][4] == 'CALL']\n",
    "            py_index_put = py_index[df.iloc[py_index][4] == 'PUT']\n",
    "\n",
    "            # Looping through both calls and puts for a specific options code\n",
    "            for py_i, py_ind in enumerate([py_index_call, py_index_put]):\n",
    "                vol_dict = {}\n",
    "\n",
    "                # Focus only on the first 5 expirations date for each contract\n",
    "                for i in range(5):\n",
    "                    last_ind = py_ind[i]\n",
    "                    exp = str(df.iloc[py_ind[i]][1])\n",
    "\n",
    "                    # Only look at options with at least 7 business days to expiration to avoid\n",
    "                    # implied volatility calculation issues\n",
    "                    if exp_dict[exp] >= doc_date + BDay(7):\n",
    "\n",
    "                        # Check if we have a futures price for a particular options expiration\n",
    "                        if exp in futs.index:\n",
    "                            while df[0][last_ind + 1].isnumeric():\n",
    "                                last_ind += 1 \n",
    "                            df.expiration[py_index[i]:last_ind] = exp_dict[exp]\n",
    "                            df.future = float(futs.loc[exp])\n",
    "                            \n",
    "                            #Dropping all NAs as they can have stale (wrong) settlement prices \n",
    "                            vol_dict[i] = df[py_ind[i]:last_ind][1:].dropna()\n",
    "                            vol_dict[i] = vol_dict[i][[0,8,9,10,'expiration','future','date']]\n",
    "                            vol_dict[i] = vol_dict[i].rename(columns={0:'strike',\n",
    "                                                                      8:'settle',\n",
    "                                                                      9:'volume', \n",
    "                                                                      10:'oi'})\n",
    "                            vol_dict[i].strike = vol_dict[i].strike.astype('float')\n",
    "                            vol_dict[i].settle = vol_dict[i].settle.astype('float')\n",
    "                            vol_dict[i].volume = vol_dict[i].volume.astype('int')\n",
    "                            vol_dict[i].oi = vol_dict[i].oi.astype('int')\n",
    "\n",
    "                        # If we don't have the futures price for a particular option, get it from\n",
    "                        # FuturesCurve by interpolation if under two months\n",
    "                        elif exp_dict[exp] <= pd.to_datetime(doc_date + relativedelta(months = 2)- BDay(2)):\n",
    "                            if asset == 'Corn':\n",
    "                                fut_code = 'C'\n",
    "                            elif asset == 'Wheat':\n",
    "                                fut_code = 'W'\n",
    "                            else:\n",
    "                                fut_code = 'S'\n",
    "\n",
    "                            # If there's an key error retreiving an interpolated futures price, \n",
    "                            # ignore options contract\n",
    "                            try:\n",
    "                                # Get price from FuturesCurve\n",
    "                                fut_px = ft.get(fut_code, doc_date - BDay(1), exp_dict[exp])\n",
    "                                while df[0][last_ind + 1].isnumeric():\n",
    "                                    last_ind += 1 \n",
    "                                df.expiration[py_index[i]:last_ind] = exp_dict[exp]\n",
    "                                # 10 * adjustment to match strike format\n",
    "                                df.future = 10*fut_px\n",
    "                                vol_dict[i] = df[py_ind[i]:last_ind][1:].dropna()\n",
    "                                #vol_dict[i] = df[py_ind[i]:last_ind][1:].fillna(0)\n",
    "                                vol_dict[i] = vol_dict[i][[0,8,9, 10,'expiration','future','date']]\n",
    "                                vol_dict[i] = vol_dict[i].rename(columns={0:'strike',\n",
    "                                                                          8:'settle', \n",
    "                                                                          9:'volume',\n",
    "                                                                          10:'oi'})\n",
    "                                vol_dict[i].strike = vol_dict[i].strike.astype('float')\n",
    "                                vol_dict[i].settle = vol_dict[i].settle.astype('float')\n",
    "                                vol_dict[i].volume = vol_dict[i].volume.astype('int')\n",
    "                                vol_dict[i].oi = vol_dict[i].oi.astype('int')\n",
    "                            except KeyError:\n",
    "                                vol_dict[i] = ''\n",
    "                        else:\n",
    "                            vol_dict[i] = ''\n",
    "                    # In any other case, return empty string for an options contract\n",
    "                    else:\n",
    "                        vol_dict[i] = ''\n",
    "\n",
    "                if py_i == 0:\n",
    "                    date_dict['Call'] = vol_dict\n",
    "                else:\n",
    "                    date_dict['Put'] = vol_dict\n",
    "            asset_full_dict[doc_date] = date_dict\n",
    "        except:\n",
    "            print('Error with archive : {} in arches.index', arch)\n",
    "\n",
    "    return asset_full_dict\n",
    "\n"
   ]
  },
  {
   "cell_type": "code",
   "execution_count": 75,
   "metadata": {
    "scrolled": true
   },
   "outputs": [
    {
     "name": "stderr",
     "output_type": "stream",
     "text": [
      "100%|██████████| 457/457 [18:14<00:00,  2.39s/it]\n"
     ]
    }
   ],
   "source": [
    "corn_dict = scrape_settlements('Corn')"
   ]
  },
  {
   "cell_type": "code",
   "execution_count": 76,
   "metadata": {},
   "outputs": [
    {
     "data": {
      "text/html": [
       "<div>\n",
       "<style scoped>\n",
       "    .dataframe tbody tr th:only-of-type {\n",
       "        vertical-align: middle;\n",
       "    }\n",
       "\n",
       "    .dataframe tbody tr th {\n",
       "        vertical-align: top;\n",
       "    }\n",
       "\n",
       "    .dataframe thead th {\n",
       "        text-align: right;\n",
       "    }\n",
       "</style>\n",
       "<table border=\"1\" class=\"dataframe\">\n",
       "  <thead>\n",
       "    <tr style=\"text-align: right;\">\n",
       "      <th></th>\n",
       "      <th>strike</th>\n",
       "      <th>settle</th>\n",
       "      <th>volume</th>\n",
       "      <th>oi</th>\n",
       "      <th>expiration</th>\n",
       "      <th>future</th>\n",
       "      <th>date</th>\n",
       "    </tr>\n",
       "  </thead>\n",
       "  <tbody>\n",
       "    <tr>\n",
       "      <th>1057</th>\n",
       "      <td>3400.0</td>\n",
       "      <td>241.0</td>\n",
       "      <td>7</td>\n",
       "      <td>8767</td>\n",
       "      <td>2017-03-14 00:00:00</td>\n",
       "      <td>3500.0</td>\n",
       "      <td>2016-09-22</td>\n",
       "    </tr>\n",
       "    <tr>\n",
       "      <th>1058</th>\n",
       "      <td>3500.0</td>\n",
       "      <td>190.0</td>\n",
       "      <td>235</td>\n",
       "      <td>18542</td>\n",
       "      <td>2017-03-14 00:00:00</td>\n",
       "      <td>3500.0</td>\n",
       "      <td>2016-09-22</td>\n",
       "    </tr>\n",
       "    <tr>\n",
       "      <th>1059</th>\n",
       "      <td>3600.0</td>\n",
       "      <td>147.0</td>\n",
       "      <td>80</td>\n",
       "      <td>5823</td>\n",
       "      <td>2017-03-14 00:00:00</td>\n",
       "      <td>3500.0</td>\n",
       "      <td>2016-09-22</td>\n",
       "    </tr>\n",
       "    <tr>\n",
       "      <th>1060</th>\n",
       "      <td>3700.0</td>\n",
       "      <td>114.0</td>\n",
       "      <td>122</td>\n",
       "      <td>8834</td>\n",
       "      <td>2017-03-14 00:00:00</td>\n",
       "      <td>3500.0</td>\n",
       "      <td>2016-09-22</td>\n",
       "    </tr>\n",
       "    <tr>\n",
       "      <th>1061</th>\n",
       "      <td>3800.0</td>\n",
       "      <td>86.0</td>\n",
       "      <td>550</td>\n",
       "      <td>8678</td>\n",
       "      <td>2017-03-14 00:00:00</td>\n",
       "      <td>3500.0</td>\n",
       "      <td>2016-09-22</td>\n",
       "    </tr>\n",
       "    <tr>\n",
       "      <th>1062</th>\n",
       "      <td>3900.0</td>\n",
       "      <td>66.0</td>\n",
       "      <td>36</td>\n",
       "      <td>8963</td>\n",
       "      <td>2017-03-14 00:00:00</td>\n",
       "      <td>3500.0</td>\n",
       "      <td>2016-09-22</td>\n",
       "    </tr>\n",
       "    <tr>\n",
       "      <th>1063</th>\n",
       "      <td>4000.0</td>\n",
       "      <td>52.0</td>\n",
       "      <td>89</td>\n",
       "      <td>12390</td>\n",
       "      <td>2017-03-14 00:00:00</td>\n",
       "      <td>3500.0</td>\n",
       "      <td>2016-09-22</td>\n",
       "    </tr>\n",
       "    <tr>\n",
       "      <th>1064</th>\n",
       "      <td>4100.0</td>\n",
       "      <td>40.0</td>\n",
       "      <td>5</td>\n",
       "      <td>4069</td>\n",
       "      <td>2017-03-14 00:00:00</td>\n",
       "      <td>3500.0</td>\n",
       "      <td>2016-09-22</td>\n",
       "    </tr>\n",
       "    <tr>\n",
       "      <th>1065</th>\n",
       "      <td>4200.0</td>\n",
       "      <td>32.0</td>\n",
       "      <td>312</td>\n",
       "      <td>5164</td>\n",
       "      <td>2017-03-14 00:00:00</td>\n",
       "      <td>3500.0</td>\n",
       "      <td>2016-09-22</td>\n",
       "    </tr>\n",
       "  </tbody>\n",
       "</table>\n",
       "</div>"
      ],
      "text/plain": [
       "      strike  settle  volume     oi           expiration  future       date\n",
       "1057  3400.0   241.0       7   8767  2017-03-14 00:00:00  3500.0 2016-09-22\n",
       "1058  3500.0   190.0     235  18542  2017-03-14 00:00:00  3500.0 2016-09-22\n",
       "1059  3600.0   147.0      80   5823  2017-03-14 00:00:00  3500.0 2016-09-22\n",
       "1060  3700.0   114.0     122   8834  2017-03-14 00:00:00  3500.0 2016-09-22\n",
       "1061  3800.0    86.0     550   8678  2017-03-14 00:00:00  3500.0 2016-09-22\n",
       "1062  3900.0    66.0      36   8963  2017-03-14 00:00:00  3500.0 2016-09-22\n",
       "1063  4000.0    52.0      89  12390  2017-03-14 00:00:00  3500.0 2016-09-22\n",
       "1064  4100.0    40.0       5   4069  2017-03-14 00:00:00  3500.0 2016-09-22\n",
       "1065  4200.0    32.0     312   5164  2017-03-14 00:00:00  3500.0 2016-09-22"
      ]
     },
     "execution_count": 76,
     "metadata": {},
     "output_type": "execute_result"
    }
   ],
   "source": [
    "corn_dict[list(corn_dict.keys())[1]]['Call'][3]"
   ]
  },
  {
   "cell_type": "code",
   "execution_count": 77,
   "metadata": {},
   "outputs": [
    {
     "name": "stderr",
     "output_type": "stream",
     "text": [
      " 87%|████████▋ | 368/424 [18:34<01:42,  1.83s/it]"
     ]
    },
    {
     "name": "stdout",
     "output_type": "stream",
     "text": [
      "Error with archive : {} in arches.index 1504\n",
      "Error with archive : {} in arches.index 727\n"
     ]
    },
    {
     "name": "stderr",
     "output_type": "stream",
     "text": [
      "100%|██████████| 424/424 [19:58<00:00,  2.83s/it]\n"
     ]
    }
   ],
   "source": [
    "wheat_dict = scrape_settlements('Wheat')"
   ]
  },
  {
   "cell_type": "code",
   "execution_count": 78,
   "metadata": {},
   "outputs": [
    {
     "name": "stderr",
     "output_type": "stream",
     "text": [
      " 87%|████████▋ | 382/440 [19:21<02:33,  2.64s/it]"
     ]
    },
    {
     "name": "stdout",
     "output_type": "stream",
     "text": [
      "Error with archive : {} in arches.index 951\n",
      "Error with archive : {} in arches.index 1698\n"
     ]
    },
    {
     "name": "stderr",
     "output_type": "stream",
     "text": [
      "100%|██████████| 440/440 [21:30<00:00,  2.93s/it]\n"
     ]
    }
   ],
   "source": [
    "soybeans_dict = scrape_settlements('Soybeans')"
   ]
  },
  {
   "cell_type": "code",
   "execution_count": 79,
   "metadata": {},
   "outputs": [],
   "source": [
    "with open('data/corn_dict.pickle', 'wb') as handle:\n",
    "    pickle.dump(corn_dict, handle)\n",
    "with open('data/wheat_dict.pickle', 'wb') as handle:\n",
    "    pickle.dump(wheat_dict, handle)\n",
    "with open('data/soybeans_dict.pickle', 'wb') as handle:\n",
    "    pickle.dump(soybeans_dict, handle)"
   ]
  }
 ],
 "metadata": {
  "kernelspec": {
   "display_name": "Python [conda env:cs109]",
   "language": "python",
   "name": "conda-env-cs109-py"
  },
  "language_info": {
   "codemirror_mode": {
    "name": "ipython",
    "version": 3
   },
   "file_extension": ".py",
   "mimetype": "text/x-python",
   "name": "python",
   "nbconvert_exporter": "python",
   "pygments_lexer": "ipython3",
   "version": "3.6.9"
  }
 },
 "nbformat": 4,
 "nbformat_minor": 2
}
