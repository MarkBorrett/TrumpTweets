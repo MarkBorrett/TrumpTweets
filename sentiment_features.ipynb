{
 "cells": [
  {
   "cell_type": "markdown",
   "metadata": {},
   "source": [
    "# Sentiment Features"
   ]
  },
  {
   "cell_type": "markdown",
   "metadata": {},
   "source": [
    "This notebook creates sentiment featues"
   ]
  },
  {
   "cell_type": "code",
   "execution_count": 1,
   "metadata": {},
   "outputs": [],
   "source": [
    "from nltk.sentiment.vader import SentimentIntensityAnalyzer\n",
    "import numpy as np\n",
    "from project_helper import TweetData\n",
    "import pandas as pd\n",
    "import matplotlib.pyplot as plt\n",
    "from text_features import SentimentFeaturesGenerator"
   ]
  },
  {
   "cell_type": "markdown",
   "metadata": {},
   "source": [
    "## Load the tweets"
   ]
  },
  {
   "cell_type": "code",
   "execution_count": 2,
   "metadata": {},
   "outputs": [],
   "source": [
    "tweet_data = TweetData()"
   ]
  },
  {
   "cell_type": "markdown",
   "metadata": {},
   "source": [
    "## Create the sentiment features"
   ]
  },
  {
   "cell_type": "markdown",
   "metadata": {},
   "source": [
    "**Four features are created:**\n",
    "\n",
    "1) Proportion of words with negative sentiment in the tweet\n",
    "\n",
    "\n",
    "2) Proportion of words with positive sentiment in the tweet\n",
    "\n",
    "3) Proportion of words with neutral sentiment in the tweet\n",
    "\n",
    "4) Combined Score of the tweet"
   ]
  },
  {
   "cell_type": "code",
   "execution_count": 15,
   "metadata": {},
   "outputs": [],
   "source": [
    "sentiment_features = SentimentFeaturesGenerator(tweet_df=tweet_data.clean_tweets,\n",
    "                                               aggregate=True)\n",
    "sentiment_features.run()"
   ]
  },
  {
   "cell_type": "markdown",
   "metadata": {},
   "source": [
    "## Analyze the results"
   ]
  },
  {
   "cell_type": "markdown",
   "metadata": {},
   "source": [
    "The SentimentFeaturesGenerator generates two dataframes - one at the 'tweet level' and an aggregated dataframe for each day."
   ]
  },
  {
   "cell_type": "code",
   "execution_count": 11,
   "metadata": {},
   "outputs": [],
   "source": [
    "sentiment_df = sentiment_features.sentiment_df\n",
    "sentiment_df_aggregate = sentiment_features.sentiment_df_aggregate"
   ]
  },
  {
   "cell_type": "code",
   "execution_count": 12,
   "metadata": {},
   "outputs": [
    {
     "data": {
      "text/html": [
       "<div>\n",
       "<style scoped>\n",
       "    .dataframe tbody tr th:only-of-type {\n",
       "        vertical-align: middle;\n",
       "    }\n",
       "\n",
       "    .dataframe tbody tr th {\n",
       "        vertical-align: top;\n",
       "    }\n",
       "\n",
       "    .dataframe thead th {\n",
       "        text-align: right;\n",
       "    }\n",
       "</style>\n",
       "<table border=\"1\" class=\"dataframe\">\n",
       "  <thead>\n",
       "    <tr style=\"text-align: right;\">\n",
       "      <th></th>\n",
       "      <th>negative_proportion</th>\n",
       "      <th>positive_proportion</th>\n",
       "      <th>neutral_proportion</th>\n",
       "      <th>combined_score</th>\n",
       "      <th>date</th>\n",
       "    </tr>\n",
       "    <tr>\n",
       "      <th>timestamp</th>\n",
       "      <th></th>\n",
       "      <th></th>\n",
       "      <th></th>\n",
       "      <th></th>\n",
       "      <th></th>\n",
       "    </tr>\n",
       "  </thead>\n",
       "  <tbody>\n",
       "    <tr>\n",
       "      <th>2019-11-17 19:57:12-06:00</th>\n",
       "      <td>0.062</td>\n",
       "      <td>0.058</td>\n",
       "      <td>0.880</td>\n",
       "      <td>-0.0516</td>\n",
       "      <td>2019-11-18</td>\n",
       "    </tr>\n",
       "    <tr>\n",
       "      <th>2019-11-17 19:56:02-06:00</th>\n",
       "      <td>0.000</td>\n",
       "      <td>0.000</td>\n",
       "      <td>0.000</td>\n",
       "      <td>0.0000</td>\n",
       "      <td>2019-11-18</td>\n",
       "    </tr>\n",
       "    <tr>\n",
       "      <th>2019-11-17 19:49:47-06:00</th>\n",
       "      <td>0.110</td>\n",
       "      <td>0.153</td>\n",
       "      <td>0.736</td>\n",
       "      <td>0.4767</td>\n",
       "      <td>2019-11-18</td>\n",
       "    </tr>\n",
       "    <tr>\n",
       "      <th>2019-11-17 19:47:32-06:00</th>\n",
       "      <td>0.000</td>\n",
       "      <td>0.000</td>\n",
       "      <td>1.000</td>\n",
       "      <td>0.0000</td>\n",
       "      <td>2019-11-18</td>\n",
       "    </tr>\n",
       "    <tr>\n",
       "      <th>2019-11-17 19:30:09-06:00</th>\n",
       "      <td>0.300</td>\n",
       "      <td>0.077</td>\n",
       "      <td>0.623</td>\n",
       "      <td>-0.8955</td>\n",
       "      <td>2019-11-18</td>\n",
       "    </tr>\n",
       "  </tbody>\n",
       "</table>\n",
       "</div>"
      ],
      "text/plain": [
       "                           negative_proportion  positive_proportion  \\\n",
       "timestamp                                                             \n",
       "2019-11-17 19:57:12-06:00                0.062                0.058   \n",
       "2019-11-17 19:56:02-06:00                0.000                0.000   \n",
       "2019-11-17 19:49:47-06:00                0.110                0.153   \n",
       "2019-11-17 19:47:32-06:00                0.000                0.000   \n",
       "2019-11-17 19:30:09-06:00                0.300                0.077   \n",
       "\n",
       "                           neutral_proportion  combined_score        date  \n",
       "timestamp                                                                  \n",
       "2019-11-17 19:57:12-06:00               0.880         -0.0516  2019-11-18  \n",
       "2019-11-17 19:56:02-06:00               0.000          0.0000  2019-11-18  \n",
       "2019-11-17 19:49:47-06:00               0.736          0.4767  2019-11-18  \n",
       "2019-11-17 19:47:32-06:00               1.000          0.0000  2019-11-18  \n",
       "2019-11-17 19:30:09-06:00               0.623         -0.8955  2019-11-18  "
      ]
     },
     "execution_count": 12,
     "metadata": {},
     "output_type": "execute_result"
    }
   ],
   "source": [
    "sentiment_df.head()"
   ]
  },
  {
   "cell_type": "code",
   "execution_count": 13,
   "metadata": {},
   "outputs": [
    {
     "data": {
      "text/html": [
       "<div>\n",
       "<style scoped>\n",
       "    .dataframe tbody tr th:only-of-type {\n",
       "        vertical-align: middle;\n",
       "    }\n",
       "\n",
       "    .dataframe tbody tr th {\n",
       "        vertical-align: top;\n",
       "    }\n",
       "\n",
       "    .dataframe thead th {\n",
       "        text-align: right;\n",
       "    }\n",
       "</style>\n",
       "<table border=\"1\" class=\"dataframe\">\n",
       "  <thead>\n",
       "    <tr style=\"text-align: right;\">\n",
       "      <th></th>\n",
       "      <th>negative_proportion_min</th>\n",
       "      <th>negative_proportion_max</th>\n",
       "      <th>negative_proportion_mean</th>\n",
       "      <th>positive_proportion_min</th>\n",
       "      <th>positive_proportion_max</th>\n",
       "      <th>positive_proportion_mean</th>\n",
       "      <th>neutral_proportion_min</th>\n",
       "      <th>neutral_proportion_max</th>\n",
       "      <th>neutral_proportion_mean</th>\n",
       "      <th>combined_score_min</th>\n",
       "      <th>combined_score_max</th>\n",
       "      <th>combined_score_mean</th>\n",
       "    </tr>\n",
       "    <tr>\n",
       "      <th>date</th>\n",
       "      <th></th>\n",
       "      <th></th>\n",
       "      <th></th>\n",
       "      <th></th>\n",
       "      <th></th>\n",
       "      <th></th>\n",
       "      <th></th>\n",
       "      <th></th>\n",
       "      <th></th>\n",
       "      <th></th>\n",
       "      <th></th>\n",
       "      <th></th>\n",
       "    </tr>\n",
       "  </thead>\n",
       "  <tbody>\n",
       "    <tr>\n",
       "      <th>2009-05-05</th>\n",
       "      <td>0.000</td>\n",
       "      <td>0.000</td>\n",
       "      <td>0.000</td>\n",
       "      <td>0.163</td>\n",
       "      <td>0.252</td>\n",
       "      <td>0.2075</td>\n",
       "      <td>0.748</td>\n",
       "      <td>0.837</td>\n",
       "      <td>0.7925</td>\n",
       "      <td>0.4767</td>\n",
       "      <td>0.7506</td>\n",
       "      <td>0.61365</td>\n",
       "    </tr>\n",
       "    <tr>\n",
       "      <th>2009-05-08</th>\n",
       "      <td>0.000</td>\n",
       "      <td>0.000</td>\n",
       "      <td>0.000</td>\n",
       "      <td>0.277</td>\n",
       "      <td>0.277</td>\n",
       "      <td>0.2770</td>\n",
       "      <td>0.723</td>\n",
       "      <td>0.723</td>\n",
       "      <td>0.7230</td>\n",
       "      <td>0.6115</td>\n",
       "      <td>0.6115</td>\n",
       "      <td>0.61150</td>\n",
       "    </tr>\n",
       "    <tr>\n",
       "      <th>2009-05-09</th>\n",
       "      <td>0.000</td>\n",
       "      <td>0.000</td>\n",
       "      <td>0.000</td>\n",
       "      <td>0.000</td>\n",
       "      <td>0.000</td>\n",
       "      <td>0.0000</td>\n",
       "      <td>1.000</td>\n",
       "      <td>1.000</td>\n",
       "      <td>1.0000</td>\n",
       "      <td>0.0000</td>\n",
       "      <td>0.0000</td>\n",
       "      <td>0.00000</td>\n",
       "    </tr>\n",
       "    <tr>\n",
       "      <th>2009-05-12</th>\n",
       "      <td>0.000</td>\n",
       "      <td>0.000</td>\n",
       "      <td>0.000</td>\n",
       "      <td>0.000</td>\n",
       "      <td>0.000</td>\n",
       "      <td>0.0000</td>\n",
       "      <td>1.000</td>\n",
       "      <td>1.000</td>\n",
       "      <td>1.0000</td>\n",
       "      <td>0.0000</td>\n",
       "      <td>0.0000</td>\n",
       "      <td>0.00000</td>\n",
       "    </tr>\n",
       "    <tr>\n",
       "      <th>2009-05-13</th>\n",
       "      <td>0.075</td>\n",
       "      <td>0.075</td>\n",
       "      <td>0.075</td>\n",
       "      <td>0.222</td>\n",
       "      <td>0.222</td>\n",
       "      <td>0.2220</td>\n",
       "      <td>0.703</td>\n",
       "      <td>0.703</td>\n",
       "      <td>0.7030</td>\n",
       "      <td>0.4809</td>\n",
       "      <td>0.4809</td>\n",
       "      <td>0.48090</td>\n",
       "    </tr>\n",
       "  </tbody>\n",
       "</table>\n",
       "</div>"
      ],
      "text/plain": [
       "            negative_proportion_min  negative_proportion_max  \\\n",
       "date                                                           \n",
       "2009-05-05                    0.000                    0.000   \n",
       "2009-05-08                    0.000                    0.000   \n",
       "2009-05-09                    0.000                    0.000   \n",
       "2009-05-12                    0.000                    0.000   \n",
       "2009-05-13                    0.075                    0.075   \n",
       "\n",
       "            negative_proportion_mean  positive_proportion_min  \\\n",
       "date                                                            \n",
       "2009-05-05                     0.000                    0.163   \n",
       "2009-05-08                     0.000                    0.277   \n",
       "2009-05-09                     0.000                    0.000   \n",
       "2009-05-12                     0.000                    0.000   \n",
       "2009-05-13                     0.075                    0.222   \n",
       "\n",
       "            positive_proportion_max  positive_proportion_mean  \\\n",
       "date                                                            \n",
       "2009-05-05                    0.252                    0.2075   \n",
       "2009-05-08                    0.277                    0.2770   \n",
       "2009-05-09                    0.000                    0.0000   \n",
       "2009-05-12                    0.000                    0.0000   \n",
       "2009-05-13                    0.222                    0.2220   \n",
       "\n",
       "            neutral_proportion_min  neutral_proportion_max  \\\n",
       "date                                                         \n",
       "2009-05-05                   0.748                   0.837   \n",
       "2009-05-08                   0.723                   0.723   \n",
       "2009-05-09                   1.000                   1.000   \n",
       "2009-05-12                   1.000                   1.000   \n",
       "2009-05-13                   0.703                   0.703   \n",
       "\n",
       "            neutral_proportion_mean  combined_score_min  combined_score_max  \\\n",
       "date                                                                          \n",
       "2009-05-05                   0.7925              0.4767              0.7506   \n",
       "2009-05-08                   0.7230              0.6115              0.6115   \n",
       "2009-05-09                   1.0000              0.0000              0.0000   \n",
       "2009-05-12                   1.0000              0.0000              0.0000   \n",
       "2009-05-13                   0.7030              0.4809              0.4809   \n",
       "\n",
       "            combined_score_mean  \n",
       "date                             \n",
       "2009-05-05              0.61365  \n",
       "2009-05-08              0.61150  \n",
       "2009-05-09              0.00000  \n",
       "2009-05-12              0.00000  \n",
       "2009-05-13              0.48090  "
      ]
     },
     "execution_count": 13,
     "metadata": {},
     "output_type": "execute_result"
    }
   ],
   "source": [
    "sentiment_df_aggregate.head()"
   ]
  },
  {
   "cell_type": "code",
   "execution_count": 16,
   "metadata": {},
   "outputs": [],
   "source": [
    "sentiment_df_aggregate.to_csv('daily_sentiment.csv')"
   ]
  }
 ],
 "metadata": {
  "kernelspec": {
   "display_name": "Python 3",
   "language": "python",
   "name": "python3"
  },
  "language_info": {
   "codemirror_mode": {
    "name": "ipython",
    "version": 3
   },
   "file_extension": ".py",
   "mimetype": "text/x-python",
   "name": "python",
   "nbconvert_exporter": "python",
   "pygments_lexer": "ipython3",
   "version": "3.6.8"
  }
 },
 "nbformat": 4,
 "nbformat_minor": 2
}
