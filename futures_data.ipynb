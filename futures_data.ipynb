{
 "cells": [
  {
   "cell_type": "code",
   "execution_count": null,
   "metadata": {},
   "outputs": [],
   "source": [
    "import pandas as pd\n",
    "futs = pd.read_csv('E:/data/quandl/futures/futures.csv')"
   ]
  },
  {
   "cell_type": "code",
   "execution_count": null,
   "metadata": {},
   "outputs": [],
   "source": [
    "fut_names = sorted(list(set(futs['name'])))"
   ]
  },
  {
   "cell_type": "code",
   "execution_count": null,
   "metadata": {},
   "outputs": [],
   "source": [
    "with open('fut_names.txt','w') as f:\n",
    "    for i in range(len(fut_names) ):\n",
    "        f.write(fut_names[i] + '\\n')"
   ]
  },
  {
   "cell_type": "code",
   "execution_count": null,
   "metadata": {},
   "outputs": [],
   "source": [
    "print(sorted(list(set(futs['symbol']))))"
   ]
  },
  {
   "cell_type": "code",
   "execution_count": null,
   "metadata": {},
   "outputs": [],
   "source": [
    "futs[futs.name == 'CME Euro FX Futures #1 (EC1) - Front Month - Unadjusted Prices, Roll on Open Interest Switch'].head()"
   ]
  },
  {
   "cell_type": "code",
   "execution_count": null,
   "metadata": {},
   "outputs": [],
   "source": [
    "\n",
    "sorted(futs[futs.name == 'CME Euro FX Futures #1 (EC1) - Front Month - Backwards Panama Adjusted Prices, Roll on Open Interest Switch'].date)"
   ]
  },
  {
   "cell_type": "code",
   "execution_count": null,
   "metadata": {},
   "outputs": [],
   "source": [
    "xxx = futs[futs.symbol=='EC']\n",
    "sorted(list(set(xxx[xxx.date=='2015-06-18'].name)))"
   ]
  },
  {
   "cell_type": "code",
   "execution_count": null,
   "metadata": {},
   "outputs": [],
   "source": [
    "instruments = [\n",
    "'CBOT Wheat Futures #2 (W2) - Backwards Panama Adjusted Prices, Roll on Open Interest Switch',\n",
    "'CBOT Soybeans Futures #2 (S2) - Backwards Panama Adjusted Prices, Roll on Open Interest Switch',\n",
    "'CBOT Corn Futures #2 (C2) - Backwards Panama Adjusted Prices, Roll on Open Interest Switch',\n",
    "'CBOT 30-year US Treasury Bond Futures #1 (US1) - Front Month - Backwards Panama Adjusted Prices, Roll on Open Interest Switch',\n",
    "'CBOT 10-year US Treasury Note Futures #1 (TY1) - Front Month - Backwards Panama Adjusted Prices, Roll on Open Interest Switch',\n",
    "'CME Japanese Yen JPY Futures #1 (JY1) - Front Month - Backwards Panama Adjusted Prices, Roll on Open Interest Switch',\n",
    "'CME Mexican Peso Futures #1 (MP1) - Front Month - Backwards Panama Adjusted Prices, Roll on Open Interest Switch',\n",
    "'NYMEX Gold Futures #1 (GC1) - Front Month - Backwards Panama Adjusted Prices, Roll on Open Interest Switch',\n",
    "'NYMEX WTI Crude Oil Futures #1 (CL1) - Front Month - Backwards Panama Adjusted Prices, Roll on Open Interest Switch',\n",
    "'CME S&P 500 Index E-Mini Futures #1 (ES1) - Front Month - Backwards Panama Adjusted Prices, Roll on Open Interest Switch',\n",
    "'CME NASDAQ 100 Index Mini Futures #1 (NQ1) - Front Month - Backwards Panama Adjusted Prices, Roll on Open Interest Switch',\n",
    "'CME Euro FX Futures #1 (EC1) - Front Month - Backwards Panama Adjusted Prices, Roll on Open Interest Switch',\n",
    "'CME Canadian Dollar CAD Futures #1 (CD1) - Front Month - Backwards Panama Adjusted Prices, Roll on Open Interest Switch',\n",
    "'EUREX Euro-Bund Futures #1 (FGBL1) - Front Month - Backwards Panama Adjusted Prices, Roll on Open Interest Switch',\n",
    "'EUREX DAX Futures #1 (FDAX1) - Front Month - Backwards Panama Adjusted Prices, Roll on Open Interest Switch']"
   ]
  },
  {
   "cell_type": "code",
   "execution_count": null,
   "metadata": {},
   "outputs": [],
   "source": [
    "db = futs[futs.name.isin(instruments)]"
   ]
  },
  {
   "cell_type": "code",
   "execution_count": null,
   "metadata": {},
   "outputs": [],
   "source": [
    "db_final = db[['name', 'symbol', 'date', 'open', 'high', 'low', 'settle', 'volume']].sort_values(by=['name', 'date']).reset_index(drop=True)"
   ]
  },
  {
   "cell_type": "code",
   "execution_count": null,
   "metadata": {},
   "outputs": [],
   "source": [
    "list(set(db_final.name))"
   ]
  },
  {
   "cell_type": "code",
   "execution_count": null,
   "metadata": {},
   "outputs": [],
   "source": [
    "db_final_name = db_final.name.str.rstrip(' - Front Month - Backwards Panama Adjusted Prices, Roll on Open Interest Switch')"
   ]
  },
  {
   "cell_type": "code",
   "execution_count": null,
   "metadata": {},
   "outputs": [],
   "source": [
    "list(set(db_final_name))"
   ]
  },
  {
   "cell_type": "code",
   "execution_count": null,
   "metadata": {},
   "outputs": [],
   "source": []
  },
  {
   "cell_type": "code",
   "execution_count": null,
   "metadata": {},
   "outputs": [],
   "source": []
  }
 ],
 "metadata": {
  "kernelspec": {
   "display_name": "Python [conda env:cs109]",
   "language": "python",
   "name": "conda-env-cs109-py"
  },
  "language_info": {
   "codemirror_mode": {
    "name": "ipython",
    "version": 3
   },
   "file_extension": ".py",
   "mimetype": "text/x-python",
   "name": "python",
   "nbconvert_exporter": "python",
   "pygments_lexer": "ipython3",
   "version": "3.6.9"
  }
 },
 "nbformat": 4,
 "nbformat_minor": 2
}
