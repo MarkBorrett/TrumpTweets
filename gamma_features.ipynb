{
 "cells": [
  {
   "cell_type": "code",
   "execution_count": 64,
   "metadata": {},
   "outputs": [],
   "source": [
    "from opts import VolCurveAgg\n",
    "import numpy as np\n",
    "import pandas as pd\n",
    "import matplotlib.pyplot as plt\n",
    "from tqdm import tqdm\n",
    "import pickle\n"
   ]
  },
  {
   "cell_type": "code",
   "execution_count": 65,
   "metadata": {},
   "outputs": [],
   "source": [
    "with open('data/corn_dict.pickle','rb') as f:\n",
    "    corn_dict = pickle.load(f)\n",
    "with open('data/wheat_dict.pickle','rb') as f:\n",
    "    wheat_dict = pickle.load(f)\n",
    "with open('data/soybeans_dict.pickle','rb') as f:\n",
    "    soybeans_dict = pickle.load(f)\n"
   ]
  },
  {
   "cell_type": "code",
   "execution_count": 66,
   "metadata": {},
   "outputs": [
    {
     "name": "stderr",
     "output_type": "stream",
     "text": [
      "100%|████████████████████████████████████████| 457/457 [03:49<00:00,  2.03it/s]\n"
     ]
    }
   ],
   "source": [
    "corn_gamma_features = pd.DataFrame(index = corn_dict.keys(), columns = ['C_up_gamma', \n",
    "                                                                        'C_up_gamma_5', \n",
    "                                                                        'C_down_gamma',\n",
    "                                                                        'C_down_gamma_5'])\n",
    "for key in tqdm(corn_dict.keys()):\n",
    "    vc = VolCurveAgg('C', key, corn_dict)\n",
    "    corn_gamma_features.loc[key] = vc.features.iloc[0]\n",
    "    "
   ]
  },
  {
   "cell_type": "code",
   "execution_count": 67,
   "metadata": {},
   "outputs": [
    {
     "name": "stderr",
     "output_type": "stream",
     "text": [
      "100%|████████████████████████████████████████| 422/422 [03:33<00:00,  2.24it/s]\n"
     ]
    }
   ],
   "source": [
    "wheat_gamma_features = pd.DataFrame(index = wheat_dict.keys(), columns = ['W_up_gamma', \n",
    "                                                                          'W_up_gamma_5', \n",
    "                                                                          'W_down_gamma',\n",
    "                                                                          'W_down_gamma_5'])\n",
    "for key in tqdm(wheat_dict.keys()):\n",
    "    vc = VolCurveAgg('W', key, wheat_dict)\n",
    "    wheat_gamma_features.loc[key] = vc.features.iloc[0]"
   ]
  },
  {
   "cell_type": "code",
   "execution_count": 68,
   "metadata": {},
   "outputs": [
    {
     "name": "stderr",
     "output_type": "stream",
     "text": [
      "100%|████████████████████████████████████████| 438/438 [04:28<00:00,  1.71it/s]\n"
     ]
    }
   ],
   "source": [
    "soybeans_gamma_features = pd.DataFrame(index = soybeans_dict.keys(), columns = ['S_up_gamma', \n",
    "                                                                                'S_up_gamma_5', \n",
    "                                                                                'S_down_gamma',\n",
    "                                                                                'S_down_gamma_5'])\n",
    "for key in tqdm(soybeans_dict.keys()):\n",
    "    vc = VolCurveAgg('S', key, soybeans_dict)\n",
    "    soybeans_gamma_features.loc[key] = vc.features.iloc[0]"
   ]
  },
  {
   "cell_type": "code",
   "execution_count": 16,
   "metadata": {},
   "outputs": [
    {
     "data": {
      "text/html": [
       "<div>\n",
       "<style scoped>\n",
       "    .dataframe tbody tr th:only-of-type {\n",
       "        vertical-align: middle;\n",
       "    }\n",
       "\n",
       "    .dataframe tbody tr th {\n",
       "        vertical-align: top;\n",
       "    }\n",
       "\n",
       "    .dataframe thead th {\n",
       "        text-align: right;\n",
       "    }\n",
       "</style>\n",
       "<table border=\"1\" class=\"dataframe\">\n",
       "  <thead>\n",
       "    <tr style=\"text-align: right;\">\n",
       "      <th></th>\n",
       "      <th>C_up_gamma</th>\n",
       "      <th>C_up_gamma_5</th>\n",
       "      <th>C_down_gamma</th>\n",
       "      <th>C_down_gamma_5</th>\n",
       "    </tr>\n",
       "    <tr>\n",
       "      <th>date</th>\n",
       "      <th></th>\n",
       "      <th></th>\n",
       "      <th></th>\n",
       "      <th></th>\n",
       "    </tr>\n",
       "  </thead>\n",
       "  <tbody>\n",
       "    <tr>\n",
       "      <th>2016-09-21</th>\n",
       "      <td>112.158</td>\n",
       "      <td>172.816</td>\n",
       "      <td>449.327</td>\n",
       "      <td>318.097</td>\n",
       "    </tr>\n",
       "    <tr>\n",
       "      <th>2016-09-22</th>\n",
       "      <td>112.586</td>\n",
       "      <td>176.448</td>\n",
       "      <td>409.969</td>\n",
       "      <td>326.694</td>\n",
       "    </tr>\n",
       "    <tr>\n",
       "      <th>2016-09-27</th>\n",
       "      <td>147.267</td>\n",
       "      <td>196.653</td>\n",
       "      <td>291.287</td>\n",
       "      <td>220.835</td>\n",
       "    </tr>\n",
       "    <tr>\n",
       "      <th>2016-09-29</th>\n",
       "      <td>149.463</td>\n",
       "      <td>198.943</td>\n",
       "      <td>312.1</td>\n",
       "      <td>237.185</td>\n",
       "    </tr>\n",
       "    <tr>\n",
       "      <th>2016-09-30</th>\n",
       "      <td>149.873</td>\n",
       "      <td>200.024</td>\n",
       "      <td>324.28</td>\n",
       "      <td>247.844</td>\n",
       "    </tr>\n",
       "  </tbody>\n",
       "</table>\n",
       "</div>"
      ],
      "text/plain": [
       "           C_up_gamma C_up_gamma_5 C_down_gamma C_down_gamma_5\n",
       "date                                                          \n",
       "2016-09-21    112.158      172.816      449.327        318.097\n",
       "2016-09-22    112.586      176.448      409.969        326.694\n",
       "2016-09-27    147.267      196.653      291.287        220.835\n",
       "2016-09-29    149.463      198.943        312.1        237.185\n",
       "2016-09-30    149.873      200.024       324.28        247.844"
      ]
     },
     "execution_count": 16,
     "metadata": {},
     "output_type": "execute_result"
    }
   ],
   "source": [
    "corn_gamma_features.index.name = 'date'\n",
    "corn_gamma_features.to_csv('features/corn_gamma_features.csv')\n",
    "corn_gamma_features.head()"
   ]
  },
  {
   "cell_type": "code",
   "execution_count": 17,
   "metadata": {},
   "outputs": [
    {
     "data": {
      "text/html": [
       "<div>\n",
       "<style scoped>\n",
       "    .dataframe tbody tr th:only-of-type {\n",
       "        vertical-align: middle;\n",
       "    }\n",
       "\n",
       "    .dataframe tbody tr th {\n",
       "        vertical-align: top;\n",
       "    }\n",
       "\n",
       "    .dataframe thead th {\n",
       "        text-align: right;\n",
       "    }\n",
       "</style>\n",
       "<table border=\"1\" class=\"dataframe\">\n",
       "  <thead>\n",
       "    <tr style=\"text-align: right;\">\n",
       "      <th></th>\n",
       "      <th>W_up_gamma</th>\n",
       "      <th>W_up_gamma_5</th>\n",
       "      <th>W_down_gamma</th>\n",
       "      <th>W_down_gamma_5</th>\n",
       "    </tr>\n",
       "    <tr>\n",
       "      <th>date</th>\n",
       "      <th></th>\n",
       "      <th></th>\n",
       "      <th></th>\n",
       "      <th></th>\n",
       "    </tr>\n",
       "  </thead>\n",
       "  <tbody>\n",
       "    <tr>\n",
       "      <th>2016-09-27</th>\n",
       "      <td>24.1337</td>\n",
       "      <td>30.4299</td>\n",
       "      <td>39.3144</td>\n",
       "      <td>24.1487</td>\n",
       "    </tr>\n",
       "    <tr>\n",
       "      <th>2016-09-29</th>\n",
       "      <td>25.653</td>\n",
       "      <td>29.5872</td>\n",
       "      <td>60.5507</td>\n",
       "      <td>40.2571</td>\n",
       "    </tr>\n",
       "    <tr>\n",
       "      <th>2016-10-04</th>\n",
       "      <td>24.1597</td>\n",
       "      <td>30.4696</td>\n",
       "      <td>57.2157</td>\n",
       "      <td>37.5615</td>\n",
       "    </tr>\n",
       "    <tr>\n",
       "      <th>2016-10-11</th>\n",
       "      <td>36.3024</td>\n",
       "      <td>37.4846</td>\n",
       "      <td>79.7802</td>\n",
       "      <td>53.6814</td>\n",
       "    </tr>\n",
       "    <tr>\n",
       "      <th>2016-10-13</th>\n",
       "      <td>39.5087</td>\n",
       "      <td>53.2433</td>\n",
       "      <td>73.4732</td>\n",
       "      <td>48.6964</td>\n",
       "    </tr>\n",
       "  </tbody>\n",
       "</table>\n",
       "</div>"
      ],
      "text/plain": [
       "           W_up_gamma W_up_gamma_5 W_down_gamma W_down_gamma_5\n",
       "date                                                          \n",
       "2016-09-27    24.1337      30.4299      39.3144        24.1487\n",
       "2016-09-29     25.653      29.5872      60.5507        40.2571\n",
       "2016-10-04    24.1597      30.4696      57.2157        37.5615\n",
       "2016-10-11    36.3024      37.4846      79.7802        53.6814\n",
       "2016-10-13    39.5087      53.2433      73.4732        48.6964"
      ]
     },
     "execution_count": 17,
     "metadata": {},
     "output_type": "execute_result"
    }
   ],
   "source": [
    "wheat_gamma_features.index.name = 'date'\n",
    "wheat_gamma_features.to_csv('features/wheat_gamma_features.csv')\n",
    "wheat_gamma_features.head()"
   ]
  },
  {
   "cell_type": "code",
   "execution_count": 21,
   "metadata": {},
   "outputs": [
    {
     "data": {
      "text/html": [
       "<div>\n",
       "<style scoped>\n",
       "    .dataframe tbody tr th:only-of-type {\n",
       "        vertical-align: middle;\n",
       "    }\n",
       "\n",
       "    .dataframe tbody tr th {\n",
       "        vertical-align: top;\n",
       "    }\n",
       "\n",
       "    .dataframe thead th {\n",
       "        text-align: right;\n",
       "    }\n",
       "</style>\n",
       "<table border=\"1\" class=\"dataframe\">\n",
       "  <thead>\n",
       "    <tr style=\"text-align: right;\">\n",
       "      <th></th>\n",
       "      <th>S_up_gamma</th>\n",
       "      <th>S_up_gamma_5</th>\n",
       "      <th>S_down_gamma</th>\n",
       "      <th>S_down_gamma_5</th>\n",
       "    </tr>\n",
       "    <tr>\n",
       "      <th>date</th>\n",
       "      <th></th>\n",
       "      <th></th>\n",
       "      <th></th>\n",
       "      <th></th>\n",
       "    </tr>\n",
       "  </thead>\n",
       "  <tbody>\n",
       "    <tr>\n",
       "      <th>2016-09-21</th>\n",
       "      <td>45.4584</td>\n",
       "      <td>54.4659</td>\n",
       "      <td>193.861</td>\n",
       "      <td>145.124</td>\n",
       "    </tr>\n",
       "    <tr>\n",
       "      <th>2016-09-22</th>\n",
       "      <td>43.1656</td>\n",
       "      <td>68.5838</td>\n",
       "      <td>203.065</td>\n",
       "      <td>141.574</td>\n",
       "    </tr>\n",
       "    <tr>\n",
       "      <th>2016-09-23</th>\n",
       "      <td>44.9761</td>\n",
       "      <td>48.0265</td>\n",
       "      <td>220.693</td>\n",
       "      <td>155.53</td>\n",
       "    </tr>\n",
       "    <tr>\n",
       "      <th>2016-09-26</th>\n",
       "      <td>40.4315</td>\n",
       "      <td>73.0954</td>\n",
       "      <td>198.428</td>\n",
       "      <td>124.61</td>\n",
       "    </tr>\n",
       "    <tr>\n",
       "      <th>2016-09-27</th>\n",
       "      <td>35.9904</td>\n",
       "      <td>66.5589</td>\n",
       "      <td>184.435</td>\n",
       "      <td>115.107</td>\n",
       "    </tr>\n",
       "  </tbody>\n",
       "</table>\n",
       "</div>"
      ],
      "text/plain": [
       "           S_up_gamma S_up_gamma_5 S_down_gamma S_down_gamma_5\n",
       "date                                                          \n",
       "2016-09-21    45.4584      54.4659      193.861        145.124\n",
       "2016-09-22    43.1656      68.5838      203.065        141.574\n",
       "2016-09-23    44.9761      48.0265      220.693         155.53\n",
       "2016-09-26    40.4315      73.0954      198.428         124.61\n",
       "2016-09-27    35.9904      66.5589      184.435        115.107"
      ]
     },
     "execution_count": 21,
     "metadata": {},
     "output_type": "execute_result"
    }
   ],
   "source": [
    "soybeans_gamma_features.index.name = 'date'\n",
    "soybeans_gamma_features.to_csv('features/soybeans_gamma_features.csv')\n",
    "soybeans_gamma_features.head()"
   ]
  },
  {
   "cell_type": "code",
   "execution_count": null,
   "metadata": {},
   "outputs": [],
   "source": [
    "soybeans_gamma"
   ]
  }
 ],
 "metadata": {
  "kernelspec": {
   "display_name": "Python [conda env:cs109a]",
   "language": "python",
   "name": "conda-env-cs109a-py"
  },
  "language_info": {
   "codemirror_mode": {
    "name": "ipython",
    "version": 3
   },
   "file_extension": ".py",
   "mimetype": "text/x-python",
   "name": "python",
   "nbconvert_exporter": "python",
   "pygments_lexer": "ipython3",
   "version": "3.7.4"
  }
 },
 "nbformat": 4,
 "nbformat_minor": 2
}
