{
 "cells": [
  {
   "cell_type": "code",
   "execution_count": 26,
   "metadata": {},
   "outputs": [],
   "source": [
    "import numpy as np\n",
    "import pandas as pd\n",
    "import matplotlib\n",
    "import matplotlib.pyplot as plt\n",
    "\n",
    "import statsmodels.api as sm\n",
    "from statsmodels.api import OLS\n",
    "\n",
    "from sklearn.model_selection import train_test_split\n",
    "from sklearn.preprocessing import PolynomialFeatures\n",
    "from sklearn.preprocessing import StandardScaler\n",
    "from sklearn.linear_model import LinearRegression\n",
    "from sklearn.linear_model import Ridge\n",
    "from sklearn.linear_model import RidgeCV\n",
    "from sklearn.linear_model import LassoCV\n",
    "from sklearn.metrics import r2_score, accuracy_score\n",
    "\n",
    "from pandas.plotting import scatter_matrix\n",
    "import seaborn as sns\n",
    "\n",
    "import warnings\n",
    "warnings.filterwarnings('ignore')\n",
    "\n",
    "\n",
    "from project_helper import VolFeatures, FuturesCloseData"
   ]
  },
  {
   "cell_type": "code",
   "execution_count": 11,
   "metadata": {},
   "outputs": [],
   "source": [
    "import pickle\n",
    "file = open(\"full_features.pkl\",'rb')\n",
    "full_features = pickle.load(file)"
   ]
  },
  {
   "cell_type": "code",
   "execution_count": 18,
   "metadata": {},
   "outputs": [],
   "source": [
    "for inst in instrument_dict:\n",
    "full_features['ES']\n",
    "y = 2 * (full_features['ES']['ES'] >=0)- 1\n",
    "X = full_features['ES'].drop(['ES'], axis=1)"
   ]
  },
  {
   "cell_type": "code",
   "execution_count": 20,
   "metadata": {},
   "outputs": [],
   "source": [
    "X_train, X_test, y_train, y_test = train_test_split(X, y, test_size=0.50, shuffle=False )"
   ]
  },
  {
   "cell_type": "code",
   "execution_count": 21,
   "metadata": {},
   "outputs": [
    {
     "data": {
      "text/html": [
       "<table class=\"simpletable\">\n",
       "<caption>OLS Regression Results</caption>\n",
       "<tr>\n",
       "  <th>Dep. Variable:</th>           <td>ES</td>        <th>  R-squared (uncentered):</th>      <td>   0.057</td>\n",
       "</tr>\n",
       "<tr>\n",
       "  <th>Model:</th>                   <td>OLS</td>       <th>  Adj. R-squared (uncentered):</th> <td>   0.041</td>\n",
       "</tr>\n",
       "<tr>\n",
       "  <th>Method:</th>             <td>Least Squares</td>  <th>  F-statistic:       </th>          <td>   3.483</td>\n",
       "</tr>\n",
       "<tr>\n",
       "  <th>Date:</th>             <td>Fri, 06 Dec 2019</td> <th>  Prob (F-statistic):</th>           <td>0.00235</td>\n",
       "</tr>\n",
       "<tr>\n",
       "  <th>Time:</th>                 <td>19:32:49</td>     <th>  Log-Likelihood:    </th>          <td> -484.89</td>\n",
       "</tr>\n",
       "<tr>\n",
       "  <th>No. Observations:</th>      <td>   349</td>      <th>  AIC:               </th>          <td>   981.8</td>\n",
       "</tr>\n",
       "<tr>\n",
       "  <th>Df Residuals:</th>          <td>   343</td>      <th>  BIC:               </th>          <td>   1005.</td>\n",
       "</tr>\n",
       "<tr>\n",
       "  <th>Df Model:</th>              <td>     6</td>      <th>                     </th>              <td> </td>   \n",
       "</tr>\n",
       "<tr>\n",
       "  <th>Covariance Type:</th>      <td>nonrobust</td>    <th>                     </th>              <td> </td>   \n",
       "</tr>\n",
       "</table>\n",
       "<table class=\"simpletable\">\n",
       "<tr>\n",
       "          <td></td>            <th>coef</th>     <th>std err</th>      <th>t</th>      <th>P>|t|</th>  <th>[0.025</th>    <th>0.975]</th>  \n",
       "</tr>\n",
       "<tr>\n",
       "  <th>ES_1M_atm_vol</th>    <td>   -6.0584</td> <td>    3.817</td> <td>   -1.587</td> <td> 0.113</td> <td>  -13.566</td> <td>    1.449</td>\n",
       "</tr>\n",
       "<tr>\n",
       "  <th>ES_1M_RR25</th>       <td>   30.0121</td> <td>   20.025</td> <td>    1.499</td> <td> 0.135</td> <td>   -9.375</td> <td>   69.399</td>\n",
       "</tr>\n",
       "<tr>\n",
       "  <th>ES_1M_Fly25</th>      <td>  -95.3129</td> <td>   81.262</td> <td>   -1.173</td> <td> 0.242</td> <td> -255.148</td> <td>   64.522</td>\n",
       "</tr>\n",
       "<tr>\n",
       "  <th>ES_2M_RR25</th>       <td>  -55.8749</td> <td>   25.739</td> <td>   -2.171</td> <td> 0.031</td> <td> -106.500</td> <td>   -5.249</td>\n",
       "</tr>\n",
       "<tr>\n",
       "  <th>ES_2M_Fly25</th>      <td>   24.5095</td> <td>   82.460</td> <td>    0.297</td> <td> 0.766</td> <td> -137.681</td> <td>  186.700</td>\n",
       "</tr>\n",
       "<tr>\n",
       "  <th>ES_2M_1M_atm_vol</th> <td>  -24.0319</td> <td>   15.548</td> <td>   -1.546</td> <td> 0.123</td> <td>  -54.614</td> <td>    6.550</td>\n",
       "</tr>\n",
       "</table>\n",
       "<table class=\"simpletable\">\n",
       "<tr>\n",
       "  <th>Omnibus:</th>       <td>1904.203</td> <th>  Durbin-Watson:     </th> <td>   1.989</td>\n",
       "</tr>\n",
       "<tr>\n",
       "  <th>Prob(Omnibus):</th>  <td> 0.000</td>  <th>  Jarque-Bera (JB):  </th> <td>  53.924</td>\n",
       "</tr>\n",
       "<tr>\n",
       "  <th>Skew:</th>           <td>-0.371</td>  <th>  Prob(JB):          </th> <td>1.95e-12</td>\n",
       "</tr>\n",
       "<tr>\n",
       "  <th>Kurtosis:</th>       <td> 1.223</td>  <th>  Cond. No.          </th> <td>    264.</td>\n",
       "</tr>\n",
       "</table><br/><br/>Warnings:<br/>[1] Standard Errors assume that the covariance matrix of the errors is correctly specified."
      ],
      "text/plain": [
       "<class 'statsmodels.iolib.summary.Summary'>\n",
       "\"\"\"\n",
       "                                 OLS Regression Results                                \n",
       "=======================================================================================\n",
       "Dep. Variable:                     ES   R-squared (uncentered):                   0.057\n",
       "Model:                            OLS   Adj. R-squared (uncentered):              0.041\n",
       "Method:                 Least Squares   F-statistic:                              3.483\n",
       "Date:                Fri, 06 Dec 2019   Prob (F-statistic):                     0.00235\n",
       "Time:                        19:32:49   Log-Likelihood:                         -484.89\n",
       "No. Observations:                 349   AIC:                                      981.8\n",
       "Df Residuals:                     343   BIC:                                      1005.\n",
       "Df Model:                           6                                                  \n",
       "Covariance Type:            nonrobust                                                  \n",
       "====================================================================================\n",
       "                       coef    std err          t      P>|t|      [0.025      0.975]\n",
       "------------------------------------------------------------------------------------\n",
       "ES_1M_atm_vol       -6.0584      3.817     -1.587      0.113     -13.566       1.449\n",
       "ES_1M_RR25          30.0121     20.025      1.499      0.135      -9.375      69.399\n",
       "ES_1M_Fly25        -95.3129     81.262     -1.173      0.242    -255.148      64.522\n",
       "ES_2M_RR25         -55.8749     25.739     -2.171      0.031    -106.500      -5.249\n",
       "ES_2M_Fly25         24.5095     82.460      0.297      0.766    -137.681     186.700\n",
       "ES_2M_1M_atm_vol   -24.0319     15.548     -1.546      0.123     -54.614       6.550\n",
       "==============================================================================\n",
       "Omnibus:                     1904.203   Durbin-Watson:                   1.989\n",
       "Prob(Omnibus):                  0.000   Jarque-Bera (JB):               53.924\n",
       "Skew:                          -0.371   Prob(JB):                     1.95e-12\n",
       "Kurtosis:                       1.223   Cond. No.                         264.\n",
       "==============================================================================\n",
       "\n",
       "Warnings:\n",
       "[1] Standard Errors assume that the covariance matrix of the errors is correctly specified.\n",
       "\"\"\""
      ]
     },
     "execution_count": 21,
     "metadata": {},
     "output_type": "execute_result"
    }
   ],
   "source": [
    "model = OLS(y_train, X_train)\n",
    "results = model.fit()\n",
    "results.summary()"
   ]
  },
  {
   "cell_type": "code",
   "execution_count": 29,
   "metadata": {},
   "outputs": [
    {
     "data": {
      "text/plain": [
       "0.5285714285714286"
      ]
     },
     "execution_count": 29,
     "metadata": {},
     "output_type": "execute_result"
    }
   ],
   "source": [
    "accuracy_score(results.predict(X_test)>= 0, y_test)"
   ]
  },
  {
   "cell_type": "code",
   "execution_count": 36,
   "metadata": {
    "scrolled": true
   },
   "outputs": [
    {
     "data": {
      "image/png": "[encoded data removed]",
      "text/plain": [
       "<Figure size 864x216 with 2 Axes>"
      ]
     },
     "metadata": {
      "needs_background": "light"
     },
     "output_type": "display_data"
    }
   ],
   "source": [
    "# your code here\n",
    "y_hat_train = 2 * (results.predict(X_test)>=0)-1\n",
    "residuals = y_test - y_hat_train\n",
    "fig, ax = plt.subplots(1,2,figsize=(12,3))\n",
    "\n",
    "ax[0].scatter(y_hat_train, residuals, alpha=0.5)\n",
    "ax[0].set_title('Plot of Residuals')\n",
    "ax[0].set_xlabel(r'$\\hat{y}$')\n",
    "ax[0].set_ylabel('residuals')\n",
    "ax[0].axhline(0,c='black')\n",
    "\n",
    "ax[1].hist(residuals)\n",
    "ax[1].set_title('Histogram of Residuals')\n",
    "ax[1].set_xlabel(r'residuals')\n",
    "\n",
    "plt.show()"
   ]
  },
  {
   "cell_type": "code",
   "execution_count": 40,
   "metadata": {},
   "outputs": [
    {
     "data": {
      "text/plain": [
       "337"
      ]
     },
     "execution_count": 40,
     "metadata": {},
     "output_type": "execute_result"
    }
   ],
   "source": [
    "sum(y_hat_train == 1)"
   ]
  },
  {
   "cell_type": "code",
   "execution_count": null,
   "metadata": {},
   "outputs": [],
   "source": [
    "#2.0 y_train long, y_predict short\n",
    "#-2.0 y_train short, y_predict long"
   ]
  }
 ],
 "metadata": {
  "kernelspec": {
   "display_name": "Python [conda env:cs109]",
   "language": "python",
   "name": "conda-env-cs109-py"
  },
  "language_info": {
   "codemirror_mode": {
    "name": "ipython",
    "version": 3
   },
   "file_extension": ".py",
   "mimetype": "text/x-python",
   "name": "python",
   "nbconvert_exporter": "python",
   "pygments_lexer": "ipython3",
   "version": "3.6.9"
  }
 },
 "nbformat": 4,
 "nbformat_minor": 2
}
