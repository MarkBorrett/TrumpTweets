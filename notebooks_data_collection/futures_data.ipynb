{
 "cells": [
  {
   "cell_type": "code",
   "execution_count": 1,
   "metadata": {
    "scrolled": true
   },
   "outputs": [],
   "source": [
    "import pandas as pd"
   ]
  },
  {
   "cell_type": "markdown",
   "metadata": {},
   "source": [
    "This spreadsheet was used to explore the Quandl futures database and find the contracts we wanted to use with the proper futures roll."
   ]
  },
  {
   "cell_type": "code",
   "execution_count": 2,
   "metadata": {},
   "outputs": [],
   "source": [
    "futs = pd.read_csv('../data/input_data/futures.csv')\n",
    "fut_names = sorted(list(set(futs['name'])))"
   ]
  },
  {
   "cell_type": "code",
   "execution_count": 4,
   "metadata": {},
   "outputs": [],
   "source": [
    "with open('../data/intermediate_data/fut_names.txt','w') as f:\n",
    "    for i in range(len(fut_names) ):\n",
    "        f.write(fut_names[i] + '\\n')"
   ]
  },
  {
   "cell_type": "code",
   "execution_count": 5,
   "metadata": {},
   "outputs": [
    {
     "name": "stdout",
     "output_type": "stream",
     "text": [
      "['C', 'CD', 'CL', 'EC', 'ES', 'GC', 'JY', 'MP', 'NQ', 'S', 'TY', 'US', 'W']\n"
     ]
    }
   ],
   "source": [
    "print(sorted(list(set(futs['symbol']))))"
   ]
  },
  {
   "cell_type": "code",
   "execution_count": 6,
   "metadata": {},
   "outputs": [
    {
     "data": {
      "text/html": [
       "<div>\n",
       "<style scoped>\n",
       "    .dataframe tbody tr th:only-of-type {\n",
       "        vertical-align: middle;\n",
       "    }\n",
       "\n",
       "    .dataframe tbody tr th {\n",
       "        vertical-align: top;\n",
       "    }\n",
       "\n",
       "    .dataframe thead th {\n",
       "        text-align: right;\n",
       "    }\n",
       "</style>\n",
       "<table border=\"1\" class=\"dataframe\">\n",
       "  <thead>\n",
       "    <tr style=\"text-align: right;\">\n",
       "      <th></th>\n",
       "      <th>Unnamed: 0</th>\n",
       "      <th>name</th>\n",
       "      <th>symbol</th>\n",
       "      <th>date</th>\n",
       "      <th>open</th>\n",
       "      <th>high</th>\n",
       "      <th>low</th>\n",
       "      <th>settle</th>\n",
       "      <th>volume</th>\n",
       "    </tr>\n",
       "  </thead>\n",
       "  <tbody>\n",
       "  </tbody>\n",
       "</table>\n",
       "</div>"
      ],
      "text/plain": [
       "Empty DataFrame\n",
       "Columns: [Unnamed: 0, name, symbol, date, open, high, low, settle, volume]\n",
       "Index: []"
      ]
     },
     "execution_count": 6,
     "metadata": {},
     "output_type": "execute_result"
    }
   ],
   "source": [
    "futs[futs.name == 'CME Euro FX Futures #1 (EC1) - Front Month - Unadjusted Prices, Roll on Open Interest Switch'].head()"
   ]
  },
  {
   "cell_type": "code",
   "execution_count": 8,
   "metadata": {},
   "outputs": [
    {
     "data": {
      "text/plain": [
       "[]"
      ]
     },
     "execution_count": 8,
     "metadata": {},
     "output_type": "execute_result"
    }
   ],
   "source": [
    "\n",
    "sorted(futs[futs.name == 'CME Euro FX Futures #1 (EC1) - Front Month - Backwards Panama Adjusted Prices, Roll on Open Interest Switch'].date)"
   ]
  },
  {
   "cell_type": "code",
   "execution_count": 9,
   "metadata": {},
   "outputs": [
    {
     "data": {
      "text/plain": [
       "[]"
      ]
     },
     "execution_count": 9,
     "metadata": {},
     "output_type": "execute_result"
    }
   ],
   "source": [
    "xxx = futs[futs.symbol=='EC']\n",
    "sorted(list(set(xxx[xxx.date=='2015-06-18'].name)))"
   ]
  },
  {
   "cell_type": "code",
   "execution_count": 10,
   "metadata": {},
   "outputs": [],
   "source": [
    "instruments = [\n",
    "'CBOT Wheat Futures #2 (W2) - Backwards Panama Adjusted Prices, Roll on Open Interest Switch',\n",
    "'CBOT Soybeans Futures #2 (S2) - Backwards Panama Adjusted Prices, Roll on Open Interest Switch',\n",
    "'CBOT Corn Futures #2 (C2) - Backwards Panama Adjusted Prices, Roll on Open Interest Switch',\n",
    "'CBOT 30-year US Treasury Bond Futures #1 (US1) - Front Month - Backwards Panama Adjusted Prices, Roll on Open Interest Switch',\n",
    "'CBOT 10-year US Treasury Note Futures #1 (TY1) - Front Month - Backwards Panama Adjusted Prices, Roll on Open Interest Switch',\n",
    "'CME Japanese Yen JPY Futures #1 (JY1) - Front Month - Backwards Panama Adjusted Prices, Roll on Open Interest Switch',\n",
    "'CME Mexican Peso Futures #1 (MP1) - Front Month - Backwards Panama Adjusted Prices, Roll on Open Interest Switch',\n",
    "'NYMEX Gold Futures #1 (GC1) - Front Month - Backwards Panama Adjusted Prices, Roll on Open Interest Switch',\n",
    "'NYMEX WTI Crude Oil Futures #1 (CL1) - Front Month - Backwards Panama Adjusted Prices, Roll on Open Interest Switch',\n",
    "'CME S&P 500 Index E-Mini Futures #1 (ES1) - Front Month - Backwards Panama Adjusted Prices, Roll on Open Interest Switch',\n",
    "'CME NASDAQ 100 Index Mini Futures #1 (NQ1) - Front Month - Backwards Panama Adjusted Prices, Roll on Open Interest Switch',\n",
    "'CME Euro FX Futures #1 (EC1) - Front Month - Backwards Panama Adjusted Prices, Roll on Open Interest Switch',\n",
    "'CME Canadian Dollar CAD Futures #1 (CD1) - Front Month - Backwards Panama Adjusted Prices, Roll on Open Interest Switch',\n",
    "'EUREX Euro-Bund Futures #1 (FGBL1) - Front Month - Backwards Panama Adjusted Prices, Roll on Open Interest Switch',\n",
    "'EUREX DAX Futures #1 (FDAX1) - Front Month - Backwards Panama Adjusted Prices, Roll on Open Interest Switch']"
   ]
  },
  {
   "cell_type": "code",
   "execution_count": 11,
   "metadata": {},
   "outputs": [],
   "source": [
    "db = futs[futs.name.isin(instruments)]"
   ]
  },
  {
   "cell_type": "code",
   "execution_count": 12,
   "metadata": {},
   "outputs": [],
   "source": [
    "db_final = db[['name', 'symbol', 'date', 'open', 'high', 'low', 'settle', 'volume']].sort_values(by=['name', 'date']).reset_index(drop=True)"
   ]
  },
  {
   "cell_type": "code",
   "execution_count": 13,
   "metadata": {},
   "outputs": [
    {
     "data": {
      "text/plain": [
       "[]"
      ]
     },
     "execution_count": 13,
     "metadata": {},
     "output_type": "execute_result"
    }
   ],
   "source": [
    "list(set(db_final.name))"
   ]
  },
  {
   "cell_type": "code",
   "execution_count": 14,
   "metadata": {},
   "outputs": [],
   "source": [
    "db_final_name = db_final.name.str.rstrip(' - Front Month - Backwards Panama Adjusted Prices, Roll on Open Interest Switch')"
   ]
  },
  {
   "cell_type": "code",
   "execution_count": 15,
   "metadata": {},
   "outputs": [
    {
     "data": {
      "text/plain": [
       "[]"
      ]
     },
     "execution_count": 15,
     "metadata": {},
     "output_type": "execute_result"
    }
   ],
   "source": [
    "list(set(db_final_name))"
   ]
  }
 ],
 "metadata": {
  "kernelspec": {
   "display_name": "Python 3",
   "language": "python",
   "name": "python3"
  },
  "language_info": {
   "codemirror_mode": {
    "name": "ipython",
    "version": 3
   },
   "file_extension": ".py",
   "mimetype": "text/x-python",
   "name": "python",
   "nbconvert_exporter": "python",
   "pygments_lexer": "ipython3",
   "version": "3.7.4"
  }
 },
 "nbformat": 4,
 "nbformat_minor": 2
}
