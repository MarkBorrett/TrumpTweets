{
 "cells": [
  {
   "cell_type": "code",
   "execution_count": 13,
   "metadata": {},
   "outputs": [],
   "source": [
    "import sys\n",
    "sys.path.append('..') #to add top-level to path\n",
    "\n",
    "import pandas as pd\n",
    "import numpy as np\n",
    "from datetime import datetime\n",
    "from pandas.tseries.offsets import BDay\n",
    "from dateutil.relativedelta import relativedelta\n",
    "from tqdm import tqdm\n",
    "import re\n",
    "import os\n",
    "import pickle\n",
    "import logging\n",
    "\n",
    "from modules.opts import FuturesCurve\n",
    "\n",
    "import warnings\n",
    "warnings.filterwarnings(\"ignore\")\n",
    "\n"
   ]
  },
  {
   "cell_type": "markdown",
   "metadata": {},
   "source": [
    "# Settlement file scraping"
   ]
  },
  {
   "cell_type": "markdown",
   "metadata": {},
   "source": [
    "This notebook scrapes over 1300 CME settlement files related to agricultural products, and creates a dictionary with all relevant information to caculate volatility and gamma related features in the **options.ipynb** notebook. The output files from this notebook are 3 pickle files, **corn_dict.pickle**, **wheat.pickle**, and **wheat_dict.pickle** in **data/**  ."
   ]
  },
  {
   "cell_type": "markdown",
   "metadata": {},
   "source": [
    "List of all Settlements archives"
   ]
  },
  {
   "cell_type": "code",
   "execution_count": 2,
   "metadata": {},
   "outputs": [
    {
     "data": {
      "text/plain": [
       "['10-Year T-Note_10_4_2019_int_settlements.txt',\n",
       " '10-Year T-Note_10_5_2017_int_settlements.txt',\n",
       " '10-Year T-Note_11_9_2017_int_settlements.txt',\n",
       " '10-Year T-Note_12_12_2018_int_settlements.txt',\n",
       " '10-Year T-Note_12_3_2019_int_settlements.txt',\n",
       " '10-Year T-Note_13_6_2017_int_settlements.txt',\n",
       " '10-Year T-Note_14_6_2017_int_settlements.txt',\n",
       " '10-Year T-Note_14_9_2017_int_settlements.txt',\n",
       " '10-Year T-Note_15_2_2018_int_settlements.txt',\n",
       " '10-Year T-Note_16_10_2017_int_settlements.txt']"
      ]
     },
     "execution_count": 2,
     "metadata": {},
     "output_type": "execute_result"
    }
   ],
   "source": [
    "lst =os.listdir('../data/input_data/settlements')\n",
    "lst[0:10]"
   ]
  },
  {
   "cell_type": "markdown",
   "metadata": {},
   "source": [
    "Getting first entry in file name to identify agricultural contacts"
   ]
  },
  {
   "cell_type": "code",
   "execution_count": 3,
   "metadata": {},
   "outputs": [
    {
     "data": {
      "text/plain": [
       "['16', '13', '22', 'S&P', '25', '11', '7', 'Soybeans', '21', '1']"
      ]
     },
     "execution_count": 3,
     "metadata": {},
     "output_type": "execute_result"
    }
   ],
   "source": [
    "archs = pd.DataFrame([l.split('_') for l in lst])\n",
    "list(set(archs[0]))[0:10]"
   ]
  },
  {
   "cell_type": "markdown",
   "metadata": {},
   "source": [
    "Identifying agricultural contracts and separating by asset, sorting by date"
   ]
  },
  {
   "cell_type": "code",
   "execution_count": 4,
   "metadata": {},
   "outputs": [
    {
     "name": "stdout",
     "output_type": "stream",
     "text": [
      "# of contracts corn:  457\n",
      "# of contracts wheat:  424\n",
      "# of contracts soybeans:  440\n"
     ]
    },
    {
     "data": {
      "text/plain": [
       "'corn_21_9_2016_settlements.txt'"
      ]
     },
     "execution_count": 4,
     "metadata": {},
     "output_type": "execute_result"
    }
   ],
   "source": [
    "archs_corn = archs[ (archs[0]=='Corn') | (archs[0]=='corn') ]\n",
    "archs_wheat = archs[ (archs[0]=='Wheat') | (archs[0]=='wheat') ]\n",
    "archs_soybeans = archs[ (archs[0]=='Soybeans') | (archs[0]=='soybeans') ]\n",
    "\n",
    "archs_corn[[1,2,3]] = archs_corn[[1,2,3]].astype('int')\n",
    "archs_wheat[[1,2,3]] = archs_wheat[[1,2,3]].astype('int')\n",
    "archs_soybeans[[1,2,3]] = archs_soybeans[[1,2,3]].astype('int')\n",
    "\n",
    "arches_corn = archs_corn.sort_values(by=[3,2,1])\n",
    "arches_wheat = archs_wheat.sort_values(by=[3,2,1])\n",
    "arches_soybeans = archs_soybeans.sort_values(by=[3,2,1])\n",
    "\n",
    "print(\"# of contracts corn: \",arches_corn.shape[0])\n",
    "print(\"# of contracts wheat: \",arches_wheat.shape[0])\n",
    "print(\"# of contracts soybeans: \",arches_soybeans.shape[0])\n",
    "\n",
    "#first Corn contract\n",
    "lst[arches_corn.index[0]]"
   ]
  },
  {
   "cell_type": "markdown",
   "metadata": {},
   "source": [
    "Creating a dict with keys the months in the Settlements file format, and values as contract expirations in datetime format. Agricultural products expire on the 14th of every month, or the previous business day if a weekend/holiday"
   ]
  },
  {
   "cell_type": "code",
   "execution_count": 5,
   "metadata": {},
   "outputs": [
    {
     "data": {
      "text/plain": [
       "Timestamp('2016-01-14 00:00:00')"
      ]
     },
     "execution_count": 5,
     "metadata": {},
     "output_type": "execute_result"
    }
   ],
   "source": [
    "mon = ['JAN','FEB',\"MAR\",'APR','MAY','JUN','JLY','AUG','SEP','OCT','NOV','DEC']\n",
    "dummy_dict = {i : mon[i-1] for i in range(1,13)}\n",
    "exp_dict = {}\n",
    "for year in [16,17,18,19,20]:\n",
    "    for month in range(1,13):\n",
    "        exp_dict[mon[month - 1]+str(year)] = datetime(2000 + year, month, 15) - BDay(1)\n",
    "\n",
    "exp_dict['JAN16']"
   ]
  },
  {
   "cell_type": "code",
   "execution_count": 16,
   "metadata": {},
   "outputs": [],
   "source": [
    "def scrape_settlements(asset):\n",
    "    \"\"\"\n",
    "    This function scrapes all agricultural settlement files and obtains a dictionary\n",
    "    :param asset: Instrument to scrape, can be 'Corn', 'Wheat', or 'Soybeans'\n",
    "    :return asset_full_dict: a dictionary with keys as datetime dates, those of the related\n",
    "        settlement file date. The values of the dictionary are two dictionaries, one with key\n",
    "        'Call' and one with key 'Put'. The values for each of these is 5 dictionaries, with keys\n",
    "        0,1,..,4, with settlement information for a particular options contract with a particular \n",
    "        expiration date\n",
    "    \"\"\"\n",
    "    \n",
    "    # Futures curve for futures prices under 2 months in case settlement file doesn't \n",
    "    # have futures contract for an options expiry \n",
    "    ft = FuturesCurve()\n",
    "    asset_full_dict = {}\n",
    "    \n",
    "    # Indices for a specific asset's settlement files\n",
    "    if asset == 'Corn':\n",
    "        arches = arches_corn\n",
    "    elif asset == 'Wheat':\n",
    "        arches = arches_wheat\n",
    "    elif asset == 'Soybeans':\n",
    "        arches = arches_soybeans\n",
    "        \n",
    "    # List with dates from each settlement file name in datetime\n",
    "    dates_list = []\n",
    "    for ind in arches.index:\n",
    "        dates_list.append(datetime(int(arches[3].loc[ind]), \n",
    "                               int(arches[2].loc[ind]), int(arches[1].loc[ind])))    \n",
    "    \n",
    "    # Loop through all files\n",
    "    for arch_ind, arch in enumerate(tqdm(arches.index)):\n",
    "        \n",
    "        # If there's any unidentified error, for a particular date (could be corrupt file or other)\n",
    "        # ignore that date\n",
    "        try:\n",
    "        \n",
    "            date_dict = {}\n",
    "            doc_date = dates_list[arch_ind]\n",
    "            doc = []\n",
    "            with open('../data/input_data/settlements/' + lst[arch]) as f:\n",
    "                for row in f:\n",
    "                    doc.append(row) \n",
    "\n",
    "            #Identifying options contracts by code\n",
    "            if asset == 'Corn':\n",
    "                cont_name = 'PY'\n",
    "            elif asset == 'Wheat':\n",
    "                cont_name = 'WZ'\n",
    "            elif asset == \"Soybeans\":\n",
    "                cont_name = 'CZO'\n",
    "\n",
    "            # Finding indices inside the document for each option expiration for lead contracts\n",
    "            py = [d.startswith(cont_name) for d in doc] \n",
    "            py_index = pd.DataFrame(doc)[py].index\n",
    "\n",
    "            # Putting document in a DataFrame\n",
    "            text = [re.sub(\"\\s+\", \",\", d.strip()).split(',') for d in doc]\n",
    "            df = pd.DataFrame(text)\n",
    "            df = df[[0,1,2,3,4,8,9,10]]\n",
    "            df['expiration'] = np.zeros(df.shape[0])\n",
    "            df['future'] = np.zeros(df.shape[0])\n",
    "            df['date'] = dates_list[arch_ind]\n",
    "\n",
    "            # Converting column 8 (yesterday's settlement prices) into a float with same format as strike column, \n",
    "            # or empty string if non numerical data\n",
    "            for ind in df.index:\n",
    "                num = str(df[[8]].iloc[ind]).split()[1].split('\\'')\n",
    "                try:\n",
    "                    if num[0] == '':\n",
    "                        num[0] = 0\n",
    "                    num = 10*float(num[0]) + float(num[1])\n",
    "                    df[8].loc[ind] = num\n",
    "                except:\n",
    "                    pass\n",
    "\n",
    "            # Identifying futures prices for the day\n",
    "            futs = df[[0,8]][1:6]\n",
    "            futs = futs.set_index(0)\n",
    "\n",
    "            # Identifying if call or put\n",
    "            py_index_call = py_index[df.iloc[py_index][4] == 'CALL']\n",
    "            py_index_put = py_index[df.iloc[py_index][4] == 'PUT']\n",
    "\n",
    "            # Looping through both calls and puts for a specific options code\n",
    "            for py_i, py_ind in enumerate([py_index_call, py_index_put]):\n",
    "                vol_dict = {}\n",
    "\n",
    "                # Focus only on the first 5 expirations date for each contract\n",
    "                for i in range(5):\n",
    "                    last_ind = py_ind[i]\n",
    "                    exp = str(df.iloc[py_ind[i]][1])\n",
    "\n",
    "                    # Only look at options with at least 7 business days to expiration to avoid\n",
    "                    # implied volatility calculation issues\n",
    "                    if exp_dict[exp] >= doc_date + BDay(7):\n",
    "\n",
    "                        # Check if we have a futures price for a particular options expiration\n",
    "                        if exp in futs.index:\n",
    "                            while df[0][last_ind + 1].isnumeric():\n",
    "                                last_ind += 1 \n",
    "                            df.expiration[py_index[i]:last_ind] = exp_dict[exp]\n",
    "                            df.future = float(futs.loc[exp])\n",
    "                            \n",
    "                            #Dropping all NAs as they can have stale (wrong) settlement prices \n",
    "                            vol_dict[i] = df[py_ind[i]:last_ind][1:].dropna()\n",
    "                            vol_dict[i] = vol_dict[i][[0,8,9,10,'expiration','future','date']]\n",
    "                            vol_dict[i] = vol_dict[i].rename(columns={0:'strike',\n",
    "                                                                      8:'settle',\n",
    "                                                                      9:'volume', \n",
    "                                                                      10:'oi'})\n",
    "                            vol_dict[i].strike = vol_dict[i].strike.astype('float')\n",
    "                            vol_dict[i].settle = vol_dict[i].settle.astype('float')\n",
    "                            vol_dict[i].volume = vol_dict[i].volume.astype('int')\n",
    "                            vol_dict[i].oi = vol_dict[i].oi.astype('int')\n",
    "\n",
    "                        # If we don't have the futures price for a particular option, get it from\n",
    "                        # FuturesCurve by interpolation if under two months\n",
    "                        elif exp_dict[exp] <= pd.to_datetime(doc_date + relativedelta(months = 2)- BDay(2)):\n",
    "                            if asset == 'Corn':\n",
    "                                fut_code = 'C'\n",
    "                            elif asset == 'Wheat':\n",
    "                                fut_code = 'W'\n",
    "                            else:\n",
    "                                fut_code = 'S'\n",
    "\n",
    "                            # If there's an key error retreiving an interpolated futures price, \n",
    "                            # ignore options contract\n",
    "                            try:\n",
    "                                # Get price from FuturesCurve\n",
    "                                fut_px = ft.get(fut_code, doc_date - BDay(1), exp_dict[exp])\n",
    "                                while df[0][last_ind + 1].isnumeric():\n",
    "                                    last_ind += 1 \n",
    "                                df.expiration[py_index[i]:last_ind] = exp_dict[exp]\n",
    "                                # 10 * adjustment to match strike format\n",
    "                                df.future = 10*fut_px\n",
    "                                vol_dict[i] = df[py_ind[i]:last_ind][1:].dropna()\n",
    "                                #vol_dict[i] = df[py_ind[i]:last_ind][1:].fillna(0)\n",
    "                                vol_dict[i] = vol_dict[i][[0,8,9, 10,'expiration','future','date']]\n",
    "                                vol_dict[i] = vol_dict[i].rename(columns={0:'strike',\n",
    "                                                                          8:'settle', \n",
    "                                                                          9:'volume',\n",
    "                                                                          10:'oi'})\n",
    "                                vol_dict[i].strike = vol_dict[i].strike.astype('float')\n",
    "                                vol_dict[i].settle = vol_dict[i].settle.astype('float')\n",
    "                                vol_dict[i].volume = vol_dict[i].volume.astype('int')\n",
    "                                vol_dict[i].oi = vol_dict[i].oi.astype('int')\n",
    "                            except KeyError:\n",
    "                                vol_dict[i] = ''\n",
    "                        else:\n",
    "                            vol_dict[i] = ''\n",
    "                    # In any other case, return empty string for an options contract\n",
    "                    else:\n",
    "                        vol_dict[i] = ''\n",
    "\n",
    "                if py_i == 0:\n",
    "                    date_dict['Call'] = vol_dict\n",
    "                else:\n",
    "                    date_dict['Put'] = vol_dict\n",
    "            asset_full_dict[doc_date] = date_dict\n",
    "        except Exception as e:\n",
    "            logging.error(e,exc_info=True)\n",
    "            print('Error with archive : {} in arches.index', arch)\n",
    "\n",
    "    return asset_full_dict\n",
    "\n"
   ]
  },
  {
   "cell_type": "code",
   "execution_count": null,
   "metadata": {
    "scrolled": true
   },
   "outputs": [],
   "source": [
    "corn_dict = scrape_settlements('Corn')"
   ]
  },
  {
   "cell_type": "code",
   "execution_count": 10,
   "metadata": {},
   "outputs": [
    {
     "ename": "IndexError",
     "evalue": "list index out of range",
     "output_type": "error",
     "traceback": [
      "\u001b[1;31m---------------------------------------------------------------------------\u001b[0m",
      "\u001b[1;31mIndexError\u001b[0m                                Traceback (most recent call last)",
      "\u001b[1;32m<ipython-input-10-2983c1c58b45>\u001b[0m in \u001b[0;36m<module>\u001b[1;34m\u001b[0m\n\u001b[1;32m----> 1\u001b[1;33m \u001b[0mcorn_dict\u001b[0m\u001b[1;33m[\u001b[0m\u001b[0mlist\u001b[0m\u001b[1;33m(\u001b[0m\u001b[0mcorn_dict\u001b[0m\u001b[1;33m.\u001b[0m\u001b[0mkeys\u001b[0m\u001b[1;33m(\u001b[0m\u001b[1;33m)\u001b[0m\u001b[1;33m)\u001b[0m\u001b[1;33m[\u001b[0m\u001b[1;36m1\u001b[0m\u001b[1;33m]\u001b[0m\u001b[1;33m]\u001b[0m\u001b[1;33m[\u001b[0m\u001b[1;34m'Call'\u001b[0m\u001b[1;33m]\u001b[0m\u001b[1;33m[\u001b[0m\u001b[1;36m3\u001b[0m\u001b[1;33m]\u001b[0m\u001b[1;33m\u001b[0m\u001b[1;33m\u001b[0m\u001b[0m\n\u001b[0m",
      "\u001b[1;31mIndexError\u001b[0m: list index out of range"
     ]
    }
   ],
   "source": [
    "corn_dict[list(corn_dict.keys())[1]]['Call'][3]"
   ]
  },
  {
   "cell_type": "code",
   "execution_count": 77,
   "metadata": {},
   "outputs": [
    {
     "name": "stderr",
     "output_type": "stream",
     "text": [
      " 87%|████████▋ | 368/424 [18:34<01:42,  1.83s/it]"
     ]
    },
    {
     "name": "stdout",
     "output_type": "stream",
     "text": [
      "Error with archive : {} in arches.index 1504\n",
      "Error with archive : {} in arches.index 727\n"
     ]
    },
    {
     "name": "stderr",
     "output_type": "stream",
     "text": [
      "100%|██████████| 424/424 [19:58<00:00,  2.83s/it]\n"
     ]
    }
   ],
   "source": [
    "wheat_dict = scrape_settlements('Wheat')"
   ]
  },
  {
   "cell_type": "code",
   "execution_count": 78,
   "metadata": {},
   "outputs": [
    {
     "name": "stderr",
     "output_type": "stream",
     "text": [
      " 87%|████████▋ | 382/440 [19:21<02:33,  2.64s/it]"
     ]
    },
    {
     "name": "stdout",
     "output_type": "stream",
     "text": [
      "Error with archive : {} in arches.index 951\n",
      "Error with archive : {} in arches.index 1698\n"
     ]
    },
    {
     "name": "stderr",
     "output_type": "stream",
     "text": [
      "100%|██████████| 440/440 [21:30<00:00,  2.93s/it]\n"
     ]
    }
   ],
   "source": [
    "soybeans_dict = scrape_settlements('Soybeans')"
   ]
  },
  {
   "cell_type": "code",
   "execution_count": 79,
   "metadata": {},
   "outputs": [],
   "source": [
    "with open('../data/intermediate_data/corn_dict.pickle', 'wb') as handle:\n",
    "    pickle.dump(corn_dict, handle)\n",
    "with open('data/intermediate_data/wheat_dict.pickle', 'wb') as handle:\n",
    "    pickle.dump(wheat_dict, handle)\n",
    "with open('data/intermediate_data/soybeans_dict.pickle', 'wb') as handle:\n",
    "    pickle.dump(soybeans_dict, handle)"
   ]
  }
 ],
 "metadata": {
  "kernelspec": {
   "display_name": "Python 3",
   "language": "python",
   "name": "python3"
  },
  "language_info": {
   "codemirror_mode": {
    "name": "ipython",
    "version": 3
   },
   "file_extension": ".py",
   "mimetype": "text/x-python",
   "name": "python",
   "nbconvert_exporter": "python",
   "pygments_lexer": "ipython3",
   "version": "3.6.8"
  }
 },
 "nbformat": 4,
 "nbformat_minor": 2
}
