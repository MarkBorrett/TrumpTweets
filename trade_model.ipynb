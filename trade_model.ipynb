{
 "cells": [
  {
   "cell_type": "code",
   "execution_count": 1,
   "metadata": {},
   "outputs": [],
   "source": [
    "import pickle\n",
    "import pandas as pd\n",
    "import numpy as np\n",
    "import re\n",
    "#import graphviz\n",
    "from sklearn.tree import DecisionTreeClassifier, export_graphviz\n",
    "from sklearn.ensemble import RandomForestClassifier, AdaBoostClassifier\n",
    "from  sklearn.linear_model import LogisticRegression\n",
    "from sklearn.model_selection import train_test_split\n",
    "import matplotlib.pyplot as plt"
   ]
  },
  {
   "cell_type": "code",
   "execution_count": 2,
   "metadata": {},
   "outputs": [],
   "source": [
    "futures_close = pd.read_csv('futures_close.csv')"
   ]
  },
  {
   "cell_type": "code",
   "execution_count": 3,
   "metadata": {},
   "outputs": [
    {
     "data": {
      "text/html": [
       "<div>\n",
       "<style scoped>\n",
       "    .dataframe tbody tr th:only-of-type {\n",
       "        vertical-align: middle;\n",
       "    }\n",
       "\n",
       "    .dataframe tbody tr th {\n",
       "        vertical-align: top;\n",
       "    }\n",
       "\n",
       "    .dataframe thead th {\n",
       "        text-align: right;\n",
       "    }\n",
       "</style>\n",
       "<table border=\"1\" class=\"dataframe\">\n",
       "  <thead>\n",
       "    <tr style=\"text-align: right;\">\n",
       "      <th></th>\n",
       "      <th>ES</th>\n",
       "      <th>NQ</th>\n",
       "      <th>CD</th>\n",
       "      <th>EC</th>\n",
       "      <th>JY</th>\n",
       "      <th>MP</th>\n",
       "      <th>TY</th>\n",
       "      <th>US</th>\n",
       "      <th>C</th>\n",
       "      <th>S</th>\n",
       "      <th>W</th>\n",
       "      <th>CL</th>\n",
       "      <th>GC</th>\n",
       "    </tr>\n",
       "    <tr>\n",
       "      <th>date</th>\n",
       "      <th></th>\n",
       "      <th></th>\n",
       "      <th></th>\n",
       "      <th></th>\n",
       "      <th></th>\n",
       "      <th></th>\n",
       "      <th></th>\n",
       "      <th></th>\n",
       "      <th></th>\n",
       "      <th></th>\n",
       "      <th></th>\n",
       "      <th></th>\n",
       "      <th></th>\n",
       "    </tr>\n",
       "  </thead>\n",
       "  <tbody>\n",
       "    <tr>\n",
       "      <td>2014-01-02</td>\n",
       "      <td>1756.00</td>\n",
       "      <td>3701.00</td>\n",
       "      <td>0.94065</td>\n",
       "      <td>1.4714</td>\n",
       "      <td>10352.5</td>\n",
       "      <td>62420.0</td>\n",
       "      <td>113.98436</td>\n",
       "      <td>119.21875</td>\n",
       "      <td>640.00</td>\n",
       "      <td>1233.50</td>\n",
       "      <td>963.00</td>\n",
       "      <td>116.42</td>\n",
       "      <td>1330.6</td>\n",
       "    </tr>\n",
       "    <tr>\n",
       "      <td>2014-01-03</td>\n",
       "      <td>1755.00</td>\n",
       "      <td>3673.25</td>\n",
       "      <td>0.94465</td>\n",
       "      <td>1.4660</td>\n",
       "      <td>10355.5</td>\n",
       "      <td>62870.0</td>\n",
       "      <td>113.93749</td>\n",
       "      <td>119.12500</td>\n",
       "      <td>642.75</td>\n",
       "      <td>1234.50</td>\n",
       "      <td>970.50</td>\n",
       "      <td>114.94</td>\n",
       "      <td>1344.0</td>\n",
       "    </tr>\n",
       "    <tr>\n",
       "      <td>2014-01-06</td>\n",
       "      <td>1750.25</td>\n",
       "      <td>3659.50</td>\n",
       "      <td>0.94135</td>\n",
       "      <td>1.4697</td>\n",
       "      <td>10391.5</td>\n",
       "      <td>62870.0</td>\n",
       "      <td>114.23436</td>\n",
       "      <td>119.62500</td>\n",
       "      <td>646.75</td>\n",
       "      <td>1237.75</td>\n",
       "      <td>970.50</td>\n",
       "      <td>114.41</td>\n",
       "      <td>1343.4</td>\n",
       "    </tr>\n",
       "    <tr>\n",
       "      <td>2014-01-07</td>\n",
       "      <td>1760.25</td>\n",
       "      <td>3690.50</td>\n",
       "      <td>0.93175</td>\n",
       "      <td>1.4679</td>\n",
       "      <td>10370.5</td>\n",
       "      <td>63245.0</td>\n",
       "      <td>114.45311</td>\n",
       "      <td>119.90625</td>\n",
       "      <td>644.75</td>\n",
       "      <td>1235.00</td>\n",
       "      <td>967.00</td>\n",
       "      <td>114.65</td>\n",
       "      <td>1335.0</td>\n",
       "    </tr>\n",
       "    <tr>\n",
       "      <td>2014-01-08</td>\n",
       "      <td>1762.00</td>\n",
       "      <td>3706.50</td>\n",
       "      <td>0.92825</td>\n",
       "      <td>1.4644</td>\n",
       "      <td>10341.5</td>\n",
       "      <td>62720.0</td>\n",
       "      <td>113.87499</td>\n",
       "      <td>119.37500</td>\n",
       "      <td>636.25</td>\n",
       "      <td>1226.75</td>\n",
       "      <td>953.75</td>\n",
       "      <td>113.34</td>\n",
       "      <td>1330.9</td>\n",
       "    </tr>\n",
       "  </tbody>\n",
       "</table>\n",
       "</div>"
      ],
      "text/plain": [
       "                 ES       NQ       CD      EC       JY       MP         TY  \\\n",
       "date                                                                         \n",
       "2014-01-02  1756.00  3701.00  0.94065  1.4714  10352.5  62420.0  113.98436   \n",
       "2014-01-03  1755.00  3673.25  0.94465  1.4660  10355.5  62870.0  113.93749   \n",
       "2014-01-06  1750.25  3659.50  0.94135  1.4697  10391.5  62870.0  114.23436   \n",
       "2014-01-07  1760.25  3690.50  0.93175  1.4679  10370.5  63245.0  114.45311   \n",
       "2014-01-08  1762.00  3706.50  0.92825  1.4644  10341.5  62720.0  113.87499   \n",
       "\n",
       "                   US       C        S       W      CL      GC  \n",
       "date                                                            \n",
       "2014-01-02  119.21875  640.00  1233.50  963.00  116.42  1330.6  \n",
       "2014-01-03  119.12500  642.75  1234.50  970.50  114.94  1344.0  \n",
       "2014-01-06  119.62500  646.75  1237.75  970.50  114.41  1343.4  \n",
       "2014-01-07  119.90625  644.75  1235.00  967.00  114.65  1335.0  \n",
       "2014-01-08  119.37500  636.25  1226.75  953.75  113.34  1330.9  "
      ]
     },
     "execution_count": 3,
     "metadata": {},
     "output_type": "execute_result"
    }
   ],
   "source": [
    "futures_close.index = pd.to_datetime(futures_close.date)\n",
    "futures_close = futures_close.drop(['date'],axis=1)\n",
    "futures_close.head()"
   ]
  },
  {
   "cell_type": "code",
   "execution_count": 5,
   "metadata": {},
   "outputs": [],
   "source": [
    "pickle_in = open('vol.pkl',\"rb\")\n",
    "vol_pd = pickle.load(pickle_in)\n",
    "pickle_in.close()\n",
    "#vol_pd.columns"
   ]
  },
  {
   "cell_type": "code",
   "execution_count": 12,
   "metadata": {},
   "outputs": [],
   "source": [
    "instrument_list = ['ES', 'NQ', 'CD', 'EC', 'JY', 'MP', 'TY', 'US', 'C', 'S', 'W', 'CL', 'GC']"
   ]
  },
  {
   "cell_type": "code",
   "execution_count": 13,
   "metadata": {},
   "outputs": [
    {
     "ename": "AttributeError",
     "evalue": "'dict' object has no attribute 'columns'",
     "output_type": "error",
     "traceback": [
      "\u001b[1;31m---------------------------------------------------------------------------\u001b[0m",
      "\u001b[1;31mAttributeError\u001b[0m                            Traceback (most recent call last)",
      "\u001b[1;32m<ipython-input-13-9c6050169b05>\u001b[0m in \u001b[0;36m<module>\u001b[1;34m\u001b[0m\n\u001b[1;32m----> 1\u001b[1;33m \u001b[0mvol_dict\u001b[0m \u001b[1;33m=\u001b[0m \u001b[1;33m{\u001b[0m\u001b[0minst\u001b[0m\u001b[1;33m:\u001b[0m\u001b[1;33m[\u001b[0m\u001b[0mkey\u001b[0m \u001b[1;32mfor\u001b[0m \u001b[0mkey\u001b[0m \u001b[1;32min\u001b[0m \u001b[0mvol_pd\u001b[0m\u001b[1;33m.\u001b[0m\u001b[0mcolumns\u001b[0m \u001b[1;32mif\u001b[0m \u001b[0mre\u001b[0m\u001b[1;33m.\u001b[0m\u001b[0mmatch\u001b[0m\u001b[1;33m(\u001b[0m\u001b[1;34mr\"{}+\"\u001b[0m\u001b[1;33m.\u001b[0m\u001b[0mformat\u001b[0m\u001b[1;33m(\u001b[0m\u001b[0minst\u001b[0m\u001b[1;33m)\u001b[0m\u001b[1;33m,\u001b[0m\u001b[0mkey\u001b[0m\u001b[1;33m)\u001b[0m \u001b[1;33m]\u001b[0m \u001b[1;32mfor\u001b[0m \u001b[0minst\u001b[0m \u001b[1;32min\u001b[0m \u001b[0minstrument_list\u001b[0m\u001b[1;33m}\u001b[0m\u001b[1;33m\u001b[0m\u001b[1;33m\u001b[0m\u001b[0m\n\u001b[0m\u001b[0;32m      2\u001b[0m \u001b[0mvol_dict\u001b[0m\u001b[1;33m[\u001b[0m\u001b[1;34m'ES'\u001b[0m\u001b[1;33m]\u001b[0m\u001b[1;33m\u001b[0m\u001b[1;33m\u001b[0m\u001b[0m\n",
      "\u001b[1;32m<ipython-input-13-9c6050169b05>\u001b[0m in \u001b[0;36m<dictcomp>\u001b[1;34m(.0)\u001b[0m\n\u001b[1;32m----> 1\u001b[1;33m \u001b[0mvol_dict\u001b[0m \u001b[1;33m=\u001b[0m \u001b[1;33m{\u001b[0m\u001b[0minst\u001b[0m\u001b[1;33m:\u001b[0m\u001b[1;33m[\u001b[0m\u001b[0mkey\u001b[0m \u001b[1;32mfor\u001b[0m \u001b[0mkey\u001b[0m \u001b[1;32min\u001b[0m \u001b[0mvol_pd\u001b[0m\u001b[1;33m.\u001b[0m\u001b[0mcolumns\u001b[0m \u001b[1;32mif\u001b[0m \u001b[0mre\u001b[0m\u001b[1;33m.\u001b[0m\u001b[0mmatch\u001b[0m\u001b[1;33m(\u001b[0m\u001b[1;34mr\"{}+\"\u001b[0m\u001b[1;33m.\u001b[0m\u001b[0mformat\u001b[0m\u001b[1;33m(\u001b[0m\u001b[0minst\u001b[0m\u001b[1;33m)\u001b[0m\u001b[1;33m,\u001b[0m\u001b[0mkey\u001b[0m\u001b[1;33m)\u001b[0m \u001b[1;33m]\u001b[0m \u001b[1;32mfor\u001b[0m \u001b[0minst\u001b[0m \u001b[1;32min\u001b[0m \u001b[0minstrument_list\u001b[0m\u001b[1;33m}\u001b[0m\u001b[1;33m\u001b[0m\u001b[1;33m\u001b[0m\u001b[0m\n\u001b[0m\u001b[0;32m      2\u001b[0m \u001b[0mvol_dict\u001b[0m\u001b[1;33m[\u001b[0m\u001b[1;34m'ES'\u001b[0m\u001b[1;33m]\u001b[0m\u001b[1;33m\u001b[0m\u001b[1;33m\u001b[0m\u001b[0m\n",
      "\u001b[1;31mAttributeError\u001b[0m: 'dict' object has no attribute 'columns'"
     ]
    }
   ],
   "source": [
    "vol_dict = {inst:[key for key in vol_pd.columns if re.match(r\"{}+\".format(inst),key) ] for inst in instrument_list}\n",
    "vol_dict['ES']"
   ]
  },
  {
   "cell_type": "code",
   "execution_count": 15,
   "metadata": {},
   "outputs": [],
   "source": [
    "vol_dict = vol_pd"
   ]
  },
  {
   "cell_type": "code",
   "execution_count": 16,
   "metadata": {},
   "outputs": [
    {
     "ename": "KeyError",
     "evalue": "'ES'",
     "output_type": "error",
     "traceback": [
      "\u001b[1;31m---------------------------------------------------------------------------\u001b[0m",
      "\u001b[1;31mKeyError\u001b[0m                                  Traceback (most recent call last)",
      "\u001b[1;32m<ipython-input-16-c74d8ba9e1f1>\u001b[0m in \u001b[0;36m<module>\u001b[1;34m\u001b[0m\n\u001b[1;32m----> 1\u001b[1;33m \u001b[0mvol_pd\u001b[0m\u001b[1;33m[\u001b[0m\u001b[0mvol_dict\u001b[0m\u001b[1;33m[\u001b[0m\u001b[1;34m'ES'\u001b[0m\u001b[1;33m]\u001b[0m\u001b[1;33m]\u001b[0m\u001b[1;33m.\u001b[0m\u001b[0mhead\u001b[0m\u001b[1;33m(\u001b[0m\u001b[1;33m)\u001b[0m\u001b[1;33m\u001b[0m\u001b[1;33m\u001b[0m\u001b[0m\n\u001b[0m",
      "\u001b[1;31mKeyError\u001b[0m: 'ES'"
     ]
    }
   ],
   "source": [
    "vol_pd[vol_dict['ES']].head()"
   ]
  },
  {
   "cell_type": "code",
   "execution_count": 8,
   "metadata": {},
   "outputs": [
    {
     "data": {
      "text/html": [
       "<div>\n",
       "<style scoped>\n",
       "    .dataframe tbody tr th:only-of-type {\n",
       "        vertical-align: middle;\n",
       "    }\n",
       "\n",
       "    .dataframe tbody tr th {\n",
       "        vertical-align: top;\n",
       "    }\n",
       "\n",
       "    .dataframe thead th {\n",
       "        text-align: right;\n",
       "    }\n",
       "</style>\n",
       "<table border=\"1\" class=\"dataframe\">\n",
       "  <thead>\n",
       "    <tr style=\"text-align: right;\">\n",
       "      <th></th>\n",
       "      <th>ES</th>\n",
       "      <th>NQ</th>\n",
       "      <th>CD</th>\n",
       "      <th>EC</th>\n",
       "      <th>JY</th>\n",
       "      <th>MP</th>\n",
       "      <th>TY</th>\n",
       "      <th>US</th>\n",
       "      <th>C</th>\n",
       "      <th>S</th>\n",
       "      <th>W</th>\n",
       "      <th>CL</th>\n",
       "      <th>GC</th>\n",
       "    </tr>\n",
       "    <tr>\n",
       "      <th>date</th>\n",
       "      <th></th>\n",
       "      <th></th>\n",
       "      <th></th>\n",
       "      <th></th>\n",
       "      <th></th>\n",
       "      <th></th>\n",
       "      <th></th>\n",
       "      <th></th>\n",
       "      <th></th>\n",
       "      <th></th>\n",
       "      <th></th>\n",
       "      <th></th>\n",
       "      <th></th>\n",
       "    </tr>\n",
       "  </thead>\n",
       "  <tbody>\n",
       "    <tr>\n",
       "      <th>2015-11-16</th>\n",
       "      <td>2033.25</td>\n",
       "      <td>4753.75</td>\n",
       "      <td>0.76455</td>\n",
       "      <td>1.1685</td>\n",
       "      <td>8856.0</td>\n",
       "      <td>49290.0</td>\n",
       "      <td>122.859375</td>\n",
       "      <td>136.28125</td>\n",
       "      <td>514.50</td>\n",
       "      <td>1036.50</td>\n",
       "      <td>756.00</td>\n",
       "      <td>59.75</td>\n",
       "      <td>1182.2</td>\n",
       "    </tr>\n",
       "    <tr>\n",
       "      <th>2015-11-17</th>\n",
       "      <td>2034.25</td>\n",
       "      <td>4763.50</td>\n",
       "      <td>0.76555</td>\n",
       "      <td>1.1656</td>\n",
       "      <td>8846.0</td>\n",
       "      <td>49420.0</td>\n",
       "      <td>122.921875</td>\n",
       "      <td>136.87500</td>\n",
       "      <td>515.25</td>\n",
       "      <td>1040.75</td>\n",
       "      <td>748.00</td>\n",
       "      <td>58.67</td>\n",
       "      <td>1167.2</td>\n",
       "    </tr>\n",
       "    <tr>\n",
       "      <th>2015-11-18</th>\n",
       "      <td>2065.00</td>\n",
       "      <td>4846.50</td>\n",
       "      <td>0.76445</td>\n",
       "      <td>1.1654</td>\n",
       "      <td>8836.0</td>\n",
       "      <td>49450.0</td>\n",
       "      <td>122.843750</td>\n",
       "      <td>136.87500</td>\n",
       "      <td>515.25</td>\n",
       "      <td>1036.50</td>\n",
       "      <td>746.50</td>\n",
       "      <td>58.91</td>\n",
       "      <td>1167.3</td>\n",
       "    </tr>\n",
       "    <tr>\n",
       "      <th>2015-11-19</th>\n",
       "      <td>2064.50</td>\n",
       "      <td>4854.00</td>\n",
       "      <td>0.76695</td>\n",
       "      <td>1.1740</td>\n",
       "      <td>8882.0</td>\n",
       "      <td>49980.0</td>\n",
       "      <td>122.968750</td>\n",
       "      <td>137.71875</td>\n",
       "      <td>517.50</td>\n",
       "      <td>1038.75</td>\n",
       "      <td>752.75</td>\n",
       "      <td>58.68</td>\n",
       "      <td>1176.5</td>\n",
       "    </tr>\n",
       "    <tr>\n",
       "      <th>2015-11-20</th>\n",
       "      <td>2074.00</td>\n",
       "      <td>4883.50</td>\n",
       "      <td>0.76415</td>\n",
       "      <td>1.1660</td>\n",
       "      <td>8883.5</td>\n",
       "      <td>50340.0</td>\n",
       "      <td>122.859375</td>\n",
       "      <td>137.46875</td>\n",
       "      <td>517.25</td>\n",
       "      <td>1036.25</td>\n",
       "      <td>750.00</td>\n",
       "      <td>58.86</td>\n",
       "      <td>1174.7</td>\n",
       "    </tr>\n",
       "  </tbody>\n",
       "</table>\n",
       "</div>"
      ],
      "text/plain": [
       "                 ES       NQ       CD      EC      JY       MP          TY  \\\n",
       "date                                                                         \n",
       "2015-11-16  2033.25  4753.75  0.76455  1.1685  8856.0  49290.0  122.859375   \n",
       "2015-11-17  2034.25  4763.50  0.76555  1.1656  8846.0  49420.0  122.921875   \n",
       "2015-11-18  2065.00  4846.50  0.76445  1.1654  8836.0  49450.0  122.843750   \n",
       "2015-11-19  2064.50  4854.00  0.76695  1.1740  8882.0  49980.0  122.968750   \n",
       "2015-11-20  2074.00  4883.50  0.76415  1.1660  8883.5  50340.0  122.859375   \n",
       "\n",
       "                   US       C        S       W     CL      GC  \n",
       "date                                                           \n",
       "2015-11-16  136.28125  514.50  1036.50  756.00  59.75  1182.2  \n",
       "2015-11-17  136.87500  515.25  1040.75  748.00  58.67  1167.2  \n",
       "2015-11-18  136.87500  515.25  1036.50  746.50  58.91  1167.3  \n",
       "2015-11-19  137.71875  517.50  1038.75  752.75  58.68  1176.5  \n",
       "2015-11-20  137.46875  517.25  1036.25  750.00  58.86  1174.7  "
      ]
     },
     "execution_count": 8,
     "metadata": {},
     "output_type": "execute_result"
    }
   ],
   "source": [
    "futures_close.head()"
   ]
  },
  {
   "cell_type": "code",
   "execution_count": 9,
   "metadata": {},
   "outputs": [],
   "source": [
    "#futures_returns = ( futures_close.shift(-2) - futures_close.shift(-1) ) / futures_close.shift(-1)\n",
    "#y_rets = futures_returns.ES[futures_returns.index >= vol_pd.index[0]]\n",
    "#y = 1 * ((futures_returns.ES[futures_returns.index >= vol_pd.index[0]] ) >=0)"
   ]
  },
  {
   "cell_type": "code",
   "execution_count": 10,
   "metadata": {},
   "outputs": [],
   "source": [
    "futures_returns = ( futures_close.shift(-2) - futures_close.shift(-1) ) / futures_close.shift(-1)\n",
    "y_rets_dict = {inst:futures_returns[inst][futures_returns.index >= vol_pd.index[0]] for inst in instrument_list}\n",
    "y_dict = {inst: 1 * ((y_rets_dict[inst] -np.mean(y_rets_dict[inst])/2) >=0) for inst in instrument_list}"
   ]
  },
  {
   "cell_type": "code",
   "execution_count": 11,
   "metadata": {},
   "outputs": [
    {
     "data": {
      "text/html": [
       "<div>\n",
       "<style scoped>\n",
       "    .dataframe tbody tr th:only-of-type {\n",
       "        vertical-align: middle;\n",
       "    }\n",
       "\n",
       "    .dataframe tbody tr th {\n",
       "        vertical-align: top;\n",
       "    }\n",
       "\n",
       "    .dataframe thead th {\n",
       "        text-align: right;\n",
       "    }\n",
       "</style>\n",
       "<table border=\"1\" class=\"dataframe\">\n",
       "  <thead>\n",
       "    <tr style=\"text-align: right;\">\n",
       "      <th></th>\n",
       "      <th>ES</th>\n",
       "      <th>NQ</th>\n",
       "      <th>CD</th>\n",
       "      <th>EC</th>\n",
       "      <th>JY</th>\n",
       "      <th>MP</th>\n",
       "      <th>TY</th>\n",
       "      <th>US</th>\n",
       "      <th>C</th>\n",
       "      <th>S</th>\n",
       "      <th>W</th>\n",
       "      <th>CL</th>\n",
       "      <th>GC</th>\n",
       "    </tr>\n",
       "    <tr>\n",
       "      <th>date</th>\n",
       "      <th></th>\n",
       "      <th></th>\n",
       "      <th></th>\n",
       "      <th></th>\n",
       "      <th></th>\n",
       "      <th></th>\n",
       "      <th></th>\n",
       "      <th></th>\n",
       "      <th></th>\n",
       "      <th></th>\n",
       "      <th></th>\n",
       "      <th></th>\n",
       "      <th></th>\n",
       "    </tr>\n",
       "  </thead>\n",
       "  <tbody>\n",
       "    <tr>\n",
       "      <th>2015-11-16</th>\n",
       "      <td>0.015116</td>\n",
       "      <td>0.017424</td>\n",
       "      <td>-0.001437</td>\n",
       "      <td>-0.000172</td>\n",
       "      <td>-0.001130</td>\n",
       "      <td>0.000607</td>\n",
       "      <td>-0.000636</td>\n",
       "      <td>0.000000</td>\n",
       "      <td>0.000000</td>\n",
       "      <td>-0.004084</td>\n",
       "      <td>-0.002005</td>\n",
       "      <td>0.004091</td>\n",
       "      <td>0.000086</td>\n",
       "    </tr>\n",
       "    <tr>\n",
       "      <th>2015-11-17</th>\n",
       "      <td>-0.000242</td>\n",
       "      <td>0.001548</td>\n",
       "      <td>0.003270</td>\n",
       "      <td>0.007379</td>\n",
       "      <td>0.005206</td>\n",
       "      <td>0.010718</td>\n",
       "      <td>0.001018</td>\n",
       "      <td>0.006164</td>\n",
       "      <td>0.004367</td>\n",
       "      <td>0.002171</td>\n",
       "      <td>0.008372</td>\n",
       "      <td>-0.003904</td>\n",
       "      <td>0.007881</td>\n",
       "    </tr>\n",
       "    <tr>\n",
       "      <th>2015-11-18</th>\n",
       "      <td>0.004602</td>\n",
       "      <td>0.006077</td>\n",
       "      <td>-0.003651</td>\n",
       "      <td>-0.006814</td>\n",
       "      <td>0.000169</td>\n",
       "      <td>0.007203</td>\n",
       "      <td>-0.000889</td>\n",
       "      <td>-0.001815</td>\n",
       "      <td>-0.000483</td>\n",
       "      <td>-0.002407</td>\n",
       "      <td>-0.003653</td>\n",
       "      <td>0.003067</td>\n",
       "      <td>-0.001530</td>\n",
       "    </tr>\n",
       "    <tr>\n",
       "      <th>2015-11-19</th>\n",
       "      <td>-0.002170</td>\n",
       "      <td>-0.002816</td>\n",
       "      <td>-0.002225</td>\n",
       "      <td>-0.002487</td>\n",
       "      <td>0.000056</td>\n",
       "      <td>-0.001986</td>\n",
       "      <td>0.001145</td>\n",
       "      <td>0.003637</td>\n",
       "      <td>0.005800</td>\n",
       "      <td>0.005549</td>\n",
       "      <td>0.011667</td>\n",
       "      <td>-0.002548</td>\n",
       "      <td>-0.008257</td>\n",
       "    </tr>\n",
       "    <tr>\n",
       "      <th>2015-11-20</th>\n",
       "      <td>0.000242</td>\n",
       "      <td>-0.002002</td>\n",
       "      <td>0.006033</td>\n",
       "      <td>0.002751</td>\n",
       "      <td>0.002870</td>\n",
       "      <td>0.002787</td>\n",
       "      <td>0.000762</td>\n",
       "      <td>0.000453</td>\n",
       "      <td>-0.007208</td>\n",
       "      <td>0.000000</td>\n",
       "      <td>-0.011532</td>\n",
       "      <td>0.019077</td>\n",
       "      <td>0.005751</td>\n",
       "    </tr>\n",
       "  </tbody>\n",
       "</table>\n",
       "</div>"
      ],
      "text/plain": [
       "                  ES        NQ        CD        EC        JY        MP  \\\n",
       "date                                                                     \n",
       "2015-11-16  0.015116  0.017424 -0.001437 -0.000172 -0.001130  0.000607   \n",
       "2015-11-17 -0.000242  0.001548  0.003270  0.007379  0.005206  0.010718   \n",
       "2015-11-18  0.004602  0.006077 -0.003651 -0.006814  0.000169  0.007203   \n",
       "2015-11-19 -0.002170 -0.002816 -0.002225 -0.002487  0.000056 -0.001986   \n",
       "2015-11-20  0.000242 -0.002002  0.006033  0.002751  0.002870  0.002787   \n",
       "\n",
       "                  TY        US         C         S         W        CL  \\\n",
       "date                                                                     \n",
       "2015-11-16 -0.000636  0.000000  0.000000 -0.004084 -0.002005  0.004091   \n",
       "2015-11-17  0.001018  0.006164  0.004367  0.002171  0.008372 -0.003904   \n",
       "2015-11-18 -0.000889 -0.001815 -0.000483 -0.002407 -0.003653  0.003067   \n",
       "2015-11-19  0.001145  0.003637  0.005800  0.005549  0.011667 -0.002548   \n",
       "2015-11-20  0.000762  0.000453 -0.007208  0.000000 -0.011532  0.019077   \n",
       "\n",
       "                  GC  \n",
       "date                  \n",
       "2015-11-16  0.000086  \n",
       "2015-11-17  0.007881  \n",
       "2015-11-18 -0.001530  \n",
       "2015-11-19 -0.008257  \n",
       "2015-11-20  0.005751  "
      ]
     },
     "execution_count": 11,
     "metadata": {},
     "output_type": "execute_result"
    }
   ],
   "source": [
    "futures_returns.head()"
   ]
  },
  {
   "cell_type": "code",
   "execution_count": 12,
   "metadata": {},
   "outputs": [
    {
     "data": {
      "text/html": [
       "<div>\n",
       "<style scoped>\n",
       "    .dataframe tbody tr th:only-of-type {\n",
       "        vertical-align: middle;\n",
       "    }\n",
       "\n",
       "    .dataframe tbody tr th {\n",
       "        vertical-align: top;\n",
       "    }\n",
       "\n",
       "    .dataframe thead th {\n",
       "        text-align: right;\n",
       "    }\n",
       "</style>\n",
       "<table border=\"1\" class=\"dataframe\">\n",
       "  <thead>\n",
       "    <tr style=\"text-align: right;\">\n",
       "      <th></th>\n",
       "      <th>ES_60D</th>\n",
       "      <th>NQ_60D</th>\n",
       "      <th>CD_60D</th>\n",
       "      <th>EC_60D</th>\n",
       "      <th>JY_60D</th>\n",
       "      <th>MP_60D</th>\n",
       "      <th>TY_60D</th>\n",
       "      <th>US_60D</th>\n",
       "      <th>C_60D</th>\n",
       "      <th>S_60D</th>\n",
       "      <th>W_60D</th>\n",
       "      <th>CL_60D</th>\n",
       "      <th>GC_60D</th>\n",
       "    </tr>\n",
       "    <tr>\n",
       "      <th>date</th>\n",
       "      <th></th>\n",
       "      <th></th>\n",
       "      <th></th>\n",
       "      <th></th>\n",
       "      <th></th>\n",
       "      <th></th>\n",
       "      <th></th>\n",
       "      <th></th>\n",
       "      <th></th>\n",
       "      <th></th>\n",
       "      <th></th>\n",
       "      <th></th>\n",
       "      <th></th>\n",
       "    </tr>\n",
       "  </thead>\n",
       "  <tbody>\n",
       "    <tr>\n",
       "      <th>2016-11-14</th>\n",
       "      <td>-0.006767</td>\n",
       "      <td>-0.022287</td>\n",
       "      <td>-0.053804</td>\n",
       "      <td>-0.054960</td>\n",
       "      <td>-0.081135</td>\n",
       "      <td>-0.157175</td>\n",
       "      <td>-0.034673</td>\n",
       "      <td>-0.106425</td>\n",
       "      <td>-0.017609</td>\n",
       "      <td>-0.015978</td>\n",
       "      <td>-0.086814</td>\n",
       "      <td>-0.144283</td>\n",
       "      <td>-0.095242</td>\n",
       "    </tr>\n",
       "    <tr>\n",
       "      <th>2016-11-15</th>\n",
       "      <td>0.001933</td>\n",
       "      <td>-0.008576</td>\n",
       "      <td>-0.039369</td>\n",
       "      <td>-0.055864</td>\n",
       "      <td>-0.088359</td>\n",
       "      <td>-0.122509</td>\n",
       "      <td>-0.039253</td>\n",
       "      <td>-0.116360</td>\n",
       "      <td>-0.006349</td>\n",
       "      <td>-0.021204</td>\n",
       "      <td>-0.066504</td>\n",
       "      <td>-0.055193</td>\n",
       "      <td>-0.090763</td>\n",
       "    </tr>\n",
       "    <tr>\n",
       "      <th>2016-11-16</th>\n",
       "      <td>-0.002737</td>\n",
       "      <td>-0.006148</td>\n",
       "      <td>-0.040678</td>\n",
       "      <td>-0.057463</td>\n",
       "      <td>-0.087314</td>\n",
       "      <td>-0.112152</td>\n",
       "      <td>-0.038360</td>\n",
       "      <td>-0.110966</td>\n",
       "      <td>-0.001597</td>\n",
       "      <td>-0.022118</td>\n",
       "      <td>-0.060841</td>\n",
       "      <td>-0.075010</td>\n",
       "      <td>-0.093325</td>\n",
       "    </tr>\n",
       "    <tr>\n",
       "      <th>2016-11-17</th>\n",
       "      <td>0.007148</td>\n",
       "      <td>0.008965</td>\n",
       "      <td>-0.043173</td>\n",
       "      <td>-0.058785</td>\n",
       "      <td>-0.091834</td>\n",
       "      <td>-0.116890</td>\n",
       "      <td>-0.041625</td>\n",
       "      <td>-0.119403</td>\n",
       "      <td>0.006878</td>\n",
       "      <td>-0.011657</td>\n",
       "      <td>-0.049393</td>\n",
       "      <td>-0.051057</td>\n",
       "      <td>-0.086609</td>\n",
       "    </tr>\n",
       "    <tr>\n",
       "      <th>2016-11-18</th>\n",
       "      <td>0.006250</td>\n",
       "      <td>0.005818</td>\n",
       "      <td>-0.044325</td>\n",
       "      <td>-0.062671</td>\n",
       "      <td>-0.097524</td>\n",
       "      <td>-0.139628</td>\n",
       "      <td>-0.044703</td>\n",
       "      <td>-0.120591</td>\n",
       "      <td>0.022584</td>\n",
       "      <td>0.015635</td>\n",
       "      <td>-0.036903</td>\n",
       "      <td>-0.054236</td>\n",
       "      <td>-0.089553</td>\n",
       "    </tr>\n",
       "  </tbody>\n",
       "</table>\n",
       "</div>"
      ],
      "text/plain": [
       "              ES_60D    NQ_60D    CD_60D    EC_60D    JY_60D    MP_60D  \\\n",
       "date                                                                     \n",
       "2016-11-14 -0.006767 -0.022287 -0.053804 -0.054960 -0.081135 -0.157175   \n",
       "2016-11-15  0.001933 -0.008576 -0.039369 -0.055864 -0.088359 -0.122509   \n",
       "2016-11-16 -0.002737 -0.006148 -0.040678 -0.057463 -0.087314 -0.112152   \n",
       "2016-11-17  0.007148  0.008965 -0.043173 -0.058785 -0.091834 -0.116890   \n",
       "2016-11-18  0.006250  0.005818 -0.044325 -0.062671 -0.097524 -0.139628   \n",
       "\n",
       "              TY_60D    US_60D     C_60D     S_60D     W_60D    CL_60D  \\\n",
       "date                                                                     \n",
       "2016-11-14 -0.034673 -0.106425 -0.017609 -0.015978 -0.086814 -0.144283   \n",
       "2016-11-15 -0.039253 -0.116360 -0.006349 -0.021204 -0.066504 -0.055193   \n",
       "2016-11-16 -0.038360 -0.110966 -0.001597 -0.022118 -0.060841 -0.075010   \n",
       "2016-11-17 -0.041625 -0.119403  0.006878 -0.011657 -0.049393 -0.051057   \n",
       "2016-11-18 -0.044703 -0.120591  0.022584  0.015635 -0.036903 -0.054236   \n",
       "\n",
       "              GC_60D  \n",
       "date                  \n",
       "2016-11-14 -0.095242  \n",
       "2016-11-15 -0.090763  \n",
       "2016-11-16 -0.093325  \n",
       "2016-11-17 -0.086609  \n",
       "2016-11-18 -0.089553  "
      ]
     },
     "execution_count": 12,
     "metadata": {},
     "output_type": "execute_result"
    }
   ],
   "source": [
    "futures_returns_60 = ( futures_close - futures_close.shift(60) ) / futures_close\n",
    "futures_returns_60 = futures_returns_60.dropna()\n",
    "futures_returns_60 = futures_returns_60[futures_returns_60.index >= vol_pd.index[0]]\n",
    "futures_returns_60.columns = [col + '_60D' for col in futures_returns_60]\n",
    "futures_returns_60.head()"
   ]
  },
  {
   "cell_type": "code",
   "execution_count": 13,
   "metadata": {},
   "outputs": [],
   "source": [
    "X_dict = {}\n",
    "for inst in instrument_list:\n",
    "    X_dict[inst] = pd.concat([futures_returns_60[inst+'_60D'],vol_pd[vol_dict[inst]]],axis=1)\n",
    "    not_na_index =  (~y_dict[inst].isna()) \n",
    "    X_dict[inst] = X_dict[inst][not_na_index].fillna(X_dict[inst].mean())\n",
    "    y_dict[inst] = y_dict[inst][not_na_index].fillna(X_dict[inst].mean())"
   ]
  },
  {
   "cell_type": "code",
   "execution_count": 14,
   "metadata": {},
   "outputs": [],
   "source": [
    "#not_na_index =  ~y.isna()\n",
    "#X = X[not_na_index]\n",
    "#y = y[not_na_index]"
   ]
  },
  {
   "cell_type": "code",
   "execution_count": 15,
   "metadata": {},
   "outputs": [
    {
     "data": {
      "text/plain": [
       "date\n",
       "2016-11-14    0\n",
       "2016-11-15    1\n",
       "2016-11-16    0\n",
       "2016-11-17    1\n",
       "2016-11-18    1\n",
       "Name: ES, dtype: int32"
      ]
     },
     "execution_count": 15,
     "metadata": {},
     "output_type": "execute_result"
    }
   ],
   "source": [
    "y_dict['ES'].head()"
   ]
  },
  {
   "cell_type": "code",
   "execution_count": 16,
   "metadata": {},
   "outputs": [],
   "source": [
    "instrument_list = ['ES', 'NQ', 'CD', 'EC', 'MP', 'C', 'S', 'W', 'CL', 'GC']"
   ]
  },
  {
   "cell_type": "code",
   "execution_count": 17,
   "metadata": {},
   "outputs": [
    {
     "name": "stdout",
     "output_type": "stream",
     "text": [
      "ES sharpe: 0.03450310720510393\n",
      "NQ sharpe: 0.04030752795819846\n",
      "CD sharpe: -0.016155366129861622\n",
      "EC sharpe: 0.038279479779616134\n",
      "MP sharpe: 0.04675580275826303\n",
      "C sharpe: -0.03243150468171054\n",
      "S sharpe: -0.009130385869950025\n",
      "W sharpe: -0.015106554062348676\n",
      "CL sharpe: 0.057262824429473495\n",
      "GC sharpe: 0.03781550814877307\n"
     ]
    }
   ],
   "source": [
    "strat_rets = pd.DataFrame()\n",
    "strat_rets_cum = pd.DataFrame()\n",
    "strat_port = pd.DataFrame()\n",
    "for inst in instrument_list:\n",
    "    X_train, X_test, y_train, y_test = train_test_split(X_dict[inst], y_dict[inst], test_size=0.50, shuffle=False )\n",
    "    X_train, X_embargo, y_train, y_embargo = train_test_split(X_train, y_train, test_size=0.01, shuffle=False)\n",
    "    #print(X_train)\n",
    "    ddd = X_test.shape[0]\n",
    "    random_forest = RandomForestClassifier(n_estimators=5000, max_features = 10, max_depth=15)\n",
    "    random_forest.fit(X_train,y_train)\n",
    "    random_forest_train_score = random_forest.score(X_train,y_train)\n",
    "    random_forest_test_score = random_forest.score(X_test,y_test)\n",
    "    #print(\"RF accuracy, {} train: \".format(inst), random_forest_train_score)\n",
    "    #print(\"RF accuracy, {} test: \".format(inst), random_forest_test_score)\n",
    "    pred = 2*random_forest.predict(X_test)-1\n",
    "    pred[random_forest.predict_proba(X_test).max(axis=1)<=0.55] = 0\n",
    "    strat_port[inst] = pred\n",
    "    print('{} sharpe: {}'.format(inst,np.mean(y_rets_dict[inst][-ddd:-2]*pred[:-2])/np.std(y_rets_dict[inst][-ddd:-2]*pred[:-2])))\n",
    "    strat_rets[inst] = y_rets_dict[inst][-ddd:-2]*pred[:-2]\n",
    "    strat_rets_cum[inst] = (1+y_rets_dict[inst][-ddd:-2]*pred[:-2]).cumprod()"
   ]
  },
  {
   "cell_type": "code",
   "execution_count": 18,
   "metadata": {},
   "outputs": [
    {
     "name": "stdout",
     "output_type": "stream",
     "text": [
      "0.9075618168949129\n",
      "0.057171020640997085\n"
     ]
    },
    {
     "name": "stderr",
     "output_type": "stream",
     "text": [
      "C:\\Users\\PC\\Anaconda3\\envs\\cs109a\\lib\\site-packages\\pandas\\plotting\\_converter.py:129: FutureWarning: Using an implicitly registered datetime converter for a matplotlib plotting method. The converter was registered by pandas on import. Future versions of pandas will require you to explicitly register matplotlib converters.\n",
      "\n",
      "To register the converters:\n",
      "\t>>> from pandas.plotting import register_matplotlib_converters\n",
      "\t>>> register_matplotlib_converters()\n",
      "  warnings.warn(msg, FutureWarning)\n"
     ]
    },
    {
     "data": {
      "text/plain": [
       "[<matplotlib.lines.Line2D at 0x24a77a34448>]"
      ]
     },
     "execution_count": 18,
     "metadata": {},
     "output_type": "execute_result"
    },
    {
     "data": {
      "image/png": "[encoded data removed]",
      "text/plain": [
       "<Figure size 432x288 with 1 Axes>"
      ]
     },
     "metadata": {
      "needs_background": "light"
     },
     "output_type": "display_data"
    }
   ],
   "source": [
    "sharpe_port = np.mean(strat_rets.sum(axis=1)/len(instrument_list))/np.std(strat_rets.sum(axis=1)/len(instrument_list))\n",
    "print(sharpe_port * np.sqrt(252))\n",
    "print(sharpe_port)\n",
    "plt.plot(strat_rets_cum.sum(axis=1)/len(instrument_list))"
   ]
  },
  {
   "cell_type": "code",
   "execution_count": 19,
   "metadata": {},
   "outputs": [
    {
     "data": {
      "text/plain": [
       "'\\nX_train, X_test, y_train, y_test = train_test_split(X, y, test_size=0.50, shuffle = False)\\nX_train, X_embargo, y_train, y_embargo = train_test_split(X_train, y_train, test_size=0.01, shuffle = False)\\n'"
      ]
     },
     "execution_count": 19,
     "metadata": {},
     "output_type": "execute_result"
    }
   ],
   "source": [
    "'''\n",
    "X_train, X_test, y_train, y_test = train_test_split(X, y, test_size=0.50, shuffle = False)\n",
    "X_train, X_embargo, y_train, y_embargo = train_test_split(X_train, y_train, test_size=0.01, shuffle = False)\n",
    "'''"
   ]
  },
  {
   "cell_type": "code",
   "execution_count": 20,
   "metadata": {},
   "outputs": [
    {
     "data": {
      "text/plain": [
       "'\\ntree = DecisionTreeClassifier(max_depth=1)\\ntree.fit(X_train,y_train)\\ntree.score(X_train,y_train)\\ntree.score(X_test,y_test)\\ntree.feature_importances_\\nddd = X_test.shape[0]\\ntxx= 2*tree.predict(X_test)-1\\ntxx[tree.predict_proba(X_test).max(axis=1)<=0.56] = 0\\nprint(np.mean(y_rets[-ddd:-2]*txx[:-2])/np.std(y_rets[-ddd:-2]*txx[:-2]))\\nrets =(1+y_rets[-ddd:-2]*txx[:-2]).cumprod()\\nplt.plot((1+y_rets[-ddd:-2]*txx[:-2]).cumprod())\\n'"
      ]
     },
     "execution_count": 20,
     "metadata": {},
     "output_type": "execute_result"
    }
   ],
   "source": [
    "'''\n",
    "tree = DecisionTreeClassifier(max_depth=1)\n",
    "tree.fit(X_train,y_train)\n",
    "tree.score(X_train,y_train)\n",
    "tree.score(X_test,y_test)\n",
    "tree.feature_importances_\n",
    "ddd = X_test.shape[0]\n",
    "txx= 2*tree.predict(X_test)-1\n",
    "txx[tree.predict_proba(X_test).max(axis=1)<=0.56] = 0\n",
    "print(np.mean(y_rets[-ddd:-2]*txx[:-2])/np.std(y_rets[-ddd:-2]*txx[:-2]))\n",
    "rets =(1+y_rets[-ddd:-2]*txx[:-2]).cumprod()\n",
    "plt.plot((1+y_rets[-ddd:-2]*txx[:-2]).cumprod())\n",
    "'''"
   ]
  },
  {
   "cell_type": "code",
   "execution_count": 21,
   "metadata": {},
   "outputs": [
    {
     "data": {
      "text/plain": [
       "'\\ndot_data = export_graphviz(tree, out_file=None, \\n                      feature_names=X_train.columns,  \\n                     class_names=[str(1),str(-1)],  \\n                     filled=True, rounded=True,  \\n                    special_characters=True)  \\ngraph = graphviz.Source(dot_data)  \\ngraph \\n'"
      ]
     },
     "execution_count": 21,
     "metadata": {},
     "output_type": "execute_result"
    }
   ],
   "source": [
    "'''\n",
    "dot_data = export_graphviz(tree, out_file=None, \n",
    "                      feature_names=X_train.columns,  \n",
    "                     class_names=[str(1),str(-1)],  \n",
    "                     filled=True, rounded=True,  \n",
    "                    special_characters=True)  \n",
    "graph = graphviz.Source(dot_data)  \n",
    "graph \n",
    "'''"
   ]
  },
  {
   "cell_type": "code",
   "execution_count": 22,
   "metadata": {},
   "outputs": [
    {
     "data": {
      "text/plain": [
       "'\\nrandom_forest = RandomForestClassifier(n_estimators=10000, max_features = 10, max_depth=15)\\nrandom_forest.fit(X_train,y_train)\\nrandom_forest_train_score = random_forest.score(X_train,y_train)\\nrandom_forest_test_score = random_forest.score(X_test,y_test)\\nprint(\"Random forest accuracy on the train set: \", random_forest_train_score)\\nprint(\"Random forest accuracy on the test set: \", random_forest_test_score)\\n'"
      ]
     },
     "execution_count": 22,
     "metadata": {},
     "output_type": "execute_result"
    }
   ],
   "source": [
    "'''\n",
    "random_forest = RandomForestClassifier(n_estimators=10000, max_features = 10, max_depth=15)\n",
    "random_forest.fit(X_train,y_train)\n",
    "random_forest_train_score = random_forest.score(X_train,y_train)\n",
    "random_forest_test_score = random_forest.score(X_test,y_test)\n",
    "print(\"Random forest accuracy on the train set: \", random_forest_train_score)\n",
    "print(\"Random forest accuracy on the test set: \", random_forest_test_score)\n",
    "'''"
   ]
  }
 ],
 "metadata": {
  "kernelspec": {
   "display_name": "Python 3",
   "language": "python",
   "name": "python3"
  },
  "language_info": {
   "codemirror_mode": {
    "name": "ipython",
    "version": 3
   },
   "file_extension": ".py",
   "mimetype": "text/x-python",
   "name": "python",
   "nbconvert_exporter": "python",
   "pygments_lexer": "ipython3",
   "version": "3.6.8"
  }
 },
 "nbformat": 4,
 "nbformat_minor": 2
}
