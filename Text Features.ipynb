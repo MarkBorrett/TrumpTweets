{
 "cells": [
  {
   "cell_type": "markdown",
   "metadata": {},
   "source": [
    "# Overview"
   ]
  },
  {
   "cell_type": "markdown",
   "metadata": {},
   "source": [
    "This notebook uses the 'TextFeaturesGenerator' class (from text_features) to convert textual data into qunatitaive data. \n",
    "\n",
    "For now, it creates a bag-of-words representation and a tf-idf representation. We will also add SVD/PCA of these matrices and a Word2Vec representation in the next few days.\n",
    "\n",
    "Will update the TextFeaturesGenerator class on an ongoing basis and update the usage here."
   ]
  },
  {
   "cell_type": "code",
   "execution_count": 27,
   "metadata": {},
   "outputs": [],
   "source": [
    "from text_features import TextFeaturesGenerator\n",
    "from project_helper import TweetData\n",
    "import pandas as pd"
   ]
  },
  {
   "cell_type": "code",
   "execution_count": 28,
   "metadata": {},
   "outputs": [],
   "source": [
    "tweet_data = TweetData()"
   ]
  },
  {
   "cell_type": "code",
   "execution_count": 35,
   "metadata": {},
   "outputs": [
    {
     "data": {
      "text/html": [
       "<div>\n",
       "<style scoped>\n",
       "    .dataframe tbody tr th:only-of-type {\n",
       "        vertical-align: middle;\n",
       "    }\n",
       "\n",
       "    .dataframe tbody tr th {\n",
       "        vertical-align: top;\n",
       "    }\n",
       "\n",
       "    .dataframe thead th {\n",
       "        text-align: right;\n",
       "    }\n",
       "</style>\n",
       "<table border=\"1\" class=\"dataframe\">\n",
       "  <thead>\n",
       "    <tr style=\"text-align: right;\">\n",
       "      <th></th>\n",
       "      <th>tweets</th>\n",
       "    </tr>\n",
       "    <tr>\n",
       "      <th>timestamp</th>\n",
       "      <th></th>\n",
       "    </tr>\n",
       "  </thead>\n",
       "  <tbody>\n",
       "    <tr>\n",
       "      <th>2019-10-02 23:41:51-05:00</th>\n",
       "      <td>democrats want to steal the election</td>\n",
       "    </tr>\n",
       "    <tr>\n",
       "      <th>2019-10-02 23:27:52-05:00</th>\n",
       "      <td>mississippi there is a very important election...</td>\n",
       "    </tr>\n",
       "    <tr>\n",
       "      <th>2019-10-02 23:27:52-05:00</th>\n",
       "      <td>he loves our military and supports our vets de...</td>\n",
       "    </tr>\n",
       "    <tr>\n",
       "      <th>2019-10-02 21:06:36-05:00</th>\n",
       "      <td>look at this photograph</td>\n",
       "    </tr>\n",
       "    <tr>\n",
       "      <th>2019-10-02 19:51:56-05:00</th>\n",
       "      <td>schiff house intel chairman got early account ...</td>\n",
       "    </tr>\n",
       "  </tbody>\n",
       "</table>\n",
       "</div>"
      ],
      "text/plain": [
       "                                                                      tweets\n",
       "timestamp                                                                   \n",
       "2019-10-02 23:41:51-05:00              democrats want to steal the election \n",
       "2019-10-02 23:27:52-05:00  mississippi there is a very important election...\n",
       "2019-10-02 23:27:52-05:00  he loves our military and supports our vets de...\n",
       "2019-10-02 21:06:36-05:00                           look at this photograph \n",
       "2019-10-02 19:51:56-05:00  schiff house intel chairman got early account ..."
      ]
     },
     "execution_count": 35,
     "metadata": {},
     "output_type": "execute_result"
    }
   ],
   "source": [
    "tweet_data.clean_tweets.head()"
   ]
  },
  {
   "cell_type": "code",
   "execution_count": 36,
   "metadata": {},
   "outputs": [],
   "source": [
    "feature_generator = TextFeaturesGenerator(tweet_data.clean_tweets.tweets)"
   ]
  },
  {
   "cell_type": "code",
   "execution_count": 37,
   "metadata": {},
   "outputs": [],
   "source": [
    "bow_mat = feature_generator.get_bow_matrix()"
   ]
  },
  {
   "cell_type": "code",
   "execution_count": 38,
   "metadata": {},
   "outputs": [
    {
     "data": {
      "text/plain": [
       "(27960, 16781)"
      ]
     },
     "execution_count": 38,
     "metadata": {},
     "output_type": "execute_result"
    }
   ],
   "source": [
    "bow_mat.shape"
   ]
  },
  {
   "cell_type": "code",
   "execution_count": 39,
   "metadata": {},
   "outputs": [
    {
     "data": {
      "text/plain": [
       "(27960, 16781)"
      ]
     },
     "execution_count": 39,
     "metadata": {},
     "output_type": "execute_result"
    }
   ],
   "source": [
    "tfidf_mat = feature_generator.get_tfidf_matrix()\n",
    "tfidf_mat.shape"
   ]
  },
  {
   "cell_type": "code",
   "execution_count": 40,
   "metadata": {},
   "outputs": [],
   "source": [
    "feature_generator.save_matrices()"
   ]
  }
 ],
 "metadata": {
  "kernelspec": {
   "display_name": "Python 3",
   "language": "python",
   "name": "python3"
  },
  "language_info": {
   "codemirror_mode": {
    "name": "ipython",
    "version": 3
   },
   "file_extension": ".py",
   "mimetype": "text/x-python",
   "name": "python",
   "nbconvert_exporter": "python",
   "pygments_lexer": "ipython3",
   "version": "3.7.1"
  }
 },
 "nbformat": 4,
 "nbformat_minor": 2
}
