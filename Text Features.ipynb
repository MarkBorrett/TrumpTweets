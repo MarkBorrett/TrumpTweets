{
 "cells": [
  {
   "cell_type": "markdown",
   "metadata": {},
   "source": [
    "# Overview"
   ]
  },
  {
   "cell_type": "markdown",
   "metadata": {},
   "source": [
    "This notebook uses the 'TextFeaturesGenerator' class (from text_features) to convert textual data into qunatitaive data. \n",
    "\n",
    "For now, it creates a bag-of-words representation and a tf-idf representation. We will also add SVD/PCA of these matrices and a Word2Vec representation in the next few days.\n",
    "\n",
    "Will update the TextFeaturesGenerator class on an ongoing basis and update the usage here."
   ]
  },
  {
   "cell_type": "code",
   "execution_count": 1,
   "metadata": {
    "pycharm": {
     "is_executing": true,
     "name": "#%%\n"
    }
   },
   "outputs": [],
   "source": [
    "from text_features import TextFeaturesGenerator\n",
    "from project_helper import TweetData\n",
    "import pandas as pd\n",
    "import numpy as np\n",
    "from datetime import timedelta  \n",
    "import datetime"
   ]
  },
  {
   "cell_type": "markdown",
   "metadata": {},
   "source": [
    "Reusing the TweetData class to get cleaned tweets."
   ]
  },
  {
   "cell_type": "code",
   "execution_count": 2,
   "metadata": {
    "pycharm": {
     "is_executing": false
    }
   },
   "outputs": [
    {
     "data": {
      "text/html": [
       "<div>\n",
       "<style scoped>\n",
       "    .dataframe tbody tr th:only-of-type {\n",
       "        vertical-align: middle;\n",
       "    }\n",
       "\n",
       "    .dataframe tbody tr th {\n",
       "        vertical-align: top;\n",
       "    }\n",
       "\n",
       "    .dataframe thead th {\n",
       "        text-align: right;\n",
       "    }\n",
       "</style>\n",
       "<table border=\"1\" class=\"dataframe\">\n",
       "  <thead>\n",
       "    <tr style=\"text-align: right;\">\n",
       "      <th></th>\n",
       "      <th>tweets</th>\n",
       "      <th>timestamp</th>\n",
       "      <th>after4_date</th>\n",
       "    </tr>\n",
       "    <tr>\n",
       "      <th>timestamp</th>\n",
       "      <th></th>\n",
       "      <th></th>\n",
       "      <th></th>\n",
       "    </tr>\n",
       "  </thead>\n",
       "  <tbody>\n",
       "    <tr>\n",
       "      <td>2019-10-02 23:41:51-05:00</td>\n",
       "      <td>democrats want to steal the election</td>\n",
       "      <td>2019-10-02 23:41:51-05:00</td>\n",
       "      <td>2019-10-03</td>\n",
       "    </tr>\n",
       "    <tr>\n",
       "      <td>2019-10-02 23:27:52-05:00</td>\n",
       "      <td>mississippi there is a very important election...</td>\n",
       "      <td>2019-10-02 23:27:52-05:00</td>\n",
       "      <td>2019-10-03</td>\n",
       "    </tr>\n",
       "    <tr>\n",
       "      <td>2019-10-02 23:27:52-05:00</td>\n",
       "      <td>he loves our military and supports our vets de...</td>\n",
       "      <td>2019-10-02 23:27:52-05:00</td>\n",
       "      <td>2019-10-03</td>\n",
       "    </tr>\n",
       "    <tr>\n",
       "      <td>2019-10-02 21:06:36-05:00</td>\n",
       "      <td>look at this photograph</td>\n",
       "      <td>2019-10-02 21:06:36-05:00</td>\n",
       "      <td>2019-10-03</td>\n",
       "    </tr>\n",
       "    <tr>\n",
       "      <td>2019-10-02 19:51:56-05:00</td>\n",
       "      <td>schiff house intel chairman got early account ...</td>\n",
       "      <td>2019-10-02 19:51:56-05:00</td>\n",
       "      <td>2019-10-03</td>\n",
       "    </tr>\n",
       "  </tbody>\n",
       "</table>\n",
       "</div>"
      ],
      "text/plain": [
       "                                                                      tweets  \\\n",
       "timestamp                                                                      \n",
       "2019-10-02 23:41:51-05:00              democrats want to steal the election    \n",
       "2019-10-02 23:27:52-05:00  mississippi there is a very important election...   \n",
       "2019-10-02 23:27:52-05:00  he loves our military and supports our vets de...   \n",
       "2019-10-02 21:06:36-05:00                           look at this photograph    \n",
       "2019-10-02 19:51:56-05:00  schiff house intel chairman got early account ...   \n",
       "\n",
       "                                          timestamp after4_date  \n",
       "timestamp                                                        \n",
       "2019-10-02 23:41:51-05:00 2019-10-02 23:41:51-05:00  2019-10-03  \n",
       "2019-10-02 23:27:52-05:00 2019-10-02 23:27:52-05:00  2019-10-03  \n",
       "2019-10-02 23:27:52-05:00 2019-10-02 23:27:52-05:00  2019-10-03  \n",
       "2019-10-02 21:06:36-05:00 2019-10-02 21:06:36-05:00  2019-10-03  \n",
       "2019-10-02 19:51:56-05:00 2019-10-02 19:51:56-05:00  2019-10-03  "
      ]
     },
     "execution_count": 2,
     "metadata": {},
     "output_type": "execute_result"
    }
   ],
   "source": [
    "tweet_data = TweetData()\n",
    "tweet_data.clean_tweets.head()"
   ]
  },
  {
   "cell_type": "markdown",
   "metadata": {},
   "source": [
    "# Daily Tweets"
   ]
  },
  {
   "cell_type": "markdown",
   "metadata": {},
   "source": [
    "This does the following two things:\n",
    "\n",
    "1) Change the date of the tweets after 3 PM Chicago time to the following day (as trading closes then)\n",
    "2) Concatenate all tweets in a given day to one large document"
   ]
  },
  {
   "cell_type": "code",
   "execution_count": 3,
   "metadata": {},
   "outputs": [
    {
     "data": {
      "text/html": [
       "<div>\n",
       "<style scoped>\n",
       "    .dataframe tbody tr th:only-of-type {\n",
       "        vertical-align: middle;\n",
       "    }\n",
       "\n",
       "    .dataframe tbody tr th {\n",
       "        vertical-align: top;\n",
       "    }\n",
       "\n",
       "    .dataframe thead th {\n",
       "        text-align: right;\n",
       "    }\n",
       "</style>\n",
       "<table border=\"1\" class=\"dataframe\">\n",
       "  <thead>\n",
       "    <tr style=\"text-align: right;\">\n",
       "      <th></th>\n",
       "      <th>tweets</th>\n",
       "    </tr>\n",
       "    <tr>\n",
       "      <th>date</th>\n",
       "      <th></th>\n",
       "    </tr>\n",
       "  </thead>\n",
       "  <tbody>\n",
       "    <tr>\n",
       "      <td>2009-05-05</td>\n",
       "      <td>donald trump will be appearing on the view tom...</td>\n",
       "    </tr>\n",
       "    <tr>\n",
       "      <td>2009-05-08</td>\n",
       "      <td>donald trump reads top ten financial tips on l...</td>\n",
       "    </tr>\n",
       "    <tr>\n",
       "      <td>2009-05-09</td>\n",
       "      <td>new blog post celebrity apprentice finale and ...</td>\n",
       "    </tr>\n",
       "    <tr>\n",
       "      <td>2009-05-12</td>\n",
       "      <td>my persona will never be that of a wallflower ...</td>\n",
       "    </tr>\n",
       "    <tr>\n",
       "      <td>2009-05-13</td>\n",
       "      <td>miss usa tara conner will not be fired ive alw...</td>\n",
       "    </tr>\n",
       "  </tbody>\n",
       "</table>\n",
       "</div>"
      ],
      "text/plain": [
       "                                                       tweets\n",
       "date                                                         \n",
       "2009-05-05  donald trump will be appearing on the view tom...\n",
       "2009-05-08  donald trump reads top ten financial tips on l...\n",
       "2009-05-09  new blog post celebrity apprentice finale and ...\n",
       "2009-05-12  my persona will never be that of a wallflower ...\n",
       "2009-05-13  miss usa tara conner will not be fired ive alw..."
      ]
     },
     "execution_count": 3,
     "metadata": {},
     "output_type": "execute_result"
    }
   ],
   "source": [
    "tweet_data.daily_tweets.head()"
   ]
  },
  {
   "cell_type": "markdown",
   "metadata": {},
   "source": [
    "Creating a 'TextFeaturesGenerator' instance which takes the tweets as an argument"
   ]
  },
  {
   "cell_type": "code",
   "execution_count": 3,
   "metadata": {},
   "outputs": [],
   "source": [
    "feature_generator = TextFeaturesGenerator(tweet_data.clean_tweets.tweets)"
   ]
  },
  {
   "cell_type": "markdown",
   "metadata": {},
   "source": [
    "'get_bow_matrix' creates the bag-of-words matrix"
   ]
  },
  {
   "cell_type": "code",
   "execution_count": 4,
   "metadata": {},
   "outputs": [],
   "source": [
    "bow_mat = feature_generator.get_bow_matrix()"
   ]
  },
  {
   "cell_type": "code",
   "execution_count": 5,
   "metadata": {
    "scrolled": true
   },
   "outputs": [
    {
     "data": {
      "text/plain": [
       "(27960, 17359)"
      ]
     },
     "execution_count": 5,
     "metadata": {},
     "output_type": "execute_result"
    }
   ],
   "source": [
    "bow_mat.shape"
   ]
  },
  {
   "cell_type": "markdown",
   "metadata": {},
   "source": [
    "The shape of this matrix is 27.96K rows (same number as the tweets) and the columns are 16,781, which is equal to the unique number of words in the vocabulary."
   ]
  },
  {
   "cell_type": "code",
   "execution_count": 6,
   "metadata": {},
   "outputs": [
    {
     "data": {
      "text/plain": [
       "matrix([[0, 0, 0, 0, 0, 0, 0, 0, 0, 0],\n",
       "        [0, 0, 0, 0, 0, 0, 0, 0, 0, 0],\n",
       "        [0, 0, 0, 0, 0, 0, 0, 0, 0, 0],\n",
       "        [0, 0, 0, 0, 0, 0, 0, 0, 0, 0],\n",
       "        [0, 0, 0, 0, 0, 0, 0, 0, 0, 0],\n",
       "        [0, 0, 0, 0, 0, 0, 0, 0, 0, 0],\n",
       "        [0, 0, 0, 0, 0, 0, 0, 0, 0, 0],\n",
       "        [0, 0, 0, 0, 0, 0, 0, 0, 0, 0],\n",
       "        [0, 0, 0, 0, 0, 0, 0, 0, 0, 0],\n",
       "        [0, 0, 0, 0, 0, 0, 0, 0, 0, 0]])"
      ]
     },
     "execution_count": 6,
     "metadata": {},
     "output_type": "execute_result"
    }
   ],
   "source": [
    "bow_mat[:10,:10].todense()"
   ]
  },
  {
   "cell_type": "markdown",
   "metadata": {},
   "source": [
    "As you can see, most of the values are zero which is why it is stored as a 'sparse-matrix'"
   ]
  },
  {
   "cell_type": "markdown",
   "metadata": {},
   "source": [
    "Bag-of-words is simply a count of words in the tweet. A better representation is 'tf-idf'. The 'get_tfidf_matrix' creates"
   ]
  },
  {
   "cell_type": "code",
   "execution_count": 7,
   "metadata": {},
   "outputs": [
    {
     "data": {
      "text/plain": [
       "(27960, 17359)"
      ]
     },
     "execution_count": 7,
     "metadata": {},
     "output_type": "execute_result"
    }
   ],
   "source": [
    "tfidf_mat = feature_generator.get_tfidf_matrix()\n",
    "tfidf_mat.shape"
   ]
  },
  {
   "cell_type": "markdown",
   "metadata": {},
   "source": [
    "The matrices can be saved using the matrices function. You can either specify a 'folder' which will be created and both matrices stored in it, else will store in the working directory."
   ]
  },
  {
   "cell_type": "code",
   "execution_count": 8,
   "metadata": {},
   "outputs": [],
   "source": [
    "feature_generator.save_matrices()"
   ]
  },
  {
   "cell_type": "markdown",
   "metadata": {},
   "source": [
    "The two matrices will be saved with the names \"bow_mat.npz\" and \"tfidf_mat.npz\""
   ]
  },
  {
   "cell_type": "markdown",
   "metadata": {},
   "source": [
    "You can also specify a folder and a suffix to the file names."
   ]
  },
  {
   "cell_type": "code",
   "execution_count": 9,
   "metadata": {},
   "outputs": [],
   "source": [
    "feature_generator.save_matrices(folder=\"matrices\",suffix=\"_v2\")"
   ]
  },
  {
   "cell_type": "markdown",
   "metadata": {},
   "source": [
    "The files can be loaded using the following commands:"
   ]
  },
  {
   "cell_type": "code",
   "execution_count": 10,
   "metadata": {},
   "outputs": [
    {
     "name": "stdout",
     "output_type": "stream",
     "text": [
      "(27960, 17359)\n",
      "(27960, 17359)\n"
     ]
    }
   ],
   "source": [
    "from scipy import sparse\n",
    "bow_loaded = sparse.load_npz(\"bow_mat.npz\")\n",
    "tfidf_loaded = sparse.load_npz(\"tfidf_mat.npz\")\n",
    "print(bow_loaded.shape)\n",
    "print(tfidf_loaded.shape)"
   ]
  },
  {
   "cell_type": "markdown",
   "metadata": {},
   "source": [
    "## PCA (through SVD) of the matrices"
   ]
  },
  {
   "cell_type": "markdown",
   "metadata": {},
   "source": [
    "You can get the SVD of the bow and tfidf matrices as well."
   ]
  },
  {
   "cell_type": "code",
   "execution_count": 11,
   "metadata": {},
   "outputs": [],
   "source": [
    "svd_bow_mat = feature_generator.get_svd_bow_mat()"
   ]
  },
  {
   "cell_type": "code",
   "execution_count": 12,
   "metadata": {},
   "outputs": [
    {
     "data": {
      "text/plain": [
       "(27960, 2)"
      ]
     },
     "execution_count": 12,
     "metadata": {},
     "output_type": "execute_result"
    }
   ],
   "source": [
    "svd_bow_mat.shape"
   ]
  },
  {
   "cell_type": "markdown",
   "metadata": {},
   "source": [
    "By default, it gives back two components. You can changet that using the n_components argument."
   ]
  },
  {
   "cell_type": "code",
   "execution_count": 13,
   "metadata": {},
   "outputs": [],
   "source": [
    "svd_bow_mat = feature_generator.get_svd_bow_mat(n_components=100)"
   ]
  },
  {
   "cell_type": "code",
   "execution_count": 14,
   "metadata": {},
   "outputs": [
    {
     "data": {
      "text/plain": [
       "(27960, 100)"
      ]
     },
     "execution_count": 14,
     "metadata": {},
     "output_type": "execute_result"
    }
   ],
   "source": [
    "svd_bow_mat.shape"
   ]
  },
  {
   "cell_type": "markdown",
   "metadata": {},
   "source": [
    "You can get the SVD of the tf-idf as well."
   ]
  },
  {
   "cell_type": "code",
   "execution_count": 15,
   "metadata": {},
   "outputs": [],
   "source": [
    "svd_tfidf_mat = feature_generator.get_svd_bow_mat(n_components=100)"
   ]
  },
  {
   "cell_type": "code",
   "execution_count": 16,
   "metadata": {},
   "outputs": [
    {
     "data": {
      "text/plain": [
       "(27960, 100)"
      ]
     },
     "execution_count": 16,
     "metadata": {},
     "output_type": "execute_result"
    }
   ],
   "source": [
    "svd_tfidf_mat.shape"
   ]
  },
  {
   "cell_type": "markdown",
   "metadata": {},
   "source": [
    "These matrices can be saved as well."
   ]
  },
  {
   "cell_type": "code",
   "execution_count": 17,
   "metadata": {},
   "outputs": [],
   "source": [
    "feature_generator.save_matrices()"
   ]
  },
  {
   "cell_type": "markdown",
   "metadata": {},
   "source": [
    "You can load them back using np.load"
   ]
  },
  {
   "cell_type": "code",
   "execution_count": 18,
   "metadata": {},
   "outputs": [],
   "source": [
    "svd_loaded_mat = np.load('svd_tfidf_mat.npy')"
   ]
  },
  {
   "cell_type": "code",
   "execution_count": 19,
   "metadata": {
    "scrolled": true
   },
   "outputs": [
    {
     "data": {
      "text/plain": [
       "(27960, 100)"
      ]
     },
     "execution_count": 19,
     "metadata": {},
     "output_type": "execute_result"
    }
   ],
   "source": [
    "svd_loaded_mat.shape"
   ]
  },
  {
   "cell_type": "markdown",
   "metadata": {},
   "source": [
    "# Aggregagte SVD per day "
   ]
  },
  {
   "cell_type": "code",
   "execution_count": 20,
   "metadata": {},
   "outputs": [],
   "source": [
    "svd_df = pd.DataFrame(svd_loaded_mat)"
   ]
  },
  {
   "cell_type": "code",
   "execution_count": 21,
   "metadata": {},
   "outputs": [],
   "source": [
    "svd_df['timestamp'] = tweet_data.clean_tweets.index\n",
    "svd_df['date'] = svd_df.timestamp.dt.date"
   ]
  },
  {
   "cell_type": "code",
   "execution_count": 22,
   "metadata": {
    "scrolled": true
   },
   "outputs": [
    {
     "data": {
      "text/html": [
       "<div>\n",
       "<style scoped>\n",
       "    .dataframe tbody tr th:only-of-type {\n",
       "        vertical-align: middle;\n",
       "    }\n",
       "\n",
       "    .dataframe tbody tr th {\n",
       "        vertical-align: top;\n",
       "    }\n",
       "\n",
       "    .dataframe thead th {\n",
       "        text-align: right;\n",
       "    }\n",
       "</style>\n",
       "<table border=\"1\" class=\"dataframe\">\n",
       "  <thead>\n",
       "    <tr style=\"text-align: right;\">\n",
       "      <th></th>\n",
       "      <th>0</th>\n",
       "      <th>1</th>\n",
       "      <th>2</th>\n",
       "      <th>3</th>\n",
       "      <th>4</th>\n",
       "      <th>5</th>\n",
       "      <th>6</th>\n",
       "      <th>7</th>\n",
       "      <th>8</th>\n",
       "      <th>9</th>\n",
       "      <th>...</th>\n",
       "      <th>92</th>\n",
       "      <th>93</th>\n",
       "      <th>94</th>\n",
       "      <th>95</th>\n",
       "      <th>96</th>\n",
       "      <th>97</th>\n",
       "      <th>98</th>\n",
       "      <th>99</th>\n",
       "      <th>timestamp</th>\n",
       "      <th>date</th>\n",
       "    </tr>\n",
       "  </thead>\n",
       "  <tbody>\n",
       "    <tr>\n",
       "      <td>0</td>\n",
       "      <td>1.069162</td>\n",
       "      <td>0.073472</td>\n",
       "      <td>-0.803908</td>\n",
       "      <td>-0.202682</td>\n",
       "      <td>-0.503965</td>\n",
       "      <td>0.011639</td>\n",
       "      <td>0.038896</td>\n",
       "      <td>-0.052699</td>\n",
       "      <td>-0.081935</td>\n",
       "      <td>-0.020411</td>\n",
       "      <td>...</td>\n",
       "      <td>-0.166631</td>\n",
       "      <td>0.021926</td>\n",
       "      <td>-0.253401</td>\n",
       "      <td>-0.222502</td>\n",
       "      <td>0.198627</td>\n",
       "      <td>0.008263</td>\n",
       "      <td>-0.152623</td>\n",
       "      <td>0.299796</td>\n",
       "      <td>2019-10-02 23:41:51-05:00</td>\n",
       "      <td>2019-10-02</td>\n",
       "    </tr>\n",
       "    <tr>\n",
       "      <td>1</td>\n",
       "      <td>2.399010</td>\n",
       "      <td>-2.640690</td>\n",
       "      <td>1.537751</td>\n",
       "      <td>0.988793</td>\n",
       "      <td>0.253774</td>\n",
       "      <td>-0.426361</td>\n",
       "      <td>-1.617954</td>\n",
       "      <td>0.713951</td>\n",
       "      <td>-1.783920</td>\n",
       "      <td>0.935433</td>\n",
       "      <td>...</td>\n",
       "      <td>-0.032958</td>\n",
       "      <td>0.415026</td>\n",
       "      <td>0.126267</td>\n",
       "      <td>-0.180378</td>\n",
       "      <td>-0.130619</td>\n",
       "      <td>-0.139637</td>\n",
       "      <td>0.166141</td>\n",
       "      <td>0.111495</td>\n",
       "      <td>2019-10-02 23:27:52-05:00</td>\n",
       "      <td>2019-10-02</td>\n",
       "    </tr>\n",
       "    <tr>\n",
       "      <td>2</td>\n",
       "      <td>2.036368</td>\n",
       "      <td>-2.172903</td>\n",
       "      <td>2.635054</td>\n",
       "      <td>0.428314</td>\n",
       "      <td>-0.241706</td>\n",
       "      <td>-0.040651</td>\n",
       "      <td>-0.673243</td>\n",
       "      <td>-0.356856</td>\n",
       "      <td>-1.043026</td>\n",
       "      <td>1.124688</td>\n",
       "      <td>...</td>\n",
       "      <td>0.153755</td>\n",
       "      <td>-0.073918</td>\n",
       "      <td>0.482440</td>\n",
       "      <td>-0.324832</td>\n",
       "      <td>0.101042</td>\n",
       "      <td>-0.633148</td>\n",
       "      <td>-0.093890</td>\n",
       "      <td>0.105424</td>\n",
       "      <td>2019-10-02 23:27:52-05:00</td>\n",
       "      <td>2019-10-02</td>\n",
       "    </tr>\n",
       "    <tr>\n",
       "      <td>3</td>\n",
       "      <td>0.116249</td>\n",
       "      <td>-0.056975</td>\n",
       "      <td>0.003445</td>\n",
       "      <td>0.020397</td>\n",
       "      <td>0.103324</td>\n",
       "      <td>-0.119210</td>\n",
       "      <td>-0.130229</td>\n",
       "      <td>-0.093681</td>\n",
       "      <td>-0.024051</td>\n",
       "      <td>-0.028973</td>\n",
       "      <td>...</td>\n",
       "      <td>-0.014578</td>\n",
       "      <td>0.099306</td>\n",
       "      <td>0.025237</td>\n",
       "      <td>-0.080506</td>\n",
       "      <td>0.028129</td>\n",
       "      <td>-0.063209</td>\n",
       "      <td>0.024518</td>\n",
       "      <td>0.057879</td>\n",
       "      <td>2019-10-02 21:06:36-05:00</td>\n",
       "      <td>2019-10-02</td>\n",
       "    </tr>\n",
       "    <tr>\n",
       "      <td>4</td>\n",
       "      <td>0.474283</td>\n",
       "      <td>-0.025551</td>\n",
       "      <td>0.216644</td>\n",
       "      <td>0.714577</td>\n",
       "      <td>0.521690</td>\n",
       "      <td>0.847947</td>\n",
       "      <td>-0.057162</td>\n",
       "      <td>-0.040227</td>\n",
       "      <td>0.004715</td>\n",
       "      <td>-0.261764</td>\n",
       "      <td>...</td>\n",
       "      <td>-0.182929</td>\n",
       "      <td>0.091129</td>\n",
       "      <td>0.048752</td>\n",
       "      <td>-0.103810</td>\n",
       "      <td>0.100549</td>\n",
       "      <td>0.045351</td>\n",
       "      <td>0.108905</td>\n",
       "      <td>-0.143518</td>\n",
       "      <td>2019-10-02 19:51:56-05:00</td>\n",
       "      <td>2019-10-02</td>\n",
       "    </tr>\n",
       "  </tbody>\n",
       "</table>\n",
       "<p>5 rows × 102 columns</p>\n",
       "</div>"
      ],
      "text/plain": [
       "          0         1         2         3         4         5         6  \\\n",
       "0  1.069162  0.073472 -0.803908 -0.202682 -0.503965  0.011639  0.038896   \n",
       "1  2.399010 -2.640690  1.537751  0.988793  0.253774 -0.426361 -1.617954   \n",
       "2  2.036368 -2.172903  2.635054  0.428314 -0.241706 -0.040651 -0.673243   \n",
       "3  0.116249 -0.056975  0.003445  0.020397  0.103324 -0.119210 -0.130229   \n",
       "4  0.474283 -0.025551  0.216644  0.714577  0.521690  0.847947 -0.057162   \n",
       "\n",
       "          7         8         9  ...        92        93        94        95  \\\n",
       "0 -0.052699 -0.081935 -0.020411  ... -0.166631  0.021926 -0.253401 -0.222502   \n",
       "1  0.713951 -1.783920  0.935433  ... -0.032958  0.415026  0.126267 -0.180378   \n",
       "2 -0.356856 -1.043026  1.124688  ...  0.153755 -0.073918  0.482440 -0.324832   \n",
       "3 -0.093681 -0.024051 -0.028973  ... -0.014578  0.099306  0.025237 -0.080506   \n",
       "4 -0.040227  0.004715 -0.261764  ... -0.182929  0.091129  0.048752 -0.103810   \n",
       "\n",
       "         96        97        98        99                 timestamp  \\\n",
       "0  0.198627  0.008263 -0.152623  0.299796 2019-10-02 23:41:51-05:00   \n",
       "1 -0.130619 -0.139637  0.166141  0.111495 2019-10-02 23:27:52-05:00   \n",
       "2  0.101042 -0.633148 -0.093890  0.105424 2019-10-02 23:27:52-05:00   \n",
       "3  0.028129 -0.063209  0.024518  0.057879 2019-10-02 21:06:36-05:00   \n",
       "4  0.100549  0.045351  0.108905 -0.143518 2019-10-02 19:51:56-05:00   \n",
       "\n",
       "         date  \n",
       "0  2019-10-02  \n",
       "1  2019-10-02  \n",
       "2  2019-10-02  \n",
       "3  2019-10-02  \n",
       "4  2019-10-02  \n",
       "\n",
       "[5 rows x 102 columns]"
      ]
     },
     "execution_count": 22,
     "metadata": {},
     "output_type": "execute_result"
    }
   ],
   "source": [
    "svd_df.head()"
   ]
  },
  {
   "cell_type": "code",
   "execution_count": 23,
   "metadata": {
    "scrolled": true
   },
   "outputs": [],
   "source": [
    "svd_df_daily = svd_df.groupby('date').agg(np.mean)"
   ]
  },
  {
   "cell_type": "code",
   "execution_count": 24,
   "metadata": {},
   "outputs": [
    {
     "data": {
      "text/html": [
       "<div>\n",
       "<style scoped>\n",
       "    .dataframe tbody tr th:only-of-type {\n",
       "        vertical-align: middle;\n",
       "    }\n",
       "\n",
       "    .dataframe tbody tr th {\n",
       "        vertical-align: top;\n",
       "    }\n",
       "\n",
       "    .dataframe thead th {\n",
       "        text-align: right;\n",
       "    }\n",
       "</style>\n",
       "<table border=\"1\" class=\"dataframe\">\n",
       "  <thead>\n",
       "    <tr style=\"text-align: right;\">\n",
       "      <th></th>\n",
       "      <th>0</th>\n",
       "      <th>1</th>\n",
       "      <th>2</th>\n",
       "      <th>3</th>\n",
       "      <th>4</th>\n",
       "      <th>5</th>\n",
       "      <th>6</th>\n",
       "      <th>7</th>\n",
       "      <th>8</th>\n",
       "      <th>9</th>\n",
       "      <th>...</th>\n",
       "      <th>90</th>\n",
       "      <th>91</th>\n",
       "      <th>92</th>\n",
       "      <th>93</th>\n",
       "      <th>94</th>\n",
       "      <th>95</th>\n",
       "      <th>96</th>\n",
       "      <th>97</th>\n",
       "      <th>98</th>\n",
       "      <th>99</th>\n",
       "    </tr>\n",
       "    <tr>\n",
       "      <th>date</th>\n",
       "      <th></th>\n",
       "      <th></th>\n",
       "      <th></th>\n",
       "      <th></th>\n",
       "      <th></th>\n",
       "      <th></th>\n",
       "      <th></th>\n",
       "      <th></th>\n",
       "      <th></th>\n",
       "      <th></th>\n",
       "      <th></th>\n",
       "      <th></th>\n",
       "      <th></th>\n",
       "      <th></th>\n",
       "      <th></th>\n",
       "      <th></th>\n",
       "      <th></th>\n",
       "      <th></th>\n",
       "      <th></th>\n",
       "      <th></th>\n",
       "      <th></th>\n",
       "    </tr>\n",
       "  </thead>\n",
       "  <tbody>\n",
       "    <tr>\n",
       "      <td>2009-05-04</td>\n",
       "      <td>1.917539</td>\n",
       "      <td>-0.741860</td>\n",
       "      <td>-0.006851</td>\n",
       "      <td>-0.307680</td>\n",
       "      <td>0.114204</td>\n",
       "      <td>-0.790058</td>\n",
       "      <td>0.078518</td>\n",
       "      <td>-0.845050</td>\n",
       "      <td>-0.826081</td>\n",
       "      <td>-0.329043</td>\n",
       "      <td>...</td>\n",
       "      <td>0.107552</td>\n",
       "      <td>0.112172</td>\n",
       "      <td>0.038968</td>\n",
       "      <td>-0.187356</td>\n",
       "      <td>0.075312</td>\n",
       "      <td>0.159345</td>\n",
       "      <td>-0.025975</td>\n",
       "      <td>0.042474</td>\n",
       "      <td>-0.014691</td>\n",
       "      <td>-0.026927</td>\n",
       "    </tr>\n",
       "    <tr>\n",
       "      <td>2009-05-05</td>\n",
       "      <td>1.736160</td>\n",
       "      <td>-0.734847</td>\n",
       "      <td>-0.035298</td>\n",
       "      <td>-0.524848</td>\n",
       "      <td>-0.118777</td>\n",
       "      <td>-0.626884</td>\n",
       "      <td>-0.976174</td>\n",
       "      <td>-0.785034</td>\n",
       "      <td>-0.511813</td>\n",
       "      <td>-0.418262</td>\n",
       "      <td>...</td>\n",
       "      <td>-0.016422</td>\n",
       "      <td>-0.051565</td>\n",
       "      <td>-0.047186</td>\n",
       "      <td>-0.051693</td>\n",
       "      <td>0.096850</td>\n",
       "      <td>0.125929</td>\n",
       "      <td>0.047916</td>\n",
       "      <td>0.083566</td>\n",
       "      <td>-0.094729</td>\n",
       "      <td>0.003240</td>\n",
       "    </tr>\n",
       "    <tr>\n",
       "      <td>2009-05-08</td>\n",
       "      <td>0.657092</td>\n",
       "      <td>0.022901</td>\n",
       "      <td>0.337051</td>\n",
       "      <td>-0.141766</td>\n",
       "      <td>-0.178049</td>\n",
       "      <td>-0.143132</td>\n",
       "      <td>-0.152205</td>\n",
       "      <td>-0.137561</td>\n",
       "      <td>-0.320182</td>\n",
       "      <td>-0.021014</td>\n",
       "      <td>...</td>\n",
       "      <td>-0.042821</td>\n",
       "      <td>-0.014263</td>\n",
       "      <td>0.085546</td>\n",
       "      <td>-0.055233</td>\n",
       "      <td>-0.002863</td>\n",
       "      <td>0.027041</td>\n",
       "      <td>-0.044515</td>\n",
       "      <td>0.024860</td>\n",
       "      <td>-0.011708</td>\n",
       "      <td>-0.030250</td>\n",
       "    </tr>\n",
       "    <tr>\n",
       "      <td>2009-05-12</td>\n",
       "      <td>0.763673</td>\n",
       "      <td>-0.616437</td>\n",
       "      <td>-0.249637</td>\n",
       "      <td>-0.133147</td>\n",
       "      <td>0.902717</td>\n",
       "      <td>-0.351933</td>\n",
       "      <td>-0.332288</td>\n",
       "      <td>-0.596769</td>\n",
       "      <td>0.318566</td>\n",
       "      <td>-0.321151</td>\n",
       "      <td>...</td>\n",
       "      <td>-0.085345</td>\n",
       "      <td>-0.071135</td>\n",
       "      <td>0.003974</td>\n",
       "      <td>-0.007599</td>\n",
       "      <td>0.333226</td>\n",
       "      <td>0.070844</td>\n",
       "      <td>-0.114315</td>\n",
       "      <td>0.026641</td>\n",
       "      <td>0.025812</td>\n",
       "      <td>0.231355</td>\n",
       "    </tr>\n",
       "    <tr>\n",
       "      <td>2009-05-13</td>\n",
       "      <td>0.552410</td>\n",
       "      <td>-0.719471</td>\n",
       "      <td>-0.641173</td>\n",
       "      <td>-0.030115</td>\n",
       "      <td>-0.049287</td>\n",
       "      <td>0.127540</td>\n",
       "      <td>0.068206</td>\n",
       "      <td>-0.100774</td>\n",
       "      <td>-0.274819</td>\n",
       "      <td>-0.080949</td>\n",
       "      <td>...</td>\n",
       "      <td>-0.091908</td>\n",
       "      <td>-0.072269</td>\n",
       "      <td>0.051072</td>\n",
       "      <td>-0.010656</td>\n",
       "      <td>0.045475</td>\n",
       "      <td>0.100131</td>\n",
       "      <td>0.017376</td>\n",
       "      <td>0.052313</td>\n",
       "      <td>-0.048777</td>\n",
       "      <td>-0.057950</td>\n",
       "    </tr>\n",
       "    <tr>\n",
       "      <td>...</td>\n",
       "      <td>...</td>\n",
       "      <td>...</td>\n",
       "      <td>...</td>\n",
       "      <td>...</td>\n",
       "      <td>...</td>\n",
       "      <td>...</td>\n",
       "      <td>...</td>\n",
       "      <td>...</td>\n",
       "      <td>...</td>\n",
       "      <td>...</td>\n",
       "      <td>...</td>\n",
       "      <td>...</td>\n",
       "      <td>...</td>\n",
       "      <td>...</td>\n",
       "      <td>...</td>\n",
       "      <td>...</td>\n",
       "      <td>...</td>\n",
       "      <td>...</td>\n",
       "      <td>...</td>\n",
       "      <td>...</td>\n",
       "      <td>...</td>\n",
       "    </tr>\n",
       "    <tr>\n",
       "      <td>2019-09-28</td>\n",
       "      <td>1.764919</td>\n",
       "      <td>-0.019437</td>\n",
       "      <td>-0.006130</td>\n",
       "      <td>-0.071961</td>\n",
       "      <td>-0.089839</td>\n",
       "      <td>-0.060733</td>\n",
       "      <td>0.146705</td>\n",
       "      <td>0.280572</td>\n",
       "      <td>-0.044637</td>\n",
       "      <td>0.081915</td>\n",
       "      <td>...</td>\n",
       "      <td>0.008993</td>\n",
       "      <td>0.062977</td>\n",
       "      <td>0.012227</td>\n",
       "      <td>0.071581</td>\n",
       "      <td>-0.042681</td>\n",
       "      <td>0.002053</td>\n",
       "      <td>0.006528</td>\n",
       "      <td>0.064066</td>\n",
       "      <td>-0.013356</td>\n",
       "      <td>-0.004471</td>\n",
       "    </tr>\n",
       "    <tr>\n",
       "      <td>2019-09-29</td>\n",
       "      <td>1.811718</td>\n",
       "      <td>0.070875</td>\n",
       "      <td>-0.140102</td>\n",
       "      <td>-0.027907</td>\n",
       "      <td>-0.079576</td>\n",
       "      <td>-0.108192</td>\n",
       "      <td>0.294700</td>\n",
       "      <td>-0.024339</td>\n",
       "      <td>0.161656</td>\n",
       "      <td>0.077195</td>\n",
       "      <td>...</td>\n",
       "      <td>-0.014578</td>\n",
       "      <td>0.006286</td>\n",
       "      <td>-0.006692</td>\n",
       "      <td>0.002615</td>\n",
       "      <td>-0.057323</td>\n",
       "      <td>-0.021273</td>\n",
       "      <td>0.093232</td>\n",
       "      <td>0.015066</td>\n",
       "      <td>0.035226</td>\n",
       "      <td>-0.000386</td>\n",
       "    </tr>\n",
       "    <tr>\n",
       "      <td>2019-09-30</td>\n",
       "      <td>2.817178</td>\n",
       "      <td>0.213592</td>\n",
       "      <td>0.116190</td>\n",
       "      <td>0.067874</td>\n",
       "      <td>-0.165713</td>\n",
       "      <td>-0.020973</td>\n",
       "      <td>0.172849</td>\n",
       "      <td>0.026442</td>\n",
       "      <td>0.002949</td>\n",
       "      <td>-0.039970</td>\n",
       "      <td>...</td>\n",
       "      <td>0.049921</td>\n",
       "      <td>-0.037052</td>\n",
       "      <td>-0.004556</td>\n",
       "      <td>0.029124</td>\n",
       "      <td>-0.044566</td>\n",
       "      <td>-0.007839</td>\n",
       "      <td>0.014728</td>\n",
       "      <td>-0.017043</td>\n",
       "      <td>0.013898</td>\n",
       "      <td>0.005306</td>\n",
       "    </tr>\n",
       "    <tr>\n",
       "      <td>2019-10-01</td>\n",
       "      <td>2.740777</td>\n",
       "      <td>-0.038259</td>\n",
       "      <td>-0.159981</td>\n",
       "      <td>0.008356</td>\n",
       "      <td>-0.081524</td>\n",
       "      <td>0.297672</td>\n",
       "      <td>-0.174806</td>\n",
       "      <td>0.275577</td>\n",
       "      <td>0.013806</td>\n",
       "      <td>0.085300</td>\n",
       "      <td>...</td>\n",
       "      <td>0.051619</td>\n",
       "      <td>0.006343</td>\n",
       "      <td>-0.083776</td>\n",
       "      <td>-0.019721</td>\n",
       "      <td>-0.073467</td>\n",
       "      <td>0.012158</td>\n",
       "      <td>-0.038114</td>\n",
       "      <td>-0.035598</td>\n",
       "      <td>0.090137</td>\n",
       "      <td>0.016420</td>\n",
       "    </tr>\n",
       "    <tr>\n",
       "      <td>2019-10-02</td>\n",
       "      <td>2.860869</td>\n",
       "      <td>-0.219918</td>\n",
       "      <td>0.298691</td>\n",
       "      <td>0.438956</td>\n",
       "      <td>0.002396</td>\n",
       "      <td>0.150593</td>\n",
       "      <td>-0.145212</td>\n",
       "      <td>-0.125348</td>\n",
       "      <td>-0.124949</td>\n",
       "      <td>0.070712</td>\n",
       "      <td>...</td>\n",
       "      <td>0.028886</td>\n",
       "      <td>-0.053267</td>\n",
       "      <td>0.021604</td>\n",
       "      <td>0.070694</td>\n",
       "      <td>0.031317</td>\n",
       "      <td>-0.077658</td>\n",
       "      <td>0.107947</td>\n",
       "      <td>0.006518</td>\n",
       "      <td>0.079274</td>\n",
       "      <td>0.062296</td>\n",
       "    </tr>\n",
       "  </tbody>\n",
       "</table>\n",
       "<p>2991 rows × 100 columns</p>\n",
       "</div>"
      ],
      "text/plain": [
       "                  0         1         2         3         4         5   \\\n",
       "date                                                                     \n",
       "2009-05-04  1.917539 -0.741860 -0.006851 -0.307680  0.114204 -0.790058   \n",
       "2009-05-05  1.736160 -0.734847 -0.035298 -0.524848 -0.118777 -0.626884   \n",
       "2009-05-08  0.657092  0.022901  0.337051 -0.141766 -0.178049 -0.143132   \n",
       "2009-05-12  0.763673 -0.616437 -0.249637 -0.133147  0.902717 -0.351933   \n",
       "2009-05-13  0.552410 -0.719471 -0.641173 -0.030115 -0.049287  0.127540   \n",
       "...              ...       ...       ...       ...       ...       ...   \n",
       "2019-09-28  1.764919 -0.019437 -0.006130 -0.071961 -0.089839 -0.060733   \n",
       "2019-09-29  1.811718  0.070875 -0.140102 -0.027907 -0.079576 -0.108192   \n",
       "2019-09-30  2.817178  0.213592  0.116190  0.067874 -0.165713 -0.020973   \n",
       "2019-10-01  2.740777 -0.038259 -0.159981  0.008356 -0.081524  0.297672   \n",
       "2019-10-02  2.860869 -0.219918  0.298691  0.438956  0.002396  0.150593   \n",
       "\n",
       "                  6         7         8         9   ...        90        91  \\\n",
       "date                                                ...                       \n",
       "2009-05-04  0.078518 -0.845050 -0.826081 -0.329043  ...  0.107552  0.112172   \n",
       "2009-05-05 -0.976174 -0.785034 -0.511813 -0.418262  ... -0.016422 -0.051565   \n",
       "2009-05-08 -0.152205 -0.137561 -0.320182 -0.021014  ... -0.042821 -0.014263   \n",
       "2009-05-12 -0.332288 -0.596769  0.318566 -0.321151  ... -0.085345 -0.071135   \n",
       "2009-05-13  0.068206 -0.100774 -0.274819 -0.080949  ... -0.091908 -0.072269   \n",
       "...              ...       ...       ...       ...  ...       ...       ...   \n",
       "2019-09-28  0.146705  0.280572 -0.044637  0.081915  ...  0.008993  0.062977   \n",
       "2019-09-29  0.294700 -0.024339  0.161656  0.077195  ... -0.014578  0.006286   \n",
       "2019-09-30  0.172849  0.026442  0.002949 -0.039970  ...  0.049921 -0.037052   \n",
       "2019-10-01 -0.174806  0.275577  0.013806  0.085300  ...  0.051619  0.006343   \n",
       "2019-10-02 -0.145212 -0.125348 -0.124949  0.070712  ...  0.028886 -0.053267   \n",
       "\n",
       "                  92        93        94        95        96        97  \\\n",
       "date                                                                     \n",
       "2009-05-04  0.038968 -0.187356  0.075312  0.159345 -0.025975  0.042474   \n",
       "2009-05-05 -0.047186 -0.051693  0.096850  0.125929  0.047916  0.083566   \n",
       "2009-05-08  0.085546 -0.055233 -0.002863  0.027041 -0.044515  0.024860   \n",
       "2009-05-12  0.003974 -0.007599  0.333226  0.070844 -0.114315  0.026641   \n",
       "2009-05-13  0.051072 -0.010656  0.045475  0.100131  0.017376  0.052313   \n",
       "...              ...       ...       ...       ...       ...       ...   \n",
       "2019-09-28  0.012227  0.071581 -0.042681  0.002053  0.006528  0.064066   \n",
       "2019-09-29 -0.006692  0.002615 -0.057323 -0.021273  0.093232  0.015066   \n",
       "2019-09-30 -0.004556  0.029124 -0.044566 -0.007839  0.014728 -0.017043   \n",
       "2019-10-01 -0.083776 -0.019721 -0.073467  0.012158 -0.038114 -0.035598   \n",
       "2019-10-02  0.021604  0.070694  0.031317 -0.077658  0.107947  0.006518   \n",
       "\n",
       "                  98        99  \n",
       "date                            \n",
       "2009-05-04 -0.014691 -0.026927  \n",
       "2009-05-05 -0.094729  0.003240  \n",
       "2009-05-08 -0.011708 -0.030250  \n",
       "2009-05-12  0.025812  0.231355  \n",
       "2009-05-13 -0.048777 -0.057950  \n",
       "...              ...       ...  \n",
       "2019-09-28 -0.013356 -0.004471  \n",
       "2019-09-29  0.035226 -0.000386  \n",
       "2019-09-30  0.013898  0.005306  \n",
       "2019-10-01  0.090137  0.016420  \n",
       "2019-10-02  0.079274  0.062296  \n",
       "\n",
       "[2991 rows x 100 columns]"
      ]
     },
     "execution_count": 24,
     "metadata": {},
     "output_type": "execute_result"
    }
   ],
   "source": [
    "svd_df_daily"
   ]
  },
  {
   "cell_type": "code",
   "execution_count": 25,
   "metadata": {},
   "outputs": [],
   "source": [
    "svd_df_daily.to_csv('svd_df_daily.csv')"
   ]
  },
  {
   "cell_type": "markdown",
   "metadata": {},
   "source": [
    "# 4 PM"
   ]
  },
  {
   "cell_type": "code",
   "execution_count": 26,
   "metadata": {},
   "outputs": [],
   "source": [
    "tweet_data.clean_tweets['timestamp'] = tweet_data.clean_tweets.index\n",
    "after_4_tweets = tweet_data.clean_tweets.timestamp.dt.hour >= 15\n",
    "tweet_data.clean_tweets['after4_date'] = tweet_data.clean_tweets.timestamp.dt.date\n",
    "tweet_data.clean_tweets.loc[after_4_tweets,'after4_date'] = tweet_data.clean_tweets.timestamp[after_4_tweets].dt.date + timedelta(days=1)"
   ]
  },
  {
   "cell_type": "code",
   "execution_count": 27,
   "metadata": {
    "scrolled": false
   },
   "outputs": [
    {
     "data": {
      "text/html": [
       "<div>\n",
       "<style scoped>\n",
       "    .dataframe tbody tr th:only-of-type {\n",
       "        vertical-align: middle;\n",
       "    }\n",
       "\n",
       "    .dataframe tbody tr th {\n",
       "        vertical-align: top;\n",
       "    }\n",
       "\n",
       "    .dataframe thead th {\n",
       "        text-align: right;\n",
       "    }\n",
       "</style>\n",
       "<table border=\"1\" class=\"dataframe\">\n",
       "  <thead>\n",
       "    <tr style=\"text-align: right;\">\n",
       "      <th></th>\n",
       "      <th>tweets</th>\n",
       "      <th>timestamp</th>\n",
       "      <th>after4_date</th>\n",
       "    </tr>\n",
       "    <tr>\n",
       "      <th>timestamp</th>\n",
       "      <th></th>\n",
       "      <th></th>\n",
       "      <th></th>\n",
       "    </tr>\n",
       "  </thead>\n",
       "  <tbody>\n",
       "    <tr>\n",
       "      <td>2019-10-02 23:41:51-05:00</td>\n",
       "      <td>democrats want to steal the election</td>\n",
       "      <td>2019-10-02 23:41:51-05:00</td>\n",
       "      <td>2019-10-03</td>\n",
       "    </tr>\n",
       "    <tr>\n",
       "      <td>2019-10-02 23:27:52-05:00</td>\n",
       "      <td>mississippi there is a very important election...</td>\n",
       "      <td>2019-10-02 23:27:52-05:00</td>\n",
       "      <td>2019-10-03</td>\n",
       "    </tr>\n",
       "    <tr>\n",
       "      <td>2019-10-02 23:27:52-05:00</td>\n",
       "      <td>he loves our military and supports our vets de...</td>\n",
       "      <td>2019-10-02 23:27:52-05:00</td>\n",
       "      <td>2019-10-03</td>\n",
       "    </tr>\n",
       "    <tr>\n",
       "      <td>2019-10-02 21:06:36-05:00</td>\n",
       "      <td>look at this photograph</td>\n",
       "      <td>2019-10-02 21:06:36-05:00</td>\n",
       "      <td>2019-10-03</td>\n",
       "    </tr>\n",
       "    <tr>\n",
       "      <td>2019-10-02 19:51:56-05:00</td>\n",
       "      <td>schiff house intel chairman got early account ...</td>\n",
       "      <td>2019-10-02 19:51:56-05:00</td>\n",
       "      <td>2019-10-03</td>\n",
       "    </tr>\n",
       "    <tr>\n",
       "      <td>...</td>\n",
       "      <td>...</td>\n",
       "      <td>...</td>\n",
       "      <td>...</td>\n",
       "    </tr>\n",
       "    <tr>\n",
       "      <td>2019-09-28 03:55:17-05:00</td>\n",
       "      <td>thank you to general mcmaster just more fake n...</td>\n",
       "      <td>2019-09-28 03:55:17-05:00</td>\n",
       "      <td>2019-09-28</td>\n",
       "    </tr>\n",
       "    <tr>\n",
       "      <td>2019-09-28 02:03:00-05:00</td>\n",
       "      <td></td>\n",
       "      <td>2019-09-28 02:03:00-05:00</td>\n",
       "      <td>2019-09-28</td>\n",
       "    </tr>\n",
       "    <tr>\n",
       "      <td>2019-09-27 19:41:18-05:00</td>\n",
       "      <td>i am draining the swamp</td>\n",
       "      <td>2019-09-27 19:41:18-05:00</td>\n",
       "      <td>2019-09-28</td>\n",
       "    </tr>\n",
       "    <tr>\n",
       "      <td>2019-09-27 15:24:05-05:00</td>\n",
       "      <td>if that perfect phone call with the president ...</td>\n",
       "      <td>2019-09-27 15:24:05-05:00</td>\n",
       "      <td>2019-09-28</td>\n",
       "    </tr>\n",
       "    <tr>\n",
       "      <td>2019-09-27 13:42:57-05:00</td>\n",
       "      <td>sounding more and more like the so called whis...</td>\n",
       "      <td>2019-09-27 13:42:57-05:00</td>\n",
       "      <td>2019-09-27</td>\n",
       "    </tr>\n",
       "  </tbody>\n",
       "</table>\n",
       "<p>100 rows × 3 columns</p>\n",
       "</div>"
      ],
      "text/plain": [
       "                                                                      tweets  \\\n",
       "timestamp                                                                      \n",
       "2019-10-02 23:41:51-05:00              democrats want to steal the election    \n",
       "2019-10-02 23:27:52-05:00  mississippi there is a very important election...   \n",
       "2019-10-02 23:27:52-05:00  he loves our military and supports our vets de...   \n",
       "2019-10-02 21:06:36-05:00                           look at this photograph    \n",
       "2019-10-02 19:51:56-05:00  schiff house intel chairman got early account ...   \n",
       "...                                                                      ...   \n",
       "2019-09-28 03:55:17-05:00  thank you to general mcmaster just more fake n...   \n",
       "2019-09-28 02:03:00-05:00                                                      \n",
       "2019-09-27 19:41:18-05:00                           i am draining the swamp    \n",
       "2019-09-27 15:24:05-05:00  if that perfect phone call with the president ...   \n",
       "2019-09-27 13:42:57-05:00  sounding more and more like the so called whis...   \n",
       "\n",
       "                                          timestamp after4_date  \n",
       "timestamp                                                        \n",
       "2019-10-02 23:41:51-05:00 2019-10-02 23:41:51-05:00  2019-10-03  \n",
       "2019-10-02 23:27:52-05:00 2019-10-02 23:27:52-05:00  2019-10-03  \n",
       "2019-10-02 23:27:52-05:00 2019-10-02 23:27:52-05:00  2019-10-03  \n",
       "2019-10-02 21:06:36-05:00 2019-10-02 21:06:36-05:00  2019-10-03  \n",
       "2019-10-02 19:51:56-05:00 2019-10-02 19:51:56-05:00  2019-10-03  \n",
       "...                                             ...         ...  \n",
       "2019-09-28 03:55:17-05:00 2019-09-28 03:55:17-05:00  2019-09-28  \n",
       "2019-09-28 02:03:00-05:00 2019-09-28 02:03:00-05:00  2019-09-28  \n",
       "2019-09-27 19:41:18-05:00 2019-09-27 19:41:18-05:00  2019-09-28  \n",
       "2019-09-27 15:24:05-05:00 2019-09-27 15:24:05-05:00  2019-09-28  \n",
       "2019-09-27 13:42:57-05:00 2019-09-27 13:42:57-05:00  2019-09-27  \n",
       "\n",
       "[100 rows x 3 columns]"
      ]
     },
     "execution_count": 27,
     "metadata": {},
     "output_type": "execute_result"
    }
   ],
   "source": [
    "tweet_data.clean_tweets.head(100)"
   ]
  },
  {
   "cell_type": "code",
   "execution_count": 28,
   "metadata": {
    "scrolled": true
   },
   "outputs": [
    {
     "data": {
      "text/plain": [
       "after4_date\n",
       "2009-05-05    donald trump will be appearing on the view tom...\n",
       "2009-05-08    donald trump reads top ten financial tips on l...\n",
       "2009-05-09    new blog post celebrity apprentice finale and ...\n",
       "2009-05-12    my persona will never be that of a wallflower ...\n",
       "2009-05-13    miss usa tara conner will not be fired ive alw...\n",
       "Name: tweets, dtype: object"
      ]
     },
     "execution_count": 28,
     "metadata": {},
     "output_type": "execute_result"
    }
   ],
   "source": [
    "combined_daily_tweets = tweet_data.clean_tweets.groupby('after4_date')['tweets'].apply(lambda x: ' '.join(x))\n",
    "combined_daily_tweets.head()"
   ]
  },
  {
   "cell_type": "code",
   "execution_count": 29,
   "metadata": {
    "scrolled": false
   },
   "outputs": [
    {
     "name": "stderr",
     "output_type": "stream",
     "text": [
      "/opt/anaconda3/lib/python3.7/site-packages/ipykernel_launcher.py:1: FutureWarning: The signature of `Series.to_csv` was aligned to that of `DataFrame.to_csv`, and argument 'header' will change its default value from False to True: please pass an explicit value to suppress this warning.\n",
      "  \"\"\"Entry point for launching an IPython kernel.\n"
     ]
    }
   ],
   "source": [
    "combined_daily_tweets.to_csv('combined_daily_tweets.csv')"
   ]
  },
  {
   "cell_type": "markdown",
   "metadata": {},
   "source": [
    "# Check if the concatenation is correct"
   ]
  },
  {
   "cell_type": "code",
   "execution_count": 30,
   "metadata": {
    "scrolled": true
   },
   "outputs": [
    {
     "data": {
      "text/plain": [
       "timestamp\n",
       "2019-10-02 23:41:51-05:00                democrats want to steal the election \n",
       "2019-10-02 23:27:52-05:00    mississippi there is a very important election...\n",
       "2019-10-02 23:27:52-05:00    he loves our military and supports our vets de...\n",
       "2019-10-02 21:06:36-05:00                             look at this photograph \n",
       "2019-10-02 19:51:56-05:00    schiff house intel chairman got early account ...\n",
       "2019-10-02 15:48:47-05:00    the do nothing democrats should be focused on ...\n",
       "2019-10-02 15:39:07-05:00    adam schiff should only be so lucky to have th...\n",
       "2019-10-02 15:31:53-05:00    democrats are trying to undo the election rega...\n",
       "2019-10-02 15:31:03-05:00    nancy pelosi just said that she is interested ...\n",
       "2019-10-02 15:19:09-05:00    all of this impeachment nonsense which is goin...\n",
       "2019-10-02 15:02:11-05:00    now the press is trying to sell the fact that ...\n",
       "Name: tweets, dtype: object"
      ]
     },
     "execution_count": 30,
     "metadata": {},
     "output_type": "execute_result"
    }
   ],
   "source": [
    "tweet_data.clean_tweets.tweets[tweet_data.clean_tweets.after4_date==pd.to_datetime(\"2019-10-03\")]"
   ]
  },
  {
   "cell_type": "code",
   "execution_count": 31,
   "metadata": {},
   "outputs": [
    {
     "data": {
      "text/plain": [
       "after4_date\n",
       "2019-10-03    democrats want to steal the election  mississi...\n",
       "Name: tweets, dtype: object"
      ]
     },
     "execution_count": 31,
     "metadata": {},
     "output_type": "execute_result"
    }
   ],
   "source": [
    "combined_daily_tweets[combined_daily_tweets.index.values==pd.to_datetime(\"2019-10-03\")]"
   ]
  },
  {
   "cell_type": "markdown",
   "metadata": {},
   "source": [
    "# Create SVD matrix of the combiened 4 PM tweets"
   ]
  },
  {
   "cell_type": "code",
   "execution_count": 32,
   "metadata": {},
   "outputs": [],
   "source": [
    "combined_generator = TextFeaturesGenerator(combined_daily_tweets)"
   ]
  },
  {
   "cell_type": "code",
   "execution_count": 33,
   "metadata": {
    "scrolled": true
   },
   "outputs": [],
   "source": [
    "n_components = 2\n",
    "combined_svd_df = pd.DataFrame(combined_generator.get_svd_tfidf_mat(n_components=n_components))"
   ]
  },
  {
   "cell_type": "code",
   "execution_count": 34,
   "metadata": {},
   "outputs": [],
   "source": [
    "combined_svd_df['after4_date'] = combined_daily_tweets.index.values"
   ]
  },
  {
   "cell_type": "code",
   "execution_count": 35,
   "metadata": {},
   "outputs": [
    {
     "data": {
      "text/html": [
       "<div>\n",
       "<style scoped>\n",
       "    .dataframe tbody tr th:only-of-type {\n",
       "        vertical-align: middle;\n",
       "    }\n",
       "\n",
       "    .dataframe tbody tr th {\n",
       "        vertical-align: top;\n",
       "    }\n",
       "\n",
       "    .dataframe thead th {\n",
       "        text-align: right;\n",
       "    }\n",
       "</style>\n",
       "<table border=\"1\" class=\"dataframe\">\n",
       "  <thead>\n",
       "    <tr style=\"text-align: right;\">\n",
       "      <th></th>\n",
       "      <th>0</th>\n",
       "      <th>1</th>\n",
       "      <th>after4_date</th>\n",
       "    </tr>\n",
       "  </thead>\n",
       "  <tbody>\n",
       "    <tr>\n",
       "      <td>0</td>\n",
       "      <td>0.231291</td>\n",
       "      <td>0.194568</td>\n",
       "      <td>2009-05-05</td>\n",
       "    </tr>\n",
       "    <tr>\n",
       "      <td>1</td>\n",
       "      <td>0.052782</td>\n",
       "      <td>0.062221</td>\n",
       "      <td>2009-05-08</td>\n",
       "    </tr>\n",
       "    <tr>\n",
       "      <td>2</td>\n",
       "      <td>0.079785</td>\n",
       "      <td>0.035236</td>\n",
       "      <td>2009-05-09</td>\n",
       "    </tr>\n",
       "    <tr>\n",
       "      <td>3</td>\n",
       "      <td>0.098248</td>\n",
       "      <td>0.041978</td>\n",
       "      <td>2009-05-12</td>\n",
       "    </tr>\n",
       "    <tr>\n",
       "      <td>4</td>\n",
       "      <td>0.069910</td>\n",
       "      <td>0.062147</td>\n",
       "      <td>2009-05-13</td>\n",
       "    </tr>\n",
       "  </tbody>\n",
       "</table>\n",
       "</div>"
      ],
      "text/plain": [
       "          0         1 after4_date\n",
       "0  0.231291  0.194568  2009-05-05\n",
       "1  0.052782  0.062221  2009-05-08\n",
       "2  0.079785  0.035236  2009-05-09\n",
       "3  0.098248  0.041978  2009-05-12\n",
       "4  0.069910  0.062147  2009-05-13"
      ]
     },
     "execution_count": 35,
     "metadata": {},
     "output_type": "execute_result"
    }
   ],
   "source": [
    "combined_svd_df.head()"
   ]
  },
  {
   "cell_type": "code",
   "execution_count": 36,
   "metadata": {},
   "outputs": [],
   "source": [
    "combined_svd_df.to_csv('combined_svd_df.csv')"
   ]
  }
 ],
 "metadata": {
  "kernelspec": {
   "display_name": "Python 3",
   "language": "python",
   "name": "python3"
  },
  "language_info": {
   "codemirror_mode": {
    "name": "ipython",
    "version": 3
   },
   "file_extension": ".py",
   "mimetype": "text/x-python",
   "name": "python",
   "nbconvert_exporter": "python",
   "pygments_lexer": "ipython3",
   "version": "3.6.8"
  },
  "pycharm": {
   "stem_cell": {
    "cell_type": "raw",
    "metadata": {
     "collapsed": false
    },
    "source": []
   }
  }
 },
 "nbformat": 4,
 "nbformat_minor": 2
}
