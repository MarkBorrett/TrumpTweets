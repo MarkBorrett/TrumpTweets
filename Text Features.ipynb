{
 "cells": [
  {
   "cell_type": "markdown",
   "metadata": {},
   "source": [
    "# Overview"
   ]
  },
  {
   "cell_type": "markdown",
   "metadata": {},
   "source": [
    "This notebook uses the 'TextFeaturesGenerator' class (from text_features) to convert textual data into qunatitaive data. \n",
    "\n",
    "For now, it creates a bag-of-words representation and a tf-idf representation. We will also add SVD/PCA of these matrices and a Word2Vec representation in the next few days.\n",
    "\n",
    "Will update the TextFeaturesGenerator class on an ongoing basis and update the usage here."
   ]
  },
  {
   "cell_type": "code",
   "execution_count": 1,
   "metadata": {
    "pycharm": {
     "is_executing": true,
     "name": "#%%\n"
    }
   },
   "outputs": [],
   "source": [
    "from text_features import TextFeaturesGenerator\n",
    "from project_helper import TweetData\n",
    "import pandas as pd\n",
    "import numpy as np"
   ]
  },
  {
   "cell_type": "markdown",
   "metadata": {},
   "source": [
    "Reusing the TweetData class to get cleaned tweets."
   ]
  },
  {
   "cell_type": "code",
   "execution_count": 2,
   "metadata": {
    "pycharm": {
     "is_executing": false
    }
   },
   "outputs": [
    {
     "data": {
      "text/html": [
       "<div>\n",
       "<style scoped>\n",
       "    .dataframe tbody tr th:only-of-type {\n",
       "        vertical-align: middle;\n",
       "    }\n",
       "\n",
       "    .dataframe tbody tr th {\n",
       "        vertical-align: top;\n",
       "    }\n",
       "\n",
       "    .dataframe thead th {\n",
       "        text-align: right;\n",
       "    }\n",
       "</style>\n",
       "<table border=\"1\" class=\"dataframe\">\n",
       "  <thead>\n",
       "    <tr style=\"text-align: right;\">\n",
       "      <th></th>\n",
       "      <th>tweets</th>\n",
       "    </tr>\n",
       "    <tr>\n",
       "      <th>timestamp</th>\n",
       "      <th></th>\n",
       "    </tr>\n",
       "  </thead>\n",
       "  <tbody>\n",
       "    <tr>\n",
       "      <td>2019-10-02 23:41:51-05:00</td>\n",
       "      <td>democrats want to steal the election</td>\n",
       "    </tr>\n",
       "    <tr>\n",
       "      <td>2019-10-02 23:27:52-05:00</td>\n",
       "      <td>mississippi there is a very important election...</td>\n",
       "    </tr>\n",
       "    <tr>\n",
       "      <td>2019-10-02 23:27:52-05:00</td>\n",
       "      <td>he loves our military and supports our vets de...</td>\n",
       "    </tr>\n",
       "    <tr>\n",
       "      <td>2019-10-02 21:06:36-05:00</td>\n",
       "      <td>look at this photograph</td>\n",
       "    </tr>\n",
       "    <tr>\n",
       "      <td>2019-10-02 19:51:56-05:00</td>\n",
       "      <td>schiff house intel chairman got early account ...</td>\n",
       "    </tr>\n",
       "  </tbody>\n",
       "</table>\n",
       "</div>"
      ],
      "text/plain": [
       "                                                                      tweets\n",
       "timestamp                                                                   \n",
       "2019-10-02 23:41:51-05:00              democrats want to steal the election \n",
       "2019-10-02 23:27:52-05:00  mississippi there is a very important election...\n",
       "2019-10-02 23:27:52-05:00  he loves our military and supports our vets de...\n",
       "2019-10-02 21:06:36-05:00                           look at this photograph \n",
       "2019-10-02 19:51:56-05:00  schiff house intel chairman got early account ..."
      ]
     },
     "execution_count": 2,
     "metadata": {},
     "output_type": "execute_result"
    }
   ],
   "source": [
    "tweet_data = TweetData()\n",
    "tweet_data.clean_tweets.head()"
   ]
  },
  {
   "cell_type": "markdown",
   "metadata": {},
   "source": [
    "Creating a 'TextFeaturesGenerator' instance which takes the tweets as an argument"
   ]
  },
  {
   "cell_type": "code",
   "execution_count": 3,
   "metadata": {},
   "outputs": [],
   "source": [
    "feature_generator = TextFeaturesGenerator(tweet_data.clean_tweets.tweets)"
   ]
  },
  {
   "cell_type": "markdown",
   "metadata": {},
   "source": [
    "'get_bow_matrix' creates the bag-of-words matrix"
   ]
  },
  {
   "cell_type": "code",
   "execution_count": 4,
   "metadata": {},
   "outputs": [],
   "source": [
    "bow_mat = feature_generator.get_bow_matrix()"
   ]
  },
  {
   "cell_type": "code",
   "execution_count": 5,
   "metadata": {
    "scrolled": true
   },
   "outputs": [
    {
     "data": {
      "text/plain": [
       "(27960, 17359)"
      ]
     },
     "execution_count": 5,
     "metadata": {},
     "output_type": "execute_result"
    }
   ],
   "source": [
    "bow_mat.shape"
   ]
  },
  {
   "cell_type": "markdown",
   "metadata": {},
   "source": [
    "The shape of this matrix is 27.96K rows (same number as the tweets) and the columns are 16,781, which is equal to the unique number of words in the vocabulary."
   ]
  },
  {
   "cell_type": "code",
   "execution_count": 6,
   "metadata": {},
   "outputs": [
    {
     "data": {
      "text/plain": [
       "matrix([[0, 0, 0, 0, 0, 0, 0, 0, 0, 0],\n",
       "        [0, 0, 0, 0, 0, 0, 0, 0, 0, 0],\n",
       "        [0, 0, 0, 0, 0, 0, 0, 0, 0, 0],\n",
       "        [0, 0, 0, 0, 0, 0, 0, 0, 0, 0],\n",
       "        [0, 0, 0, 0, 0, 0, 0, 0, 0, 0],\n",
       "        [0, 0, 0, 0, 0, 0, 0, 0, 0, 0],\n",
       "        [0, 0, 0, 0, 0, 0, 0, 0, 0, 0],\n",
       "        [0, 0, 0, 0, 0, 0, 0, 0, 0, 0],\n",
       "        [0, 0, 0, 0, 0, 0, 0, 0, 0, 0],\n",
       "        [0, 0, 0, 0, 0, 0, 0, 0, 0, 0]])"
      ]
     },
     "execution_count": 6,
     "metadata": {},
     "output_type": "execute_result"
    }
   ],
   "source": [
    "bow_mat[:10,:10].todense()"
   ]
  },
  {
   "cell_type": "markdown",
   "metadata": {},
   "source": [
    "As you can see, most of the values are zero which is why it is stored as a 'sparse-matrix'"
   ]
  },
  {
   "cell_type": "markdown",
   "metadata": {},
   "source": [
    "Bag-of-words is simply a count of words in the tweet. A better representation is 'tf-idf'. The 'get_tfidf_matrix' creates"
   ]
  },
  {
   "cell_type": "code",
   "execution_count": 7,
   "metadata": {},
   "outputs": [
    {
     "data": {
      "text/plain": [
       "(27960, 17359)"
      ]
     },
     "execution_count": 7,
     "metadata": {},
     "output_type": "execute_result"
    }
   ],
   "source": [
    "tfidf_mat = feature_generator.get_tfidf_matrix()\n",
    "tfidf_mat.shape"
   ]
  },
  {
   "cell_type": "markdown",
   "metadata": {},
   "source": [
    "The matrices can be saved using the matrices function. You can either specify a 'folder' which will be created and both matrices stored in it, else will store in the working directory."
   ]
  },
  {
   "cell_type": "code",
   "execution_count": 8,
   "metadata": {},
   "outputs": [],
   "source": [
    "feature_generator.save_matrices()"
   ]
  },
  {
   "cell_type": "markdown",
   "metadata": {},
   "source": [
    "The two matrices will be saved with the names \"bow_mat.npz\" and \"tfidf_mat.npz\""
   ]
  },
  {
   "cell_type": "markdown",
   "metadata": {},
   "source": [
    "You can also specify a folder and a suffix to the file names."
   ]
  },
  {
   "cell_type": "code",
   "execution_count": 9,
   "metadata": {},
   "outputs": [],
   "source": [
    "feature_generator.save_matrices(folder=\"matrices\",suffix=\"_v2\")"
   ]
  },
  {
   "cell_type": "markdown",
   "metadata": {},
   "source": [
    "The files can be loaded using the following commands:"
   ]
  },
  {
   "cell_type": "code",
   "execution_count": 10,
   "metadata": {},
   "outputs": [
    {
     "name": "stdout",
     "output_type": "stream",
     "text": [
      "(27960, 17359)\n",
      "(27960, 17359)\n"
     ]
    }
   ],
   "source": [
    "from scipy import sparse\n",
    "bow_loaded = sparse.load_npz(\"bow_mat.npz\")\n",
    "tfidf_loaded = sparse.load_npz(\"tfidf_mat.npz\")\n",
    "print(bow_loaded.shape)\n",
    "print(tfidf_loaded.shape)"
   ]
  },
  {
   "cell_type": "markdown",
   "metadata": {},
   "source": [
    "## PCA (through SVD) of the matrices"
   ]
  },
  {
   "cell_type": "markdown",
   "metadata": {},
   "source": [
    "You can get the SVD of the bow and tfidf matrices as well."
   ]
  },
  {
   "cell_type": "code",
   "execution_count": 11,
   "metadata": {},
   "outputs": [],
   "source": [
    "svd_bow_mat = feature_generator.get_svd_bow_mat()"
   ]
  },
  {
   "cell_type": "code",
   "execution_count": 12,
   "metadata": {},
   "outputs": [
    {
     "data": {
      "text/plain": [
       "(27960, 2)"
      ]
     },
     "execution_count": 12,
     "metadata": {},
     "output_type": "execute_result"
    }
   ],
   "source": [
    "svd_bow_mat.shape"
   ]
  },
  {
   "cell_type": "markdown",
   "metadata": {},
   "source": [
    "By default, it gives back two components. You can changet that using the n_components argument."
   ]
  },
  {
   "cell_type": "code",
   "execution_count": 13,
   "metadata": {},
   "outputs": [],
   "source": [
    "svd_bow_mat = feature_generator.get_svd_bow_mat(n_components=100)"
   ]
  },
  {
   "cell_type": "code",
   "execution_count": 14,
   "metadata": {},
   "outputs": [
    {
     "data": {
      "text/plain": [
       "(27960, 100)"
      ]
     },
     "execution_count": 14,
     "metadata": {},
     "output_type": "execute_result"
    }
   ],
   "source": [
    "svd_bow_mat.shape"
   ]
  },
  {
   "cell_type": "markdown",
   "metadata": {},
   "source": [
    "You can get the SVD of the tf-idf as well."
   ]
  },
  {
   "cell_type": "code",
   "execution_count": 15,
   "metadata": {},
   "outputs": [],
   "source": [
    "svd_tfidf_mat = feature_generator.get_svd_bow_mat(n_components=100)"
   ]
  },
  {
   "cell_type": "code",
   "execution_count": 16,
   "metadata": {},
   "outputs": [
    {
     "data": {
      "text/plain": [
       "(27960, 100)"
      ]
     },
     "execution_count": 16,
     "metadata": {},
     "output_type": "execute_result"
    }
   ],
   "source": [
    "svd_tfidf_mat.shape"
   ]
  },
  {
   "cell_type": "markdown",
   "metadata": {},
   "source": [
    "These matrices can be saved as well."
   ]
  },
  {
   "cell_type": "code",
   "execution_count": 17,
   "metadata": {},
   "outputs": [],
   "source": [
    "feature_generator.save_matrices()"
   ]
  },
  {
   "cell_type": "markdown",
   "metadata": {},
   "source": [
    "You can load them back using np.load"
   ]
  },
  {
   "cell_type": "code",
   "execution_count": 18,
   "metadata": {},
   "outputs": [],
   "source": [
    "svd_loaded_mat = np.load('svd_tfidf_mat.npy')"
   ]
  },
  {
   "cell_type": "code",
   "execution_count": 19,
   "metadata": {
    "scrolled": true
   },
   "outputs": [
    {
     "data": {
      "text/plain": [
       "(27960, 100)"
      ]
     },
     "execution_count": 19,
     "metadata": {},
     "output_type": "execute_result"
    }
   ],
   "source": [
    "svd_loaded_mat.shape"
   ]
  },
  {
   "cell_type": "markdown",
   "metadata": {},
   "source": [
    "# Aggregagte SVD per day "
   ]
  },
  {
   "cell_type": "code",
   "execution_count": 20,
   "metadata": {},
   "outputs": [],
   "source": [
    "svd_df = pd.DataFrame(svd_loaded_mat)"
   ]
  },
  {
   "cell_type": "code",
   "execution_count": 30,
   "metadata": {},
   "outputs": [],
   "source": [
    "svd_df['timestamp'] = tweet_data.clean_tweets.index\n",
    "svd_df['date'] = svd_df.timestamp.dt.date"
   ]
  },
  {
   "cell_type": "code",
   "execution_count": 31,
   "metadata": {
    "scrolled": true
   },
   "outputs": [
    {
     "data": {
      "text/html": [
       "<div>\n",
       "<style scoped>\n",
       "    .dataframe tbody tr th:only-of-type {\n",
       "        vertical-align: middle;\n",
       "    }\n",
       "\n",
       "    .dataframe tbody tr th {\n",
       "        vertical-align: top;\n",
       "    }\n",
       "\n",
       "    .dataframe thead th {\n",
       "        text-align: right;\n",
       "    }\n",
       "</style>\n",
       "<table border=\"1\" class=\"dataframe\">\n",
       "  <thead>\n",
       "    <tr style=\"text-align: right;\">\n",
       "      <th></th>\n",
       "      <th>0</th>\n",
       "      <th>1</th>\n",
       "      <th>2</th>\n",
       "      <th>3</th>\n",
       "      <th>4</th>\n",
       "      <th>5</th>\n",
       "      <th>6</th>\n",
       "      <th>7</th>\n",
       "      <th>8</th>\n",
       "      <th>9</th>\n",
       "      <th>...</th>\n",
       "      <th>92</th>\n",
       "      <th>93</th>\n",
       "      <th>94</th>\n",
       "      <th>95</th>\n",
       "      <th>96</th>\n",
       "      <th>97</th>\n",
       "      <th>98</th>\n",
       "      <th>99</th>\n",
       "      <th>timestamp</th>\n",
       "      <th>date</th>\n",
       "    </tr>\n",
       "  </thead>\n",
       "  <tbody>\n",
       "    <tr>\n",
       "      <td>0</td>\n",
       "      <td>1.069162</td>\n",
       "      <td>0.073472</td>\n",
       "      <td>-0.803908</td>\n",
       "      <td>-0.202682</td>\n",
       "      <td>-0.503965</td>\n",
       "      <td>0.011639</td>\n",
       "      <td>0.038897</td>\n",
       "      <td>-0.052699</td>\n",
       "      <td>-0.081935</td>\n",
       "      <td>-0.020411</td>\n",
       "      <td>...</td>\n",
       "      <td>-0.008533</td>\n",
       "      <td>0.103911</td>\n",
       "      <td>0.132162</td>\n",
       "      <td>0.064930</td>\n",
       "      <td>-0.044275</td>\n",
       "      <td>0.374643</td>\n",
       "      <td>-0.025156</td>\n",
       "      <td>-0.077360</td>\n",
       "      <td>2019-10-02 23:41:51-05:00</td>\n",
       "      <td>2019-10-02</td>\n",
       "    </tr>\n",
       "    <tr>\n",
       "      <td>1</td>\n",
       "      <td>2.399010</td>\n",
       "      <td>-2.640690</td>\n",
       "      <td>1.537751</td>\n",
       "      <td>0.988793</td>\n",
       "      <td>0.253774</td>\n",
       "      <td>-0.426361</td>\n",
       "      <td>-1.617954</td>\n",
       "      <td>0.713951</td>\n",
       "      <td>-1.783919</td>\n",
       "      <td>0.935433</td>\n",
       "      <td>...</td>\n",
       "      <td>0.037253</td>\n",
       "      <td>0.329752</td>\n",
       "      <td>-0.163356</td>\n",
       "      <td>-0.255373</td>\n",
       "      <td>0.152590</td>\n",
       "      <td>0.148491</td>\n",
       "      <td>-0.060753</td>\n",
       "      <td>-0.125840</td>\n",
       "      <td>2019-10-02 23:27:52-05:00</td>\n",
       "      <td>2019-10-02</td>\n",
       "    </tr>\n",
       "    <tr>\n",
       "      <td>2</td>\n",
       "      <td>2.036368</td>\n",
       "      <td>-2.172903</td>\n",
       "      <td>2.635054</td>\n",
       "      <td>0.428314</td>\n",
       "      <td>-0.241706</td>\n",
       "      <td>-0.040652</td>\n",
       "      <td>-0.673243</td>\n",
       "      <td>-0.356856</td>\n",
       "      <td>-1.043026</td>\n",
       "      <td>1.124688</td>\n",
       "      <td>...</td>\n",
       "      <td>-0.081089</td>\n",
       "      <td>0.268323</td>\n",
       "      <td>0.137235</td>\n",
       "      <td>0.542850</td>\n",
       "      <td>0.196629</td>\n",
       "      <td>-0.039206</td>\n",
       "      <td>-0.293467</td>\n",
       "      <td>-0.561141</td>\n",
       "      <td>2019-10-02 23:27:52-05:00</td>\n",
       "      <td>2019-10-02</td>\n",
       "    </tr>\n",
       "    <tr>\n",
       "      <td>3</td>\n",
       "      <td>0.116249</td>\n",
       "      <td>-0.056975</td>\n",
       "      <td>0.003445</td>\n",
       "      <td>0.020397</td>\n",
       "      <td>0.103324</td>\n",
       "      <td>-0.119210</td>\n",
       "      <td>-0.130229</td>\n",
       "      <td>-0.093681</td>\n",
       "      <td>-0.024051</td>\n",
       "      <td>-0.028973</td>\n",
       "      <td>...</td>\n",
       "      <td>-0.031563</td>\n",
       "      <td>0.010567</td>\n",
       "      <td>0.022513</td>\n",
       "      <td>0.062977</td>\n",
       "      <td>0.055526</td>\n",
       "      <td>0.042436</td>\n",
       "      <td>-0.069955</td>\n",
       "      <td>0.007539</td>\n",
       "      <td>2019-10-02 21:06:36-05:00</td>\n",
       "      <td>2019-10-02</td>\n",
       "    </tr>\n",
       "    <tr>\n",
       "      <td>4</td>\n",
       "      <td>0.474283</td>\n",
       "      <td>-0.025551</td>\n",
       "      <td>0.216644</td>\n",
       "      <td>0.714577</td>\n",
       "      <td>0.521690</td>\n",
       "      <td>0.847947</td>\n",
       "      <td>-0.057162</td>\n",
       "      <td>-0.040227</td>\n",
       "      <td>0.004714</td>\n",
       "      <td>-0.261764</td>\n",
       "      <td>...</td>\n",
       "      <td>-0.063327</td>\n",
       "      <td>0.126635</td>\n",
       "      <td>0.115928</td>\n",
       "      <td>-0.038622</td>\n",
       "      <td>-0.059819</td>\n",
       "      <td>0.106529</td>\n",
       "      <td>0.051002</td>\n",
       "      <td>0.144991</td>\n",
       "      <td>2019-10-02 19:51:56-05:00</td>\n",
       "      <td>2019-10-02</td>\n",
       "    </tr>\n",
       "  </tbody>\n",
       "</table>\n",
       "<p>5 rows × 102 columns</p>\n",
       "</div>"
      ],
      "text/plain": [
       "          0         1         2         3         4         5         6  \\\n",
       "0  1.069162  0.073472 -0.803908 -0.202682 -0.503965  0.011639  0.038897   \n",
       "1  2.399010 -2.640690  1.537751  0.988793  0.253774 -0.426361 -1.617954   \n",
       "2  2.036368 -2.172903  2.635054  0.428314 -0.241706 -0.040652 -0.673243   \n",
       "3  0.116249 -0.056975  0.003445  0.020397  0.103324 -0.119210 -0.130229   \n",
       "4  0.474283 -0.025551  0.216644  0.714577  0.521690  0.847947 -0.057162   \n",
       "\n",
       "          7         8         9  ...        92        93        94        95  \\\n",
       "0 -0.052699 -0.081935 -0.020411  ... -0.008533  0.103911  0.132162  0.064930   \n",
       "1  0.713951 -1.783919  0.935433  ...  0.037253  0.329752 -0.163356 -0.255373   \n",
       "2 -0.356856 -1.043026  1.124688  ... -0.081089  0.268323  0.137235  0.542850   \n",
       "3 -0.093681 -0.024051 -0.028973  ... -0.031563  0.010567  0.022513  0.062977   \n",
       "4 -0.040227  0.004714 -0.261764  ... -0.063327  0.126635  0.115928 -0.038622   \n",
       "\n",
       "         96        97        98        99                 timestamp  \\\n",
       "0 -0.044275  0.374643 -0.025156 -0.077360 2019-10-02 23:41:51-05:00   \n",
       "1  0.152590  0.148491 -0.060753 -0.125840 2019-10-02 23:27:52-05:00   \n",
       "2  0.196629 -0.039206 -0.293467 -0.561141 2019-10-02 23:27:52-05:00   \n",
       "3  0.055526  0.042436 -0.069955  0.007539 2019-10-02 21:06:36-05:00   \n",
       "4 -0.059819  0.106529  0.051002  0.144991 2019-10-02 19:51:56-05:00   \n",
       "\n",
       "         date  \n",
       "0  2019-10-02  \n",
       "1  2019-10-02  \n",
       "2  2019-10-02  \n",
       "3  2019-10-02  \n",
       "4  2019-10-02  \n",
       "\n",
       "[5 rows x 102 columns]"
      ]
     },
     "execution_count": 31,
     "metadata": {},
     "output_type": "execute_result"
    }
   ],
   "source": [
    "svd_df.head()"
   ]
  },
  {
   "cell_type": "code",
   "execution_count": 32,
   "metadata": {
    "scrolled": true
   },
   "outputs": [],
   "source": [
    "svd_df_daily = svd_df.groupby('date').agg(np.mean)"
   ]
  },
  {
   "cell_type": "code",
   "execution_count": 33,
   "metadata": {},
   "outputs": [
    {
     "data": {
      "text/html": [
       "<div>\n",
       "<style scoped>\n",
       "    .dataframe tbody tr th:only-of-type {\n",
       "        vertical-align: middle;\n",
       "    }\n",
       "\n",
       "    .dataframe tbody tr th {\n",
       "        vertical-align: top;\n",
       "    }\n",
       "\n",
       "    .dataframe thead th {\n",
       "        text-align: right;\n",
       "    }\n",
       "</style>\n",
       "<table border=\"1\" class=\"dataframe\">\n",
       "  <thead>\n",
       "    <tr style=\"text-align: right;\">\n",
       "      <th></th>\n",
       "      <th>0</th>\n",
       "      <th>1</th>\n",
       "      <th>2</th>\n",
       "      <th>3</th>\n",
       "      <th>4</th>\n",
       "      <th>5</th>\n",
       "      <th>6</th>\n",
       "      <th>7</th>\n",
       "      <th>8</th>\n",
       "      <th>9</th>\n",
       "      <th>...</th>\n",
       "      <th>90</th>\n",
       "      <th>91</th>\n",
       "      <th>92</th>\n",
       "      <th>93</th>\n",
       "      <th>94</th>\n",
       "      <th>95</th>\n",
       "      <th>96</th>\n",
       "      <th>97</th>\n",
       "      <th>98</th>\n",
       "      <th>99</th>\n",
       "    </tr>\n",
       "    <tr>\n",
       "      <th>date</th>\n",
       "      <th></th>\n",
       "      <th></th>\n",
       "      <th></th>\n",
       "      <th></th>\n",
       "      <th></th>\n",
       "      <th></th>\n",
       "      <th></th>\n",
       "      <th></th>\n",
       "      <th></th>\n",
       "      <th></th>\n",
       "      <th></th>\n",
       "      <th></th>\n",
       "      <th></th>\n",
       "      <th></th>\n",
       "      <th></th>\n",
       "      <th></th>\n",
       "      <th></th>\n",
       "      <th></th>\n",
       "      <th></th>\n",
       "      <th></th>\n",
       "      <th></th>\n",
       "    </tr>\n",
       "  </thead>\n",
       "  <tbody>\n",
       "    <tr>\n",
       "      <td>2009-05-04</td>\n",
       "      <td>1.917539</td>\n",
       "      <td>-0.741860</td>\n",
       "      <td>-0.006851</td>\n",
       "      <td>-0.307680</td>\n",
       "      <td>0.114204</td>\n",
       "      <td>-0.790058</td>\n",
       "      <td>0.078518</td>\n",
       "      <td>-0.845050</td>\n",
       "      <td>-0.826082</td>\n",
       "      <td>-0.329043</td>\n",
       "      <td>...</td>\n",
       "      <td>-0.114264</td>\n",
       "      <td>-0.068996</td>\n",
       "      <td>-0.046006</td>\n",
       "      <td>-0.175538</td>\n",
       "      <td>-0.010240</td>\n",
       "      <td>0.157938</td>\n",
       "      <td>-0.052772</td>\n",
       "      <td>-0.065883</td>\n",
       "      <td>-0.006727</td>\n",
       "      <td>0.118449</td>\n",
       "    </tr>\n",
       "    <tr>\n",
       "      <td>2009-05-05</td>\n",
       "      <td>1.736160</td>\n",
       "      <td>-0.734847</td>\n",
       "      <td>-0.035298</td>\n",
       "      <td>-0.524848</td>\n",
       "      <td>-0.118777</td>\n",
       "      <td>-0.626884</td>\n",
       "      <td>-0.976174</td>\n",
       "      <td>-0.785034</td>\n",
       "      <td>-0.511813</td>\n",
       "      <td>-0.418263</td>\n",
       "      <td>...</td>\n",
       "      <td>-0.066591</td>\n",
       "      <td>-0.081658</td>\n",
       "      <td>0.033595</td>\n",
       "      <td>0.037179</td>\n",
       "      <td>0.072670</td>\n",
       "      <td>0.088817</td>\n",
       "      <td>-0.207716</td>\n",
       "      <td>0.094504</td>\n",
       "      <td>-0.026172</td>\n",
       "      <td>0.103785</td>\n",
       "    </tr>\n",
       "    <tr>\n",
       "      <td>2009-05-08</td>\n",
       "      <td>0.657092</td>\n",
       "      <td>0.022901</td>\n",
       "      <td>0.337051</td>\n",
       "      <td>-0.141766</td>\n",
       "      <td>-0.178049</td>\n",
       "      <td>-0.143132</td>\n",
       "      <td>-0.152205</td>\n",
       "      <td>-0.137561</td>\n",
       "      <td>-0.320182</td>\n",
       "      <td>-0.021014</td>\n",
       "      <td>...</td>\n",
       "      <td>-0.093939</td>\n",
       "      <td>0.005010</td>\n",
       "      <td>0.015407</td>\n",
       "      <td>-0.009648</td>\n",
       "      <td>-0.053923</td>\n",
       "      <td>0.001675</td>\n",
       "      <td>0.063372</td>\n",
       "      <td>-0.009658</td>\n",
       "      <td>0.004553</td>\n",
       "      <td>0.038659</td>\n",
       "    </tr>\n",
       "    <tr>\n",
       "      <td>2009-05-12</td>\n",
       "      <td>0.763673</td>\n",
       "      <td>-0.616437</td>\n",
       "      <td>-0.249637</td>\n",
       "      <td>-0.133147</td>\n",
       "      <td>0.902717</td>\n",
       "      <td>-0.351933</td>\n",
       "      <td>-0.332287</td>\n",
       "      <td>-0.596769</td>\n",
       "      <td>0.318566</td>\n",
       "      <td>-0.321152</td>\n",
       "      <td>...</td>\n",
       "      <td>0.033095</td>\n",
       "      <td>0.065421</td>\n",
       "      <td>0.094737</td>\n",
       "      <td>-0.058205</td>\n",
       "      <td>-0.053908</td>\n",
       "      <td>0.269022</td>\n",
       "      <td>-0.069903</td>\n",
       "      <td>0.140128</td>\n",
       "      <td>0.008667</td>\n",
       "      <td>0.028387</td>\n",
       "    </tr>\n",
       "    <tr>\n",
       "      <td>2009-05-13</td>\n",
       "      <td>0.552410</td>\n",
       "      <td>-0.719471</td>\n",
       "      <td>-0.641173</td>\n",
       "      <td>-0.030115</td>\n",
       "      <td>-0.049287</td>\n",
       "      <td>0.127540</td>\n",
       "      <td>0.068206</td>\n",
       "      <td>-0.100774</td>\n",
       "      <td>-0.274819</td>\n",
       "      <td>-0.080950</td>\n",
       "      <td>...</td>\n",
       "      <td>-0.076818</td>\n",
       "      <td>-0.134267</td>\n",
       "      <td>0.038221</td>\n",
       "      <td>0.078122</td>\n",
       "      <td>0.074399</td>\n",
       "      <td>0.082008</td>\n",
       "      <td>-0.129604</td>\n",
       "      <td>0.094293</td>\n",
       "      <td>0.063868</td>\n",
       "      <td>0.117058</td>\n",
       "    </tr>\n",
       "    <tr>\n",
       "      <td>...</td>\n",
       "      <td>...</td>\n",
       "      <td>...</td>\n",
       "      <td>...</td>\n",
       "      <td>...</td>\n",
       "      <td>...</td>\n",
       "      <td>...</td>\n",
       "      <td>...</td>\n",
       "      <td>...</td>\n",
       "      <td>...</td>\n",
       "      <td>...</td>\n",
       "      <td>...</td>\n",
       "      <td>...</td>\n",
       "      <td>...</td>\n",
       "      <td>...</td>\n",
       "      <td>...</td>\n",
       "      <td>...</td>\n",
       "      <td>...</td>\n",
       "      <td>...</td>\n",
       "      <td>...</td>\n",
       "      <td>...</td>\n",
       "      <td>...</td>\n",
       "    </tr>\n",
       "    <tr>\n",
       "      <td>2019-09-28</td>\n",
       "      <td>1.764919</td>\n",
       "      <td>-0.019437</td>\n",
       "      <td>-0.006130</td>\n",
       "      <td>-0.071961</td>\n",
       "      <td>-0.089839</td>\n",
       "      <td>-0.060733</td>\n",
       "      <td>0.146705</td>\n",
       "      <td>0.280572</td>\n",
       "      <td>-0.044637</td>\n",
       "      <td>0.081915</td>\n",
       "      <td>...</td>\n",
       "      <td>-0.061211</td>\n",
       "      <td>-0.042600</td>\n",
       "      <td>-0.097677</td>\n",
       "      <td>0.009592</td>\n",
       "      <td>-0.046995</td>\n",
       "      <td>-0.090214</td>\n",
       "      <td>-0.007210</td>\n",
       "      <td>0.063117</td>\n",
       "      <td>-0.031090</td>\n",
       "      <td>-0.039078</td>\n",
       "    </tr>\n",
       "    <tr>\n",
       "      <td>2019-09-29</td>\n",
       "      <td>1.811718</td>\n",
       "      <td>0.070875</td>\n",
       "      <td>-0.140102</td>\n",
       "      <td>-0.027907</td>\n",
       "      <td>-0.079576</td>\n",
       "      <td>-0.108192</td>\n",
       "      <td>0.294700</td>\n",
       "      <td>-0.024340</td>\n",
       "      <td>0.161656</td>\n",
       "      <td>0.077195</td>\n",
       "      <td>...</td>\n",
       "      <td>-0.020664</td>\n",
       "      <td>0.014886</td>\n",
       "      <td>0.014062</td>\n",
       "      <td>0.019580</td>\n",
       "      <td>0.045472</td>\n",
       "      <td>-0.029547</td>\n",
       "      <td>0.006700</td>\n",
       "      <td>0.066310</td>\n",
       "      <td>-0.079988</td>\n",
       "      <td>0.013068</td>\n",
       "    </tr>\n",
       "    <tr>\n",
       "      <td>2019-09-30</td>\n",
       "      <td>2.817178</td>\n",
       "      <td>0.213592</td>\n",
       "      <td>0.116190</td>\n",
       "      <td>0.067874</td>\n",
       "      <td>-0.165713</td>\n",
       "      <td>-0.020973</td>\n",
       "      <td>0.172849</td>\n",
       "      <td>0.026442</td>\n",
       "      <td>0.002949</td>\n",
       "      <td>-0.039970</td>\n",
       "      <td>...</td>\n",
       "      <td>0.007047</td>\n",
       "      <td>-0.020523</td>\n",
       "      <td>0.024337</td>\n",
       "      <td>0.007288</td>\n",
       "      <td>-0.048441</td>\n",
       "      <td>0.005252</td>\n",
       "      <td>0.051084</td>\n",
       "      <td>-0.012075</td>\n",
       "      <td>-0.052275</td>\n",
       "      <td>-0.003989</td>\n",
       "    </tr>\n",
       "    <tr>\n",
       "      <td>2019-10-01</td>\n",
       "      <td>2.740777</td>\n",
       "      <td>-0.038259</td>\n",
       "      <td>-0.159981</td>\n",
       "      <td>0.008356</td>\n",
       "      <td>-0.081524</td>\n",
       "      <td>0.297672</td>\n",
       "      <td>-0.174806</td>\n",
       "      <td>0.275577</td>\n",
       "      <td>0.013806</td>\n",
       "      <td>0.085301</td>\n",
       "      <td>...</td>\n",
       "      <td>-0.038705</td>\n",
       "      <td>0.050866</td>\n",
       "      <td>0.028910</td>\n",
       "      <td>-0.011732</td>\n",
       "      <td>0.001326</td>\n",
       "      <td>-0.091190</td>\n",
       "      <td>0.062107</td>\n",
       "      <td>-0.024470</td>\n",
       "      <td>0.021412</td>\n",
       "      <td>0.095215</td>\n",
       "    </tr>\n",
       "    <tr>\n",
       "      <td>2019-10-02</td>\n",
       "      <td>2.860869</td>\n",
       "      <td>-0.219918</td>\n",
       "      <td>0.298691</td>\n",
       "      <td>0.438956</td>\n",
       "      <td>0.002396</td>\n",
       "      <td>0.150592</td>\n",
       "      <td>-0.145212</td>\n",
       "      <td>-0.125348</td>\n",
       "      <td>-0.124949</td>\n",
       "      <td>0.070712</td>\n",
       "      <td>...</td>\n",
       "      <td>0.008000</td>\n",
       "      <td>-0.023831</td>\n",
       "      <td>0.026477</td>\n",
       "      <td>0.038020</td>\n",
       "      <td>0.003298</td>\n",
       "      <td>-0.003412</td>\n",
       "      <td>0.016853</td>\n",
       "      <td>0.103292</td>\n",
       "      <td>-0.141811</td>\n",
       "      <td>-0.064745</td>\n",
       "    </tr>\n",
       "  </tbody>\n",
       "</table>\n",
       "<p>2991 rows × 100 columns</p>\n",
       "</div>"
      ],
      "text/plain": [
       "                  0         1         2         3         4         5   \\\n",
       "date                                                                     \n",
       "2009-05-04  1.917539 -0.741860 -0.006851 -0.307680  0.114204 -0.790058   \n",
       "2009-05-05  1.736160 -0.734847 -0.035298 -0.524848 -0.118777 -0.626884   \n",
       "2009-05-08  0.657092  0.022901  0.337051 -0.141766 -0.178049 -0.143132   \n",
       "2009-05-12  0.763673 -0.616437 -0.249637 -0.133147  0.902717 -0.351933   \n",
       "2009-05-13  0.552410 -0.719471 -0.641173 -0.030115 -0.049287  0.127540   \n",
       "...              ...       ...       ...       ...       ...       ...   \n",
       "2019-09-28  1.764919 -0.019437 -0.006130 -0.071961 -0.089839 -0.060733   \n",
       "2019-09-29  1.811718  0.070875 -0.140102 -0.027907 -0.079576 -0.108192   \n",
       "2019-09-30  2.817178  0.213592  0.116190  0.067874 -0.165713 -0.020973   \n",
       "2019-10-01  2.740777 -0.038259 -0.159981  0.008356 -0.081524  0.297672   \n",
       "2019-10-02  2.860869 -0.219918  0.298691  0.438956  0.002396  0.150592   \n",
       "\n",
       "                  6         7         8         9   ...        90        91  \\\n",
       "date                                                ...                       \n",
       "2009-05-04  0.078518 -0.845050 -0.826082 -0.329043  ... -0.114264 -0.068996   \n",
       "2009-05-05 -0.976174 -0.785034 -0.511813 -0.418263  ... -0.066591 -0.081658   \n",
       "2009-05-08 -0.152205 -0.137561 -0.320182 -0.021014  ... -0.093939  0.005010   \n",
       "2009-05-12 -0.332287 -0.596769  0.318566 -0.321152  ...  0.033095  0.065421   \n",
       "2009-05-13  0.068206 -0.100774 -0.274819 -0.080950  ... -0.076818 -0.134267   \n",
       "...              ...       ...       ...       ...  ...       ...       ...   \n",
       "2019-09-28  0.146705  0.280572 -0.044637  0.081915  ... -0.061211 -0.042600   \n",
       "2019-09-29  0.294700 -0.024340  0.161656  0.077195  ... -0.020664  0.014886   \n",
       "2019-09-30  0.172849  0.026442  0.002949 -0.039970  ...  0.007047 -0.020523   \n",
       "2019-10-01 -0.174806  0.275577  0.013806  0.085301  ... -0.038705  0.050866   \n",
       "2019-10-02 -0.145212 -0.125348 -0.124949  0.070712  ...  0.008000 -0.023831   \n",
       "\n",
       "                  92        93        94        95        96        97  \\\n",
       "date                                                                     \n",
       "2009-05-04 -0.046006 -0.175538 -0.010240  0.157938 -0.052772 -0.065883   \n",
       "2009-05-05  0.033595  0.037179  0.072670  0.088817 -0.207716  0.094504   \n",
       "2009-05-08  0.015407 -0.009648 -0.053923  0.001675  0.063372 -0.009658   \n",
       "2009-05-12  0.094737 -0.058205 -0.053908  0.269022 -0.069903  0.140128   \n",
       "2009-05-13  0.038221  0.078122  0.074399  0.082008 -0.129604  0.094293   \n",
       "...              ...       ...       ...       ...       ...       ...   \n",
       "2019-09-28 -0.097677  0.009592 -0.046995 -0.090214 -0.007210  0.063117   \n",
       "2019-09-29  0.014062  0.019580  0.045472 -0.029547  0.006700  0.066310   \n",
       "2019-09-30  0.024337  0.007288 -0.048441  0.005252  0.051084 -0.012075   \n",
       "2019-10-01  0.028910 -0.011732  0.001326 -0.091190  0.062107 -0.024470   \n",
       "2019-10-02  0.026477  0.038020  0.003298 -0.003412  0.016853  0.103292   \n",
       "\n",
       "                  98        99  \n",
       "date                            \n",
       "2009-05-04 -0.006727  0.118449  \n",
       "2009-05-05 -0.026172  0.103785  \n",
       "2009-05-08  0.004553  0.038659  \n",
       "2009-05-12  0.008667  0.028387  \n",
       "2009-05-13  0.063868  0.117058  \n",
       "...              ...       ...  \n",
       "2019-09-28 -0.031090 -0.039078  \n",
       "2019-09-29 -0.079988  0.013068  \n",
       "2019-09-30 -0.052275 -0.003989  \n",
       "2019-10-01  0.021412  0.095215  \n",
       "2019-10-02 -0.141811 -0.064745  \n",
       "\n",
       "[2991 rows x 100 columns]"
      ]
     },
     "execution_count": 33,
     "metadata": {},
     "output_type": "execute_result"
    }
   ],
   "source": [
    "svd_df_daily"
   ]
  },
  {
   "cell_type": "code",
   "execution_count": 34,
   "metadata": {},
   "outputs": [],
   "source": [
    "svd_df_daily.to_csv('svd_df_daily.csv')\n"
   ]
  }
 ],
 "metadata": {
  "kernelspec": {
   "display_name": "Python 3",
   "language": "python",
   "name": "python3"
  },
  "language_info": {
   "codemirror_mode": {
    "name": "ipython",
    "version": 3
   },
   "file_extension": ".py",
   "mimetype": "text/x-python",
   "name": "python",
   "nbconvert_exporter": "python",
   "pygments_lexer": "ipython3",
   "version": "3.7.4"
  },
  "pycharm": {
   "stem_cell": {
    "cell_type": "raw",
    "metadata": {
     "collapsed": false
    },
    "source": []
   }
  }
 },
 "nbformat": 4,
 "nbformat_minor": 2
}
