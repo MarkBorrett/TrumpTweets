{
 "cells": [
  {
   "cell_type": "markdown",
   "metadata": {},
   "source": [
    "# Overview"
   ]
  },
  {
   "cell_type": "markdown",
   "metadata": {},
   "source": [
    "This notebook uses the 'TextFeaturesGenerator' class (from text_features) to convert textual data into qunatitaive data. \n",
    "\n",
    "For now, it creates a bag-of-words representation and a tf-idf representation. We will also add SVD/PCA of these matrices and a Word2Vec representation in the next few days.\n",
    "\n",
    "Will update the TextFeaturesGenerator class on an ongoing basis and update the usage here."
   ]
  },
  {
   "cell_type": "code",
   "execution_count": 1,
   "metadata": {
    "pycharm": {
     "is_executing": true,
     "name": "#%%\n"
    }
   },
   "outputs": [],
   "source": [
    "from text_features import TextFeaturesGenerator\n",
    "from project_helper import TweetData\n",
    "import pandas as pd\n",
    "import numpy as np\n",
    "from datetime import timedelta  \n",
    "import datetime"
   ]
  },
  {
   "cell_type": "markdown",
   "metadata": {},
   "source": [
    "Reusing the TweetData class to get cleaned tweets."
   ]
  },
  {
   "cell_type": "code",
   "execution_count": 2,
   "metadata": {
    "pycharm": {
     "is_executing": false
    }
   },
   "outputs": [
    {
     "data": {
      "text/html": [
       "<div>\n",
       "<style scoped>\n",
       "    .dataframe tbody tr th:only-of-type {\n",
       "        vertical-align: middle;\n",
       "    }\n",
       "\n",
       "    .dataframe tbody tr th {\n",
       "        vertical-align: top;\n",
       "    }\n",
       "\n",
       "    .dataframe thead th {\n",
       "        text-align: right;\n",
       "    }\n",
       "</style>\n",
       "<table border=\"1\" class=\"dataframe\">\n",
       "  <thead>\n",
       "    <tr style=\"text-align: right;\">\n",
       "      <th></th>\n",
       "      <th>tweets</th>\n",
       "    </tr>\n",
       "    <tr>\n",
       "      <th>timestamp</th>\n",
       "      <th></th>\n",
       "    </tr>\n",
       "  </thead>\n",
       "  <tbody>\n",
       "    <tr>\n",
       "      <td>2019-10-02 23:41:51-05:00</td>\n",
       "      <td>democrats want to steal the election</td>\n",
       "    </tr>\n",
       "    <tr>\n",
       "      <td>2019-10-02 23:27:52-05:00</td>\n",
       "      <td>mississippi there is a very important election...</td>\n",
       "    </tr>\n",
       "    <tr>\n",
       "      <td>2019-10-02 23:27:52-05:00</td>\n",
       "      <td>he loves our military and supports our vets de...</td>\n",
       "    </tr>\n",
       "    <tr>\n",
       "      <td>2019-10-02 21:06:36-05:00</td>\n",
       "      <td>look at this photograph</td>\n",
       "    </tr>\n",
       "    <tr>\n",
       "      <td>2019-10-02 19:51:56-05:00</td>\n",
       "      <td>schiff house intel chairman got early account ...</td>\n",
       "    </tr>\n",
       "  </tbody>\n",
       "</table>\n",
       "</div>"
      ],
      "text/plain": [
       "                                                                      tweets\n",
       "timestamp                                                                   \n",
       "2019-10-02 23:41:51-05:00              democrats want to steal the election \n",
       "2019-10-02 23:27:52-05:00  mississippi there is a very important election...\n",
       "2019-10-02 23:27:52-05:00  he loves our military and supports our vets de...\n",
       "2019-10-02 21:06:36-05:00                           look at this photograph \n",
       "2019-10-02 19:51:56-05:00  schiff house intel chairman got early account ..."
      ]
     },
     "execution_count": 2,
     "metadata": {},
     "output_type": "execute_result"
    }
   ],
   "source": [
    "tweet_data = TweetData()\n",
    "tweet_data.clean_tweets.head()"
   ]
  },
  {
   "cell_type": "markdown",
   "metadata": {},
   "source": [
    "Creating a 'TextFeaturesGenerator' instance which takes the tweets as an argument"
   ]
  },
  {
   "cell_type": "code",
   "execution_count": 3,
   "metadata": {},
   "outputs": [],
   "source": [
    "feature_generator = TextFeaturesGenerator(tweet_data.clean_tweets.tweets)"
   ]
  },
  {
   "cell_type": "markdown",
   "metadata": {},
   "source": [
    "'get_bow_matrix' creates the bag-of-words matrix"
   ]
  },
  {
   "cell_type": "code",
   "execution_count": 4,
   "metadata": {},
   "outputs": [],
   "source": [
    "bow_mat = feature_generator.get_bow_matrix()"
   ]
  },
  {
   "cell_type": "code",
   "execution_count": 5,
   "metadata": {
    "scrolled": true
   },
   "outputs": [
    {
     "data": {
      "text/plain": [
       "(27960, 16781)"
      ]
     },
     "execution_count": 5,
     "metadata": {},
     "output_type": "execute_result"
    }
   ],
   "source": [
    "bow_mat.shape"
   ]
  },
  {
   "cell_type": "markdown",
   "metadata": {},
   "source": [
    "The shape of this matrix is 27.96K rows (same number as the tweets) and the columns are 16,781, which is equal to the unique number of words in the vocabulary."
   ]
  },
  {
   "cell_type": "code",
   "execution_count": 6,
   "metadata": {},
   "outputs": [
    {
     "data": {
      "text/plain": [
       "matrix([[0, 0, 0, 0, 0, 0, 0, 0, 0, 0],\n",
       "        [0, 0, 0, 0, 0, 0, 0, 0, 0, 0],\n",
       "        [0, 0, 0, 0, 0, 0, 0, 0, 0, 0],\n",
       "        [0, 0, 0, 0, 0, 0, 0, 0, 0, 0],\n",
       "        [0, 0, 0, 0, 0, 0, 0, 0, 0, 0],\n",
       "        [0, 0, 0, 0, 0, 0, 0, 0, 0, 0],\n",
       "        [0, 0, 0, 0, 0, 0, 0, 0, 0, 0],\n",
       "        [0, 0, 0, 0, 0, 0, 0, 0, 0, 0],\n",
       "        [0, 0, 0, 0, 0, 0, 0, 0, 0, 0],\n",
       "        [0, 0, 0, 0, 0, 0, 0, 0, 0, 0]], dtype=int64)"
      ]
     },
     "execution_count": 6,
     "metadata": {},
     "output_type": "execute_result"
    }
   ],
   "source": [
    "bow_mat[:10,:10].todense()"
   ]
  },
  {
   "cell_type": "markdown",
   "metadata": {},
   "source": [
    "As you can see, most of the values are zero which is why it is stored as a 'sparse-matrix'"
   ]
  },
  {
   "cell_type": "markdown",
   "metadata": {},
   "source": [
    "Bag-of-words is simply a count of words in the tweet. A better representation is 'tf-idf'. The 'get_tfidf_matrix' creates"
   ]
  },
  {
   "cell_type": "code",
   "execution_count": 7,
   "metadata": {},
   "outputs": [
    {
     "data": {
      "text/plain": [
       "(27960, 16781)"
      ]
     },
     "execution_count": 7,
     "metadata": {},
     "output_type": "execute_result"
    }
   ],
   "source": [
    "tfidf_mat = feature_generator.get_tfidf_matrix()\n",
    "tfidf_mat.shape"
   ]
  },
  {
   "cell_type": "markdown",
   "metadata": {},
   "source": [
    "The matrices can be saved using the matrices function. You can either specify a 'folder' which will be created and both matrices stored in it, else will store in the working directory."
   ]
  },
  {
   "cell_type": "code",
   "execution_count": 8,
   "metadata": {},
   "outputs": [],
   "source": [
    "feature_generator.save_matrices()"
   ]
  },
  {
   "cell_type": "markdown",
   "metadata": {},
   "source": [
    "The two matrices will be saved with the names \"bow_mat.npz\" and \"tfidf_mat.npz\""
   ]
  },
  {
   "cell_type": "markdown",
   "metadata": {},
   "source": [
    "You can also specify a folder and a suffix to the file names."
   ]
  },
  {
   "cell_type": "code",
   "execution_count": 9,
   "metadata": {},
   "outputs": [],
   "source": [
    "feature_generator.save_matrices(folder=\"matrices\",suffix=\"_v2\")"
   ]
  },
  {
   "cell_type": "markdown",
   "metadata": {},
   "source": [
    "The files can be loaded using the following commands:"
   ]
  },
  {
   "cell_type": "code",
   "execution_count": 10,
   "metadata": {},
   "outputs": [
    {
     "name": "stdout",
     "output_type": "stream",
     "text": [
      "(27960, 16781)\n",
      "(27960, 16781)\n"
     ]
    }
   ],
   "source": [
    "from scipy import sparse\n",
    "bow_loaded = sparse.load_npz(\"bow_mat.npz\")\n",
    "tfidf_loaded = sparse.load_npz(\"tfidf_mat.npz\")\n",
    "print(bow_loaded.shape)\n",
    "print(tfidf_loaded.shape)"
   ]
  },
  {
   "cell_type": "markdown",
   "metadata": {},
   "source": [
    "## PCA (through SVD) of the matrices"
   ]
  },
  {
   "cell_type": "markdown",
   "metadata": {},
   "source": [
    "You can get the SVD of the bow and tfidf matrices as well."
   ]
  },
  {
   "cell_type": "code",
   "execution_count": 11,
   "metadata": {},
   "outputs": [],
   "source": [
    "svd_bow_mat = feature_generator.get_svd_bow_mat()"
   ]
  },
  {
   "cell_type": "code",
   "execution_count": 12,
   "metadata": {},
   "outputs": [
    {
     "data": {
      "text/plain": [
       "(27960, 2)"
      ]
     },
     "execution_count": 12,
     "metadata": {},
     "output_type": "execute_result"
    }
   ],
   "source": [
    "svd_bow_mat.shape"
   ]
  },
  {
   "cell_type": "markdown",
   "metadata": {},
   "source": [
    "By default, it gives back two components. You can changet that using the n_components argument."
   ]
  },
  {
   "cell_type": "code",
   "execution_count": 13,
   "metadata": {},
   "outputs": [],
   "source": [
    "svd_bow_mat = feature_generator.get_svd_bow_mat(n_components=100)"
   ]
  },
  {
   "cell_type": "code",
   "execution_count": 14,
   "metadata": {},
   "outputs": [
    {
     "data": {
      "text/plain": [
       "(27960, 100)"
      ]
     },
     "execution_count": 14,
     "metadata": {},
     "output_type": "execute_result"
    }
   ],
   "source": [
    "svd_bow_mat.shape"
   ]
  },
  {
   "cell_type": "markdown",
   "metadata": {},
   "source": [
    "You can get the SVD of the tf-idf as well."
   ]
  },
  {
   "cell_type": "code",
   "execution_count": 15,
   "metadata": {},
   "outputs": [],
   "source": [
    "svd_tfidf_mat = feature_generator.get_svd_bow_mat(n_components=100)"
   ]
  },
  {
   "cell_type": "code",
   "execution_count": 16,
   "metadata": {},
   "outputs": [
    {
     "data": {
      "text/plain": [
       "(27960, 100)"
      ]
     },
     "execution_count": 16,
     "metadata": {},
     "output_type": "execute_result"
    }
   ],
   "source": [
    "svd_tfidf_mat.shape"
   ]
  },
  {
   "cell_type": "markdown",
   "metadata": {},
   "source": [
    "These matrices can be saved as well."
   ]
  },
  {
   "cell_type": "code",
   "execution_count": 17,
   "metadata": {},
   "outputs": [],
   "source": [
    "feature_generator.save_matrices()"
   ]
  },
  {
   "cell_type": "markdown",
   "metadata": {},
   "source": [
    "You can load them back using np.load"
   ]
  },
  {
   "cell_type": "code",
   "execution_count": 18,
   "metadata": {},
   "outputs": [],
   "source": [
    "svd_loaded_mat = np.load('svd_tfidf_mat.npy')"
   ]
  },
  {
   "cell_type": "code",
   "execution_count": 19,
   "metadata": {
    "scrolled": true
   },
   "outputs": [
    {
     "data": {
      "text/plain": [
       "(27960, 100)"
      ]
     },
     "execution_count": 19,
     "metadata": {},
     "output_type": "execute_result"
    }
   ],
   "source": [
    "svd_loaded_mat.shape"
   ]
  },
  {
   "cell_type": "markdown",
   "metadata": {},
   "source": [
    "# Aggregagte SVD per day "
   ]
  },
  {
   "cell_type": "code",
   "execution_count": 20,
   "metadata": {},
   "outputs": [],
   "source": [
    "svd_df = pd.DataFrame(svd_loaded_mat)"
   ]
  },
  {
   "cell_type": "code",
   "execution_count": 21,
   "metadata": {},
   "outputs": [],
   "source": [
    "svd_df['timestamp'] = tweet_data.clean_tweets.index\n",
    "svd_df['date'] = svd_df.timestamp.dt.date"
   ]
  },
  {
   "cell_type": "code",
   "execution_count": 22,
   "metadata": {
    "scrolled": true
   },
   "outputs": [
    {
     "data": {
      "text/html": [
       "<div>\n",
       "<style scoped>\n",
       "    .dataframe tbody tr th:only-of-type {\n",
       "        vertical-align: middle;\n",
       "    }\n",
       "\n",
       "    .dataframe tbody tr th {\n",
       "        vertical-align: top;\n",
       "    }\n",
       "\n",
       "    .dataframe thead th {\n",
       "        text-align: right;\n",
       "    }\n",
       "</style>\n",
       "<table border=\"1\" class=\"dataframe\">\n",
       "  <thead>\n",
       "    <tr style=\"text-align: right;\">\n",
       "      <th></th>\n",
       "      <th>0</th>\n",
       "      <th>1</th>\n",
       "      <th>2</th>\n",
       "      <th>3</th>\n",
       "      <th>4</th>\n",
       "      <th>5</th>\n",
       "      <th>6</th>\n",
       "      <th>7</th>\n",
       "      <th>8</th>\n",
       "      <th>9</th>\n",
       "      <th>...</th>\n",
       "      <th>92</th>\n",
       "      <th>93</th>\n",
       "      <th>94</th>\n",
       "      <th>95</th>\n",
       "      <th>96</th>\n",
       "      <th>97</th>\n",
       "      <th>98</th>\n",
       "      <th>99</th>\n",
       "      <th>timestamp</th>\n",
       "      <th>date</th>\n",
       "    </tr>\n",
       "  </thead>\n",
       "  <tbody>\n",
       "    <tr>\n",
       "      <td>0</td>\n",
       "      <td>1.067114</td>\n",
       "      <td>0.077396</td>\n",
       "      <td>-0.803793</td>\n",
       "      <td>-0.205652</td>\n",
       "      <td>-0.505180</td>\n",
       "      <td>0.004843</td>\n",
       "      <td>0.039186</td>\n",
       "      <td>-0.049387</td>\n",
       "      <td>-0.095551</td>\n",
       "      <td>-0.017207</td>\n",
       "      <td>...</td>\n",
       "      <td>-0.038184</td>\n",
       "      <td>0.116668</td>\n",
       "      <td>0.082880</td>\n",
       "      <td>-0.014091</td>\n",
       "      <td>0.017845</td>\n",
       "      <td>0.083295</td>\n",
       "      <td>-0.133397</td>\n",
       "      <td>0.150659</td>\n",
       "      <td>2019-10-02 23:41:51-05:00</td>\n",
       "      <td>2019-10-02</td>\n",
       "    </tr>\n",
       "    <tr>\n",
       "      <td>1</td>\n",
       "      <td>2.398382</td>\n",
       "      <td>-2.635966</td>\n",
       "      <td>1.537750</td>\n",
       "      <td>0.957777</td>\n",
       "      <td>0.272032</td>\n",
       "      <td>-0.429117</td>\n",
       "      <td>-1.631507</td>\n",
       "      <td>0.552008</td>\n",
       "      <td>-1.720561</td>\n",
       "      <td>1.136832</td>\n",
       "      <td>...</td>\n",
       "      <td>0.477601</td>\n",
       "      <td>-0.076841</td>\n",
       "      <td>0.183800</td>\n",
       "      <td>0.013123</td>\n",
       "      <td>0.157688</td>\n",
       "      <td>-0.299846</td>\n",
       "      <td>0.255499</td>\n",
       "      <td>-0.004232</td>\n",
       "      <td>2019-10-02 23:27:52-05:00</td>\n",
       "      <td>2019-10-02</td>\n",
       "    </tr>\n",
       "    <tr>\n",
       "      <td>2</td>\n",
       "      <td>2.039926</td>\n",
       "      <td>-2.169685</td>\n",
       "      <td>2.635236</td>\n",
       "      <td>0.428123</td>\n",
       "      <td>-0.238948</td>\n",
       "      <td>-0.022691</td>\n",
       "      <td>-0.655132</td>\n",
       "      <td>-0.462280</td>\n",
       "      <td>-1.005658</td>\n",
       "      <td>1.190836</td>\n",
       "      <td>...</td>\n",
       "      <td>-0.218651</td>\n",
       "      <td>-0.002521</td>\n",
       "      <td>0.446379</td>\n",
       "      <td>-0.422941</td>\n",
       "      <td>0.125603</td>\n",
       "      <td>-0.709889</td>\n",
       "      <td>0.274716</td>\n",
       "      <td>-0.015907</td>\n",
       "      <td>2019-10-02 23:27:52-05:00</td>\n",
       "      <td>2019-10-02</td>\n",
       "    </tr>\n",
       "    <tr>\n",
       "      <td>3</td>\n",
       "      <td>0.116174</td>\n",
       "      <td>-0.057314</td>\n",
       "      <td>0.003153</td>\n",
       "      <td>0.019891</td>\n",
       "      <td>0.105173</td>\n",
       "      <td>-0.114806</td>\n",
       "      <td>-0.126431</td>\n",
       "      <td>-0.100204</td>\n",
       "      <td>-0.022856</td>\n",
       "      <td>-0.030552</td>\n",
       "      <td>...</td>\n",
       "      <td>-0.022863</td>\n",
       "      <td>0.074032</td>\n",
       "      <td>0.009432</td>\n",
       "      <td>-0.027872</td>\n",
       "      <td>0.046263</td>\n",
       "      <td>-0.048488</td>\n",
       "      <td>-0.025964</td>\n",
       "      <td>-0.056114</td>\n",
       "      <td>2019-10-02 21:06:36-05:00</td>\n",
       "      <td>2019-10-02</td>\n",
       "    </tr>\n",
       "    <tr>\n",
       "      <td>4</td>\n",
       "      <td>0.473519</td>\n",
       "      <td>-0.025296</td>\n",
       "      <td>0.216236</td>\n",
       "      <td>0.710462</td>\n",
       "      <td>0.506245</td>\n",
       "      <td>0.856471</td>\n",
       "      <td>-0.055029</td>\n",
       "      <td>-0.015950</td>\n",
       "      <td>-0.015656</td>\n",
       "      <td>-0.262653</td>\n",
       "      <td>...</td>\n",
       "      <td>0.125645</td>\n",
       "      <td>0.155059</td>\n",
       "      <td>-0.043188</td>\n",
       "      <td>0.023508</td>\n",
       "      <td>-0.021414</td>\n",
       "      <td>-0.080335</td>\n",
       "      <td>-0.030428</td>\n",
       "      <td>-0.232628</td>\n",
       "      <td>2019-10-02 19:51:56-05:00</td>\n",
       "      <td>2019-10-02</td>\n",
       "    </tr>\n",
       "  </tbody>\n",
       "</table>\n",
       "<p>5 rows × 102 columns</p>\n",
       "</div>"
      ],
      "text/plain": [
       "          0         1         2         3         4         5         6  \\\n",
       "0  1.067114  0.077396 -0.803793 -0.205652 -0.505180  0.004843  0.039186   \n",
       "1  2.398382 -2.635966  1.537750  0.957777  0.272032 -0.429117 -1.631507   \n",
       "2  2.039926 -2.169685  2.635236  0.428123 -0.238948 -0.022691 -0.655132   \n",
       "3  0.116174 -0.057314  0.003153  0.019891  0.105173 -0.114806 -0.126431   \n",
       "4  0.473519 -0.025296  0.216236  0.710462  0.506245  0.856471 -0.055029   \n",
       "\n",
       "          7         8         9  ...        92        93        94        95  \\\n",
       "0 -0.049387 -0.095551 -0.017207  ... -0.038184  0.116668  0.082880 -0.014091   \n",
       "1  0.552008 -1.720561  1.136832  ...  0.477601 -0.076841  0.183800  0.013123   \n",
       "2 -0.462280 -1.005658  1.190836  ... -0.218651 -0.002521  0.446379 -0.422941   \n",
       "3 -0.100204 -0.022856 -0.030552  ... -0.022863  0.074032  0.009432 -0.027872   \n",
       "4 -0.015950 -0.015656 -0.262653  ...  0.125645  0.155059 -0.043188  0.023508   \n",
       "\n",
       "         96        97        98        99                 timestamp  \\\n",
       "0  0.017845  0.083295 -0.133397  0.150659 2019-10-02 23:41:51-05:00   \n",
       "1  0.157688 -0.299846  0.255499 -0.004232 2019-10-02 23:27:52-05:00   \n",
       "2  0.125603 -0.709889  0.274716 -0.015907 2019-10-02 23:27:52-05:00   \n",
       "3  0.046263 -0.048488 -0.025964 -0.056114 2019-10-02 21:06:36-05:00   \n",
       "4 -0.021414 -0.080335 -0.030428 -0.232628 2019-10-02 19:51:56-05:00   \n",
       "\n",
       "         date  \n",
       "0  2019-10-02  \n",
       "1  2019-10-02  \n",
       "2  2019-10-02  \n",
       "3  2019-10-02  \n",
       "4  2019-10-02  \n",
       "\n",
       "[5 rows x 102 columns]"
      ]
     },
     "execution_count": 22,
     "metadata": {},
     "output_type": "execute_result"
    }
   ],
   "source": [
    "svd_df.head()"
   ]
  },
  {
   "cell_type": "code",
   "execution_count": 23,
   "metadata": {
    "scrolled": true
   },
   "outputs": [],
   "source": [
    "svd_df_daily = svd_df.groupby('date').agg(np.mean)"
   ]
  },
  {
   "cell_type": "code",
   "execution_count": 24,
   "metadata": {},
   "outputs": [
    {
     "data": {
      "text/html": [
       "<div>\n",
       "<style scoped>\n",
       "    .dataframe tbody tr th:only-of-type {\n",
       "        vertical-align: middle;\n",
       "    }\n",
       "\n",
       "    .dataframe tbody tr th {\n",
       "        vertical-align: top;\n",
       "    }\n",
       "\n",
       "    .dataframe thead th {\n",
       "        text-align: right;\n",
       "    }\n",
       "</style>\n",
       "<table border=\"1\" class=\"dataframe\">\n",
       "  <thead>\n",
       "    <tr style=\"text-align: right;\">\n",
       "      <th></th>\n",
       "      <th>0</th>\n",
       "      <th>1</th>\n",
       "      <th>2</th>\n",
       "      <th>3</th>\n",
       "      <th>4</th>\n",
       "      <th>5</th>\n",
       "      <th>6</th>\n",
       "      <th>7</th>\n",
       "      <th>8</th>\n",
       "      <th>9</th>\n",
       "      <th>...</th>\n",
       "      <th>90</th>\n",
       "      <th>91</th>\n",
       "      <th>92</th>\n",
       "      <th>93</th>\n",
       "      <th>94</th>\n",
       "      <th>95</th>\n",
       "      <th>96</th>\n",
       "      <th>97</th>\n",
       "      <th>98</th>\n",
       "      <th>99</th>\n",
       "    </tr>\n",
       "    <tr>\n",
       "      <th>date</th>\n",
       "      <th></th>\n",
       "      <th></th>\n",
       "      <th></th>\n",
       "      <th></th>\n",
       "      <th></th>\n",
       "      <th></th>\n",
       "      <th></th>\n",
       "      <th></th>\n",
       "      <th></th>\n",
       "      <th></th>\n",
       "      <th></th>\n",
       "      <th></th>\n",
       "      <th></th>\n",
       "      <th></th>\n",
       "      <th></th>\n",
       "      <th></th>\n",
       "      <th></th>\n",
       "      <th></th>\n",
       "      <th></th>\n",
       "      <th></th>\n",
       "      <th></th>\n",
       "    </tr>\n",
       "  </thead>\n",
       "  <tbody>\n",
       "    <tr>\n",
       "      <td>2009-05-04</td>\n",
       "      <td>1.917882</td>\n",
       "      <td>-0.737776</td>\n",
       "      <td>-0.008240</td>\n",
       "      <td>-0.307825</td>\n",
       "      <td>0.125388</td>\n",
       "      <td>-0.765858</td>\n",
       "      <td>0.104030</td>\n",
       "      <td>-0.852788</td>\n",
       "      <td>-0.843460</td>\n",
       "      <td>-0.306545</td>\n",
       "      <td>...</td>\n",
       "      <td>-0.093716</td>\n",
       "      <td>-0.001603</td>\n",
       "      <td>-0.175242</td>\n",
       "      <td>-0.210991</td>\n",
       "      <td>-0.030184</td>\n",
       "      <td>0.047171</td>\n",
       "      <td>0.120859</td>\n",
       "      <td>0.238349</td>\n",
       "      <td>0.044229</td>\n",
       "      <td>-0.099610</td>\n",
       "    </tr>\n",
       "    <tr>\n",
       "      <td>2009-05-05</td>\n",
       "      <td>1.734408</td>\n",
       "      <td>-0.729916</td>\n",
       "      <td>-0.037521</td>\n",
       "      <td>-0.528596</td>\n",
       "      <td>-0.111331</td>\n",
       "      <td>-0.610496</td>\n",
       "      <td>-0.951095</td>\n",
       "      <td>-0.822610</td>\n",
       "      <td>-0.527629</td>\n",
       "      <td>-0.409863</td>\n",
       "      <td>...</td>\n",
       "      <td>-0.143628</td>\n",
       "      <td>-0.031154</td>\n",
       "      <td>-0.015099</td>\n",
       "      <td>-0.109080</td>\n",
       "      <td>0.123480</td>\n",
       "      <td>-0.065329</td>\n",
       "      <td>0.089585</td>\n",
       "      <td>0.072774</td>\n",
       "      <td>0.127022</td>\n",
       "      <td>-0.087434</td>\n",
       "    </tr>\n",
       "    <tr>\n",
       "      <td>2009-05-08</td>\n",
       "      <td>0.656465</td>\n",
       "      <td>0.025012</td>\n",
       "      <td>0.336565</td>\n",
       "      <td>-0.142836</td>\n",
       "      <td>-0.174618</td>\n",
       "      <td>-0.143168</td>\n",
       "      <td>-0.148943</td>\n",
       "      <td>-0.144386</td>\n",
       "      <td>-0.311437</td>\n",
       "      <td>-0.002341</td>\n",
       "      <td>...</td>\n",
       "      <td>-0.092005</td>\n",
       "      <td>0.005041</td>\n",
       "      <td>-0.009977</td>\n",
       "      <td>-0.051010</td>\n",
       "      <td>0.034604</td>\n",
       "      <td>-0.034992</td>\n",
       "      <td>-0.064200</td>\n",
       "      <td>0.081428</td>\n",
       "      <td>-0.047919</td>\n",
       "      <td>0.084197</td>\n",
       "    </tr>\n",
       "    <tr>\n",
       "      <td>2009-05-12</td>\n",
       "      <td>0.764610</td>\n",
       "      <td>-0.615122</td>\n",
       "      <td>-0.252076</td>\n",
       "      <td>-0.132610</td>\n",
       "      <td>0.900807</td>\n",
       "      <td>-0.321875</td>\n",
       "      <td>-0.307898</td>\n",
       "      <td>-0.607115</td>\n",
       "      <td>0.308672</td>\n",
       "      <td>-0.375667</td>\n",
       "      <td>...</td>\n",
       "      <td>-0.074368</td>\n",
       "      <td>-0.033476</td>\n",
       "      <td>-0.073585</td>\n",
       "      <td>-0.018872</td>\n",
       "      <td>-0.000607</td>\n",
       "      <td>-0.174409</td>\n",
       "      <td>0.027882</td>\n",
       "      <td>0.002136</td>\n",
       "      <td>0.118771</td>\n",
       "      <td>0.013529</td>\n",
       "    </tr>\n",
       "    <tr>\n",
       "      <td>2009-05-13</td>\n",
       "      <td>0.552576</td>\n",
       "      <td>-0.718454</td>\n",
       "      <td>-0.642428</td>\n",
       "      <td>-0.030314</td>\n",
       "      <td>-0.052141</td>\n",
       "      <td>0.129544</td>\n",
       "      <td>0.069838</td>\n",
       "      <td>-0.090266</td>\n",
       "      <td>-0.274465</td>\n",
       "      <td>-0.070405</td>\n",
       "      <td>...</td>\n",
       "      <td>-0.111563</td>\n",
       "      <td>-0.070154</td>\n",
       "      <td>0.049840</td>\n",
       "      <td>-0.132478</td>\n",
       "      <td>0.066403</td>\n",
       "      <td>-0.067258</td>\n",
       "      <td>0.009621</td>\n",
       "      <td>0.102076</td>\n",
       "      <td>0.104590</td>\n",
       "      <td>-0.027288</td>\n",
       "    </tr>\n",
       "    <tr>\n",
       "      <td>...</td>\n",
       "      <td>...</td>\n",
       "      <td>...</td>\n",
       "      <td>...</td>\n",
       "      <td>...</td>\n",
       "      <td>...</td>\n",
       "      <td>...</td>\n",
       "      <td>...</td>\n",
       "      <td>...</td>\n",
       "      <td>...</td>\n",
       "      <td>...</td>\n",
       "      <td>...</td>\n",
       "      <td>...</td>\n",
       "      <td>...</td>\n",
       "      <td>...</td>\n",
       "      <td>...</td>\n",
       "      <td>...</td>\n",
       "      <td>...</td>\n",
       "      <td>...</td>\n",
       "      <td>...</td>\n",
       "      <td>...</td>\n",
       "      <td>...</td>\n",
       "    </tr>\n",
       "    <tr>\n",
       "      <td>2019-09-28</td>\n",
       "      <td>1.766456</td>\n",
       "      <td>-0.018465</td>\n",
       "      <td>-0.006562</td>\n",
       "      <td>-0.071148</td>\n",
       "      <td>-0.085782</td>\n",
       "      <td>-0.067368</td>\n",
       "      <td>0.134505</td>\n",
       "      <td>0.280319</td>\n",
       "      <td>-0.044777</td>\n",
       "      <td>0.094144</td>\n",
       "      <td>...</td>\n",
       "      <td>-0.042519</td>\n",
       "      <td>0.011280</td>\n",
       "      <td>0.123924</td>\n",
       "      <td>-0.040401</td>\n",
       "      <td>-0.055683</td>\n",
       "      <td>-0.034498</td>\n",
       "      <td>0.049269</td>\n",
       "      <td>-0.078064</td>\n",
       "      <td>0.048818</td>\n",
       "      <td>-0.006177</td>\n",
       "    </tr>\n",
       "    <tr>\n",
       "      <td>2019-09-29</td>\n",
       "      <td>1.818351</td>\n",
       "      <td>0.067952</td>\n",
       "      <td>-0.139502</td>\n",
       "      <td>-0.020150</td>\n",
       "      <td>-0.080780</td>\n",
       "      <td>-0.107743</td>\n",
       "      <td>0.294175</td>\n",
       "      <td>-0.018606</td>\n",
       "      <td>0.171831</td>\n",
       "      <td>0.062312</td>\n",
       "      <td>...</td>\n",
       "      <td>-0.014597</td>\n",
       "      <td>0.063705</td>\n",
       "      <td>-0.007438</td>\n",
       "      <td>-0.025048</td>\n",
       "      <td>0.030614</td>\n",
       "      <td>0.026506</td>\n",
       "      <td>-0.009292</td>\n",
       "      <td>0.039754</td>\n",
       "      <td>0.029842</td>\n",
       "      <td>-0.031893</td>\n",
       "    </tr>\n",
       "    <tr>\n",
       "      <td>2019-09-30</td>\n",
       "      <td>2.838771</td>\n",
       "      <td>0.208005</td>\n",
       "      <td>0.114255</td>\n",
       "      <td>0.087938</td>\n",
       "      <td>-0.168927</td>\n",
       "      <td>-0.027974</td>\n",
       "      <td>0.171122</td>\n",
       "      <td>0.041970</td>\n",
       "      <td>0.033269</td>\n",
       "      <td>-0.042353</td>\n",
       "      <td>...</td>\n",
       "      <td>0.011057</td>\n",
       "      <td>0.027501</td>\n",
       "      <td>0.047761</td>\n",
       "      <td>-0.043513</td>\n",
       "      <td>0.023306</td>\n",
       "      <td>0.026424</td>\n",
       "      <td>0.000217</td>\n",
       "      <td>0.049866</td>\n",
       "      <td>0.012281</td>\n",
       "      <td>-0.017940</td>\n",
       "    </tr>\n",
       "    <tr>\n",
       "      <td>2019-10-01</td>\n",
       "      <td>2.743603</td>\n",
       "      <td>-0.035050</td>\n",
       "      <td>-0.160602</td>\n",
       "      <td>0.004014</td>\n",
       "      <td>-0.083679</td>\n",
       "      <td>0.294312</td>\n",
       "      <td>-0.183208</td>\n",
       "      <td>0.268333</td>\n",
       "      <td>0.017663</td>\n",
       "      <td>0.096169</td>\n",
       "      <td>...</td>\n",
       "      <td>-0.019728</td>\n",
       "      <td>0.091092</td>\n",
       "      <td>0.005335</td>\n",
       "      <td>-0.007184</td>\n",
       "      <td>0.034346</td>\n",
       "      <td>0.009469</td>\n",
       "      <td>0.072064</td>\n",
       "      <td>0.005583</td>\n",
       "      <td>-0.014263</td>\n",
       "      <td>0.000073</td>\n",
       "    </tr>\n",
       "    <tr>\n",
       "      <td>2019-10-02</td>\n",
       "      <td>2.865566</td>\n",
       "      <td>-0.222499</td>\n",
       "      <td>0.298183</td>\n",
       "      <td>0.429953</td>\n",
       "      <td>0.004888</td>\n",
       "      <td>0.147548</td>\n",
       "      <td>-0.145853</td>\n",
       "      <td>-0.093403</td>\n",
       "      <td>-0.123089</td>\n",
       "      <td>0.053844</td>\n",
       "      <td>...</td>\n",
       "      <td>0.017941</td>\n",
       "      <td>-0.022629</td>\n",
       "      <td>0.095845</td>\n",
       "      <td>-0.057513</td>\n",
       "      <td>0.034465</td>\n",
       "      <td>-0.031964</td>\n",
       "      <td>0.019459</td>\n",
       "      <td>-0.010354</td>\n",
       "      <td>0.023434</td>\n",
       "      <td>-0.064856</td>\n",
       "    </tr>\n",
       "  </tbody>\n",
       "</table>\n",
       "<p>2991 rows × 100 columns</p>\n",
       "</div>"
      ],
      "text/plain": [
       "                  0         1         2         3         4         5   \\\n",
       "date                                                                     \n",
       "2009-05-04  1.917882 -0.737776 -0.008240 -0.307825  0.125388 -0.765858   \n",
       "2009-05-05  1.734408 -0.729916 -0.037521 -0.528596 -0.111331 -0.610496   \n",
       "2009-05-08  0.656465  0.025012  0.336565 -0.142836 -0.174618 -0.143168   \n",
       "2009-05-12  0.764610 -0.615122 -0.252076 -0.132610  0.900807 -0.321875   \n",
       "2009-05-13  0.552576 -0.718454 -0.642428 -0.030314 -0.052141  0.129544   \n",
       "...              ...       ...       ...       ...       ...       ...   \n",
       "2019-09-28  1.766456 -0.018465 -0.006562 -0.071148 -0.085782 -0.067368   \n",
       "2019-09-29  1.818351  0.067952 -0.139502 -0.020150 -0.080780 -0.107743   \n",
       "2019-09-30  2.838771  0.208005  0.114255  0.087938 -0.168927 -0.027974   \n",
       "2019-10-01  2.743603 -0.035050 -0.160602  0.004014 -0.083679  0.294312   \n",
       "2019-10-02  2.865566 -0.222499  0.298183  0.429953  0.004888  0.147548   \n",
       "\n",
       "                  6         7         8         9   ...        90        91  \\\n",
       "date                                                ...                       \n",
       "2009-05-04  0.104030 -0.852788 -0.843460 -0.306545  ... -0.093716 -0.001603   \n",
       "2009-05-05 -0.951095 -0.822610 -0.527629 -0.409863  ... -0.143628 -0.031154   \n",
       "2009-05-08 -0.148943 -0.144386 -0.311437 -0.002341  ... -0.092005  0.005041   \n",
       "2009-05-12 -0.307898 -0.607115  0.308672 -0.375667  ... -0.074368 -0.033476   \n",
       "2009-05-13  0.069838 -0.090266 -0.274465 -0.070405  ... -0.111563 -0.070154   \n",
       "...              ...       ...       ...       ...  ...       ...       ...   \n",
       "2019-09-28  0.134505  0.280319 -0.044777  0.094144  ... -0.042519  0.011280   \n",
       "2019-09-29  0.294175 -0.018606  0.171831  0.062312  ... -0.014597  0.063705   \n",
       "2019-09-30  0.171122  0.041970  0.033269 -0.042353  ...  0.011057  0.027501   \n",
       "2019-10-01 -0.183208  0.268333  0.017663  0.096169  ... -0.019728  0.091092   \n",
       "2019-10-02 -0.145853 -0.093403 -0.123089  0.053844  ...  0.017941 -0.022629   \n",
       "\n",
       "                  92        93        94        95        96        97  \\\n",
       "date                                                                     \n",
       "2009-05-04 -0.175242 -0.210991 -0.030184  0.047171  0.120859  0.238349   \n",
       "2009-05-05 -0.015099 -0.109080  0.123480 -0.065329  0.089585  0.072774   \n",
       "2009-05-08 -0.009977 -0.051010  0.034604 -0.034992 -0.064200  0.081428   \n",
       "2009-05-12 -0.073585 -0.018872 -0.000607 -0.174409  0.027882  0.002136   \n",
       "2009-05-13  0.049840 -0.132478  0.066403 -0.067258  0.009621  0.102076   \n",
       "...              ...       ...       ...       ...       ...       ...   \n",
       "2019-09-28  0.123924 -0.040401 -0.055683 -0.034498  0.049269 -0.078064   \n",
       "2019-09-29 -0.007438 -0.025048  0.030614  0.026506 -0.009292  0.039754   \n",
       "2019-09-30  0.047761 -0.043513  0.023306  0.026424  0.000217  0.049866   \n",
       "2019-10-01  0.005335 -0.007184  0.034346  0.009469  0.072064  0.005583   \n",
       "2019-10-02  0.095845 -0.057513  0.034465 -0.031964  0.019459 -0.010354   \n",
       "\n",
       "                  98        99  \n",
       "date                            \n",
       "2009-05-04  0.044229 -0.099610  \n",
       "2009-05-05  0.127022 -0.087434  \n",
       "2009-05-08 -0.047919  0.084197  \n",
       "2009-05-12  0.118771  0.013529  \n",
       "2009-05-13  0.104590 -0.027288  \n",
       "...              ...       ...  \n",
       "2019-09-28  0.048818 -0.006177  \n",
       "2019-09-29  0.029842 -0.031893  \n",
       "2019-09-30  0.012281 -0.017940  \n",
       "2019-10-01 -0.014263  0.000073  \n",
       "2019-10-02  0.023434 -0.064856  \n",
       "\n",
       "[2991 rows x 100 columns]"
      ]
     },
     "execution_count": 24,
     "metadata": {},
     "output_type": "execute_result"
    }
   ],
   "source": [
    "svd_df_daily"
   ]
  },
  {
   "cell_type": "code",
   "execution_count": 25,
   "metadata": {},
   "outputs": [],
   "source": [
    "svd_df_daily.to_csv('svd_df_daily.csv')"
   ]
  },
  {
   "cell_type": "markdown",
   "metadata": {},
   "source": [
    "# 4 PM"
   ]
  },
  {
   "cell_type": "code",
   "execution_count": 26,
   "metadata": {},
   "outputs": [],
   "source": [
    "tweet_data.clean_tweets['timestamp'] = tweet_data.clean_tweets.index\n",
    "after_4_tweets = tweet_data.clean_tweets.timestamp.dt.hour >= 15\n",
    "tweet_data.clean_tweets['after4_date'] = tweet_data.clean_tweets.timestamp.dt.date\n",
    "tweet_data.clean_tweets.loc[after_4_tweets,'after4_date'] = tweet_data.clean_tweets.timestamp[after_4_tweets].dt.date + timedelta(days=1)"
   ]
  },
  {
   "cell_type": "code",
   "execution_count": 27,
   "metadata": {
    "scrolled": false
   },
   "outputs": [
    {
     "data": {
      "text/html": [
       "<div>\n",
       "<style scoped>\n",
       "    .dataframe tbody tr th:only-of-type {\n",
       "        vertical-align: middle;\n",
       "    }\n",
       "\n",
       "    .dataframe tbody tr th {\n",
       "        vertical-align: top;\n",
       "    }\n",
       "\n",
       "    .dataframe thead th {\n",
       "        text-align: right;\n",
       "    }\n",
       "</style>\n",
       "<table border=\"1\" class=\"dataframe\">\n",
       "  <thead>\n",
       "    <tr style=\"text-align: right;\">\n",
       "      <th></th>\n",
       "      <th>tweets</th>\n",
       "      <th>timestamp</th>\n",
       "      <th>after4_date</th>\n",
       "    </tr>\n",
       "    <tr>\n",
       "      <th>timestamp</th>\n",
       "      <th></th>\n",
       "      <th></th>\n",
       "      <th></th>\n",
       "    </tr>\n",
       "  </thead>\n",
       "  <tbody>\n",
       "    <tr>\n",
       "      <td>2019-10-02 23:41:51-05:00</td>\n",
       "      <td>democrats want to steal the election</td>\n",
       "      <td>2019-10-02 23:41:51-05:00</td>\n",
       "      <td>2019-10-03</td>\n",
       "    </tr>\n",
       "    <tr>\n",
       "      <td>2019-10-02 23:27:52-05:00</td>\n",
       "      <td>mississippi there is a very important election...</td>\n",
       "      <td>2019-10-02 23:27:52-05:00</td>\n",
       "      <td>2019-10-03</td>\n",
       "    </tr>\n",
       "    <tr>\n",
       "      <td>2019-10-02 23:27:52-05:00</td>\n",
       "      <td>he loves our military and supports our vets de...</td>\n",
       "      <td>2019-10-02 23:27:52-05:00</td>\n",
       "      <td>2019-10-03</td>\n",
       "    </tr>\n",
       "    <tr>\n",
       "      <td>2019-10-02 21:06:36-05:00</td>\n",
       "      <td>look at this photograph</td>\n",
       "      <td>2019-10-02 21:06:36-05:00</td>\n",
       "      <td>2019-10-03</td>\n",
       "    </tr>\n",
       "    <tr>\n",
       "      <td>2019-10-02 19:51:56-05:00</td>\n",
       "      <td>schiff house intel chairman got early account ...</td>\n",
       "      <td>2019-10-02 19:51:56-05:00</td>\n",
       "      <td>2019-10-03</td>\n",
       "    </tr>\n",
       "    <tr>\n",
       "      <td>...</td>\n",
       "      <td>...</td>\n",
       "      <td>...</td>\n",
       "      <td>...</td>\n",
       "    </tr>\n",
       "    <tr>\n",
       "      <td>2019-09-28 03:55:17-05:00</td>\n",
       "      <td>thank you to general mcmaster just more fake n...</td>\n",
       "      <td>2019-09-28 03:55:17-05:00</td>\n",
       "      <td>2019-09-28</td>\n",
       "    </tr>\n",
       "    <tr>\n",
       "      <td>2019-09-28 02:03:00-05:00</td>\n",
       "      <td></td>\n",
       "      <td>2019-09-28 02:03:00-05:00</td>\n",
       "      <td>2019-09-28</td>\n",
       "    </tr>\n",
       "    <tr>\n",
       "      <td>2019-09-27 19:41:18-05:00</td>\n",
       "      <td>i am draining the swamp</td>\n",
       "      <td>2019-09-27 19:41:18-05:00</td>\n",
       "      <td>2019-09-28</td>\n",
       "    </tr>\n",
       "    <tr>\n",
       "      <td>2019-09-27 15:24:05-05:00</td>\n",
       "      <td>if that perfect phone call with the president ...</td>\n",
       "      <td>2019-09-27 15:24:05-05:00</td>\n",
       "      <td>2019-09-28</td>\n",
       "    </tr>\n",
       "    <tr>\n",
       "      <td>2019-09-27 13:42:57-05:00</td>\n",
       "      <td>sounding more and more like the so called whis...</td>\n",
       "      <td>2019-09-27 13:42:57-05:00</td>\n",
       "      <td>2019-09-27</td>\n",
       "    </tr>\n",
       "  </tbody>\n",
       "</table>\n",
       "<p>100 rows × 3 columns</p>\n",
       "</div>"
      ],
      "text/plain": [
       "                                                                      tweets  \\\n",
       "timestamp                                                                      \n",
       "2019-10-02 23:41:51-05:00              democrats want to steal the election    \n",
       "2019-10-02 23:27:52-05:00  mississippi there is a very important election...   \n",
       "2019-10-02 23:27:52-05:00  he loves our military and supports our vets de...   \n",
       "2019-10-02 21:06:36-05:00                           look at this photograph    \n",
       "2019-10-02 19:51:56-05:00  schiff house intel chairman got early account ...   \n",
       "...                                                                      ...   \n",
       "2019-09-28 03:55:17-05:00  thank you to general mcmaster just more fake n...   \n",
       "2019-09-28 02:03:00-05:00                                                      \n",
       "2019-09-27 19:41:18-05:00                           i am draining the swamp    \n",
       "2019-09-27 15:24:05-05:00  if that perfect phone call with the president ...   \n",
       "2019-09-27 13:42:57-05:00  sounding more and more like the so called whis...   \n",
       "\n",
       "                                          timestamp after4_date  \n",
       "timestamp                                                        \n",
       "2019-10-02 23:41:51-05:00 2019-10-02 23:41:51-05:00  2019-10-03  \n",
       "2019-10-02 23:27:52-05:00 2019-10-02 23:27:52-05:00  2019-10-03  \n",
       "2019-10-02 23:27:52-05:00 2019-10-02 23:27:52-05:00  2019-10-03  \n",
       "2019-10-02 21:06:36-05:00 2019-10-02 21:06:36-05:00  2019-10-03  \n",
       "2019-10-02 19:51:56-05:00 2019-10-02 19:51:56-05:00  2019-10-03  \n",
       "...                                             ...         ...  \n",
       "2019-09-28 03:55:17-05:00 2019-09-28 03:55:17-05:00  2019-09-28  \n",
       "2019-09-28 02:03:00-05:00 2019-09-28 02:03:00-05:00  2019-09-28  \n",
       "2019-09-27 19:41:18-05:00 2019-09-27 19:41:18-05:00  2019-09-28  \n",
       "2019-09-27 15:24:05-05:00 2019-09-27 15:24:05-05:00  2019-09-28  \n",
       "2019-09-27 13:42:57-05:00 2019-09-27 13:42:57-05:00  2019-09-27  \n",
       "\n",
       "[100 rows x 3 columns]"
      ]
     },
     "execution_count": 27,
     "metadata": {},
     "output_type": "execute_result"
    }
   ],
   "source": [
    "tweet_data.clean_tweets.head(100)"
   ]
  },
  {
   "cell_type": "code",
   "execution_count": 28,
   "metadata": {
    "scrolled": true
   },
   "outputs": [
    {
     "data": {
      "text/plain": [
       "after4_date\n",
       "2009-05-05    donald trump will be appearing on the view tom...\n",
       "2009-05-08    donald trump reads top ten financial tips on l...\n",
       "2009-05-09    new blog post celebrity apprentice finale and ...\n",
       "2009-05-12    my persona will never be that of a wallflower ...\n",
       "2009-05-13    miss usa tara conner will not be fired ive alw...\n",
       "Name: tweets, dtype: object"
      ]
     },
     "execution_count": 28,
     "metadata": {},
     "output_type": "execute_result"
    }
   ],
   "source": [
    "combined_daily_tweets = tweet_data.clean_tweets.groupby('after4_date')['tweets'].apply(lambda x: ' '.join(x))\n",
    "combined_daily_tweets.head()"
   ]
  },
  {
   "cell_type": "code",
   "execution_count": 29,
   "metadata": {
    "scrolled": false
   },
   "outputs": [
    {
     "name": "stderr",
     "output_type": "stream",
     "text": [
      "c:\\users\\gufra\\onedrive\\documents\\academics\\introtodatascience\\final_project\\trump_tweets\\venv\\lib\\site-packages\\ipykernel_launcher.py:1: FutureWarning: The signature of `Series.to_csv` was aligned to that of `DataFrame.to_csv`, and argument 'header' will change its default value from False to True: please pass an explicit value to suppress this warning.\n",
      "  \"\"\"Entry point for launching an IPython kernel.\n"
     ]
    }
   ],
   "source": [
    "combined_daily_tweets.to_csv('combined_daily_tweets.csv')"
   ]
  },
  {
   "cell_type": "markdown",
   "metadata": {},
   "source": [
    "# Check if the concatenation is correct"
   ]
  },
  {
   "cell_type": "code",
   "execution_count": 30,
   "metadata": {
    "scrolled": true
   },
   "outputs": [
    {
     "data": {
      "text/plain": [
       "timestamp\n",
       "2019-10-02 23:41:51-05:00                democrats want to steal the election \n",
       "2019-10-02 23:27:52-05:00    mississippi there is a very important election...\n",
       "2019-10-02 23:27:52-05:00    he loves our military and supports our vets de...\n",
       "2019-10-02 21:06:36-05:00                             look at this photograph \n",
       "2019-10-02 19:51:56-05:00    schiff house intel chairman got early account ...\n",
       "2019-10-02 15:48:47-05:00    the do nothing democrats should be focused on ...\n",
       "2019-10-02 15:39:07-05:00    adam schiff should only be so lucky to have th...\n",
       "2019-10-02 15:31:53-05:00    democrats are trying to undo the election rega...\n",
       "2019-10-02 15:31:03-05:00    nancy pelosi just said that she is interested ...\n",
       "2019-10-02 15:19:09-05:00    all of this impeachment nonsense which is goin...\n",
       "2019-10-02 15:02:11-05:00    now the press is trying to sell the fact that ...\n",
       "Name: tweets, dtype: object"
      ]
     },
     "execution_count": 30,
     "metadata": {},
     "output_type": "execute_result"
    }
   ],
   "source": [
    "tweet_data.clean_tweets.tweets[tweet_data.clean_tweets.after4_date==pd.to_datetime(\"2019-10-03\")]"
   ]
  },
  {
   "cell_type": "code",
   "execution_count": 31,
   "metadata": {},
   "outputs": [
    {
     "data": {
      "text/plain": [
       "after4_date\n",
       "2019-10-03    democrats want to steal the election  mississi...\n",
       "Name: tweets, dtype: object"
      ]
     },
     "execution_count": 31,
     "metadata": {},
     "output_type": "execute_result"
    }
   ],
   "source": [
    "combined_daily_tweets[combined_daily_tweets.index.values==pd.to_datetime(\"2019-10-03\")]"
   ]
  },
  {
   "cell_type": "markdown",
   "metadata": {},
   "source": [
    "# Create SVD matrix of the combiened 4 PM tweets"
   ]
  },
  {
   "cell_type": "code",
   "execution_count": 32,
   "metadata": {},
   "outputs": [],
   "source": [
    "combined_generator = TextFeaturesGenerator(combined_daily_tweets)"
   ]
  },
  {
   "cell_type": "code",
   "execution_count": 40,
   "metadata": {
    "scrolled": true
   },
   "outputs": [],
   "source": [
    "n_components = 2\n",
    "combined_svd_df = pd.DataFrame(combined_generator.get_svd_tfidf_mat(n_components=n_components))"
   ]
  },
  {
   "cell_type": "code",
   "execution_count": 41,
   "metadata": {},
   "outputs": [],
   "source": [
    "combined_svd_df['after4_date'] = combined_daily_tweets.index.values"
   ]
  },
  {
   "cell_type": "code",
   "execution_count": 42,
   "metadata": {},
   "outputs": [
    {
     "data": {
      "text/html": [
       "<div>\n",
       "<style scoped>\n",
       "    .dataframe tbody tr th:only-of-type {\n",
       "        vertical-align: middle;\n",
       "    }\n",
       "\n",
       "    .dataframe tbody tr th {\n",
       "        vertical-align: top;\n",
       "    }\n",
       "\n",
       "    .dataframe thead th {\n",
       "        text-align: right;\n",
       "    }\n",
       "</style>\n",
       "<table border=\"1\" class=\"dataframe\">\n",
       "  <thead>\n",
       "    <tr style=\"text-align: right;\">\n",
       "      <th></th>\n",
       "      <th>0</th>\n",
       "      <th>1</th>\n",
       "      <th>after4_date</th>\n",
       "    </tr>\n",
       "  </thead>\n",
       "  <tbody>\n",
       "    <tr>\n",
       "      <td>0</td>\n",
       "      <td>0.231443</td>\n",
       "      <td>0.194505</td>\n",
       "      <td>2009-05-05</td>\n",
       "    </tr>\n",
       "    <tr>\n",
       "      <td>1</td>\n",
       "      <td>0.052787</td>\n",
       "      <td>0.062026</td>\n",
       "      <td>2009-05-08</td>\n",
       "    </tr>\n",
       "    <tr>\n",
       "      <td>2</td>\n",
       "      <td>0.079677</td>\n",
       "      <td>0.035517</td>\n",
       "      <td>2009-05-09</td>\n",
       "    </tr>\n",
       "    <tr>\n",
       "      <td>3</td>\n",
       "      <td>0.102123</td>\n",
       "      <td>0.042712</td>\n",
       "      <td>2009-05-12</td>\n",
       "    </tr>\n",
       "    <tr>\n",
       "      <td>4</td>\n",
       "      <td>0.068873</td>\n",
       "      <td>0.061913</td>\n",
       "      <td>2009-05-13</td>\n",
       "    </tr>\n",
       "  </tbody>\n",
       "</table>\n",
       "</div>"
      ],
      "text/plain": [
       "          0         1 after4_date\n",
       "0  0.231443  0.194505  2009-05-05\n",
       "1  0.052787  0.062026  2009-05-08\n",
       "2  0.079677  0.035517  2009-05-09\n",
       "3  0.102123  0.042712  2009-05-12\n",
       "4  0.068873  0.061913  2009-05-13"
      ]
     },
     "execution_count": 42,
     "metadata": {},
     "output_type": "execute_result"
    }
   ],
   "source": [
    "combined_svd_df.head()"
   ]
  },
  {
   "cell_type": "code",
   "execution_count": 43,
   "metadata": {},
   "outputs": [],
   "source": [
    "combined_svd_df.to_csv('combined_svd_df.csv')"
   ]
  }
 ],
 "metadata": {
  "kernelspec": {
   "display_name": "Python 3",
   "language": "python",
   "name": "python3"
  },
  "language_info": {
   "codemirror_mode": {
    "name": "ipython",
    "version": 3
   },
   "file_extension": ".py",
   "mimetype": "text/x-python",
   "name": "python",
   "nbconvert_exporter": "python",
   "pygments_lexer": "ipython3",
   "version": "3.6.8"
  },
  "pycharm": {
   "stem_cell": {
    "cell_type": "raw",
    "metadata": {
     "collapsed": false
    },
    "source": []
   }
  }
 },
 "nbformat": 4,
 "nbformat_minor": 2
}
