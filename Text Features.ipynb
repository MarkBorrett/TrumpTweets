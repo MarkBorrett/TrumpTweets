{
 "cells": [
  {
   "cell_type": "markdown",
   "metadata": {},
   "source": [
    "# Overview"
   ]
  },
  {
   "cell_type": "markdown",
   "metadata": {},
   "source": [
    "This notebook uses the 'TextFeaturesGenerator' class (from text_features) to convert textual data into qunatitaive data. \n",
    "\n",
    "For now, it creates a bag-of-words representation and a tf-idf representation. We will also add SVD/PCA of these matrices and a Word2Vec representation in the next few days.\n",
    "\n",
    "Will update the TextFeaturesGenerator class on an ongoing basis and update the usage here."
   ]
  },
  {
   "cell_type": "code",
   "execution_count": 1,
   "metadata": {
    "pycharm": {
     "is_executing": true,
     "name": "#%%\n"
    }
   },
   "outputs": [],
   "source": [
    "from text_features import TextFeaturesGenerator\n",
    "from project_helper import TweetData\n",
    "import pandas as pd\n",
    "import numpy as np"
   ]
  },
  {
   "cell_type": "markdown",
   "metadata": {},
   "source": [
    "Reusing the TweetData class to get cleaned tweets."
   ]
  },
  {
   "cell_type": "code",
   "execution_count": 2,
   "metadata": {
    "pycharm": {
     "is_executing": false
    }
   },
   "outputs": [
    {
     "data": {
      "text/html": [
       "<div>\n",
       "<style scoped>\n",
       "    .dataframe tbody tr th:only-of-type {\n",
       "        vertical-align: middle;\n",
       "    }\n",
       "\n",
       "    .dataframe tbody tr th {\n",
       "        vertical-align: top;\n",
       "    }\n",
       "\n",
       "    .dataframe thead th {\n",
       "        text-align: right;\n",
       "    }\n",
       "</style>\n",
       "<table border=\"1\" class=\"dataframe\">\n",
       "  <thead>\n",
       "    <tr style=\"text-align: right;\">\n",
       "      <th></th>\n",
       "      <th>tweets</th>\n",
       "    </tr>\n",
       "    <tr>\n",
       "      <th>timestamp</th>\n",
       "      <th></th>\n",
       "    </tr>\n",
       "  </thead>\n",
       "  <tbody>\n",
       "    <tr>\n",
       "      <td>2019-10-02 23:41:51-05:00</td>\n",
       "      <td>democrats want to steal the election</td>\n",
       "    </tr>\n",
       "    <tr>\n",
       "      <td>2019-10-02 23:27:52-05:00</td>\n",
       "      <td>mississippi there is a very important election...</td>\n",
       "    </tr>\n",
       "    <tr>\n",
       "      <td>2019-10-02 23:27:52-05:00</td>\n",
       "      <td>he loves our military and supports our vets de...</td>\n",
       "    </tr>\n",
       "    <tr>\n",
       "      <td>2019-10-02 21:06:36-05:00</td>\n",
       "      <td>look at this photograph</td>\n",
       "    </tr>\n",
       "    <tr>\n",
       "      <td>2019-10-02 19:51:56-05:00</td>\n",
       "      <td>schiff house intel chairman got early account ...</td>\n",
       "    </tr>\n",
       "  </tbody>\n",
       "</table>\n",
       "</div>"
      ],
      "text/plain": [
       "                                                                      tweets\n",
       "timestamp                                                                   \n",
       "2019-10-02 23:41:51-05:00              democrats want to steal the election \n",
       "2019-10-02 23:27:52-05:00  mississippi there is a very important election...\n",
       "2019-10-02 23:27:52-05:00  he loves our military and supports our vets de...\n",
       "2019-10-02 21:06:36-05:00                           look at this photograph \n",
       "2019-10-02 19:51:56-05:00  schiff house intel chairman got early account ..."
      ]
     },
     "execution_count": 2,
     "metadata": {},
     "output_type": "execute_result"
    }
   ],
   "source": [
    "tweet_data = TweetData()\n",
    "tweet_data.clean_tweets.head()"
   ]
  },
  {
   "cell_type": "markdown",
   "metadata": {},
   "source": [
    "Creating a 'TextFeaturesGenerator' instance which takes the tweets as an argument"
   ]
  },
  {
   "cell_type": "code",
   "execution_count": 3,
   "metadata": {},
   "outputs": [],
   "source": [
    "feature_generator = TextFeaturesGenerator(tweet_data.clean_tweets.tweets)"
   ]
  },
  {
   "cell_type": "markdown",
   "metadata": {},
   "source": [
    "'get_bow_matrix' creates the bag-of-words matrix"
   ]
  },
  {
   "cell_type": "code",
   "execution_count": 4,
   "metadata": {},
   "outputs": [],
   "source": [
    "bow_mat = feature_generator.get_bow_matrix()"
   ]
  },
  {
   "cell_type": "code",
   "execution_count": 5,
   "metadata": {
    "scrolled": true
   },
   "outputs": [
    {
     "data": {
      "text/plain": [
       "(27960, 16781)"
      ]
     },
     "execution_count": 5,
     "metadata": {},
     "output_type": "execute_result"
    }
   ],
   "source": [
    "bow_mat.shape"
   ]
  },
  {
   "cell_type": "markdown",
   "metadata": {},
   "source": [
    "The shape of this matrix is 27.96K rows (same number as the tweets) and the columns are 16,781, which is equal to the unique number of words in the vocabulary."
   ]
  },
  {
   "cell_type": "code",
   "execution_count": 6,
   "metadata": {},
   "outputs": [
    {
     "data": {
      "text/plain": [
       "matrix([[0, 0, 0, 0, 0, 0, 0, 0, 0, 0],\n",
       "        [0, 0, 0, 0, 0, 0, 0, 0, 0, 0],\n",
       "        [0, 0, 0, 0, 0, 0, 0, 0, 0, 0],\n",
       "        [0, 0, 0, 0, 0, 0, 0, 0, 0, 0],\n",
       "        [0, 0, 0, 0, 0, 0, 0, 0, 0, 0],\n",
       "        [0, 0, 0, 0, 0, 0, 0, 0, 0, 0],\n",
       "        [0, 0, 0, 0, 0, 0, 0, 0, 0, 0],\n",
       "        [0, 0, 0, 0, 0, 0, 0, 0, 0, 0],\n",
       "        [0, 0, 0, 0, 0, 0, 0, 0, 0, 0],\n",
       "        [0, 0, 0, 0, 0, 0, 0, 0, 0, 0]], dtype=int64)"
      ]
     },
     "execution_count": 6,
     "metadata": {},
     "output_type": "execute_result"
    }
   ],
   "source": [
    "bow_mat[:10,:10].todense()"
   ]
  },
  {
   "cell_type": "markdown",
   "metadata": {},
   "source": [
    "As you can see, most of the values are zero which is why it is stored as a 'sparse-matrix'"
   ]
  },
  {
   "cell_type": "markdown",
   "metadata": {},
   "source": [
    "Bag-of-words is simply a count of words in the tweet. A better representation is 'tf-idf'. The 'get_tfidf_matrix' creates"
   ]
  },
  {
   "cell_type": "code",
   "execution_count": 7,
   "metadata": {},
   "outputs": [
    {
     "data": {
      "text/plain": [
       "(27960, 16781)"
      ]
     },
     "execution_count": 7,
     "metadata": {},
     "output_type": "execute_result"
    }
   ],
   "source": [
    "tfidf_mat = feature_generator.get_tfidf_matrix()\n",
    "tfidf_mat.shape"
   ]
  },
  {
   "cell_type": "markdown",
   "metadata": {},
   "source": [
    "The matrices can be saved using the matrices function. You can either specify a 'folder' which will be created and both matrices stored in it, else will store in the working directory."
   ]
  },
  {
   "cell_type": "code",
   "execution_count": 8,
   "metadata": {},
   "outputs": [],
   "source": [
    "feature_generator.save_matrices()"
   ]
  },
  {
   "cell_type": "markdown",
   "metadata": {},
   "source": [
    "The two matrices will be saved with the names \"bow_mat.npz\" and \"tfidf_mat.npz\""
   ]
  },
  {
   "cell_type": "markdown",
   "metadata": {},
   "source": [
    "You can also specify a folder and a suffix to the file names."
   ]
  },
  {
   "cell_type": "code",
   "execution_count": 9,
   "metadata": {},
   "outputs": [],
   "source": [
    "feature_generator.save_matrices(folder=\"matrices\",suffix=\"_v2\")"
   ]
  },
  {
   "cell_type": "markdown",
   "metadata": {},
   "source": [
    "The files can be loaded using the following commands:"
   ]
  },
  {
   "cell_type": "code",
   "execution_count": 10,
   "metadata": {},
   "outputs": [
    {
     "name": "stdout",
     "output_type": "stream",
     "text": [
      "(27960, 16781)\n",
      "(27960, 16781)\n"
     ]
    }
   ],
   "source": [
    "from scipy import sparse\n",
    "bow_loaded = sparse.load_npz(\"bow_mat.npz\")\n",
    "tfidf_loaded = sparse.load_npz(\"tfidf_mat.npz\")\n",
    "print(bow_loaded.shape)\n",
    "print(tfidf_loaded.shape)"
   ]
  },
  {
   "cell_type": "markdown",
   "metadata": {},
   "source": [
    "## PCA (through SVD) of the matrices"
   ]
  },
  {
   "cell_type": "markdown",
   "metadata": {},
   "source": [
    "You can get the SVD of the bow and tfidf matrices as well."
   ]
  },
  {
   "cell_type": "code",
   "execution_count": 11,
   "metadata": {},
   "outputs": [],
   "source": [
    "svd_bow_mat = feature_generator.get_svd_bow_mat()"
   ]
  },
  {
   "cell_type": "code",
   "execution_count": 12,
   "metadata": {},
   "outputs": [
    {
     "data": {
      "text/plain": [
       "(27960, 2)"
      ]
     },
     "execution_count": 12,
     "metadata": {},
     "output_type": "execute_result"
    }
   ],
   "source": [
    "svd_bow_mat.shape"
   ]
  },
  {
   "cell_type": "markdown",
   "metadata": {},
   "source": [
    "By default, it gives back two components. You can changet that using the n_components argument."
   ]
  },
  {
   "cell_type": "code",
   "execution_count": 13,
   "metadata": {},
   "outputs": [],
   "source": [
    "svd_bow_mat = feature_generator.get_svd_bow_mat(n_components=100)"
   ]
  },
  {
   "cell_type": "code",
   "execution_count": 14,
   "metadata": {},
   "outputs": [
    {
     "data": {
      "text/plain": [
       "(27960, 100)"
      ]
     },
     "execution_count": 14,
     "metadata": {},
     "output_type": "execute_result"
    }
   ],
   "source": [
    "svd_bow_mat.shape"
   ]
  },
  {
   "cell_type": "markdown",
   "metadata": {},
   "source": [
    "You can get the SVD of the tf-idf as well."
   ]
  },
  {
   "cell_type": "code",
   "execution_count": 15,
   "metadata": {},
   "outputs": [],
   "source": [
    "svd_tfidf_mat = feature_generator.get_svd_bow_mat(n_components=100)"
   ]
  },
  {
   "cell_type": "code",
   "execution_count": 16,
   "metadata": {},
   "outputs": [
    {
     "data": {
      "text/plain": [
       "(27960, 100)"
      ]
     },
     "execution_count": 16,
     "metadata": {},
     "output_type": "execute_result"
    }
   ],
   "source": [
    "svd_tfidf_mat.shape"
   ]
  },
  {
   "cell_type": "markdown",
   "metadata": {},
   "source": [
    "These matrices can be saved as well."
   ]
  },
  {
   "cell_type": "code",
   "execution_count": 17,
   "metadata": {},
   "outputs": [],
   "source": [
    "feature_generator.save_matrices()"
   ]
  },
  {
   "cell_type": "markdown",
   "metadata": {},
   "source": [
    "You can load them back using np.load"
   ]
  },
  {
   "cell_type": "code",
   "execution_count": 6,
   "metadata": {},
   "outputs": [],
   "source": [
    "svd_loaded_mat = np.load('svd_tfidf_mat.npy')"
   ]
  },
  {
   "cell_type": "code",
   "execution_count": 7,
   "metadata": {
    "scrolled": true
   },
   "outputs": [
    {
     "data": {
      "text/plain": [
       "(27960, 100)"
      ]
     },
     "execution_count": 7,
     "metadata": {},
     "output_type": "execute_result"
    }
   ],
   "source": [
    "svd_loaded_mat.shape"
   ]
  },
  {
   "cell_type": "markdown",
   "metadata": {},
   "source": [
    "# Aggregagte SVD per day "
   ]
  },
  {
   "cell_type": "code",
   "execution_count": 30,
   "metadata": {},
   "outputs": [],
   "source": [
    "svd_df = pd.DataFrame(svd_loaded_mat)"
   ]
  },
  {
   "cell_type": "code",
   "execution_count": 31,
   "metadata": {},
   "outputs": [],
   "source": [
    "svd_df['timestamp'] = tweet_data.clean_tweets.index\n",
    "svd_df['date'] = svd_df.timestamp.dt.date"
   ]
  },
  {
   "cell_type": "code",
   "execution_count": 32,
   "metadata": {},
   "outputs": [
    {
     "data": {
      "text/html": [
       "<div>\n",
       "<style scoped>\n",
       "    .dataframe tbody tr th:only-of-type {\n",
       "        vertical-align: middle;\n",
       "    }\n",
       "\n",
       "    .dataframe tbody tr th {\n",
       "        vertical-align: top;\n",
       "    }\n",
       "\n",
       "    .dataframe thead th {\n",
       "        text-align: right;\n",
       "    }\n",
       "</style>\n",
       "<table border=\"1\" class=\"dataframe\">\n",
       "  <thead>\n",
       "    <tr style=\"text-align: right;\">\n",
       "      <th></th>\n",
       "      <th>0</th>\n",
       "      <th>1</th>\n",
       "      <th>2</th>\n",
       "      <th>3</th>\n",
       "      <th>4</th>\n",
       "      <th>5</th>\n",
       "      <th>6</th>\n",
       "      <th>7</th>\n",
       "      <th>8</th>\n",
       "      <th>9</th>\n",
       "      <th>...</th>\n",
       "      <th>92</th>\n",
       "      <th>93</th>\n",
       "      <th>94</th>\n",
       "      <th>95</th>\n",
       "      <th>96</th>\n",
       "      <th>97</th>\n",
       "      <th>98</th>\n",
       "      <th>99</th>\n",
       "      <th>timestamp</th>\n",
       "      <th>date</th>\n",
       "    </tr>\n",
       "  </thead>\n",
       "  <tbody>\n",
       "    <tr>\n",
       "      <td>0</td>\n",
       "      <td>1.067114</td>\n",
       "      <td>0.077396</td>\n",
       "      <td>-0.803793</td>\n",
       "      <td>-0.205652</td>\n",
       "      <td>-0.505180</td>\n",
       "      <td>0.004843</td>\n",
       "      <td>0.039186</td>\n",
       "      <td>-0.049387</td>\n",
       "      <td>-0.095551</td>\n",
       "      <td>-0.017207</td>\n",
       "      <td>...</td>\n",
       "      <td>0.084714</td>\n",
       "      <td>0.092600</td>\n",
       "      <td>-0.132784</td>\n",
       "      <td>0.142841</td>\n",
       "      <td>0.065165</td>\n",
       "      <td>0.080188</td>\n",
       "      <td>0.070938</td>\n",
       "      <td>0.200888</td>\n",
       "      <td>2019-10-02 23:41:51-05:00</td>\n",
       "      <td>2019-10-02</td>\n",
       "    </tr>\n",
       "    <tr>\n",
       "      <td>1</td>\n",
       "      <td>2.398382</td>\n",
       "      <td>-2.635966</td>\n",
       "      <td>1.537750</td>\n",
       "      <td>0.957777</td>\n",
       "      <td>0.272032</td>\n",
       "      <td>-0.429117</td>\n",
       "      <td>-1.631507</td>\n",
       "      <td>0.552008</td>\n",
       "      <td>-1.720561</td>\n",
       "      <td>1.136831</td>\n",
       "      <td>...</td>\n",
       "      <td>0.189385</td>\n",
       "      <td>-0.185930</td>\n",
       "      <td>0.446110</td>\n",
       "      <td>0.174618</td>\n",
       "      <td>-0.213686</td>\n",
       "      <td>-0.321186</td>\n",
       "      <td>0.225457</td>\n",
       "      <td>0.057562</td>\n",
       "      <td>2019-10-02 23:27:52-05:00</td>\n",
       "      <td>2019-10-02</td>\n",
       "    </tr>\n",
       "    <tr>\n",
       "      <td>2</td>\n",
       "      <td>2.039926</td>\n",
       "      <td>-2.169685</td>\n",
       "      <td>2.635236</td>\n",
       "      <td>0.428123</td>\n",
       "      <td>-0.238948</td>\n",
       "      <td>-0.022691</td>\n",
       "      <td>-0.655132</td>\n",
       "      <td>-0.462281</td>\n",
       "      <td>-1.005658</td>\n",
       "      <td>1.190835</td>\n",
       "      <td>...</td>\n",
       "      <td>-0.261462</td>\n",
       "      <td>0.415466</td>\n",
       "      <td>0.034480</td>\n",
       "      <td>0.076168</td>\n",
       "      <td>-0.146568</td>\n",
       "      <td>-0.437547</td>\n",
       "      <td>0.395675</td>\n",
       "      <td>0.036453</td>\n",
       "      <td>2019-10-02 23:27:52-05:00</td>\n",
       "      <td>2019-10-02</td>\n",
       "    </tr>\n",
       "    <tr>\n",
       "      <td>3</td>\n",
       "      <td>0.116174</td>\n",
       "      <td>-0.057314</td>\n",
       "      <td>0.003153</td>\n",
       "      <td>0.019891</td>\n",
       "      <td>0.105173</td>\n",
       "      <td>-0.114806</td>\n",
       "      <td>-0.126431</td>\n",
       "      <td>-0.100204</td>\n",
       "      <td>-0.022856</td>\n",
       "      <td>-0.030551</td>\n",
       "      <td>...</td>\n",
       "      <td>0.030423</td>\n",
       "      <td>0.022345</td>\n",
       "      <td>-0.000702</td>\n",
       "      <td>0.019667</td>\n",
       "      <td>-0.096568</td>\n",
       "      <td>-0.054165</td>\n",
       "      <td>0.064102</td>\n",
       "      <td>-0.073907</td>\n",
       "      <td>2019-10-02 21:06:36-05:00</td>\n",
       "      <td>2019-10-02</td>\n",
       "    </tr>\n",
       "    <tr>\n",
       "      <td>4</td>\n",
       "      <td>0.473519</td>\n",
       "      <td>-0.025296</td>\n",
       "      <td>0.216236</td>\n",
       "      <td>0.710462</td>\n",
       "      <td>0.506245</td>\n",
       "      <td>0.856471</td>\n",
       "      <td>-0.055029</td>\n",
       "      <td>-0.015950</td>\n",
       "      <td>-0.015656</td>\n",
       "      <td>-0.262653</td>\n",
       "      <td>...</td>\n",
       "      <td>0.130805</td>\n",
       "      <td>0.003249</td>\n",
       "      <td>-0.051418</td>\n",
       "      <td>0.193854</td>\n",
       "      <td>-0.030467</td>\n",
       "      <td>0.001825</td>\n",
       "      <td>-0.097548</td>\n",
       "      <td>-0.090610</td>\n",
       "      <td>2019-10-02 19:51:56-05:00</td>\n",
       "      <td>2019-10-02</td>\n",
       "    </tr>\n",
       "  </tbody>\n",
       "</table>\n",
       "<p>5 rows × 102 columns</p>\n",
       "</div>"
      ],
      "text/plain": [
       "          0         1         2         3         4         5         6  \\\n",
       "0  1.067114  0.077396 -0.803793 -0.205652 -0.505180  0.004843  0.039186   \n",
       "1  2.398382 -2.635966  1.537750  0.957777  0.272032 -0.429117 -1.631507   \n",
       "2  2.039926 -2.169685  2.635236  0.428123 -0.238948 -0.022691 -0.655132   \n",
       "3  0.116174 -0.057314  0.003153  0.019891  0.105173 -0.114806 -0.126431   \n",
       "4  0.473519 -0.025296  0.216236  0.710462  0.506245  0.856471 -0.055029   \n",
       "\n",
       "          7         8         9  ...        92        93        94        95  \\\n",
       "0 -0.049387 -0.095551 -0.017207  ...  0.084714  0.092600 -0.132784  0.142841   \n",
       "1  0.552008 -1.720561  1.136831  ...  0.189385 -0.185930  0.446110  0.174618   \n",
       "2 -0.462281 -1.005658  1.190835  ... -0.261462  0.415466  0.034480  0.076168   \n",
       "3 -0.100204 -0.022856 -0.030551  ...  0.030423  0.022345 -0.000702  0.019667   \n",
       "4 -0.015950 -0.015656 -0.262653  ...  0.130805  0.003249 -0.051418  0.193854   \n",
       "\n",
       "         96        97        98        99                 timestamp  \\\n",
       "0  0.065165  0.080188  0.070938  0.200888 2019-10-02 23:41:51-05:00   \n",
       "1 -0.213686 -0.321186  0.225457  0.057562 2019-10-02 23:27:52-05:00   \n",
       "2 -0.146568 -0.437547  0.395675  0.036453 2019-10-02 23:27:52-05:00   \n",
       "3 -0.096568 -0.054165  0.064102 -0.073907 2019-10-02 21:06:36-05:00   \n",
       "4 -0.030467  0.001825 -0.097548 -0.090610 2019-10-02 19:51:56-05:00   \n",
       "\n",
       "         date  \n",
       "0  2019-10-02  \n",
       "1  2019-10-02  \n",
       "2  2019-10-02  \n",
       "3  2019-10-02  \n",
       "4  2019-10-02  \n",
       "\n",
       "[5 rows x 102 columns]"
      ]
     },
     "execution_count": 32,
     "metadata": {},
     "output_type": "execute_result"
    }
   ],
   "source": [
    "svd_df.head()"
   ]
  },
  {
   "cell_type": "code",
   "execution_count": 34,
   "metadata": {
    "scrolled": true
   },
   "outputs": [],
   "source": [
    "svd_df_daily = svd_df.groupby('date').agg(np.mean)"
   ]
  },
  {
   "cell_type": "code",
   "execution_count": 35,
   "metadata": {},
   "outputs": [],
   "source": [
    "svd_df_daily.to_csv('svd_df_daily.csv',index=False)"
   ]
  }
 ],
 "metadata": {
  "kernelspec": {
   "display_name": "Python 3",
   "language": "python",
   "name": "python3"
  },
  "language_info": {
   "codemirror_mode": {
    "name": "ipython",
    "version": 3
   },
   "file_extension": ".py",
   "mimetype": "text/x-python",
   "name": "python",
   "nbconvert_exporter": "python",
   "pygments_lexer": "ipython3",
   "version": "3.6.8"
  },
  "pycharm": {
   "stem_cell": {
    "cell_type": "raw",
    "metadata": {
     "collapsed": false
    },
    "source": []
   }
  }
 },
 "nbformat": 4,
 "nbformat_minor": 2
}
