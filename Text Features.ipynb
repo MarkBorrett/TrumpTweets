{
 "cells": [
  {
   "cell_type": "markdown",
   "metadata": {},
   "source": [
    "# Overview"
   ]
  },
  {
   "cell_type": "markdown",
   "metadata": {},
   "source": [
    "This notebook uses the 'TextFeaturesGenerator' class (from text_features) to convert textual data into qunatitaive data. \n",
    "\n",
    "For now, it creates a bag-of-words representation and a tf-idf representation. We will also add SVD/PCA of these matrices and a Word2Vec representation in the next few days.\n",
    "\n",
    "Will update the TextFeaturesGenerator class on an ongoing basis and update the usage here."
   ]
  },
  {
   "cell_type": "code",
   "execution_count": 2,
   "metadata": {
    "pycharm": {
     "is_executing": true,
     "name": "#%%\n"
    }
   },
   "outputs": [],
   "source": [
    "from text_features import TextFeaturesGenerator\n",
    "from project_helper import TweetData\n",
    "import pandas as pd\n",
    "import numpy as np\n",
    "from datetime import timedelta  \n",
    "import datetime"
   ]
  },
  {
   "cell_type": "markdown",
   "metadata": {},
   "source": [
    "Reusing the TweetData class to get cleaned tweets."
   ]
  },
  {
   "cell_type": "code",
   "execution_count": 2,
   "metadata": {
    "pycharm": {
     "is_executing": false
    }
   },
   "outputs": [
    {
     "data": {
      "text/html": [
       "<div>\n",
       "<style scoped>\n",
       "    .dataframe tbody tr th:only-of-type {\n",
       "        vertical-align: middle;\n",
       "    }\n",
       "\n",
       "    .dataframe tbody tr th {\n",
       "        vertical-align: top;\n",
       "    }\n",
       "\n",
       "    .dataframe thead th {\n",
       "        text-align: right;\n",
       "    }\n",
       "</style>\n",
       "<table border=\"1\" class=\"dataframe\">\n",
       "  <thead>\n",
       "    <tr style=\"text-align: right;\">\n",
       "      <th></th>\n",
       "      <th>tweets</th>\n",
       "      <th>timestamp</th>\n",
       "      <th>after4_date</th>\n",
       "    </tr>\n",
       "    <tr>\n",
       "      <th>timestamp</th>\n",
       "      <th></th>\n",
       "      <th></th>\n",
       "      <th></th>\n",
       "    </tr>\n",
       "  </thead>\n",
       "  <tbody>\n",
       "    <tr>\n",
       "      <td>2019-10-02 23:41:51-05:00</td>\n",
       "      <td>democrats want to steal the election</td>\n",
       "      <td>2019-10-02 23:41:51-05:00</td>\n",
       "      <td>2019-10-03</td>\n",
       "    </tr>\n",
       "    <tr>\n",
       "      <td>2019-10-02 23:27:52-05:00</td>\n",
       "      <td>mississippi there is a very important election...</td>\n",
       "      <td>2019-10-02 23:27:52-05:00</td>\n",
       "      <td>2019-10-03</td>\n",
       "    </tr>\n",
       "    <tr>\n",
       "      <td>2019-10-02 23:27:52-05:00</td>\n",
       "      <td>he loves our military and supports our vets de...</td>\n",
       "      <td>2019-10-02 23:27:52-05:00</td>\n",
       "      <td>2019-10-03</td>\n",
       "    </tr>\n",
       "    <tr>\n",
       "      <td>2019-10-02 21:06:36-05:00</td>\n",
       "      <td>look at this photograph</td>\n",
       "      <td>2019-10-02 21:06:36-05:00</td>\n",
       "      <td>2019-10-03</td>\n",
       "    </tr>\n",
       "    <tr>\n",
       "      <td>2019-10-02 19:51:56-05:00</td>\n",
       "      <td>schiff house intel chairman got early account ...</td>\n",
       "      <td>2019-10-02 19:51:56-05:00</td>\n",
       "      <td>2019-10-03</td>\n",
       "    </tr>\n",
       "  </tbody>\n",
       "</table>\n",
       "</div>"
      ],
      "text/plain": [
       "                                                                      tweets  \\\n",
       "timestamp                                                                      \n",
       "2019-10-02 23:41:51-05:00              democrats want to steal the election    \n",
       "2019-10-02 23:27:52-05:00  mississippi there is a very important election...   \n",
       "2019-10-02 23:27:52-05:00  he loves our military and supports our vets de...   \n",
       "2019-10-02 21:06:36-05:00                           look at this photograph    \n",
       "2019-10-02 19:51:56-05:00  schiff house intel chairman got early account ...   \n",
       "\n",
       "                                          timestamp after4_date  \n",
       "timestamp                                                        \n",
       "2019-10-02 23:41:51-05:00 2019-10-02 23:41:51-05:00  2019-10-03  \n",
       "2019-10-02 23:27:52-05:00 2019-10-02 23:27:52-05:00  2019-10-03  \n",
       "2019-10-02 23:27:52-05:00 2019-10-02 23:27:52-05:00  2019-10-03  \n",
       "2019-10-02 21:06:36-05:00 2019-10-02 21:06:36-05:00  2019-10-03  \n",
       "2019-10-02 19:51:56-05:00 2019-10-02 19:51:56-05:00  2019-10-03  "
      ]
     },
     "execution_count": 2,
     "metadata": {},
     "output_type": "execute_result"
    }
   ],
   "source": [
    "tweet_data = TweetData()\n",
    "tweet_data.clean_tweets.head()"
   ]
  },
  {
   "cell_type": "markdown",
   "metadata": {},
   "source": [
    "# Daily Tweets"
   ]
  },
  {
   "cell_type": "markdown",
   "metadata": {},
   "source": [
    "This does the following two things:\n",
    "\n",
    "1) Change the date of the tweets after 3 PM Chicago time to the following day (as trading closes then)\n",
    "2) Concatenate all tweets in a given day to one large document"
   ]
  },
  {
   "cell_type": "code",
   "execution_count": 3,
   "metadata": {
    "scrolled": true
   },
   "outputs": [
    {
     "data": {
      "text/html": [
       "<div>\n",
       "<style scoped>\n",
       "    .dataframe tbody tr th:only-of-type {\n",
       "        vertical-align: middle;\n",
       "    }\n",
       "\n",
       "    .dataframe tbody tr th {\n",
       "        vertical-align: top;\n",
       "    }\n",
       "\n",
       "    .dataframe thead th {\n",
       "        text-align: right;\n",
       "    }\n",
       "</style>\n",
       "<table border=\"1\" class=\"dataframe\">\n",
       "  <thead>\n",
       "    <tr style=\"text-align: right;\">\n",
       "      <th></th>\n",
       "      <th>tweets</th>\n",
       "    </tr>\n",
       "    <tr>\n",
       "      <th>date</th>\n",
       "      <th></th>\n",
       "    </tr>\n",
       "  </thead>\n",
       "  <tbody>\n",
       "    <tr>\n",
       "      <td>2009-05-05</td>\n",
       "      <td>donald trump will be appearing on the view tom...</td>\n",
       "    </tr>\n",
       "    <tr>\n",
       "      <td>2009-05-08</td>\n",
       "      <td>donald trump reads top ten financial tips on l...</td>\n",
       "    </tr>\n",
       "    <tr>\n",
       "      <td>2009-05-09</td>\n",
       "      <td>new blog post celebrity apprentice finale and ...</td>\n",
       "    </tr>\n",
       "    <tr>\n",
       "      <td>2009-05-12</td>\n",
       "      <td>my persona will never be that of a wallflower ...</td>\n",
       "    </tr>\n",
       "    <tr>\n",
       "      <td>2009-05-13</td>\n",
       "      <td>miss usa tara conner will not be fired ive alw...</td>\n",
       "    </tr>\n",
       "  </tbody>\n",
       "</table>\n",
       "</div>"
      ],
      "text/plain": [
       "                                                       tweets\n",
       "date                                                         \n",
       "2009-05-05  donald trump will be appearing on the view tom...\n",
       "2009-05-08  donald trump reads top ten financial tips on l...\n",
       "2009-05-09  new blog post celebrity apprentice finale and ...\n",
       "2009-05-12  my persona will never be that of a wallflower ...\n",
       "2009-05-13  miss usa tara conner will not be fired ive alw..."
      ]
     },
     "execution_count": 3,
     "metadata": {},
     "output_type": "execute_result"
    }
   ],
   "source": [
    "tweet_data.daily_tweets.head()"
   ]
  },
  {
   "cell_type": "markdown",
   "metadata": {},
   "source": [
    "# Feature Generator"
   ]
  },
  {
   "cell_type": "markdown",
   "metadata": {},
   "source": [
    "Creating a 'TextFeaturesGenerator' instance which takes the tweets as an argument"
   ]
  },
  {
   "cell_type": "code",
   "execution_count": 4,
   "metadata": {},
   "outputs": [],
   "source": [
    "feature_generator = TextFeaturesGenerator(tweet_data.clean_tweets.tweets)"
   ]
  },
  {
   "cell_type": "markdown",
   "metadata": {},
   "source": [
    "'get_bow_matrix' creates the bag-of-words matrix"
   ]
  },
  {
   "cell_type": "code",
   "execution_count": 5,
   "metadata": {},
   "outputs": [],
   "source": [
    "bow_mat = feature_generator.get_bow_matrix()"
   ]
  },
  {
   "cell_type": "code",
   "execution_count": 6,
   "metadata": {
    "scrolled": true
   },
   "outputs": [
    {
     "data": {
      "text/plain": [
       "(27960, 16781)"
      ]
     },
     "execution_count": 6,
     "metadata": {},
     "output_type": "execute_result"
    }
   ],
   "source": [
    "bow_mat.shape"
   ]
  },
  {
   "cell_type": "markdown",
   "metadata": {},
   "source": [
    "The shape of this matrix is 27.96K rows (same number as the tweets) and the columns are 16,781, which is equal to the unique number of words in the vocabulary."
   ]
  },
  {
   "cell_type": "code",
   "execution_count": 7,
   "metadata": {},
   "outputs": [
    {
     "data": {
      "text/plain": [
       "matrix([[0, 0, 0, 0, 0, 0, 0, 0, 0, 0],\n",
       "        [0, 0, 0, 0, 0, 0, 0, 0, 0, 0],\n",
       "        [0, 0, 0, 0, 0, 0, 0, 0, 0, 0],\n",
       "        [0, 0, 0, 0, 0, 0, 0, 0, 0, 0],\n",
       "        [0, 0, 0, 0, 0, 0, 0, 0, 0, 0],\n",
       "        [0, 0, 0, 0, 0, 0, 0, 0, 0, 0],\n",
       "        [0, 0, 0, 0, 0, 0, 0, 0, 0, 0],\n",
       "        [0, 0, 0, 0, 0, 0, 0, 0, 0, 0],\n",
       "        [0, 0, 0, 0, 0, 0, 0, 0, 0, 0],\n",
       "        [0, 0, 0, 0, 0, 0, 0, 0, 0, 0]], dtype=int64)"
      ]
     },
     "execution_count": 7,
     "metadata": {},
     "output_type": "execute_result"
    }
   ],
   "source": [
    "bow_mat[:10,:10].todense()"
   ]
  },
  {
   "cell_type": "markdown",
   "metadata": {},
   "source": [
    "As you can see, most of the values are zero which is why it is stored as a 'sparse-matrix'"
   ]
  },
  {
   "cell_type": "markdown",
   "metadata": {},
   "source": [
    "Bag-of-words is simply a count of words in the tweet. A better representation is 'tf-idf'. The 'get_tfidf_matrix' creates"
   ]
  },
  {
   "cell_type": "code",
   "execution_count": 8,
   "metadata": {},
   "outputs": [
    {
     "data": {
      "text/plain": [
       "(27960, 16781)"
      ]
     },
     "execution_count": 8,
     "metadata": {},
     "output_type": "execute_result"
    }
   ],
   "source": [
    "tfidf_mat = feature_generator.get_tfidf_matrix()\n",
    "tfidf_mat.shape"
   ]
  },
  {
   "cell_type": "markdown",
   "metadata": {},
   "source": [
    "The matrices can be saved using the matrices function. You can either specify a 'folder' which will be created and both matrices stored in it, else will store in the working directory."
   ]
  },
  {
   "cell_type": "code",
   "execution_count": 9,
   "metadata": {},
   "outputs": [],
   "source": [
    "feature_generator.save_matrices()"
   ]
  },
  {
   "cell_type": "markdown",
   "metadata": {},
   "source": [
    "The two matrices will be saved with the names \"bow_mat.npz\" and \"tfidf_mat.npz\""
   ]
  },
  {
   "cell_type": "markdown",
   "metadata": {},
   "source": [
    "You can also specify a folder and a suffix to the file names."
   ]
  },
  {
   "cell_type": "code",
   "execution_count": 10,
   "metadata": {},
   "outputs": [],
   "source": [
    "feature_generator.save_matrices(folder=\"matrices\",suffix=\"_v2\")"
   ]
  },
  {
   "cell_type": "markdown",
   "metadata": {},
   "source": [
    "The files can be loaded using the following commands:"
   ]
  },
  {
   "cell_type": "code",
   "execution_count": 11,
   "metadata": {},
   "outputs": [
    {
     "name": "stdout",
     "output_type": "stream",
     "text": [
      "(27960, 16781)\n",
      "(27960, 16781)\n"
     ]
    }
   ],
   "source": [
    "from scipy import sparse\n",
    "bow_loaded = sparse.load_npz(\"bow_mat.npz\")\n",
    "tfidf_loaded = sparse.load_npz(\"tfidf_mat.npz\")\n",
    "print(bow_loaded.shape)\n",
    "print(tfidf_loaded.shape)"
   ]
  },
  {
   "cell_type": "markdown",
   "metadata": {},
   "source": [
    "## PCA (through SVD) of the matrices"
   ]
  },
  {
   "cell_type": "markdown",
   "metadata": {},
   "source": [
    "You can get the SVD of the bow and tfidf matrices as well."
   ]
  },
  {
   "cell_type": "code",
   "execution_count": 12,
   "metadata": {},
   "outputs": [],
   "source": [
    "svd_bow_mat = feature_generator.get_svd_bow_mat()"
   ]
  },
  {
   "cell_type": "code",
   "execution_count": 13,
   "metadata": {},
   "outputs": [
    {
     "data": {
      "text/plain": [
       "(27960, 2)"
      ]
     },
     "execution_count": 13,
     "metadata": {},
     "output_type": "execute_result"
    }
   ],
   "source": [
    "svd_bow_mat.shape"
   ]
  },
  {
   "cell_type": "markdown",
   "metadata": {},
   "source": [
    "By default, it gives back two components. You can changet that using the n_components argument."
   ]
  },
  {
   "cell_type": "code",
   "execution_count": 14,
   "metadata": {},
   "outputs": [],
   "source": [
    "svd_bow_mat = feature_generator.get_svd_bow_mat(n_components=100)"
   ]
  },
  {
   "cell_type": "code",
   "execution_count": 15,
   "metadata": {},
   "outputs": [
    {
     "data": {
      "text/plain": [
       "(27960, 100)"
      ]
     },
     "execution_count": 15,
     "metadata": {},
     "output_type": "execute_result"
    }
   ],
   "source": [
    "svd_bow_mat.shape"
   ]
  },
  {
   "cell_type": "markdown",
   "metadata": {},
   "source": [
    "You can get the SVD of the tf-idf as well."
   ]
  },
  {
   "cell_type": "code",
   "execution_count": 16,
   "metadata": {},
   "outputs": [],
   "source": [
    "svd_tfidf_mat = feature_generator.get_svd_bow_mat(n_components=100)"
   ]
  },
  {
   "cell_type": "code",
   "execution_count": 17,
   "metadata": {},
   "outputs": [
    {
     "data": {
      "text/plain": [
       "(27960, 100)"
      ]
     },
     "execution_count": 17,
     "metadata": {},
     "output_type": "execute_result"
    }
   ],
   "source": [
    "svd_tfidf_mat.shape"
   ]
  },
  {
   "cell_type": "markdown",
   "metadata": {},
   "source": [
    "These matrices can be saved as well."
   ]
  },
  {
   "cell_type": "code",
   "execution_count": 18,
   "metadata": {},
   "outputs": [],
   "source": [
    "feature_generator.save_matrices()"
   ]
  },
  {
   "cell_type": "markdown",
   "metadata": {},
   "source": [
    "You can load them back using np.load"
   ]
  },
  {
   "cell_type": "code",
   "execution_count": 19,
   "metadata": {},
   "outputs": [],
   "source": [
    "svd_loaded_mat = np.load('svd_tfidf_mat.npy')"
   ]
  },
  {
   "cell_type": "code",
   "execution_count": 20,
   "metadata": {
    "scrolled": true
   },
   "outputs": [
    {
     "data": {
      "text/plain": [
       "(27960, 100)"
      ]
     },
     "execution_count": 20,
     "metadata": {},
     "output_type": "execute_result"
    }
   ],
   "source": [
    "svd_loaded_mat.shape"
   ]
  },
  {
   "cell_type": "markdown",
   "metadata": {},
   "source": [
    "# Aggregagte SVD per day "
   ]
  },
  {
   "cell_type": "code",
   "execution_count": 21,
   "metadata": {},
   "outputs": [],
   "source": [
    "svd_df = pd.DataFrame(svd_loaded_mat)"
   ]
  },
  {
   "cell_type": "code",
   "execution_count": 22,
   "metadata": {},
   "outputs": [],
   "source": [
    "svd_df['timestamp'] = tweet_data.clean_tweets.index\n",
    "svd_df['date'] = svd_df.timestamp.dt.date"
   ]
  },
  {
   "cell_type": "code",
   "execution_count": 23,
   "metadata": {
    "scrolled": true
   },
   "outputs": [
    {
     "data": {
      "text/html": [
       "<div>\n",
       "<style scoped>\n",
       "    .dataframe tbody tr th:only-of-type {\n",
       "        vertical-align: middle;\n",
       "    }\n",
       "\n",
       "    .dataframe tbody tr th {\n",
       "        vertical-align: top;\n",
       "    }\n",
       "\n",
       "    .dataframe thead th {\n",
       "        text-align: right;\n",
       "    }\n",
       "</style>\n",
       "<table border=\"1\" class=\"dataframe\">\n",
       "  <thead>\n",
       "    <tr style=\"text-align: right;\">\n",
       "      <th></th>\n",
       "      <th>0</th>\n",
       "      <th>1</th>\n",
       "      <th>2</th>\n",
       "      <th>3</th>\n",
       "      <th>4</th>\n",
       "      <th>5</th>\n",
       "      <th>6</th>\n",
       "      <th>7</th>\n",
       "      <th>8</th>\n",
       "      <th>9</th>\n",
       "      <th>...</th>\n",
       "      <th>92</th>\n",
       "      <th>93</th>\n",
       "      <th>94</th>\n",
       "      <th>95</th>\n",
       "      <th>96</th>\n",
       "      <th>97</th>\n",
       "      <th>98</th>\n",
       "      <th>99</th>\n",
       "      <th>timestamp</th>\n",
       "      <th>date</th>\n",
       "    </tr>\n",
       "  </thead>\n",
       "  <tbody>\n",
       "    <tr>\n",
       "      <td>0</td>\n",
       "      <td>1.067114</td>\n",
       "      <td>0.077396</td>\n",
       "      <td>-0.803793</td>\n",
       "      <td>-0.205652</td>\n",
       "      <td>-0.505180</td>\n",
       "      <td>0.004843</td>\n",
       "      <td>0.039186</td>\n",
       "      <td>-0.049387</td>\n",
       "      <td>-0.095551</td>\n",
       "      <td>-0.017207</td>\n",
       "      <td>...</td>\n",
       "      <td>-0.097385</td>\n",
       "      <td>-0.040557</td>\n",
       "      <td>-0.074507</td>\n",
       "      <td>-0.154030</td>\n",
       "      <td>-0.093137</td>\n",
       "      <td>-0.052937</td>\n",
       "      <td>0.143799</td>\n",
       "      <td>-0.088854</td>\n",
       "      <td>2019-10-02 23:41:51-05:00</td>\n",
       "      <td>2019-10-02</td>\n",
       "    </tr>\n",
       "    <tr>\n",
       "      <td>1</td>\n",
       "      <td>2.398382</td>\n",
       "      <td>-2.635966</td>\n",
       "      <td>1.537750</td>\n",
       "      <td>0.957777</td>\n",
       "      <td>0.272032</td>\n",
       "      <td>-0.429117</td>\n",
       "      <td>-1.631507</td>\n",
       "      <td>0.552008</td>\n",
       "      <td>-1.720561</td>\n",
       "      <td>1.136831</td>\n",
       "      <td>...</td>\n",
       "      <td>0.258984</td>\n",
       "      <td>-0.070872</td>\n",
       "      <td>0.086509</td>\n",
       "      <td>-0.116275</td>\n",
       "      <td>-0.196379</td>\n",
       "      <td>0.337119</td>\n",
       "      <td>-0.056392</td>\n",
       "      <td>0.015231</td>\n",
       "      <td>2019-10-02 23:27:52-05:00</td>\n",
       "      <td>2019-10-02</td>\n",
       "    </tr>\n",
       "    <tr>\n",
       "      <td>2</td>\n",
       "      <td>2.039926</td>\n",
       "      <td>-2.169685</td>\n",
       "      <td>2.635236</td>\n",
       "      <td>0.428123</td>\n",
       "      <td>-0.238948</td>\n",
       "      <td>-0.022691</td>\n",
       "      <td>-0.655132</td>\n",
       "      <td>-0.462280</td>\n",
       "      <td>-1.005659</td>\n",
       "      <td>1.190836</td>\n",
       "      <td>...</td>\n",
       "      <td>-0.414179</td>\n",
       "      <td>0.352808</td>\n",
       "      <td>-0.303401</td>\n",
       "      <td>-0.299134</td>\n",
       "      <td>0.059244</td>\n",
       "      <td>0.560983</td>\n",
       "      <td>0.063551</td>\n",
       "      <td>-0.360784</td>\n",
       "      <td>2019-10-02 23:27:52-05:00</td>\n",
       "      <td>2019-10-02</td>\n",
       "    </tr>\n",
       "    <tr>\n",
       "      <td>3</td>\n",
       "      <td>0.116174</td>\n",
       "      <td>-0.057314</td>\n",
       "      <td>0.003153</td>\n",
       "      <td>0.019891</td>\n",
       "      <td>0.105173</td>\n",
       "      <td>-0.114806</td>\n",
       "      <td>-0.126431</td>\n",
       "      <td>-0.100204</td>\n",
       "      <td>-0.022856</td>\n",
       "      <td>-0.030552</td>\n",
       "      <td>...</td>\n",
       "      <td>-0.004304</td>\n",
       "      <td>-0.024867</td>\n",
       "      <td>-0.074782</td>\n",
       "      <td>-0.038560</td>\n",
       "      <td>0.000536</td>\n",
       "      <td>0.116081</td>\n",
       "      <td>0.002978</td>\n",
       "      <td>0.120855</td>\n",
       "      <td>2019-10-02 21:06:36-05:00</td>\n",
       "      <td>2019-10-02</td>\n",
       "    </tr>\n",
       "    <tr>\n",
       "      <td>4</td>\n",
       "      <td>0.473519</td>\n",
       "      <td>-0.025296</td>\n",
       "      <td>0.216236</td>\n",
       "      <td>0.710462</td>\n",
       "      <td>0.506245</td>\n",
       "      <td>0.856471</td>\n",
       "      <td>-0.055029</td>\n",
       "      <td>-0.015950</td>\n",
       "      <td>-0.015656</td>\n",
       "      <td>-0.262654</td>\n",
       "      <td>...</td>\n",
       "      <td>-0.043025</td>\n",
       "      <td>-0.079855</td>\n",
       "      <td>0.032954</td>\n",
       "      <td>-0.131985</td>\n",
       "      <td>0.048810</td>\n",
       "      <td>0.047779</td>\n",
       "      <td>-0.098556</td>\n",
       "      <td>-0.062281</td>\n",
       "      <td>2019-10-02 19:51:56-05:00</td>\n",
       "      <td>2019-10-02</td>\n",
       "    </tr>\n",
       "  </tbody>\n",
       "</table>\n",
       "<p>5 rows × 102 columns</p>\n",
       "</div>"
      ],
      "text/plain": [
       "          0         1         2         3         4         5         6  \\\n",
       "0  1.067114  0.077396 -0.803793 -0.205652 -0.505180  0.004843  0.039186   \n",
       "1  2.398382 -2.635966  1.537750  0.957777  0.272032 -0.429117 -1.631507   \n",
       "2  2.039926 -2.169685  2.635236  0.428123 -0.238948 -0.022691 -0.655132   \n",
       "3  0.116174 -0.057314  0.003153  0.019891  0.105173 -0.114806 -0.126431   \n",
       "4  0.473519 -0.025296  0.216236  0.710462  0.506245  0.856471 -0.055029   \n",
       "\n",
       "          7         8         9  ...        92        93        94        95  \\\n",
       "0 -0.049387 -0.095551 -0.017207  ... -0.097385 -0.040557 -0.074507 -0.154030   \n",
       "1  0.552008 -1.720561  1.136831  ...  0.258984 -0.070872  0.086509 -0.116275   \n",
       "2 -0.462280 -1.005659  1.190836  ... -0.414179  0.352808 -0.303401 -0.299134   \n",
       "3 -0.100204 -0.022856 -0.030552  ... -0.004304 -0.024867 -0.074782 -0.038560   \n",
       "4 -0.015950 -0.015656 -0.262654  ... -0.043025 -0.079855  0.032954 -0.131985   \n",
       "\n",
       "         96        97        98        99                 timestamp  \\\n",
       "0 -0.093137 -0.052937  0.143799 -0.088854 2019-10-02 23:41:51-05:00   \n",
       "1 -0.196379  0.337119 -0.056392  0.015231 2019-10-02 23:27:52-05:00   \n",
       "2  0.059244  0.560983  0.063551 -0.360784 2019-10-02 23:27:52-05:00   \n",
       "3  0.000536  0.116081  0.002978  0.120855 2019-10-02 21:06:36-05:00   \n",
       "4  0.048810  0.047779 -0.098556 -0.062281 2019-10-02 19:51:56-05:00   \n",
       "\n",
       "         date  \n",
       "0  2019-10-02  \n",
       "1  2019-10-02  \n",
       "2  2019-10-02  \n",
       "3  2019-10-02  \n",
       "4  2019-10-02  \n",
       "\n",
       "[5 rows x 102 columns]"
      ]
     },
     "execution_count": 23,
     "metadata": {},
     "output_type": "execute_result"
    }
   ],
   "source": [
    "svd_df.head()"
   ]
  },
  {
   "cell_type": "code",
   "execution_count": 24,
   "metadata": {
    "scrolled": true
   },
   "outputs": [],
   "source": [
    "svd_df_daily = svd_df.groupby('date').agg(np.mean)"
   ]
  },
  {
   "cell_type": "code",
   "execution_count": 25,
   "metadata": {},
   "outputs": [
    {
     "data": {
      "text/html": [
       "<div>\n",
       "<style scoped>\n",
       "    .dataframe tbody tr th:only-of-type {\n",
       "        vertical-align: middle;\n",
       "    }\n",
       "\n",
       "    .dataframe tbody tr th {\n",
       "        vertical-align: top;\n",
       "    }\n",
       "\n",
       "    .dataframe thead th {\n",
       "        text-align: right;\n",
       "    }\n",
       "</style>\n",
       "<table border=\"1\" class=\"dataframe\">\n",
       "  <thead>\n",
       "    <tr style=\"text-align: right;\">\n",
       "      <th></th>\n",
       "      <th>0</th>\n",
       "      <th>1</th>\n",
       "      <th>2</th>\n",
       "      <th>3</th>\n",
       "      <th>4</th>\n",
       "      <th>5</th>\n",
       "      <th>6</th>\n",
       "      <th>7</th>\n",
       "      <th>8</th>\n",
       "      <th>9</th>\n",
       "      <th>...</th>\n",
       "      <th>90</th>\n",
       "      <th>91</th>\n",
       "      <th>92</th>\n",
       "      <th>93</th>\n",
       "      <th>94</th>\n",
       "      <th>95</th>\n",
       "      <th>96</th>\n",
       "      <th>97</th>\n",
       "      <th>98</th>\n",
       "      <th>99</th>\n",
       "    </tr>\n",
       "    <tr>\n",
       "      <th>date</th>\n",
       "      <th></th>\n",
       "      <th></th>\n",
       "      <th></th>\n",
       "      <th></th>\n",
       "      <th></th>\n",
       "      <th></th>\n",
       "      <th></th>\n",
       "      <th></th>\n",
       "      <th></th>\n",
       "      <th></th>\n",
       "      <th></th>\n",
       "      <th></th>\n",
       "      <th></th>\n",
       "      <th></th>\n",
       "      <th></th>\n",
       "      <th></th>\n",
       "      <th></th>\n",
       "      <th></th>\n",
       "      <th></th>\n",
       "      <th></th>\n",
       "      <th></th>\n",
       "    </tr>\n",
       "  </thead>\n",
       "  <tbody>\n",
       "    <tr>\n",
       "      <td>2009-05-04</td>\n",
       "      <td>1.917882</td>\n",
       "      <td>-0.737776</td>\n",
       "      <td>-0.008240</td>\n",
       "      <td>-0.307825</td>\n",
       "      <td>0.125388</td>\n",
       "      <td>-0.765858</td>\n",
       "      <td>0.104030</td>\n",
       "      <td>-0.852788</td>\n",
       "      <td>-0.843460</td>\n",
       "      <td>-0.306545</td>\n",
       "      <td>...</td>\n",
       "      <td>0.256583</td>\n",
       "      <td>0.000425</td>\n",
       "      <td>-0.069494</td>\n",
       "      <td>0.123169</td>\n",
       "      <td>-0.048137</td>\n",
       "      <td>0.105338</td>\n",
       "      <td>-0.111068</td>\n",
       "      <td>-0.012371</td>\n",
       "      <td>-0.147085</td>\n",
       "      <td>0.008953</td>\n",
       "    </tr>\n",
       "    <tr>\n",
       "      <td>2009-05-05</td>\n",
       "      <td>1.734408</td>\n",
       "      <td>-0.729916</td>\n",
       "      <td>-0.037521</td>\n",
       "      <td>-0.528596</td>\n",
       "      <td>-0.111331</td>\n",
       "      <td>-0.610496</td>\n",
       "      <td>-0.951095</td>\n",
       "      <td>-0.822610</td>\n",
       "      <td>-0.527628</td>\n",
       "      <td>-0.409864</td>\n",
       "      <td>...</td>\n",
       "      <td>-0.002147</td>\n",
       "      <td>-0.020303</td>\n",
       "      <td>-0.172469</td>\n",
       "      <td>0.097354</td>\n",
       "      <td>-0.069305</td>\n",
       "      <td>0.014423</td>\n",
       "      <td>-0.017498</td>\n",
       "      <td>-0.009654</td>\n",
       "      <td>-0.056903</td>\n",
       "      <td>0.008024</td>\n",
       "    </tr>\n",
       "    <tr>\n",
       "      <td>2009-05-08</td>\n",
       "      <td>0.656465</td>\n",
       "      <td>0.025012</td>\n",
       "      <td>0.336565</td>\n",
       "      <td>-0.142836</td>\n",
       "      <td>-0.174618</td>\n",
       "      <td>-0.143168</td>\n",
       "      <td>-0.148943</td>\n",
       "      <td>-0.144386</td>\n",
       "      <td>-0.311437</td>\n",
       "      <td>-0.002341</td>\n",
       "      <td>...</td>\n",
       "      <td>0.065810</td>\n",
       "      <td>0.043735</td>\n",
       "      <td>-0.001123</td>\n",
       "      <td>0.063384</td>\n",
       "      <td>-0.043466</td>\n",
       "      <td>0.046604</td>\n",
       "      <td>-0.050328</td>\n",
       "      <td>-0.021959</td>\n",
       "      <td>-0.066037</td>\n",
       "      <td>0.044944</td>\n",
       "    </tr>\n",
       "    <tr>\n",
       "      <td>2009-05-12</td>\n",
       "      <td>0.764610</td>\n",
       "      <td>-0.615122</td>\n",
       "      <td>-0.252076</td>\n",
       "      <td>-0.132610</td>\n",
       "      <td>0.900807</td>\n",
       "      <td>-0.321875</td>\n",
       "      <td>-0.307898</td>\n",
       "      <td>-0.607115</td>\n",
       "      <td>0.308673</td>\n",
       "      <td>-0.375667</td>\n",
       "      <td>...</td>\n",
       "      <td>-0.012838</td>\n",
       "      <td>-0.133662</td>\n",
       "      <td>-0.115200</td>\n",
       "      <td>0.160354</td>\n",
       "      <td>-0.034786</td>\n",
       "      <td>0.205643</td>\n",
       "      <td>0.098947</td>\n",
       "      <td>0.132937</td>\n",
       "      <td>-0.059507</td>\n",
       "      <td>0.090006</td>\n",
       "    </tr>\n",
       "    <tr>\n",
       "      <td>2009-05-13</td>\n",
       "      <td>0.552576</td>\n",
       "      <td>-0.718454</td>\n",
       "      <td>-0.642428</td>\n",
       "      <td>-0.030314</td>\n",
       "      <td>-0.052141</td>\n",
       "      <td>0.129544</td>\n",
       "      <td>0.069837</td>\n",
       "      <td>-0.090266</td>\n",
       "      <td>-0.274465</td>\n",
       "      <td>-0.070405</td>\n",
       "      <td>...</td>\n",
       "      <td>0.026995</td>\n",
       "      <td>-0.030393</td>\n",
       "      <td>-0.121937</td>\n",
       "      <td>0.121079</td>\n",
       "      <td>0.077812</td>\n",
       "      <td>-0.030831</td>\n",
       "      <td>-0.011993</td>\n",
       "      <td>-0.094668</td>\n",
       "      <td>-0.088516</td>\n",
       "      <td>-0.087727</td>\n",
       "    </tr>\n",
       "    <tr>\n",
       "      <td>...</td>\n",
       "      <td>...</td>\n",
       "      <td>...</td>\n",
       "      <td>...</td>\n",
       "      <td>...</td>\n",
       "      <td>...</td>\n",
       "      <td>...</td>\n",
       "      <td>...</td>\n",
       "      <td>...</td>\n",
       "      <td>...</td>\n",
       "      <td>...</td>\n",
       "      <td>...</td>\n",
       "      <td>...</td>\n",
       "      <td>...</td>\n",
       "      <td>...</td>\n",
       "      <td>...</td>\n",
       "      <td>...</td>\n",
       "      <td>...</td>\n",
       "      <td>...</td>\n",
       "      <td>...</td>\n",
       "      <td>...</td>\n",
       "      <td>...</td>\n",
       "    </tr>\n",
       "    <tr>\n",
       "      <td>2019-09-28</td>\n",
       "      <td>1.766456</td>\n",
       "      <td>-0.018465</td>\n",
       "      <td>-0.006562</td>\n",
       "      <td>-0.071148</td>\n",
       "      <td>-0.085782</td>\n",
       "      <td>-0.067368</td>\n",
       "      <td>0.134505</td>\n",
       "      <td>0.280319</td>\n",
       "      <td>-0.044777</td>\n",
       "      <td>0.094144</td>\n",
       "      <td>...</td>\n",
       "      <td>-0.009233</td>\n",
       "      <td>0.009786</td>\n",
       "      <td>0.080701</td>\n",
       "      <td>-0.028289</td>\n",
       "      <td>0.015793</td>\n",
       "      <td>-0.058447</td>\n",
       "      <td>0.042836</td>\n",
       "      <td>0.063615</td>\n",
       "      <td>-0.049853</td>\n",
       "      <td>0.026295</td>\n",
       "    </tr>\n",
       "    <tr>\n",
       "      <td>2019-09-29</td>\n",
       "      <td>1.818351</td>\n",
       "      <td>0.067952</td>\n",
       "      <td>-0.139502</td>\n",
       "      <td>-0.020150</td>\n",
       "      <td>-0.080780</td>\n",
       "      <td>-0.107743</td>\n",
       "      <td>0.294175</td>\n",
       "      <td>-0.018606</td>\n",
       "      <td>0.171831</td>\n",
       "      <td>0.062312</td>\n",
       "      <td>...</td>\n",
       "      <td>-0.029585</td>\n",
       "      <td>0.041702</td>\n",
       "      <td>0.003403</td>\n",
       "      <td>-0.041324</td>\n",
       "      <td>-0.018078</td>\n",
       "      <td>-0.042881</td>\n",
       "      <td>0.034329</td>\n",
       "      <td>-0.051666</td>\n",
       "      <td>-0.012458</td>\n",
       "      <td>-0.036183</td>\n",
       "    </tr>\n",
       "    <tr>\n",
       "      <td>2019-09-30</td>\n",
       "      <td>2.838771</td>\n",
       "      <td>0.208005</td>\n",
       "      <td>0.114255</td>\n",
       "      <td>0.087938</td>\n",
       "      <td>-0.168927</td>\n",
       "      <td>-0.027974</td>\n",
       "      <td>0.171122</td>\n",
       "      <td>0.041970</td>\n",
       "      <td>0.033269</td>\n",
       "      <td>-0.042353</td>\n",
       "      <td>...</td>\n",
       "      <td>-0.022258</td>\n",
       "      <td>0.032971</td>\n",
       "      <td>0.008412</td>\n",
       "      <td>-0.039595</td>\n",
       "      <td>0.001071</td>\n",
       "      <td>0.044836</td>\n",
       "      <td>-0.008554</td>\n",
       "      <td>0.002438</td>\n",
       "      <td>-0.020873</td>\n",
       "      <td>0.069324</td>\n",
       "    </tr>\n",
       "    <tr>\n",
       "      <td>2019-10-01</td>\n",
       "      <td>2.743603</td>\n",
       "      <td>-0.035050</td>\n",
       "      <td>-0.160602</td>\n",
       "      <td>0.004014</td>\n",
       "      <td>-0.083679</td>\n",
       "      <td>0.294312</td>\n",
       "      <td>-0.183208</td>\n",
       "      <td>0.268333</td>\n",
       "      <td>0.017663</td>\n",
       "      <td>0.096170</td>\n",
       "      <td>...</td>\n",
       "      <td>-0.036987</td>\n",
       "      <td>0.052118</td>\n",
       "      <td>0.026958</td>\n",
       "      <td>0.015224</td>\n",
       "      <td>-0.034136</td>\n",
       "      <td>0.038097</td>\n",
       "      <td>-0.089549</td>\n",
       "      <td>0.044991</td>\n",
       "      <td>-0.020062</td>\n",
       "      <td>-0.024954</td>\n",
       "    </tr>\n",
       "    <tr>\n",
       "      <td>2019-10-02</td>\n",
       "      <td>2.865566</td>\n",
       "      <td>-0.222499</td>\n",
       "      <td>0.298183</td>\n",
       "      <td>0.429953</td>\n",
       "      <td>0.004888</td>\n",
       "      <td>0.147548</td>\n",
       "      <td>-0.145853</td>\n",
       "      <td>-0.093403</td>\n",
       "      <td>-0.123089</td>\n",
       "      <td>0.053844</td>\n",
       "      <td>...</td>\n",
       "      <td>-0.102771</td>\n",
       "      <td>-0.042701</td>\n",
       "      <td>0.018008</td>\n",
       "      <td>-0.010612</td>\n",
       "      <td>-0.054033</td>\n",
       "      <td>-0.045682</td>\n",
       "      <td>0.049748</td>\n",
       "      <td>0.087993</td>\n",
       "      <td>-0.037552</td>\n",
       "      <td>0.023089</td>\n",
       "    </tr>\n",
       "  </tbody>\n",
       "</table>\n",
       "<p>2991 rows × 100 columns</p>\n",
       "</div>"
      ],
      "text/plain": [
       "                  0         1         2         3         4         5   \\\n",
       "date                                                                     \n",
       "2009-05-04  1.917882 -0.737776 -0.008240 -0.307825  0.125388 -0.765858   \n",
       "2009-05-05  1.734408 -0.729916 -0.037521 -0.528596 -0.111331 -0.610496   \n",
       "2009-05-08  0.656465  0.025012  0.336565 -0.142836 -0.174618 -0.143168   \n",
       "2009-05-12  0.764610 -0.615122 -0.252076 -0.132610  0.900807 -0.321875   \n",
       "2009-05-13  0.552576 -0.718454 -0.642428 -0.030314 -0.052141  0.129544   \n",
       "...              ...       ...       ...       ...       ...       ...   \n",
       "2019-09-28  1.766456 -0.018465 -0.006562 -0.071148 -0.085782 -0.067368   \n",
       "2019-09-29  1.818351  0.067952 -0.139502 -0.020150 -0.080780 -0.107743   \n",
       "2019-09-30  2.838771  0.208005  0.114255  0.087938 -0.168927 -0.027974   \n",
       "2019-10-01  2.743603 -0.035050 -0.160602  0.004014 -0.083679  0.294312   \n",
       "2019-10-02  2.865566 -0.222499  0.298183  0.429953  0.004888  0.147548   \n",
       "\n",
       "                  6         7         8         9   ...        90        91  \\\n",
       "date                                                ...                       \n",
       "2009-05-04  0.104030 -0.852788 -0.843460 -0.306545  ...  0.256583  0.000425   \n",
       "2009-05-05 -0.951095 -0.822610 -0.527628 -0.409864  ... -0.002147 -0.020303   \n",
       "2009-05-08 -0.148943 -0.144386 -0.311437 -0.002341  ...  0.065810  0.043735   \n",
       "2009-05-12 -0.307898 -0.607115  0.308673 -0.375667  ... -0.012838 -0.133662   \n",
       "2009-05-13  0.069837 -0.090266 -0.274465 -0.070405  ...  0.026995 -0.030393   \n",
       "...              ...       ...       ...       ...  ...       ...       ...   \n",
       "2019-09-28  0.134505  0.280319 -0.044777  0.094144  ... -0.009233  0.009786   \n",
       "2019-09-29  0.294175 -0.018606  0.171831  0.062312  ... -0.029585  0.041702   \n",
       "2019-09-30  0.171122  0.041970  0.033269 -0.042353  ... -0.022258  0.032971   \n",
       "2019-10-01 -0.183208  0.268333  0.017663  0.096170  ... -0.036987  0.052118   \n",
       "2019-10-02 -0.145853 -0.093403 -0.123089  0.053844  ... -0.102771 -0.042701   \n",
       "\n",
       "                  92        93        94        95        96        97  \\\n",
       "date                                                                     \n",
       "2009-05-04 -0.069494  0.123169 -0.048137  0.105338 -0.111068 -0.012371   \n",
       "2009-05-05 -0.172469  0.097354 -0.069305  0.014423 -0.017498 -0.009654   \n",
       "2009-05-08 -0.001123  0.063384 -0.043466  0.046604 -0.050328 -0.021959   \n",
       "2009-05-12 -0.115200  0.160354 -0.034786  0.205643  0.098947  0.132937   \n",
       "2009-05-13 -0.121937  0.121079  0.077812 -0.030831 -0.011993 -0.094668   \n",
       "...              ...       ...       ...       ...       ...       ...   \n",
       "2019-09-28  0.080701 -0.028289  0.015793 -0.058447  0.042836  0.063615   \n",
       "2019-09-29  0.003403 -0.041324 -0.018078 -0.042881  0.034329 -0.051666   \n",
       "2019-09-30  0.008412 -0.039595  0.001071  0.044836 -0.008554  0.002438   \n",
       "2019-10-01  0.026958  0.015224 -0.034136  0.038097 -0.089549  0.044991   \n",
       "2019-10-02  0.018008 -0.010612 -0.054033 -0.045682  0.049748  0.087993   \n",
       "\n",
       "                  98        99  \n",
       "date                            \n",
       "2009-05-04 -0.147085  0.008953  \n",
       "2009-05-05 -0.056903  0.008024  \n",
       "2009-05-08 -0.066037  0.044944  \n",
       "2009-05-12 -0.059507  0.090006  \n",
       "2009-05-13 -0.088516 -0.087727  \n",
       "...              ...       ...  \n",
       "2019-09-28 -0.049853  0.026295  \n",
       "2019-09-29 -0.012458 -0.036183  \n",
       "2019-09-30 -0.020873  0.069324  \n",
       "2019-10-01 -0.020062 -0.024954  \n",
       "2019-10-02 -0.037552  0.023089  \n",
       "\n",
       "[2991 rows x 100 columns]"
      ]
     },
     "execution_count": 25,
     "metadata": {},
     "output_type": "execute_result"
    }
   ],
   "source": [
    "svd_df_daily"
   ]
  },
  {
   "cell_type": "code",
   "execution_count": 26,
   "metadata": {},
   "outputs": [],
   "source": [
    "svd_df_daily.to_csv('svd_df_daily.csv')"
   ]
  },
  {
   "cell_type": "markdown",
   "metadata": {},
   "source": [
    "# 4 PM"
   ]
  },
  {
   "cell_type": "code",
   "execution_count": 27,
   "metadata": {},
   "outputs": [],
   "source": [
    "tweet_data.clean_tweets['timestamp'] = tweet_data.clean_tweets.index\n",
    "after_4_tweets = tweet_data.clean_tweets.timestamp.dt.hour >= 15\n",
    "tweet_data.clean_tweets['after4_date'] = tweet_data.clean_tweets.timestamp.dt.date\n",
    "tweet_data.clean_tweets.loc[after_4_tweets,'after4_date'] = tweet_data.clean_tweets.timestamp[after_4_tweets].dt.date + timedelta(days=1)"
   ]
  },
  {
   "cell_type": "code",
   "execution_count": 28,
   "metadata": {
    "scrolled": false
   },
   "outputs": [
    {
     "data": {
      "text/html": [
       "<div>\n",
       "<style scoped>\n",
       "    .dataframe tbody tr th:only-of-type {\n",
       "        vertical-align: middle;\n",
       "    }\n",
       "\n",
       "    .dataframe tbody tr th {\n",
       "        vertical-align: top;\n",
       "    }\n",
       "\n",
       "    .dataframe thead th {\n",
       "        text-align: right;\n",
       "    }\n",
       "</style>\n",
       "<table border=\"1\" class=\"dataframe\">\n",
       "  <thead>\n",
       "    <tr style=\"text-align: right;\">\n",
       "      <th></th>\n",
       "      <th>tweets</th>\n",
       "      <th>timestamp</th>\n",
       "      <th>after4_date</th>\n",
       "    </tr>\n",
       "    <tr>\n",
       "      <th>timestamp</th>\n",
       "      <th></th>\n",
       "      <th></th>\n",
       "      <th></th>\n",
       "    </tr>\n",
       "  </thead>\n",
       "  <tbody>\n",
       "    <tr>\n",
       "      <td>2019-10-02 23:41:51-05:00</td>\n",
       "      <td>democrats want to steal the election</td>\n",
       "      <td>2019-10-02 23:41:51-05:00</td>\n",
       "      <td>2019-10-03</td>\n",
       "    </tr>\n",
       "    <tr>\n",
       "      <td>2019-10-02 23:27:52-05:00</td>\n",
       "      <td>mississippi there is a very important election...</td>\n",
       "      <td>2019-10-02 23:27:52-05:00</td>\n",
       "      <td>2019-10-03</td>\n",
       "    </tr>\n",
       "    <tr>\n",
       "      <td>2019-10-02 23:27:52-05:00</td>\n",
       "      <td>he loves our military and supports our vets de...</td>\n",
       "      <td>2019-10-02 23:27:52-05:00</td>\n",
       "      <td>2019-10-03</td>\n",
       "    </tr>\n",
       "    <tr>\n",
       "      <td>2019-10-02 21:06:36-05:00</td>\n",
       "      <td>look at this photograph</td>\n",
       "      <td>2019-10-02 21:06:36-05:00</td>\n",
       "      <td>2019-10-03</td>\n",
       "    </tr>\n",
       "    <tr>\n",
       "      <td>2019-10-02 19:51:56-05:00</td>\n",
       "      <td>schiff house intel chairman got early account ...</td>\n",
       "      <td>2019-10-02 19:51:56-05:00</td>\n",
       "      <td>2019-10-03</td>\n",
       "    </tr>\n",
       "    <tr>\n",
       "      <td>...</td>\n",
       "      <td>...</td>\n",
       "      <td>...</td>\n",
       "      <td>...</td>\n",
       "    </tr>\n",
       "    <tr>\n",
       "      <td>2019-09-28 03:55:17-05:00</td>\n",
       "      <td>thank you to general mcmaster just more fake n...</td>\n",
       "      <td>2019-09-28 03:55:17-05:00</td>\n",
       "      <td>2019-09-28</td>\n",
       "    </tr>\n",
       "    <tr>\n",
       "      <td>2019-09-28 02:03:00-05:00</td>\n",
       "      <td></td>\n",
       "      <td>2019-09-28 02:03:00-05:00</td>\n",
       "      <td>2019-09-28</td>\n",
       "    </tr>\n",
       "    <tr>\n",
       "      <td>2019-09-27 19:41:18-05:00</td>\n",
       "      <td>i am draining the swamp</td>\n",
       "      <td>2019-09-27 19:41:18-05:00</td>\n",
       "      <td>2019-09-28</td>\n",
       "    </tr>\n",
       "    <tr>\n",
       "      <td>2019-09-27 15:24:05-05:00</td>\n",
       "      <td>if that perfect phone call with the president ...</td>\n",
       "      <td>2019-09-27 15:24:05-05:00</td>\n",
       "      <td>2019-09-28</td>\n",
       "    </tr>\n",
       "    <tr>\n",
       "      <td>2019-09-27 13:42:57-05:00</td>\n",
       "      <td>sounding more and more like the so called whis...</td>\n",
       "      <td>2019-09-27 13:42:57-05:00</td>\n",
       "      <td>2019-09-27</td>\n",
       "    </tr>\n",
       "  </tbody>\n",
       "</table>\n",
       "<p>100 rows × 3 columns</p>\n",
       "</div>"
      ],
      "text/plain": [
       "                                                                      tweets  \\\n",
       "timestamp                                                                      \n",
       "2019-10-02 23:41:51-05:00              democrats want to steal the election    \n",
       "2019-10-02 23:27:52-05:00  mississippi there is a very important election...   \n",
       "2019-10-02 23:27:52-05:00  he loves our military and supports our vets de...   \n",
       "2019-10-02 21:06:36-05:00                           look at this photograph    \n",
       "2019-10-02 19:51:56-05:00  schiff house intel chairman got early account ...   \n",
       "...                                                                      ...   \n",
       "2019-09-28 03:55:17-05:00  thank you to general mcmaster just more fake n...   \n",
       "2019-09-28 02:03:00-05:00                                                      \n",
       "2019-09-27 19:41:18-05:00                           i am draining the swamp    \n",
       "2019-09-27 15:24:05-05:00  if that perfect phone call with the president ...   \n",
       "2019-09-27 13:42:57-05:00  sounding more and more like the so called whis...   \n",
       "\n",
       "                                          timestamp after4_date  \n",
       "timestamp                                                        \n",
       "2019-10-02 23:41:51-05:00 2019-10-02 23:41:51-05:00  2019-10-03  \n",
       "2019-10-02 23:27:52-05:00 2019-10-02 23:27:52-05:00  2019-10-03  \n",
       "2019-10-02 23:27:52-05:00 2019-10-02 23:27:52-05:00  2019-10-03  \n",
       "2019-10-02 21:06:36-05:00 2019-10-02 21:06:36-05:00  2019-10-03  \n",
       "2019-10-02 19:51:56-05:00 2019-10-02 19:51:56-05:00  2019-10-03  \n",
       "...                                             ...         ...  \n",
       "2019-09-28 03:55:17-05:00 2019-09-28 03:55:17-05:00  2019-09-28  \n",
       "2019-09-28 02:03:00-05:00 2019-09-28 02:03:00-05:00  2019-09-28  \n",
       "2019-09-27 19:41:18-05:00 2019-09-27 19:41:18-05:00  2019-09-28  \n",
       "2019-09-27 15:24:05-05:00 2019-09-27 15:24:05-05:00  2019-09-28  \n",
       "2019-09-27 13:42:57-05:00 2019-09-27 13:42:57-05:00  2019-09-27  \n",
       "\n",
       "[100 rows x 3 columns]"
      ]
     },
     "execution_count": 28,
     "metadata": {},
     "output_type": "execute_result"
    }
   ],
   "source": [
    "tweet_data.clean_tweets.head(100)"
   ]
  },
  {
   "cell_type": "code",
   "execution_count": 29,
   "metadata": {
    "scrolled": true
   },
   "outputs": [
    {
     "data": {
      "text/plain": [
       "after4_date\n",
       "2009-05-05    donald trump will be appearing on the view tom...\n",
       "2009-05-08    donald trump reads top ten financial tips on l...\n",
       "2009-05-09    new blog post celebrity apprentice finale and ...\n",
       "2009-05-12    my persona will never be that of a wallflower ...\n",
       "2009-05-13    miss usa tara conner will not be fired ive alw...\n",
       "Name: tweets, dtype: object"
      ]
     },
     "execution_count": 29,
     "metadata": {},
     "output_type": "execute_result"
    }
   ],
   "source": [
    "combined_daily_tweets = tweet_data.clean_tweets.groupby('after4_date')['tweets'].apply(lambda x: ' '.join(x))\n",
    "combined_daily_tweets.head()"
   ]
  },
  {
   "cell_type": "code",
   "execution_count": 30,
   "metadata": {
    "scrolled": false
   },
   "outputs": [
    {
     "name": "stderr",
     "output_type": "stream",
     "text": [
      "c:\\users\\gufra\\onedrive\\documents\\academics\\introtodatascience\\final_project\\trump_tweets\\venv\\lib\\site-packages\\ipykernel_launcher.py:1: FutureWarning: The signature of `Series.to_csv` was aligned to that of `DataFrame.to_csv`, and argument 'header' will change its default value from False to True: please pass an explicit value to suppress this warning.\n",
      "  \"\"\"Entry point for launching an IPython kernel.\n"
     ]
    }
   ],
   "source": [
    "combined_daily_tweets.to_csv('combined_daily_tweets.csv')"
   ]
  },
  {
   "cell_type": "markdown",
   "metadata": {},
   "source": [
    "# Check if the concatenation is correct"
   ]
  },
  {
   "cell_type": "code",
   "execution_count": 31,
   "metadata": {
    "scrolled": true
   },
   "outputs": [
    {
     "data": {
      "text/plain": [
       "timestamp\n",
       "2019-10-02 23:41:51-05:00                democrats want to steal the election \n",
       "2019-10-02 23:27:52-05:00    mississippi there is a very important election...\n",
       "2019-10-02 23:27:52-05:00    he loves our military and supports our vets de...\n",
       "2019-10-02 21:06:36-05:00                             look at this photograph \n",
       "2019-10-02 19:51:56-05:00    schiff house intel chairman got early account ...\n",
       "2019-10-02 15:48:47-05:00    the do nothing democrats should be focused on ...\n",
       "2019-10-02 15:39:07-05:00    adam schiff should only be so lucky to have th...\n",
       "2019-10-02 15:31:53-05:00    democrats are trying to undo the election rega...\n",
       "2019-10-02 15:31:03-05:00    nancy pelosi just said that she is interested ...\n",
       "2019-10-02 15:19:09-05:00    all of this impeachment nonsense which is goin...\n",
       "2019-10-02 15:02:11-05:00    now the press is trying to sell the fact that ...\n",
       "Name: tweets, dtype: object"
      ]
     },
     "execution_count": 31,
     "metadata": {},
     "output_type": "execute_result"
    }
   ],
   "source": [
    "tweet_data.clean_tweets.tweets[tweet_data.clean_tweets.after4_date==pd.to_datetime(\"2019-10-03\")]"
   ]
  },
  {
   "cell_type": "code",
   "execution_count": 32,
   "metadata": {},
   "outputs": [
    {
     "data": {
      "text/plain": [
       "after4_date\n",
       "2019-10-03    democrats want to steal the election  mississi...\n",
       "Name: tweets, dtype: object"
      ]
     },
     "execution_count": 32,
     "metadata": {},
     "output_type": "execute_result"
    }
   ],
   "source": [
    "combined_daily_tweets[combined_daily_tweets.index.values==pd.to_datetime(\"2019-10-03\")]"
   ]
  },
  {
   "cell_type": "markdown",
   "metadata": {},
   "source": [
    "# Create SVD matrix of the combiened 4 PM tweets"
   ]
  },
  {
   "cell_type": "code",
   "execution_count": 33,
   "metadata": {},
   "outputs": [],
   "source": [
    "combined_generator = TextFeaturesGenerator(combined_daily_tweets)"
   ]
  },
  {
   "cell_type": "code",
   "execution_count": 34,
   "metadata": {
    "scrolled": true
   },
   "outputs": [],
   "source": [
    "n_components = 2\n",
    "combined_svd_df = pd.DataFrame(combined_generator.get_svd_tfidf_mat(n_components=n_components))"
   ]
  },
  {
   "cell_type": "code",
   "execution_count": 35,
   "metadata": {},
   "outputs": [],
   "source": [
    "combined_svd_df['after4_date'] = combined_daily_tweets.index.values"
   ]
  },
  {
   "cell_type": "code",
   "execution_count": 36,
   "metadata": {},
   "outputs": [
    {
     "data": {
      "text/html": [
       "<div>\n",
       "<style scoped>\n",
       "    .dataframe tbody tr th:only-of-type {\n",
       "        vertical-align: middle;\n",
       "    }\n",
       "\n",
       "    .dataframe tbody tr th {\n",
       "        vertical-align: top;\n",
       "    }\n",
       "\n",
       "    .dataframe thead th {\n",
       "        text-align: right;\n",
       "    }\n",
       "</style>\n",
       "<table border=\"1\" class=\"dataframe\">\n",
       "  <thead>\n",
       "    <tr style=\"text-align: right;\">\n",
       "      <th></th>\n",
       "      <th>0</th>\n",
       "      <th>1</th>\n",
       "      <th>after4_date</th>\n",
       "    </tr>\n",
       "  </thead>\n",
       "  <tbody>\n",
       "    <tr>\n",
       "      <td>0</td>\n",
       "      <td>0.231443</td>\n",
       "      <td>0.194499</td>\n",
       "      <td>2009-05-05</td>\n",
       "    </tr>\n",
       "    <tr>\n",
       "      <td>1</td>\n",
       "      <td>0.052787</td>\n",
       "      <td>0.062074</td>\n",
       "      <td>2009-05-08</td>\n",
       "    </tr>\n",
       "    <tr>\n",
       "      <td>2</td>\n",
       "      <td>0.079677</td>\n",
       "      <td>0.035338</td>\n",
       "      <td>2009-05-09</td>\n",
       "    </tr>\n",
       "    <tr>\n",
       "      <td>3</td>\n",
       "      <td>0.102123</td>\n",
       "      <td>0.042774</td>\n",
       "      <td>2009-05-12</td>\n",
       "    </tr>\n",
       "    <tr>\n",
       "      <td>4</td>\n",
       "      <td>0.068873</td>\n",
       "      <td>0.061957</td>\n",
       "      <td>2009-05-13</td>\n",
       "    </tr>\n",
       "  </tbody>\n",
       "</table>\n",
       "</div>"
      ],
      "text/plain": [
       "          0         1 after4_date\n",
       "0  0.231443  0.194499  2009-05-05\n",
       "1  0.052787  0.062074  2009-05-08\n",
       "2  0.079677  0.035338  2009-05-09\n",
       "3  0.102123  0.042774  2009-05-12\n",
       "4  0.068873  0.061957  2009-05-13"
      ]
     },
     "execution_count": 36,
     "metadata": {},
     "output_type": "execute_result"
    }
   ],
   "source": [
    "combined_svd_df.head()"
   ]
  },
  {
   "cell_type": "code",
   "execution_count": 37,
   "metadata": {},
   "outputs": [],
   "source": [
    "combined_svd_df.to_csv('combined_svd_df.csv')"
   ]
  },
  {
   "cell_type": "markdown",
   "metadata": {},
   "source": [
    "# Scoring Tweets"
   ]
  },
  {
   "cell_type": "code",
   "execution_count": 3,
   "metadata": {},
   "outputs": [
    {
     "data": {
      "text/html": [
       "<div>\n",
       "<style scoped>\n",
       "    .dataframe tbody tr th:only-of-type {\n",
       "        vertical-align: middle;\n",
       "    }\n",
       "\n",
       "    .dataframe tbody tr th {\n",
       "        vertical-align: top;\n",
       "    }\n",
       "\n",
       "    .dataframe thead th {\n",
       "        text-align: right;\n",
       "    }\n",
       "</style>\n",
       "<table border=\"1\" class=\"dataframe\">\n",
       "  <thead>\n",
       "    <tr style=\"text-align: right;\">\n",
       "      <th></th>\n",
       "      <th>tweets</th>\n",
       "      <th>timestamp</th>\n",
       "      <th>after4_date</th>\n",
       "    </tr>\n",
       "    <tr>\n",
       "      <th>timestamp</th>\n",
       "      <th></th>\n",
       "      <th></th>\n",
       "      <th></th>\n",
       "    </tr>\n",
       "  </thead>\n",
       "  <tbody>\n",
       "    <tr>\n",
       "      <td>2019-10-02 23:41:51-05:00</td>\n",
       "      <td>democrats want to steal the election</td>\n",
       "      <td>2019-10-02 23:41:51-05:00</td>\n",
       "      <td>2019-10-03</td>\n",
       "    </tr>\n",
       "    <tr>\n",
       "      <td>2019-10-02 23:27:52-05:00</td>\n",
       "      <td>mississippi there is a very important election...</td>\n",
       "      <td>2019-10-02 23:27:52-05:00</td>\n",
       "      <td>2019-10-03</td>\n",
       "    </tr>\n",
       "    <tr>\n",
       "      <td>2019-10-02 23:27:52-05:00</td>\n",
       "      <td>he loves our military and supports our vets de...</td>\n",
       "      <td>2019-10-02 23:27:52-05:00</td>\n",
       "      <td>2019-10-03</td>\n",
       "    </tr>\n",
       "    <tr>\n",
       "      <td>2019-10-02 21:06:36-05:00</td>\n",
       "      <td>look at this photograph</td>\n",
       "      <td>2019-10-02 21:06:36-05:00</td>\n",
       "      <td>2019-10-03</td>\n",
       "    </tr>\n",
       "    <tr>\n",
       "      <td>2019-10-02 19:51:56-05:00</td>\n",
       "      <td>schiff house intel chairman got early account ...</td>\n",
       "      <td>2019-10-02 19:51:56-05:00</td>\n",
       "      <td>2019-10-03</td>\n",
       "    </tr>\n",
       "  </tbody>\n",
       "</table>\n",
       "</div>"
      ],
      "text/plain": [
       "                                                                      tweets  \\\n",
       "timestamp                                                                      \n",
       "2019-10-02 23:41:51-05:00              democrats want to steal the election    \n",
       "2019-10-02 23:27:52-05:00  mississippi there is a very important election...   \n",
       "2019-10-02 23:27:52-05:00  he loves our military and supports our vets de...   \n",
       "2019-10-02 21:06:36-05:00                           look at this photograph    \n",
       "2019-10-02 19:51:56-05:00  schiff house intel chairman got early account ...   \n",
       "\n",
       "                                          timestamp after4_date  \n",
       "timestamp                                                        \n",
       "2019-10-02 23:41:51-05:00 2019-10-02 23:41:51-05:00  2019-10-03  \n",
       "2019-10-02 23:27:52-05:00 2019-10-02 23:27:52-05:00  2019-10-03  \n",
       "2019-10-02 23:27:52-05:00 2019-10-02 23:27:52-05:00  2019-10-03  \n",
       "2019-10-02 21:06:36-05:00 2019-10-02 21:06:36-05:00  2019-10-03  \n",
       "2019-10-02 19:51:56-05:00 2019-10-02 19:51:56-05:00  2019-10-03  "
      ]
     },
     "execution_count": 3,
     "metadata": {},
     "output_type": "execute_result"
    }
   ],
   "source": [
    "tweet_data = TweetData()\n",
    "tweet_data.clean_tweets.head()"
   ]
  },
  {
   "cell_type": "code",
   "execution_count": 4,
   "metadata": {},
   "outputs": [
    {
     "data": {
      "text/html": [
       "<div>\n",
       "<style scoped>\n",
       "    .dataframe tbody tr th:only-of-type {\n",
       "        vertical-align: middle;\n",
       "    }\n",
       "\n",
       "    .dataframe tbody tr th {\n",
       "        vertical-align: top;\n",
       "    }\n",
       "\n",
       "    .dataframe thead th {\n",
       "        text-align: right;\n",
       "    }\n",
       "</style>\n",
       "<table border=\"1\" class=\"dataframe\">\n",
       "  <thead>\n",
       "    <tr style=\"text-align: right;\">\n",
       "      <th></th>\n",
       "      <th>tweets</th>\n",
       "    </tr>\n",
       "    <tr>\n",
       "      <th>date</th>\n",
       "      <th></th>\n",
       "    </tr>\n",
       "  </thead>\n",
       "  <tbody>\n",
       "    <tr>\n",
       "      <td>2009-05-05</td>\n",
       "      <td>donald trump will be appearing on the view tom...</td>\n",
       "    </tr>\n",
       "    <tr>\n",
       "      <td>2009-05-08</td>\n",
       "      <td>donald trump reads top ten financial tips on l...</td>\n",
       "    </tr>\n",
       "    <tr>\n",
       "      <td>2009-05-09</td>\n",
       "      <td>new blog post celebrity apprentice finale and ...</td>\n",
       "    </tr>\n",
       "    <tr>\n",
       "      <td>2009-05-12</td>\n",
       "      <td>my persona will never be that of a wallflower ...</td>\n",
       "    </tr>\n",
       "    <tr>\n",
       "      <td>2009-05-13</td>\n",
       "      <td>miss usa tara conner will not be fired ive alw...</td>\n",
       "    </tr>\n",
       "  </tbody>\n",
       "</table>\n",
       "</div>"
      ],
      "text/plain": [
       "                                                       tweets\n",
       "date                                                         \n",
       "2009-05-05  donald trump will be appearing on the view tom...\n",
       "2009-05-08  donald trump reads top ten financial tips on l...\n",
       "2009-05-09  new blog post celebrity apprentice finale and ...\n",
       "2009-05-12  my persona will never be that of a wallflower ...\n",
       "2009-05-13  miss usa tara conner will not be fired ive alw..."
      ]
     },
     "execution_count": 4,
     "metadata": {},
     "output_type": "execute_result"
    }
   ],
   "source": [
    "tweet_data.daily_tweets.head()"
   ]
  },
  {
   "cell_type": "markdown",
   "metadata": {},
   "source": [
    "Split into train at test a certain date (in the example, 2018-01-01)"
   ]
  },
  {
   "cell_type": "code",
   "execution_count": 18,
   "metadata": {},
   "outputs": [],
   "source": [
    "train_tweets = tweet_data.daily_tweets[tweet_data.daily_tweets.index<=pd.to_datetime(\"2018-01-01\")]\n",
    "score_tweets = tweet_data.daily_tweets[tweet_data.daily_tweets.index>pd.to_datetime(\"2018-01-01\")]"
   ]
  },
  {
   "cell_type": "markdown",
   "metadata": {},
   "source": [
    "Create the feature generator class"
   ]
  },
  {
   "cell_type": "code",
   "execution_count": 19,
   "metadata": {},
   "outputs": [],
   "source": [
    "feature_generator_with_scores = TextFeaturesGenerator(train_tweets.tweets,score_tweets.tweets)"
   ]
  },
  {
   "cell_type": "code",
   "execution_count": 20,
   "metadata": {},
   "outputs": [],
   "source": [
    "train_svd, test_svd = feature_generator_with_scores.get_svd_tfidf_mat(n_components=10)"
   ]
  },
  {
   "cell_type": "code",
   "execution_count": 21,
   "metadata": {},
   "outputs": [
    {
     "name": "stdout",
     "output_type": "stream",
     "text": [
      "(2395, 10)\n",
      "(636, 10)\n"
     ]
    }
   ],
   "source": [
    "print(train_svd.shape)\n",
    "print(test_svd.shape)"
   ]
  },
  {
   "cell_type": "markdown",
   "metadata": {},
   "source": [
    "Convert to dataframe and add date"
   ]
  },
  {
   "cell_type": "code",
   "execution_count": 22,
   "metadata": {},
   "outputs": [
    {
     "data": {
      "text/html": [
       "<div>\n",
       "<style scoped>\n",
       "    .dataframe tbody tr th:only-of-type {\n",
       "        vertical-align: middle;\n",
       "    }\n",
       "\n",
       "    .dataframe tbody tr th {\n",
       "        vertical-align: top;\n",
       "    }\n",
       "\n",
       "    .dataframe thead th {\n",
       "        text-align: right;\n",
       "    }\n",
       "</style>\n",
       "<table border=\"1\" class=\"dataframe\">\n",
       "  <thead>\n",
       "    <tr style=\"text-align: right;\">\n",
       "      <th></th>\n",
       "      <th>0</th>\n",
       "      <th>1</th>\n",
       "      <th>2</th>\n",
       "      <th>3</th>\n",
       "      <th>4</th>\n",
       "      <th>5</th>\n",
       "      <th>6</th>\n",
       "      <th>7</th>\n",
       "      <th>8</th>\n",
       "      <th>9</th>\n",
       "      <th>date</th>\n",
       "    </tr>\n",
       "  </thead>\n",
       "  <tbody>\n",
       "    <tr>\n",
       "      <td>0</td>\n",
       "      <td>0.255393</td>\n",
       "      <td>0.094646</td>\n",
       "      <td>0.166428</td>\n",
       "      <td>0.268642</td>\n",
       "      <td>0.086863</td>\n",
       "      <td>0.041839</td>\n",
       "      <td>0.005266</td>\n",
       "      <td>-0.011504</td>\n",
       "      <td>0.035837</td>\n",
       "      <td>0.034239</td>\n",
       "      <td>2009-05-05</td>\n",
       "    </tr>\n",
       "    <tr>\n",
       "      <td>1</td>\n",
       "      <td>0.060725</td>\n",
       "      <td>0.020172</td>\n",
       "      <td>0.073589</td>\n",
       "      <td>0.057457</td>\n",
       "      <td>0.092638</td>\n",
       "      <td>0.029433</td>\n",
       "      <td>0.026468</td>\n",
       "      <td>0.003534</td>\n",
       "      <td>0.047320</td>\n",
       "      <td>0.005016</td>\n",
       "      <td>2009-05-08</td>\n",
       "    </tr>\n",
       "    <tr>\n",
       "      <td>2</td>\n",
       "      <td>0.081150</td>\n",
       "      <td>0.018445</td>\n",
       "      <td>0.059621</td>\n",
       "      <td>0.137287</td>\n",
       "      <td>-0.036615</td>\n",
       "      <td>0.029662</td>\n",
       "      <td>-0.144165</td>\n",
       "      <td>-0.028690</td>\n",
       "      <td>0.015878</td>\n",
       "      <td>-0.031538</td>\n",
       "      <td>2009-05-09</td>\n",
       "    </tr>\n",
       "    <tr>\n",
       "      <td>3</td>\n",
       "      <td>0.108300</td>\n",
       "      <td>0.008986</td>\n",
       "      <td>0.051234</td>\n",
       "      <td>0.012044</td>\n",
       "      <td>0.094238</td>\n",
       "      <td>0.004119</td>\n",
       "      <td>0.044145</td>\n",
       "      <td>0.037850</td>\n",
       "      <td>0.015892</td>\n",
       "      <td>0.036891</td>\n",
       "      <td>2009-05-12</td>\n",
       "    </tr>\n",
       "    <tr>\n",
       "      <td>4</td>\n",
       "      <td>0.076058</td>\n",
       "      <td>0.024465</td>\n",
       "      <td>0.065035</td>\n",
       "      <td>0.045956</td>\n",
       "      <td>0.075716</td>\n",
       "      <td>0.012833</td>\n",
       "      <td>0.009636</td>\n",
       "      <td>0.029604</td>\n",
       "      <td>0.005604</td>\n",
       "      <td>0.032970</td>\n",
       "      <td>2009-05-13</td>\n",
       "    </tr>\n",
       "  </tbody>\n",
       "</table>\n",
       "</div>"
      ],
      "text/plain": [
       "          0         1         2         3         4         5         6  \\\n",
       "0  0.255393  0.094646  0.166428  0.268642  0.086863  0.041839  0.005266   \n",
       "1  0.060725  0.020172  0.073589  0.057457  0.092638  0.029433  0.026468   \n",
       "2  0.081150  0.018445  0.059621  0.137287 -0.036615  0.029662 -0.144165   \n",
       "3  0.108300  0.008986  0.051234  0.012044  0.094238  0.004119  0.044145   \n",
       "4  0.076058  0.024465  0.065035  0.045956  0.075716  0.012833  0.009636   \n",
       "\n",
       "          7         8         9        date  \n",
       "0 -0.011504  0.035837  0.034239  2009-05-05  \n",
       "1  0.003534  0.047320  0.005016  2009-05-08  \n",
       "2 -0.028690  0.015878 -0.031538  2009-05-09  \n",
       "3  0.037850  0.015892  0.036891  2009-05-12  \n",
       "4  0.029604  0.005604  0.032970  2009-05-13  "
      ]
     },
     "execution_count": 22,
     "metadata": {},
     "output_type": "execute_result"
    }
   ],
   "source": [
    "train_svd_df = pd.DataFrame(train_svd)\n",
    "train_svd_df['date'] = train_tweets.index\n",
    "\n",
    "train_svd_df = pd.DataFrame(train_svd)\n",
    "train_svd_df['date'] = train_tweets.index\n",
    "train_svd_df.head()"
   ]
  },
  {
   "cell_type": "code",
   "execution_count": 23,
   "metadata": {},
   "outputs": [
    {
     "data": {
      "text/html": [
       "<div>\n",
       "<style scoped>\n",
       "    .dataframe tbody tr th:only-of-type {\n",
       "        vertical-align: middle;\n",
       "    }\n",
       "\n",
       "    .dataframe tbody tr th {\n",
       "        vertical-align: top;\n",
       "    }\n",
       "\n",
       "    .dataframe thead th {\n",
       "        text-align: right;\n",
       "    }\n",
       "</style>\n",
       "<table border=\"1\" class=\"dataframe\">\n",
       "  <thead>\n",
       "    <tr style=\"text-align: right;\">\n",
       "      <th></th>\n",
       "      <th>0</th>\n",
       "      <th>1</th>\n",
       "      <th>2</th>\n",
       "      <th>3</th>\n",
       "      <th>4</th>\n",
       "      <th>5</th>\n",
       "      <th>6</th>\n",
       "      <th>7</th>\n",
       "      <th>8</th>\n",
       "      <th>9</th>\n",
       "      <th>date</th>\n",
       "    </tr>\n",
       "  </thead>\n",
       "  <tbody>\n",
       "    <tr>\n",
       "      <td>0</td>\n",
       "      <td>0.477170</td>\n",
       "      <td>-0.055577</td>\n",
       "      <td>-0.089174</td>\n",
       "      <td>-0.017984</td>\n",
       "      <td>-0.019911</td>\n",
       "      <td>-0.018469</td>\n",
       "      <td>-0.111293</td>\n",
       "      <td>0.081631</td>\n",
       "      <td>-0.007596</td>\n",
       "      <td>-0.042455</td>\n",
       "      <td>2018-01-02</td>\n",
       "    </tr>\n",
       "    <tr>\n",
       "      <td>1</td>\n",
       "      <td>0.481051</td>\n",
       "      <td>-0.085808</td>\n",
       "      <td>-0.085502</td>\n",
       "      <td>-0.002189</td>\n",
       "      <td>-0.024158</td>\n",
       "      <td>-0.015110</td>\n",
       "      <td>0.015735</td>\n",
       "      <td>0.073181</td>\n",
       "      <td>-0.022097</td>\n",
       "      <td>-0.033393</td>\n",
       "      <td>2018-01-03</td>\n",
       "    </tr>\n",
       "    <tr>\n",
       "      <td>2</td>\n",
       "      <td>0.397135</td>\n",
       "      <td>-0.071496</td>\n",
       "      <td>-0.070673</td>\n",
       "      <td>-0.022737</td>\n",
       "      <td>-0.016640</td>\n",
       "      <td>-0.041272</td>\n",
       "      <td>-0.041109</td>\n",
       "      <td>0.038034</td>\n",
       "      <td>0.002848</td>\n",
       "      <td>-0.015921</td>\n",
       "      <td>2018-01-04</td>\n",
       "    </tr>\n",
       "    <tr>\n",
       "      <td>3</td>\n",
       "      <td>0.442611</td>\n",
       "      <td>-0.027943</td>\n",
       "      <td>-0.130676</td>\n",
       "      <td>-0.003118</td>\n",
       "      <td>0.000328</td>\n",
       "      <td>-0.038041</td>\n",
       "      <td>-0.064087</td>\n",
       "      <td>0.045842</td>\n",
       "      <td>0.063076</td>\n",
       "      <td>-0.067497</td>\n",
       "      <td>2018-01-05</td>\n",
       "    </tr>\n",
       "    <tr>\n",
       "      <td>4</td>\n",
       "      <td>0.365600</td>\n",
       "      <td>-0.071949</td>\n",
       "      <td>-0.074393</td>\n",
       "      <td>0.006848</td>\n",
       "      <td>-0.016845</td>\n",
       "      <td>0.085461</td>\n",
       "      <td>-0.022985</td>\n",
       "      <td>0.045839</td>\n",
       "      <td>0.038582</td>\n",
       "      <td>-0.042177</td>\n",
       "      <td>2018-01-06</td>\n",
       "    </tr>\n",
       "  </tbody>\n",
       "</table>\n",
       "</div>"
      ],
      "text/plain": [
       "          0         1         2         3         4         5         6  \\\n",
       "0  0.477170 -0.055577 -0.089174 -0.017984 -0.019911 -0.018469 -0.111293   \n",
       "1  0.481051 -0.085808 -0.085502 -0.002189 -0.024158 -0.015110  0.015735   \n",
       "2  0.397135 -0.071496 -0.070673 -0.022737 -0.016640 -0.041272 -0.041109   \n",
       "3  0.442611 -0.027943 -0.130676 -0.003118  0.000328 -0.038041 -0.064087   \n",
       "4  0.365600 -0.071949 -0.074393  0.006848 -0.016845  0.085461 -0.022985   \n",
       "\n",
       "          7         8         9        date  \n",
       "0  0.081631 -0.007596 -0.042455  2018-01-02  \n",
       "1  0.073181 -0.022097 -0.033393  2018-01-03  \n",
       "2  0.038034  0.002848 -0.015921  2018-01-04  \n",
       "3  0.045842  0.063076 -0.067497  2018-01-05  \n",
       "4  0.045839  0.038582 -0.042177  2018-01-06  "
      ]
     },
     "execution_count": 23,
     "metadata": {},
     "output_type": "execute_result"
    }
   ],
   "source": [
    "test_svd_df = pd.DataFrame(test_svd)\n",
    "test_svd_df['date'] = score_tweets.index\n",
    "test_svd_df.head()"
   ]
  }
 ],
 "metadata": {
  "kernelspec": {
   "display_name": "Python 3",
   "language": "python",
   "name": "python3"
  },
  "language_info": {
   "codemirror_mode": {
    "name": "ipython",
    "version": 3
   },
   "file_extension": ".py",
   "mimetype": "text/x-python",
   "name": "python",
   "nbconvert_exporter": "python",
   "pygments_lexer": "ipython3",
   "version": "3.6.8"
  },
  "pycharm": {
   "stem_cell": {
    "cell_type": "raw",
    "metadata": {
     "collapsed": false
    },
    "source": []
   }
  }
 },
 "nbformat": 4,
 "nbformat_minor": 2
}
