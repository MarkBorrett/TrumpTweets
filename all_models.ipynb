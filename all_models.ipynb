{
 "cells": [
  {
   "cell_type": "code",
   "execution_count": 174,
   "metadata": {},
   "outputs": [],
   "source": [
    "import numpy as np\n",
    "import pandas as pd\n",
    "import matplotlib\n",
    "import matplotlib.pyplot as plt\n",
    "\n",
    "import statsmodels.api as sm\n",
    "from statsmodels.api import OLS\n",
    "from sklearn.linear_model import LogisticRegression\n",
    "from sklearn.ensemble import RandomForestClassifier\n",
    "from sklearn.tree import DecisionTreeClassifier\n",
    "\n",
    "from sklearn.model_selection import train_test_split\n",
    "from sklearn.preprocessing import PolynomialFeatures\n",
    "from sklearn.preprocessing import StandardScaler\n",
    "from sklearn.linear_model import LinearRegression\n",
    "from sklearn.ensemble import GradientBoostingClassifier\n",
    "from sklearn.linear_model import Ridge\n",
    "from sklearn.linear_model import RidgeCV\n",
    "from sklearn.linear_model import LassoCV\n",
    "from sklearn.metrics import r2_score, accuracy_score\n",
    "\n",
    "from pandas.plotting import scatter_matrix\n",
    "#import seaborn as sns\n",
    "\n",
    "import warnings\n",
    "warnings.filterwarnings('ignore')\n",
    "\n",
    "\n",
    "from project_helper import VolFeatures, FuturesCloseData"
   ]
  },
  {
   "cell_type": "code",
   "execution_count": 88,
   "metadata": {},
   "outputs": [],
   "source": [
    "import pickle\n",
    "file = open(\"full_features.pkl\",'rb')\n",
    "full_features = pickle.load(file)"
   ]
  },
  {
   "cell_type": "code",
   "execution_count": 149,
   "metadata": {},
   "outputs": [],
   "source": [
    "instrument_list = ['ES', 'NQ', 'CD', 'EC', 'JY', 'MP', 'TY', 'US', 'C', 'S', 'W', 'CL', 'GC']\n",
    "x_dict={}\n",
    "y_dict={}\n",
    "for inst in instrument_list:\n",
    "    #y_dict[inst] = 2 * (full_features[inst][inst] >=0)- 1\n",
    "    y_dict[inst] = (full_features[inst][inst]>=0).astype(int)    \n",
    "    x_dict[inst] = full_features[inst].drop([inst], axis=1)"
   ]
  },
  {
   "cell_type": "code",
   "execution_count": 177,
   "metadata": {},
   "outputs": [],
   "source": [
    "class MLModel:\n",
    "    def __init__(self,model,inst,x_dict,y_dict):\n",
    "        self.inst = inst\n",
    "        self.x = x_dict[inst]\n",
    "        self.y = y_dict[inst]\n",
    "\n",
    "        self.model = model\n",
    "        self.accuracy_train = None\n",
    "        self.accuracy_test = None\n",
    "    \n",
    "    def split_data(self):\n",
    "        self.X_train, \\\n",
    "        self.X_test, \\\n",
    "        self.y_train, \\\n",
    "        self.y_test = train_test_split(self.x, self.y, test_size=0.50, shuffle=False)\n",
    "\n",
    "\n",
    "    def train_model(self):\n",
    "        #self.model = OLS(self.y_train, self.X_train)\n",
    "        #self.model = self.model.fit()\n",
    "        self.model = self.model(random_state=0).fit(self.X_train,self.y_train)\n",
    "\n",
    "\n",
    "    def evaluate_model(self):\n",
    "        self.accuracy_train = self.model.score(self.X_train, self.y_train)\n",
    "        self.accuracy_test = self.model.score(self.X_test, self.y_test)\n",
    "\n",
    "        \n",
    "    \n",
    "class ModelBuilder:\n",
    "    def __init__(self,inst,x_dict,y_dict):\n",
    "        #self.model = None\n",
    "        self.logistic_model = MLModel(LogisticRegression,inst,x_dict,y_dict)\n",
    "        self.rf_model = MLModel(RandomForestClassifier,inst,x_dict,y_dict)\n",
    "        self.tree_model = MLModel(DecisionTreeClassifier,inst,x_dict,y_dict)\n",
    "        self.boosted_tree_model = MLModel(GradientBoostingClassifier,inst,x_dict,y_dict)\n",
    "\n",
    "        self.models = {'logistic':self.logistic_model,\n",
    "                 'rf':self.rf_model,\n",
    "                 'tree':self.tree_model,\n",
    "                    'boosted_tree':self.boosted_tree_model}\n",
    "\n",
    "\n",
    "        self.accuracy_train = None\n",
    "        self.accuracy_test = None\n",
    "        #ml_models = [LinearRegression, ]\n",
    "\n",
    "        \n",
    "    def run(self):\n",
    "        {model.split_data() for model in self.models.values()}\n",
    "        {model.train_model() for model in self.models.values()}\n",
    "        {model.evaluate_model() for model in self.models.values()}\n",
    "        return self\n"
   ]
  },
  {
   "cell_type": "code",
   "execution_count": 178,
   "metadata": {},
   "outputs": [],
   "source": [
    "models = {inst: ModelBuilder(inst,x_dict,y_dict) for inst in instrument_list}\n",
    "models = {inst: model.run() for inst,model in models.items()}"
   ]
  },
  {
   "cell_type": "code",
   "execution_count": 180,
   "metadata": {
    "scrolled": true
   },
   "outputs": [
    {
     "data": {
      "text/html": [
       "<div>\n",
       "<style scoped>\n",
       "    .dataframe tbody tr th:only-of-type {\n",
       "        vertical-align: middle;\n",
       "    }\n",
       "\n",
       "    .dataframe tbody tr th {\n",
       "        vertical-align: top;\n",
       "    }\n",
       "\n",
       "    .dataframe thead th {\n",
       "        text-align: right;\n",
       "    }\n",
       "</style>\n",
       "<table border=\"1\" class=\"dataframe\">\n",
       "  <thead>\n",
       "    <tr style=\"text-align: right;\">\n",
       "      <th></th>\n",
       "      <th>logistic</th>\n",
       "      <th>tree</th>\n",
       "      <th>rf</th>\n",
       "      <th>boosted_tree</th>\n",
       "    </tr>\n",
       "    <tr>\n",
       "      <th>asset</th>\n",
       "      <th></th>\n",
       "      <th></th>\n",
       "      <th></th>\n",
       "      <th></th>\n",
       "    </tr>\n",
       "  </thead>\n",
       "  <tbody>\n",
       "    <tr>\n",
       "      <th>ES</th>\n",
       "      <td>0.610315</td>\n",
       "      <td>1.0</td>\n",
       "      <td>1.0</td>\n",
       "      <td>0.982808</td>\n",
       "    </tr>\n",
       "    <tr>\n",
       "      <th>NQ</th>\n",
       "      <td>0.613181</td>\n",
       "      <td>1.0</td>\n",
       "      <td>1.0</td>\n",
       "      <td>0.979943</td>\n",
       "    </tr>\n",
       "    <tr>\n",
       "      <th>CD</th>\n",
       "      <td>0.593123</td>\n",
       "      <td>1.0</td>\n",
       "      <td>1.0</td>\n",
       "      <td>0.982808</td>\n",
       "    </tr>\n",
       "    <tr>\n",
       "      <th>EC</th>\n",
       "      <td>0.618911</td>\n",
       "      <td>1.0</td>\n",
       "      <td>1.0</td>\n",
       "      <td>0.979943</td>\n",
       "    </tr>\n",
       "    <tr>\n",
       "      <th>JY</th>\n",
       "      <td>0.604585</td>\n",
       "      <td>1.0</td>\n",
       "      <td>1.0</td>\n",
       "      <td>0.982808</td>\n",
       "    </tr>\n",
       "    <tr>\n",
       "      <th>MP</th>\n",
       "      <td>0.593123</td>\n",
       "      <td>1.0</td>\n",
       "      <td>1.0</td>\n",
       "      <td>1.000000</td>\n",
       "    </tr>\n",
       "    <tr>\n",
       "      <th>TY</th>\n",
       "      <td>0.590258</td>\n",
       "      <td>1.0</td>\n",
       "      <td>1.0</td>\n",
       "      <td>0.994269</td>\n",
       "    </tr>\n",
       "    <tr>\n",
       "      <th>US</th>\n",
       "      <td>0.610315</td>\n",
       "      <td>1.0</td>\n",
       "      <td>1.0</td>\n",
       "      <td>0.988539</td>\n",
       "    </tr>\n",
       "    <tr>\n",
       "      <th>C</th>\n",
       "      <td>0.524355</td>\n",
       "      <td>1.0</td>\n",
       "      <td>1.0</td>\n",
       "      <td>0.979943</td>\n",
       "    </tr>\n",
       "    <tr>\n",
       "      <th>S</th>\n",
       "      <td>0.495702</td>\n",
       "      <td>1.0</td>\n",
       "      <td>1.0</td>\n",
       "      <td>0.985673</td>\n",
       "    </tr>\n",
       "    <tr>\n",
       "      <th>W</th>\n",
       "      <td>0.535817</td>\n",
       "      <td>1.0</td>\n",
       "      <td>1.0</td>\n",
       "      <td>0.977077</td>\n",
       "    </tr>\n",
       "    <tr>\n",
       "      <th>CL</th>\n",
       "      <td>0.613181</td>\n",
       "      <td>1.0</td>\n",
       "      <td>1.0</td>\n",
       "      <td>0.968481</td>\n",
       "    </tr>\n",
       "    <tr>\n",
       "      <th>GC</th>\n",
       "      <td>0.601719</td>\n",
       "      <td>1.0</td>\n",
       "      <td>1.0</td>\n",
       "      <td>0.991404</td>\n",
       "    </tr>\n",
       "  </tbody>\n",
       "</table>\n",
       "</div>"
      ],
      "text/plain": [
       "       logistic  tree   rf  boosted_tree\n",
       "asset                                   \n",
       "ES     0.610315   1.0  1.0      0.982808\n",
       "NQ     0.613181   1.0  1.0      0.979943\n",
       "CD     0.593123   1.0  1.0      0.982808\n",
       "EC     0.618911   1.0  1.0      0.979943\n",
       "JY     0.604585   1.0  1.0      0.982808\n",
       "MP     0.593123   1.0  1.0      1.000000\n",
       "TY     0.590258   1.0  1.0      0.994269\n",
       "US     0.610315   1.0  1.0      0.988539\n",
       "C      0.524355   1.0  1.0      0.979943\n",
       "S      0.495702   1.0  1.0      0.985673\n",
       "W      0.535817   1.0  1.0      0.977077\n",
       "CL     0.613181   1.0  1.0      0.968481\n",
       "GC     0.601719   1.0  1.0      0.991404"
      ]
     },
     "execution_count": 180,
     "metadata": {},
     "output_type": "execute_result"
    }
   ],
   "source": [
    "\n",
    "logistic = pd.DataFrame([(inst, model.models['logistic'].accuracy_train) for inst,model in models.items()],columns=['asset','logistic']).set_index('asset')\n",
    "tree = pd.DataFrame([(inst, model.models['tree'].accuracy_train) for inst,model in models.items()],columns=['asset','tree']).set_index('asset')\n",
    "rf = pd.DataFrame([(inst, model.models['rf'].accuracy_train) for inst,model in models.items()],columns=['asset','rf']).set_index('asset')\n",
    "boosted_tree = pd.DataFrame([(inst, model.models['boosted_tree'].accuracy_train) for inst,model in models.items()],columns=['asset','boosted_tree']).set_index('asset')\n",
    "\n",
    "train_accuracies = logistic.join(tree).join(rf).join(boosted_tree)\n",
    "train_accuracies"
   ]
  },
  {
   "cell_type": "code",
   "execution_count": 183,
   "metadata": {},
   "outputs": [],
   "source": [
    "\n",
    "logistic = pd.DataFrame([(inst, model.models['logistic'].accuracy_test) for inst,model in models.items()],columns=['asset','logistic']).set_index('asset')\n",
    "tree = pd.DataFrame([(inst, model.models['tree'].accuracy_test) for inst,model in models.items()],columns=['asset','tree']).set_index('asset')\n",
    "rf = pd.DataFrame([(inst, model.models['rf'].accuracy_test) for inst,model in models.items()],columns=['asset','rf']).set_index('asset')\n",
    "boosted_tree = pd.DataFrame([(inst, model.models['boosted_tree'].accuracy_test) for inst,model in models.items()],columns=['asset','boosted_tree']).set_index('asset')\n",
    "\n",
    "test_accuracies = logistic.join(tree).join(rf).join(boosted_tree)\n",
    "test_accuracies.to_csv('test_accuracies.csv')"
   ]
  },
  {
   "cell_type": "code",
   "execution_count": 207,
   "metadata": {},
   "outputs": [],
   "source": [
    "imp_df = pd.DataFrame()\n",
    "for inst in instrument_list:\n",
    "    feature_imp_df = pd.DataFrame(models[inst].models['tree'].model.feature_importances_,columns=[inst])\n",
    "    feature_imp_df.index = x_dict[inst].columns\n",
    "    imp_df = imp_df.join(feature_imp_df,how='outer')"
   ]
  },
  {
   "cell_type": "code",
   "execution_count": 209,
   "metadata": {},
   "outputs": [],
   "source": [
    "imp_df.to_csv('imp_df.csv')"
   ]
  },
  {
   "cell_type": "code",
   "execution_count": 119,
   "metadata": {
    "scrolled": false
   },
   "outputs": [
    {
     "data": {
      "text/plain": [
       "{'ES': 0.5457142857142857,\n",
       " 'NQ': 0.5485714285714286,\n",
       " 'CD': 0.49142857142857144,\n",
       " 'EC': 0.4742857142857143,\n",
       " 'JY': 0.4685714285714286,\n",
       " 'MP': 0.5514285714285714,\n",
       " 'C': 0.52,\n",
       " 'S': 0.5114285714285715,\n",
       " 'W': 0.4714285714285714,\n",
       " 'CL': 0.5342857142857143}"
      ]
     },
     "execution_count": 119,
     "metadata": {},
     "output_type": "execute_result"
    }
   ],
   "source": [
    "{inst: model.accuracy_test for inst,model in models.items()}"
   ]
  },
  {
   "cell_type": "code",
   "execution_count": 129,
   "metadata": {
    "scrolled": true
   },
   "outputs": [
    {
     "data": {
      "text/plain": [
       "{'ES': 0.9685714285714285,\n",
       " 'NQ': 0.84,\n",
       " 'CD': 0.16285714285714287,\n",
       " 'EC': 0.5171428571428571,\n",
       " 'JY': 0.6085714285714285,\n",
       " 'MP': 0.66,\n",
       " 'C': 0.6914285714285714,\n",
       " 'S': 0.5314285714285715,\n",
       " 'W': 0.3057142857142857,\n",
       " 'CL': 0.9114285714285715}"
      ]
     },
     "execution_count": 129,
     "metadata": {},
     "output_type": "execute_result"
    }
   ],
   "source": [
    "inst='ES'\n",
    "{inst: model.logistic_model.predict(model.X_test).mean() for inst,model in models.items()}"
   ]
  },
  {
   "cell_type": "code",
   "execution_count": 132,
   "metadata": {},
   "outputs": [
    {
     "data": {
      "text/plain": [
       "(349, 45)"
      ]
     },
     "execution_count": 132,
     "metadata": {},
     "output_type": "execute_result"
    }
   ],
   "source": [
    "models[inst].X_train.shape"
   ]
  },
  {
   "cell_type": "markdown",
   "metadata": {},
   "source": []
  },
  {
   "cell_type": "code",
   "execution_count": 29,
   "metadata": {},
   "outputs": [
    {
     "data": {
      "text/plain": [
       "0.5285714285714286"
      ]
     },
     "execution_count": 29,
     "metadata": {},
     "output_type": "execute_result"
    }
   ],
   "source": [
    "accuracy_score(results.predict(X_test)>= 0, y_test)"
   ]
  },
  {
   "cell_type": "code",
   "execution_count": 36,
   "metadata": {
    "scrolled": true
   },
   "outputs": [
    {
     "data": {
      "image/png": "[encoded data removed]",
      "text/plain": [
       "<Figure size 864x216 with 2 Axes>"
      ]
     },
     "metadata": {
      "needs_background": "light"
     },
     "output_type": "display_data"
    }
   ],
   "source": [
    "# your code here\n",
    "y_hat_train = 2 * (results.predict(X_test)>=0)-1\n",
    "residuals = y_test - y_hat_train\n",
    "fig, ax = plt.subplots(1,2,figsize=(12,3))\n",
    "\n",
    "ax[0].scatter(y_hat_train, residuals, alpha=0.5)\n",
    "ax[0].set_title('Plot of Residuals')\n",
    "ax[0].set_xlabel(r'$\\hat{y}$')\n",
    "ax[0].set_ylabel('residuals')\n",
    "ax[0].axhline(0,c='black')\n",
    "\n",
    "ax[1].hist(residuals)\n",
    "ax[1].set_title('Histogram of Residuals')\n",
    "ax[1].set_xlabel(r'residuals')\n",
    "\n",
    "plt.show()"
   ]
  },
  {
   "cell_type": "code",
   "execution_count": 40,
   "metadata": {},
   "outputs": [
    {
     "data": {
      "text/plain": [
       "337"
      ]
     },
     "execution_count": 40,
     "metadata": {},
     "output_type": "execute_result"
    }
   ],
   "source": [
    "sum(y_hat_train == 1)"
   ]
  },
  {
   "cell_type": "code",
   "execution_count": null,
   "metadata": {},
   "outputs": [],
   "source": [
    "#2.0 y_train long, y_predict short\n",
    "#-2.0 y_train short, y_predict long"
   ]
  }
 ],
 "metadata": {
  "kernelspec": {
   "display_name": "Python 3",
   "language": "python",
   "name": "python3"
  },
  "language_info": {
   "codemirror_mode": {
    "name": "ipython",
    "version": 3
   },
   "file_extension": ".py",
   "mimetype": "text/x-python",
   "name": "python",
   "nbconvert_exporter": "python",
   "pygments_lexer": "ipython3",
   "version": "3.6.8"
  }
 },
 "nbformat": 4,
 "nbformat_minor": 2
}
