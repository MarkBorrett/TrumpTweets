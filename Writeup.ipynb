{
 "cells": [
  {
   "cell_type": "markdown",
   "metadata": {},
   "source": [
    "Let's assume asset returns follow a normal distribution.\n",
    "\n",
    "More specifically, let's assume prices follow a log-normal distribution, which means that log-prices follow a normal distribution. We can describe this evolution of prices as a Geometric Brownian Motion:\n",
    "\n",
    "$$\\frac{dS_t}{S_t} = \\mu dt + \\sigma dW_t$$ \n",
    "You can prove that the solution to this equation is:\n",
    "$$S_t=S_0\\exp \\left(\\left(\\mu -{\\frac {\\sigma ^{2}}{2}}\\right)t+\\sigma W_{t}\\right) \\Rightarrow \\ln {\\frac {S_{t}}{S_{0}}}=\\left(\\mu -{\\frac {\\sigma ^{2}}{2}}\\,\\right)t+\\sigma W_{t}, \\;\\;\\; W_t \\sim N(0,t)$$\n",
    "\n",
    "So log-returns from time 0 to time t are normally distributed with variance $\\sigma^2 t$. This is the Black-Scholes model. We call $\\sigma$ the volatility.\n",
    "\n",
    "Consider a (european) call option. A call option is a financial contract between a buyer and a seller. The buyer of the call option has the right, but not the obligation, to *buy* a financial instrument (the underlying) from the seller of the option at a specific time (the expiration date) for a certain price (the strike price). The seller is obligated to sell the financial instrument to the buyer if the buyer so decides. The buyer pays a fee (called a premium) for this right. \n",
    "\n",
    "You can write the payoff of a call price with respect to the undertlying as $(S_t - 0)^+$ Graphically:\n",
    "\n",
    "A put option is similar to a call option, thought he buyer of the put option the right, but not the obligation, to *sell* a financial instrument.\n",
    "\n",
    "If you assume that stock prices follow the process above, you can prove that there's a closed form solution for a call option fair price:\n",
    "\n",
    "$$c(S_t) = E[(S_t - 0)^+]=f(S_t, \\sigma, t, K, r)$$\n",
    "\n",
    "Where $S_t$ is the underlying, $\\sigma$ is the volatility K is the option's strike, t is the time to expiration, and r is the risk-free interest rate.\n",
    "\n",
    "Given everything else fixed, we have a one-to-one relationship between an option's price and its volatility $\\sigma$.\n",
    "\n",
    "So, what does a \"fair\" option price mean? Consider $\\Delta = \\frac{d C}{d S_t}$, the derivative of the call price with respect to the underlying price, or the delta. You can build a hedged portfolio: $C(S_t) - \\Delta S_t$\n",
    "\n",
    "Graphic\n",
    "\n",
    "Options prices are a convex function of $S_t$. This means that, all else equal, our hedged porfolio will always make money, whether the underlying goes up or down!\n",
    "\n",
    "Graphic\n",
    "\n",
    "In reality, time moves as the underlying's price moves, and time pushes the option price towards its terminal value, so the graphic should really look like this:\n",
    "\n",
    "You can prove that, if the underlying follows a geometric brownian motion as above, with a fixed volatility $\\sigma$, and if you hedge at every instant as above, updating your delta, you will obtain the option price above with probability one! In other words, the price of the call is fair, as you can replicate it by dynamically trading the upderlying. You are capturing the convexity of the call price, or $\\Gamma = \\frac{d^2 C}{d S_t^2}$, the gamma.\n",
    "\n",
    "In reality, asset returns don't follow a normal distribution. However, there is still a one-to-one relationship between an option price and the $\\sigma$ implied by the Black-Scholes model (the implied volatility). What happens if you calculate the implied volatility from every option price for a specific expiration? It looks like this:\n",
    "\n",
    "Graphic\n",
    "\n",
    "What is this graphic telling us? It's giving us an indication of how far from a normal distribution options prices think the underlying's returns are. It's telling us that, if the market goes down, the market's realized volatility will most likely increase, and the option price must be higher to compensate the seller, who will lose through more volatility while delta hedging. \n",
    "\n",
    "We want to capture this information and reduce it to features that we can use in a model. We consider the follo\n",
    "\n",
    "At-the-Money implied volatility: the weighted average of the implied volatilities of the nearest put and call on either side of the current underlying price.\n",
    "\n",
    "Risk Reversal: the implied volatility of an out-of-the-money call minus the implied volatility of an out-of-the-money  put with similar deltas. It measures the slope of the volatility curve.\n",
    "Butterfly: the average of out-of-the-money call and put volatilities with similar deltas, minus the at-the-money implied volatility. It measures the convexity of the volatility curve.\n",
    "\n",
    "Graphically:\n",
    "\n"
   ]
  }
 ],
 "metadata": {
  "kernelspec": {
   "display_name": "Python 3",
   "language": "python",
   "name": "python3"
  },
  "language_info": {
   "codemirror_mode": {
    "name": "ipython",
    "version": 3
   },
   "file_extension": ".py",
   "mimetype": "text/x-python",
   "name": "python",
   "nbconvert_exporter": "python",
   "pygments_lexer": "ipython3",
   "version": "3.7.4"
  }
 },
 "nbformat": 4,
 "nbformat_minor": 2
}
