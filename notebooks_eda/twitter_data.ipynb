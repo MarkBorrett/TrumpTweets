{
 "cells": [
  {
   "cell_type": "code",
   "execution_count": 1,
   "metadata": {},
   "outputs": [],
   "source": [
    "import sys\n",
    "sys.path.append('..') #to add top-level to path\n",
    "\n",
    "from modules.project_helper import TweetData\n",
    "import json\n",
    "import csv"
   ]
  },
  {
   "cell_type": "markdown",
   "metadata": {},
   "source": [
    "# Twitter Data"
   ]
  },
  {
   "cell_type": "markdown",
   "metadata": {},
   "source": [
    "This notebook shows how the TweetData class works. The TweetData class is implemented in project_helper.py. the class reads, parses and cleans all of Trump's tweets, and will be used extensively throughout the project.\n",
    "\n",
    "There's two possible sources for Trump's tweets: the Twitter API and Trump Twitter Archive. Even though we scraped the tweets directly with the Tweeter API, we found that the data from the Trump Twitter archive was easier to use and clean, and that the timestamps provided by the dataset were reliable."
   ]
  },
  {
   "cell_type": "markdown",
   "metadata": {},
   "source": [
    "# Trump Twitter Archive\n",
    "\n",
    "http://www.trumptwitterarchive.com/archive\n"
   ]
  },
  {
   "cell_type": "code",
   "execution_count": 2,
   "metadata": {},
   "outputs": [],
   "source": [
    "data = TweetData()"
   ]
  },
  {
   "cell_type": "code",
   "execution_count": 3,
   "metadata": {},
   "outputs": [
    {
     "data": {
      "text/plain": [
       "['\"Tell Jennifer Williams whoever that is to read BOTH transcripts of the presidential calls &amp; see the just released ststement from Ukraine. Then she should meet with the other Never Trumpers who I donÕt know &amp; mostly never even heard of &amp; work out a better presidential attack!,11-17-2019 19:57:12\"\\n',\n",
       " '\"https://t.co/I3lO117SVh,11-17-2019 19:56:02\"\\n',\n",
       " '\"Paul Krugman of @nytimes has been wrong about me from the very beginning. Anyone who has followed his Òwords of wisdomÓ has lost a great deal of money. Paul just concede the game say I was right and lets start a brand new game! https://t.co/O6bw61vcHL,11-17-2019 19:49:47\"\\n',\n",
       " '\"Schiff is a Corrupt Politician! https://t.co/DDBqlfIFLV,11-17-2019 19:47:32\"\\n',\n",
       " '\".@SteveScalise blew the nasty &amp; obnoxious Chris Wallace (will never be his father Mike!) away on ChrisÕs lowest rated (unless IÕm on) morning show. This kind of dumb and unfair interview would never have happened in the @FoxNews past. Great job Steve!,11-17-2019 19:30:09\"\\n']"
      ]
     },
     "execution_count": 3,
     "metadata": {},
     "output_type": "execute_result"
    }
   ],
   "source": [
    "raw_data = data.raw_data\n",
    "raw_data[0:5]"
   ]
  },
  {
   "cell_type": "code",
   "execution_count": 4,
   "metadata": {},
   "outputs": [
    {
     "data": {
      "text/plain": [
       "{6245: 'When and where will all of the many conflicts of interest be listed by the 13 Angry Democrats (plus) working on the Witch Hunt Hoax. There has never been a group of people on a case so biased or confl\"\\n',\n",
       " 28295: \"My interview which recently aired on CNBC's Squawk Box   http://t.co/VNbgG0iU\\n\",\n",
       " 28419: 'http://goo.gl/AMNEE Countdown to @AmericaNowRadio as my former\\n',\n",
       " 28443: 'http://bit.ly/pwgGsQ \\n',\n",
       " 28444: '\\n',\n",
       " 28445: 'http://bit.ly/pwgGsQ \\n',\n",
       " 28446: '\\n',\n",
       " 28447: '\\n'}"
      ]
     },
     "execution_count": 4,
     "metadata": {},
     "output_type": "execute_result"
    }
   ],
   "source": [
    "data.error_tweets"
   ]
  },
  {
   "cell_type": "code",
   "execution_count": 5,
   "metadata": {},
   "outputs": [
    {
     "data": {
      "text/html": [
       "<div>\n",
       "<style scoped>\n",
       "    .dataframe tbody tr th:only-of-type {\n",
       "        vertical-align: middle;\n",
       "    }\n",
       "\n",
       "    .dataframe tbody tr th {\n",
       "        vertical-align: top;\n",
       "    }\n",
       "\n",
       "    .dataframe thead th {\n",
       "        text-align: right;\n",
       "    }\n",
       "</style>\n",
       "<table border=\"1\" class=\"dataframe\">\n",
       "  <thead>\n",
       "    <tr style=\"text-align: right;\">\n",
       "      <th></th>\n",
       "      <th>tweets</th>\n",
       "    </tr>\n",
       "    <tr>\n",
       "      <th>timestamp</th>\n",
       "      <th></th>\n",
       "    </tr>\n",
       "  </thead>\n",
       "  <tbody>\n",
       "    <tr>\n",
       "      <th>2019-11-17 19:57:12-06:00</th>\n",
       "      <td>\"Tell Jennifer Williams whoever that is to rea...</td>\n",
       "    </tr>\n",
       "    <tr>\n",
       "      <th>2019-11-17 19:56:02-06:00</th>\n",
       "      <td>\"https://t.co/I3lO117SVh</td>\n",
       "    </tr>\n",
       "    <tr>\n",
       "      <th>2019-11-17 19:49:47-06:00</th>\n",
       "      <td>\"Paul Krugman of @nytimes has been wrong about...</td>\n",
       "    </tr>\n",
       "    <tr>\n",
       "      <th>2019-11-17 19:47:32-06:00</th>\n",
       "      <td>\"Schiff is a Corrupt Politician! https://t.co/...</td>\n",
       "    </tr>\n",
       "    <tr>\n",
       "      <th>2019-11-17 19:30:09-06:00</th>\n",
       "      <td>\".@SteveScalise blew the nasty &amp;amp; obnoxious...</td>\n",
       "    </tr>\n",
       "  </tbody>\n",
       "</table>\n",
       "</div>"
      ],
      "text/plain": [
       "                                                                      tweets\n",
       "timestamp                                                                   \n",
       "2019-11-17 19:57:12-06:00  \"Tell Jennifer Williams whoever that is to rea...\n",
       "2019-11-17 19:56:02-06:00                           \"https://t.co/I3lO117SVh\n",
       "2019-11-17 19:49:47-06:00  \"Paul Krugman of @nytimes has been wrong about...\n",
       "2019-11-17 19:47:32-06:00  \"Schiff is a Corrupt Politician! https://t.co/...\n",
       "2019-11-17 19:30:09-06:00  \".@SteveScalise blew the nasty &amp; obnoxious..."
      ]
     },
     "execution_count": 5,
     "metadata": {},
     "output_type": "execute_result"
    }
   ],
   "source": [
    "data.raw_tweets.head()"
   ]
  },
  {
   "cell_type": "code",
   "execution_count": 6,
   "metadata": {},
   "outputs": [
    {
     "data": {
      "text/html": [
       "<div>\n",
       "<style scoped>\n",
       "    .dataframe tbody tr th:only-of-type {\n",
       "        vertical-align: middle;\n",
       "    }\n",
       "\n",
       "    .dataframe tbody tr th {\n",
       "        vertical-align: top;\n",
       "    }\n",
       "\n",
       "    .dataframe thead th {\n",
       "        text-align: right;\n",
       "    }\n",
       "</style>\n",
       "<table border=\"1\" class=\"dataframe\">\n",
       "  <thead>\n",
       "    <tr style=\"text-align: right;\">\n",
       "      <th></th>\n",
       "      <th>tweets</th>\n",
       "      <th>timestamp</th>\n",
       "      <th>after4_date</th>\n",
       "    </tr>\n",
       "    <tr>\n",
       "      <th>timestamp</th>\n",
       "      <th></th>\n",
       "      <th></th>\n",
       "      <th></th>\n",
       "    </tr>\n",
       "  </thead>\n",
       "  <tbody>\n",
       "    <tr>\n",
       "      <th>2019-11-17 19:57:12-06:00</th>\n",
       "      <td>tell jennifer williams whoever that is to read...</td>\n",
       "      <td>2019-11-17 19:57:12-06:00</td>\n",
       "      <td>2019-11-18</td>\n",
       "    </tr>\n",
       "    <tr>\n",
       "      <th>2019-11-17 19:56:02-06:00</th>\n",
       "      <td></td>\n",
       "      <td>2019-11-17 19:56:02-06:00</td>\n",
       "      <td>2019-11-18</td>\n",
       "    </tr>\n",
       "    <tr>\n",
       "      <th>2019-11-17 19:49:47-06:00</th>\n",
       "      <td>paul krugman of has been wrong about me from t...</td>\n",
       "      <td>2019-11-17 19:49:47-06:00</td>\n",
       "      <td>2019-11-18</td>\n",
       "    </tr>\n",
       "    <tr>\n",
       "      <th>2019-11-17 19:47:32-06:00</th>\n",
       "      <td>schiff is a corrupt politician</td>\n",
       "      <td>2019-11-17 19:47:32-06:00</td>\n",
       "      <td>2019-11-18</td>\n",
       "    </tr>\n",
       "    <tr>\n",
       "      <th>2019-11-17 19:30:09-06:00</th>\n",
       "      <td>blew the nasty amp obnoxious chris wallace wil...</td>\n",
       "      <td>2019-11-17 19:30:09-06:00</td>\n",
       "      <td>2019-11-18</td>\n",
       "    </tr>\n",
       "  </tbody>\n",
       "</table>\n",
       "</div>"
      ],
      "text/plain": [
       "                                                                      tweets  \\\n",
       "timestamp                                                                      \n",
       "2019-11-17 19:57:12-06:00  tell jennifer williams whoever that is to read...   \n",
       "2019-11-17 19:56:02-06:00                                                      \n",
       "2019-11-17 19:49:47-06:00  paul krugman of has been wrong about me from t...   \n",
       "2019-11-17 19:47:32-06:00                    schiff is a corrupt politician    \n",
       "2019-11-17 19:30:09-06:00  blew the nasty amp obnoxious chris wallace wil...   \n",
       "\n",
       "                                          timestamp after4_date  \n",
       "timestamp                                                        \n",
       "2019-11-17 19:57:12-06:00 2019-11-17 19:57:12-06:00  2019-11-18  \n",
       "2019-11-17 19:56:02-06:00 2019-11-17 19:56:02-06:00  2019-11-18  \n",
       "2019-11-17 19:49:47-06:00 2019-11-17 19:49:47-06:00  2019-11-18  \n",
       "2019-11-17 19:47:32-06:00 2019-11-17 19:47:32-06:00  2019-11-18  \n",
       "2019-11-17 19:30:09-06:00 2019-11-17 19:30:09-06:00  2019-11-18  "
      ]
     },
     "execution_count": 6,
     "metadata": {},
     "output_type": "execute_result"
    }
   ],
   "source": [
    "data.clean_tweets.head()"
   ]
  },
  {
   "cell_type": "code",
   "execution_count": 7,
   "metadata": {},
   "outputs": [
    {
     "data": {
      "text/plain": [
       "'tell jennifer williams whoever that is to read both transcripts of the presidential calls amp see th'"
      ]
     },
     "execution_count": 7,
     "metadata": {},
     "output_type": "execute_result"
    }
   ],
   "source": [
    "data.text[0:100]"
   ]
  },
  {
   "cell_type": "code",
   "execution_count": 8,
   "metadata": {},
   "outputs": [
    {
     "data": {
      "text/plain": [
       "['tell',\n",
       " 'jennifer',\n",
       " 'williams',\n",
       " 'whoever',\n",
       " 'that',\n",
       " 'is',\n",
       " 'to',\n",
       " 'read',\n",
       " 'both',\n",
       " 'transcripts']"
      ]
     },
     "execution_count": 8,
     "metadata": {},
     "output_type": "execute_result"
    }
   ],
   "source": [
    "data.words[0:10]"
   ]
  },
  {
   "cell_type": "code",
   "execution_count": 9,
   "metadata": {},
   "outputs": [
    {
     "data": {
      "text/plain": [
       "[563, 5087, 2287, 3818, 14, 5, 1, 341, 305, 2508]"
      ]
     },
     "execution_count": 9,
     "metadata": {},
     "output_type": "execute_result"
    }
   ],
   "source": [
    "data.int_words[0:10]"
   ]
  }
 ],
 "metadata": {
  "kernelspec": {
   "display_name": "Python 3",
   "language": "python",
   "name": "python3"
  },
  "language_info": {
   "codemirror_mode": {
    "name": "ipython",
    "version": 3
   },
   "file_extension": ".py",
   "mimetype": "text/x-python",
   "name": "python",
   "nbconvert_exporter": "python",
   "pygments_lexer": "ipython3",
   "version": "3.7.4"
  }
 },
 "nbformat": 4,
 "nbformat_minor": 2
}
