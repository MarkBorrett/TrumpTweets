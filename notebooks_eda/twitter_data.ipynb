{
 "cells": [
  {
   "cell_type": "code",
   "execution_count": 2,
   "metadata": {},
   "outputs": [],
   "source": [
    "from project_helper import TweetData\n",
    "import json\n",
    "import csv"
   ]
  },
  {
   "cell_type": "markdown",
   "metadata": {},
   "source": [
    "# Twitter Data"
   ]
  },
  {
   "cell_type": "markdown",
   "metadata": {},
   "source": [
    "This notebook shows how the TweetData class works. The TweetData class is implemented in project_helper.py. the class reads, parses and cleans all of Trump's tweets, and will be used extensively throughout the project.\n",
    "\n",
    "There's two possible sources for Trump's tweets: the Twitter API and Trump Twitter Archive. Even though we scraped the tweets directly with the Tweeter API, we found that the data from the Trump Twitter archive was easier to use and clean, and that the timestamps provided by the dataset were reliable."
   ]
  },
  {
   "cell_type": "markdown",
   "metadata": {},
   "source": [
    "# Trump Twitter Archive\n",
    "\n",
    "http://www.trumptwitterarchive.com/archive\n"
   ]
  },
  {
   "cell_type": "code",
   "execution_count": 3,
   "metadata": {},
   "outputs": [],
   "source": [
    "data = TweetData()"
   ]
  },
  {
   "cell_type": "code",
   "execution_count": 4,
   "metadata": {},
   "outputs": [
    {
     "data": {
      "text/plain": [
       "['\"DEMOCRATS WANT TO STEAL THE ELECTION! #KAG2020 https://t.co/hz6fWLId3L,10-02-2019 23:41:51\"\\n',\n",
       " '\"Mississippi there is a VERY important election for Governor on November 5th. I need you to Get Out and Vote for our Great Republican nominee @TateReeves. Tate is strong on Crime tough on Illegal Immigration and will protect your Second Amendment....,10-02-2019 23:27:52\"\\n',\n",
       " '\"....He loves our Military and supports our Vets! Democrat Jim Hood will never give us his vote is anti-Trump and pro-Crooked Hillary. Get Out and Vote for Tate Reeves on November 5th. He has my Complete &amp; Total Endorsement!,10-02-2019 23:27:52\"\\n',\n",
       " '\"LOOK AT THIS PHOTOGRAPH! https://t.co/QQYTqG4KTt,10-02-2019 21:06:36\"\\n',\n",
       " '\"“Schiff House Intel Chairman Got Early Account of Whistle-Blower’s Accusations” SCHIFF IS A FRAUD! https://t.co/BNXiq5dsXg https://t.co/PHdh8PBTGb,10-02-2019 19:51:56\"\\n']"
      ]
     },
     "execution_count": 4,
     "metadata": {},
     "output_type": "execute_result"
    }
   ],
   "source": [
    "raw_data = data.raw_data\n",
    "raw_data[0:5]"
   ]
  },
  {
   "cell_type": "code",
   "execution_count": 7,
   "metadata": {},
   "outputs": [
    {
     "data": {
      "text/plain": [
       "{5392: 'When and where will all of the many conflicts of \"\\n',\n",
       " 27442: \"My interview which recently aired on CNBC's Squawk Box   http://t.co/VNbgG0iU\\n\",\n",
       " 27566: 'http://goo.gl/AMNEE Countdown to @AmericaNowRadio as my former\\n',\n",
       " 27590: 'http://bit.ly/pwgGsQ \\n',\n",
       " 27591: '\\n',\n",
       " 27592: 'http://bit.ly/pwgGsQ \\n',\n",
       " 27593: '\\n',\n",
       " 27594: '\\n'}"
      ]
     },
     "execution_count": 7,
     "metadata": {},
     "output_type": "execute_result"
    }
   ],
   "source": [
    "data.error_tweets"
   ]
  },
  {
   "cell_type": "code",
   "execution_count": 9,
   "metadata": {},
   "outputs": [
    {
     "data": {
      "text/html": [
       "<div>\n",
       "<style scoped>\n",
       "    .dataframe tbody tr th:only-of-type {\n",
       "        vertical-align: middle;\n",
       "    }\n",
       "\n",
       "    .dataframe tbody tr th {\n",
       "        vertical-align: top;\n",
       "    }\n",
       "\n",
       "    .dataframe thead th {\n",
       "        text-align: right;\n",
       "    }\n",
       "</style>\n",
       "<table border=\"1\" class=\"dataframe\">\n",
       "  <thead>\n",
       "    <tr style=\"text-align: right;\">\n",
       "      <th></th>\n",
       "      <th>tweets</th>\n",
       "    </tr>\n",
       "    <tr>\n",
       "      <th>timestamp</th>\n",
       "      <th></th>\n",
       "    </tr>\n",
       "  </thead>\n",
       "  <tbody>\n",
       "    <tr>\n",
       "      <th>2019-10-02 23:41:51-05:00</th>\n",
       "      <td>\"DEMOCRATS WANT TO STEAL THE ELECTION! #KAG202...</td>\n",
       "    </tr>\n",
       "    <tr>\n",
       "      <th>2019-10-02 23:27:52-05:00</th>\n",
       "      <td>\"Mississippi there is a VERY important electio...</td>\n",
       "    </tr>\n",
       "    <tr>\n",
       "      <th>2019-10-02 23:27:52-05:00</th>\n",
       "      <td>\"....He loves our Military and supports our Ve...</td>\n",
       "    </tr>\n",
       "    <tr>\n",
       "      <th>2019-10-02 21:06:36-05:00</th>\n",
       "      <td>\"LOOK AT THIS PHOTOGRAPH! https://t.co/QQYTqG4KTt</td>\n",
       "    </tr>\n",
       "    <tr>\n",
       "      <th>2019-10-02 19:51:56-05:00</th>\n",
       "      <td>\"“Schiff House Intel Chairman Got Early Accoun...</td>\n",
       "    </tr>\n",
       "  </tbody>\n",
       "</table>\n",
       "</div>"
      ],
      "text/plain": [
       "                                                                      tweets\n",
       "timestamp                                                                   \n",
       "2019-10-02 23:41:51-05:00  \"DEMOCRATS WANT TO STEAL THE ELECTION! #KAG202...\n",
       "2019-10-02 23:27:52-05:00  \"Mississippi there is a VERY important electio...\n",
       "2019-10-02 23:27:52-05:00  \"....He loves our Military and supports our Ve...\n",
       "2019-10-02 21:06:36-05:00  \"LOOK AT THIS PHOTOGRAPH! https://t.co/QQYTqG4KTt\n",
       "2019-10-02 19:51:56-05:00  \"“Schiff House Intel Chairman Got Early Accoun..."
      ]
     },
     "execution_count": 9,
     "metadata": {},
     "output_type": "execute_result"
    }
   ],
   "source": [
    "data.raw_tweets.head()"
   ]
  },
  {
   "cell_type": "code",
   "execution_count": 10,
   "metadata": {},
   "outputs": [
    {
     "data": {
      "text/html": [
       "<div>\n",
       "<style scoped>\n",
       "    .dataframe tbody tr th:only-of-type {\n",
       "        vertical-align: middle;\n",
       "    }\n",
       "\n",
       "    .dataframe tbody tr th {\n",
       "        vertical-align: top;\n",
       "    }\n",
       "\n",
       "    .dataframe thead th {\n",
       "        text-align: right;\n",
       "    }\n",
       "</style>\n",
       "<table border=\"1\" class=\"dataframe\">\n",
       "  <thead>\n",
       "    <tr style=\"text-align: right;\">\n",
       "      <th></th>\n",
       "      <th>tweets</th>\n",
       "    </tr>\n",
       "    <tr>\n",
       "      <th>timestamp</th>\n",
       "      <th></th>\n",
       "    </tr>\n",
       "  </thead>\n",
       "  <tbody>\n",
       "    <tr>\n",
       "      <th>2019-10-02 23:41:51-05:00</th>\n",
       "      <td>democrats want to steal the election</td>\n",
       "    </tr>\n",
       "    <tr>\n",
       "      <th>2019-10-02 23:27:52-05:00</th>\n",
       "      <td>mississippi there is a very important election...</td>\n",
       "    </tr>\n",
       "    <tr>\n",
       "      <th>2019-10-02 23:27:52-05:00</th>\n",
       "      <td>he loves our military and supports our vets de...</td>\n",
       "    </tr>\n",
       "    <tr>\n",
       "      <th>2019-10-02 21:06:36-05:00</th>\n",
       "      <td>look at this photograph</td>\n",
       "    </tr>\n",
       "    <tr>\n",
       "      <th>2019-10-02 19:51:56-05:00</th>\n",
       "      <td>schiff house intel chairman got early account ...</td>\n",
       "    </tr>\n",
       "  </tbody>\n",
       "</table>\n",
       "</div>"
      ],
      "text/plain": [
       "                                                                      tweets\n",
       "timestamp                                                                   \n",
       "2019-10-02 23:41:51-05:00              democrats want to steal the election \n",
       "2019-10-02 23:27:52-05:00  mississippi there is a very important election...\n",
       "2019-10-02 23:27:52-05:00  he loves our military and supports our vets de...\n",
       "2019-10-02 21:06:36-05:00                           look at this photograph \n",
       "2019-10-02 19:51:56-05:00  schiff house intel chairman got early account ..."
      ]
     },
     "execution_count": 10,
     "metadata": {},
     "output_type": "execute_result"
    }
   ],
   "source": [
    "data.clean_tweets.head()"
   ]
  },
  {
   "cell_type": "code",
   "execution_count": 11,
   "metadata": {},
   "outputs": [
    {
     "data": {
      "text/plain": [
       "'democrats want to steal the election mississippi there is a very important election for governor on '"
      ]
     },
     "execution_count": 11,
     "metadata": {},
     "output_type": "execute_result"
    }
   ],
   "source": [
    "data.text[0:100]"
   ]
  },
  {
   "cell_type": "code",
   "execution_count": 13,
   "metadata": {},
   "outputs": [
    {
     "data": {
      "text/plain": [
       "['democrats',\n",
       " 'want',\n",
       " 'to',\n",
       " 'steal',\n",
       " 'the',\n",
       " 'election',\n",
       " 'mississippi',\n",
       " 'there',\n",
       " 'is',\n",
       " 'a']"
      ]
     },
     "execution_count": 13,
     "metadata": {},
     "output_type": "execute_result"
    }
   ],
   "source": [
    "data.words[0:10]"
   ]
  },
  {
   "cell_type": "code",
   "execution_count": 15,
   "metadata": {},
   "outputs": [
    {
     "data": {
      "text/plain": [
       "[96, 101, 1, 2369, 0, 149, 1896, 77, 5, 3]"
      ]
     },
     "execution_count": 15,
     "metadata": {},
     "output_type": "execute_result"
    }
   ],
   "source": [
    "data.int_words[0:10]"
   ]
  },
  {
   "cell_type": "markdown",
   "metadata": {},
   "source": [
    "# Twitter API\n",
    "\n",
    "- The code in this link can be helpful to scrape twits over a long time period.\n",
    "https://github.com/bpb27/twitter_scraping\n",
    "\n",
    "- There's a bug in the last part of the code in the website. Below is a  correction."
   ]
  },
  {
   "cell_type": "code",
   "execution_count": null,
   "metadata": {},
   "outputs": [],
   "source": [
    "output_file_short = 'realdonaldtrump_short.json'\n",
    "user = 'trumptwits'"
   ]
  },
  {
   "cell_type": "code",
   "execution_count": null,
   "metadata": {},
   "outputs": [],
   "source": [
    "with open(output_file_short) as master_file:\n",
    "    data = json.load(master_file)\n",
    "with open('{}.csv'.format(user), 'w') as write_file:\n",
    "    fields = [\"text\", \"time\"]\n",
    "    print('creating CSV version of minimized json master file')    \n",
    "    f = csv.writer(write_file)\n",
    "    f.writerow(fields)\n",
    "    for x in data:\n",
    "        f.writerow([x[\"text\"].encode('unicode_escape'), x[\"created_at\"]])\n",
    "    print(\"Done\")"
   ]
  }
 ],
 "metadata": {
  "kernelspec": {
   "display_name": "Python 3",
   "language": "python",
   "name": "python3"
  },
  "language_info": {
   "codemirror_mode": {
    "name": "ipython",
    "version": 3
   },
   "file_extension": ".py",
   "mimetype": "text/x-python",
   "name": "python",
   "nbconvert_exporter": "python",
   "pygments_lexer": "ipython3",
   "version": "3.7.4"
  }
 },
 "nbformat": 4,
 "nbformat_minor": 2
}
