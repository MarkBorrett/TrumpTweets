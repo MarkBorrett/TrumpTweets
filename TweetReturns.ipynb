{
 "cells": [
  {
   "cell_type": "code",
   "execution_count": 2,
   "metadata": {},
   "outputs": [],
   "source": [
    "from project_helper import TweetData, IntradayData, FuturesCloseData\n",
    "import pandas as pd\n",
    "import numpy as np\n",
    "from pytz import timezone\n",
    "import datetime\n",
    "from datetime import timedelta  \n",
    "from tqdm import tqdm\n",
    "import copy\n",
    "import matplotlib.pyplot as plt\n",
    "\n",
    "import warnings\n",
    "warnings.filterwarnings(\"ignore\")"
   ]
  },
  {
   "cell_type": "code",
   "execution_count": 3,
   "metadata": {},
   "outputs": [
    {
     "data": {
      "text/plain": [
       "-0.003912543153049482"
      ]
     },
     "execution_count": 3,
     "metadata": {},
     "output_type": "execute_result"
    }
   ],
   "source": [
    "instrument_list = ['ES', 'NQ', 'CD', 'EC', 'JY', 'MP', 'TY', 'US', 'C', 'S', 'W', 'CL', 'GC']\n",
    "tweet_data = TweetData()\n",
    "fc = FuturesCloseData()\n",
    "fc.returns('ES',0,1).loc[pd.to_datetime('2016-10-03')]"
   ]
  },
  {
   "cell_type": "markdown",
   "metadata": {},
   "source": [
    "Creating a pandas dataframe with daily log returns for all assets, and a text column which contains all tweets in that day (market close to market close)"
   ]
  },
  {
   "cell_type": "code",
   "execution_count": 4,
   "metadata": {},
   "outputs": [],
   "source": [
    "daily_df = pd.read_csv('combined_daily_tweets.csv', header=None)\n",
    "daily_df.columns =['date','text']\n",
    "daily_df.date = pd.to_datetime(daily_df.date)\n",
    "daily_df = daily_df.set_index('date')\n",
    "# Start of training period\n",
    "daily_df = daily_df[daily_df.index >= pd.to_datetime('2016-10-03')]\n",
    "# Dropping NAs, ie days with no returns, like weekends and holidays\n",
    "daily_df = daily_df.join(fc.log_returns()).dropna()"
   ]
  },
  {
   "cell_type": "code",
   "execution_count": 5,
   "metadata": {},
   "outputs": [
    {
     "data": {
      "text/html": [
       "<div>\n",
       "<style scoped>\n",
       "    .dataframe tbody tr th:only-of-type {\n",
       "        vertical-align: middle;\n",
       "    }\n",
       "\n",
       "    .dataframe tbody tr th {\n",
       "        vertical-align: top;\n",
       "    }\n",
       "\n",
       "    .dataframe thead th {\n",
       "        text-align: right;\n",
       "    }\n",
       "</style>\n",
       "<table border=\"1\" class=\"dataframe\">\n",
       "  <thead>\n",
       "    <tr style=\"text-align: right;\">\n",
       "      <th></th>\n",
       "      <th>text</th>\n",
       "      <th>ES</th>\n",
       "      <th>NQ</th>\n",
       "      <th>CD</th>\n",
       "      <th>EC</th>\n",
       "      <th>JY</th>\n",
       "      <th>MP</th>\n",
       "      <th>TY</th>\n",
       "      <th>US</th>\n",
       "      <th>C</th>\n",
       "      <th>S</th>\n",
       "      <th>W</th>\n",
       "      <th>CL</th>\n",
       "      <th>GC</th>\n",
       "    </tr>\n",
       "    <tr>\n",
       "      <th>date</th>\n",
       "      <th></th>\n",
       "      <th></th>\n",
       "      <th></th>\n",
       "      <th></th>\n",
       "      <th></th>\n",
       "      <th></th>\n",
       "      <th></th>\n",
       "      <th></th>\n",
       "      <th></th>\n",
       "      <th></th>\n",
       "      <th></th>\n",
       "      <th></th>\n",
       "      <th></th>\n",
       "      <th></th>\n",
       "    </tr>\n",
       "  </thead>\n",
       "  <tbody>\n",
       "    <tr>\n",
       "      <th>2016-10-03</th>\n",
       "      <td>join me in henderson nevada on wednesday at am...</td>\n",
       "      <td>-0.003920</td>\n",
       "      <td>-0.001624</td>\n",
       "      <td>-0.006520</td>\n",
       "      <td>-0.001899</td>\n",
       "      <td>-0.011445</td>\n",
       "      <td>0.000233</td>\n",
       "      <td>-0.003515</td>\n",
       "      <td>-0.010427</td>\n",
       "      <td>0.005206</td>\n",
       "      <td>-0.007537</td>\n",
       "      <td>-0.000405</td>\n",
       "      <td>-0.002218</td>\n",
       "      <td>-0.031237</td>\n",
       "    </tr>\n",
       "    <tr>\n",
       "      <th>2016-10-04</th>\n",
       "      <td>join me in reno nevada on wednesday at pm at t...</td>\n",
       "      <td>0.003920</td>\n",
       "      <td>0.003147</td>\n",
       "      <td>0.002264</td>\n",
       "      <td>0.001239</td>\n",
       "      <td>-0.007687</td>\n",
       "      <td>0.005585</td>\n",
       "      <td>-0.002188</td>\n",
       "      <td>-0.004647</td>\n",
       "      <td>-0.001559</td>\n",
       "      <td>-0.004984</td>\n",
       "      <td>0.014093</td>\n",
       "      <td>0.020876</td>\n",
       "      <td>-0.000812</td>\n",
       "    </tr>\n",
       "    <tr>\n",
       "      <th>2016-10-05</th>\n",
       "      <td>the constant interruptions last night by tim k...</td>\n",
       "      <td>0.001495</td>\n",
       "      <td>-0.000295</td>\n",
       "      <td>-0.004598</td>\n",
       "      <td>-0.006168</td>\n",
       "      <td>-0.004767</td>\n",
       "      <td>-0.001626</td>\n",
       "      <td>-0.002071</td>\n",
       "      <td>-0.004262</td>\n",
       "      <td>-0.015195</td>\n",
       "      <td>0.001086</td>\n",
       "      <td>-0.014093</td>\n",
       "      <td>0.010994</td>\n",
       "      <td>-0.011587</td>\n",
       "    </tr>\n",
       "  </tbody>\n",
       "</table>\n",
       "</div>"
      ],
      "text/plain": [
       "                                                         text        ES  \\\n",
       "date                                                                      \n",
       "2016-10-03  join me in henderson nevada on wednesday at am... -0.003920   \n",
       "2016-10-04  join me in reno nevada on wednesday at pm at t...  0.003920   \n",
       "2016-10-05  the constant interruptions last night by tim k...  0.001495   \n",
       "\n",
       "                  NQ        CD        EC        JY        MP        TY  \\\n",
       "date                                                                     \n",
       "2016-10-03 -0.001624 -0.006520 -0.001899 -0.011445  0.000233 -0.003515   \n",
       "2016-10-04  0.003147  0.002264  0.001239 -0.007687  0.005585 -0.002188   \n",
       "2016-10-05 -0.000295 -0.004598 -0.006168 -0.004767 -0.001626 -0.002071   \n",
       "\n",
       "                  US         C         S         W        CL        GC  \n",
       "date                                                                    \n",
       "2016-10-03 -0.010427  0.005206 -0.007537 -0.000405 -0.002218 -0.031237  \n",
       "2016-10-04 -0.004647 -0.001559 -0.004984  0.014093  0.020876 -0.000812  \n",
       "2016-10-05 -0.004262 -0.015195  0.001086 -0.014093  0.010994 -0.011587  "
      ]
     },
     "execution_count": 5,
     "metadata": {},
     "output_type": "execute_result"
    }
   ],
   "source": [
    "daily_df.head(3)"
   ]
  },
  {
   "cell_type": "markdown",
   "metadata": {},
   "source": [
    "- Creating dataframe with indices all the words in Trump's vocabulary, and rows the 1 day returns for each word for each day\n",
    "- I clipped the return at 0.5% to avoid days with very large returns dominating the singal"
   ]
  },
  {
   "cell_type": "code",
   "execution_count": 6,
   "metadata": {},
   "outputs": [
    {
     "name": "stderr",
     "output_type": "stream",
     "text": [
      "  0%|                                                  | 0/770 [00:00<?, ?it/s]C:\\Users\\PC\\Anaconda3\\envs\\cs109a\\lib\\site-packages\\pandas\\core\\indexing.py:190: SettingWithCopyWarning: \n",
      "A value is trying to be set on a copy of a slice from a DataFrame\n",
      "\n",
      "See the caveats in the documentation: http://pandas.pydata.org/pandas-docs/stable/indexing.html#indexing-view-versus-copy\n",
      "  self._setitem_with_indexer(indexer, value)\n",
      "100%|████████████████████████████████████████| 770/770 [01:55<00:00,  5.53it/s]\n",
      "100%|████████████████████████████████████████| 770/770 [01:55<00:00,  5.38it/s]\n",
      "100%|████████████████████████████████████████| 770/770 [01:55<00:00,  5.49it/s]\n",
      "100%|████████████████████████████████████████| 770/770 [01:55<00:00,  5.65it/s]\n",
      "100%|████████████████████████████████████████| 770/770 [01:54<00:00,  5.66it/s]\n",
      "100%|████████████████████████████████████████| 770/770 [01:55<00:00,  5.49it/s]\n",
      "100%|████████████████████████████████████████| 770/770 [01:54<00:00,  5.64it/s]\n",
      "100%|████████████████████████████████████████| 770/770 [01:55<00:00,  5.56it/s]\n",
      "100%|████████████████████████████████████████| 770/770 [01:55<00:00,  5.48it/s]\n",
      "100%|████████████████████████████████████████| 770/770 [01:55<00:00,  5.60it/s]\n",
      "100%|████████████████████████████████████████| 770/770 [01:56<00:00,  5.38it/s]\n",
      "100%|████████████████████████████████████████| 770/770 [01:55<00:00,  5.39it/s]\n",
      "100%|████████████████████████████████████████| 770/770 [01:48<00:00,  6.19it/s]\n"
     ]
    }
   ],
   "source": [
    "word_ret_dict = {}\n",
    "for inst in instrument_list:\n",
    "\n",
    "    word_ret_df = pd.DataFrame(index = list(set(tweet_data.clean_tweets.tweets.str.cat(sep=' ').split())), \n",
    "                               columns = range(len(daily_df.index)))\n",
    "    word_ret_df = word_ret_df.fillna(0)\n",
    "    for i in tqdm(range(word_ret_df.shape[1])):\n",
    "        num = daily_df[inst][i].clip(-0.05,0.05)\n",
    "        word_ret_df[i].loc[daily_df.text[i].split()] = num\n",
    "    word_ret_dict[inst] = word_ret_df"
   ]
  },
  {
   "cell_type": "markdown",
   "metadata": {},
   "source": [
    "Creating a dataframe with mean cumulative returns from the dataframes created above. "
   ]
  },
  {
   "cell_type": "code",
   "execution_count": 9,
   "metadata": {},
   "outputs": [],
   "source": [
    "word_ret_cum_mean_dict = {}\n",
    "for inst in tqdm(instrument_list):\n",
    "    word_ret_cum_mean_dict[inst] = word_ret_dict[inst].cumsum(axis=1)/np.arange(1,word_ret_dict[inst].shape[1]+1)"
   ]
  },
  {
   "cell_type": "markdown",
   "metadata": {},
   "source": [
    "Mean cumulative returns for daily tweets in the last day of the dataset, for S&P500 futures, sorted"
   ]
  },
  {
   "cell_type": "code",
   "execution_count": 14,
   "metadata": {},
   "outputs": [
    {
     "data": {
      "text/plain": [
       "getting    -0.000252\n",
       "happy      -0.000238\n",
       "paying     -0.000202\n",
       "against    -0.000177\n",
       "support    -0.000175\n",
       "farmers    -0.000172\n",
       "pelosi     -0.000172\n",
       "spending   -0.000166\n",
       "just       -0.000165\n",
       "billion    -0.000163\n",
       "Name: 769, dtype: float64"
      ]
     },
     "execution_count": 14,
     "metadata": {},
     "output_type": "execute_result"
    }
   ],
   "source": [
    "word_ret_cum_mean_dict['ES'][769].sort_values().head(10)"
   ]
  },
  {
   "cell_type": "markdown",
   "metadata": {},
   "source": [
    "- Creating feature: Average cumulative word returns as of yesterday, for every word in the daily tweets. This is a return for all the words Trump tweeted in a day. \n",
    "- Considering only days where he tweeted more than 10 words to avoid noise of single word returns."
   ]
  },
  {
   "cell_type": "code",
   "execution_count": 17,
   "metadata": {},
   "outputs": [
    {
     "name": "stderr",
     "output_type": "stream",
     "text": [
      "100%|██████████████████████████████████████████| 13/13 [00:12<00:00,  1.00s/it]\n"
     ]
    }
   ],
   "source": [
    "for inst in tqdm(instrument_list):\n",
    "    vc = np.zeros(daily_df.shape[0])\n",
    "    for i in range(1, daily_df.shape[0]):\n",
    "        sp = daily_df.text[i].split()\n",
    "        if len(sp) <=10:\n",
    "            vc[i] = 0\n",
    "        else:\n",
    "            vc[i]= sum(word_ret_cum_mean_dict[inst][i-1].loc[sp]/len(sp))\n",
    "    daily_df['{}_trump_ret_d'.format(inst)] = vc"
   ]
  },
  {
   "cell_type": "code",
   "execution_count": 19,
   "metadata": {},
   "outputs": [
    {
     "data": {
      "text/plain": [
       "Index(['text', 'ES', 'NQ', 'CD', 'EC', 'JY', 'MP', 'TY', 'US', 'C', 'S', 'W',\n",
       "       'CL', 'GC', 'ES_trump_ret_d', 'NQ_trump_ret_d', 'CD_trump_ret_d',\n",
       "       'EC_trump_ret_d', 'JY_trump_ret_d', 'MP_trump_ret_d', 'TY_trump_ret_d',\n",
       "       'US_trump_ret_d', 'C_trump_ret_d', 'S_trump_ret_d', 'W_trump_ret_d',\n",
       "       'CL_trump_ret_d', 'GC_trump_ret_d'],\n",
       "      dtype='object')"
      ]
     },
     "execution_count": 19,
     "metadata": {},
     "output_type": "execute_result"
    }
   ],
   "source": [
    "daily_df.columns"
   ]
  },
  {
   "cell_type": "markdown",
   "metadata": {},
   "source": [
    "Now, we are going to get word returns for every tweet."
   ]
  },
  {
   "cell_type": "markdown",
   "metadata": {},
   "source": [
    "Getting single tweet data, with timestamp."
   ]
  },
  {
   "cell_type": "code",
   "execution_count": 20,
   "metadata": {},
   "outputs": [
    {
     "name": "stderr",
     "output_type": "stream",
     "text": [
      "C:\\Users\\PC\\Anaconda3\\envs\\cs109a\\lib\\site-packages\\pandas\\core\\generic.py:5096: SettingWithCopyWarning: \n",
      "A value is trying to be set on a copy of a slice from a DataFrame.\n",
      "Try using .loc[row_indexer,col_indexer] = value instead\n",
      "\n",
      "See the caveats in the documentation: http://pandas.pydata.org/pandas-docs/stable/indexing.html#indexing-view-versus-copy\n",
      "  self[name] = value\n"
     ]
    }
   ],
   "source": [
    "daily_tweets = tweet_data.clean_tweets[pd.to_datetime(tweet_data.clean_tweets.after4_date)\n",
    "                                       <= pd.to_datetime(daily_df.index[-1])]\n",
    "daily_tweets.after4_date = pd.to_datetime(daily_tweets.after4_date)"
   ]
  },
  {
   "cell_type": "code",
   "execution_count": 21,
   "metadata": {},
   "outputs": [
    {
     "data": {
      "text/html": [
       "<div>\n",
       "<style scoped>\n",
       "    .dataframe tbody tr th:only-of-type {\n",
       "        vertical-align: middle;\n",
       "    }\n",
       "\n",
       "    .dataframe tbody tr th {\n",
       "        vertical-align: top;\n",
       "    }\n",
       "\n",
       "    .dataframe thead th {\n",
       "        text-align: right;\n",
       "    }\n",
       "</style>\n",
       "<table border=\"1\" class=\"dataframe\">\n",
       "  <thead>\n",
       "    <tr style=\"text-align: right;\">\n",
       "      <th></th>\n",
       "      <th>tweets</th>\n",
       "      <th>timestamp</th>\n",
       "      <th>after4_date</th>\n",
       "    </tr>\n",
       "    <tr>\n",
       "      <th>timestamp</th>\n",
       "      <th></th>\n",
       "      <th></th>\n",
       "      <th></th>\n",
       "    </tr>\n",
       "  </thead>\n",
       "  <tbody>\n",
       "    <tr>\n",
       "      <th>2019-11-07 14:51:38-06:00</th>\n",
       "      <td>what did hunter biden do for the money a very ...</td>\n",
       "      <td>2019-11-07 14:51:38-06:00</td>\n",
       "      <td>2019-11-07</td>\n",
       "    </tr>\n",
       "    <tr>\n",
       "      <th>2019-11-07 14:00:34-06:00</th>\n",
       "      <td>based on the information released last night a...</td>\n",
       "      <td>2019-11-07 14:00:34-06:00</td>\n",
       "      <td>2019-11-07</td>\n",
       "    </tr>\n",
       "    <tr>\n",
       "      <th>2019-11-07 13:47:57-06:00</th>\n",
       "      <td>read the transcript</td>\n",
       "      <td>2019-11-07 13:47:57-06:00</td>\n",
       "      <td>2019-11-07</td>\n",
       "    </tr>\n",
       "    <tr>\n",
       "      <th>2019-11-07 13:46:30-06:00</th>\n",
       "      <td>the degenerate washington post made up the sto...</td>\n",
       "      <td>2019-11-07 13:46:30-06:00</td>\n",
       "      <td>2019-11-07</td>\n",
       "    </tr>\n",
       "    <tr>\n",
       "      <th>2019-11-07 12:28:41-06:00</th>\n",
       "      <td>bill barr did not decline my request to talk a...</td>\n",
       "      <td>2019-11-07 12:28:41-06:00</td>\n",
       "      <td>2019-11-07</td>\n",
       "    </tr>\n",
       "  </tbody>\n",
       "</table>\n",
       "</div>"
      ],
      "text/plain": [
       "                                                                      tweets  \\\n",
       "timestamp                                                                      \n",
       "2019-11-07 14:51:38-06:00  what did hunter biden do for the money a very ...   \n",
       "2019-11-07 14:00:34-06:00  based on the information released last night a...   \n",
       "2019-11-07 13:47:57-06:00                               read the transcript    \n",
       "2019-11-07 13:46:30-06:00  the degenerate washington post made up the sto...   \n",
       "2019-11-07 12:28:41-06:00  bill barr did not decline my request to talk a...   \n",
       "\n",
       "                                          timestamp after4_date  \n",
       "timestamp                                                        \n",
       "2019-11-07 14:51:38-06:00 2019-11-07 14:51:38-06:00  2019-11-07  \n",
       "2019-11-07 14:00:34-06:00 2019-11-07 14:00:34-06:00  2019-11-07  \n",
       "2019-11-07 13:47:57-06:00 2019-11-07 13:47:57-06:00  2019-11-07  \n",
       "2019-11-07 13:46:30-06:00 2019-11-07 13:46:30-06:00  2019-11-07  \n",
       "2019-11-07 12:28:41-06:00 2019-11-07 12:28:41-06:00  2019-11-07  "
      ]
     },
     "execution_count": 21,
     "metadata": {},
     "output_type": "execute_result"
    }
   ],
   "source": [
    "daily_tweets.head()"
   ]
  },
  {
   "cell_type": "markdown",
   "metadata": {},
   "source": [
    "Creating a dictionary of dates as keys and indices as values, to match the format of the return matrices above. Adding an indicator row to daily_tweets dataframe with the day, and then removing all days with no returns (like on weekends and holidays)"
   ]
  },
  {
   "cell_type": "code",
   "execution_count": 22,
   "metadata": {},
   "outputs": [
    {
     "name": "stderr",
     "output_type": "stream",
     "text": [
      "C:\\Users\\PC\\Anaconda3\\envs\\cs109a\\lib\\site-packages\\ipykernel_launcher.py:2: SettingWithCopyWarning: \n",
      "A value is trying to be set on a copy of a slice from a DataFrame.\n",
      "Try using .loc[row_indexer,col_indexer] = value instead\n",
      "\n",
      "See the caveats in the documentation: http://pandas.pydata.org/pandas-docs/stable/indexing.html#indexing-view-versus-copy\n",
      "  \n"
     ]
    }
   ],
   "source": [
    "date_dict = {date : i for i,date in enumerate(daily_df.index)}\n",
    "daily_tweets['ind']=[date_dict[date] if date in date_dict.keys() else 0 for date in daily_tweets.after4_date]\n",
    "daily_tweets = daily_tweets[daily_tweets.ind!=0]"
   ]
  },
  {
   "cell_type": "markdown",
   "metadata": {},
   "source": [
    "Calculating returns for every tweet"
   ]
  },
  {
   "cell_type": "code",
   "execution_count": 23,
   "metadata": {},
   "outputs": [
    {
     "name": "stderr",
     "output_type": "stream",
     "text": [
      "100%|██████████████████████████████████████████| 13/13 [00:59<00:00,  4.61s/it]\n"
     ]
    }
   ],
   "source": [
    "for inst in tqdm(instrument_list):\n",
    "    tc = np.zeros(daily_tweets.shape[0])\n",
    "    i = 0\n",
    "    for tweet, ind  in zip(daily_tweets.tweets,daily_tweets.ind):\n",
    "        tw = tweet.split()\n",
    "        if ind > 0:\n",
    "            if len(tw) <=10:\n",
    "                tc[i] = 0\n",
    "            else:\n",
    "                tc[i]= sum(word_ret_cum_mean_dict[inst][ind-1].loc[tw])\n",
    "        i = i+1\n",
    "    daily_tweets['{}_single_ret'.format(inst)] = tc\n",
    "    "
   ]
  },
  {
   "cell_type": "code",
   "execution_count": 24,
   "metadata": {},
   "outputs": [
    {
     "data": {
      "text/plain": [
       "Index(['tweets', 'timestamp', 'after4_date', 'ind', 'ES_single_ret',\n",
       "       'NQ_single_ret', 'CD_single_ret', 'EC_single_ret', 'JY_single_ret',\n",
       "       'MP_single_ret', 'TY_single_ret', 'US_single_ret', 'C_single_ret',\n",
       "       'S_single_ret', 'W_single_ret', 'CL_single_ret', 'GC_single_ret'],\n",
       "      dtype='object')"
      ]
     },
     "execution_count": 24,
     "metadata": {},
     "output_type": "execute_result"
    }
   ],
   "source": [
    "daily_tweets.columns"
   ]
  },
  {
   "cell_type": "markdown",
   "metadata": {},
   "source": [
    "Removing tweets with exactly zero return, which are most likely tweets with less than 10 words."
   ]
  },
  {
   "cell_type": "code",
   "execution_count": 26,
   "metadata": {},
   "outputs": [
    {
     "data": {
      "image/png": "[encoded data removed]",
      "text/plain": [
       "<Figure size 432x288 with 1 Axes>"
      ]
     },
     "metadata": {
      "needs_background": "light"
     },
     "output_type": "display_data"
    }
   ],
   "source": [
    "daily_tweets = daily_tweets[daily_tweets.ES_single_ret!=0]\n",
    "plt.plot(daily_tweets[daily_tweets.after4_date >= pd.to_datetime('2017-02-01')].ES_single_ret)\n",
    "final_daily_tweets = daily_tweets[daily_tweets.after4_date >= pd.to_datetime('2017-02-01')]"
   ]
  },
  {
   "cell_type": "markdown",
   "metadata": {},
   "source": [
    "The features: Return of the single tweet with the highest return yesterday and lowest return yesterday"
   ]
  },
  {
   "cell_type": "code",
   "execution_count": 27,
   "metadata": {},
   "outputs": [
    {
     "data": {
      "text/plain": [
       "[<matplotlib.lines.Line2D at 0x1d80a541788>]"
      ]
     },
     "execution_count": 27,
     "metadata": {},
     "output_type": "execute_result"
    },
    {
     "data": {
      "image/png": "[encoded data removed]",
      "text/plain": [
       "<Figure size 432x288 with 1 Axes>"
      ]
     },
     "metadata": {
      "needs_background": "light"
     },
     "output_type": "display_data"
    }
   ],
   "source": [
    "plt.plot(final_daily_tweets.groupby('after4_date').min().ES_single_ret)"
   ]
  },
  {
   "cell_type": "code",
   "execution_count": 28,
   "metadata": {},
   "outputs": [
    {
     "data": {
      "text/plain": [
       "[<matplotlib.lines.Line2D at 0x1d80a55c688>]"
      ]
     },
     "execution_count": 28,
     "metadata": {},
     "output_type": "execute_result"
    },
    {
     "data": {
      "image/png": "[encoded data removed]",
      "text/plain": [
       "<Figure size 432x288 with 1 Axes>"
      ]
     },
     "metadata": {
      "needs_background": "light"
     },
     "output_type": "display_data"
    }
   ],
   "source": [
    "plt.plot(final_daily_tweets.groupby('after4_date').max().ES_single_ret)"
   ]
  }
 ],
 "metadata": {
  "kernelspec": {
   "display_name": "Python [conda env:cs109]",
   "language": "python",
   "name": "conda-env-cs109-py"
  },
  "language_info": {
   "codemirror_mode": {
    "name": "ipython",
    "version": 3
   },
   "file_extension": ".py",
   "mimetype": "text/x-python",
   "name": "python",
   "nbconvert_exporter": "python",
   "pygments_lexer": "ipython3",
   "version": "3.6.9"
  }
 },
 "nbformat": 4,
 "nbformat_minor": 2
}
